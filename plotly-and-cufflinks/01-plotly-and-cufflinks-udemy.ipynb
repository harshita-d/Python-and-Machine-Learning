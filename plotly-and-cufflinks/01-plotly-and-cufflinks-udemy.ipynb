{
 "cells": [
  {
   "cell_type": "markdown",
   "metadata": {},
   "source": [
    "## Plotly"
   ]
  },
  {
   "cell_type": "markdown",
   "metadata": {},
   "source": [
    "It is interactive visiualisation library"
   ]
  },
  {
   "cell_type": "markdown",
   "metadata": {},
   "source": [
    "## Cufflinks"
   ]
  },
  {
   "cell_type": "markdown",
   "metadata": {},
   "source": [
    "It connects plotly with pandas"
   ]
  },
  {
   "cell_type": "code",
   "execution_count": 1,
   "metadata": {},
   "outputs": [],
   "source": [
    "import pandas as pd"
   ]
  },
  {
   "cell_type": "code",
   "execution_count": 2,
   "metadata": {},
   "outputs": [],
   "source": [
    "import numpy as np\n",
    "%matplotlib inline"
   ]
  },
  {
   "cell_type": "code",
   "execution_count": 3,
   "metadata": {},
   "outputs": [],
   "source": [
    "from plotly import __version__"
   ]
  },
  {
   "cell_type": "code",
   "execution_count": 4,
   "metadata": {},
   "outputs": [
    {
     "name": "stdout",
     "output_type": "stream",
     "text": [
      "4.6.0\n"
     ]
    }
   ],
   "source": [
    "print(__version__)"
   ]
  },
  {
   "cell_type": "code",
   "execution_count": 5,
   "metadata": {},
   "outputs": [],
   "source": [
    "import cufflinks as cf"
   ]
  },
  {
   "cell_type": "code",
   "execution_count": 6,
   "metadata": {},
   "outputs": [],
   "source": [
    "from plotly.offline import download_plotlyjs,init_notebook_mode,plot,iplot"
   ]
  },
  {
   "cell_type": "code",
   "execution_count": 7,
   "metadata": {},
   "outputs": [
    {
     "data": {
      "text/html": [
       "        <script type=\"text/javascript\">\n",
       "        window.PlotlyConfig = {MathJaxConfig: 'local'};\n",
       "        if (window.MathJax) {MathJax.Hub.Config({SVG: {font: \"STIX-Web\"}});}\n",
       "        if (typeof require !== 'undefined') {\n",
       "        require.undef(\"plotly\");\n",
       "        requirejs.config({\n",
       "            paths: {\n",
       "                'plotly': ['https://cdn.plot.ly/plotly-latest.min']\n",
       "            }\n",
       "        });\n",
       "        require(['plotly'], function(Plotly) {\n",
       "            window._Plotly = Plotly;\n",
       "        });\n",
       "        }\n",
       "        </script>\n",
       "        "
      ]
     },
     "metadata": {},
     "output_type": "display_data"
    }
   ],
   "source": [
    "init_notebook_mode(connected=True)\n",
    "#it connects pandas to interactive javascript lib"
   ]
  },
  {
   "cell_type": "code",
   "execution_count": 8,
   "metadata": {},
   "outputs": [
    {
     "data": {
      "text/html": [
       "        <script type=\"text/javascript\">\n",
       "        window.PlotlyConfig = {MathJaxConfig: 'local'};\n",
       "        if (window.MathJax) {MathJax.Hub.Config({SVG: {font: \"STIX-Web\"}});}\n",
       "        if (typeof require !== 'undefined') {\n",
       "        require.undef(\"plotly\");\n",
       "        requirejs.config({\n",
       "            paths: {\n",
       "                'plotly': ['https://cdn.plot.ly/plotly-latest.min']\n",
       "            }\n",
       "        });\n",
       "        require(['plotly'], function(Plotly) {\n",
       "            window._Plotly = Plotly;\n",
       "        });\n",
       "        }\n",
       "        </script>\n",
       "        "
      ]
     },
     "metadata": {},
     "output_type": "display_data"
    }
   ],
   "source": [
    "cf.go_offline()"
   ]
  },
  {
   "cell_type": "code",
   "execution_count": 9,
   "metadata": {},
   "outputs": [],
   "source": [
    "df=pd.DataFrame(np.random.randn(100,4),columns='A B C D'.split())"
   ]
  },
  {
   "cell_type": "code",
   "execution_count": 10,
   "metadata": {},
   "outputs": [
    {
     "data": {
      "text/html": [
       "<div>\n",
       "<style scoped>\n",
       "    .dataframe tbody tr th:only-of-type {\n",
       "        vertical-align: middle;\n",
       "    }\n",
       "\n",
       "    .dataframe tbody tr th {\n",
       "        vertical-align: top;\n",
       "    }\n",
       "\n",
       "    .dataframe thead th {\n",
       "        text-align: right;\n",
       "    }\n",
       "</style>\n",
       "<table border=\"1\" class=\"dataframe\">\n",
       "  <thead>\n",
       "    <tr style=\"text-align: right;\">\n",
       "      <th></th>\n",
       "      <th>A</th>\n",
       "      <th>B</th>\n",
       "      <th>C</th>\n",
       "      <th>D</th>\n",
       "    </tr>\n",
       "  </thead>\n",
       "  <tbody>\n",
       "    <tr>\n",
       "      <th>0</th>\n",
       "      <td>0.738485</td>\n",
       "      <td>-0.222462</td>\n",
       "      <td>0.332710</td>\n",
       "      <td>1.006990</td>\n",
       "    </tr>\n",
       "    <tr>\n",
       "      <th>1</th>\n",
       "      <td>-0.473970</td>\n",
       "      <td>-0.011663</td>\n",
       "      <td>-1.498973</td>\n",
       "      <td>-1.964224</td>\n",
       "    </tr>\n",
       "    <tr>\n",
       "      <th>2</th>\n",
       "      <td>-1.241085</td>\n",
       "      <td>0.700255</td>\n",
       "      <td>1.518380</td>\n",
       "      <td>1.365673</td>\n",
       "    </tr>\n",
       "    <tr>\n",
       "      <th>3</th>\n",
       "      <td>0.011239</td>\n",
       "      <td>-0.208860</td>\n",
       "      <td>-1.602062</td>\n",
       "      <td>-0.719389</td>\n",
       "    </tr>\n",
       "    <tr>\n",
       "      <th>4</th>\n",
       "      <td>-0.302313</td>\n",
       "      <td>0.278757</td>\n",
       "      <td>-0.122303</td>\n",
       "      <td>-0.817199</td>\n",
       "    </tr>\n",
       "  </tbody>\n",
       "</table>\n",
       "</div>"
      ],
      "text/plain": [
       "          A         B         C         D\n",
       "0  0.738485 -0.222462  0.332710  1.006990\n",
       "1 -0.473970 -0.011663 -1.498973 -1.964224\n",
       "2 -1.241085  0.700255  1.518380  1.365673\n",
       "3  0.011239 -0.208860 -1.602062 -0.719389\n",
       "4 -0.302313  0.278757 -0.122303 -0.817199"
      ]
     },
     "execution_count": 10,
     "metadata": {},
     "output_type": "execute_result"
    }
   ],
   "source": [
    "df.head()"
   ]
  },
  {
   "cell_type": "code",
   "execution_count": 11,
   "metadata": {},
   "outputs": [],
   "source": [
    "df2=pd.DataFrame({'Category':['A','B','C'],'Values':[32,43,50]})"
   ]
  },
  {
   "cell_type": "code",
   "execution_count": 12,
   "metadata": {},
   "outputs": [
    {
     "data": {
      "text/html": [
       "<div>\n",
       "<style scoped>\n",
       "    .dataframe tbody tr th:only-of-type {\n",
       "        vertical-align: middle;\n",
       "    }\n",
       "\n",
       "    .dataframe tbody tr th {\n",
       "        vertical-align: top;\n",
       "    }\n",
       "\n",
       "    .dataframe thead th {\n",
       "        text-align: right;\n",
       "    }\n",
       "</style>\n",
       "<table border=\"1\" class=\"dataframe\">\n",
       "  <thead>\n",
       "    <tr style=\"text-align: right;\">\n",
       "      <th></th>\n",
       "      <th>Category</th>\n",
       "      <th>Values</th>\n",
       "    </tr>\n",
       "  </thead>\n",
       "  <tbody>\n",
       "    <tr>\n",
       "      <th>0</th>\n",
       "      <td>A</td>\n",
       "      <td>32</td>\n",
       "    </tr>\n",
       "    <tr>\n",
       "      <th>1</th>\n",
       "      <td>B</td>\n",
       "      <td>43</td>\n",
       "    </tr>\n",
       "    <tr>\n",
       "      <th>2</th>\n",
       "      <td>C</td>\n",
       "      <td>50</td>\n",
       "    </tr>\n",
       "  </tbody>\n",
       "</table>\n",
       "</div>"
      ],
      "text/plain": [
       "  Category  Values\n",
       "0        A      32\n",
       "1        B      43\n",
       "2        C      50"
      ]
     },
     "execution_count": 12,
     "metadata": {},
     "output_type": "execute_result"
    }
   ],
   "source": [
    "df2"
   ]
  },
  {
   "cell_type": "code",
   "execution_count": 13,
   "metadata": {},
   "outputs": [
    {
     "data": {
      "text/plain": [
       "<matplotlib.axes._subplots.AxesSubplot at 0x7fc3f70d7b50>"
      ]
     },
     "execution_count": 13,
     "metadata": {},
     "output_type": "execute_result"
    },
    {
     "data": {
      "image/png": "[encoded data removed]",
      "text/plain": [
       "<Figure size 432x288 with 1 Axes>"
      ]
     },
     "metadata": {
      "needs_background": "light"
     },
     "output_type": "display_data"
    }
   ],
   "source": [
    "df.plot()"
   ]
  },
  {
   "cell_type": "code",
   "execution_count": 14,
   "metadata": {},
   "outputs": [
    {
     "data": {
      "application/vnd.plotly.v1+json": {
       "config": {
        "linkText": "Export to plot.ly",
        "plotlyServerURL": "https://plot.ly",
        "showLink": true
       },
       "data": [
        {
         "line": {
          "color": "rgba(255, 153, 51, 1.0)",
          "dash": "solid",
          "shape": "linear",
          "width": 1.3
         },
         "mode": "lines",
         "name": "A",
         "text": "",
         "type": "scatter",
         "x": [
          0,
          1,
          2,
          3,
          4,
          5,
          6,
          7,
          8,
          9,
          10,
          11,
          12,
          13,
          14,
          15,
          16,
          17,
          18,
          19,
          20,
          21,
          22,
          23,
          24,
          25,
          26,
          27,
          28,
          29,
          30,
          31,
          32,
          33,
          34,
          35,
          36,
          37,
          38,
          39,
          40,
          41,
          42,
          43,
          44,
          45,
          46,
          47,
          48,
          49,
          50,
          51,
          52,
          53,
          54,
          55,
          56,
          57,
          58,
          59,
          60,
          61,
          62,
          63,
          64,
          65,
          66,
          67,
          68,
          69,
          70,
          71,
          72,
          73,
          74,
          75,
          76,
          77,
          78,
          79,
          80,
          81,
          82,
          83,
          84,
          85,
          86,
          87,
          88,
          89,
          90,
          91,
          92,
          93,
          94,
          95,
          96,
          97,
          98,
          99
         ],
         "y": [
          0.7384849679917865,
          -0.4739703576787497,
          -1.2410850999181424,
          0.011239248866355677,
          -0.3023127905230943,
          0.2363230440172158,
          -0.28402355339350155,
          0.9399206409610732,
          0.7622389377177152,
          0.9498089256425105,
          -1.6162083558302955,
          0.9646435176708447,
          0.6614496914739366,
          -1.716143334033692,
          -2.5356915148878794,
          -0.9617606145051862,
          0.008293435242292549,
          1.4810906706268816,
          0.6930911578507049,
          0.7517083996567843,
          1.6773600899238656,
          0.20023565995701395,
          -0.4862336432496669,
          0.6424563113780488,
          1.0529264632088229,
          -0.5194348158769179,
          0.5193794476182205,
          -0.2177636551563566,
          0.5730394684480788,
          0.8894265882891824,
          0.16574773044920646,
          -0.36556200969439046,
          -0.6371054172325357,
          1.1301373234143273,
          -0.3552754866053425,
          -0.7883959295021864,
          0.5859129449503426,
          -1.3343892432421331,
          -0.21179498740280153,
          0.8445155577573598,
          -1.0158186524593766,
          1.046865972107086,
          1.35629825666338,
          1.2275847492949927,
          -1.8092078608463722,
          0.3104716386755969,
          1.9439385481339027,
          -0.046302866157695736,
          0.9939623927497057,
          -1.5237946534936748,
          -1.3326917554580766,
          2.4142179028316892,
          0.04185598515241913,
          -2.1987326086021013,
          0.23139778756142068,
          0.9666403300832923,
          -0.24296102909533798,
          -0.6476057938239268,
          -0.16151360123863254,
          0.4793347634889624,
          0.6347851945989572,
          0.8434974936512513,
          1.002062963811421,
          1.2616989085150399,
          -0.4796951126108852,
          -1.0526870741532763,
          -1.19889718235249,
          -0.8743996784021727,
          0.9033046003458987,
          -1.514389455518979,
          -0.9101640903693848,
          1.3029787614274848,
          -0.574457267580267,
          -1.1532287536452923,
          -1.9252554195383396,
          1.5403188122329121,
          -0.6187670029735031,
          1.7146672083316403,
          1.2440564828005858,
          -0.0009091919227137812,
          1.1007579242326673,
          0.6006154386851078,
          -1.1507471833784182,
          -0.7789990876013348,
          -0.28419337049955345,
          1.0236872992597577,
          0.7399035390241175,
          0.1545230603764189,
          -1.2790224177216212,
          0.8595009913364225,
          0.2626145547074289,
          0.553328600134025,
          0.2672852048766201,
          -0.8914354807363999,
          0.5002622086866662,
          0.3346114667624826,
          -0.8529924982020634,
          1.339333316246086,
          0.5939467712682505,
          -1.3180613570001438
         ]
        },
        {
         "line": {
          "color": "rgba(55, 128, 191, 1.0)",
          "dash": "solid",
          "shape": "linear",
          "width": 1.3
         },
         "mode": "lines",
         "name": "B",
         "text": "",
         "type": "scatter",
         "x": [
          0,
          1,
          2,
          3,
          4,
          5,
          6,
          7,
          8,
          9,
          10,
          11,
          12,
          13,
          14,
          15,
          16,
          17,
          18,
          19,
          20,
          21,
          22,
          23,
          24,
          25,
          26,
          27,
          28,
          29,
          30,
          31,
          32,
          33,
          34,
          35,
          36,
          37,
          38,
          39,
          40,
          41,
          42,
          43,
          44,
          45,
          46,
          47,
          48,
          49,
          50,
          51,
          52,
          53,
          54,
          55,
          56,
          57,
          58,
          59,
          60,
          61,
          62,
          63,
          64,
          65,
          66,
          67,
          68,
          69,
          70,
          71,
          72,
          73,
          74,
          75,
          76,
          77,
          78,
          79,
          80,
          81,
          82,
          83,
          84,
          85,
          86,
          87,
          88,
          89,
          90,
          91,
          92,
          93,
          94,
          95,
          96,
          97,
          98,
          99
         ],
         "y": [
          -0.22246154249852684,
          -0.011662737015524104,
          0.7002550390215904,
          -0.2088604533672652,
          0.2787572766419977,
          0.34604688919031246,
          0.3289741381728799,
          -1.4546634160557221,
          0.6591005023770535,
          1.6307541996396775,
          0.3537425977973349,
          0.35489662287960494,
          -1.2552285412285955,
          0.7766227724788735,
          0.7313851441745576,
          0.17409712272179598,
          -0.558850148283852,
          -0.18278009610374715,
          -0.4385690580727113,
          -1.1979389827605196,
          0.21153250433833218,
          0.7543561045168725,
          0.10568114726276448,
          1.4740937158560674,
          0.9652011233966097,
          -0.23486161961194427,
          -1.389623772561859,
          0.30668566443217743,
          1.1120348830089202,
          0.46831830167324723,
          -0.5991384580070195,
          -0.7034819235937314,
          -0.005756903041385128,
          -1.1456182321306265,
          0.031447866394256334,
          1.4440326575276348,
          -0.1595369128971009,
          -0.46006264151509857,
          -1.2419810080488065,
          0.4424990438592372,
          -0.45458918117909897,
          0.07040854588577262,
          0.535026123128374,
          -2.7627953832152032,
          -0.3566709243240767,
          -0.2779553288515251,
          -0.5499009597665894,
          -0.1278460935717795,
          1.2186892425013678,
          -0.1565647499422839,
          -1.1879500510181082,
          -0.4304626168115283,
          0.4839416813547892,
          0.1542255059732776,
          -1.5231298483752214,
          1.5886158111510897,
          1.1141356720888698,
          -0.7321655368474803,
          -1.8814304721270192,
          1.4635612494042156,
          -1.9827593304106776,
          0.36790536391933965,
          -1.0843989162324759,
          -0.13268326375570524,
          -1.6066444790362937,
          -0.19722633200110679,
          0.0003473747000489338,
          0.7826322058019856,
          0.0046955420792266205,
          1.7155986699348522,
          -0.7952410822232646,
          0.4882204326033132,
          1.6053990972634442,
          -0.08503043769723694,
          0.6981169497045339,
          0.4718828971526396,
          -1.2029461823427046,
          0.052845734585076666,
          0.9822259990893973,
          -0.8590769849077312,
          -0.04120464990107362,
          -1.7569650582262712,
          1.1397519733719323,
          -0.6312149218917715,
          -0.046107887891385216,
          0.24742340686524372,
          1.5567864402222436,
          -0.37985498147004226,
          -0.9037102602281021,
          0.49753117291240284,
          0.5670835787226005,
          -0.38057329716763133,
          1.3577291622340146,
          0.7109426758026244,
          0.26514239168730397,
          -1.2476736047793413,
          -0.44164479753864827,
          -0.033615157654650896,
          0.5647092086237513,
          -0.511942159121852
         ]
        },
        {
         "line": {
          "color": "rgba(50, 171, 96, 1.0)",
          "dash": "solid",
          "shape": "linear",
          "width": 1.3
         },
         "mode": "lines",
         "name": "C",
         "text": "",
         "type": "scatter",
         "x": [
          0,
          1,
          2,
          3,
          4,
          5,
          6,
          7,
          8,
          9,
          10,
          11,
          12,
          13,
          14,
          15,
          16,
          17,
          18,
          19,
          20,
          21,
          22,
          23,
          24,
          25,
          26,
          27,
          28,
          29,
          30,
          31,
          32,
          33,
          34,
          35,
          36,
          37,
          38,
          39,
          40,
          41,
          42,
          43,
          44,
          45,
          46,
          47,
          48,
          49,
          50,
          51,
          52,
          53,
          54,
          55,
          56,
          57,
          58,
          59,
          60,
          61,
          62,
          63,
          64,
          65,
          66,
          67,
          68,
          69,
          70,
          71,
          72,
          73,
          74,
          75,
          76,
          77,
          78,
          79,
          80,
          81,
          82,
          83,
          84,
          85,
          86,
          87,
          88,
          89,
          90,
          91,
          92,
          93,
          94,
          95,
          96,
          97,
          98,
          99
         ],
         "y": [
          0.3327097562536328,
          -1.4989734130569317,
          1.5183796176928412,
          -1.602061657580099,
          -0.1223028920412938,
          1.386107101382463,
          -0.3415490358671324,
          -0.601432993832816,
          -0.7250537936410264,
          -0.25995473648644335,
          -1.2422490910298027,
          1.1742302850063706,
          0.18699966489887976,
          1.2662228253927414,
          -1.251580842922223,
          -0.7282265939616873,
          1.5879017425376987,
          0.6091752542674607,
          0.532904734654383,
          0.9974016167066104,
          -0.22956798544070212,
          1.183297268164457,
          -1.3935594197207464,
          0.4542969291289916,
          -0.9726084682689599,
          2.16182929854646,
          0.23301146780323445,
          -0.1960668029901525,
          -0.8074931010293909,
          -0.011076559186416392,
          0.6526452912513951,
          -0.011420869869149506,
          0.40729498041940865,
          -1.4608135825814752,
          -1.0743052935041677,
          -1.067976015767999,
          -1.939351767318399,
          0.393969215925592,
          0.4943040456489618,
          1.941061809173201,
          -0.3545833883013441,
          -1.3630645831972743,
          -0.7808083882051318,
          0.14828932191953875,
          1.1809111049948051,
          0.4120562337432101,
          0.15330385255565906,
          0.7818987007205416,
          -0.33260463389752076,
          -1.063339758890112,
          -0.2157947274815626,
          1.1668965390573576,
          -1.0062129725618667,
          0.8563185855337104,
          0.1134259884042055,
          0.16124262504863326,
          0.8723792648240553,
          -1.5779154984640098,
          -1.7194283418339689,
          -0.7438004534439292,
          -0.3193951573849327,
          0.6608682615796827,
          0.09013167999011383,
          -2.692713245513669,
          1.444401329767143,
          0.20119976229306244,
          0.032921153652011204,
          -0.9119279263574213,
          0.2590428295494773,
          -0.9967937373445537,
          -0.7374266907019629,
          0.9000772812275898,
          0.8388976395866024,
          0.3927020144340531,
          0.34208830190986056,
          -1.1218914946391794,
          -0.054772158324748514,
          0.6859401772791511,
          0.24968117808815007,
          0.48624800196760376,
          0.8227827699143407,
          -0.5065635151644389,
          -0.35418313928200706,
          0.8249811569719638,
          -1.0825434719372715,
          0.28888600126108677,
          1.0131678182935049,
          -2.3299803613355308,
          0.3107692820192783,
          -0.36606223453421693,
          -0.7307619449006915,
          -1.8881767667272429,
          -1.44561951925092,
          -0.1926918554444059,
          -0.10295541446747797,
          -0.5426933739808347,
          -0.9278063200643781,
          -0.31714133131824696,
          -0.5357162118674762,
          -1.193869715470299
         ]
        },
        {
         "line": {
          "color": "rgba(128, 0, 128, 1.0)",
          "dash": "solid",
          "shape": "linear",
          "width": 1.3
         },
         "mode": "lines",
         "name": "D",
         "text": "",
         "type": "scatter",
         "x": [
          0,
          1,
          2,
          3,
          4,
          5,
          6,
          7,
          8,
          9,
          10,
          11,
          12,
          13,
          14,
          15,
          16,
          17,
          18,
          19,
          20,
          21,
          22,
          23,
          24,
          25,
          26,
          27,
          28,
          29,
          30,
          31,
          32,
          33,
          34,
          35,
          36,
          37,
          38,
          39,
          40,
          41,
          42,
          43,
          44,
          45,
          46,
          47,
          48,
          49,
          50,
          51,
          52,
          53,
          54,
          55,
          56,
          57,
          58,
          59,
          60,
          61,
          62,
          63,
          64,
          65,
          66,
          67,
          68,
          69,
          70,
          71,
          72,
          73,
          74,
          75,
          76,
          77,
          78,
          79,
          80,
          81,
          82,
          83,
          84,
          85,
          86,
          87,
          88,
          89,
          90,
          91,
          92,
          93,
          94,
          95,
          96,
          97,
          98,
          99
         ],
         "y": [
          1.006990415230797,
          -1.964224009771347,
          1.3656734904303878,
          -0.7193889981597499,
          -0.8171992346531632,
          0.5021579854133826,
          0.35360746817993566,
          0.5038180043335287,
          -0.2253065854925412,
          -1.4462053896103182,
          0.3861215592594124,
          0.17553505879195624,
          -0.773045807558028,
          0.13715218564236864,
          1.5918514617857802,
          -0.4541260388835454,
          -0.18374369785544023,
          -0.8468969582370742,
          0.5283326291655621,
          -0.3174351528315366,
          -1.0113652796135721,
          0.9554437511695475,
          0.5317592920635177,
          -1.1986891128069317,
          1.180012584596935,
          -1.367233734745869,
          1.4216979437389021,
          -0.9536445111054623,
          1.2214783934231426,
          -1.1852333113110671,
          0.49595433276191425,
          -0.45700591898119247,
          -1.1634992086301335,
          -0.13614299129424992,
          0.02864078911815982,
          -1.4482685079878088,
          -1.340073852456306,
          -0.8775196074063242,
          -0.5642131429299626,
          -0.15774696869111168,
          1.6033684846714356,
          -1.352154240820155,
          -1.948424273992968,
          -0.10923332834192306,
          -0.3466984292093084,
          1.0532876042637498,
          1.3965753639823184,
          -0.7739337356756031,
          -0.5389000139848649,
          -1.7735102893998769,
          0.7389552763546952,
          1.1560874109408732,
          -1.5135193096899042,
          -1.5296404603654188,
          -0.01811472250897168,
          -0.23981216790408158,
          1.05440571047474,
          -0.7269334496791185,
          -0.8487333258876862,
          -2.1362246634378965,
          0.7639994045130143,
          1.041339972611782,
          -0.6445210539291163,
          0.941398881539454,
          1.172472601402738,
          1.157144971904907,
          -0.0016700911030675986,
          -0.21367099215600008,
          0.544287382614512,
          -1.013023022204178,
          0.6653553768385813,
          -1.081995803987892,
          -0.40908139281268663,
          0.4469096983868547,
          -1.3070142630453834,
          -1.1335484106420068,
          -2.3398158121759938,
          1.4313050099281213,
          -2.231818743879048,
          -0.4804009515284093,
          -1.0390003724195962,
          -2.4086907714026657,
          1.5512854832772243,
          -1.3352871785495308,
          0.21023107076646222,
          -0.9080772668139966,
          1.0746116244508543,
          1.352082889036443,
          -0.1547880916645823,
          -1.1852507629309106,
          -1.3196289178696639,
          1.5416264834243936,
          0.22671561843620253,
          -2.183184432019304,
          -0.23289429388985733,
          0.3174235728119984,
          -1.6823920236896401,
          -0.9468513506631693,
          -1.6776217112530991,
          0.8099531353330475
         ]
        }
       ],
       "layout": {
        "legend": {
         "bgcolor": "#F5F6F9",
         "font": {
          "color": "#4D5663"
         }
        },
        "paper_bgcolor": "#F5F6F9",
        "plot_bgcolor": "#F5F6F9",
        "template": {
         "data": {
          "bar": [
           {
            "error_x": {
             "color": "#2a3f5f"
            },
            "error_y": {
             "color": "#2a3f5f"
            },
            "marker": {
             "line": {
              "color": "#E5ECF6",
              "width": 0.5
             }
            },
            "type": "bar"
           }
          ],
          "barpolar": [
           {
            "marker": {
             "line": {
              "color": "#E5ECF6",
              "width": 0.5
             }
            },
            "type": "barpolar"
           }
          ],
          "carpet": [
           {
            "aaxis": {
             "endlinecolor": "#2a3f5f",
             "gridcolor": "white",
             "linecolor": "white",
             "minorgridcolor": "white",
             "startlinecolor": "#2a3f5f"
            },
            "baxis": {
             "endlinecolor": "#2a3f5f",
             "gridcolor": "white",
             "linecolor": "white",
             "minorgridcolor": "white",
             "startlinecolor": "#2a3f5f"
            },
            "type": "carpet"
           }
          ],
          "choropleth": [
           {
            "colorbar": {
             "outlinewidth": 0,
             "ticks": ""
            },
            "type": "choropleth"
           }
          ],
          "contour": [
           {
            "colorbar": {
             "outlinewidth": 0,
             "ticks": ""
            },
            "colorscale": [
             [
              0,
              "#0d0887"
             ],
             [
              0.1111111111111111,
              "#46039f"
             ],
             [
              0.2222222222222222,
              "#7201a8"
             ],
             [
              0.3333333333333333,
              "#9c179e"
             ],
             [
              0.4444444444444444,
              "#bd3786"
             ],
             [
              0.5555555555555556,
              "#d8576b"
             ],
             [
              0.6666666666666666,
              "#ed7953"
             ],
             [
              0.7777777777777778,
              "#fb9f3a"
             ],
             [
              0.8888888888888888,
              "#fdca26"
             ],
             [
              1,
              "#f0f921"
             ]
            ],
            "type": "contour"
           }
          ],
          "contourcarpet": [
           {
            "colorbar": {
             "outlinewidth": 0,
             "ticks": ""
            },
            "type": "contourcarpet"
           }
          ],
          "heatmap": [
           {
            "colorbar": {
             "outlinewidth": 0,
             "ticks": ""
            },
            "colorscale": [
             [
              0,
              "#0d0887"
             ],
             [
              0.1111111111111111,
              "#46039f"
             ],
             [
              0.2222222222222222,
              "#7201a8"
             ],
             [
              0.3333333333333333,
              "#9c179e"
             ],
             [
              0.4444444444444444,
              "#bd3786"
             ],
             [
              0.5555555555555556,
              "#d8576b"
             ],
             [
              0.6666666666666666,
              "#ed7953"
             ],
             [
              0.7777777777777778,
              "#fb9f3a"
             ],
             [
              0.8888888888888888,
              "#fdca26"
             ],
             [
              1,
              "#f0f921"
             ]
            ],
            "type": "heatmap"
           }
          ],
          "heatmapgl": [
           {
            "colorbar": {
             "outlinewidth": 0,
             "ticks": ""
            },
            "colorscale": [
             [
              0,
              "#0d0887"
             ],
             [
              0.1111111111111111,
              "#46039f"
             ],
             [
              0.2222222222222222,
              "#7201a8"
             ],
             [
              0.3333333333333333,
              "#9c179e"
             ],
             [
              0.4444444444444444,
              "#bd3786"
             ],
             [
              0.5555555555555556,
              "#d8576b"
             ],
             [
              0.6666666666666666,
              "#ed7953"
             ],
             [
              0.7777777777777778,
              "#fb9f3a"
             ],
             [
              0.8888888888888888,
              "#fdca26"
             ],
             [
              1,
              "#f0f921"
             ]
            ],
            "type": "heatmapgl"
           }
          ],
          "histogram": [
           {
            "marker": {
             "colorbar": {
              "outlinewidth": 0,
              "ticks": ""
             }
            },
            "type": "histogram"
           }
          ],
          "histogram2d": [
           {
            "colorbar": {
             "outlinewidth": 0,
             "ticks": ""
            },
            "colorscale": [
             [
              0,
              "#0d0887"
             ],
             [
              0.1111111111111111,
              "#46039f"
             ],
             [
              0.2222222222222222,
              "#7201a8"
             ],
             [
              0.3333333333333333,
              "#9c179e"
             ],
             [
              0.4444444444444444,
              "#bd3786"
             ],
             [
              0.5555555555555556,
              "#d8576b"
             ],
             [
              0.6666666666666666,
              "#ed7953"
             ],
             [
              0.7777777777777778,
              "#fb9f3a"
             ],
             [
              0.8888888888888888,
              "#fdca26"
             ],
             [
              1,
              "#f0f921"
             ]
            ],
            "type": "histogram2d"
           }
          ],
          "histogram2dcontour": [
           {
            "colorbar": {
             "outlinewidth": 0,
             "ticks": ""
            },
            "colorscale": [
             [
              0,
              "#0d0887"
             ],
             [
              0.1111111111111111,
              "#46039f"
             ],
             [
              0.2222222222222222,
              "#7201a8"
             ],
             [
              0.3333333333333333,
              "#9c179e"
             ],
             [
              0.4444444444444444,
              "#bd3786"
             ],
             [
              0.5555555555555556,
              "#d8576b"
             ],
             [
              0.6666666666666666,
              "#ed7953"
             ],
             [
              0.7777777777777778,
              "#fb9f3a"
             ],
             [
              0.8888888888888888,
              "#fdca26"
             ],
             [
              1,
              "#f0f921"
             ]
            ],
            "type": "histogram2dcontour"
           }
          ],
          "mesh3d": [
           {
            "colorbar": {
             "outlinewidth": 0,
             "ticks": ""
            },
            "type": "mesh3d"
           }
          ],
          "parcoords": [
           {
            "line": {
             "colorbar": {
              "outlinewidth": 0,
              "ticks": ""
             }
            },
            "type": "parcoords"
           }
          ],
          "pie": [
           {
            "automargin": true,
            "type": "pie"
           }
          ],
          "scatter": [
           {
            "marker": {
             "colorbar": {
              "outlinewidth": 0,
              "ticks": ""
             }
            },
            "type": "scatter"
           }
          ],
          "scatter3d": [
           {
            "line": {
             "colorbar": {
              "outlinewidth": 0,
              "ticks": ""
             }
            },
            "marker": {
             "colorbar": {
              "outlinewidth": 0,
              "ticks": ""
             }
            },
            "type": "scatter3d"
           }
          ],
          "scattercarpet": [
           {
            "marker": {
             "colorbar": {
              "outlinewidth": 0,
              "ticks": ""
             }
            },
            "type": "scattercarpet"
           }
          ],
          "scattergeo": [
           {
            "marker": {
             "colorbar": {
              "outlinewidth": 0,
              "ticks": ""
             }
            },
            "type": "scattergeo"
           }
          ],
          "scattergl": [
           {
            "marker": {
             "colorbar": {
              "outlinewidth": 0,
              "ticks": ""
             }
            },
            "type": "scattergl"
           }
          ],
          "scattermapbox": [
           {
            "marker": {
             "colorbar": {
              "outlinewidth": 0,
              "ticks": ""
             }
            },
            "type": "scattermapbox"
           }
          ],
          "scatterpolar": [
           {
            "marker": {
             "colorbar": {
              "outlinewidth": 0,
              "ticks": ""
             }
            },
            "type": "scatterpolar"
           }
          ],
          "scatterpolargl": [
           {
            "marker": {
             "colorbar": {
              "outlinewidth": 0,
              "ticks": ""
             }
            },
            "type": "scatterpolargl"
           }
          ],
          "scatterternary": [
           {
            "marker": {
             "colorbar": {
              "outlinewidth": 0,
              "ticks": ""
             }
            },
            "type": "scatterternary"
           }
          ],
          "surface": [
           {
            "colorbar": {
             "outlinewidth": 0,
             "ticks": ""
            },
            "colorscale": [
             [
              0,
              "#0d0887"
             ],
             [
              0.1111111111111111,
              "#46039f"
             ],
             [
              0.2222222222222222,
              "#7201a8"
             ],
             [
              0.3333333333333333,
              "#9c179e"
             ],
             [
              0.4444444444444444,
              "#bd3786"
             ],
             [
              0.5555555555555556,
              "#d8576b"
             ],
             [
              0.6666666666666666,
              "#ed7953"
             ],
             [
              0.7777777777777778,
              "#fb9f3a"
             ],
             [
              0.8888888888888888,
              "#fdca26"
             ],
             [
              1,
              "#f0f921"
             ]
            ],
            "type": "surface"
           }
          ],
          "table": [
           {
            "cells": {
             "fill": {
              "color": "#EBF0F8"
             },
             "line": {
              "color": "white"
             }
            },
            "header": {
             "fill": {
              "color": "#C8D4E3"
             },
             "line": {
              "color": "white"
             }
            },
            "type": "table"
           }
          ]
         },
         "layout": {
          "annotationdefaults": {
           "arrowcolor": "#2a3f5f",
           "arrowhead": 0,
           "arrowwidth": 1
          },
          "coloraxis": {
           "colorbar": {
            "outlinewidth": 0,
            "ticks": ""
           }
          },
          "colorscale": {
           "diverging": [
            [
             0,
             "#8e0152"
            ],
            [
             0.1,
             "#c51b7d"
            ],
            [
             0.2,
             "#de77ae"
            ],
            [
             0.3,
             "#f1b6da"
            ],
            [
             0.4,
             "#fde0ef"
            ],
            [
             0.5,
             "#f7f7f7"
            ],
            [
             0.6,
             "#e6f5d0"
            ],
            [
             0.7,
             "#b8e186"
            ],
            [
             0.8,
             "#7fbc41"
            ],
            [
             0.9,
             "#4d9221"
            ],
            [
             1,
             "#276419"
            ]
           ],
           "sequential": [
            [
             0,
             "#0d0887"
            ],
            [
             0.1111111111111111,
             "#46039f"
            ],
            [
             0.2222222222222222,
             "#7201a8"
            ],
            [
             0.3333333333333333,
             "#9c179e"
            ],
            [
             0.4444444444444444,
             "#bd3786"
            ],
            [
             0.5555555555555556,
             "#d8576b"
            ],
            [
             0.6666666666666666,
             "#ed7953"
            ],
            [
             0.7777777777777778,
             "#fb9f3a"
            ],
            [
             0.8888888888888888,
             "#fdca26"
            ],
            [
             1,
             "#f0f921"
            ]
           ],
           "sequentialminus": [
            [
             0,
             "#0d0887"
            ],
            [
             0.1111111111111111,
             "#46039f"
            ],
            [
             0.2222222222222222,
             "#7201a8"
            ],
            [
             0.3333333333333333,
             "#9c179e"
            ],
            [
             0.4444444444444444,
             "#bd3786"
            ],
            [
             0.5555555555555556,
             "#d8576b"
            ],
            [
             0.6666666666666666,
             "#ed7953"
            ],
            [
             0.7777777777777778,
             "#fb9f3a"
            ],
            [
             0.8888888888888888,
             "#fdca26"
            ],
            [
             1,
             "#f0f921"
            ]
           ]
          },
          "colorway": [
           "#636efa",
           "#EF553B",
           "#00cc96",
           "#ab63fa",
           "#FFA15A",
           "#19d3f3",
           "#FF6692",
           "#B6E880",
           "#FF97FF",
           "#FECB52"
          ],
          "font": {
           "color": "#2a3f5f"
          },
          "geo": {
           "bgcolor": "white",
           "lakecolor": "white",
           "landcolor": "#E5ECF6",
           "showlakes": true,
           "showland": true,
           "subunitcolor": "white"
          },
          "hoverlabel": {
           "align": "left"
          },
          "hovermode": "closest",
          "mapbox": {
           "style": "light"
          },
          "paper_bgcolor": "white",
          "plot_bgcolor": "#E5ECF6",
          "polar": {
           "angularaxis": {
            "gridcolor": "white",
            "linecolor": "white",
            "ticks": ""
           },
           "bgcolor": "#E5ECF6",
           "radialaxis": {
            "gridcolor": "white",
            "linecolor": "white",
            "ticks": ""
           }
          },
          "scene": {
           "xaxis": {
            "backgroundcolor": "#E5ECF6",
            "gridcolor": "white",
            "gridwidth": 2,
            "linecolor": "white",
            "showbackground": true,
            "ticks": "",
            "zerolinecolor": "white"
           },
           "yaxis": {
            "backgroundcolor": "#E5ECF6",
            "gridcolor": "white",
            "gridwidth": 2,
            "linecolor": "white",
            "showbackground": true,
            "ticks": "",
            "zerolinecolor": "white"
           },
           "zaxis": {
            "backgroundcolor": "#E5ECF6",
            "gridcolor": "white",
            "gridwidth": 2,
            "linecolor": "white",
            "showbackground": true,
            "ticks": "",
            "zerolinecolor": "white"
           }
          },
          "shapedefaults": {
           "line": {
            "color": "#2a3f5f"
           }
          },
          "ternary": {
           "aaxis": {
            "gridcolor": "white",
            "linecolor": "white",
            "ticks": ""
           },
           "baxis": {
            "gridcolor": "white",
            "linecolor": "white",
            "ticks": ""
           },
           "bgcolor": "#E5ECF6",
           "caxis": {
            "gridcolor": "white",
            "linecolor": "white",
            "ticks": ""
           }
          },
          "title": {
           "x": 0.05
          },
          "xaxis": {
           "automargin": true,
           "gridcolor": "white",
           "linecolor": "white",
           "ticks": "",
           "title": {
            "standoff": 15
           },
           "zerolinecolor": "white",
           "zerolinewidth": 2
          },
          "yaxis": {
           "automargin": true,
           "gridcolor": "white",
           "linecolor": "white",
           "ticks": "",
           "title": {
            "standoff": 15
           },
           "zerolinecolor": "white",
           "zerolinewidth": 2
          }
         }
        },
        "title": {
         "font": {
          "color": "#4D5663"
         }
        },
        "xaxis": {
         "gridcolor": "#E1E5ED",
         "showgrid": true,
         "tickfont": {
          "color": "#4D5663"
         },
         "title": {
          "font": {
           "color": "#4D5663"
          },
          "text": ""
         },
         "zerolinecolor": "#E1E5ED"
        },
        "yaxis": {
         "gridcolor": "#E1E5ED",
         "showgrid": true,
         "tickfont": {
          "color": "#4D5663"
         },
         "title": {
          "font": {
           "color": "#4D5663"
          },
          "text": ""
         },
         "zerolinecolor": "#E1E5ED"
        }
       }
      },
      "text/html": [
       "<div>\n",
       "        \n",
       "        \n",
       "            <div id=\"50dc4659-4079-4af2-aa4f-118e55a55bbc\" class=\"plotly-graph-div\" style=\"height:525px; width:100%;\"></div>\n",
       "            <script type=\"text/javascript\">\n",
       "                require([\"plotly\"], function(Plotly) {\n",
       "                    window.PLOTLYENV=window.PLOTLYENV || {};\n",
       "                    window.PLOTLYENV.BASE_URL='https://plot.ly';\n",
       "                    \n",
       "                if (document.getElementById(\"50dc4659-4079-4af2-aa4f-118e55a55bbc\")) {\n",
       "                    Plotly.newPlot(\n",
       "                        '50dc4659-4079-4af2-aa4f-118e55a55bbc',\n",
       "                        [{\"line\": {\"color\": \"rgba(255, 153, 51, 1.0)\", \"dash\": \"solid\", \"shape\": \"linear\", \"width\": 1.3}, \"mode\": \"lines\", \"name\": \"A\", \"text\": \"\", \"type\": \"scatter\", \"x\": [0, 1, 2, 3, 4, 5, 6, 7, 8, 9, 10, 11, 12, 13, 14, 15, 16, 17, 18, 19, 20, 21, 22, 23, 24, 25, 26, 27, 28, 29, 30, 31, 32, 33, 34, 35, 36, 37, 38, 39, 40, 41, 42, 43, 44, 45, 46, 47, 48, 49, 50, 51, 52, 53, 54, 55, 56, 57, 58, 59, 60, 61, 62, 63, 64, 65, 66, 67, 68, 69, 70, 71, 72, 73, 74, 75, 76, 77, 78, 79, 80, 81, 82, 83, 84, 85, 86, 87, 88, 89, 90, 91, 92, 93, 94, 95, 96, 97, 98, 99], \"y\": [0.7384849679917865, -0.4739703576787497, -1.2410850999181424, 0.011239248866355677, -0.3023127905230943, 0.2363230440172158, -0.28402355339350155, 0.9399206409610732, 0.7622389377177152, 0.9498089256425105, -1.6162083558302955, 0.9646435176708447, 0.6614496914739366, -1.716143334033692, -2.5356915148878794, -0.9617606145051862, 0.008293435242292549, 1.4810906706268816, 0.6930911578507049, 0.7517083996567843, 1.6773600899238656, 0.20023565995701395, -0.4862336432496669, 0.6424563113780488, 1.0529264632088229, -0.5194348158769179, 0.5193794476182205, -0.2177636551563566, 0.5730394684480788, 0.8894265882891824, 0.16574773044920646, -0.36556200969439046, -0.6371054172325357, 1.1301373234143273, -0.3552754866053425, -0.7883959295021864, 0.5859129449503426, -1.3343892432421331, -0.21179498740280153, 0.8445155577573598, -1.0158186524593766, 1.046865972107086, 1.35629825666338, 1.2275847492949927, -1.8092078608463722, 0.3104716386755969, 1.9439385481339027, -0.046302866157695736, 0.9939623927497057, -1.5237946534936748, -1.3326917554580766, 2.4142179028316892, 0.04185598515241913, -2.1987326086021013, 0.23139778756142068, 0.9666403300832923, -0.24296102909533798, -0.6476057938239268, -0.16151360123863254, 0.4793347634889624, 0.6347851945989572, 0.8434974936512513, 1.002062963811421, 1.2616989085150399, -0.4796951126108852, -1.0526870741532763, -1.19889718235249, -0.8743996784021727, 0.9033046003458987, -1.514389455518979, -0.9101640903693848, 1.3029787614274848, -0.574457267580267, -1.1532287536452923, -1.9252554195383396, 1.5403188122329121, -0.6187670029735031, 1.7146672083316403, 1.2440564828005858, -0.0009091919227137812, 1.1007579242326673, 0.6006154386851078, -1.1507471833784182, -0.7789990876013348, -0.28419337049955345, 1.0236872992597577, 0.7399035390241175, 0.1545230603764189, -1.2790224177216212, 0.8595009913364225, 0.2626145547074289, 0.553328600134025, 0.2672852048766201, -0.8914354807363999, 0.5002622086866662, 0.3346114667624826, -0.8529924982020634, 1.339333316246086, 0.5939467712682505, -1.3180613570001438]}, {\"line\": {\"color\": \"rgba(55, 128, 191, 1.0)\", \"dash\": \"solid\", \"shape\": \"linear\", \"width\": 1.3}, \"mode\": \"lines\", \"name\": \"B\", \"text\": \"\", \"type\": \"scatter\", \"x\": [0, 1, 2, 3, 4, 5, 6, 7, 8, 9, 10, 11, 12, 13, 14, 15, 16, 17, 18, 19, 20, 21, 22, 23, 24, 25, 26, 27, 28, 29, 30, 31, 32, 33, 34, 35, 36, 37, 38, 39, 40, 41, 42, 43, 44, 45, 46, 47, 48, 49, 50, 51, 52, 53, 54, 55, 56, 57, 58, 59, 60, 61, 62, 63, 64, 65, 66, 67, 68, 69, 70, 71, 72, 73, 74, 75, 76, 77, 78, 79, 80, 81, 82, 83, 84, 85, 86, 87, 88, 89, 90, 91, 92, 93, 94, 95, 96, 97, 98, 99], \"y\": [-0.22246154249852684, -0.011662737015524104, 0.7002550390215904, -0.2088604533672652, 0.2787572766419977, 0.34604688919031246, 0.3289741381728799, -1.4546634160557221, 0.6591005023770535, 1.6307541996396775, 0.3537425977973349, 0.35489662287960494, -1.2552285412285955, 0.7766227724788735, 0.7313851441745576, 0.17409712272179598, -0.558850148283852, -0.18278009610374715, -0.4385690580727113, -1.1979389827605196, 0.21153250433833218, 0.7543561045168725, 0.10568114726276448, 1.4740937158560674, 0.9652011233966097, -0.23486161961194427, -1.389623772561859, 0.30668566443217743, 1.1120348830089202, 0.46831830167324723, -0.5991384580070195, -0.7034819235937314, -0.005756903041385128, -1.1456182321306265, 0.031447866394256334, 1.4440326575276348, -0.1595369128971009, -0.46006264151509857, -1.2419810080488065, 0.4424990438592372, -0.45458918117909897, 0.07040854588577262, 0.535026123128374, -2.7627953832152032, -0.3566709243240767, -0.2779553288515251, -0.5499009597665894, -0.1278460935717795, 1.2186892425013678, -0.1565647499422839, -1.1879500510181082, -0.4304626168115283, 0.4839416813547892, 0.1542255059732776, -1.5231298483752214, 1.5886158111510897, 1.1141356720888698, -0.7321655368474803, -1.8814304721270192, 1.4635612494042156, -1.9827593304106776, 0.36790536391933965, -1.0843989162324759, -0.13268326375570524, -1.6066444790362937, -0.19722633200110679, 0.0003473747000489338, 0.7826322058019856, 0.0046955420792266205, 1.7155986699348522, -0.7952410822232646, 0.4882204326033132, 1.6053990972634442, -0.08503043769723694, 0.6981169497045339, 0.4718828971526396, -1.2029461823427046, 0.052845734585076666, 0.9822259990893973, -0.8590769849077312, -0.04120464990107362, -1.7569650582262712, 1.1397519733719323, -0.6312149218917715, -0.046107887891385216, 0.24742340686524372, 1.5567864402222436, -0.37985498147004226, -0.9037102602281021, 0.49753117291240284, 0.5670835787226005, -0.38057329716763133, 1.3577291622340146, 0.7109426758026244, 0.26514239168730397, -1.2476736047793413, -0.44164479753864827, -0.033615157654650896, 0.5647092086237513, -0.511942159121852]}, {\"line\": {\"color\": \"rgba(50, 171, 96, 1.0)\", \"dash\": \"solid\", \"shape\": \"linear\", \"width\": 1.3}, \"mode\": \"lines\", \"name\": \"C\", \"text\": \"\", \"type\": \"scatter\", \"x\": [0, 1, 2, 3, 4, 5, 6, 7, 8, 9, 10, 11, 12, 13, 14, 15, 16, 17, 18, 19, 20, 21, 22, 23, 24, 25, 26, 27, 28, 29, 30, 31, 32, 33, 34, 35, 36, 37, 38, 39, 40, 41, 42, 43, 44, 45, 46, 47, 48, 49, 50, 51, 52, 53, 54, 55, 56, 57, 58, 59, 60, 61, 62, 63, 64, 65, 66, 67, 68, 69, 70, 71, 72, 73, 74, 75, 76, 77, 78, 79, 80, 81, 82, 83, 84, 85, 86, 87, 88, 89, 90, 91, 92, 93, 94, 95, 96, 97, 98, 99], \"y\": [0.3327097562536328, -1.4989734130569317, 1.5183796176928412, -1.602061657580099, -0.1223028920412938, 1.386107101382463, -0.3415490358671324, -0.601432993832816, -0.7250537936410264, -0.25995473648644335, -1.2422490910298027, 1.1742302850063706, 0.18699966489887976, 1.2662228253927414, -1.251580842922223, -0.7282265939616873, 1.5879017425376987, 0.6091752542674607, 0.532904734654383, 0.9974016167066104, -0.22956798544070212, 1.183297268164457, -1.3935594197207464, 0.4542969291289916, -0.9726084682689599, 2.16182929854646, 0.23301146780323445, -0.1960668029901525, -0.8074931010293909, -0.011076559186416392, 0.6526452912513951, -0.011420869869149506, 0.40729498041940865, -1.4608135825814752, -1.0743052935041677, -1.067976015767999, -1.939351767318399, 0.393969215925592, 0.4943040456489618, 1.941061809173201, -0.3545833883013441, -1.3630645831972743, -0.7808083882051318, 0.14828932191953875, 1.1809111049948051, 0.4120562337432101, 0.15330385255565906, 0.7818987007205416, -0.33260463389752076, -1.063339758890112, -0.2157947274815626, 1.1668965390573576, -1.0062129725618667, 0.8563185855337104, 0.1134259884042055, 0.16124262504863326, 0.8723792648240553, -1.5779154984640098, -1.7194283418339689, -0.7438004534439292, -0.3193951573849327, 0.6608682615796827, 0.09013167999011383, -2.692713245513669, 1.444401329767143, 0.20119976229306244, 0.032921153652011204, -0.9119279263574213, 0.2590428295494773, -0.9967937373445537, -0.7374266907019629, 0.9000772812275898, 0.8388976395866024, 0.3927020144340531, 0.34208830190986056, -1.1218914946391794, -0.054772158324748514, 0.6859401772791511, 0.24968117808815007, 0.48624800196760376, 0.8227827699143407, -0.5065635151644389, -0.35418313928200706, 0.8249811569719638, -1.0825434719372715, 0.28888600126108677, 1.0131678182935049, -2.3299803613355308, 0.3107692820192783, -0.36606223453421693, -0.7307619449006915, -1.8881767667272429, -1.44561951925092, -0.1926918554444059, -0.10295541446747797, -0.5426933739808347, -0.9278063200643781, -0.31714133131824696, -0.5357162118674762, -1.193869715470299]}, {\"line\": {\"color\": \"rgba(128, 0, 128, 1.0)\", \"dash\": \"solid\", \"shape\": \"linear\", \"width\": 1.3}, \"mode\": \"lines\", \"name\": \"D\", \"text\": \"\", \"type\": \"scatter\", \"x\": [0, 1, 2, 3, 4, 5, 6, 7, 8, 9, 10, 11, 12, 13, 14, 15, 16, 17, 18, 19, 20, 21, 22, 23, 24, 25, 26, 27, 28, 29, 30, 31, 32, 33, 34, 35, 36, 37, 38, 39, 40, 41, 42, 43, 44, 45, 46, 47, 48, 49, 50, 51, 52, 53, 54, 55, 56, 57, 58, 59, 60, 61, 62, 63, 64, 65, 66, 67, 68, 69, 70, 71, 72, 73, 74, 75, 76, 77, 78, 79, 80, 81, 82, 83, 84, 85, 86, 87, 88, 89, 90, 91, 92, 93, 94, 95, 96, 97, 98, 99], \"y\": [1.006990415230797, -1.964224009771347, 1.3656734904303878, -0.7193889981597499, -0.8171992346531632, 0.5021579854133826, 0.35360746817993566, 0.5038180043335287, -0.2253065854925412, -1.4462053896103182, 0.3861215592594124, 0.17553505879195624, -0.773045807558028, 0.13715218564236864, 1.5918514617857802, -0.4541260388835454, -0.18374369785544023, -0.8468969582370742, 0.5283326291655621, -0.3174351528315366, -1.0113652796135721, 0.9554437511695475, 0.5317592920635177, -1.1986891128069317, 1.180012584596935, -1.367233734745869, 1.4216979437389021, -0.9536445111054623, 1.2214783934231426, -1.1852333113110671, 0.49595433276191425, -0.45700591898119247, -1.1634992086301335, -0.13614299129424992, 0.02864078911815982, -1.4482685079878088, -1.340073852456306, -0.8775196074063242, -0.5642131429299626, -0.15774696869111168, 1.6033684846714356, -1.352154240820155, -1.948424273992968, -0.10923332834192306, -0.3466984292093084, 1.0532876042637498, 1.3965753639823184, -0.7739337356756031, -0.5389000139848649, -1.7735102893998769, 0.7389552763546952, 1.1560874109408732, -1.5135193096899042, -1.5296404603654188, -0.01811472250897168, -0.23981216790408158, 1.05440571047474, -0.7269334496791185, -0.8487333258876862, -2.1362246634378965, 0.7639994045130143, 1.041339972611782, -0.6445210539291163, 0.941398881539454, 1.172472601402738, 1.157144971904907, -0.0016700911030675986, -0.21367099215600008, 0.544287382614512, -1.013023022204178, 0.6653553768385813, -1.081995803987892, -0.40908139281268663, 0.4469096983868547, -1.3070142630453834, -1.1335484106420068, -2.3398158121759938, 1.4313050099281213, -2.231818743879048, -0.4804009515284093, -1.0390003724195962, -2.4086907714026657, 1.5512854832772243, -1.3352871785495308, 0.21023107076646222, -0.9080772668139966, 1.0746116244508543, 1.352082889036443, -0.1547880916645823, -1.1852507629309106, -1.3196289178696639, 1.5416264834243936, 0.22671561843620253, -2.183184432019304, -0.23289429388985733, 0.3174235728119984, -1.6823920236896401, -0.9468513506631693, -1.6776217112530991, 0.8099531353330475]}],\n",
       "                        {\"legend\": {\"bgcolor\": \"#F5F6F9\", \"font\": {\"color\": \"#4D5663\"}}, \"paper_bgcolor\": \"#F5F6F9\", \"plot_bgcolor\": \"#F5F6F9\", \"template\": {\"data\": {\"bar\": [{\"error_x\": {\"color\": \"#2a3f5f\"}, \"error_y\": {\"color\": \"#2a3f5f\"}, \"marker\": {\"line\": {\"color\": \"#E5ECF6\", \"width\": 0.5}}, \"type\": \"bar\"}], \"barpolar\": [{\"marker\": {\"line\": {\"color\": \"#E5ECF6\", \"width\": 0.5}}, \"type\": \"barpolar\"}], \"carpet\": [{\"aaxis\": {\"endlinecolor\": \"#2a3f5f\", \"gridcolor\": \"white\", \"linecolor\": \"white\", \"minorgridcolor\": \"white\", \"startlinecolor\": \"#2a3f5f\"}, \"baxis\": {\"endlinecolor\": \"#2a3f5f\", \"gridcolor\": \"white\", \"linecolor\": \"white\", \"minorgridcolor\": \"white\", \"startlinecolor\": \"#2a3f5f\"}, \"type\": \"carpet\"}], \"choropleth\": [{\"colorbar\": {\"outlinewidth\": 0, \"ticks\": \"\"}, \"type\": \"choropleth\"}], \"contour\": [{\"colorbar\": {\"outlinewidth\": 0, \"ticks\": \"\"}, \"colorscale\": [[0.0, \"#0d0887\"], [0.1111111111111111, \"#46039f\"], [0.2222222222222222, \"#7201a8\"], [0.3333333333333333, \"#9c179e\"], [0.4444444444444444, \"#bd3786\"], [0.5555555555555556, \"#d8576b\"], [0.6666666666666666, \"#ed7953\"], [0.7777777777777778, \"#fb9f3a\"], [0.8888888888888888, \"#fdca26\"], [1.0, \"#f0f921\"]], \"type\": \"contour\"}], \"contourcarpet\": [{\"colorbar\": {\"outlinewidth\": 0, \"ticks\": \"\"}, \"type\": \"contourcarpet\"}], \"heatmap\": [{\"colorbar\": {\"outlinewidth\": 0, \"ticks\": \"\"}, \"colorscale\": [[0.0, \"#0d0887\"], [0.1111111111111111, \"#46039f\"], [0.2222222222222222, \"#7201a8\"], [0.3333333333333333, \"#9c179e\"], [0.4444444444444444, \"#bd3786\"], [0.5555555555555556, \"#d8576b\"], [0.6666666666666666, \"#ed7953\"], [0.7777777777777778, \"#fb9f3a\"], [0.8888888888888888, \"#fdca26\"], [1.0, \"#f0f921\"]], \"type\": \"heatmap\"}], \"heatmapgl\": [{\"colorbar\": {\"outlinewidth\": 0, \"ticks\": \"\"}, \"colorscale\": [[0.0, \"#0d0887\"], [0.1111111111111111, \"#46039f\"], [0.2222222222222222, \"#7201a8\"], [0.3333333333333333, \"#9c179e\"], [0.4444444444444444, \"#bd3786\"], [0.5555555555555556, \"#d8576b\"], [0.6666666666666666, \"#ed7953\"], [0.7777777777777778, \"#fb9f3a\"], [0.8888888888888888, \"#fdca26\"], [1.0, \"#f0f921\"]], \"type\": \"heatmapgl\"}], \"histogram\": [{\"marker\": {\"colorbar\": {\"outlinewidth\": 0, \"ticks\": \"\"}}, \"type\": \"histogram\"}], \"histogram2d\": [{\"colorbar\": {\"outlinewidth\": 0, \"ticks\": \"\"}, \"colorscale\": [[0.0, \"#0d0887\"], [0.1111111111111111, \"#46039f\"], [0.2222222222222222, \"#7201a8\"], [0.3333333333333333, \"#9c179e\"], [0.4444444444444444, \"#bd3786\"], [0.5555555555555556, \"#d8576b\"], [0.6666666666666666, \"#ed7953\"], [0.7777777777777778, \"#fb9f3a\"], [0.8888888888888888, \"#fdca26\"], [1.0, \"#f0f921\"]], \"type\": \"histogram2d\"}], \"histogram2dcontour\": [{\"colorbar\": {\"outlinewidth\": 0, \"ticks\": \"\"}, \"colorscale\": [[0.0, \"#0d0887\"], [0.1111111111111111, \"#46039f\"], [0.2222222222222222, \"#7201a8\"], [0.3333333333333333, \"#9c179e\"], [0.4444444444444444, \"#bd3786\"], [0.5555555555555556, \"#d8576b\"], [0.6666666666666666, \"#ed7953\"], [0.7777777777777778, \"#fb9f3a\"], [0.8888888888888888, \"#fdca26\"], [1.0, \"#f0f921\"]], \"type\": \"histogram2dcontour\"}], \"mesh3d\": [{\"colorbar\": {\"outlinewidth\": 0, \"ticks\": \"\"}, \"type\": \"mesh3d\"}], \"parcoords\": [{\"line\": {\"colorbar\": {\"outlinewidth\": 0, \"ticks\": \"\"}}, \"type\": \"parcoords\"}], \"pie\": [{\"automargin\": true, \"type\": \"pie\"}], \"scatter\": [{\"marker\": {\"colorbar\": {\"outlinewidth\": 0, \"ticks\": \"\"}}, \"type\": \"scatter\"}], \"scatter3d\": [{\"line\": {\"colorbar\": {\"outlinewidth\": 0, \"ticks\": \"\"}}, \"marker\": {\"colorbar\": {\"outlinewidth\": 0, \"ticks\": \"\"}}, \"type\": \"scatter3d\"}], \"scattercarpet\": [{\"marker\": {\"colorbar\": {\"outlinewidth\": 0, \"ticks\": \"\"}}, \"type\": \"scattercarpet\"}], \"scattergeo\": [{\"marker\": {\"colorbar\": {\"outlinewidth\": 0, \"ticks\": \"\"}}, \"type\": \"scattergeo\"}], \"scattergl\": [{\"marker\": {\"colorbar\": {\"outlinewidth\": 0, \"ticks\": \"\"}}, \"type\": \"scattergl\"}], \"scattermapbox\": [{\"marker\": {\"colorbar\": {\"outlinewidth\": 0, \"ticks\": \"\"}}, \"type\": \"scattermapbox\"}], \"scatterpolar\": [{\"marker\": {\"colorbar\": {\"outlinewidth\": 0, \"ticks\": \"\"}}, \"type\": \"scatterpolar\"}], \"scatterpolargl\": [{\"marker\": {\"colorbar\": {\"outlinewidth\": 0, \"ticks\": \"\"}}, \"type\": \"scatterpolargl\"}], \"scatterternary\": [{\"marker\": {\"colorbar\": {\"outlinewidth\": 0, \"ticks\": \"\"}}, \"type\": \"scatterternary\"}], \"surface\": [{\"colorbar\": {\"outlinewidth\": 0, \"ticks\": \"\"}, \"colorscale\": [[0.0, \"#0d0887\"], [0.1111111111111111, \"#46039f\"], [0.2222222222222222, \"#7201a8\"], [0.3333333333333333, \"#9c179e\"], [0.4444444444444444, \"#bd3786\"], [0.5555555555555556, \"#d8576b\"], [0.6666666666666666, \"#ed7953\"], [0.7777777777777778, \"#fb9f3a\"], [0.8888888888888888, \"#fdca26\"], [1.0, \"#f0f921\"]], \"type\": \"surface\"}], \"table\": [{\"cells\": {\"fill\": {\"color\": \"#EBF0F8\"}, \"line\": {\"color\": \"white\"}}, \"header\": {\"fill\": {\"color\": \"#C8D4E3\"}, \"line\": {\"color\": \"white\"}}, \"type\": \"table\"}]}, \"layout\": {\"annotationdefaults\": {\"arrowcolor\": \"#2a3f5f\", \"arrowhead\": 0, \"arrowwidth\": 1}, \"coloraxis\": {\"colorbar\": {\"outlinewidth\": 0, \"ticks\": \"\"}}, \"colorscale\": {\"diverging\": [[0, \"#8e0152\"], [0.1, \"#c51b7d\"], [0.2, \"#de77ae\"], [0.3, \"#f1b6da\"], [0.4, \"#fde0ef\"], [0.5, \"#f7f7f7\"], [0.6, \"#e6f5d0\"], [0.7, \"#b8e186\"], [0.8, \"#7fbc41\"], [0.9, \"#4d9221\"], [1, \"#276419\"]], \"sequential\": [[0.0, \"#0d0887\"], [0.1111111111111111, \"#46039f\"], [0.2222222222222222, \"#7201a8\"], [0.3333333333333333, \"#9c179e\"], [0.4444444444444444, \"#bd3786\"], [0.5555555555555556, \"#d8576b\"], [0.6666666666666666, \"#ed7953\"], [0.7777777777777778, \"#fb9f3a\"], [0.8888888888888888, \"#fdca26\"], [1.0, \"#f0f921\"]], \"sequentialminus\": [[0.0, \"#0d0887\"], [0.1111111111111111, \"#46039f\"], [0.2222222222222222, \"#7201a8\"], [0.3333333333333333, \"#9c179e\"], [0.4444444444444444, \"#bd3786\"], [0.5555555555555556, \"#d8576b\"], [0.6666666666666666, \"#ed7953\"], [0.7777777777777778, \"#fb9f3a\"], [0.8888888888888888, \"#fdca26\"], [1.0, \"#f0f921\"]]}, \"colorway\": [\"#636efa\", \"#EF553B\", \"#00cc96\", \"#ab63fa\", \"#FFA15A\", \"#19d3f3\", \"#FF6692\", \"#B6E880\", \"#FF97FF\", \"#FECB52\"], \"font\": {\"color\": \"#2a3f5f\"}, \"geo\": {\"bgcolor\": \"white\", \"lakecolor\": \"white\", \"landcolor\": \"#E5ECF6\", \"showlakes\": true, \"showland\": true, \"subunitcolor\": \"white\"}, \"hoverlabel\": {\"align\": \"left\"}, \"hovermode\": \"closest\", \"mapbox\": {\"style\": \"light\"}, \"paper_bgcolor\": \"white\", \"plot_bgcolor\": \"#E5ECF6\", \"polar\": {\"angularaxis\": {\"gridcolor\": \"white\", \"linecolor\": \"white\", \"ticks\": \"\"}, \"bgcolor\": \"#E5ECF6\", \"radialaxis\": {\"gridcolor\": \"white\", \"linecolor\": \"white\", \"ticks\": \"\"}}, \"scene\": {\"xaxis\": {\"backgroundcolor\": \"#E5ECF6\", \"gridcolor\": \"white\", \"gridwidth\": 2, \"linecolor\": \"white\", \"showbackground\": true, \"ticks\": \"\", \"zerolinecolor\": \"white\"}, \"yaxis\": {\"backgroundcolor\": \"#E5ECF6\", \"gridcolor\": \"white\", \"gridwidth\": 2, \"linecolor\": \"white\", \"showbackground\": true, \"ticks\": \"\", \"zerolinecolor\": \"white\"}, \"zaxis\": {\"backgroundcolor\": \"#E5ECF6\", \"gridcolor\": \"white\", \"gridwidth\": 2, \"linecolor\": \"white\", \"showbackground\": true, \"ticks\": \"\", \"zerolinecolor\": \"white\"}}, \"shapedefaults\": {\"line\": {\"color\": \"#2a3f5f\"}}, \"ternary\": {\"aaxis\": {\"gridcolor\": \"white\", \"linecolor\": \"white\", \"ticks\": \"\"}, \"baxis\": {\"gridcolor\": \"white\", \"linecolor\": \"white\", \"ticks\": \"\"}, \"bgcolor\": \"#E5ECF6\", \"caxis\": {\"gridcolor\": \"white\", \"linecolor\": \"white\", \"ticks\": \"\"}}, \"title\": {\"x\": 0.05}, \"xaxis\": {\"automargin\": true, \"gridcolor\": \"white\", \"linecolor\": \"white\", \"ticks\": \"\", \"title\": {\"standoff\": 15}, \"zerolinecolor\": \"white\", \"zerolinewidth\": 2}, \"yaxis\": {\"automargin\": true, \"gridcolor\": \"white\", \"linecolor\": \"white\", \"ticks\": \"\", \"title\": {\"standoff\": 15}, \"zerolinecolor\": \"white\", \"zerolinewidth\": 2}}}, \"title\": {\"font\": {\"color\": \"#4D5663\"}}, \"xaxis\": {\"gridcolor\": \"#E1E5ED\", \"showgrid\": true, \"tickfont\": {\"color\": \"#4D5663\"}, \"title\": {\"font\": {\"color\": \"#4D5663\"}, \"text\": \"\"}, \"zerolinecolor\": \"#E1E5ED\"}, \"yaxis\": {\"gridcolor\": \"#E1E5ED\", \"showgrid\": true, \"tickfont\": {\"color\": \"#4D5663\"}, \"title\": {\"font\": {\"color\": \"#4D5663\"}, \"text\": \"\"}, \"zerolinecolor\": \"#E1E5ED\"}},\n",
       "                        {\"showLink\": true, \"linkText\": \"Export to plot.ly\", \"plotlyServerURL\": \"https://plot.ly\", \"responsive\": true}\n",
       "                    ).then(function(){\n",
       "                            \n",
       "var gd = document.getElementById('50dc4659-4079-4af2-aa4f-118e55a55bbc');\n",
       "var x = new MutationObserver(function (mutations, observer) {{\n",
       "        var display = window.getComputedStyle(gd).display;\n",
       "        if (!display || display === 'none') {{\n",
       "            console.log([gd, 'removed!']);\n",
       "            Plotly.purge(gd);\n",
       "            observer.disconnect();\n",
       "        }}\n",
       "}});\n",
       "\n",
       "// Listen for the removal of the full notebook cells\n",
       "var notebookContainer = gd.closest('#notebook-container');\n",
       "if (notebookContainer) {{\n",
       "    x.observe(notebookContainer, {childList: true});\n",
       "}}\n",
       "\n",
       "// Listen for the clearing of the current output cell\n",
       "var outputEl = gd.closest('.output');\n",
       "if (outputEl) {{\n",
       "    x.observe(outputEl, {childList: true});\n",
       "}}\n",
       "\n",
       "                        })\n",
       "                };\n",
       "                });\n",
       "            </script>\n",
       "        </div>"
      ]
     },
     "metadata": {},
     "output_type": "display_data"
    }
   ],
   "source": [
    "df.iplot()"
   ]
  },
  {
   "cell_type": "code",
   "execution_count": 15,
   "metadata": {},
   "outputs": [
    {
     "data": {
      "application/vnd.plotly.v1+json": {
       "config": {
        "linkText": "Export to plot.ly",
        "plotlyServerURL": "https://plot.ly",
        "showLink": true
       },
       "data": [
        {
         "line": {
          "color": "rgba(255, 153, 51, 1.0)",
          "dash": "solid",
          "shape": "linear",
          "width": 1.3
         },
         "marker": {
          "size": 12,
          "symbol": "circle"
         },
         "mode": "markers",
         "name": "B",
         "text": "",
         "type": "scatter",
         "x": [
          0.7384849679917865,
          -0.4739703576787497,
          -1.2410850999181424,
          0.011239248866355677,
          -0.3023127905230943,
          0.2363230440172158,
          -0.28402355339350155,
          0.9399206409610732,
          0.7622389377177152,
          0.9498089256425105,
          -1.6162083558302955,
          0.9646435176708447,
          0.6614496914739366,
          -1.716143334033692,
          -2.5356915148878794,
          -0.9617606145051862,
          0.008293435242292549,
          1.4810906706268816,
          0.6930911578507049,
          0.7517083996567843,
          1.6773600899238656,
          0.20023565995701395,
          -0.4862336432496669,
          0.6424563113780488,
          1.0529264632088229,
          -0.5194348158769179,
          0.5193794476182205,
          -0.2177636551563566,
          0.5730394684480788,
          0.8894265882891824,
          0.16574773044920646,
          -0.36556200969439046,
          -0.6371054172325357,
          1.1301373234143273,
          -0.3552754866053425,
          -0.7883959295021864,
          0.5859129449503426,
          -1.3343892432421331,
          -0.21179498740280153,
          0.8445155577573598,
          -1.0158186524593766,
          1.046865972107086,
          1.35629825666338,
          1.2275847492949927,
          -1.8092078608463722,
          0.3104716386755969,
          1.9439385481339027,
          -0.046302866157695736,
          0.9939623927497057,
          -1.5237946534936748,
          -1.3326917554580766,
          2.4142179028316892,
          0.04185598515241913,
          -2.1987326086021013,
          0.23139778756142068,
          0.9666403300832923,
          -0.24296102909533798,
          -0.6476057938239268,
          -0.16151360123863254,
          0.4793347634889624,
          0.6347851945989572,
          0.8434974936512513,
          1.002062963811421,
          1.2616989085150399,
          -0.4796951126108852,
          -1.0526870741532763,
          -1.19889718235249,
          -0.8743996784021727,
          0.9033046003458987,
          -1.514389455518979,
          -0.9101640903693848,
          1.3029787614274848,
          -0.574457267580267,
          -1.1532287536452923,
          -1.9252554195383396,
          1.5403188122329121,
          -0.6187670029735031,
          1.7146672083316403,
          1.2440564828005858,
          -0.0009091919227137812,
          1.1007579242326673,
          0.6006154386851078,
          -1.1507471833784182,
          -0.7789990876013348,
          -0.28419337049955345,
          1.0236872992597577,
          0.7399035390241175,
          0.1545230603764189,
          -1.2790224177216212,
          0.8595009913364225,
          0.2626145547074289,
          0.553328600134025,
          0.2672852048766201,
          -0.8914354807363999,
          0.5002622086866662,
          0.3346114667624826,
          -0.8529924982020634,
          1.339333316246086,
          0.5939467712682505,
          -1.3180613570001438
         ],
         "y": [
          -0.22246154249852684,
          -0.011662737015524104,
          0.7002550390215904,
          -0.2088604533672652,
          0.2787572766419977,
          0.34604688919031246,
          0.3289741381728799,
          -1.4546634160557221,
          0.6591005023770535,
          1.6307541996396775,
          0.3537425977973349,
          0.35489662287960494,
          -1.2552285412285955,
          0.7766227724788735,
          0.7313851441745576,
          0.17409712272179598,
          -0.558850148283852,
          -0.18278009610374715,
          -0.4385690580727113,
          -1.1979389827605196,
          0.21153250433833218,
          0.7543561045168725,
          0.10568114726276448,
          1.4740937158560674,
          0.9652011233966097,
          -0.23486161961194427,
          -1.389623772561859,
          0.30668566443217743,
          1.1120348830089202,
          0.46831830167324723,
          -0.5991384580070195,
          -0.7034819235937314,
          -0.005756903041385128,
          -1.1456182321306265,
          0.031447866394256334,
          1.4440326575276348,
          -0.1595369128971009,
          -0.46006264151509857,
          -1.2419810080488065,
          0.4424990438592372,
          -0.45458918117909897,
          0.07040854588577262,
          0.535026123128374,
          -2.7627953832152032,
          -0.3566709243240767,
          -0.2779553288515251,
          -0.5499009597665894,
          -0.1278460935717795,
          1.2186892425013678,
          -0.1565647499422839,
          -1.1879500510181082,
          -0.4304626168115283,
          0.4839416813547892,
          0.1542255059732776,
          -1.5231298483752214,
          1.5886158111510897,
          1.1141356720888698,
          -0.7321655368474803,
          -1.8814304721270192,
          1.4635612494042156,
          -1.9827593304106776,
          0.36790536391933965,
          -1.0843989162324759,
          -0.13268326375570524,
          -1.6066444790362937,
          -0.19722633200110679,
          0.0003473747000489338,
          0.7826322058019856,
          0.0046955420792266205,
          1.7155986699348522,
          -0.7952410822232646,
          0.4882204326033132,
          1.6053990972634442,
          -0.08503043769723694,
          0.6981169497045339,
          0.4718828971526396,
          -1.2029461823427046,
          0.052845734585076666,
          0.9822259990893973,
          -0.8590769849077312,
          -0.04120464990107362,
          -1.7569650582262712,
          1.1397519733719323,
          -0.6312149218917715,
          -0.046107887891385216,
          0.24742340686524372,
          1.5567864402222436,
          -0.37985498147004226,
          -0.9037102602281021,
          0.49753117291240284,
          0.5670835787226005,
          -0.38057329716763133,
          1.3577291622340146,
          0.7109426758026244,
          0.26514239168730397,
          -1.2476736047793413,
          -0.44164479753864827,
          -0.033615157654650896,
          0.5647092086237513,
          -0.511942159121852
         ]
        }
       ],
       "layout": {
        "legend": {
         "bgcolor": "#F5F6F9",
         "font": {
          "color": "#4D5663"
         }
        },
        "paper_bgcolor": "#F5F6F9",
        "plot_bgcolor": "#F5F6F9",
        "template": {
         "data": {
          "bar": [
           {
            "error_x": {
             "color": "#2a3f5f"
            },
            "error_y": {
             "color": "#2a3f5f"
            },
            "marker": {
             "line": {
              "color": "#E5ECF6",
              "width": 0.5
             }
            },
            "type": "bar"
           }
          ],
          "barpolar": [
           {
            "marker": {
             "line": {
              "color": "#E5ECF6",
              "width": 0.5
             }
            },
            "type": "barpolar"
           }
          ],
          "carpet": [
           {
            "aaxis": {
             "endlinecolor": "#2a3f5f",
             "gridcolor": "white",
             "linecolor": "white",
             "minorgridcolor": "white",
             "startlinecolor": "#2a3f5f"
            },
            "baxis": {
             "endlinecolor": "#2a3f5f",
             "gridcolor": "white",
             "linecolor": "white",
             "minorgridcolor": "white",
             "startlinecolor": "#2a3f5f"
            },
            "type": "carpet"
           }
          ],
          "choropleth": [
           {
            "colorbar": {
             "outlinewidth": 0,
             "ticks": ""
            },
            "type": "choropleth"
           }
          ],
          "contour": [
           {
            "colorbar": {
             "outlinewidth": 0,
             "ticks": ""
            },
            "colorscale": [
             [
              0,
              "#0d0887"
             ],
             [
              0.1111111111111111,
              "#46039f"
             ],
             [
              0.2222222222222222,
              "#7201a8"
             ],
             [
              0.3333333333333333,
              "#9c179e"
             ],
             [
              0.4444444444444444,
              "#bd3786"
             ],
             [
              0.5555555555555556,
              "#d8576b"
             ],
             [
              0.6666666666666666,
              "#ed7953"
             ],
             [
              0.7777777777777778,
              "#fb9f3a"
             ],
             [
              0.8888888888888888,
              "#fdca26"
             ],
             [
              1,
              "#f0f921"
             ]
            ],
            "type": "contour"
           }
          ],
          "contourcarpet": [
           {
            "colorbar": {
             "outlinewidth": 0,
             "ticks": ""
            },
            "type": "contourcarpet"
           }
          ],
          "heatmap": [
           {
            "colorbar": {
             "outlinewidth": 0,
             "ticks": ""
            },
            "colorscale": [
             [
              0,
              "#0d0887"
             ],
             [
              0.1111111111111111,
              "#46039f"
             ],
             [
              0.2222222222222222,
              "#7201a8"
             ],
             [
              0.3333333333333333,
              "#9c179e"
             ],
             [
              0.4444444444444444,
              "#bd3786"
             ],
             [
              0.5555555555555556,
              "#d8576b"
             ],
             [
              0.6666666666666666,
              "#ed7953"
             ],
             [
              0.7777777777777778,
              "#fb9f3a"
             ],
             [
              0.8888888888888888,
              "#fdca26"
             ],
             [
              1,
              "#f0f921"
             ]
            ],
            "type": "heatmap"
           }
          ],
          "heatmapgl": [
           {
            "colorbar": {
             "outlinewidth": 0,
             "ticks": ""
            },
            "colorscale": [
             [
              0,
              "#0d0887"
             ],
             [
              0.1111111111111111,
              "#46039f"
             ],
             [
              0.2222222222222222,
              "#7201a8"
             ],
             [
              0.3333333333333333,
              "#9c179e"
             ],
             [
              0.4444444444444444,
              "#bd3786"
             ],
             [
              0.5555555555555556,
              "#d8576b"
             ],
             [
              0.6666666666666666,
              "#ed7953"
             ],
             [
              0.7777777777777778,
              "#fb9f3a"
             ],
             [
              0.8888888888888888,
              "#fdca26"
             ],
             [
              1,
              "#f0f921"
             ]
            ],
            "type": "heatmapgl"
           }
          ],
          "histogram": [
           {
            "marker": {
             "colorbar": {
              "outlinewidth": 0,
              "ticks": ""
             }
            },
            "type": "histogram"
           }
          ],
          "histogram2d": [
           {
            "colorbar": {
             "outlinewidth": 0,
             "ticks": ""
            },
            "colorscale": [
             [
              0,
              "#0d0887"
             ],
             [
              0.1111111111111111,
              "#46039f"
             ],
             [
              0.2222222222222222,
              "#7201a8"
             ],
             [
              0.3333333333333333,
              "#9c179e"
             ],
             [
              0.4444444444444444,
              "#bd3786"
             ],
             [
              0.5555555555555556,
              "#d8576b"
             ],
             [
              0.6666666666666666,
              "#ed7953"
             ],
             [
              0.7777777777777778,
              "#fb9f3a"
             ],
             [
              0.8888888888888888,
              "#fdca26"
             ],
             [
              1,
              "#f0f921"
             ]
            ],
            "type": "histogram2d"
           }
          ],
          "histogram2dcontour": [
           {
            "colorbar": {
             "outlinewidth": 0,
             "ticks": ""
            },
            "colorscale": [
             [
              0,
              "#0d0887"
             ],
             [
              0.1111111111111111,
              "#46039f"
             ],
             [
              0.2222222222222222,
              "#7201a8"
             ],
             [
              0.3333333333333333,
              "#9c179e"
             ],
             [
              0.4444444444444444,
              "#bd3786"
             ],
             [
              0.5555555555555556,
              "#d8576b"
             ],
             [
              0.6666666666666666,
              "#ed7953"
             ],
             [
              0.7777777777777778,
              "#fb9f3a"
             ],
             [
              0.8888888888888888,
              "#fdca26"
             ],
             [
              1,
              "#f0f921"
             ]
            ],
            "type": "histogram2dcontour"
           }
          ],
          "mesh3d": [
           {
            "colorbar": {
             "outlinewidth": 0,
             "ticks": ""
            },
            "type": "mesh3d"
           }
          ],
          "parcoords": [
           {
            "line": {
             "colorbar": {
              "outlinewidth": 0,
              "ticks": ""
             }
            },
            "type": "parcoords"
           }
          ],
          "pie": [
           {
            "automargin": true,
            "type": "pie"
           }
          ],
          "scatter": [
           {
            "marker": {
             "colorbar": {
              "outlinewidth": 0,
              "ticks": ""
             }
            },
            "type": "scatter"
           }
          ],
          "scatter3d": [
           {
            "line": {
             "colorbar": {
              "outlinewidth": 0,
              "ticks": ""
             }
            },
            "marker": {
             "colorbar": {
              "outlinewidth": 0,
              "ticks": ""
             }
            },
            "type": "scatter3d"
           }
          ],
          "scattercarpet": [
           {
            "marker": {
             "colorbar": {
              "outlinewidth": 0,
              "ticks": ""
             }
            },
            "type": "scattercarpet"
           }
          ],
          "scattergeo": [
           {
            "marker": {
             "colorbar": {
              "outlinewidth": 0,
              "ticks": ""
             }
            },
            "type": "scattergeo"
           }
          ],
          "scattergl": [
           {
            "marker": {
             "colorbar": {
              "outlinewidth": 0,
              "ticks": ""
             }
            },
            "type": "scattergl"
           }
          ],
          "scattermapbox": [
           {
            "marker": {
             "colorbar": {
              "outlinewidth": 0,
              "ticks": ""
             }
            },
            "type": "scattermapbox"
           }
          ],
          "scatterpolar": [
           {
            "marker": {
             "colorbar": {
              "outlinewidth": 0,
              "ticks": ""
             }
            },
            "type": "scatterpolar"
           }
          ],
          "scatterpolargl": [
           {
            "marker": {
             "colorbar": {
              "outlinewidth": 0,
              "ticks": ""
             }
            },
            "type": "scatterpolargl"
           }
          ],
          "scatterternary": [
           {
            "marker": {
             "colorbar": {
              "outlinewidth": 0,
              "ticks": ""
             }
            },
            "type": "scatterternary"
           }
          ],
          "surface": [
           {
            "colorbar": {
             "outlinewidth": 0,
             "ticks": ""
            },
            "colorscale": [
             [
              0,
              "#0d0887"
             ],
             [
              0.1111111111111111,
              "#46039f"
             ],
             [
              0.2222222222222222,
              "#7201a8"
             ],
             [
              0.3333333333333333,
              "#9c179e"
             ],
             [
              0.4444444444444444,
              "#bd3786"
             ],
             [
              0.5555555555555556,
              "#d8576b"
             ],
             [
              0.6666666666666666,
              "#ed7953"
             ],
             [
              0.7777777777777778,
              "#fb9f3a"
             ],
             [
              0.8888888888888888,
              "#fdca26"
             ],
             [
              1,
              "#f0f921"
             ]
            ],
            "type": "surface"
           }
          ],
          "table": [
           {
            "cells": {
             "fill": {
              "color": "#EBF0F8"
             },
             "line": {
              "color": "white"
             }
            },
            "header": {
             "fill": {
              "color": "#C8D4E3"
             },
             "line": {
              "color": "white"
             }
            },
            "type": "table"
           }
          ]
         },
         "layout": {
          "annotationdefaults": {
           "arrowcolor": "#2a3f5f",
           "arrowhead": 0,
           "arrowwidth": 1
          },
          "coloraxis": {
           "colorbar": {
            "outlinewidth": 0,
            "ticks": ""
           }
          },
          "colorscale": {
           "diverging": [
            [
             0,
             "#8e0152"
            ],
            [
             0.1,
             "#c51b7d"
            ],
            [
             0.2,
             "#de77ae"
            ],
            [
             0.3,
             "#f1b6da"
            ],
            [
             0.4,
             "#fde0ef"
            ],
            [
             0.5,
             "#f7f7f7"
            ],
            [
             0.6,
             "#e6f5d0"
            ],
            [
             0.7,
             "#b8e186"
            ],
            [
             0.8,
             "#7fbc41"
            ],
            [
             0.9,
             "#4d9221"
            ],
            [
             1,
             "#276419"
            ]
           ],
           "sequential": [
            [
             0,
             "#0d0887"
            ],
            [
             0.1111111111111111,
             "#46039f"
            ],
            [
             0.2222222222222222,
             "#7201a8"
            ],
            [
             0.3333333333333333,
             "#9c179e"
            ],
            [
             0.4444444444444444,
             "#bd3786"
            ],
            [
             0.5555555555555556,
             "#d8576b"
            ],
            [
             0.6666666666666666,
             "#ed7953"
            ],
            [
             0.7777777777777778,
             "#fb9f3a"
            ],
            [
             0.8888888888888888,
             "#fdca26"
            ],
            [
             1,
             "#f0f921"
            ]
           ],
           "sequentialminus": [
            [
             0,
             "#0d0887"
            ],
            [
             0.1111111111111111,
             "#46039f"
            ],
            [
             0.2222222222222222,
             "#7201a8"
            ],
            [
             0.3333333333333333,
             "#9c179e"
            ],
            [
             0.4444444444444444,
             "#bd3786"
            ],
            [
             0.5555555555555556,
             "#d8576b"
            ],
            [
             0.6666666666666666,
             "#ed7953"
            ],
            [
             0.7777777777777778,
             "#fb9f3a"
            ],
            [
             0.8888888888888888,
             "#fdca26"
            ],
            [
             1,
             "#f0f921"
            ]
           ]
          },
          "colorway": [
           "#636efa",
           "#EF553B",
           "#00cc96",
           "#ab63fa",
           "#FFA15A",
           "#19d3f3",
           "#FF6692",
           "#B6E880",
           "#FF97FF",
           "#FECB52"
          ],
          "font": {
           "color": "#2a3f5f"
          },
          "geo": {
           "bgcolor": "white",
           "lakecolor": "white",
           "landcolor": "#E5ECF6",
           "showlakes": true,
           "showland": true,
           "subunitcolor": "white"
          },
          "hoverlabel": {
           "align": "left"
          },
          "hovermode": "closest",
          "mapbox": {
           "style": "light"
          },
          "paper_bgcolor": "white",
          "plot_bgcolor": "#E5ECF6",
          "polar": {
           "angularaxis": {
            "gridcolor": "white",
            "linecolor": "white",
            "ticks": ""
           },
           "bgcolor": "#E5ECF6",
           "radialaxis": {
            "gridcolor": "white",
            "linecolor": "white",
            "ticks": ""
           }
          },
          "scene": {
           "xaxis": {
            "backgroundcolor": "#E5ECF6",
            "gridcolor": "white",
            "gridwidth": 2,
            "linecolor": "white",
            "showbackground": true,
            "ticks": "",
            "zerolinecolor": "white"
           },
           "yaxis": {
            "backgroundcolor": "#E5ECF6",
            "gridcolor": "white",
            "gridwidth": 2,
            "linecolor": "white",
            "showbackground": true,
            "ticks": "",
            "zerolinecolor": "white"
           },
           "zaxis": {
            "backgroundcolor": "#E5ECF6",
            "gridcolor": "white",
            "gridwidth": 2,
            "linecolor": "white",
            "showbackground": true,
            "ticks": "",
            "zerolinecolor": "white"
           }
          },
          "shapedefaults": {
           "line": {
            "color": "#2a3f5f"
           }
          },
          "ternary": {
           "aaxis": {
            "gridcolor": "white",
            "linecolor": "white",
            "ticks": ""
           },
           "baxis": {
            "gridcolor": "white",
            "linecolor": "white",
            "ticks": ""
           },
           "bgcolor": "#E5ECF6",
           "caxis": {
            "gridcolor": "white",
            "linecolor": "white",
            "ticks": ""
           }
          },
          "title": {
           "x": 0.05
          },
          "xaxis": {
           "automargin": true,
           "gridcolor": "white",
           "linecolor": "white",
           "ticks": "",
           "title": {
            "standoff": 15
           },
           "zerolinecolor": "white",
           "zerolinewidth": 2
          },
          "yaxis": {
           "automargin": true,
           "gridcolor": "white",
           "linecolor": "white",
           "ticks": "",
           "title": {
            "standoff": 15
           },
           "zerolinecolor": "white",
           "zerolinewidth": 2
          }
         }
        },
        "title": {
         "font": {
          "color": "#4D5663"
         }
        },
        "xaxis": {
         "gridcolor": "#E1E5ED",
         "showgrid": true,
         "tickfont": {
          "color": "#4D5663"
         },
         "title": {
          "font": {
           "color": "#4D5663"
          },
          "text": ""
         },
         "zerolinecolor": "#E1E5ED"
        },
        "yaxis": {
         "gridcolor": "#E1E5ED",
         "showgrid": true,
         "tickfont": {
          "color": "#4D5663"
         },
         "title": {
          "font": {
           "color": "#4D5663"
          },
          "text": ""
         },
         "zerolinecolor": "#E1E5ED"
        }
       }
      },
      "text/html": [
       "<div>\n",
       "        \n",
       "        \n",
       "            <div id=\"0b98ef19-f4c0-454e-bcb4-15cb0f35e705\" class=\"plotly-graph-div\" style=\"height:525px; width:100%;\"></div>\n",
       "            <script type=\"text/javascript\">\n",
       "                require([\"plotly\"], function(Plotly) {\n",
       "                    window.PLOTLYENV=window.PLOTLYENV || {};\n",
       "                    window.PLOTLYENV.BASE_URL='https://plot.ly';\n",
       "                    \n",
       "                if (document.getElementById(\"0b98ef19-f4c0-454e-bcb4-15cb0f35e705\")) {\n",
       "                    Plotly.newPlot(\n",
       "                        '0b98ef19-f4c0-454e-bcb4-15cb0f35e705',\n",
       "                        [{\"line\": {\"color\": \"rgba(255, 153, 51, 1.0)\", \"dash\": \"solid\", \"shape\": \"linear\", \"width\": 1.3}, \"marker\": {\"size\": 12, \"symbol\": \"circle\"}, \"mode\": \"markers\", \"name\": \"B\", \"text\": \"\", \"type\": \"scatter\", \"x\": [0.7384849679917865, -0.4739703576787497, -1.2410850999181424, 0.011239248866355677, -0.3023127905230943, 0.2363230440172158, -0.28402355339350155, 0.9399206409610732, 0.7622389377177152, 0.9498089256425105, -1.6162083558302955, 0.9646435176708447, 0.6614496914739366, -1.716143334033692, -2.5356915148878794, -0.9617606145051862, 0.008293435242292549, 1.4810906706268816, 0.6930911578507049, 0.7517083996567843, 1.6773600899238656, 0.20023565995701395, -0.4862336432496669, 0.6424563113780488, 1.0529264632088229, -0.5194348158769179, 0.5193794476182205, -0.2177636551563566, 0.5730394684480788, 0.8894265882891824, 0.16574773044920646, -0.36556200969439046, -0.6371054172325357, 1.1301373234143273, -0.3552754866053425, -0.7883959295021864, 0.5859129449503426, -1.3343892432421331, -0.21179498740280153, 0.8445155577573598, -1.0158186524593766, 1.046865972107086, 1.35629825666338, 1.2275847492949927, -1.8092078608463722, 0.3104716386755969, 1.9439385481339027, -0.046302866157695736, 0.9939623927497057, -1.5237946534936748, -1.3326917554580766, 2.4142179028316892, 0.04185598515241913, -2.1987326086021013, 0.23139778756142068, 0.9666403300832923, -0.24296102909533798, -0.6476057938239268, -0.16151360123863254, 0.4793347634889624, 0.6347851945989572, 0.8434974936512513, 1.002062963811421, 1.2616989085150399, -0.4796951126108852, -1.0526870741532763, -1.19889718235249, -0.8743996784021727, 0.9033046003458987, -1.514389455518979, -0.9101640903693848, 1.3029787614274848, -0.574457267580267, -1.1532287536452923, -1.9252554195383396, 1.5403188122329121, -0.6187670029735031, 1.7146672083316403, 1.2440564828005858, -0.0009091919227137812, 1.1007579242326673, 0.6006154386851078, -1.1507471833784182, -0.7789990876013348, -0.28419337049955345, 1.0236872992597577, 0.7399035390241175, 0.1545230603764189, -1.2790224177216212, 0.8595009913364225, 0.2626145547074289, 0.553328600134025, 0.2672852048766201, -0.8914354807363999, 0.5002622086866662, 0.3346114667624826, -0.8529924982020634, 1.339333316246086, 0.5939467712682505, -1.3180613570001438], \"y\": [-0.22246154249852684, -0.011662737015524104, 0.7002550390215904, -0.2088604533672652, 0.2787572766419977, 0.34604688919031246, 0.3289741381728799, -1.4546634160557221, 0.6591005023770535, 1.6307541996396775, 0.3537425977973349, 0.35489662287960494, -1.2552285412285955, 0.7766227724788735, 0.7313851441745576, 0.17409712272179598, -0.558850148283852, -0.18278009610374715, -0.4385690580727113, -1.1979389827605196, 0.21153250433833218, 0.7543561045168725, 0.10568114726276448, 1.4740937158560674, 0.9652011233966097, -0.23486161961194427, -1.389623772561859, 0.30668566443217743, 1.1120348830089202, 0.46831830167324723, -0.5991384580070195, -0.7034819235937314, -0.005756903041385128, -1.1456182321306265, 0.031447866394256334, 1.4440326575276348, -0.1595369128971009, -0.46006264151509857, -1.2419810080488065, 0.4424990438592372, -0.45458918117909897, 0.07040854588577262, 0.535026123128374, -2.7627953832152032, -0.3566709243240767, -0.2779553288515251, -0.5499009597665894, -0.1278460935717795, 1.2186892425013678, -0.1565647499422839, -1.1879500510181082, -0.4304626168115283, 0.4839416813547892, 0.1542255059732776, -1.5231298483752214, 1.5886158111510897, 1.1141356720888698, -0.7321655368474803, -1.8814304721270192, 1.4635612494042156, -1.9827593304106776, 0.36790536391933965, -1.0843989162324759, -0.13268326375570524, -1.6066444790362937, -0.19722633200110679, 0.0003473747000489338, 0.7826322058019856, 0.0046955420792266205, 1.7155986699348522, -0.7952410822232646, 0.4882204326033132, 1.6053990972634442, -0.08503043769723694, 0.6981169497045339, 0.4718828971526396, -1.2029461823427046, 0.052845734585076666, 0.9822259990893973, -0.8590769849077312, -0.04120464990107362, -1.7569650582262712, 1.1397519733719323, -0.6312149218917715, -0.046107887891385216, 0.24742340686524372, 1.5567864402222436, -0.37985498147004226, -0.9037102602281021, 0.49753117291240284, 0.5670835787226005, -0.38057329716763133, 1.3577291622340146, 0.7109426758026244, 0.26514239168730397, -1.2476736047793413, -0.44164479753864827, -0.033615157654650896, 0.5647092086237513, -0.511942159121852]}],\n",
       "                        {\"legend\": {\"bgcolor\": \"#F5F6F9\", \"font\": {\"color\": \"#4D5663\"}}, \"paper_bgcolor\": \"#F5F6F9\", \"plot_bgcolor\": \"#F5F6F9\", \"template\": {\"data\": {\"bar\": [{\"error_x\": {\"color\": \"#2a3f5f\"}, \"error_y\": {\"color\": \"#2a3f5f\"}, \"marker\": {\"line\": {\"color\": \"#E5ECF6\", \"width\": 0.5}}, \"type\": \"bar\"}], \"barpolar\": [{\"marker\": {\"line\": {\"color\": \"#E5ECF6\", \"width\": 0.5}}, \"type\": \"barpolar\"}], \"carpet\": [{\"aaxis\": {\"endlinecolor\": \"#2a3f5f\", \"gridcolor\": \"white\", \"linecolor\": \"white\", \"minorgridcolor\": \"white\", \"startlinecolor\": \"#2a3f5f\"}, \"baxis\": {\"endlinecolor\": \"#2a3f5f\", \"gridcolor\": \"white\", \"linecolor\": \"white\", \"minorgridcolor\": \"white\", \"startlinecolor\": \"#2a3f5f\"}, \"type\": \"carpet\"}], \"choropleth\": [{\"colorbar\": {\"outlinewidth\": 0, \"ticks\": \"\"}, \"type\": \"choropleth\"}], \"contour\": [{\"colorbar\": {\"outlinewidth\": 0, \"ticks\": \"\"}, \"colorscale\": [[0.0, \"#0d0887\"], [0.1111111111111111, \"#46039f\"], [0.2222222222222222, \"#7201a8\"], [0.3333333333333333, \"#9c179e\"], [0.4444444444444444, \"#bd3786\"], [0.5555555555555556, \"#d8576b\"], [0.6666666666666666, \"#ed7953\"], [0.7777777777777778, \"#fb9f3a\"], [0.8888888888888888, \"#fdca26\"], [1.0, \"#f0f921\"]], \"type\": \"contour\"}], \"contourcarpet\": [{\"colorbar\": {\"outlinewidth\": 0, \"ticks\": \"\"}, \"type\": \"contourcarpet\"}], \"heatmap\": [{\"colorbar\": {\"outlinewidth\": 0, \"ticks\": \"\"}, \"colorscale\": [[0.0, \"#0d0887\"], [0.1111111111111111, \"#46039f\"], [0.2222222222222222, \"#7201a8\"], [0.3333333333333333, \"#9c179e\"], [0.4444444444444444, \"#bd3786\"], [0.5555555555555556, \"#d8576b\"], [0.6666666666666666, \"#ed7953\"], [0.7777777777777778, \"#fb9f3a\"], [0.8888888888888888, \"#fdca26\"], [1.0, \"#f0f921\"]], \"type\": \"heatmap\"}], \"heatmapgl\": [{\"colorbar\": {\"outlinewidth\": 0, \"ticks\": \"\"}, \"colorscale\": [[0.0, \"#0d0887\"], [0.1111111111111111, \"#46039f\"], [0.2222222222222222, \"#7201a8\"], [0.3333333333333333, \"#9c179e\"], [0.4444444444444444, \"#bd3786\"], [0.5555555555555556, \"#d8576b\"], [0.6666666666666666, \"#ed7953\"], [0.7777777777777778, \"#fb9f3a\"], [0.8888888888888888, \"#fdca26\"], [1.0, \"#f0f921\"]], \"type\": \"heatmapgl\"}], \"histogram\": [{\"marker\": {\"colorbar\": {\"outlinewidth\": 0, \"ticks\": \"\"}}, \"type\": \"histogram\"}], \"histogram2d\": [{\"colorbar\": {\"outlinewidth\": 0, \"ticks\": \"\"}, \"colorscale\": [[0.0, \"#0d0887\"], [0.1111111111111111, \"#46039f\"], [0.2222222222222222, \"#7201a8\"], [0.3333333333333333, \"#9c179e\"], [0.4444444444444444, \"#bd3786\"], [0.5555555555555556, \"#d8576b\"], [0.6666666666666666, \"#ed7953\"], [0.7777777777777778, \"#fb9f3a\"], [0.8888888888888888, \"#fdca26\"], [1.0, \"#f0f921\"]], \"type\": \"histogram2d\"}], \"histogram2dcontour\": [{\"colorbar\": {\"outlinewidth\": 0, \"ticks\": \"\"}, \"colorscale\": [[0.0, \"#0d0887\"], [0.1111111111111111, \"#46039f\"], [0.2222222222222222, \"#7201a8\"], [0.3333333333333333, \"#9c179e\"], [0.4444444444444444, \"#bd3786\"], [0.5555555555555556, \"#d8576b\"], [0.6666666666666666, \"#ed7953\"], [0.7777777777777778, \"#fb9f3a\"], [0.8888888888888888, \"#fdca26\"], [1.0, \"#f0f921\"]], \"type\": \"histogram2dcontour\"}], \"mesh3d\": [{\"colorbar\": {\"outlinewidth\": 0, \"ticks\": \"\"}, \"type\": \"mesh3d\"}], \"parcoords\": [{\"line\": {\"colorbar\": {\"outlinewidth\": 0, \"ticks\": \"\"}}, \"type\": \"parcoords\"}], \"pie\": [{\"automargin\": true, \"type\": \"pie\"}], \"scatter\": [{\"marker\": {\"colorbar\": {\"outlinewidth\": 0, \"ticks\": \"\"}}, \"type\": \"scatter\"}], \"scatter3d\": [{\"line\": {\"colorbar\": {\"outlinewidth\": 0, \"ticks\": \"\"}}, \"marker\": {\"colorbar\": {\"outlinewidth\": 0, \"ticks\": \"\"}}, \"type\": \"scatter3d\"}], \"scattercarpet\": [{\"marker\": {\"colorbar\": {\"outlinewidth\": 0, \"ticks\": \"\"}}, \"type\": \"scattercarpet\"}], \"scattergeo\": [{\"marker\": {\"colorbar\": {\"outlinewidth\": 0, \"ticks\": \"\"}}, \"type\": \"scattergeo\"}], \"scattergl\": [{\"marker\": {\"colorbar\": {\"outlinewidth\": 0, \"ticks\": \"\"}}, \"type\": \"scattergl\"}], \"scattermapbox\": [{\"marker\": {\"colorbar\": {\"outlinewidth\": 0, \"ticks\": \"\"}}, \"type\": \"scattermapbox\"}], \"scatterpolar\": [{\"marker\": {\"colorbar\": {\"outlinewidth\": 0, \"ticks\": \"\"}}, \"type\": \"scatterpolar\"}], \"scatterpolargl\": [{\"marker\": {\"colorbar\": {\"outlinewidth\": 0, \"ticks\": \"\"}}, \"type\": \"scatterpolargl\"}], \"scatterternary\": [{\"marker\": {\"colorbar\": {\"outlinewidth\": 0, \"ticks\": \"\"}}, \"type\": \"scatterternary\"}], \"surface\": [{\"colorbar\": {\"outlinewidth\": 0, \"ticks\": \"\"}, \"colorscale\": [[0.0, \"#0d0887\"], [0.1111111111111111, \"#46039f\"], [0.2222222222222222, \"#7201a8\"], [0.3333333333333333, \"#9c179e\"], [0.4444444444444444, \"#bd3786\"], [0.5555555555555556, \"#d8576b\"], [0.6666666666666666, \"#ed7953\"], [0.7777777777777778, \"#fb9f3a\"], [0.8888888888888888, \"#fdca26\"], [1.0, \"#f0f921\"]], \"type\": \"surface\"}], \"table\": [{\"cells\": {\"fill\": {\"color\": \"#EBF0F8\"}, \"line\": {\"color\": \"white\"}}, \"header\": {\"fill\": {\"color\": \"#C8D4E3\"}, \"line\": {\"color\": \"white\"}}, \"type\": \"table\"}]}, \"layout\": {\"annotationdefaults\": {\"arrowcolor\": \"#2a3f5f\", \"arrowhead\": 0, \"arrowwidth\": 1}, \"coloraxis\": {\"colorbar\": {\"outlinewidth\": 0, \"ticks\": \"\"}}, \"colorscale\": {\"diverging\": [[0, \"#8e0152\"], [0.1, \"#c51b7d\"], [0.2, \"#de77ae\"], [0.3, \"#f1b6da\"], [0.4, \"#fde0ef\"], [0.5, \"#f7f7f7\"], [0.6, \"#e6f5d0\"], [0.7, \"#b8e186\"], [0.8, \"#7fbc41\"], [0.9, \"#4d9221\"], [1, \"#276419\"]], \"sequential\": [[0.0, \"#0d0887\"], [0.1111111111111111, \"#46039f\"], [0.2222222222222222, \"#7201a8\"], [0.3333333333333333, \"#9c179e\"], [0.4444444444444444, \"#bd3786\"], [0.5555555555555556, \"#d8576b\"], [0.6666666666666666, \"#ed7953\"], [0.7777777777777778, \"#fb9f3a\"], [0.8888888888888888, \"#fdca26\"], [1.0, \"#f0f921\"]], \"sequentialminus\": [[0.0, \"#0d0887\"], [0.1111111111111111, \"#46039f\"], [0.2222222222222222, \"#7201a8\"], [0.3333333333333333, \"#9c179e\"], [0.4444444444444444, \"#bd3786\"], [0.5555555555555556, \"#d8576b\"], [0.6666666666666666, \"#ed7953\"], [0.7777777777777778, \"#fb9f3a\"], [0.8888888888888888, \"#fdca26\"], [1.0, \"#f0f921\"]]}, \"colorway\": [\"#636efa\", \"#EF553B\", \"#00cc96\", \"#ab63fa\", \"#FFA15A\", \"#19d3f3\", \"#FF6692\", \"#B6E880\", \"#FF97FF\", \"#FECB52\"], \"font\": {\"color\": \"#2a3f5f\"}, \"geo\": {\"bgcolor\": \"white\", \"lakecolor\": \"white\", \"landcolor\": \"#E5ECF6\", \"showlakes\": true, \"showland\": true, \"subunitcolor\": \"white\"}, \"hoverlabel\": {\"align\": \"left\"}, \"hovermode\": \"closest\", \"mapbox\": {\"style\": \"light\"}, \"paper_bgcolor\": \"white\", \"plot_bgcolor\": \"#E5ECF6\", \"polar\": {\"angularaxis\": {\"gridcolor\": \"white\", \"linecolor\": \"white\", \"ticks\": \"\"}, \"bgcolor\": \"#E5ECF6\", \"radialaxis\": {\"gridcolor\": \"white\", \"linecolor\": \"white\", \"ticks\": \"\"}}, \"scene\": {\"xaxis\": {\"backgroundcolor\": \"#E5ECF6\", \"gridcolor\": \"white\", \"gridwidth\": 2, \"linecolor\": \"white\", \"showbackground\": true, \"ticks\": \"\", \"zerolinecolor\": \"white\"}, \"yaxis\": {\"backgroundcolor\": \"#E5ECF6\", \"gridcolor\": \"white\", \"gridwidth\": 2, \"linecolor\": \"white\", \"showbackground\": true, \"ticks\": \"\", \"zerolinecolor\": \"white\"}, \"zaxis\": {\"backgroundcolor\": \"#E5ECF6\", \"gridcolor\": \"white\", \"gridwidth\": 2, \"linecolor\": \"white\", \"showbackground\": true, \"ticks\": \"\", \"zerolinecolor\": \"white\"}}, \"shapedefaults\": {\"line\": {\"color\": \"#2a3f5f\"}}, \"ternary\": {\"aaxis\": {\"gridcolor\": \"white\", \"linecolor\": \"white\", \"ticks\": \"\"}, \"baxis\": {\"gridcolor\": \"white\", \"linecolor\": \"white\", \"ticks\": \"\"}, \"bgcolor\": \"#E5ECF6\", \"caxis\": {\"gridcolor\": \"white\", \"linecolor\": \"white\", \"ticks\": \"\"}}, \"title\": {\"x\": 0.05}, \"xaxis\": {\"automargin\": true, \"gridcolor\": \"white\", \"linecolor\": \"white\", \"ticks\": \"\", \"title\": {\"standoff\": 15}, \"zerolinecolor\": \"white\", \"zerolinewidth\": 2}, \"yaxis\": {\"automargin\": true, \"gridcolor\": \"white\", \"linecolor\": \"white\", \"ticks\": \"\", \"title\": {\"standoff\": 15}, \"zerolinecolor\": \"white\", \"zerolinewidth\": 2}}}, \"title\": {\"font\": {\"color\": \"#4D5663\"}}, \"xaxis\": {\"gridcolor\": \"#E1E5ED\", \"showgrid\": true, \"tickfont\": {\"color\": \"#4D5663\"}, \"title\": {\"font\": {\"color\": \"#4D5663\"}, \"text\": \"\"}, \"zerolinecolor\": \"#E1E5ED\"}, \"yaxis\": {\"gridcolor\": \"#E1E5ED\", \"showgrid\": true, \"tickfont\": {\"color\": \"#4D5663\"}, \"title\": {\"font\": {\"color\": \"#4D5663\"}, \"text\": \"\"}, \"zerolinecolor\": \"#E1E5ED\"}},\n",
       "                        {\"showLink\": true, \"linkText\": \"Export to plot.ly\", \"plotlyServerURL\": \"https://plot.ly\", \"responsive\": true}\n",
       "                    ).then(function(){\n",
       "                            \n",
       "var gd = document.getElementById('0b98ef19-f4c0-454e-bcb4-15cb0f35e705');\n",
       "var x = new MutationObserver(function (mutations, observer) {{\n",
       "        var display = window.getComputedStyle(gd).display;\n",
       "        if (!display || display === 'none') {{\n",
       "            console.log([gd, 'removed!']);\n",
       "            Plotly.purge(gd);\n",
       "            observer.disconnect();\n",
       "        }}\n",
       "}});\n",
       "\n",
       "// Listen for the removal of the full notebook cells\n",
       "var notebookContainer = gd.closest('#notebook-container');\n",
       "if (notebookContainer) {{\n",
       "    x.observe(notebookContainer, {childList: true});\n",
       "}}\n",
       "\n",
       "// Listen for the clearing of the current output cell\n",
       "var outputEl = gd.closest('.output');\n",
       "if (outputEl) {{\n",
       "    x.observe(outputEl, {childList: true});\n",
       "}}\n",
       "\n",
       "                        })\n",
       "                };\n",
       "                });\n",
       "            </script>\n",
       "        </div>"
      ]
     },
     "metadata": {},
     "output_type": "display_data"
    }
   ],
   "source": [
    "df.iplot(kind='scatter',x='A',y='B',mode='markers')"
   ]
  },
  {
   "cell_type": "code",
   "execution_count": 16,
   "metadata": {},
   "outputs": [
    {
     "data": {
      "application/vnd.plotly.v1+json": {
       "config": {
        "linkText": "Export to plot.ly",
        "plotlyServerURL": "https://plot.ly",
        "showLink": true
       },
       "data": [
        {
         "marker": {
          "color": "rgba(255, 153, 51, 0.6)",
          "line": {
           "color": "rgba(255, 153, 51, 1.0)",
           "width": 1
          }
         },
         "name": "Values",
         "orientation": "v",
         "text": "",
         "type": "bar",
         "x": [
          "A",
          "B",
          "C"
         ],
         "y": [
          32,
          43,
          50
         ]
        }
       ],
       "layout": {
        "legend": {
         "bgcolor": "#F5F6F9",
         "font": {
          "color": "#4D5663"
         }
        },
        "paper_bgcolor": "#F5F6F9",
        "plot_bgcolor": "#F5F6F9",
        "template": {
         "data": {
          "bar": [
           {
            "error_x": {
             "color": "#2a3f5f"
            },
            "error_y": {
             "color": "#2a3f5f"
            },
            "marker": {
             "line": {
              "color": "#E5ECF6",
              "width": 0.5
             }
            },
            "type": "bar"
           }
          ],
          "barpolar": [
           {
            "marker": {
             "line": {
              "color": "#E5ECF6",
              "width": 0.5
             }
            },
            "type": "barpolar"
           }
          ],
          "carpet": [
           {
            "aaxis": {
             "endlinecolor": "#2a3f5f",
             "gridcolor": "white",
             "linecolor": "white",
             "minorgridcolor": "white",
             "startlinecolor": "#2a3f5f"
            },
            "baxis": {
             "endlinecolor": "#2a3f5f",
             "gridcolor": "white",
             "linecolor": "white",
             "minorgridcolor": "white",
             "startlinecolor": "#2a3f5f"
            },
            "type": "carpet"
           }
          ],
          "choropleth": [
           {
            "colorbar": {
             "outlinewidth": 0,
             "ticks": ""
            },
            "type": "choropleth"
           }
          ],
          "contour": [
           {
            "colorbar": {
             "outlinewidth": 0,
             "ticks": ""
            },
            "colorscale": [
             [
              0,
              "#0d0887"
             ],
             [
              0.1111111111111111,
              "#46039f"
             ],
             [
              0.2222222222222222,
              "#7201a8"
             ],
             [
              0.3333333333333333,
              "#9c179e"
             ],
             [
              0.4444444444444444,
              "#bd3786"
             ],
             [
              0.5555555555555556,
              "#d8576b"
             ],
             [
              0.6666666666666666,
              "#ed7953"
             ],
             [
              0.7777777777777778,
              "#fb9f3a"
             ],
             [
              0.8888888888888888,
              "#fdca26"
             ],
             [
              1,
              "#f0f921"
             ]
            ],
            "type": "contour"
           }
          ],
          "contourcarpet": [
           {
            "colorbar": {
             "outlinewidth": 0,
             "ticks": ""
            },
            "type": "contourcarpet"
           }
          ],
          "heatmap": [
           {
            "colorbar": {
             "outlinewidth": 0,
             "ticks": ""
            },
            "colorscale": [
             [
              0,
              "#0d0887"
             ],
             [
              0.1111111111111111,
              "#46039f"
             ],
             [
              0.2222222222222222,
              "#7201a8"
             ],
             [
              0.3333333333333333,
              "#9c179e"
             ],
             [
              0.4444444444444444,
              "#bd3786"
             ],
             [
              0.5555555555555556,
              "#d8576b"
             ],
             [
              0.6666666666666666,
              "#ed7953"
             ],
             [
              0.7777777777777778,
              "#fb9f3a"
             ],
             [
              0.8888888888888888,
              "#fdca26"
             ],
             [
              1,
              "#f0f921"
             ]
            ],
            "type": "heatmap"
           }
          ],
          "heatmapgl": [
           {
            "colorbar": {
             "outlinewidth": 0,
             "ticks": ""
            },
            "colorscale": [
             [
              0,
              "#0d0887"
             ],
             [
              0.1111111111111111,
              "#46039f"
             ],
             [
              0.2222222222222222,
              "#7201a8"
             ],
             [
              0.3333333333333333,
              "#9c179e"
             ],
             [
              0.4444444444444444,
              "#bd3786"
             ],
             [
              0.5555555555555556,
              "#d8576b"
             ],
             [
              0.6666666666666666,
              "#ed7953"
             ],
             [
              0.7777777777777778,
              "#fb9f3a"
             ],
             [
              0.8888888888888888,
              "#fdca26"
             ],
             [
              1,
              "#f0f921"
             ]
            ],
            "type": "heatmapgl"
           }
          ],
          "histogram": [
           {
            "marker": {
             "colorbar": {
              "outlinewidth": 0,
              "ticks": ""
             }
            },
            "type": "histogram"
           }
          ],
          "histogram2d": [
           {
            "colorbar": {
             "outlinewidth": 0,
             "ticks": ""
            },
            "colorscale": [
             [
              0,
              "#0d0887"
             ],
             [
              0.1111111111111111,
              "#46039f"
             ],
             [
              0.2222222222222222,
              "#7201a8"
             ],
             [
              0.3333333333333333,
              "#9c179e"
             ],
             [
              0.4444444444444444,
              "#bd3786"
             ],
             [
              0.5555555555555556,
              "#d8576b"
             ],
             [
              0.6666666666666666,
              "#ed7953"
             ],
             [
              0.7777777777777778,
              "#fb9f3a"
             ],
             [
              0.8888888888888888,
              "#fdca26"
             ],
             [
              1,
              "#f0f921"
             ]
            ],
            "type": "histogram2d"
           }
          ],
          "histogram2dcontour": [
           {
            "colorbar": {
             "outlinewidth": 0,
             "ticks": ""
            },
            "colorscale": [
             [
              0,
              "#0d0887"
             ],
             [
              0.1111111111111111,
              "#46039f"
             ],
             [
              0.2222222222222222,
              "#7201a8"
             ],
             [
              0.3333333333333333,
              "#9c179e"
             ],
             [
              0.4444444444444444,
              "#bd3786"
             ],
             [
              0.5555555555555556,
              "#d8576b"
             ],
             [
              0.6666666666666666,
              "#ed7953"
             ],
             [
              0.7777777777777778,
              "#fb9f3a"
             ],
             [
              0.8888888888888888,
              "#fdca26"
             ],
             [
              1,
              "#f0f921"
             ]
            ],
            "type": "histogram2dcontour"
           }
          ],
          "mesh3d": [
           {
            "colorbar": {
             "outlinewidth": 0,
             "ticks": ""
            },
            "type": "mesh3d"
           }
          ],
          "parcoords": [
           {
            "line": {
             "colorbar": {
              "outlinewidth": 0,
              "ticks": ""
             }
            },
            "type": "parcoords"
           }
          ],
          "pie": [
           {
            "automargin": true,
            "type": "pie"
           }
          ],
          "scatter": [
           {
            "marker": {
             "colorbar": {
              "outlinewidth": 0,
              "ticks": ""
             }
            },
            "type": "scatter"
           }
          ],
          "scatter3d": [
           {
            "line": {
             "colorbar": {
              "outlinewidth": 0,
              "ticks": ""
             }
            },
            "marker": {
             "colorbar": {
              "outlinewidth": 0,
              "ticks": ""
             }
            },
            "type": "scatter3d"
           }
          ],
          "scattercarpet": [
           {
            "marker": {
             "colorbar": {
              "outlinewidth": 0,
              "ticks": ""
             }
            },
            "type": "scattercarpet"
           }
          ],
          "scattergeo": [
           {
            "marker": {
             "colorbar": {
              "outlinewidth": 0,
              "ticks": ""
             }
            },
            "type": "scattergeo"
           }
          ],
          "scattergl": [
           {
            "marker": {
             "colorbar": {
              "outlinewidth": 0,
              "ticks": ""
             }
            },
            "type": "scattergl"
           }
          ],
          "scattermapbox": [
           {
            "marker": {
             "colorbar": {
              "outlinewidth": 0,
              "ticks": ""
             }
            },
            "type": "scattermapbox"
           }
          ],
          "scatterpolar": [
           {
            "marker": {
             "colorbar": {
              "outlinewidth": 0,
              "ticks": ""
             }
            },
            "type": "scatterpolar"
           }
          ],
          "scatterpolargl": [
           {
            "marker": {
             "colorbar": {
              "outlinewidth": 0,
              "ticks": ""
             }
            },
            "type": "scatterpolargl"
           }
          ],
          "scatterternary": [
           {
            "marker": {
             "colorbar": {
              "outlinewidth": 0,
              "ticks": ""
             }
            },
            "type": "scatterternary"
           }
          ],
          "surface": [
           {
            "colorbar": {
             "outlinewidth": 0,
             "ticks": ""
            },
            "colorscale": [
             [
              0,
              "#0d0887"
             ],
             [
              0.1111111111111111,
              "#46039f"
             ],
             [
              0.2222222222222222,
              "#7201a8"
             ],
             [
              0.3333333333333333,
              "#9c179e"
             ],
             [
              0.4444444444444444,
              "#bd3786"
             ],
             [
              0.5555555555555556,
              "#d8576b"
             ],
             [
              0.6666666666666666,
              "#ed7953"
             ],
             [
              0.7777777777777778,
              "#fb9f3a"
             ],
             [
              0.8888888888888888,
              "#fdca26"
             ],
             [
              1,
              "#f0f921"
             ]
            ],
            "type": "surface"
           }
          ],
          "table": [
           {
            "cells": {
             "fill": {
              "color": "#EBF0F8"
             },
             "line": {
              "color": "white"
             }
            },
            "header": {
             "fill": {
              "color": "#C8D4E3"
             },
             "line": {
              "color": "white"
             }
            },
            "type": "table"
           }
          ]
         },
         "layout": {
          "annotationdefaults": {
           "arrowcolor": "#2a3f5f",
           "arrowhead": 0,
           "arrowwidth": 1
          },
          "coloraxis": {
           "colorbar": {
            "outlinewidth": 0,
            "ticks": ""
           }
          },
          "colorscale": {
           "diverging": [
            [
             0,
             "#8e0152"
            ],
            [
             0.1,
             "#c51b7d"
            ],
            [
             0.2,
             "#de77ae"
            ],
            [
             0.3,
             "#f1b6da"
            ],
            [
             0.4,
             "#fde0ef"
            ],
            [
             0.5,
             "#f7f7f7"
            ],
            [
             0.6,
             "#e6f5d0"
            ],
            [
             0.7,
             "#b8e186"
            ],
            [
             0.8,
             "#7fbc41"
            ],
            [
             0.9,
             "#4d9221"
            ],
            [
             1,
             "#276419"
            ]
           ],
           "sequential": [
            [
             0,
             "#0d0887"
            ],
            [
             0.1111111111111111,
             "#46039f"
            ],
            [
             0.2222222222222222,
             "#7201a8"
            ],
            [
             0.3333333333333333,
             "#9c179e"
            ],
            [
             0.4444444444444444,
             "#bd3786"
            ],
            [
             0.5555555555555556,
             "#d8576b"
            ],
            [
             0.6666666666666666,
             "#ed7953"
            ],
            [
             0.7777777777777778,
             "#fb9f3a"
            ],
            [
             0.8888888888888888,
             "#fdca26"
            ],
            [
             1,
             "#f0f921"
            ]
           ],
           "sequentialminus": [
            [
             0,
             "#0d0887"
            ],
            [
             0.1111111111111111,
             "#46039f"
            ],
            [
             0.2222222222222222,
             "#7201a8"
            ],
            [
             0.3333333333333333,
             "#9c179e"
            ],
            [
             0.4444444444444444,
             "#bd3786"
            ],
            [
             0.5555555555555556,
             "#d8576b"
            ],
            [
             0.6666666666666666,
             "#ed7953"
            ],
            [
             0.7777777777777778,
             "#fb9f3a"
            ],
            [
             0.8888888888888888,
             "#fdca26"
            ],
            [
             1,
             "#f0f921"
            ]
           ]
          },
          "colorway": [
           "#636efa",
           "#EF553B",
           "#00cc96",
           "#ab63fa",
           "#FFA15A",
           "#19d3f3",
           "#FF6692",
           "#B6E880",
           "#FF97FF",
           "#FECB52"
          ],
          "font": {
           "color": "#2a3f5f"
          },
          "geo": {
           "bgcolor": "white",
           "lakecolor": "white",
           "landcolor": "#E5ECF6",
           "showlakes": true,
           "showland": true,
           "subunitcolor": "white"
          },
          "hoverlabel": {
           "align": "left"
          },
          "hovermode": "closest",
          "mapbox": {
           "style": "light"
          },
          "paper_bgcolor": "white",
          "plot_bgcolor": "#E5ECF6",
          "polar": {
           "angularaxis": {
            "gridcolor": "white",
            "linecolor": "white",
            "ticks": ""
           },
           "bgcolor": "#E5ECF6",
           "radialaxis": {
            "gridcolor": "white",
            "linecolor": "white",
            "ticks": ""
           }
          },
          "scene": {
           "xaxis": {
            "backgroundcolor": "#E5ECF6",
            "gridcolor": "white",
            "gridwidth": 2,
            "linecolor": "white",
            "showbackground": true,
            "ticks": "",
            "zerolinecolor": "white"
           },
           "yaxis": {
            "backgroundcolor": "#E5ECF6",
            "gridcolor": "white",
            "gridwidth": 2,
            "linecolor": "white",
            "showbackground": true,
            "ticks": "",
            "zerolinecolor": "white"
           },
           "zaxis": {
            "backgroundcolor": "#E5ECF6",
            "gridcolor": "white",
            "gridwidth": 2,
            "linecolor": "white",
            "showbackground": true,
            "ticks": "",
            "zerolinecolor": "white"
           }
          },
          "shapedefaults": {
           "line": {
            "color": "#2a3f5f"
           }
          },
          "ternary": {
           "aaxis": {
            "gridcolor": "white",
            "linecolor": "white",
            "ticks": ""
           },
           "baxis": {
            "gridcolor": "white",
            "linecolor": "white",
            "ticks": ""
           },
           "bgcolor": "#E5ECF6",
           "caxis": {
            "gridcolor": "white",
            "linecolor": "white",
            "ticks": ""
           }
          },
          "title": {
           "x": 0.05
          },
          "xaxis": {
           "automargin": true,
           "gridcolor": "white",
           "linecolor": "white",
           "ticks": "",
           "title": {
            "standoff": 15
           },
           "zerolinecolor": "white",
           "zerolinewidth": 2
          },
          "yaxis": {
           "automargin": true,
           "gridcolor": "white",
           "linecolor": "white",
           "ticks": "",
           "title": {
            "standoff": 15
           },
           "zerolinecolor": "white",
           "zerolinewidth": 2
          }
         }
        },
        "title": {
         "font": {
          "color": "#4D5663"
         }
        },
        "xaxis": {
         "gridcolor": "#E1E5ED",
         "showgrid": true,
         "tickfont": {
          "color": "#4D5663"
         },
         "title": {
          "font": {
           "color": "#4D5663"
          },
          "text": ""
         },
         "zerolinecolor": "#E1E5ED"
        },
        "yaxis": {
         "gridcolor": "#E1E5ED",
         "showgrid": true,
         "tickfont": {
          "color": "#4D5663"
         },
         "title": {
          "font": {
           "color": "#4D5663"
          },
          "text": ""
         },
         "zerolinecolor": "#E1E5ED"
        }
       }
      },
      "text/html": [
       "<div>\n",
       "        \n",
       "        \n",
       "            <div id=\"74c92617-5ccc-46e6-b936-d1a36c101079\" class=\"plotly-graph-div\" style=\"height:525px; width:100%;\"></div>\n",
       "            <script type=\"text/javascript\">\n",
       "                require([\"plotly\"], function(Plotly) {\n",
       "                    window.PLOTLYENV=window.PLOTLYENV || {};\n",
       "                    window.PLOTLYENV.BASE_URL='https://plot.ly';\n",
       "                    \n",
       "                if (document.getElementById(\"74c92617-5ccc-46e6-b936-d1a36c101079\")) {\n",
       "                    Plotly.newPlot(\n",
       "                        '74c92617-5ccc-46e6-b936-d1a36c101079',\n",
       "                        [{\"marker\": {\"color\": \"rgba(255, 153, 51, 0.6)\", \"line\": {\"color\": \"rgba(255, 153, 51, 1.0)\", \"width\": 1}}, \"name\": \"Values\", \"orientation\": \"v\", \"text\": \"\", \"type\": \"bar\", \"x\": [\"A\", \"B\", \"C\"], \"y\": [32, 43, 50]}],\n",
       "                        {\"legend\": {\"bgcolor\": \"#F5F6F9\", \"font\": {\"color\": \"#4D5663\"}}, \"paper_bgcolor\": \"#F5F6F9\", \"plot_bgcolor\": \"#F5F6F9\", \"template\": {\"data\": {\"bar\": [{\"error_x\": {\"color\": \"#2a3f5f\"}, \"error_y\": {\"color\": \"#2a3f5f\"}, \"marker\": {\"line\": {\"color\": \"#E5ECF6\", \"width\": 0.5}}, \"type\": \"bar\"}], \"barpolar\": [{\"marker\": {\"line\": {\"color\": \"#E5ECF6\", \"width\": 0.5}}, \"type\": \"barpolar\"}], \"carpet\": [{\"aaxis\": {\"endlinecolor\": \"#2a3f5f\", \"gridcolor\": \"white\", \"linecolor\": \"white\", \"minorgridcolor\": \"white\", \"startlinecolor\": \"#2a3f5f\"}, \"baxis\": {\"endlinecolor\": \"#2a3f5f\", \"gridcolor\": \"white\", \"linecolor\": \"white\", \"minorgridcolor\": \"white\", \"startlinecolor\": \"#2a3f5f\"}, \"type\": \"carpet\"}], \"choropleth\": [{\"colorbar\": {\"outlinewidth\": 0, \"ticks\": \"\"}, \"type\": \"choropleth\"}], \"contour\": [{\"colorbar\": {\"outlinewidth\": 0, \"ticks\": \"\"}, \"colorscale\": [[0.0, \"#0d0887\"], [0.1111111111111111, \"#46039f\"], [0.2222222222222222, \"#7201a8\"], [0.3333333333333333, \"#9c179e\"], [0.4444444444444444, \"#bd3786\"], [0.5555555555555556, \"#d8576b\"], [0.6666666666666666, \"#ed7953\"], [0.7777777777777778, \"#fb9f3a\"], [0.8888888888888888, \"#fdca26\"], [1.0, \"#f0f921\"]], \"type\": \"contour\"}], \"contourcarpet\": [{\"colorbar\": {\"outlinewidth\": 0, \"ticks\": \"\"}, \"type\": \"contourcarpet\"}], \"heatmap\": [{\"colorbar\": {\"outlinewidth\": 0, \"ticks\": \"\"}, \"colorscale\": [[0.0, \"#0d0887\"], [0.1111111111111111, \"#46039f\"], [0.2222222222222222, \"#7201a8\"], [0.3333333333333333, \"#9c179e\"], [0.4444444444444444, \"#bd3786\"], [0.5555555555555556, \"#d8576b\"], [0.6666666666666666, \"#ed7953\"], [0.7777777777777778, \"#fb9f3a\"], [0.8888888888888888, \"#fdca26\"], [1.0, \"#f0f921\"]], \"type\": \"heatmap\"}], \"heatmapgl\": [{\"colorbar\": {\"outlinewidth\": 0, \"ticks\": \"\"}, \"colorscale\": [[0.0, \"#0d0887\"], [0.1111111111111111, \"#46039f\"], [0.2222222222222222, \"#7201a8\"], [0.3333333333333333, \"#9c179e\"], [0.4444444444444444, \"#bd3786\"], [0.5555555555555556, \"#d8576b\"], [0.6666666666666666, \"#ed7953\"], [0.7777777777777778, \"#fb9f3a\"], [0.8888888888888888, \"#fdca26\"], [1.0, \"#f0f921\"]], \"type\": \"heatmapgl\"}], \"histogram\": [{\"marker\": {\"colorbar\": {\"outlinewidth\": 0, \"ticks\": \"\"}}, \"type\": \"histogram\"}], \"histogram2d\": [{\"colorbar\": {\"outlinewidth\": 0, \"ticks\": \"\"}, \"colorscale\": [[0.0, \"#0d0887\"], [0.1111111111111111, \"#46039f\"], [0.2222222222222222, \"#7201a8\"], [0.3333333333333333, \"#9c179e\"], [0.4444444444444444, \"#bd3786\"], [0.5555555555555556, \"#d8576b\"], [0.6666666666666666, \"#ed7953\"], [0.7777777777777778, \"#fb9f3a\"], [0.8888888888888888, \"#fdca26\"], [1.0, \"#f0f921\"]], \"type\": \"histogram2d\"}], \"histogram2dcontour\": [{\"colorbar\": {\"outlinewidth\": 0, \"ticks\": \"\"}, \"colorscale\": [[0.0, \"#0d0887\"], [0.1111111111111111, \"#46039f\"], [0.2222222222222222, \"#7201a8\"], [0.3333333333333333, \"#9c179e\"], [0.4444444444444444, \"#bd3786\"], [0.5555555555555556, \"#d8576b\"], [0.6666666666666666, \"#ed7953\"], [0.7777777777777778, \"#fb9f3a\"], [0.8888888888888888, \"#fdca26\"], [1.0, \"#f0f921\"]], \"type\": \"histogram2dcontour\"}], \"mesh3d\": [{\"colorbar\": {\"outlinewidth\": 0, \"ticks\": \"\"}, \"type\": \"mesh3d\"}], \"parcoords\": [{\"line\": {\"colorbar\": {\"outlinewidth\": 0, \"ticks\": \"\"}}, \"type\": \"parcoords\"}], \"pie\": [{\"automargin\": true, \"type\": \"pie\"}], \"scatter\": [{\"marker\": {\"colorbar\": {\"outlinewidth\": 0, \"ticks\": \"\"}}, \"type\": \"scatter\"}], \"scatter3d\": [{\"line\": {\"colorbar\": {\"outlinewidth\": 0, \"ticks\": \"\"}}, \"marker\": {\"colorbar\": {\"outlinewidth\": 0, \"ticks\": \"\"}}, \"type\": \"scatter3d\"}], \"scattercarpet\": [{\"marker\": {\"colorbar\": {\"outlinewidth\": 0, \"ticks\": \"\"}}, \"type\": \"scattercarpet\"}], \"scattergeo\": [{\"marker\": {\"colorbar\": {\"outlinewidth\": 0, \"ticks\": \"\"}}, \"type\": \"scattergeo\"}], \"scattergl\": [{\"marker\": {\"colorbar\": {\"outlinewidth\": 0, \"ticks\": \"\"}}, \"type\": \"scattergl\"}], \"scattermapbox\": [{\"marker\": {\"colorbar\": {\"outlinewidth\": 0, \"ticks\": \"\"}}, \"type\": \"scattermapbox\"}], \"scatterpolar\": [{\"marker\": {\"colorbar\": {\"outlinewidth\": 0, \"ticks\": \"\"}}, \"type\": \"scatterpolar\"}], \"scatterpolargl\": [{\"marker\": {\"colorbar\": {\"outlinewidth\": 0, \"ticks\": \"\"}}, \"type\": \"scatterpolargl\"}], \"scatterternary\": [{\"marker\": {\"colorbar\": {\"outlinewidth\": 0, \"ticks\": \"\"}}, \"type\": \"scatterternary\"}], \"surface\": [{\"colorbar\": {\"outlinewidth\": 0, \"ticks\": \"\"}, \"colorscale\": [[0.0, \"#0d0887\"], [0.1111111111111111, \"#46039f\"], [0.2222222222222222, \"#7201a8\"], [0.3333333333333333, \"#9c179e\"], [0.4444444444444444, \"#bd3786\"], [0.5555555555555556, \"#d8576b\"], [0.6666666666666666, \"#ed7953\"], [0.7777777777777778, \"#fb9f3a\"], [0.8888888888888888, \"#fdca26\"], [1.0, \"#f0f921\"]], \"type\": \"surface\"}], \"table\": [{\"cells\": {\"fill\": {\"color\": \"#EBF0F8\"}, \"line\": {\"color\": \"white\"}}, \"header\": {\"fill\": {\"color\": \"#C8D4E3\"}, \"line\": {\"color\": \"white\"}}, \"type\": \"table\"}]}, \"layout\": {\"annotationdefaults\": {\"arrowcolor\": \"#2a3f5f\", \"arrowhead\": 0, \"arrowwidth\": 1}, \"coloraxis\": {\"colorbar\": {\"outlinewidth\": 0, \"ticks\": \"\"}}, \"colorscale\": {\"diverging\": [[0, \"#8e0152\"], [0.1, \"#c51b7d\"], [0.2, \"#de77ae\"], [0.3, \"#f1b6da\"], [0.4, \"#fde0ef\"], [0.5, \"#f7f7f7\"], [0.6, \"#e6f5d0\"], [0.7, \"#b8e186\"], [0.8, \"#7fbc41\"], [0.9, \"#4d9221\"], [1, \"#276419\"]], \"sequential\": [[0.0, \"#0d0887\"], [0.1111111111111111, \"#46039f\"], [0.2222222222222222, \"#7201a8\"], [0.3333333333333333, \"#9c179e\"], [0.4444444444444444, \"#bd3786\"], [0.5555555555555556, \"#d8576b\"], [0.6666666666666666, \"#ed7953\"], [0.7777777777777778, \"#fb9f3a\"], [0.8888888888888888, \"#fdca26\"], [1.0, \"#f0f921\"]], \"sequentialminus\": [[0.0, \"#0d0887\"], [0.1111111111111111, \"#46039f\"], [0.2222222222222222, \"#7201a8\"], [0.3333333333333333, \"#9c179e\"], [0.4444444444444444, \"#bd3786\"], [0.5555555555555556, \"#d8576b\"], [0.6666666666666666, \"#ed7953\"], [0.7777777777777778, \"#fb9f3a\"], [0.8888888888888888, \"#fdca26\"], [1.0, \"#f0f921\"]]}, \"colorway\": [\"#636efa\", \"#EF553B\", \"#00cc96\", \"#ab63fa\", \"#FFA15A\", \"#19d3f3\", \"#FF6692\", \"#B6E880\", \"#FF97FF\", \"#FECB52\"], \"font\": {\"color\": \"#2a3f5f\"}, \"geo\": {\"bgcolor\": \"white\", \"lakecolor\": \"white\", \"landcolor\": \"#E5ECF6\", \"showlakes\": true, \"showland\": true, \"subunitcolor\": \"white\"}, \"hoverlabel\": {\"align\": \"left\"}, \"hovermode\": \"closest\", \"mapbox\": {\"style\": \"light\"}, \"paper_bgcolor\": \"white\", \"plot_bgcolor\": \"#E5ECF6\", \"polar\": {\"angularaxis\": {\"gridcolor\": \"white\", \"linecolor\": \"white\", \"ticks\": \"\"}, \"bgcolor\": \"#E5ECF6\", \"radialaxis\": {\"gridcolor\": \"white\", \"linecolor\": \"white\", \"ticks\": \"\"}}, \"scene\": {\"xaxis\": {\"backgroundcolor\": \"#E5ECF6\", \"gridcolor\": \"white\", \"gridwidth\": 2, \"linecolor\": \"white\", \"showbackground\": true, \"ticks\": \"\", \"zerolinecolor\": \"white\"}, \"yaxis\": {\"backgroundcolor\": \"#E5ECF6\", \"gridcolor\": \"white\", \"gridwidth\": 2, \"linecolor\": \"white\", \"showbackground\": true, \"ticks\": \"\", \"zerolinecolor\": \"white\"}, \"zaxis\": {\"backgroundcolor\": \"#E5ECF6\", \"gridcolor\": \"white\", \"gridwidth\": 2, \"linecolor\": \"white\", \"showbackground\": true, \"ticks\": \"\", \"zerolinecolor\": \"white\"}}, \"shapedefaults\": {\"line\": {\"color\": \"#2a3f5f\"}}, \"ternary\": {\"aaxis\": {\"gridcolor\": \"white\", \"linecolor\": \"white\", \"ticks\": \"\"}, \"baxis\": {\"gridcolor\": \"white\", \"linecolor\": \"white\", \"ticks\": \"\"}, \"bgcolor\": \"#E5ECF6\", \"caxis\": {\"gridcolor\": \"white\", \"linecolor\": \"white\", \"ticks\": \"\"}}, \"title\": {\"x\": 0.05}, \"xaxis\": {\"automargin\": true, \"gridcolor\": \"white\", \"linecolor\": \"white\", \"ticks\": \"\", \"title\": {\"standoff\": 15}, \"zerolinecolor\": \"white\", \"zerolinewidth\": 2}, \"yaxis\": {\"automargin\": true, \"gridcolor\": \"white\", \"linecolor\": \"white\", \"ticks\": \"\", \"title\": {\"standoff\": 15}, \"zerolinecolor\": \"white\", \"zerolinewidth\": 2}}}, \"title\": {\"font\": {\"color\": \"#4D5663\"}}, \"xaxis\": {\"gridcolor\": \"#E1E5ED\", \"showgrid\": true, \"tickfont\": {\"color\": \"#4D5663\"}, \"title\": {\"font\": {\"color\": \"#4D5663\"}, \"text\": \"\"}, \"zerolinecolor\": \"#E1E5ED\"}, \"yaxis\": {\"gridcolor\": \"#E1E5ED\", \"showgrid\": true, \"tickfont\": {\"color\": \"#4D5663\"}, \"title\": {\"font\": {\"color\": \"#4D5663\"}, \"text\": \"\"}, \"zerolinecolor\": \"#E1E5ED\"}},\n",
       "                        {\"showLink\": true, \"linkText\": \"Export to plot.ly\", \"plotlyServerURL\": \"https://plot.ly\", \"responsive\": true}\n",
       "                    ).then(function(){\n",
       "                            \n",
       "var gd = document.getElementById('74c92617-5ccc-46e6-b936-d1a36c101079');\n",
       "var x = new MutationObserver(function (mutations, observer) {{\n",
       "        var display = window.getComputedStyle(gd).display;\n",
       "        if (!display || display === 'none') {{\n",
       "            console.log([gd, 'removed!']);\n",
       "            Plotly.purge(gd);\n",
       "            observer.disconnect();\n",
       "        }}\n",
       "}});\n",
       "\n",
       "// Listen for the removal of the full notebook cells\n",
       "var notebookContainer = gd.closest('#notebook-container');\n",
       "if (notebookContainer) {{\n",
       "    x.observe(notebookContainer, {childList: true});\n",
       "}}\n",
       "\n",
       "// Listen for the clearing of the current output cell\n",
       "var outputEl = gd.closest('.output');\n",
       "if (outputEl) {{\n",
       "    x.observe(outputEl, {childList: true});\n",
       "}}\n",
       "\n",
       "                        })\n",
       "                };\n",
       "                });\n",
       "            </script>\n",
       "        </div>"
      ]
     },
     "metadata": {},
     "output_type": "display_data"
    }
   ],
   "source": [
    "df2.iplot(kind='bar',x='Category',y='Values')"
   ]
  },
  {
   "cell_type": "code",
   "execution_count": 17,
   "metadata": {},
   "outputs": [
    {
     "data": {
      "application/vnd.plotly.v1+json": {
       "config": {
        "linkText": "Export to plot.ly",
        "plotlyServerURL": "https://plot.ly",
        "showLink": true
       },
       "data": [
        {
         "marker": {
          "color": "rgba(255, 153, 51, 0.6)",
          "line": {
           "color": "rgba(255, 153, 51, 1.0)",
           "width": 1
          }
         },
         "name": "None",
         "orientation": "v",
         "text": "",
         "type": "bar",
         "x": [
          "A",
          "B",
          "C",
          "D"
         ],
         "y": [
          100,
          100,
          100,
          100
         ]
        }
       ],
       "layout": {
        "legend": {
         "bgcolor": "#F5F6F9",
         "font": {
          "color": "#4D5663"
         }
        },
        "paper_bgcolor": "#F5F6F9",
        "plot_bgcolor": "#F5F6F9",
        "template": {
         "data": {
          "bar": [
           {
            "error_x": {
             "color": "#2a3f5f"
            },
            "error_y": {
             "color": "#2a3f5f"
            },
            "marker": {
             "line": {
              "color": "#E5ECF6",
              "width": 0.5
             }
            },
            "type": "bar"
           }
          ],
          "barpolar": [
           {
            "marker": {
             "line": {
              "color": "#E5ECF6",
              "width": 0.5
             }
            },
            "type": "barpolar"
           }
          ],
          "carpet": [
           {
            "aaxis": {
             "endlinecolor": "#2a3f5f",
             "gridcolor": "white",
             "linecolor": "white",
             "minorgridcolor": "white",
             "startlinecolor": "#2a3f5f"
            },
            "baxis": {
             "endlinecolor": "#2a3f5f",
             "gridcolor": "white",
             "linecolor": "white",
             "minorgridcolor": "white",
             "startlinecolor": "#2a3f5f"
            },
            "type": "carpet"
           }
          ],
          "choropleth": [
           {
            "colorbar": {
             "outlinewidth": 0,
             "ticks": ""
            },
            "type": "choropleth"
           }
          ],
          "contour": [
           {
            "colorbar": {
             "outlinewidth": 0,
             "ticks": ""
            },
            "colorscale": [
             [
              0,
              "#0d0887"
             ],
             [
              0.1111111111111111,
              "#46039f"
             ],
             [
              0.2222222222222222,
              "#7201a8"
             ],
             [
              0.3333333333333333,
              "#9c179e"
             ],
             [
              0.4444444444444444,
              "#bd3786"
             ],
             [
              0.5555555555555556,
              "#d8576b"
             ],
             [
              0.6666666666666666,
              "#ed7953"
             ],
             [
              0.7777777777777778,
              "#fb9f3a"
             ],
             [
              0.8888888888888888,
              "#fdca26"
             ],
             [
              1,
              "#f0f921"
             ]
            ],
            "type": "contour"
           }
          ],
          "contourcarpet": [
           {
            "colorbar": {
             "outlinewidth": 0,
             "ticks": ""
            },
            "type": "contourcarpet"
           }
          ],
          "heatmap": [
           {
            "colorbar": {
             "outlinewidth": 0,
             "ticks": ""
            },
            "colorscale": [
             [
              0,
              "#0d0887"
             ],
             [
              0.1111111111111111,
              "#46039f"
             ],
             [
              0.2222222222222222,
              "#7201a8"
             ],
             [
              0.3333333333333333,
              "#9c179e"
             ],
             [
              0.4444444444444444,
              "#bd3786"
             ],
             [
              0.5555555555555556,
              "#d8576b"
             ],
             [
              0.6666666666666666,
              "#ed7953"
             ],
             [
              0.7777777777777778,
              "#fb9f3a"
             ],
             [
              0.8888888888888888,
              "#fdca26"
             ],
             [
              1,
              "#f0f921"
             ]
            ],
            "type": "heatmap"
           }
          ],
          "heatmapgl": [
           {
            "colorbar": {
             "outlinewidth": 0,
             "ticks": ""
            },
            "colorscale": [
             [
              0,
              "#0d0887"
             ],
             [
              0.1111111111111111,
              "#46039f"
             ],
             [
              0.2222222222222222,
              "#7201a8"
             ],
             [
              0.3333333333333333,
              "#9c179e"
             ],
             [
              0.4444444444444444,
              "#bd3786"
             ],
             [
              0.5555555555555556,
              "#d8576b"
             ],
             [
              0.6666666666666666,
              "#ed7953"
             ],
             [
              0.7777777777777778,
              "#fb9f3a"
             ],
             [
              0.8888888888888888,
              "#fdca26"
             ],
             [
              1,
              "#f0f921"
             ]
            ],
            "type": "heatmapgl"
           }
          ],
          "histogram": [
           {
            "marker": {
             "colorbar": {
              "outlinewidth": 0,
              "ticks": ""
             }
            },
            "type": "histogram"
           }
          ],
          "histogram2d": [
           {
            "colorbar": {
             "outlinewidth": 0,
             "ticks": ""
            },
            "colorscale": [
             [
              0,
              "#0d0887"
             ],
             [
              0.1111111111111111,
              "#46039f"
             ],
             [
              0.2222222222222222,
              "#7201a8"
             ],
             [
              0.3333333333333333,
              "#9c179e"
             ],
             [
              0.4444444444444444,
              "#bd3786"
             ],
             [
              0.5555555555555556,
              "#d8576b"
             ],
             [
              0.6666666666666666,
              "#ed7953"
             ],
             [
              0.7777777777777778,
              "#fb9f3a"
             ],
             [
              0.8888888888888888,
              "#fdca26"
             ],
             [
              1,
              "#f0f921"
             ]
            ],
            "type": "histogram2d"
           }
          ],
          "histogram2dcontour": [
           {
            "colorbar": {
             "outlinewidth": 0,
             "ticks": ""
            },
            "colorscale": [
             [
              0,
              "#0d0887"
             ],
             [
              0.1111111111111111,
              "#46039f"
             ],
             [
              0.2222222222222222,
              "#7201a8"
             ],
             [
              0.3333333333333333,
              "#9c179e"
             ],
             [
              0.4444444444444444,
              "#bd3786"
             ],
             [
              0.5555555555555556,
              "#d8576b"
             ],
             [
              0.6666666666666666,
              "#ed7953"
             ],
             [
              0.7777777777777778,
              "#fb9f3a"
             ],
             [
              0.8888888888888888,
              "#fdca26"
             ],
             [
              1,
              "#f0f921"
             ]
            ],
            "type": "histogram2dcontour"
           }
          ],
          "mesh3d": [
           {
            "colorbar": {
             "outlinewidth": 0,
             "ticks": ""
            },
            "type": "mesh3d"
           }
          ],
          "parcoords": [
           {
            "line": {
             "colorbar": {
              "outlinewidth": 0,
              "ticks": ""
             }
            },
            "type": "parcoords"
           }
          ],
          "pie": [
           {
            "automargin": true,
            "type": "pie"
           }
          ],
          "scatter": [
           {
            "marker": {
             "colorbar": {
              "outlinewidth": 0,
              "ticks": ""
             }
            },
            "type": "scatter"
           }
          ],
          "scatter3d": [
           {
            "line": {
             "colorbar": {
              "outlinewidth": 0,
              "ticks": ""
             }
            },
            "marker": {
             "colorbar": {
              "outlinewidth": 0,
              "ticks": ""
             }
            },
            "type": "scatter3d"
           }
          ],
          "scattercarpet": [
           {
            "marker": {
             "colorbar": {
              "outlinewidth": 0,
              "ticks": ""
             }
            },
            "type": "scattercarpet"
           }
          ],
          "scattergeo": [
           {
            "marker": {
             "colorbar": {
              "outlinewidth": 0,
              "ticks": ""
             }
            },
            "type": "scattergeo"
           }
          ],
          "scattergl": [
           {
            "marker": {
             "colorbar": {
              "outlinewidth": 0,
              "ticks": ""
             }
            },
            "type": "scattergl"
           }
          ],
          "scattermapbox": [
           {
            "marker": {
             "colorbar": {
              "outlinewidth": 0,
              "ticks": ""
             }
            },
            "type": "scattermapbox"
           }
          ],
          "scatterpolar": [
           {
            "marker": {
             "colorbar": {
              "outlinewidth": 0,
              "ticks": ""
             }
            },
            "type": "scatterpolar"
           }
          ],
          "scatterpolargl": [
           {
            "marker": {
             "colorbar": {
              "outlinewidth": 0,
              "ticks": ""
             }
            },
            "type": "scatterpolargl"
           }
          ],
          "scatterternary": [
           {
            "marker": {
             "colorbar": {
              "outlinewidth": 0,
              "ticks": ""
             }
            },
            "type": "scatterternary"
           }
          ],
          "surface": [
           {
            "colorbar": {
             "outlinewidth": 0,
             "ticks": ""
            },
            "colorscale": [
             [
              0,
              "#0d0887"
             ],
             [
              0.1111111111111111,
              "#46039f"
             ],
             [
              0.2222222222222222,
              "#7201a8"
             ],
             [
              0.3333333333333333,
              "#9c179e"
             ],
             [
              0.4444444444444444,
              "#bd3786"
             ],
             [
              0.5555555555555556,
              "#d8576b"
             ],
             [
              0.6666666666666666,
              "#ed7953"
             ],
             [
              0.7777777777777778,
              "#fb9f3a"
             ],
             [
              0.8888888888888888,
              "#fdca26"
             ],
             [
              1,
              "#f0f921"
             ]
            ],
            "type": "surface"
           }
          ],
          "table": [
           {
            "cells": {
             "fill": {
              "color": "#EBF0F8"
             },
             "line": {
              "color": "white"
             }
            },
            "header": {
             "fill": {
              "color": "#C8D4E3"
             },
             "line": {
              "color": "white"
             }
            },
            "type": "table"
           }
          ]
         },
         "layout": {
          "annotationdefaults": {
           "arrowcolor": "#2a3f5f",
           "arrowhead": 0,
           "arrowwidth": 1
          },
          "coloraxis": {
           "colorbar": {
            "outlinewidth": 0,
            "ticks": ""
           }
          },
          "colorscale": {
           "diverging": [
            [
             0,
             "#8e0152"
            ],
            [
             0.1,
             "#c51b7d"
            ],
            [
             0.2,
             "#de77ae"
            ],
            [
             0.3,
             "#f1b6da"
            ],
            [
             0.4,
             "#fde0ef"
            ],
            [
             0.5,
             "#f7f7f7"
            ],
            [
             0.6,
             "#e6f5d0"
            ],
            [
             0.7,
             "#b8e186"
            ],
            [
             0.8,
             "#7fbc41"
            ],
            [
             0.9,
             "#4d9221"
            ],
            [
             1,
             "#276419"
            ]
           ],
           "sequential": [
            [
             0,
             "#0d0887"
            ],
            [
             0.1111111111111111,
             "#46039f"
            ],
            [
             0.2222222222222222,
             "#7201a8"
            ],
            [
             0.3333333333333333,
             "#9c179e"
            ],
            [
             0.4444444444444444,
             "#bd3786"
            ],
            [
             0.5555555555555556,
             "#d8576b"
            ],
            [
             0.6666666666666666,
             "#ed7953"
            ],
            [
             0.7777777777777778,
             "#fb9f3a"
            ],
            [
             0.8888888888888888,
             "#fdca26"
            ],
            [
             1,
             "#f0f921"
            ]
           ],
           "sequentialminus": [
            [
             0,
             "#0d0887"
            ],
            [
             0.1111111111111111,
             "#46039f"
            ],
            [
             0.2222222222222222,
             "#7201a8"
            ],
            [
             0.3333333333333333,
             "#9c179e"
            ],
            [
             0.4444444444444444,
             "#bd3786"
            ],
            [
             0.5555555555555556,
             "#d8576b"
            ],
            [
             0.6666666666666666,
             "#ed7953"
            ],
            [
             0.7777777777777778,
             "#fb9f3a"
            ],
            [
             0.8888888888888888,
             "#fdca26"
            ],
            [
             1,
             "#f0f921"
            ]
           ]
          },
          "colorway": [
           "#636efa",
           "#EF553B",
           "#00cc96",
           "#ab63fa",
           "#FFA15A",
           "#19d3f3",
           "#FF6692",
           "#B6E880",
           "#FF97FF",
           "#FECB52"
          ],
          "font": {
           "color": "#2a3f5f"
          },
          "geo": {
           "bgcolor": "white",
           "lakecolor": "white",
           "landcolor": "#E5ECF6",
           "showlakes": true,
           "showland": true,
           "subunitcolor": "white"
          },
          "hoverlabel": {
           "align": "left"
          },
          "hovermode": "closest",
          "mapbox": {
           "style": "light"
          },
          "paper_bgcolor": "white",
          "plot_bgcolor": "#E5ECF6",
          "polar": {
           "angularaxis": {
            "gridcolor": "white",
            "linecolor": "white",
            "ticks": ""
           },
           "bgcolor": "#E5ECF6",
           "radialaxis": {
            "gridcolor": "white",
            "linecolor": "white",
            "ticks": ""
           }
          },
          "scene": {
           "xaxis": {
            "backgroundcolor": "#E5ECF6",
            "gridcolor": "white",
            "gridwidth": 2,
            "linecolor": "white",
            "showbackground": true,
            "ticks": "",
            "zerolinecolor": "white"
           },
           "yaxis": {
            "backgroundcolor": "#E5ECF6",
            "gridcolor": "white",
            "gridwidth": 2,
            "linecolor": "white",
            "showbackground": true,
            "ticks": "",
            "zerolinecolor": "white"
           },
           "zaxis": {
            "backgroundcolor": "#E5ECF6",
            "gridcolor": "white",
            "gridwidth": 2,
            "linecolor": "white",
            "showbackground": true,
            "ticks": "",
            "zerolinecolor": "white"
           }
          },
          "shapedefaults": {
           "line": {
            "color": "#2a3f5f"
           }
          },
          "ternary": {
           "aaxis": {
            "gridcolor": "white",
            "linecolor": "white",
            "ticks": ""
           },
           "baxis": {
            "gridcolor": "white",
            "linecolor": "white",
            "ticks": ""
           },
           "bgcolor": "#E5ECF6",
           "caxis": {
            "gridcolor": "white",
            "linecolor": "white",
            "ticks": ""
           }
          },
          "title": {
           "x": 0.05
          },
          "xaxis": {
           "automargin": true,
           "gridcolor": "white",
           "linecolor": "white",
           "ticks": "",
           "title": {
            "standoff": 15
           },
           "zerolinecolor": "white",
           "zerolinewidth": 2
          },
          "yaxis": {
           "automargin": true,
           "gridcolor": "white",
           "linecolor": "white",
           "ticks": "",
           "title": {
            "standoff": 15
           },
           "zerolinecolor": "white",
           "zerolinewidth": 2
          }
         }
        },
        "title": {
         "font": {
          "color": "#4D5663"
         }
        },
        "xaxis": {
         "gridcolor": "#E1E5ED",
         "showgrid": true,
         "tickfont": {
          "color": "#4D5663"
         },
         "title": {
          "font": {
           "color": "#4D5663"
          },
          "text": ""
         },
         "zerolinecolor": "#E1E5ED"
        },
        "yaxis": {
         "gridcolor": "#E1E5ED",
         "showgrid": true,
         "tickfont": {
          "color": "#4D5663"
         },
         "title": {
          "font": {
           "color": "#4D5663"
          },
          "text": ""
         },
         "zerolinecolor": "#E1E5ED"
        }
       }
      },
      "text/html": [
       "<div>\n",
       "        \n",
       "        \n",
       "            <div id=\"5af9a036-9845-4ec9-85f7-55d1080c7e42\" class=\"plotly-graph-div\" style=\"height:525px; width:100%;\"></div>\n",
       "            <script type=\"text/javascript\">\n",
       "                require([\"plotly\"], function(Plotly) {\n",
       "                    window.PLOTLYENV=window.PLOTLYENV || {};\n",
       "                    window.PLOTLYENV.BASE_URL='https://plot.ly';\n",
       "                    \n",
       "                if (document.getElementById(\"5af9a036-9845-4ec9-85f7-55d1080c7e42\")) {\n",
       "                    Plotly.newPlot(\n",
       "                        '5af9a036-9845-4ec9-85f7-55d1080c7e42',\n",
       "                        [{\"marker\": {\"color\": \"rgba(255, 153, 51, 0.6)\", \"line\": {\"color\": \"rgba(255, 153, 51, 1.0)\", \"width\": 1}}, \"name\": \"None\", \"orientation\": \"v\", \"text\": \"\", \"type\": \"bar\", \"x\": [\"A\", \"B\", \"C\", \"D\"], \"y\": [100, 100, 100, 100]}],\n",
       "                        {\"legend\": {\"bgcolor\": \"#F5F6F9\", \"font\": {\"color\": \"#4D5663\"}}, \"paper_bgcolor\": \"#F5F6F9\", \"plot_bgcolor\": \"#F5F6F9\", \"template\": {\"data\": {\"bar\": [{\"error_x\": {\"color\": \"#2a3f5f\"}, \"error_y\": {\"color\": \"#2a3f5f\"}, \"marker\": {\"line\": {\"color\": \"#E5ECF6\", \"width\": 0.5}}, \"type\": \"bar\"}], \"barpolar\": [{\"marker\": {\"line\": {\"color\": \"#E5ECF6\", \"width\": 0.5}}, \"type\": \"barpolar\"}], \"carpet\": [{\"aaxis\": {\"endlinecolor\": \"#2a3f5f\", \"gridcolor\": \"white\", \"linecolor\": \"white\", \"minorgridcolor\": \"white\", \"startlinecolor\": \"#2a3f5f\"}, \"baxis\": {\"endlinecolor\": \"#2a3f5f\", \"gridcolor\": \"white\", \"linecolor\": \"white\", \"minorgridcolor\": \"white\", \"startlinecolor\": \"#2a3f5f\"}, \"type\": \"carpet\"}], \"choropleth\": [{\"colorbar\": {\"outlinewidth\": 0, \"ticks\": \"\"}, \"type\": \"choropleth\"}], \"contour\": [{\"colorbar\": {\"outlinewidth\": 0, \"ticks\": \"\"}, \"colorscale\": [[0.0, \"#0d0887\"], [0.1111111111111111, \"#46039f\"], [0.2222222222222222, \"#7201a8\"], [0.3333333333333333, \"#9c179e\"], [0.4444444444444444, \"#bd3786\"], [0.5555555555555556, \"#d8576b\"], [0.6666666666666666, \"#ed7953\"], [0.7777777777777778, \"#fb9f3a\"], [0.8888888888888888, \"#fdca26\"], [1.0, \"#f0f921\"]], \"type\": \"contour\"}], \"contourcarpet\": [{\"colorbar\": {\"outlinewidth\": 0, \"ticks\": \"\"}, \"type\": \"contourcarpet\"}], \"heatmap\": [{\"colorbar\": {\"outlinewidth\": 0, \"ticks\": \"\"}, \"colorscale\": [[0.0, \"#0d0887\"], [0.1111111111111111, \"#46039f\"], [0.2222222222222222, \"#7201a8\"], [0.3333333333333333, \"#9c179e\"], [0.4444444444444444, \"#bd3786\"], [0.5555555555555556, \"#d8576b\"], [0.6666666666666666, \"#ed7953\"], [0.7777777777777778, \"#fb9f3a\"], [0.8888888888888888, \"#fdca26\"], [1.0, \"#f0f921\"]], \"type\": \"heatmap\"}], \"heatmapgl\": [{\"colorbar\": {\"outlinewidth\": 0, \"ticks\": \"\"}, \"colorscale\": [[0.0, \"#0d0887\"], [0.1111111111111111, \"#46039f\"], [0.2222222222222222, \"#7201a8\"], [0.3333333333333333, \"#9c179e\"], [0.4444444444444444, \"#bd3786\"], [0.5555555555555556, \"#d8576b\"], [0.6666666666666666, \"#ed7953\"], [0.7777777777777778, \"#fb9f3a\"], [0.8888888888888888, \"#fdca26\"], [1.0, \"#f0f921\"]], \"type\": \"heatmapgl\"}], \"histogram\": [{\"marker\": {\"colorbar\": {\"outlinewidth\": 0, \"ticks\": \"\"}}, \"type\": \"histogram\"}], \"histogram2d\": [{\"colorbar\": {\"outlinewidth\": 0, \"ticks\": \"\"}, \"colorscale\": [[0.0, \"#0d0887\"], [0.1111111111111111, \"#46039f\"], [0.2222222222222222, \"#7201a8\"], [0.3333333333333333, \"#9c179e\"], [0.4444444444444444, \"#bd3786\"], [0.5555555555555556, \"#d8576b\"], [0.6666666666666666, \"#ed7953\"], [0.7777777777777778, \"#fb9f3a\"], [0.8888888888888888, \"#fdca26\"], [1.0, \"#f0f921\"]], \"type\": \"histogram2d\"}], \"histogram2dcontour\": [{\"colorbar\": {\"outlinewidth\": 0, \"ticks\": \"\"}, \"colorscale\": [[0.0, \"#0d0887\"], [0.1111111111111111, \"#46039f\"], [0.2222222222222222, \"#7201a8\"], [0.3333333333333333, \"#9c179e\"], [0.4444444444444444, \"#bd3786\"], [0.5555555555555556, \"#d8576b\"], [0.6666666666666666, \"#ed7953\"], [0.7777777777777778, \"#fb9f3a\"], [0.8888888888888888, \"#fdca26\"], [1.0, \"#f0f921\"]], \"type\": \"histogram2dcontour\"}], \"mesh3d\": [{\"colorbar\": {\"outlinewidth\": 0, \"ticks\": \"\"}, \"type\": \"mesh3d\"}], \"parcoords\": [{\"line\": {\"colorbar\": {\"outlinewidth\": 0, \"ticks\": \"\"}}, \"type\": \"parcoords\"}], \"pie\": [{\"automargin\": true, \"type\": \"pie\"}], \"scatter\": [{\"marker\": {\"colorbar\": {\"outlinewidth\": 0, \"ticks\": \"\"}}, \"type\": \"scatter\"}], \"scatter3d\": [{\"line\": {\"colorbar\": {\"outlinewidth\": 0, \"ticks\": \"\"}}, \"marker\": {\"colorbar\": {\"outlinewidth\": 0, \"ticks\": \"\"}}, \"type\": \"scatter3d\"}], \"scattercarpet\": [{\"marker\": {\"colorbar\": {\"outlinewidth\": 0, \"ticks\": \"\"}}, \"type\": \"scattercarpet\"}], \"scattergeo\": [{\"marker\": {\"colorbar\": {\"outlinewidth\": 0, \"ticks\": \"\"}}, \"type\": \"scattergeo\"}], \"scattergl\": [{\"marker\": {\"colorbar\": {\"outlinewidth\": 0, \"ticks\": \"\"}}, \"type\": \"scattergl\"}], \"scattermapbox\": [{\"marker\": {\"colorbar\": {\"outlinewidth\": 0, \"ticks\": \"\"}}, \"type\": \"scattermapbox\"}], \"scatterpolar\": [{\"marker\": {\"colorbar\": {\"outlinewidth\": 0, \"ticks\": \"\"}}, \"type\": \"scatterpolar\"}], \"scatterpolargl\": [{\"marker\": {\"colorbar\": {\"outlinewidth\": 0, \"ticks\": \"\"}}, \"type\": \"scatterpolargl\"}], \"scatterternary\": [{\"marker\": {\"colorbar\": {\"outlinewidth\": 0, \"ticks\": \"\"}}, \"type\": \"scatterternary\"}], \"surface\": [{\"colorbar\": {\"outlinewidth\": 0, \"ticks\": \"\"}, \"colorscale\": [[0.0, \"#0d0887\"], [0.1111111111111111, \"#46039f\"], [0.2222222222222222, \"#7201a8\"], [0.3333333333333333, \"#9c179e\"], [0.4444444444444444, \"#bd3786\"], [0.5555555555555556, \"#d8576b\"], [0.6666666666666666, \"#ed7953\"], [0.7777777777777778, \"#fb9f3a\"], [0.8888888888888888, \"#fdca26\"], [1.0, \"#f0f921\"]], \"type\": \"surface\"}], \"table\": [{\"cells\": {\"fill\": {\"color\": \"#EBF0F8\"}, \"line\": {\"color\": \"white\"}}, \"header\": {\"fill\": {\"color\": \"#C8D4E3\"}, \"line\": {\"color\": \"white\"}}, \"type\": \"table\"}]}, \"layout\": {\"annotationdefaults\": {\"arrowcolor\": \"#2a3f5f\", \"arrowhead\": 0, \"arrowwidth\": 1}, \"coloraxis\": {\"colorbar\": {\"outlinewidth\": 0, \"ticks\": \"\"}}, \"colorscale\": {\"diverging\": [[0, \"#8e0152\"], [0.1, \"#c51b7d\"], [0.2, \"#de77ae\"], [0.3, \"#f1b6da\"], [0.4, \"#fde0ef\"], [0.5, \"#f7f7f7\"], [0.6, \"#e6f5d0\"], [0.7, \"#b8e186\"], [0.8, \"#7fbc41\"], [0.9, \"#4d9221\"], [1, \"#276419\"]], \"sequential\": [[0.0, \"#0d0887\"], [0.1111111111111111, \"#46039f\"], [0.2222222222222222, \"#7201a8\"], [0.3333333333333333, \"#9c179e\"], [0.4444444444444444, \"#bd3786\"], [0.5555555555555556, \"#d8576b\"], [0.6666666666666666, \"#ed7953\"], [0.7777777777777778, \"#fb9f3a\"], [0.8888888888888888, \"#fdca26\"], [1.0, \"#f0f921\"]], \"sequentialminus\": [[0.0, \"#0d0887\"], [0.1111111111111111, \"#46039f\"], [0.2222222222222222, \"#7201a8\"], [0.3333333333333333, \"#9c179e\"], [0.4444444444444444, \"#bd3786\"], [0.5555555555555556, \"#d8576b\"], [0.6666666666666666, \"#ed7953\"], [0.7777777777777778, \"#fb9f3a\"], [0.8888888888888888, \"#fdca26\"], [1.0, \"#f0f921\"]]}, \"colorway\": [\"#636efa\", \"#EF553B\", \"#00cc96\", \"#ab63fa\", \"#FFA15A\", \"#19d3f3\", \"#FF6692\", \"#B6E880\", \"#FF97FF\", \"#FECB52\"], \"font\": {\"color\": \"#2a3f5f\"}, \"geo\": {\"bgcolor\": \"white\", \"lakecolor\": \"white\", \"landcolor\": \"#E5ECF6\", \"showlakes\": true, \"showland\": true, \"subunitcolor\": \"white\"}, \"hoverlabel\": {\"align\": \"left\"}, \"hovermode\": \"closest\", \"mapbox\": {\"style\": \"light\"}, \"paper_bgcolor\": \"white\", \"plot_bgcolor\": \"#E5ECF6\", \"polar\": {\"angularaxis\": {\"gridcolor\": \"white\", \"linecolor\": \"white\", \"ticks\": \"\"}, \"bgcolor\": \"#E5ECF6\", \"radialaxis\": {\"gridcolor\": \"white\", \"linecolor\": \"white\", \"ticks\": \"\"}}, \"scene\": {\"xaxis\": {\"backgroundcolor\": \"#E5ECF6\", \"gridcolor\": \"white\", \"gridwidth\": 2, \"linecolor\": \"white\", \"showbackground\": true, \"ticks\": \"\", \"zerolinecolor\": \"white\"}, \"yaxis\": {\"backgroundcolor\": \"#E5ECF6\", \"gridcolor\": \"white\", \"gridwidth\": 2, \"linecolor\": \"white\", \"showbackground\": true, \"ticks\": \"\", \"zerolinecolor\": \"white\"}, \"zaxis\": {\"backgroundcolor\": \"#E5ECF6\", \"gridcolor\": \"white\", \"gridwidth\": 2, \"linecolor\": \"white\", \"showbackground\": true, \"ticks\": \"\", \"zerolinecolor\": \"white\"}}, \"shapedefaults\": {\"line\": {\"color\": \"#2a3f5f\"}}, \"ternary\": {\"aaxis\": {\"gridcolor\": \"white\", \"linecolor\": \"white\", \"ticks\": \"\"}, \"baxis\": {\"gridcolor\": \"white\", \"linecolor\": \"white\", \"ticks\": \"\"}, \"bgcolor\": \"#E5ECF6\", \"caxis\": {\"gridcolor\": \"white\", \"linecolor\": \"white\", \"ticks\": \"\"}}, \"title\": {\"x\": 0.05}, \"xaxis\": {\"automargin\": true, \"gridcolor\": \"white\", \"linecolor\": \"white\", \"ticks\": \"\", \"title\": {\"standoff\": 15}, \"zerolinecolor\": \"white\", \"zerolinewidth\": 2}, \"yaxis\": {\"automargin\": true, \"gridcolor\": \"white\", \"linecolor\": \"white\", \"ticks\": \"\", \"title\": {\"standoff\": 15}, \"zerolinecolor\": \"white\", \"zerolinewidth\": 2}}}, \"title\": {\"font\": {\"color\": \"#4D5663\"}}, \"xaxis\": {\"gridcolor\": \"#E1E5ED\", \"showgrid\": true, \"tickfont\": {\"color\": \"#4D5663\"}, \"title\": {\"font\": {\"color\": \"#4D5663\"}, \"text\": \"\"}, \"zerolinecolor\": \"#E1E5ED\"}, \"yaxis\": {\"gridcolor\": \"#E1E5ED\", \"showgrid\": true, \"tickfont\": {\"color\": \"#4D5663\"}, \"title\": {\"font\": {\"color\": \"#4D5663\"}, \"text\": \"\"}, \"zerolinecolor\": \"#E1E5ED\"}},\n",
       "                        {\"showLink\": true, \"linkText\": \"Export to plot.ly\", \"plotlyServerURL\": \"https://plot.ly\", \"responsive\": true}\n",
       "                    ).then(function(){\n",
       "                            \n",
       "var gd = document.getElementById('5af9a036-9845-4ec9-85f7-55d1080c7e42');\n",
       "var x = new MutationObserver(function (mutations, observer) {{\n",
       "        var display = window.getComputedStyle(gd).display;\n",
       "        if (!display || display === 'none') {{\n",
       "            console.log([gd, 'removed!']);\n",
       "            Plotly.purge(gd);\n",
       "            observer.disconnect();\n",
       "        }}\n",
       "}});\n",
       "\n",
       "// Listen for the removal of the full notebook cells\n",
       "var notebookContainer = gd.closest('#notebook-container');\n",
       "if (notebookContainer) {{\n",
       "    x.observe(notebookContainer, {childList: true});\n",
       "}}\n",
       "\n",
       "// Listen for the clearing of the current output cell\n",
       "var outputEl = gd.closest('.output');\n",
       "if (outputEl) {{\n",
       "    x.observe(outputEl, {childList: true});\n",
       "}}\n",
       "\n",
       "                        })\n",
       "                };\n",
       "                });\n",
       "            </script>\n",
       "        </div>"
      ]
     },
     "metadata": {},
     "output_type": "display_data"
    }
   ],
   "source": [
    "df.count().iplot(kind='bar')"
   ]
  },
  {
   "cell_type": "code",
   "execution_count": 18,
   "metadata": {},
   "outputs": [
    {
     "data": {
      "application/vnd.plotly.v1+json": {
       "config": {
        "linkText": "Export to plot.ly",
        "plotlyServerURL": "https://plot.ly",
        "showLink": true
       },
       "data": [
        {
         "boxpoints": false,
         "line": {
          "width": 1.3
         },
         "marker": {
          "color": "rgba(255, 153, 51, 1.0)"
         },
         "name": "A",
         "orientation": "v",
         "type": "box",
         "y": [
          0.7384849679917865,
          -0.4739703576787497,
          -1.2410850999181424,
          0.011239248866355677,
          -0.3023127905230943,
          0.2363230440172158,
          -0.28402355339350155,
          0.9399206409610732,
          0.7622389377177152,
          0.9498089256425105,
          -1.6162083558302955,
          0.9646435176708447,
          0.6614496914739366,
          -1.716143334033692,
          -2.5356915148878794,
          -0.9617606145051862,
          0.008293435242292549,
          1.4810906706268816,
          0.6930911578507049,
          0.7517083996567843,
          1.6773600899238656,
          0.20023565995701395,
          -0.4862336432496669,
          0.6424563113780488,
          1.0529264632088229,
          -0.5194348158769179,
          0.5193794476182205,
          -0.2177636551563566,
          0.5730394684480788,
          0.8894265882891824,
          0.16574773044920646,
          -0.36556200969439046,
          -0.6371054172325357,
          1.1301373234143273,
          -0.3552754866053425,
          -0.7883959295021864,
          0.5859129449503426,
          -1.3343892432421331,
          -0.21179498740280153,
          0.8445155577573598,
          -1.0158186524593766,
          1.046865972107086,
          1.35629825666338,
          1.2275847492949927,
          -1.8092078608463722,
          0.3104716386755969,
          1.9439385481339027,
          -0.046302866157695736,
          0.9939623927497057,
          -1.5237946534936748,
          -1.3326917554580766,
          2.4142179028316892,
          0.04185598515241913,
          -2.1987326086021013,
          0.23139778756142068,
          0.9666403300832923,
          -0.24296102909533798,
          -0.6476057938239268,
          -0.16151360123863254,
          0.4793347634889624,
          0.6347851945989572,
          0.8434974936512513,
          1.002062963811421,
          1.2616989085150399,
          -0.4796951126108852,
          -1.0526870741532763,
          -1.19889718235249,
          -0.8743996784021727,
          0.9033046003458987,
          -1.514389455518979,
          -0.9101640903693848,
          1.3029787614274848,
          -0.574457267580267,
          -1.1532287536452923,
          -1.9252554195383396,
          1.5403188122329121,
          -0.6187670029735031,
          1.7146672083316403,
          1.2440564828005858,
          -0.0009091919227137812,
          1.1007579242326673,
          0.6006154386851078,
          -1.1507471833784182,
          -0.7789990876013348,
          -0.28419337049955345,
          1.0236872992597577,
          0.7399035390241175,
          0.1545230603764189,
          -1.2790224177216212,
          0.8595009913364225,
          0.2626145547074289,
          0.553328600134025,
          0.2672852048766201,
          -0.8914354807363999,
          0.5002622086866662,
          0.3346114667624826,
          -0.8529924982020634,
          1.339333316246086,
          0.5939467712682505,
          -1.3180613570001438
         ]
        },
        {
         "boxpoints": false,
         "line": {
          "width": 1.3
         },
         "marker": {
          "color": "rgba(55, 128, 191, 1.0)"
         },
         "name": "B",
         "orientation": "v",
         "type": "box",
         "y": [
          -0.22246154249852684,
          -0.011662737015524104,
          0.7002550390215904,
          -0.2088604533672652,
          0.2787572766419977,
          0.34604688919031246,
          0.3289741381728799,
          -1.4546634160557221,
          0.6591005023770535,
          1.6307541996396775,
          0.3537425977973349,
          0.35489662287960494,
          -1.2552285412285955,
          0.7766227724788735,
          0.7313851441745576,
          0.17409712272179598,
          -0.558850148283852,
          -0.18278009610374715,
          -0.4385690580727113,
          -1.1979389827605196,
          0.21153250433833218,
          0.7543561045168725,
          0.10568114726276448,
          1.4740937158560674,
          0.9652011233966097,
          -0.23486161961194427,
          -1.389623772561859,
          0.30668566443217743,
          1.1120348830089202,
          0.46831830167324723,
          -0.5991384580070195,
          -0.7034819235937314,
          -0.005756903041385128,
          -1.1456182321306265,
          0.031447866394256334,
          1.4440326575276348,
          -0.1595369128971009,
          -0.46006264151509857,
          -1.2419810080488065,
          0.4424990438592372,
          -0.45458918117909897,
          0.07040854588577262,
          0.535026123128374,
          -2.7627953832152032,
          -0.3566709243240767,
          -0.2779553288515251,
          -0.5499009597665894,
          -0.1278460935717795,
          1.2186892425013678,
          -0.1565647499422839,
          -1.1879500510181082,
          -0.4304626168115283,
          0.4839416813547892,
          0.1542255059732776,
          -1.5231298483752214,
          1.5886158111510897,
          1.1141356720888698,
          -0.7321655368474803,
          -1.8814304721270192,
          1.4635612494042156,
          -1.9827593304106776,
          0.36790536391933965,
          -1.0843989162324759,
          -0.13268326375570524,
          -1.6066444790362937,
          -0.19722633200110679,
          0.0003473747000489338,
          0.7826322058019856,
          0.0046955420792266205,
          1.7155986699348522,
          -0.7952410822232646,
          0.4882204326033132,
          1.6053990972634442,
          -0.08503043769723694,
          0.6981169497045339,
          0.4718828971526396,
          -1.2029461823427046,
          0.052845734585076666,
          0.9822259990893973,
          -0.8590769849077312,
          -0.04120464990107362,
          -1.7569650582262712,
          1.1397519733719323,
          -0.6312149218917715,
          -0.046107887891385216,
          0.24742340686524372,
          1.5567864402222436,
          -0.37985498147004226,
          -0.9037102602281021,
          0.49753117291240284,
          0.5670835787226005,
          -0.38057329716763133,
          1.3577291622340146,
          0.7109426758026244,
          0.26514239168730397,
          -1.2476736047793413,
          -0.44164479753864827,
          -0.033615157654650896,
          0.5647092086237513,
          -0.511942159121852
         ]
        },
        {
         "boxpoints": false,
         "line": {
          "width": 1.3
         },
         "marker": {
          "color": "rgba(50, 171, 96, 1.0)"
         },
         "name": "C",
         "orientation": "v",
         "type": "box",
         "y": [
          0.3327097562536328,
          -1.4989734130569317,
          1.5183796176928412,
          -1.602061657580099,
          -0.1223028920412938,
          1.386107101382463,
          -0.3415490358671324,
          -0.601432993832816,
          -0.7250537936410264,
          -0.25995473648644335,
          -1.2422490910298027,
          1.1742302850063706,
          0.18699966489887976,
          1.2662228253927414,
          -1.251580842922223,
          -0.7282265939616873,
          1.5879017425376987,
          0.6091752542674607,
          0.532904734654383,
          0.9974016167066104,
          -0.22956798544070212,
          1.183297268164457,
          -1.3935594197207464,
          0.4542969291289916,
          -0.9726084682689599,
          2.16182929854646,
          0.23301146780323445,
          -0.1960668029901525,
          -0.8074931010293909,
          -0.011076559186416392,
          0.6526452912513951,
          -0.011420869869149506,
          0.40729498041940865,
          -1.4608135825814752,
          -1.0743052935041677,
          -1.067976015767999,
          -1.939351767318399,
          0.393969215925592,
          0.4943040456489618,
          1.941061809173201,
          -0.3545833883013441,
          -1.3630645831972743,
          -0.7808083882051318,
          0.14828932191953875,
          1.1809111049948051,
          0.4120562337432101,
          0.15330385255565906,
          0.7818987007205416,
          -0.33260463389752076,
          -1.063339758890112,
          -0.2157947274815626,
          1.1668965390573576,
          -1.0062129725618667,
          0.8563185855337104,
          0.1134259884042055,
          0.16124262504863326,
          0.8723792648240553,
          -1.5779154984640098,
          -1.7194283418339689,
          -0.7438004534439292,
          -0.3193951573849327,
          0.6608682615796827,
          0.09013167999011383,
          -2.692713245513669,
          1.444401329767143,
          0.20119976229306244,
          0.032921153652011204,
          -0.9119279263574213,
          0.2590428295494773,
          -0.9967937373445537,
          -0.7374266907019629,
          0.9000772812275898,
          0.8388976395866024,
          0.3927020144340531,
          0.34208830190986056,
          -1.1218914946391794,
          -0.054772158324748514,
          0.6859401772791511,
          0.24968117808815007,
          0.48624800196760376,
          0.8227827699143407,
          -0.5065635151644389,
          -0.35418313928200706,
          0.8249811569719638,
          -1.0825434719372715,
          0.28888600126108677,
          1.0131678182935049,
          -2.3299803613355308,
          0.3107692820192783,
          -0.36606223453421693,
          -0.7307619449006915,
          -1.8881767667272429,
          -1.44561951925092,
          -0.1926918554444059,
          -0.10295541446747797,
          -0.5426933739808347,
          -0.9278063200643781,
          -0.31714133131824696,
          -0.5357162118674762,
          -1.193869715470299
         ]
        },
        {
         "boxpoints": false,
         "line": {
          "width": 1.3
         },
         "marker": {
          "color": "rgba(128, 0, 128, 1.0)"
         },
         "name": "D",
         "orientation": "v",
         "type": "box",
         "y": [
          1.006990415230797,
          -1.964224009771347,
          1.3656734904303878,
          -0.7193889981597499,
          -0.8171992346531632,
          0.5021579854133826,
          0.35360746817993566,
          0.5038180043335287,
          -0.2253065854925412,
          -1.4462053896103182,
          0.3861215592594124,
          0.17553505879195624,
          -0.773045807558028,
          0.13715218564236864,
          1.5918514617857802,
          -0.4541260388835454,
          -0.18374369785544023,
          -0.8468969582370742,
          0.5283326291655621,
          -0.3174351528315366,
          -1.0113652796135721,
          0.9554437511695475,
          0.5317592920635177,
          -1.1986891128069317,
          1.180012584596935,
          -1.367233734745869,
          1.4216979437389021,
          -0.9536445111054623,
          1.2214783934231426,
          -1.1852333113110671,
          0.49595433276191425,
          -0.45700591898119247,
          -1.1634992086301335,
          -0.13614299129424992,
          0.02864078911815982,
          -1.4482685079878088,
          -1.340073852456306,
          -0.8775196074063242,
          -0.5642131429299626,
          -0.15774696869111168,
          1.6033684846714356,
          -1.352154240820155,
          -1.948424273992968,
          -0.10923332834192306,
          -0.3466984292093084,
          1.0532876042637498,
          1.3965753639823184,
          -0.7739337356756031,
          -0.5389000139848649,
          -1.7735102893998769,
          0.7389552763546952,
          1.1560874109408732,
          -1.5135193096899042,
          -1.5296404603654188,
          -0.01811472250897168,
          -0.23981216790408158,
          1.05440571047474,
          -0.7269334496791185,
          -0.8487333258876862,
          -2.1362246634378965,
          0.7639994045130143,
          1.041339972611782,
          -0.6445210539291163,
          0.941398881539454,
          1.172472601402738,
          1.157144971904907,
          -0.0016700911030675986,
          -0.21367099215600008,
          0.544287382614512,
          -1.013023022204178,
          0.6653553768385813,
          -1.081995803987892,
          -0.40908139281268663,
          0.4469096983868547,
          -1.3070142630453834,
          -1.1335484106420068,
          -2.3398158121759938,
          1.4313050099281213,
          -2.231818743879048,
          -0.4804009515284093,
          -1.0390003724195962,
          -2.4086907714026657,
          1.5512854832772243,
          -1.3352871785495308,
          0.21023107076646222,
          -0.9080772668139966,
          1.0746116244508543,
          1.352082889036443,
          -0.1547880916645823,
          -1.1852507629309106,
          -1.3196289178696639,
          1.5416264834243936,
          0.22671561843620253,
          -2.183184432019304,
          -0.23289429388985733,
          0.3174235728119984,
          -1.6823920236896401,
          -0.9468513506631693,
          -1.6776217112530991,
          0.8099531353330475
         ]
        }
       ],
       "layout": {
        "legend": {
         "bgcolor": "#F5F6F9",
         "font": {
          "color": "#4D5663"
         }
        },
        "paper_bgcolor": "#F5F6F9",
        "plot_bgcolor": "#F5F6F9",
        "template": {
         "data": {
          "bar": [
           {
            "error_x": {
             "color": "#2a3f5f"
            },
            "error_y": {
             "color": "#2a3f5f"
            },
            "marker": {
             "line": {
              "color": "#E5ECF6",
              "width": 0.5
             }
            },
            "type": "bar"
           }
          ],
          "barpolar": [
           {
            "marker": {
             "line": {
              "color": "#E5ECF6",
              "width": 0.5
             }
            },
            "type": "barpolar"
           }
          ],
          "carpet": [
           {
            "aaxis": {
             "endlinecolor": "#2a3f5f",
             "gridcolor": "white",
             "linecolor": "white",
             "minorgridcolor": "white",
             "startlinecolor": "#2a3f5f"
            },
            "baxis": {
             "endlinecolor": "#2a3f5f",
             "gridcolor": "white",
             "linecolor": "white",
             "minorgridcolor": "white",
             "startlinecolor": "#2a3f5f"
            },
            "type": "carpet"
           }
          ],
          "choropleth": [
           {
            "colorbar": {
             "outlinewidth": 0,
             "ticks": ""
            },
            "type": "choropleth"
           }
          ],
          "contour": [
           {
            "colorbar": {
             "outlinewidth": 0,
             "ticks": ""
            },
            "colorscale": [
             [
              0,
              "#0d0887"
             ],
             [
              0.1111111111111111,
              "#46039f"
             ],
             [
              0.2222222222222222,
              "#7201a8"
             ],
             [
              0.3333333333333333,
              "#9c179e"
             ],
             [
              0.4444444444444444,
              "#bd3786"
             ],
             [
              0.5555555555555556,
              "#d8576b"
             ],
             [
              0.6666666666666666,
              "#ed7953"
             ],
             [
              0.7777777777777778,
              "#fb9f3a"
             ],
             [
              0.8888888888888888,
              "#fdca26"
             ],
             [
              1,
              "#f0f921"
             ]
            ],
            "type": "contour"
           }
          ],
          "contourcarpet": [
           {
            "colorbar": {
             "outlinewidth": 0,
             "ticks": ""
            },
            "type": "contourcarpet"
           }
          ],
          "heatmap": [
           {
            "colorbar": {
             "outlinewidth": 0,
             "ticks": ""
            },
            "colorscale": [
             [
              0,
              "#0d0887"
             ],
             [
              0.1111111111111111,
              "#46039f"
             ],
             [
              0.2222222222222222,
              "#7201a8"
             ],
             [
              0.3333333333333333,
              "#9c179e"
             ],
             [
              0.4444444444444444,
              "#bd3786"
             ],
             [
              0.5555555555555556,
              "#d8576b"
             ],
             [
              0.6666666666666666,
              "#ed7953"
             ],
             [
              0.7777777777777778,
              "#fb9f3a"
             ],
             [
              0.8888888888888888,
              "#fdca26"
             ],
             [
              1,
              "#f0f921"
             ]
            ],
            "type": "heatmap"
           }
          ],
          "heatmapgl": [
           {
            "colorbar": {
             "outlinewidth": 0,
             "ticks": ""
            },
            "colorscale": [
             [
              0,
              "#0d0887"
             ],
             [
              0.1111111111111111,
              "#46039f"
             ],
             [
              0.2222222222222222,
              "#7201a8"
             ],
             [
              0.3333333333333333,
              "#9c179e"
             ],
             [
              0.4444444444444444,
              "#bd3786"
             ],
             [
              0.5555555555555556,
              "#d8576b"
             ],
             [
              0.6666666666666666,
              "#ed7953"
             ],
             [
              0.7777777777777778,
              "#fb9f3a"
             ],
             [
              0.8888888888888888,
              "#fdca26"
             ],
             [
              1,
              "#f0f921"
             ]
            ],
            "type": "heatmapgl"
           }
          ],
          "histogram": [
           {
            "marker": {
             "colorbar": {
              "outlinewidth": 0,
              "ticks": ""
             }
            },
            "type": "histogram"
           }
          ],
          "histogram2d": [
           {
            "colorbar": {
             "outlinewidth": 0,
             "ticks": ""
            },
            "colorscale": [
             [
              0,
              "#0d0887"
             ],
             [
              0.1111111111111111,
              "#46039f"
             ],
             [
              0.2222222222222222,
              "#7201a8"
             ],
             [
              0.3333333333333333,
              "#9c179e"
             ],
             [
              0.4444444444444444,
              "#bd3786"
             ],
             [
              0.5555555555555556,
              "#d8576b"
             ],
             [
              0.6666666666666666,
              "#ed7953"
             ],
             [
              0.7777777777777778,
              "#fb9f3a"
             ],
             [
              0.8888888888888888,
              "#fdca26"
             ],
             [
              1,
              "#f0f921"
             ]
            ],
            "type": "histogram2d"
           }
          ],
          "histogram2dcontour": [
           {
            "colorbar": {
             "outlinewidth": 0,
             "ticks": ""
            },
            "colorscale": [
             [
              0,
              "#0d0887"
             ],
             [
              0.1111111111111111,
              "#46039f"
             ],
             [
              0.2222222222222222,
              "#7201a8"
             ],
             [
              0.3333333333333333,
              "#9c179e"
             ],
             [
              0.4444444444444444,
              "#bd3786"
             ],
             [
              0.5555555555555556,
              "#d8576b"
             ],
             [
              0.6666666666666666,
              "#ed7953"
             ],
             [
              0.7777777777777778,
              "#fb9f3a"
             ],
             [
              0.8888888888888888,
              "#fdca26"
             ],
             [
              1,
              "#f0f921"
             ]
            ],
            "type": "histogram2dcontour"
           }
          ],
          "mesh3d": [
           {
            "colorbar": {
             "outlinewidth": 0,
             "ticks": ""
            },
            "type": "mesh3d"
           }
          ],
          "parcoords": [
           {
            "line": {
             "colorbar": {
              "outlinewidth": 0,
              "ticks": ""
             }
            },
            "type": "parcoords"
           }
          ],
          "pie": [
           {
            "automargin": true,
            "type": "pie"
           }
          ],
          "scatter": [
           {
            "marker": {
             "colorbar": {
              "outlinewidth": 0,
              "ticks": ""
             }
            },
            "type": "scatter"
           }
          ],
          "scatter3d": [
           {
            "line": {
             "colorbar": {
              "outlinewidth": 0,
              "ticks": ""
             }
            },
            "marker": {
             "colorbar": {
              "outlinewidth": 0,
              "ticks": ""
             }
            },
            "type": "scatter3d"
           }
          ],
          "scattercarpet": [
           {
            "marker": {
             "colorbar": {
              "outlinewidth": 0,
              "ticks": ""
             }
            },
            "type": "scattercarpet"
           }
          ],
          "scattergeo": [
           {
            "marker": {
             "colorbar": {
              "outlinewidth": 0,
              "ticks": ""
             }
            },
            "type": "scattergeo"
           }
          ],
          "scattergl": [
           {
            "marker": {
             "colorbar": {
              "outlinewidth": 0,
              "ticks": ""
             }
            },
            "type": "scattergl"
           }
          ],
          "scattermapbox": [
           {
            "marker": {
             "colorbar": {
              "outlinewidth": 0,
              "ticks": ""
             }
            },
            "type": "scattermapbox"
           }
          ],
          "scatterpolar": [
           {
            "marker": {
             "colorbar": {
              "outlinewidth": 0,
              "ticks": ""
             }
            },
            "type": "scatterpolar"
           }
          ],
          "scatterpolargl": [
           {
            "marker": {
             "colorbar": {
              "outlinewidth": 0,
              "ticks": ""
             }
            },
            "type": "scatterpolargl"
           }
          ],
          "scatterternary": [
           {
            "marker": {
             "colorbar": {
              "outlinewidth": 0,
              "ticks": ""
             }
            },
            "type": "scatterternary"
           }
          ],
          "surface": [
           {
            "colorbar": {
             "outlinewidth": 0,
             "ticks": ""
            },
            "colorscale": [
             [
              0,
              "#0d0887"
             ],
             [
              0.1111111111111111,
              "#46039f"
             ],
             [
              0.2222222222222222,
              "#7201a8"
             ],
             [
              0.3333333333333333,
              "#9c179e"
             ],
             [
              0.4444444444444444,
              "#bd3786"
             ],
             [
              0.5555555555555556,
              "#d8576b"
             ],
             [
              0.6666666666666666,
              "#ed7953"
             ],
             [
              0.7777777777777778,
              "#fb9f3a"
             ],
             [
              0.8888888888888888,
              "#fdca26"
             ],
             [
              1,
              "#f0f921"
             ]
            ],
            "type": "surface"
           }
          ],
          "table": [
           {
            "cells": {
             "fill": {
              "color": "#EBF0F8"
             },
             "line": {
              "color": "white"
             }
            },
            "header": {
             "fill": {
              "color": "#C8D4E3"
             },
             "line": {
              "color": "white"
             }
            },
            "type": "table"
           }
          ]
         },
         "layout": {
          "annotationdefaults": {
           "arrowcolor": "#2a3f5f",
           "arrowhead": 0,
           "arrowwidth": 1
          },
          "coloraxis": {
           "colorbar": {
            "outlinewidth": 0,
            "ticks": ""
           }
          },
          "colorscale": {
           "diverging": [
            [
             0,
             "#8e0152"
            ],
            [
             0.1,
             "#c51b7d"
            ],
            [
             0.2,
             "#de77ae"
            ],
            [
             0.3,
             "#f1b6da"
            ],
            [
             0.4,
             "#fde0ef"
            ],
            [
             0.5,
             "#f7f7f7"
            ],
            [
             0.6,
             "#e6f5d0"
            ],
            [
             0.7,
             "#b8e186"
            ],
            [
             0.8,
             "#7fbc41"
            ],
            [
             0.9,
             "#4d9221"
            ],
            [
             1,
             "#276419"
            ]
           ],
           "sequential": [
            [
             0,
             "#0d0887"
            ],
            [
             0.1111111111111111,
             "#46039f"
            ],
            [
             0.2222222222222222,
             "#7201a8"
            ],
            [
             0.3333333333333333,
             "#9c179e"
            ],
            [
             0.4444444444444444,
             "#bd3786"
            ],
            [
             0.5555555555555556,
             "#d8576b"
            ],
            [
             0.6666666666666666,
             "#ed7953"
            ],
            [
             0.7777777777777778,
             "#fb9f3a"
            ],
            [
             0.8888888888888888,
             "#fdca26"
            ],
            [
             1,
             "#f0f921"
            ]
           ],
           "sequentialminus": [
            [
             0,
             "#0d0887"
            ],
            [
             0.1111111111111111,
             "#46039f"
            ],
            [
             0.2222222222222222,
             "#7201a8"
            ],
            [
             0.3333333333333333,
             "#9c179e"
            ],
            [
             0.4444444444444444,
             "#bd3786"
            ],
            [
             0.5555555555555556,
             "#d8576b"
            ],
            [
             0.6666666666666666,
             "#ed7953"
            ],
            [
             0.7777777777777778,
             "#fb9f3a"
            ],
            [
             0.8888888888888888,
             "#fdca26"
            ],
            [
             1,
             "#f0f921"
            ]
           ]
          },
          "colorway": [
           "#636efa",
           "#EF553B",
           "#00cc96",
           "#ab63fa",
           "#FFA15A",
           "#19d3f3",
           "#FF6692",
           "#B6E880",
           "#FF97FF",
           "#FECB52"
          ],
          "font": {
           "color": "#2a3f5f"
          },
          "geo": {
           "bgcolor": "white",
           "lakecolor": "white",
           "landcolor": "#E5ECF6",
           "showlakes": true,
           "showland": true,
           "subunitcolor": "white"
          },
          "hoverlabel": {
           "align": "left"
          },
          "hovermode": "closest",
          "mapbox": {
           "style": "light"
          },
          "paper_bgcolor": "white",
          "plot_bgcolor": "#E5ECF6",
          "polar": {
           "angularaxis": {
            "gridcolor": "white",
            "linecolor": "white",
            "ticks": ""
           },
           "bgcolor": "#E5ECF6",
           "radialaxis": {
            "gridcolor": "white",
            "linecolor": "white",
            "ticks": ""
           }
          },
          "scene": {
           "xaxis": {
            "backgroundcolor": "#E5ECF6",
            "gridcolor": "white",
            "gridwidth": 2,
            "linecolor": "white",
            "showbackground": true,
            "ticks": "",
            "zerolinecolor": "white"
           },
           "yaxis": {
            "backgroundcolor": "#E5ECF6",
            "gridcolor": "white",
            "gridwidth": 2,
            "linecolor": "white",
            "showbackground": true,
            "ticks": "",
            "zerolinecolor": "white"
           },
           "zaxis": {
            "backgroundcolor": "#E5ECF6",
            "gridcolor": "white",
            "gridwidth": 2,
            "linecolor": "white",
            "showbackground": true,
            "ticks": "",
            "zerolinecolor": "white"
           }
          },
          "shapedefaults": {
           "line": {
            "color": "#2a3f5f"
           }
          },
          "ternary": {
           "aaxis": {
            "gridcolor": "white",
            "linecolor": "white",
            "ticks": ""
           },
           "baxis": {
            "gridcolor": "white",
            "linecolor": "white",
            "ticks": ""
           },
           "bgcolor": "#E5ECF6",
           "caxis": {
            "gridcolor": "white",
            "linecolor": "white",
            "ticks": ""
           }
          },
          "title": {
           "x": 0.05
          },
          "xaxis": {
           "automargin": true,
           "gridcolor": "white",
           "linecolor": "white",
           "ticks": "",
           "title": {
            "standoff": 15
           },
           "zerolinecolor": "white",
           "zerolinewidth": 2
          },
          "yaxis": {
           "automargin": true,
           "gridcolor": "white",
           "linecolor": "white",
           "ticks": "",
           "title": {
            "standoff": 15
           },
           "zerolinecolor": "white",
           "zerolinewidth": 2
          }
         }
        },
        "title": {
         "font": {
          "color": "#4D5663"
         }
        },
        "xaxis": {
         "gridcolor": "#E1E5ED",
         "showgrid": true,
         "tickfont": {
          "color": "#4D5663"
         },
         "title": {
          "font": {
           "color": "#4D5663"
          },
          "text": ""
         },
         "zerolinecolor": "#E1E5ED"
        },
        "yaxis": {
         "gridcolor": "#E1E5ED",
         "showgrid": true,
         "tickfont": {
          "color": "#4D5663"
         },
         "title": {
          "font": {
           "color": "#4D5663"
          },
          "text": ""
         },
         "zerolinecolor": "#E1E5ED"
        }
       }
      },
      "text/html": [
       "<div>\n",
       "        \n",
       "        \n",
       "            <div id=\"b236913a-ea9f-4ecb-a8ff-30cbbffe5e30\" class=\"plotly-graph-div\" style=\"height:525px; width:100%;\"></div>\n",
       "            <script type=\"text/javascript\">\n",
       "                require([\"plotly\"], function(Plotly) {\n",
       "                    window.PLOTLYENV=window.PLOTLYENV || {};\n",
       "                    window.PLOTLYENV.BASE_URL='https://plot.ly';\n",
       "                    \n",
       "                if (document.getElementById(\"b236913a-ea9f-4ecb-a8ff-30cbbffe5e30\")) {\n",
       "                    Plotly.newPlot(\n",
       "                        'b236913a-ea9f-4ecb-a8ff-30cbbffe5e30',\n",
       "                        [{\"boxpoints\": false, \"line\": {\"width\": 1.3}, \"marker\": {\"color\": \"rgba(255, 153, 51, 1.0)\"}, \"name\": \"A\", \"orientation\": \"v\", \"type\": \"box\", \"y\": [0.7384849679917865, -0.4739703576787497, -1.2410850999181424, 0.011239248866355677, -0.3023127905230943, 0.2363230440172158, -0.28402355339350155, 0.9399206409610732, 0.7622389377177152, 0.9498089256425105, -1.6162083558302955, 0.9646435176708447, 0.6614496914739366, -1.716143334033692, -2.5356915148878794, -0.9617606145051862, 0.008293435242292549, 1.4810906706268816, 0.6930911578507049, 0.7517083996567843, 1.6773600899238656, 0.20023565995701395, -0.4862336432496669, 0.6424563113780488, 1.0529264632088229, -0.5194348158769179, 0.5193794476182205, -0.2177636551563566, 0.5730394684480788, 0.8894265882891824, 0.16574773044920646, -0.36556200969439046, -0.6371054172325357, 1.1301373234143273, -0.3552754866053425, -0.7883959295021864, 0.5859129449503426, -1.3343892432421331, -0.21179498740280153, 0.8445155577573598, -1.0158186524593766, 1.046865972107086, 1.35629825666338, 1.2275847492949927, -1.8092078608463722, 0.3104716386755969, 1.9439385481339027, -0.046302866157695736, 0.9939623927497057, -1.5237946534936748, -1.3326917554580766, 2.4142179028316892, 0.04185598515241913, -2.1987326086021013, 0.23139778756142068, 0.9666403300832923, -0.24296102909533798, -0.6476057938239268, -0.16151360123863254, 0.4793347634889624, 0.6347851945989572, 0.8434974936512513, 1.002062963811421, 1.2616989085150399, -0.4796951126108852, -1.0526870741532763, -1.19889718235249, -0.8743996784021727, 0.9033046003458987, -1.514389455518979, -0.9101640903693848, 1.3029787614274848, -0.574457267580267, -1.1532287536452923, -1.9252554195383396, 1.5403188122329121, -0.6187670029735031, 1.7146672083316403, 1.2440564828005858, -0.0009091919227137812, 1.1007579242326673, 0.6006154386851078, -1.1507471833784182, -0.7789990876013348, -0.28419337049955345, 1.0236872992597577, 0.7399035390241175, 0.1545230603764189, -1.2790224177216212, 0.8595009913364225, 0.2626145547074289, 0.553328600134025, 0.2672852048766201, -0.8914354807363999, 0.5002622086866662, 0.3346114667624826, -0.8529924982020634, 1.339333316246086, 0.5939467712682505, -1.3180613570001438]}, {\"boxpoints\": false, \"line\": {\"width\": 1.3}, \"marker\": {\"color\": \"rgba(55, 128, 191, 1.0)\"}, \"name\": \"B\", \"orientation\": \"v\", \"type\": \"box\", \"y\": [-0.22246154249852684, -0.011662737015524104, 0.7002550390215904, -0.2088604533672652, 0.2787572766419977, 0.34604688919031246, 0.3289741381728799, -1.4546634160557221, 0.6591005023770535, 1.6307541996396775, 0.3537425977973349, 0.35489662287960494, -1.2552285412285955, 0.7766227724788735, 0.7313851441745576, 0.17409712272179598, -0.558850148283852, -0.18278009610374715, -0.4385690580727113, -1.1979389827605196, 0.21153250433833218, 0.7543561045168725, 0.10568114726276448, 1.4740937158560674, 0.9652011233966097, -0.23486161961194427, -1.389623772561859, 0.30668566443217743, 1.1120348830089202, 0.46831830167324723, -0.5991384580070195, -0.7034819235937314, -0.005756903041385128, -1.1456182321306265, 0.031447866394256334, 1.4440326575276348, -0.1595369128971009, -0.46006264151509857, -1.2419810080488065, 0.4424990438592372, -0.45458918117909897, 0.07040854588577262, 0.535026123128374, -2.7627953832152032, -0.3566709243240767, -0.2779553288515251, -0.5499009597665894, -0.1278460935717795, 1.2186892425013678, -0.1565647499422839, -1.1879500510181082, -0.4304626168115283, 0.4839416813547892, 0.1542255059732776, -1.5231298483752214, 1.5886158111510897, 1.1141356720888698, -0.7321655368474803, -1.8814304721270192, 1.4635612494042156, -1.9827593304106776, 0.36790536391933965, -1.0843989162324759, -0.13268326375570524, -1.6066444790362937, -0.19722633200110679, 0.0003473747000489338, 0.7826322058019856, 0.0046955420792266205, 1.7155986699348522, -0.7952410822232646, 0.4882204326033132, 1.6053990972634442, -0.08503043769723694, 0.6981169497045339, 0.4718828971526396, -1.2029461823427046, 0.052845734585076666, 0.9822259990893973, -0.8590769849077312, -0.04120464990107362, -1.7569650582262712, 1.1397519733719323, -0.6312149218917715, -0.046107887891385216, 0.24742340686524372, 1.5567864402222436, -0.37985498147004226, -0.9037102602281021, 0.49753117291240284, 0.5670835787226005, -0.38057329716763133, 1.3577291622340146, 0.7109426758026244, 0.26514239168730397, -1.2476736047793413, -0.44164479753864827, -0.033615157654650896, 0.5647092086237513, -0.511942159121852]}, {\"boxpoints\": false, \"line\": {\"width\": 1.3}, \"marker\": {\"color\": \"rgba(50, 171, 96, 1.0)\"}, \"name\": \"C\", \"orientation\": \"v\", \"type\": \"box\", \"y\": [0.3327097562536328, -1.4989734130569317, 1.5183796176928412, -1.602061657580099, -0.1223028920412938, 1.386107101382463, -0.3415490358671324, -0.601432993832816, -0.7250537936410264, -0.25995473648644335, -1.2422490910298027, 1.1742302850063706, 0.18699966489887976, 1.2662228253927414, -1.251580842922223, -0.7282265939616873, 1.5879017425376987, 0.6091752542674607, 0.532904734654383, 0.9974016167066104, -0.22956798544070212, 1.183297268164457, -1.3935594197207464, 0.4542969291289916, -0.9726084682689599, 2.16182929854646, 0.23301146780323445, -0.1960668029901525, -0.8074931010293909, -0.011076559186416392, 0.6526452912513951, -0.011420869869149506, 0.40729498041940865, -1.4608135825814752, -1.0743052935041677, -1.067976015767999, -1.939351767318399, 0.393969215925592, 0.4943040456489618, 1.941061809173201, -0.3545833883013441, -1.3630645831972743, -0.7808083882051318, 0.14828932191953875, 1.1809111049948051, 0.4120562337432101, 0.15330385255565906, 0.7818987007205416, -0.33260463389752076, -1.063339758890112, -0.2157947274815626, 1.1668965390573576, -1.0062129725618667, 0.8563185855337104, 0.1134259884042055, 0.16124262504863326, 0.8723792648240553, -1.5779154984640098, -1.7194283418339689, -0.7438004534439292, -0.3193951573849327, 0.6608682615796827, 0.09013167999011383, -2.692713245513669, 1.444401329767143, 0.20119976229306244, 0.032921153652011204, -0.9119279263574213, 0.2590428295494773, -0.9967937373445537, -0.7374266907019629, 0.9000772812275898, 0.8388976395866024, 0.3927020144340531, 0.34208830190986056, -1.1218914946391794, -0.054772158324748514, 0.6859401772791511, 0.24968117808815007, 0.48624800196760376, 0.8227827699143407, -0.5065635151644389, -0.35418313928200706, 0.8249811569719638, -1.0825434719372715, 0.28888600126108677, 1.0131678182935049, -2.3299803613355308, 0.3107692820192783, -0.36606223453421693, -0.7307619449006915, -1.8881767667272429, -1.44561951925092, -0.1926918554444059, -0.10295541446747797, -0.5426933739808347, -0.9278063200643781, -0.31714133131824696, -0.5357162118674762, -1.193869715470299]}, {\"boxpoints\": false, \"line\": {\"width\": 1.3}, \"marker\": {\"color\": \"rgba(128, 0, 128, 1.0)\"}, \"name\": \"D\", \"orientation\": \"v\", \"type\": \"box\", \"y\": [1.006990415230797, -1.964224009771347, 1.3656734904303878, -0.7193889981597499, -0.8171992346531632, 0.5021579854133826, 0.35360746817993566, 0.5038180043335287, -0.2253065854925412, -1.4462053896103182, 0.3861215592594124, 0.17553505879195624, -0.773045807558028, 0.13715218564236864, 1.5918514617857802, -0.4541260388835454, -0.18374369785544023, -0.8468969582370742, 0.5283326291655621, -0.3174351528315366, -1.0113652796135721, 0.9554437511695475, 0.5317592920635177, -1.1986891128069317, 1.180012584596935, -1.367233734745869, 1.4216979437389021, -0.9536445111054623, 1.2214783934231426, -1.1852333113110671, 0.49595433276191425, -0.45700591898119247, -1.1634992086301335, -0.13614299129424992, 0.02864078911815982, -1.4482685079878088, -1.340073852456306, -0.8775196074063242, -0.5642131429299626, -0.15774696869111168, 1.6033684846714356, -1.352154240820155, -1.948424273992968, -0.10923332834192306, -0.3466984292093084, 1.0532876042637498, 1.3965753639823184, -0.7739337356756031, -0.5389000139848649, -1.7735102893998769, 0.7389552763546952, 1.1560874109408732, -1.5135193096899042, -1.5296404603654188, -0.01811472250897168, -0.23981216790408158, 1.05440571047474, -0.7269334496791185, -0.8487333258876862, -2.1362246634378965, 0.7639994045130143, 1.041339972611782, -0.6445210539291163, 0.941398881539454, 1.172472601402738, 1.157144971904907, -0.0016700911030675986, -0.21367099215600008, 0.544287382614512, -1.013023022204178, 0.6653553768385813, -1.081995803987892, -0.40908139281268663, 0.4469096983868547, -1.3070142630453834, -1.1335484106420068, -2.3398158121759938, 1.4313050099281213, -2.231818743879048, -0.4804009515284093, -1.0390003724195962, -2.4086907714026657, 1.5512854832772243, -1.3352871785495308, 0.21023107076646222, -0.9080772668139966, 1.0746116244508543, 1.352082889036443, -0.1547880916645823, -1.1852507629309106, -1.3196289178696639, 1.5416264834243936, 0.22671561843620253, -2.183184432019304, -0.23289429388985733, 0.3174235728119984, -1.6823920236896401, -0.9468513506631693, -1.6776217112530991, 0.8099531353330475]}],\n",
       "                        {\"legend\": {\"bgcolor\": \"#F5F6F9\", \"font\": {\"color\": \"#4D5663\"}}, \"paper_bgcolor\": \"#F5F6F9\", \"plot_bgcolor\": \"#F5F6F9\", \"template\": {\"data\": {\"bar\": [{\"error_x\": {\"color\": \"#2a3f5f\"}, \"error_y\": {\"color\": \"#2a3f5f\"}, \"marker\": {\"line\": {\"color\": \"#E5ECF6\", \"width\": 0.5}}, \"type\": \"bar\"}], \"barpolar\": [{\"marker\": {\"line\": {\"color\": \"#E5ECF6\", \"width\": 0.5}}, \"type\": \"barpolar\"}], \"carpet\": [{\"aaxis\": {\"endlinecolor\": \"#2a3f5f\", \"gridcolor\": \"white\", \"linecolor\": \"white\", \"minorgridcolor\": \"white\", \"startlinecolor\": \"#2a3f5f\"}, \"baxis\": {\"endlinecolor\": \"#2a3f5f\", \"gridcolor\": \"white\", \"linecolor\": \"white\", \"minorgridcolor\": \"white\", \"startlinecolor\": \"#2a3f5f\"}, \"type\": \"carpet\"}], \"choropleth\": [{\"colorbar\": {\"outlinewidth\": 0, \"ticks\": \"\"}, \"type\": \"choropleth\"}], \"contour\": [{\"colorbar\": {\"outlinewidth\": 0, \"ticks\": \"\"}, \"colorscale\": [[0.0, \"#0d0887\"], [0.1111111111111111, \"#46039f\"], [0.2222222222222222, \"#7201a8\"], [0.3333333333333333, \"#9c179e\"], [0.4444444444444444, \"#bd3786\"], [0.5555555555555556, \"#d8576b\"], [0.6666666666666666, \"#ed7953\"], [0.7777777777777778, \"#fb9f3a\"], [0.8888888888888888, \"#fdca26\"], [1.0, \"#f0f921\"]], \"type\": \"contour\"}], \"contourcarpet\": [{\"colorbar\": {\"outlinewidth\": 0, \"ticks\": \"\"}, \"type\": \"contourcarpet\"}], \"heatmap\": [{\"colorbar\": {\"outlinewidth\": 0, \"ticks\": \"\"}, \"colorscale\": [[0.0, \"#0d0887\"], [0.1111111111111111, \"#46039f\"], [0.2222222222222222, \"#7201a8\"], [0.3333333333333333, \"#9c179e\"], [0.4444444444444444, \"#bd3786\"], [0.5555555555555556, \"#d8576b\"], [0.6666666666666666, \"#ed7953\"], [0.7777777777777778, \"#fb9f3a\"], [0.8888888888888888, \"#fdca26\"], [1.0, \"#f0f921\"]], \"type\": \"heatmap\"}], \"heatmapgl\": [{\"colorbar\": {\"outlinewidth\": 0, \"ticks\": \"\"}, \"colorscale\": [[0.0, \"#0d0887\"], [0.1111111111111111, \"#46039f\"], [0.2222222222222222, \"#7201a8\"], [0.3333333333333333, \"#9c179e\"], [0.4444444444444444, \"#bd3786\"], [0.5555555555555556, \"#d8576b\"], [0.6666666666666666, \"#ed7953\"], [0.7777777777777778, \"#fb9f3a\"], [0.8888888888888888, \"#fdca26\"], [1.0, \"#f0f921\"]], \"type\": \"heatmapgl\"}], \"histogram\": [{\"marker\": {\"colorbar\": {\"outlinewidth\": 0, \"ticks\": \"\"}}, \"type\": \"histogram\"}], \"histogram2d\": [{\"colorbar\": {\"outlinewidth\": 0, \"ticks\": \"\"}, \"colorscale\": [[0.0, \"#0d0887\"], [0.1111111111111111, \"#46039f\"], [0.2222222222222222, \"#7201a8\"], [0.3333333333333333, \"#9c179e\"], [0.4444444444444444, \"#bd3786\"], [0.5555555555555556, \"#d8576b\"], [0.6666666666666666, \"#ed7953\"], [0.7777777777777778, \"#fb9f3a\"], [0.8888888888888888, \"#fdca26\"], [1.0, \"#f0f921\"]], \"type\": \"histogram2d\"}], \"histogram2dcontour\": [{\"colorbar\": {\"outlinewidth\": 0, \"ticks\": \"\"}, \"colorscale\": [[0.0, \"#0d0887\"], [0.1111111111111111, \"#46039f\"], [0.2222222222222222, \"#7201a8\"], [0.3333333333333333, \"#9c179e\"], [0.4444444444444444, \"#bd3786\"], [0.5555555555555556, \"#d8576b\"], [0.6666666666666666, \"#ed7953\"], [0.7777777777777778, \"#fb9f3a\"], [0.8888888888888888, \"#fdca26\"], [1.0, \"#f0f921\"]], \"type\": \"histogram2dcontour\"}], \"mesh3d\": [{\"colorbar\": {\"outlinewidth\": 0, \"ticks\": \"\"}, \"type\": \"mesh3d\"}], \"parcoords\": [{\"line\": {\"colorbar\": {\"outlinewidth\": 0, \"ticks\": \"\"}}, \"type\": \"parcoords\"}], \"pie\": [{\"automargin\": true, \"type\": \"pie\"}], \"scatter\": [{\"marker\": {\"colorbar\": {\"outlinewidth\": 0, \"ticks\": \"\"}}, \"type\": \"scatter\"}], \"scatter3d\": [{\"line\": {\"colorbar\": {\"outlinewidth\": 0, \"ticks\": \"\"}}, \"marker\": {\"colorbar\": {\"outlinewidth\": 0, \"ticks\": \"\"}}, \"type\": \"scatter3d\"}], \"scattercarpet\": [{\"marker\": {\"colorbar\": {\"outlinewidth\": 0, \"ticks\": \"\"}}, \"type\": \"scattercarpet\"}], \"scattergeo\": [{\"marker\": {\"colorbar\": {\"outlinewidth\": 0, \"ticks\": \"\"}}, \"type\": \"scattergeo\"}], \"scattergl\": [{\"marker\": {\"colorbar\": {\"outlinewidth\": 0, \"ticks\": \"\"}}, \"type\": \"scattergl\"}], \"scattermapbox\": [{\"marker\": {\"colorbar\": {\"outlinewidth\": 0, \"ticks\": \"\"}}, \"type\": \"scattermapbox\"}], \"scatterpolar\": [{\"marker\": {\"colorbar\": {\"outlinewidth\": 0, \"ticks\": \"\"}}, \"type\": \"scatterpolar\"}], \"scatterpolargl\": [{\"marker\": {\"colorbar\": {\"outlinewidth\": 0, \"ticks\": \"\"}}, \"type\": \"scatterpolargl\"}], \"scatterternary\": [{\"marker\": {\"colorbar\": {\"outlinewidth\": 0, \"ticks\": \"\"}}, \"type\": \"scatterternary\"}], \"surface\": [{\"colorbar\": {\"outlinewidth\": 0, \"ticks\": \"\"}, \"colorscale\": [[0.0, \"#0d0887\"], [0.1111111111111111, \"#46039f\"], [0.2222222222222222, \"#7201a8\"], [0.3333333333333333, \"#9c179e\"], [0.4444444444444444, \"#bd3786\"], [0.5555555555555556, \"#d8576b\"], [0.6666666666666666, \"#ed7953\"], [0.7777777777777778, \"#fb9f3a\"], [0.8888888888888888, \"#fdca26\"], [1.0, \"#f0f921\"]], \"type\": \"surface\"}], \"table\": [{\"cells\": {\"fill\": {\"color\": \"#EBF0F8\"}, \"line\": {\"color\": \"white\"}}, \"header\": {\"fill\": {\"color\": \"#C8D4E3\"}, \"line\": {\"color\": \"white\"}}, \"type\": \"table\"}]}, \"layout\": {\"annotationdefaults\": {\"arrowcolor\": \"#2a3f5f\", \"arrowhead\": 0, \"arrowwidth\": 1}, \"coloraxis\": {\"colorbar\": {\"outlinewidth\": 0, \"ticks\": \"\"}}, \"colorscale\": {\"diverging\": [[0, \"#8e0152\"], [0.1, \"#c51b7d\"], [0.2, \"#de77ae\"], [0.3, \"#f1b6da\"], [0.4, \"#fde0ef\"], [0.5, \"#f7f7f7\"], [0.6, \"#e6f5d0\"], [0.7, \"#b8e186\"], [0.8, \"#7fbc41\"], [0.9, \"#4d9221\"], [1, \"#276419\"]], \"sequential\": [[0.0, \"#0d0887\"], [0.1111111111111111, \"#46039f\"], [0.2222222222222222, \"#7201a8\"], [0.3333333333333333, \"#9c179e\"], [0.4444444444444444, \"#bd3786\"], [0.5555555555555556, \"#d8576b\"], [0.6666666666666666, \"#ed7953\"], [0.7777777777777778, \"#fb9f3a\"], [0.8888888888888888, \"#fdca26\"], [1.0, \"#f0f921\"]], \"sequentialminus\": [[0.0, \"#0d0887\"], [0.1111111111111111, \"#46039f\"], [0.2222222222222222, \"#7201a8\"], [0.3333333333333333, \"#9c179e\"], [0.4444444444444444, \"#bd3786\"], [0.5555555555555556, \"#d8576b\"], [0.6666666666666666, \"#ed7953\"], [0.7777777777777778, \"#fb9f3a\"], [0.8888888888888888, \"#fdca26\"], [1.0, \"#f0f921\"]]}, \"colorway\": [\"#636efa\", \"#EF553B\", \"#00cc96\", \"#ab63fa\", \"#FFA15A\", \"#19d3f3\", \"#FF6692\", \"#B6E880\", \"#FF97FF\", \"#FECB52\"], \"font\": {\"color\": \"#2a3f5f\"}, \"geo\": {\"bgcolor\": \"white\", \"lakecolor\": \"white\", \"landcolor\": \"#E5ECF6\", \"showlakes\": true, \"showland\": true, \"subunitcolor\": \"white\"}, \"hoverlabel\": {\"align\": \"left\"}, \"hovermode\": \"closest\", \"mapbox\": {\"style\": \"light\"}, \"paper_bgcolor\": \"white\", \"plot_bgcolor\": \"#E5ECF6\", \"polar\": {\"angularaxis\": {\"gridcolor\": \"white\", \"linecolor\": \"white\", \"ticks\": \"\"}, \"bgcolor\": \"#E5ECF6\", \"radialaxis\": {\"gridcolor\": \"white\", \"linecolor\": \"white\", \"ticks\": \"\"}}, \"scene\": {\"xaxis\": {\"backgroundcolor\": \"#E5ECF6\", \"gridcolor\": \"white\", \"gridwidth\": 2, \"linecolor\": \"white\", \"showbackground\": true, \"ticks\": \"\", \"zerolinecolor\": \"white\"}, \"yaxis\": {\"backgroundcolor\": \"#E5ECF6\", \"gridcolor\": \"white\", \"gridwidth\": 2, \"linecolor\": \"white\", \"showbackground\": true, \"ticks\": \"\", \"zerolinecolor\": \"white\"}, \"zaxis\": {\"backgroundcolor\": \"#E5ECF6\", \"gridcolor\": \"white\", \"gridwidth\": 2, \"linecolor\": \"white\", \"showbackground\": true, \"ticks\": \"\", \"zerolinecolor\": \"white\"}}, \"shapedefaults\": {\"line\": {\"color\": \"#2a3f5f\"}}, \"ternary\": {\"aaxis\": {\"gridcolor\": \"white\", \"linecolor\": \"white\", \"ticks\": \"\"}, \"baxis\": {\"gridcolor\": \"white\", \"linecolor\": \"white\", \"ticks\": \"\"}, \"bgcolor\": \"#E5ECF6\", \"caxis\": {\"gridcolor\": \"white\", \"linecolor\": \"white\", \"ticks\": \"\"}}, \"title\": {\"x\": 0.05}, \"xaxis\": {\"automargin\": true, \"gridcolor\": \"white\", \"linecolor\": \"white\", \"ticks\": \"\", \"title\": {\"standoff\": 15}, \"zerolinecolor\": \"white\", \"zerolinewidth\": 2}, \"yaxis\": {\"automargin\": true, \"gridcolor\": \"white\", \"linecolor\": \"white\", \"ticks\": \"\", \"title\": {\"standoff\": 15}, \"zerolinecolor\": \"white\", \"zerolinewidth\": 2}}}, \"title\": {\"font\": {\"color\": \"#4D5663\"}}, \"xaxis\": {\"gridcolor\": \"#E1E5ED\", \"showgrid\": true, \"tickfont\": {\"color\": \"#4D5663\"}, \"title\": {\"font\": {\"color\": \"#4D5663\"}, \"text\": \"\"}, \"zerolinecolor\": \"#E1E5ED\"}, \"yaxis\": {\"gridcolor\": \"#E1E5ED\", \"showgrid\": true, \"tickfont\": {\"color\": \"#4D5663\"}, \"title\": {\"font\": {\"color\": \"#4D5663\"}, \"text\": \"\"}, \"zerolinecolor\": \"#E1E5ED\"}},\n",
       "                        {\"showLink\": true, \"linkText\": \"Export to plot.ly\", \"plotlyServerURL\": \"https://plot.ly\", \"responsive\": true}\n",
       "                    ).then(function(){\n",
       "                            \n",
       "var gd = document.getElementById('b236913a-ea9f-4ecb-a8ff-30cbbffe5e30');\n",
       "var x = new MutationObserver(function (mutations, observer) {{\n",
       "        var display = window.getComputedStyle(gd).display;\n",
       "        if (!display || display === 'none') {{\n",
       "            console.log([gd, 'removed!']);\n",
       "            Plotly.purge(gd);\n",
       "            observer.disconnect();\n",
       "        }}\n",
       "}});\n",
       "\n",
       "// Listen for the removal of the full notebook cells\n",
       "var notebookContainer = gd.closest('#notebook-container');\n",
       "if (notebookContainer) {{\n",
       "    x.observe(notebookContainer, {childList: true});\n",
       "}}\n",
       "\n",
       "// Listen for the clearing of the current output cell\n",
       "var outputEl = gd.closest('.output');\n",
       "if (outputEl) {{\n",
       "    x.observe(outputEl, {childList: true});\n",
       "}}\n",
       "\n",
       "                        })\n",
       "                };\n",
       "                });\n",
       "            </script>\n",
       "        </div>"
      ]
     },
     "metadata": {},
     "output_type": "display_data"
    }
   ],
   "source": [
    "df.iplot(kind='box')"
   ]
  },
  {
   "cell_type": "code",
   "execution_count": 19,
   "metadata": {},
   "outputs": [],
   "source": [
    "df3=pd.DataFrame({'x':[1,2,3,4,5],'y':[10,20,30,20,10],'z':[5,4,3,2,1]})"
   ]
  },
  {
   "cell_type": "code",
   "execution_count": 20,
   "metadata": {},
   "outputs": [
    {
     "data": {
      "text/html": [
       "<div>\n",
       "<style scoped>\n",
       "    .dataframe tbody tr th:only-of-type {\n",
       "        vertical-align: middle;\n",
       "    }\n",
       "\n",
       "    .dataframe tbody tr th {\n",
       "        vertical-align: top;\n",
       "    }\n",
       "\n",
       "    .dataframe thead th {\n",
       "        text-align: right;\n",
       "    }\n",
       "</style>\n",
       "<table border=\"1\" class=\"dataframe\">\n",
       "  <thead>\n",
       "    <tr style=\"text-align: right;\">\n",
       "      <th></th>\n",
       "      <th>x</th>\n",
       "      <th>y</th>\n",
       "      <th>z</th>\n",
       "    </tr>\n",
       "  </thead>\n",
       "  <tbody>\n",
       "    <tr>\n",
       "      <th>0</th>\n",
       "      <td>1</td>\n",
       "      <td>10</td>\n",
       "      <td>5</td>\n",
       "    </tr>\n",
       "    <tr>\n",
       "      <th>1</th>\n",
       "      <td>2</td>\n",
       "      <td>20</td>\n",
       "      <td>4</td>\n",
       "    </tr>\n",
       "    <tr>\n",
       "      <th>2</th>\n",
       "      <td>3</td>\n",
       "      <td>30</td>\n",
       "      <td>3</td>\n",
       "    </tr>\n",
       "    <tr>\n",
       "      <th>3</th>\n",
       "      <td>4</td>\n",
       "      <td>20</td>\n",
       "      <td>2</td>\n",
       "    </tr>\n",
       "    <tr>\n",
       "      <th>4</th>\n",
       "      <td>5</td>\n",
       "      <td>10</td>\n",
       "      <td>1</td>\n",
       "    </tr>\n",
       "  </tbody>\n",
       "</table>\n",
       "</div>"
      ],
      "text/plain": [
       "   x   y  z\n",
       "0  1  10  5\n",
       "1  2  20  4\n",
       "2  3  30  3\n",
       "3  4  20  2\n",
       "4  5  10  1"
      ]
     },
     "execution_count": 20,
     "metadata": {},
     "output_type": "execute_result"
    }
   ],
   "source": [
    "df3"
   ]
  },
  {
   "cell_type": "code",
   "execution_count": 21,
   "metadata": {},
   "outputs": [
    {
     "data": {
      "application/vnd.plotly.v1+json": {
       "config": {
        "linkText": "Export to plot.ly",
        "plotlyServerURL": "https://plot.ly",
        "showLink": true
       },
       "data": [
        {
         "colorscale": [
          [
           0,
           "rgb(165,0,38)"
          ],
          [
           0.1,
           "rgb(215,48,39)"
          ],
          [
           0.2,
           "rgb(244,109,67)"
          ],
          [
           0.3,
           "rgb(253,174,97)"
          ],
          [
           0.4,
           "rgb(254,224,144)"
          ],
          [
           0.5,
           "rgb(255,255,191)"
          ],
          [
           0.6,
           "rgb(224,243,248)"
          ],
          [
           0.7,
           "rgb(171,217,233)"
          ],
          [
           0.8,
           "rgb(116,173,209)"
          ],
          [
           0.9,
           "rgb(69,117,180)"
          ],
          [
           1,
           "rgb(49,54,149)"
          ]
         ],
         "type": "surface",
         "x": [
          0,
          1,
          2,
          3,
          4
         ],
         "y": [
          "x",
          "y",
          "z"
         ],
         "z": [
          [
           1,
           2,
           3,
           4,
           5
          ],
          [
           10,
           20,
           30,
           20,
           10
          ],
          [
           5,
           4,
           3,
           2,
           1
          ]
         ]
        }
       ],
       "layout": {
        "legend": {
         "bgcolor": "#F5F6F9",
         "font": {
          "color": "#4D5663"
         }
        },
        "paper_bgcolor": "#F5F6F9",
        "plot_bgcolor": "#F5F6F9",
        "template": {
         "data": {
          "bar": [
           {
            "error_x": {
             "color": "#2a3f5f"
            },
            "error_y": {
             "color": "#2a3f5f"
            },
            "marker": {
             "line": {
              "color": "#E5ECF6",
              "width": 0.5
             }
            },
            "type": "bar"
           }
          ],
          "barpolar": [
           {
            "marker": {
             "line": {
              "color": "#E5ECF6",
              "width": 0.5
             }
            },
            "type": "barpolar"
           }
          ],
          "carpet": [
           {
            "aaxis": {
             "endlinecolor": "#2a3f5f",
             "gridcolor": "white",
             "linecolor": "white",
             "minorgridcolor": "white",
             "startlinecolor": "#2a3f5f"
            },
            "baxis": {
             "endlinecolor": "#2a3f5f",
             "gridcolor": "white",
             "linecolor": "white",
             "minorgridcolor": "white",
             "startlinecolor": "#2a3f5f"
            },
            "type": "carpet"
           }
          ],
          "choropleth": [
           {
            "colorbar": {
             "outlinewidth": 0,
             "ticks": ""
            },
            "type": "choropleth"
           }
          ],
          "contour": [
           {
            "colorbar": {
             "outlinewidth": 0,
             "ticks": ""
            },
            "colorscale": [
             [
              0,
              "#0d0887"
             ],
             [
              0.1111111111111111,
              "#46039f"
             ],
             [
              0.2222222222222222,
              "#7201a8"
             ],
             [
              0.3333333333333333,
              "#9c179e"
             ],
             [
              0.4444444444444444,
              "#bd3786"
             ],
             [
              0.5555555555555556,
              "#d8576b"
             ],
             [
              0.6666666666666666,
              "#ed7953"
             ],
             [
              0.7777777777777778,
              "#fb9f3a"
             ],
             [
              0.8888888888888888,
              "#fdca26"
             ],
             [
              1,
              "#f0f921"
             ]
            ],
            "type": "contour"
           }
          ],
          "contourcarpet": [
           {
            "colorbar": {
             "outlinewidth": 0,
             "ticks": ""
            },
            "type": "contourcarpet"
           }
          ],
          "heatmap": [
           {
            "colorbar": {
             "outlinewidth": 0,
             "ticks": ""
            },
            "colorscale": [
             [
              0,
              "#0d0887"
             ],
             [
              0.1111111111111111,
              "#46039f"
             ],
             [
              0.2222222222222222,
              "#7201a8"
             ],
             [
              0.3333333333333333,
              "#9c179e"
             ],
             [
              0.4444444444444444,
              "#bd3786"
             ],
             [
              0.5555555555555556,
              "#d8576b"
             ],
             [
              0.6666666666666666,
              "#ed7953"
             ],
             [
              0.7777777777777778,
              "#fb9f3a"
             ],
             [
              0.8888888888888888,
              "#fdca26"
             ],
             [
              1,
              "#f0f921"
             ]
            ],
            "type": "heatmap"
           }
          ],
          "heatmapgl": [
           {
            "colorbar": {
             "outlinewidth": 0,
             "ticks": ""
            },
            "colorscale": [
             [
              0,
              "#0d0887"
             ],
             [
              0.1111111111111111,
              "#46039f"
             ],
             [
              0.2222222222222222,
              "#7201a8"
             ],
             [
              0.3333333333333333,
              "#9c179e"
             ],
             [
              0.4444444444444444,
              "#bd3786"
             ],
             [
              0.5555555555555556,
              "#d8576b"
             ],
             [
              0.6666666666666666,
              "#ed7953"
             ],
             [
              0.7777777777777778,
              "#fb9f3a"
             ],
             [
              0.8888888888888888,
              "#fdca26"
             ],
             [
              1,
              "#f0f921"
             ]
            ],
            "type": "heatmapgl"
           }
          ],
          "histogram": [
           {
            "marker": {
             "colorbar": {
              "outlinewidth": 0,
              "ticks": ""
             }
            },
            "type": "histogram"
           }
          ],
          "histogram2d": [
           {
            "colorbar": {
             "outlinewidth": 0,
             "ticks": ""
            },
            "colorscale": [
             [
              0,
              "#0d0887"
             ],
             [
              0.1111111111111111,
              "#46039f"
             ],
             [
              0.2222222222222222,
              "#7201a8"
             ],
             [
              0.3333333333333333,
              "#9c179e"
             ],
             [
              0.4444444444444444,
              "#bd3786"
             ],
             [
              0.5555555555555556,
              "#d8576b"
             ],
             [
              0.6666666666666666,
              "#ed7953"
             ],
             [
              0.7777777777777778,
              "#fb9f3a"
             ],
             [
              0.8888888888888888,
              "#fdca26"
             ],
             [
              1,
              "#f0f921"
             ]
            ],
            "type": "histogram2d"
           }
          ],
          "histogram2dcontour": [
           {
            "colorbar": {
             "outlinewidth": 0,
             "ticks": ""
            },
            "colorscale": [
             [
              0,
              "#0d0887"
             ],
             [
              0.1111111111111111,
              "#46039f"
             ],
             [
              0.2222222222222222,
              "#7201a8"
             ],
             [
              0.3333333333333333,
              "#9c179e"
             ],
             [
              0.4444444444444444,
              "#bd3786"
             ],
             [
              0.5555555555555556,
              "#d8576b"
             ],
             [
              0.6666666666666666,
              "#ed7953"
             ],
             [
              0.7777777777777778,
              "#fb9f3a"
             ],
             [
              0.8888888888888888,
              "#fdca26"
             ],
             [
              1,
              "#f0f921"
             ]
            ],
            "type": "histogram2dcontour"
           }
          ],
          "mesh3d": [
           {
            "colorbar": {
             "outlinewidth": 0,
             "ticks": ""
            },
            "type": "mesh3d"
           }
          ],
          "parcoords": [
           {
            "line": {
             "colorbar": {
              "outlinewidth": 0,
              "ticks": ""
             }
            },
            "type": "parcoords"
           }
          ],
          "pie": [
           {
            "automargin": true,
            "type": "pie"
           }
          ],
          "scatter": [
           {
            "marker": {
             "colorbar": {
              "outlinewidth": 0,
              "ticks": ""
             }
            },
            "type": "scatter"
           }
          ],
          "scatter3d": [
           {
            "line": {
             "colorbar": {
              "outlinewidth": 0,
              "ticks": ""
             }
            },
            "marker": {
             "colorbar": {
              "outlinewidth": 0,
              "ticks": ""
             }
            },
            "type": "scatter3d"
           }
          ],
          "scattercarpet": [
           {
            "marker": {
             "colorbar": {
              "outlinewidth": 0,
              "ticks": ""
             }
            },
            "type": "scattercarpet"
           }
          ],
          "scattergeo": [
           {
            "marker": {
             "colorbar": {
              "outlinewidth": 0,
              "ticks": ""
             }
            },
            "type": "scattergeo"
           }
          ],
          "scattergl": [
           {
            "marker": {
             "colorbar": {
              "outlinewidth": 0,
              "ticks": ""
             }
            },
            "type": "scattergl"
           }
          ],
          "scattermapbox": [
           {
            "marker": {
             "colorbar": {
              "outlinewidth": 0,
              "ticks": ""
             }
            },
            "type": "scattermapbox"
           }
          ],
          "scatterpolar": [
           {
            "marker": {
             "colorbar": {
              "outlinewidth": 0,
              "ticks": ""
             }
            },
            "type": "scatterpolar"
           }
          ],
          "scatterpolargl": [
           {
            "marker": {
             "colorbar": {
              "outlinewidth": 0,
              "ticks": ""
             }
            },
            "type": "scatterpolargl"
           }
          ],
          "scatterternary": [
           {
            "marker": {
             "colorbar": {
              "outlinewidth": 0,
              "ticks": ""
             }
            },
            "type": "scatterternary"
           }
          ],
          "surface": [
           {
            "colorbar": {
             "outlinewidth": 0,
             "ticks": ""
            },
            "colorscale": [
             [
              0,
              "#0d0887"
             ],
             [
              0.1111111111111111,
              "#46039f"
             ],
             [
              0.2222222222222222,
              "#7201a8"
             ],
             [
              0.3333333333333333,
              "#9c179e"
             ],
             [
              0.4444444444444444,
              "#bd3786"
             ],
             [
              0.5555555555555556,
              "#d8576b"
             ],
             [
              0.6666666666666666,
              "#ed7953"
             ],
             [
              0.7777777777777778,
              "#fb9f3a"
             ],
             [
              0.8888888888888888,
              "#fdca26"
             ],
             [
              1,
              "#f0f921"
             ]
            ],
            "type": "surface"
           }
          ],
          "table": [
           {
            "cells": {
             "fill": {
              "color": "#EBF0F8"
             },
             "line": {
              "color": "white"
             }
            },
            "header": {
             "fill": {
              "color": "#C8D4E3"
             },
             "line": {
              "color": "white"
             }
            },
            "type": "table"
           }
          ]
         },
         "layout": {
          "annotationdefaults": {
           "arrowcolor": "#2a3f5f",
           "arrowhead": 0,
           "arrowwidth": 1
          },
          "coloraxis": {
           "colorbar": {
            "outlinewidth": 0,
            "ticks": ""
           }
          },
          "colorscale": {
           "diverging": [
            [
             0,
             "#8e0152"
            ],
            [
             0.1,
             "#c51b7d"
            ],
            [
             0.2,
             "#de77ae"
            ],
            [
             0.3,
             "#f1b6da"
            ],
            [
             0.4,
             "#fde0ef"
            ],
            [
             0.5,
             "#f7f7f7"
            ],
            [
             0.6,
             "#e6f5d0"
            ],
            [
             0.7,
             "#b8e186"
            ],
            [
             0.8,
             "#7fbc41"
            ],
            [
             0.9,
             "#4d9221"
            ],
            [
             1,
             "#276419"
            ]
           ],
           "sequential": [
            [
             0,
             "#0d0887"
            ],
            [
             0.1111111111111111,
             "#46039f"
            ],
            [
             0.2222222222222222,
             "#7201a8"
            ],
            [
             0.3333333333333333,
             "#9c179e"
            ],
            [
             0.4444444444444444,
             "#bd3786"
            ],
            [
             0.5555555555555556,
             "#d8576b"
            ],
            [
             0.6666666666666666,
             "#ed7953"
            ],
            [
             0.7777777777777778,
             "#fb9f3a"
            ],
            [
             0.8888888888888888,
             "#fdca26"
            ],
            [
             1,
             "#f0f921"
            ]
           ],
           "sequentialminus": [
            [
             0,
             "#0d0887"
            ],
            [
             0.1111111111111111,
             "#46039f"
            ],
            [
             0.2222222222222222,
             "#7201a8"
            ],
            [
             0.3333333333333333,
             "#9c179e"
            ],
            [
             0.4444444444444444,
             "#bd3786"
            ],
            [
             0.5555555555555556,
             "#d8576b"
            ],
            [
             0.6666666666666666,
             "#ed7953"
            ],
            [
             0.7777777777777778,
             "#fb9f3a"
            ],
            [
             0.8888888888888888,
             "#fdca26"
            ],
            [
             1,
             "#f0f921"
            ]
           ]
          },
          "colorway": [
           "#636efa",
           "#EF553B",
           "#00cc96",
           "#ab63fa",
           "#FFA15A",
           "#19d3f3",
           "#FF6692",
           "#B6E880",
           "#FF97FF",
           "#FECB52"
          ],
          "font": {
           "color": "#2a3f5f"
          },
          "geo": {
           "bgcolor": "white",
           "lakecolor": "white",
           "landcolor": "#E5ECF6",
           "showlakes": true,
           "showland": true,
           "subunitcolor": "white"
          },
          "hoverlabel": {
           "align": "left"
          },
          "hovermode": "closest",
          "mapbox": {
           "style": "light"
          },
          "paper_bgcolor": "white",
          "plot_bgcolor": "#E5ECF6",
          "polar": {
           "angularaxis": {
            "gridcolor": "white",
            "linecolor": "white",
            "ticks": ""
           },
           "bgcolor": "#E5ECF6",
           "radialaxis": {
            "gridcolor": "white",
            "linecolor": "white",
            "ticks": ""
           }
          },
          "scene": {
           "xaxis": {
            "backgroundcolor": "#E5ECF6",
            "gridcolor": "white",
            "gridwidth": 2,
            "linecolor": "white",
            "showbackground": true,
            "ticks": "",
            "zerolinecolor": "white"
           },
           "yaxis": {
            "backgroundcolor": "#E5ECF6",
            "gridcolor": "white",
            "gridwidth": 2,
            "linecolor": "white",
            "showbackground": true,
            "ticks": "",
            "zerolinecolor": "white"
           },
           "zaxis": {
            "backgroundcolor": "#E5ECF6",
            "gridcolor": "white",
            "gridwidth": 2,
            "linecolor": "white",
            "showbackground": true,
            "ticks": "",
            "zerolinecolor": "white"
           }
          },
          "shapedefaults": {
           "line": {
            "color": "#2a3f5f"
           }
          },
          "ternary": {
           "aaxis": {
            "gridcolor": "white",
            "linecolor": "white",
            "ticks": ""
           },
           "baxis": {
            "gridcolor": "white",
            "linecolor": "white",
            "ticks": ""
           },
           "bgcolor": "#E5ECF6",
           "caxis": {
            "gridcolor": "white",
            "linecolor": "white",
            "ticks": ""
           }
          },
          "title": {
           "x": 0.05
          },
          "xaxis": {
           "automargin": true,
           "gridcolor": "white",
           "linecolor": "white",
           "ticks": "",
           "title": {
            "standoff": 15
           },
           "zerolinecolor": "white",
           "zerolinewidth": 2
          },
          "yaxis": {
           "automargin": true,
           "gridcolor": "white",
           "linecolor": "white",
           "ticks": "",
           "title": {
            "standoff": 15
           },
           "zerolinecolor": "white",
           "zerolinewidth": 2
          }
         }
        },
        "title": {
         "font": {
          "color": "#4D5663"
         }
        },
        "xaxis": {
         "gridcolor": "#E1E5ED",
         "showgrid": true,
         "tickfont": {
          "color": "#4D5663"
         },
         "title": {
          "font": {
           "color": "#4D5663"
          },
          "text": ""
         },
         "zerolinecolor": "#E1E5ED"
        },
        "yaxis": {
         "gridcolor": "#E1E5ED",
         "showgrid": true,
         "tickfont": {
          "color": "#4D5663"
         },
         "title": {
          "font": {
           "color": "#4D5663"
          },
          "text": ""
         },
         "zerolinecolor": "#E1E5ED"
        }
       }
      },
      "text/html": [
       "<div>\n",
       "        \n",
       "        \n",
       "            <div id=\"a8f6c07c-fdf5-4d35-bf46-d4546cf833e7\" class=\"plotly-graph-div\" style=\"height:525px; width:100%;\"></div>\n",
       "            <script type=\"text/javascript\">\n",
       "                require([\"plotly\"], function(Plotly) {\n",
       "                    window.PLOTLYENV=window.PLOTLYENV || {};\n",
       "                    window.PLOTLYENV.BASE_URL='https://plot.ly';\n",
       "                    \n",
       "                if (document.getElementById(\"a8f6c07c-fdf5-4d35-bf46-d4546cf833e7\")) {\n",
       "                    Plotly.newPlot(\n",
       "                        'a8f6c07c-fdf5-4d35-bf46-d4546cf833e7',\n",
       "                        [{\"colorscale\": [[0.0, \"rgb(165,0,38)\"], [0.1, \"rgb(215,48,39)\"], [0.2, \"rgb(244,109,67)\"], [0.3, \"rgb(253,174,97)\"], [0.4, \"rgb(254,224,144)\"], [0.5, \"rgb(255,255,191)\"], [0.6, \"rgb(224,243,248)\"], [0.7, \"rgb(171,217,233)\"], [0.8, \"rgb(116,173,209)\"], [0.9, \"rgb(69,117,180)\"], [1.0, \"rgb(49,54,149)\"]], \"type\": \"surface\", \"x\": [0, 1, 2, 3, 4], \"y\": [\"x\", \"y\", \"z\"], \"z\": [[1, 2, 3, 4, 5], [10, 20, 30, 20, 10], [5, 4, 3, 2, 1]]}],\n",
       "                        {\"legend\": {\"bgcolor\": \"#F5F6F9\", \"font\": {\"color\": \"#4D5663\"}}, \"paper_bgcolor\": \"#F5F6F9\", \"plot_bgcolor\": \"#F5F6F9\", \"template\": {\"data\": {\"bar\": [{\"error_x\": {\"color\": \"#2a3f5f\"}, \"error_y\": {\"color\": \"#2a3f5f\"}, \"marker\": {\"line\": {\"color\": \"#E5ECF6\", \"width\": 0.5}}, \"type\": \"bar\"}], \"barpolar\": [{\"marker\": {\"line\": {\"color\": \"#E5ECF6\", \"width\": 0.5}}, \"type\": \"barpolar\"}], \"carpet\": [{\"aaxis\": {\"endlinecolor\": \"#2a3f5f\", \"gridcolor\": \"white\", \"linecolor\": \"white\", \"minorgridcolor\": \"white\", \"startlinecolor\": \"#2a3f5f\"}, \"baxis\": {\"endlinecolor\": \"#2a3f5f\", \"gridcolor\": \"white\", \"linecolor\": \"white\", \"minorgridcolor\": \"white\", \"startlinecolor\": \"#2a3f5f\"}, \"type\": \"carpet\"}], \"choropleth\": [{\"colorbar\": {\"outlinewidth\": 0, \"ticks\": \"\"}, \"type\": \"choropleth\"}], \"contour\": [{\"colorbar\": {\"outlinewidth\": 0, \"ticks\": \"\"}, \"colorscale\": [[0.0, \"#0d0887\"], [0.1111111111111111, \"#46039f\"], [0.2222222222222222, \"#7201a8\"], [0.3333333333333333, \"#9c179e\"], [0.4444444444444444, \"#bd3786\"], [0.5555555555555556, \"#d8576b\"], [0.6666666666666666, \"#ed7953\"], [0.7777777777777778, \"#fb9f3a\"], [0.8888888888888888, \"#fdca26\"], [1.0, \"#f0f921\"]], \"type\": \"contour\"}], \"contourcarpet\": [{\"colorbar\": {\"outlinewidth\": 0, \"ticks\": \"\"}, \"type\": \"contourcarpet\"}], \"heatmap\": [{\"colorbar\": {\"outlinewidth\": 0, \"ticks\": \"\"}, \"colorscale\": [[0.0, \"#0d0887\"], [0.1111111111111111, \"#46039f\"], [0.2222222222222222, \"#7201a8\"], [0.3333333333333333, \"#9c179e\"], [0.4444444444444444, \"#bd3786\"], [0.5555555555555556, \"#d8576b\"], [0.6666666666666666, \"#ed7953\"], [0.7777777777777778, \"#fb9f3a\"], [0.8888888888888888, \"#fdca26\"], [1.0, \"#f0f921\"]], \"type\": \"heatmap\"}], \"heatmapgl\": [{\"colorbar\": {\"outlinewidth\": 0, \"ticks\": \"\"}, \"colorscale\": [[0.0, \"#0d0887\"], [0.1111111111111111, \"#46039f\"], [0.2222222222222222, \"#7201a8\"], [0.3333333333333333, \"#9c179e\"], [0.4444444444444444, \"#bd3786\"], [0.5555555555555556, \"#d8576b\"], [0.6666666666666666, \"#ed7953\"], [0.7777777777777778, \"#fb9f3a\"], [0.8888888888888888, \"#fdca26\"], [1.0, \"#f0f921\"]], \"type\": \"heatmapgl\"}], \"histogram\": [{\"marker\": {\"colorbar\": {\"outlinewidth\": 0, \"ticks\": \"\"}}, \"type\": \"histogram\"}], \"histogram2d\": [{\"colorbar\": {\"outlinewidth\": 0, \"ticks\": \"\"}, \"colorscale\": [[0.0, \"#0d0887\"], [0.1111111111111111, \"#46039f\"], [0.2222222222222222, \"#7201a8\"], [0.3333333333333333, \"#9c179e\"], [0.4444444444444444, \"#bd3786\"], [0.5555555555555556, \"#d8576b\"], [0.6666666666666666, \"#ed7953\"], [0.7777777777777778, \"#fb9f3a\"], [0.8888888888888888, \"#fdca26\"], [1.0, \"#f0f921\"]], \"type\": \"histogram2d\"}], \"histogram2dcontour\": [{\"colorbar\": {\"outlinewidth\": 0, \"ticks\": \"\"}, \"colorscale\": [[0.0, \"#0d0887\"], [0.1111111111111111, \"#46039f\"], [0.2222222222222222, \"#7201a8\"], [0.3333333333333333, \"#9c179e\"], [0.4444444444444444, \"#bd3786\"], [0.5555555555555556, \"#d8576b\"], [0.6666666666666666, \"#ed7953\"], [0.7777777777777778, \"#fb9f3a\"], [0.8888888888888888, \"#fdca26\"], [1.0, \"#f0f921\"]], \"type\": \"histogram2dcontour\"}], \"mesh3d\": [{\"colorbar\": {\"outlinewidth\": 0, \"ticks\": \"\"}, \"type\": \"mesh3d\"}], \"parcoords\": [{\"line\": {\"colorbar\": {\"outlinewidth\": 0, \"ticks\": \"\"}}, \"type\": \"parcoords\"}], \"pie\": [{\"automargin\": true, \"type\": \"pie\"}], \"scatter\": [{\"marker\": {\"colorbar\": {\"outlinewidth\": 0, \"ticks\": \"\"}}, \"type\": \"scatter\"}], \"scatter3d\": [{\"line\": {\"colorbar\": {\"outlinewidth\": 0, \"ticks\": \"\"}}, \"marker\": {\"colorbar\": {\"outlinewidth\": 0, \"ticks\": \"\"}}, \"type\": \"scatter3d\"}], \"scattercarpet\": [{\"marker\": {\"colorbar\": {\"outlinewidth\": 0, \"ticks\": \"\"}}, \"type\": \"scattercarpet\"}], \"scattergeo\": [{\"marker\": {\"colorbar\": {\"outlinewidth\": 0, \"ticks\": \"\"}}, \"type\": \"scattergeo\"}], \"scattergl\": [{\"marker\": {\"colorbar\": {\"outlinewidth\": 0, \"ticks\": \"\"}}, \"type\": \"scattergl\"}], \"scattermapbox\": [{\"marker\": {\"colorbar\": {\"outlinewidth\": 0, \"ticks\": \"\"}}, \"type\": \"scattermapbox\"}], \"scatterpolar\": [{\"marker\": {\"colorbar\": {\"outlinewidth\": 0, \"ticks\": \"\"}}, \"type\": \"scatterpolar\"}], \"scatterpolargl\": [{\"marker\": {\"colorbar\": {\"outlinewidth\": 0, \"ticks\": \"\"}}, \"type\": \"scatterpolargl\"}], \"scatterternary\": [{\"marker\": {\"colorbar\": {\"outlinewidth\": 0, \"ticks\": \"\"}}, \"type\": \"scatterternary\"}], \"surface\": [{\"colorbar\": {\"outlinewidth\": 0, \"ticks\": \"\"}, \"colorscale\": [[0.0, \"#0d0887\"], [0.1111111111111111, \"#46039f\"], [0.2222222222222222, \"#7201a8\"], [0.3333333333333333, \"#9c179e\"], [0.4444444444444444, \"#bd3786\"], [0.5555555555555556, \"#d8576b\"], [0.6666666666666666, \"#ed7953\"], [0.7777777777777778, \"#fb9f3a\"], [0.8888888888888888, \"#fdca26\"], [1.0, \"#f0f921\"]], \"type\": \"surface\"}], \"table\": [{\"cells\": {\"fill\": {\"color\": \"#EBF0F8\"}, \"line\": {\"color\": \"white\"}}, \"header\": {\"fill\": {\"color\": \"#C8D4E3\"}, \"line\": {\"color\": \"white\"}}, \"type\": \"table\"}]}, \"layout\": {\"annotationdefaults\": {\"arrowcolor\": \"#2a3f5f\", \"arrowhead\": 0, \"arrowwidth\": 1}, \"coloraxis\": {\"colorbar\": {\"outlinewidth\": 0, \"ticks\": \"\"}}, \"colorscale\": {\"diverging\": [[0, \"#8e0152\"], [0.1, \"#c51b7d\"], [0.2, \"#de77ae\"], [0.3, \"#f1b6da\"], [0.4, \"#fde0ef\"], [0.5, \"#f7f7f7\"], [0.6, \"#e6f5d0\"], [0.7, \"#b8e186\"], [0.8, \"#7fbc41\"], [0.9, \"#4d9221\"], [1, \"#276419\"]], \"sequential\": [[0.0, \"#0d0887\"], [0.1111111111111111, \"#46039f\"], [0.2222222222222222, \"#7201a8\"], [0.3333333333333333, \"#9c179e\"], [0.4444444444444444, \"#bd3786\"], [0.5555555555555556, \"#d8576b\"], [0.6666666666666666, \"#ed7953\"], [0.7777777777777778, \"#fb9f3a\"], [0.8888888888888888, \"#fdca26\"], [1.0, \"#f0f921\"]], \"sequentialminus\": [[0.0, \"#0d0887\"], [0.1111111111111111, \"#46039f\"], [0.2222222222222222, \"#7201a8\"], [0.3333333333333333, \"#9c179e\"], [0.4444444444444444, \"#bd3786\"], [0.5555555555555556, \"#d8576b\"], [0.6666666666666666, \"#ed7953\"], [0.7777777777777778, \"#fb9f3a\"], [0.8888888888888888, \"#fdca26\"], [1.0, \"#f0f921\"]]}, \"colorway\": [\"#636efa\", \"#EF553B\", \"#00cc96\", \"#ab63fa\", \"#FFA15A\", \"#19d3f3\", \"#FF6692\", \"#B6E880\", \"#FF97FF\", \"#FECB52\"], \"font\": {\"color\": \"#2a3f5f\"}, \"geo\": {\"bgcolor\": \"white\", \"lakecolor\": \"white\", \"landcolor\": \"#E5ECF6\", \"showlakes\": true, \"showland\": true, \"subunitcolor\": \"white\"}, \"hoverlabel\": {\"align\": \"left\"}, \"hovermode\": \"closest\", \"mapbox\": {\"style\": \"light\"}, \"paper_bgcolor\": \"white\", \"plot_bgcolor\": \"#E5ECF6\", \"polar\": {\"angularaxis\": {\"gridcolor\": \"white\", \"linecolor\": \"white\", \"ticks\": \"\"}, \"bgcolor\": \"#E5ECF6\", \"radialaxis\": {\"gridcolor\": \"white\", \"linecolor\": \"white\", \"ticks\": \"\"}}, \"scene\": {\"xaxis\": {\"backgroundcolor\": \"#E5ECF6\", \"gridcolor\": \"white\", \"gridwidth\": 2, \"linecolor\": \"white\", \"showbackground\": true, \"ticks\": \"\", \"zerolinecolor\": \"white\"}, \"yaxis\": {\"backgroundcolor\": \"#E5ECF6\", \"gridcolor\": \"white\", \"gridwidth\": 2, \"linecolor\": \"white\", \"showbackground\": true, \"ticks\": \"\", \"zerolinecolor\": \"white\"}, \"zaxis\": {\"backgroundcolor\": \"#E5ECF6\", \"gridcolor\": \"white\", \"gridwidth\": 2, \"linecolor\": \"white\", \"showbackground\": true, \"ticks\": \"\", \"zerolinecolor\": \"white\"}}, \"shapedefaults\": {\"line\": {\"color\": \"#2a3f5f\"}}, \"ternary\": {\"aaxis\": {\"gridcolor\": \"white\", \"linecolor\": \"white\", \"ticks\": \"\"}, \"baxis\": {\"gridcolor\": \"white\", \"linecolor\": \"white\", \"ticks\": \"\"}, \"bgcolor\": \"#E5ECF6\", \"caxis\": {\"gridcolor\": \"white\", \"linecolor\": \"white\", \"ticks\": \"\"}}, \"title\": {\"x\": 0.05}, \"xaxis\": {\"automargin\": true, \"gridcolor\": \"white\", \"linecolor\": \"white\", \"ticks\": \"\", \"title\": {\"standoff\": 15}, \"zerolinecolor\": \"white\", \"zerolinewidth\": 2}, \"yaxis\": {\"automargin\": true, \"gridcolor\": \"white\", \"linecolor\": \"white\", \"ticks\": \"\", \"title\": {\"standoff\": 15}, \"zerolinecolor\": \"white\", \"zerolinewidth\": 2}}}, \"title\": {\"font\": {\"color\": \"#4D5663\"}}, \"xaxis\": {\"gridcolor\": \"#E1E5ED\", \"showgrid\": true, \"tickfont\": {\"color\": \"#4D5663\"}, \"title\": {\"font\": {\"color\": \"#4D5663\"}, \"text\": \"\"}, \"zerolinecolor\": \"#E1E5ED\"}, \"yaxis\": {\"gridcolor\": \"#E1E5ED\", \"showgrid\": true, \"tickfont\": {\"color\": \"#4D5663\"}, \"title\": {\"font\": {\"color\": \"#4D5663\"}, \"text\": \"\"}, \"zerolinecolor\": \"#E1E5ED\"}},\n",
       "                        {\"showLink\": true, \"linkText\": \"Export to plot.ly\", \"plotlyServerURL\": \"https://plot.ly\", \"responsive\": true}\n",
       "                    ).then(function(){\n",
       "                            \n",
       "var gd = document.getElementById('a8f6c07c-fdf5-4d35-bf46-d4546cf833e7');\n",
       "var x = new MutationObserver(function (mutations, observer) {{\n",
       "        var display = window.getComputedStyle(gd).display;\n",
       "        if (!display || display === 'none') {{\n",
       "            console.log([gd, 'removed!']);\n",
       "            Plotly.purge(gd);\n",
       "            observer.disconnect();\n",
       "        }}\n",
       "}});\n",
       "\n",
       "// Listen for the removal of the full notebook cells\n",
       "var notebookContainer = gd.closest('#notebook-container');\n",
       "if (notebookContainer) {{\n",
       "    x.observe(notebookContainer, {childList: true});\n",
       "}}\n",
       "\n",
       "// Listen for the clearing of the current output cell\n",
       "var outputEl = gd.closest('.output');\n",
       "if (outputEl) {{\n",
       "    x.observe(outputEl, {childList: true});\n",
       "}}\n",
       "\n",
       "                        })\n",
       "                };\n",
       "                });\n",
       "            </script>\n",
       "        </div>"
      ]
     },
     "metadata": {},
     "output_type": "display_data"
    }
   ],
   "source": [
    "df3.iplot(kind='surface',colorscale='rdylbu')"
   ]
  },
  {
   "cell_type": "code",
   "execution_count": 22,
   "metadata": {},
   "outputs": [
    {
     "data": {
      "application/vnd.plotly.v1+json": {
       "config": {
        "linkText": "Export to plot.ly",
        "plotlyServerURL": "https://plot.ly",
        "showLink": true
       },
       "data": [
        {
         "histfunc": "count",
         "histnorm": "",
         "marker": {
          "color": "rgba(255, 153, 51, 1.0)",
          "line": {
           "color": "#4D5663",
           "width": 1.3
          }
         },
         "name": "A",
         "nbinsx": 25,
         "opacity": 0.8,
         "orientation": "v",
         "type": "histogram",
         "x": [
          0.7384849679917865,
          -0.4739703576787497,
          -1.2410850999181424,
          0.011239248866355677,
          -0.3023127905230943,
          0.2363230440172158,
          -0.28402355339350155,
          0.9399206409610732,
          0.7622389377177152,
          0.9498089256425105,
          -1.6162083558302955,
          0.9646435176708447,
          0.6614496914739366,
          -1.716143334033692,
          -2.5356915148878794,
          -0.9617606145051862,
          0.008293435242292549,
          1.4810906706268816,
          0.6930911578507049,
          0.7517083996567843,
          1.6773600899238656,
          0.20023565995701395,
          -0.4862336432496669,
          0.6424563113780488,
          1.0529264632088229,
          -0.5194348158769179,
          0.5193794476182205,
          -0.2177636551563566,
          0.5730394684480788,
          0.8894265882891824,
          0.16574773044920646,
          -0.36556200969439046,
          -0.6371054172325357,
          1.1301373234143273,
          -0.3552754866053425,
          -0.7883959295021864,
          0.5859129449503426,
          -1.3343892432421331,
          -0.21179498740280153,
          0.8445155577573598,
          -1.0158186524593766,
          1.046865972107086,
          1.35629825666338,
          1.2275847492949927,
          -1.8092078608463722,
          0.3104716386755969,
          1.9439385481339027,
          -0.046302866157695736,
          0.9939623927497057,
          -1.5237946534936748,
          -1.3326917554580766,
          2.4142179028316892,
          0.04185598515241913,
          -2.1987326086021013,
          0.23139778756142068,
          0.9666403300832923,
          -0.24296102909533798,
          -0.6476057938239268,
          -0.16151360123863254,
          0.4793347634889624,
          0.6347851945989572,
          0.8434974936512513,
          1.002062963811421,
          1.2616989085150399,
          -0.4796951126108852,
          -1.0526870741532763,
          -1.19889718235249,
          -0.8743996784021727,
          0.9033046003458987,
          -1.514389455518979,
          -0.9101640903693848,
          1.3029787614274848,
          -0.574457267580267,
          -1.1532287536452923,
          -1.9252554195383396,
          1.5403188122329121,
          -0.6187670029735031,
          1.7146672083316403,
          1.2440564828005858,
          -0.0009091919227137812,
          1.1007579242326673,
          0.6006154386851078,
          -1.1507471833784182,
          -0.7789990876013348,
          -0.28419337049955345,
          1.0236872992597577,
          0.7399035390241175,
          0.1545230603764189,
          -1.2790224177216212,
          0.8595009913364225,
          0.2626145547074289,
          0.553328600134025,
          0.2672852048766201,
          -0.8914354807363999,
          0.5002622086866662,
          0.3346114667624826,
          -0.8529924982020634,
          1.339333316246086,
          0.5939467712682505,
          -1.3180613570001438
         ]
        }
       ],
       "layout": {
        "barmode": "overlay",
        "legend": {
         "bgcolor": "#F5F6F9",
         "font": {
          "color": "#4D5663"
         }
        },
        "paper_bgcolor": "#F5F6F9",
        "plot_bgcolor": "#F5F6F9",
        "template": {
         "data": {
          "bar": [
           {
            "error_x": {
             "color": "#2a3f5f"
            },
            "error_y": {
             "color": "#2a3f5f"
            },
            "marker": {
             "line": {
              "color": "#E5ECF6",
              "width": 0.5
             }
            },
            "type": "bar"
           }
          ],
          "barpolar": [
           {
            "marker": {
             "line": {
              "color": "#E5ECF6",
              "width": 0.5
             }
            },
            "type": "barpolar"
           }
          ],
          "carpet": [
           {
            "aaxis": {
             "endlinecolor": "#2a3f5f",
             "gridcolor": "white",
             "linecolor": "white",
             "minorgridcolor": "white",
             "startlinecolor": "#2a3f5f"
            },
            "baxis": {
             "endlinecolor": "#2a3f5f",
             "gridcolor": "white",
             "linecolor": "white",
             "minorgridcolor": "white",
             "startlinecolor": "#2a3f5f"
            },
            "type": "carpet"
           }
          ],
          "choropleth": [
           {
            "colorbar": {
             "outlinewidth": 0,
             "ticks": ""
            },
            "type": "choropleth"
           }
          ],
          "contour": [
           {
            "colorbar": {
             "outlinewidth": 0,
             "ticks": ""
            },
            "colorscale": [
             [
              0,
              "#0d0887"
             ],
             [
              0.1111111111111111,
              "#46039f"
             ],
             [
              0.2222222222222222,
              "#7201a8"
             ],
             [
              0.3333333333333333,
              "#9c179e"
             ],
             [
              0.4444444444444444,
              "#bd3786"
             ],
             [
              0.5555555555555556,
              "#d8576b"
             ],
             [
              0.6666666666666666,
              "#ed7953"
             ],
             [
              0.7777777777777778,
              "#fb9f3a"
             ],
             [
              0.8888888888888888,
              "#fdca26"
             ],
             [
              1,
              "#f0f921"
             ]
            ],
            "type": "contour"
           }
          ],
          "contourcarpet": [
           {
            "colorbar": {
             "outlinewidth": 0,
             "ticks": ""
            },
            "type": "contourcarpet"
           }
          ],
          "heatmap": [
           {
            "colorbar": {
             "outlinewidth": 0,
             "ticks": ""
            },
            "colorscale": [
             [
              0,
              "#0d0887"
             ],
             [
              0.1111111111111111,
              "#46039f"
             ],
             [
              0.2222222222222222,
              "#7201a8"
             ],
             [
              0.3333333333333333,
              "#9c179e"
             ],
             [
              0.4444444444444444,
              "#bd3786"
             ],
             [
              0.5555555555555556,
              "#d8576b"
             ],
             [
              0.6666666666666666,
              "#ed7953"
             ],
             [
              0.7777777777777778,
              "#fb9f3a"
             ],
             [
              0.8888888888888888,
              "#fdca26"
             ],
             [
              1,
              "#f0f921"
             ]
            ],
            "type": "heatmap"
           }
          ],
          "heatmapgl": [
           {
            "colorbar": {
             "outlinewidth": 0,
             "ticks": ""
            },
            "colorscale": [
             [
              0,
              "#0d0887"
             ],
             [
              0.1111111111111111,
              "#46039f"
             ],
             [
              0.2222222222222222,
              "#7201a8"
             ],
             [
              0.3333333333333333,
              "#9c179e"
             ],
             [
              0.4444444444444444,
              "#bd3786"
             ],
             [
              0.5555555555555556,
              "#d8576b"
             ],
             [
              0.6666666666666666,
              "#ed7953"
             ],
             [
              0.7777777777777778,
              "#fb9f3a"
             ],
             [
              0.8888888888888888,
              "#fdca26"
             ],
             [
              1,
              "#f0f921"
             ]
            ],
            "type": "heatmapgl"
           }
          ],
          "histogram": [
           {
            "marker": {
             "colorbar": {
              "outlinewidth": 0,
              "ticks": ""
             }
            },
            "type": "histogram"
           }
          ],
          "histogram2d": [
           {
            "colorbar": {
             "outlinewidth": 0,
             "ticks": ""
            },
            "colorscale": [
             [
              0,
              "#0d0887"
             ],
             [
              0.1111111111111111,
              "#46039f"
             ],
             [
              0.2222222222222222,
              "#7201a8"
             ],
             [
              0.3333333333333333,
              "#9c179e"
             ],
             [
              0.4444444444444444,
              "#bd3786"
             ],
             [
              0.5555555555555556,
              "#d8576b"
             ],
             [
              0.6666666666666666,
              "#ed7953"
             ],
             [
              0.7777777777777778,
              "#fb9f3a"
             ],
             [
              0.8888888888888888,
              "#fdca26"
             ],
             [
              1,
              "#f0f921"
             ]
            ],
            "type": "histogram2d"
           }
          ],
          "histogram2dcontour": [
           {
            "colorbar": {
             "outlinewidth": 0,
             "ticks": ""
            },
            "colorscale": [
             [
              0,
              "#0d0887"
             ],
             [
              0.1111111111111111,
              "#46039f"
             ],
             [
              0.2222222222222222,
              "#7201a8"
             ],
             [
              0.3333333333333333,
              "#9c179e"
             ],
             [
              0.4444444444444444,
              "#bd3786"
             ],
             [
              0.5555555555555556,
              "#d8576b"
             ],
             [
              0.6666666666666666,
              "#ed7953"
             ],
             [
              0.7777777777777778,
              "#fb9f3a"
             ],
             [
              0.8888888888888888,
              "#fdca26"
             ],
             [
              1,
              "#f0f921"
             ]
            ],
            "type": "histogram2dcontour"
           }
          ],
          "mesh3d": [
           {
            "colorbar": {
             "outlinewidth": 0,
             "ticks": ""
            },
            "type": "mesh3d"
           }
          ],
          "parcoords": [
           {
            "line": {
             "colorbar": {
              "outlinewidth": 0,
              "ticks": ""
             }
            },
            "type": "parcoords"
           }
          ],
          "pie": [
           {
            "automargin": true,
            "type": "pie"
           }
          ],
          "scatter": [
           {
            "marker": {
             "colorbar": {
              "outlinewidth": 0,
              "ticks": ""
             }
            },
            "type": "scatter"
           }
          ],
          "scatter3d": [
           {
            "line": {
             "colorbar": {
              "outlinewidth": 0,
              "ticks": ""
             }
            },
            "marker": {
             "colorbar": {
              "outlinewidth": 0,
              "ticks": ""
             }
            },
            "type": "scatter3d"
           }
          ],
          "scattercarpet": [
           {
            "marker": {
             "colorbar": {
              "outlinewidth": 0,
              "ticks": ""
             }
            },
            "type": "scattercarpet"
           }
          ],
          "scattergeo": [
           {
            "marker": {
             "colorbar": {
              "outlinewidth": 0,
              "ticks": ""
             }
            },
            "type": "scattergeo"
           }
          ],
          "scattergl": [
           {
            "marker": {
             "colorbar": {
              "outlinewidth": 0,
              "ticks": ""
             }
            },
            "type": "scattergl"
           }
          ],
          "scattermapbox": [
           {
            "marker": {
             "colorbar": {
              "outlinewidth": 0,
              "ticks": ""
             }
            },
            "type": "scattermapbox"
           }
          ],
          "scatterpolar": [
           {
            "marker": {
             "colorbar": {
              "outlinewidth": 0,
              "ticks": ""
             }
            },
            "type": "scatterpolar"
           }
          ],
          "scatterpolargl": [
           {
            "marker": {
             "colorbar": {
              "outlinewidth": 0,
              "ticks": ""
             }
            },
            "type": "scatterpolargl"
           }
          ],
          "scatterternary": [
           {
            "marker": {
             "colorbar": {
              "outlinewidth": 0,
              "ticks": ""
             }
            },
            "type": "scatterternary"
           }
          ],
          "surface": [
           {
            "colorbar": {
             "outlinewidth": 0,
             "ticks": ""
            },
            "colorscale": [
             [
              0,
              "#0d0887"
             ],
             [
              0.1111111111111111,
              "#46039f"
             ],
             [
              0.2222222222222222,
              "#7201a8"
             ],
             [
              0.3333333333333333,
              "#9c179e"
             ],
             [
              0.4444444444444444,
              "#bd3786"
             ],
             [
              0.5555555555555556,
              "#d8576b"
             ],
             [
              0.6666666666666666,
              "#ed7953"
             ],
             [
              0.7777777777777778,
              "#fb9f3a"
             ],
             [
              0.8888888888888888,
              "#fdca26"
             ],
             [
              1,
              "#f0f921"
             ]
            ],
            "type": "surface"
           }
          ],
          "table": [
           {
            "cells": {
             "fill": {
              "color": "#EBF0F8"
             },
             "line": {
              "color": "white"
             }
            },
            "header": {
             "fill": {
              "color": "#C8D4E3"
             },
             "line": {
              "color": "white"
             }
            },
            "type": "table"
           }
          ]
         },
         "layout": {
          "annotationdefaults": {
           "arrowcolor": "#2a3f5f",
           "arrowhead": 0,
           "arrowwidth": 1
          },
          "coloraxis": {
           "colorbar": {
            "outlinewidth": 0,
            "ticks": ""
           }
          },
          "colorscale": {
           "diverging": [
            [
             0,
             "#8e0152"
            ],
            [
             0.1,
             "#c51b7d"
            ],
            [
             0.2,
             "#de77ae"
            ],
            [
             0.3,
             "#f1b6da"
            ],
            [
             0.4,
             "#fde0ef"
            ],
            [
             0.5,
             "#f7f7f7"
            ],
            [
             0.6,
             "#e6f5d0"
            ],
            [
             0.7,
             "#b8e186"
            ],
            [
             0.8,
             "#7fbc41"
            ],
            [
             0.9,
             "#4d9221"
            ],
            [
             1,
             "#276419"
            ]
           ],
           "sequential": [
            [
             0,
             "#0d0887"
            ],
            [
             0.1111111111111111,
             "#46039f"
            ],
            [
             0.2222222222222222,
             "#7201a8"
            ],
            [
             0.3333333333333333,
             "#9c179e"
            ],
            [
             0.4444444444444444,
             "#bd3786"
            ],
            [
             0.5555555555555556,
             "#d8576b"
            ],
            [
             0.6666666666666666,
             "#ed7953"
            ],
            [
             0.7777777777777778,
             "#fb9f3a"
            ],
            [
             0.8888888888888888,
             "#fdca26"
            ],
            [
             1,
             "#f0f921"
            ]
           ],
           "sequentialminus": [
            [
             0,
             "#0d0887"
            ],
            [
             0.1111111111111111,
             "#46039f"
            ],
            [
             0.2222222222222222,
             "#7201a8"
            ],
            [
             0.3333333333333333,
             "#9c179e"
            ],
            [
             0.4444444444444444,
             "#bd3786"
            ],
            [
             0.5555555555555556,
             "#d8576b"
            ],
            [
             0.6666666666666666,
             "#ed7953"
            ],
            [
             0.7777777777777778,
             "#fb9f3a"
            ],
            [
             0.8888888888888888,
             "#fdca26"
            ],
            [
             1,
             "#f0f921"
            ]
           ]
          },
          "colorway": [
           "#636efa",
           "#EF553B",
           "#00cc96",
           "#ab63fa",
           "#FFA15A",
           "#19d3f3",
           "#FF6692",
           "#B6E880",
           "#FF97FF",
           "#FECB52"
          ],
          "font": {
           "color": "#2a3f5f"
          },
          "geo": {
           "bgcolor": "white",
           "lakecolor": "white",
           "landcolor": "#E5ECF6",
           "showlakes": true,
           "showland": true,
           "subunitcolor": "white"
          },
          "hoverlabel": {
           "align": "left"
          },
          "hovermode": "closest",
          "mapbox": {
           "style": "light"
          },
          "paper_bgcolor": "white",
          "plot_bgcolor": "#E5ECF6",
          "polar": {
           "angularaxis": {
            "gridcolor": "white",
            "linecolor": "white",
            "ticks": ""
           },
           "bgcolor": "#E5ECF6",
           "radialaxis": {
            "gridcolor": "white",
            "linecolor": "white",
            "ticks": ""
           }
          },
          "scene": {
           "xaxis": {
            "backgroundcolor": "#E5ECF6",
            "gridcolor": "white",
            "gridwidth": 2,
            "linecolor": "white",
            "showbackground": true,
            "ticks": "",
            "zerolinecolor": "white"
           },
           "yaxis": {
            "backgroundcolor": "#E5ECF6",
            "gridcolor": "white",
            "gridwidth": 2,
            "linecolor": "white",
            "showbackground": true,
            "ticks": "",
            "zerolinecolor": "white"
           },
           "zaxis": {
            "backgroundcolor": "#E5ECF6",
            "gridcolor": "white",
            "gridwidth": 2,
            "linecolor": "white",
            "showbackground": true,
            "ticks": "",
            "zerolinecolor": "white"
           }
          },
          "shapedefaults": {
           "line": {
            "color": "#2a3f5f"
           }
          },
          "ternary": {
           "aaxis": {
            "gridcolor": "white",
            "linecolor": "white",
            "ticks": ""
           },
           "baxis": {
            "gridcolor": "white",
            "linecolor": "white",
            "ticks": ""
           },
           "bgcolor": "#E5ECF6",
           "caxis": {
            "gridcolor": "white",
            "linecolor": "white",
            "ticks": ""
           }
          },
          "title": {
           "x": 0.05
          },
          "xaxis": {
           "automargin": true,
           "gridcolor": "white",
           "linecolor": "white",
           "ticks": "",
           "title": {
            "standoff": 15
           },
           "zerolinecolor": "white",
           "zerolinewidth": 2
          },
          "yaxis": {
           "automargin": true,
           "gridcolor": "white",
           "linecolor": "white",
           "ticks": "",
           "title": {
            "standoff": 15
           },
           "zerolinecolor": "white",
           "zerolinewidth": 2
          }
         }
        },
        "title": {
         "font": {
          "color": "#4D5663"
         }
        },
        "xaxis": {
         "gridcolor": "#E1E5ED",
         "showgrid": true,
         "tickfont": {
          "color": "#4D5663"
         },
         "title": {
          "font": {
           "color": "#4D5663"
          },
          "text": ""
         },
         "zerolinecolor": "#E1E5ED"
        },
        "yaxis": {
         "gridcolor": "#E1E5ED",
         "showgrid": true,
         "tickfont": {
          "color": "#4D5663"
         },
         "title": {
          "font": {
           "color": "#4D5663"
          },
          "text": ""
         },
         "zerolinecolor": "#E1E5ED"
        }
       }
      },
      "text/html": [
       "<div>\n",
       "        \n",
       "        \n",
       "            <div id=\"2ea5c5f5-67b6-4140-a6a5-ce31a112b797\" class=\"plotly-graph-div\" style=\"height:525px; width:100%;\"></div>\n",
       "            <script type=\"text/javascript\">\n",
       "                require([\"plotly\"], function(Plotly) {\n",
       "                    window.PLOTLYENV=window.PLOTLYENV || {};\n",
       "                    window.PLOTLYENV.BASE_URL='https://plot.ly';\n",
       "                    \n",
       "                if (document.getElementById(\"2ea5c5f5-67b6-4140-a6a5-ce31a112b797\")) {\n",
       "                    Plotly.newPlot(\n",
       "                        '2ea5c5f5-67b6-4140-a6a5-ce31a112b797',\n",
       "                        [{\"histfunc\": \"count\", \"histnorm\": \"\", \"marker\": {\"color\": \"rgba(255, 153, 51, 1.0)\", \"line\": {\"color\": \"#4D5663\", \"width\": 1.3}}, \"name\": \"A\", \"nbinsx\": 25, \"opacity\": 0.8, \"orientation\": \"v\", \"type\": \"histogram\", \"x\": [0.7384849679917865, -0.4739703576787497, -1.2410850999181424, 0.011239248866355677, -0.3023127905230943, 0.2363230440172158, -0.28402355339350155, 0.9399206409610732, 0.7622389377177152, 0.9498089256425105, -1.6162083558302955, 0.9646435176708447, 0.6614496914739366, -1.716143334033692, -2.5356915148878794, -0.9617606145051862, 0.008293435242292549, 1.4810906706268816, 0.6930911578507049, 0.7517083996567843, 1.6773600899238656, 0.20023565995701395, -0.4862336432496669, 0.6424563113780488, 1.0529264632088229, -0.5194348158769179, 0.5193794476182205, -0.2177636551563566, 0.5730394684480788, 0.8894265882891824, 0.16574773044920646, -0.36556200969439046, -0.6371054172325357, 1.1301373234143273, -0.3552754866053425, -0.7883959295021864, 0.5859129449503426, -1.3343892432421331, -0.21179498740280153, 0.8445155577573598, -1.0158186524593766, 1.046865972107086, 1.35629825666338, 1.2275847492949927, -1.8092078608463722, 0.3104716386755969, 1.9439385481339027, -0.046302866157695736, 0.9939623927497057, -1.5237946534936748, -1.3326917554580766, 2.4142179028316892, 0.04185598515241913, -2.1987326086021013, 0.23139778756142068, 0.9666403300832923, -0.24296102909533798, -0.6476057938239268, -0.16151360123863254, 0.4793347634889624, 0.6347851945989572, 0.8434974936512513, 1.002062963811421, 1.2616989085150399, -0.4796951126108852, -1.0526870741532763, -1.19889718235249, -0.8743996784021727, 0.9033046003458987, -1.514389455518979, -0.9101640903693848, 1.3029787614274848, -0.574457267580267, -1.1532287536452923, -1.9252554195383396, 1.5403188122329121, -0.6187670029735031, 1.7146672083316403, 1.2440564828005858, -0.0009091919227137812, 1.1007579242326673, 0.6006154386851078, -1.1507471833784182, -0.7789990876013348, -0.28419337049955345, 1.0236872992597577, 0.7399035390241175, 0.1545230603764189, -1.2790224177216212, 0.8595009913364225, 0.2626145547074289, 0.553328600134025, 0.2672852048766201, -0.8914354807363999, 0.5002622086866662, 0.3346114667624826, -0.8529924982020634, 1.339333316246086, 0.5939467712682505, -1.3180613570001438]}],\n",
       "                        {\"barmode\": \"overlay\", \"legend\": {\"bgcolor\": \"#F5F6F9\", \"font\": {\"color\": \"#4D5663\"}}, \"paper_bgcolor\": \"#F5F6F9\", \"plot_bgcolor\": \"#F5F6F9\", \"template\": {\"data\": {\"bar\": [{\"error_x\": {\"color\": \"#2a3f5f\"}, \"error_y\": {\"color\": \"#2a3f5f\"}, \"marker\": {\"line\": {\"color\": \"#E5ECF6\", \"width\": 0.5}}, \"type\": \"bar\"}], \"barpolar\": [{\"marker\": {\"line\": {\"color\": \"#E5ECF6\", \"width\": 0.5}}, \"type\": \"barpolar\"}], \"carpet\": [{\"aaxis\": {\"endlinecolor\": \"#2a3f5f\", \"gridcolor\": \"white\", \"linecolor\": \"white\", \"minorgridcolor\": \"white\", \"startlinecolor\": \"#2a3f5f\"}, \"baxis\": {\"endlinecolor\": \"#2a3f5f\", \"gridcolor\": \"white\", \"linecolor\": \"white\", \"minorgridcolor\": \"white\", \"startlinecolor\": \"#2a3f5f\"}, \"type\": \"carpet\"}], \"choropleth\": [{\"colorbar\": {\"outlinewidth\": 0, \"ticks\": \"\"}, \"type\": \"choropleth\"}], \"contour\": [{\"colorbar\": {\"outlinewidth\": 0, \"ticks\": \"\"}, \"colorscale\": [[0.0, \"#0d0887\"], [0.1111111111111111, \"#46039f\"], [0.2222222222222222, \"#7201a8\"], [0.3333333333333333, \"#9c179e\"], [0.4444444444444444, \"#bd3786\"], [0.5555555555555556, \"#d8576b\"], [0.6666666666666666, \"#ed7953\"], [0.7777777777777778, \"#fb9f3a\"], [0.8888888888888888, \"#fdca26\"], [1.0, \"#f0f921\"]], \"type\": \"contour\"}], \"contourcarpet\": [{\"colorbar\": {\"outlinewidth\": 0, \"ticks\": \"\"}, \"type\": \"contourcarpet\"}], \"heatmap\": [{\"colorbar\": {\"outlinewidth\": 0, \"ticks\": \"\"}, \"colorscale\": [[0.0, \"#0d0887\"], [0.1111111111111111, \"#46039f\"], [0.2222222222222222, \"#7201a8\"], [0.3333333333333333, \"#9c179e\"], [0.4444444444444444, \"#bd3786\"], [0.5555555555555556, \"#d8576b\"], [0.6666666666666666, \"#ed7953\"], [0.7777777777777778, \"#fb9f3a\"], [0.8888888888888888, \"#fdca26\"], [1.0, \"#f0f921\"]], \"type\": \"heatmap\"}], \"heatmapgl\": [{\"colorbar\": {\"outlinewidth\": 0, \"ticks\": \"\"}, \"colorscale\": [[0.0, \"#0d0887\"], [0.1111111111111111, \"#46039f\"], [0.2222222222222222, \"#7201a8\"], [0.3333333333333333, \"#9c179e\"], [0.4444444444444444, \"#bd3786\"], [0.5555555555555556, \"#d8576b\"], [0.6666666666666666, \"#ed7953\"], [0.7777777777777778, \"#fb9f3a\"], [0.8888888888888888, \"#fdca26\"], [1.0, \"#f0f921\"]], \"type\": \"heatmapgl\"}], \"histogram\": [{\"marker\": {\"colorbar\": {\"outlinewidth\": 0, \"ticks\": \"\"}}, \"type\": \"histogram\"}], \"histogram2d\": [{\"colorbar\": {\"outlinewidth\": 0, \"ticks\": \"\"}, \"colorscale\": [[0.0, \"#0d0887\"], [0.1111111111111111, \"#46039f\"], [0.2222222222222222, \"#7201a8\"], [0.3333333333333333, \"#9c179e\"], [0.4444444444444444, \"#bd3786\"], [0.5555555555555556, \"#d8576b\"], [0.6666666666666666, \"#ed7953\"], [0.7777777777777778, \"#fb9f3a\"], [0.8888888888888888, \"#fdca26\"], [1.0, \"#f0f921\"]], \"type\": \"histogram2d\"}], \"histogram2dcontour\": [{\"colorbar\": {\"outlinewidth\": 0, \"ticks\": \"\"}, \"colorscale\": [[0.0, \"#0d0887\"], [0.1111111111111111, \"#46039f\"], [0.2222222222222222, \"#7201a8\"], [0.3333333333333333, \"#9c179e\"], [0.4444444444444444, \"#bd3786\"], [0.5555555555555556, \"#d8576b\"], [0.6666666666666666, \"#ed7953\"], [0.7777777777777778, \"#fb9f3a\"], [0.8888888888888888, \"#fdca26\"], [1.0, \"#f0f921\"]], \"type\": \"histogram2dcontour\"}], \"mesh3d\": [{\"colorbar\": {\"outlinewidth\": 0, \"ticks\": \"\"}, \"type\": \"mesh3d\"}], \"parcoords\": [{\"line\": {\"colorbar\": {\"outlinewidth\": 0, \"ticks\": \"\"}}, \"type\": \"parcoords\"}], \"pie\": [{\"automargin\": true, \"type\": \"pie\"}], \"scatter\": [{\"marker\": {\"colorbar\": {\"outlinewidth\": 0, \"ticks\": \"\"}}, \"type\": \"scatter\"}], \"scatter3d\": [{\"line\": {\"colorbar\": {\"outlinewidth\": 0, \"ticks\": \"\"}}, \"marker\": {\"colorbar\": {\"outlinewidth\": 0, \"ticks\": \"\"}}, \"type\": \"scatter3d\"}], \"scattercarpet\": [{\"marker\": {\"colorbar\": {\"outlinewidth\": 0, \"ticks\": \"\"}}, \"type\": \"scattercarpet\"}], \"scattergeo\": [{\"marker\": {\"colorbar\": {\"outlinewidth\": 0, \"ticks\": \"\"}}, \"type\": \"scattergeo\"}], \"scattergl\": [{\"marker\": {\"colorbar\": {\"outlinewidth\": 0, \"ticks\": \"\"}}, \"type\": \"scattergl\"}], \"scattermapbox\": [{\"marker\": {\"colorbar\": {\"outlinewidth\": 0, \"ticks\": \"\"}}, \"type\": \"scattermapbox\"}], \"scatterpolar\": [{\"marker\": {\"colorbar\": {\"outlinewidth\": 0, \"ticks\": \"\"}}, \"type\": \"scatterpolar\"}], \"scatterpolargl\": [{\"marker\": {\"colorbar\": {\"outlinewidth\": 0, \"ticks\": \"\"}}, \"type\": \"scatterpolargl\"}], \"scatterternary\": [{\"marker\": {\"colorbar\": {\"outlinewidth\": 0, \"ticks\": \"\"}}, \"type\": \"scatterternary\"}], \"surface\": [{\"colorbar\": {\"outlinewidth\": 0, \"ticks\": \"\"}, \"colorscale\": [[0.0, \"#0d0887\"], [0.1111111111111111, \"#46039f\"], [0.2222222222222222, \"#7201a8\"], [0.3333333333333333, \"#9c179e\"], [0.4444444444444444, \"#bd3786\"], [0.5555555555555556, \"#d8576b\"], [0.6666666666666666, \"#ed7953\"], [0.7777777777777778, \"#fb9f3a\"], [0.8888888888888888, \"#fdca26\"], [1.0, \"#f0f921\"]], \"type\": \"surface\"}], \"table\": [{\"cells\": {\"fill\": {\"color\": \"#EBF0F8\"}, \"line\": {\"color\": \"white\"}}, \"header\": {\"fill\": {\"color\": \"#C8D4E3\"}, \"line\": {\"color\": \"white\"}}, \"type\": \"table\"}]}, \"layout\": {\"annotationdefaults\": {\"arrowcolor\": \"#2a3f5f\", \"arrowhead\": 0, \"arrowwidth\": 1}, \"coloraxis\": {\"colorbar\": {\"outlinewidth\": 0, \"ticks\": \"\"}}, \"colorscale\": {\"diverging\": [[0, \"#8e0152\"], [0.1, \"#c51b7d\"], [0.2, \"#de77ae\"], [0.3, \"#f1b6da\"], [0.4, \"#fde0ef\"], [0.5, \"#f7f7f7\"], [0.6, \"#e6f5d0\"], [0.7, \"#b8e186\"], [0.8, \"#7fbc41\"], [0.9, \"#4d9221\"], [1, \"#276419\"]], \"sequential\": [[0.0, \"#0d0887\"], [0.1111111111111111, \"#46039f\"], [0.2222222222222222, \"#7201a8\"], [0.3333333333333333, \"#9c179e\"], [0.4444444444444444, \"#bd3786\"], [0.5555555555555556, \"#d8576b\"], [0.6666666666666666, \"#ed7953\"], [0.7777777777777778, \"#fb9f3a\"], [0.8888888888888888, \"#fdca26\"], [1.0, \"#f0f921\"]], \"sequentialminus\": [[0.0, \"#0d0887\"], [0.1111111111111111, \"#46039f\"], [0.2222222222222222, \"#7201a8\"], [0.3333333333333333, \"#9c179e\"], [0.4444444444444444, \"#bd3786\"], [0.5555555555555556, \"#d8576b\"], [0.6666666666666666, \"#ed7953\"], [0.7777777777777778, \"#fb9f3a\"], [0.8888888888888888, \"#fdca26\"], [1.0, \"#f0f921\"]]}, \"colorway\": [\"#636efa\", \"#EF553B\", \"#00cc96\", \"#ab63fa\", \"#FFA15A\", \"#19d3f3\", \"#FF6692\", \"#B6E880\", \"#FF97FF\", \"#FECB52\"], \"font\": {\"color\": \"#2a3f5f\"}, \"geo\": {\"bgcolor\": \"white\", \"lakecolor\": \"white\", \"landcolor\": \"#E5ECF6\", \"showlakes\": true, \"showland\": true, \"subunitcolor\": \"white\"}, \"hoverlabel\": {\"align\": \"left\"}, \"hovermode\": \"closest\", \"mapbox\": {\"style\": \"light\"}, \"paper_bgcolor\": \"white\", \"plot_bgcolor\": \"#E5ECF6\", \"polar\": {\"angularaxis\": {\"gridcolor\": \"white\", \"linecolor\": \"white\", \"ticks\": \"\"}, \"bgcolor\": \"#E5ECF6\", \"radialaxis\": {\"gridcolor\": \"white\", \"linecolor\": \"white\", \"ticks\": \"\"}}, \"scene\": {\"xaxis\": {\"backgroundcolor\": \"#E5ECF6\", \"gridcolor\": \"white\", \"gridwidth\": 2, \"linecolor\": \"white\", \"showbackground\": true, \"ticks\": \"\", \"zerolinecolor\": \"white\"}, \"yaxis\": {\"backgroundcolor\": \"#E5ECF6\", \"gridcolor\": \"white\", \"gridwidth\": 2, \"linecolor\": \"white\", \"showbackground\": true, \"ticks\": \"\", \"zerolinecolor\": \"white\"}, \"zaxis\": {\"backgroundcolor\": \"#E5ECF6\", \"gridcolor\": \"white\", \"gridwidth\": 2, \"linecolor\": \"white\", \"showbackground\": true, \"ticks\": \"\", \"zerolinecolor\": \"white\"}}, \"shapedefaults\": {\"line\": {\"color\": \"#2a3f5f\"}}, \"ternary\": {\"aaxis\": {\"gridcolor\": \"white\", \"linecolor\": \"white\", \"ticks\": \"\"}, \"baxis\": {\"gridcolor\": \"white\", \"linecolor\": \"white\", \"ticks\": \"\"}, \"bgcolor\": \"#E5ECF6\", \"caxis\": {\"gridcolor\": \"white\", \"linecolor\": \"white\", \"ticks\": \"\"}}, \"title\": {\"x\": 0.05}, \"xaxis\": {\"automargin\": true, \"gridcolor\": \"white\", \"linecolor\": \"white\", \"ticks\": \"\", \"title\": {\"standoff\": 15}, \"zerolinecolor\": \"white\", \"zerolinewidth\": 2}, \"yaxis\": {\"automargin\": true, \"gridcolor\": \"white\", \"linecolor\": \"white\", \"ticks\": \"\", \"title\": {\"standoff\": 15}, \"zerolinecolor\": \"white\", \"zerolinewidth\": 2}}}, \"title\": {\"font\": {\"color\": \"#4D5663\"}}, \"xaxis\": {\"gridcolor\": \"#E1E5ED\", \"showgrid\": true, \"tickfont\": {\"color\": \"#4D5663\"}, \"title\": {\"font\": {\"color\": \"#4D5663\"}, \"text\": \"\"}, \"zerolinecolor\": \"#E1E5ED\"}, \"yaxis\": {\"gridcolor\": \"#E1E5ED\", \"showgrid\": true, \"tickfont\": {\"color\": \"#4D5663\"}, \"title\": {\"font\": {\"color\": \"#4D5663\"}, \"text\": \"\"}, \"zerolinecolor\": \"#E1E5ED\"}},\n",
       "                        {\"showLink\": true, \"linkText\": \"Export to plot.ly\", \"plotlyServerURL\": \"https://plot.ly\", \"responsive\": true}\n",
       "                    ).then(function(){\n",
       "                            \n",
       "var gd = document.getElementById('2ea5c5f5-67b6-4140-a6a5-ce31a112b797');\n",
       "var x = new MutationObserver(function (mutations, observer) {{\n",
       "        var display = window.getComputedStyle(gd).display;\n",
       "        if (!display || display === 'none') {{\n",
       "            console.log([gd, 'removed!']);\n",
       "            Plotly.purge(gd);\n",
       "            observer.disconnect();\n",
       "        }}\n",
       "}});\n",
       "\n",
       "// Listen for the removal of the full notebook cells\n",
       "var notebookContainer = gd.closest('#notebook-container');\n",
       "if (notebookContainer) {{\n",
       "    x.observe(notebookContainer, {childList: true});\n",
       "}}\n",
       "\n",
       "// Listen for the clearing of the current output cell\n",
       "var outputEl = gd.closest('.output');\n",
       "if (outputEl) {{\n",
       "    x.observe(outputEl, {childList: true});\n",
       "}}\n",
       "\n",
       "                        })\n",
       "                };\n",
       "                });\n",
       "            </script>\n",
       "        </div>"
      ]
     },
     "metadata": {},
     "output_type": "display_data"
    }
   ],
   "source": [
    "df['A'].iplot(kind='hist',bins=25)"
   ]
  },
  {
   "cell_type": "code",
   "execution_count": 23,
   "metadata": {},
   "outputs": [
    {
     "data": {
      "application/vnd.plotly.v1+json": {
       "config": {
        "linkText": "Export to plot.ly",
        "plotlyServerURL": "https://plot.ly",
        "showLink": true
       },
       "data": [
        {
         "histfunc": "count",
         "histnorm": "",
         "marker": {
          "color": "rgba(255, 153, 51, 1.0)",
          "line": {
           "color": "#4D5663",
           "width": 1.3
          }
         },
         "name": "A",
         "opacity": 0.8,
         "orientation": "v",
         "type": "histogram",
         "x": [
          0.7384849679917865,
          -0.4739703576787497,
          -1.2410850999181424,
          0.011239248866355677,
          -0.3023127905230943,
          0.2363230440172158,
          -0.28402355339350155,
          0.9399206409610732,
          0.7622389377177152,
          0.9498089256425105,
          -1.6162083558302955,
          0.9646435176708447,
          0.6614496914739366,
          -1.716143334033692,
          -2.5356915148878794,
          -0.9617606145051862,
          0.008293435242292549,
          1.4810906706268816,
          0.6930911578507049,
          0.7517083996567843,
          1.6773600899238656,
          0.20023565995701395,
          -0.4862336432496669,
          0.6424563113780488,
          1.0529264632088229,
          -0.5194348158769179,
          0.5193794476182205,
          -0.2177636551563566,
          0.5730394684480788,
          0.8894265882891824,
          0.16574773044920646,
          -0.36556200969439046,
          -0.6371054172325357,
          1.1301373234143273,
          -0.3552754866053425,
          -0.7883959295021864,
          0.5859129449503426,
          -1.3343892432421331,
          -0.21179498740280153,
          0.8445155577573598,
          -1.0158186524593766,
          1.046865972107086,
          1.35629825666338,
          1.2275847492949927,
          -1.8092078608463722,
          0.3104716386755969,
          1.9439385481339027,
          -0.046302866157695736,
          0.9939623927497057,
          -1.5237946534936748,
          -1.3326917554580766,
          2.4142179028316892,
          0.04185598515241913,
          -2.1987326086021013,
          0.23139778756142068,
          0.9666403300832923,
          -0.24296102909533798,
          -0.6476057938239268,
          -0.16151360123863254,
          0.4793347634889624,
          0.6347851945989572,
          0.8434974936512513,
          1.002062963811421,
          1.2616989085150399,
          -0.4796951126108852,
          -1.0526870741532763,
          -1.19889718235249,
          -0.8743996784021727,
          0.9033046003458987,
          -1.514389455518979,
          -0.9101640903693848,
          1.3029787614274848,
          -0.574457267580267,
          -1.1532287536452923,
          -1.9252554195383396,
          1.5403188122329121,
          -0.6187670029735031,
          1.7146672083316403,
          1.2440564828005858,
          -0.0009091919227137812,
          1.1007579242326673,
          0.6006154386851078,
          -1.1507471833784182,
          -0.7789990876013348,
          -0.28419337049955345,
          1.0236872992597577,
          0.7399035390241175,
          0.1545230603764189,
          -1.2790224177216212,
          0.8595009913364225,
          0.2626145547074289,
          0.553328600134025,
          0.2672852048766201,
          -0.8914354807363999,
          0.5002622086866662,
          0.3346114667624826,
          -0.8529924982020634,
          1.339333316246086,
          0.5939467712682505,
          -1.3180613570001438
         ]
        },
        {
         "histfunc": "count",
         "histnorm": "",
         "marker": {
          "color": "rgba(55, 128, 191, 1.0)",
          "line": {
           "color": "#4D5663",
           "width": 1.3
          }
         },
         "name": "B",
         "opacity": 0.8,
         "orientation": "v",
         "type": "histogram",
         "x": [
          -0.22246154249852684,
          -0.011662737015524104,
          0.7002550390215904,
          -0.2088604533672652,
          0.2787572766419977,
          0.34604688919031246,
          0.3289741381728799,
          -1.4546634160557221,
          0.6591005023770535,
          1.6307541996396775,
          0.3537425977973349,
          0.35489662287960494,
          -1.2552285412285955,
          0.7766227724788735,
          0.7313851441745576,
          0.17409712272179598,
          -0.558850148283852,
          -0.18278009610374715,
          -0.4385690580727113,
          -1.1979389827605196,
          0.21153250433833218,
          0.7543561045168725,
          0.10568114726276448,
          1.4740937158560674,
          0.9652011233966097,
          -0.23486161961194427,
          -1.389623772561859,
          0.30668566443217743,
          1.1120348830089202,
          0.46831830167324723,
          -0.5991384580070195,
          -0.7034819235937314,
          -0.005756903041385128,
          -1.1456182321306265,
          0.031447866394256334,
          1.4440326575276348,
          -0.1595369128971009,
          -0.46006264151509857,
          -1.2419810080488065,
          0.4424990438592372,
          -0.45458918117909897,
          0.07040854588577262,
          0.535026123128374,
          -2.7627953832152032,
          -0.3566709243240767,
          -0.2779553288515251,
          -0.5499009597665894,
          -0.1278460935717795,
          1.2186892425013678,
          -0.1565647499422839,
          -1.1879500510181082,
          -0.4304626168115283,
          0.4839416813547892,
          0.1542255059732776,
          -1.5231298483752214,
          1.5886158111510897,
          1.1141356720888698,
          -0.7321655368474803,
          -1.8814304721270192,
          1.4635612494042156,
          -1.9827593304106776,
          0.36790536391933965,
          -1.0843989162324759,
          -0.13268326375570524,
          -1.6066444790362937,
          -0.19722633200110679,
          0.0003473747000489338,
          0.7826322058019856,
          0.0046955420792266205,
          1.7155986699348522,
          -0.7952410822232646,
          0.4882204326033132,
          1.6053990972634442,
          -0.08503043769723694,
          0.6981169497045339,
          0.4718828971526396,
          -1.2029461823427046,
          0.052845734585076666,
          0.9822259990893973,
          -0.8590769849077312,
          -0.04120464990107362,
          -1.7569650582262712,
          1.1397519733719323,
          -0.6312149218917715,
          -0.046107887891385216,
          0.24742340686524372,
          1.5567864402222436,
          -0.37985498147004226,
          -0.9037102602281021,
          0.49753117291240284,
          0.5670835787226005,
          -0.38057329716763133,
          1.3577291622340146,
          0.7109426758026244,
          0.26514239168730397,
          -1.2476736047793413,
          -0.44164479753864827,
          -0.033615157654650896,
          0.5647092086237513,
          -0.511942159121852
         ]
        },
        {
         "histfunc": "count",
         "histnorm": "",
         "marker": {
          "color": "rgba(50, 171, 96, 1.0)",
          "line": {
           "color": "#4D5663",
           "width": 1.3
          }
         },
         "name": "C",
         "opacity": 0.8,
         "orientation": "v",
         "type": "histogram",
         "x": [
          0.3327097562536328,
          -1.4989734130569317,
          1.5183796176928412,
          -1.602061657580099,
          -0.1223028920412938,
          1.386107101382463,
          -0.3415490358671324,
          -0.601432993832816,
          -0.7250537936410264,
          -0.25995473648644335,
          -1.2422490910298027,
          1.1742302850063706,
          0.18699966489887976,
          1.2662228253927414,
          -1.251580842922223,
          -0.7282265939616873,
          1.5879017425376987,
          0.6091752542674607,
          0.532904734654383,
          0.9974016167066104,
          -0.22956798544070212,
          1.183297268164457,
          -1.3935594197207464,
          0.4542969291289916,
          -0.9726084682689599,
          2.16182929854646,
          0.23301146780323445,
          -0.1960668029901525,
          -0.8074931010293909,
          -0.011076559186416392,
          0.6526452912513951,
          -0.011420869869149506,
          0.40729498041940865,
          -1.4608135825814752,
          -1.0743052935041677,
          -1.067976015767999,
          -1.939351767318399,
          0.393969215925592,
          0.4943040456489618,
          1.941061809173201,
          -0.3545833883013441,
          -1.3630645831972743,
          -0.7808083882051318,
          0.14828932191953875,
          1.1809111049948051,
          0.4120562337432101,
          0.15330385255565906,
          0.7818987007205416,
          -0.33260463389752076,
          -1.063339758890112,
          -0.2157947274815626,
          1.1668965390573576,
          -1.0062129725618667,
          0.8563185855337104,
          0.1134259884042055,
          0.16124262504863326,
          0.8723792648240553,
          -1.5779154984640098,
          -1.7194283418339689,
          -0.7438004534439292,
          -0.3193951573849327,
          0.6608682615796827,
          0.09013167999011383,
          -2.692713245513669,
          1.444401329767143,
          0.20119976229306244,
          0.032921153652011204,
          -0.9119279263574213,
          0.2590428295494773,
          -0.9967937373445537,
          -0.7374266907019629,
          0.9000772812275898,
          0.8388976395866024,
          0.3927020144340531,
          0.34208830190986056,
          -1.1218914946391794,
          -0.054772158324748514,
          0.6859401772791511,
          0.24968117808815007,
          0.48624800196760376,
          0.8227827699143407,
          -0.5065635151644389,
          -0.35418313928200706,
          0.8249811569719638,
          -1.0825434719372715,
          0.28888600126108677,
          1.0131678182935049,
          -2.3299803613355308,
          0.3107692820192783,
          -0.36606223453421693,
          -0.7307619449006915,
          -1.8881767667272429,
          -1.44561951925092,
          -0.1926918554444059,
          -0.10295541446747797,
          -0.5426933739808347,
          -0.9278063200643781,
          -0.31714133131824696,
          -0.5357162118674762,
          -1.193869715470299
         ]
        },
        {
         "histfunc": "count",
         "histnorm": "",
         "marker": {
          "color": "rgba(128, 0, 128, 1.0)",
          "line": {
           "color": "#4D5663",
           "width": 1.3
          }
         },
         "name": "D",
         "opacity": 0.8,
         "orientation": "v",
         "type": "histogram",
         "x": [
          1.006990415230797,
          -1.964224009771347,
          1.3656734904303878,
          -0.7193889981597499,
          -0.8171992346531632,
          0.5021579854133826,
          0.35360746817993566,
          0.5038180043335287,
          -0.2253065854925412,
          -1.4462053896103182,
          0.3861215592594124,
          0.17553505879195624,
          -0.773045807558028,
          0.13715218564236864,
          1.5918514617857802,
          -0.4541260388835454,
          -0.18374369785544023,
          -0.8468969582370742,
          0.5283326291655621,
          -0.3174351528315366,
          -1.0113652796135721,
          0.9554437511695475,
          0.5317592920635177,
          -1.1986891128069317,
          1.180012584596935,
          -1.367233734745869,
          1.4216979437389021,
          -0.9536445111054623,
          1.2214783934231426,
          -1.1852333113110671,
          0.49595433276191425,
          -0.45700591898119247,
          -1.1634992086301335,
          -0.13614299129424992,
          0.02864078911815982,
          -1.4482685079878088,
          -1.340073852456306,
          -0.8775196074063242,
          -0.5642131429299626,
          -0.15774696869111168,
          1.6033684846714356,
          -1.352154240820155,
          -1.948424273992968,
          -0.10923332834192306,
          -0.3466984292093084,
          1.0532876042637498,
          1.3965753639823184,
          -0.7739337356756031,
          -0.5389000139848649,
          -1.7735102893998769,
          0.7389552763546952,
          1.1560874109408732,
          -1.5135193096899042,
          -1.5296404603654188,
          -0.01811472250897168,
          -0.23981216790408158,
          1.05440571047474,
          -0.7269334496791185,
          -0.8487333258876862,
          -2.1362246634378965,
          0.7639994045130143,
          1.041339972611782,
          -0.6445210539291163,
          0.941398881539454,
          1.172472601402738,
          1.157144971904907,
          -0.0016700911030675986,
          -0.21367099215600008,
          0.544287382614512,
          -1.013023022204178,
          0.6653553768385813,
          -1.081995803987892,
          -0.40908139281268663,
          0.4469096983868547,
          -1.3070142630453834,
          -1.1335484106420068,
          -2.3398158121759938,
          1.4313050099281213,
          -2.231818743879048,
          -0.4804009515284093,
          -1.0390003724195962,
          -2.4086907714026657,
          1.5512854832772243,
          -1.3352871785495308,
          0.21023107076646222,
          -0.9080772668139966,
          1.0746116244508543,
          1.352082889036443,
          -0.1547880916645823,
          -1.1852507629309106,
          -1.3196289178696639,
          1.5416264834243936,
          0.22671561843620253,
          -2.183184432019304,
          -0.23289429388985733,
          0.3174235728119984,
          -1.6823920236896401,
          -0.9468513506631693,
          -1.6776217112530991,
          0.8099531353330475
         ]
        }
       ],
       "layout": {
        "barmode": "overlay",
        "legend": {
         "bgcolor": "#F5F6F9",
         "font": {
          "color": "#4D5663"
         }
        },
        "paper_bgcolor": "#F5F6F9",
        "plot_bgcolor": "#F5F6F9",
        "template": {
         "data": {
          "bar": [
           {
            "error_x": {
             "color": "#2a3f5f"
            },
            "error_y": {
             "color": "#2a3f5f"
            },
            "marker": {
             "line": {
              "color": "#E5ECF6",
              "width": 0.5
             }
            },
            "type": "bar"
           }
          ],
          "barpolar": [
           {
            "marker": {
             "line": {
              "color": "#E5ECF6",
              "width": 0.5
             }
            },
            "type": "barpolar"
           }
          ],
          "carpet": [
           {
            "aaxis": {
             "endlinecolor": "#2a3f5f",
             "gridcolor": "white",
             "linecolor": "white",
             "minorgridcolor": "white",
             "startlinecolor": "#2a3f5f"
            },
            "baxis": {
             "endlinecolor": "#2a3f5f",
             "gridcolor": "white",
             "linecolor": "white",
             "minorgridcolor": "white",
             "startlinecolor": "#2a3f5f"
            },
            "type": "carpet"
           }
          ],
          "choropleth": [
           {
            "colorbar": {
             "outlinewidth": 0,
             "ticks": ""
            },
            "type": "choropleth"
           }
          ],
          "contour": [
           {
            "colorbar": {
             "outlinewidth": 0,
             "ticks": ""
            },
            "colorscale": [
             [
              0,
              "#0d0887"
             ],
             [
              0.1111111111111111,
              "#46039f"
             ],
             [
              0.2222222222222222,
              "#7201a8"
             ],
             [
              0.3333333333333333,
              "#9c179e"
             ],
             [
              0.4444444444444444,
              "#bd3786"
             ],
             [
              0.5555555555555556,
              "#d8576b"
             ],
             [
              0.6666666666666666,
              "#ed7953"
             ],
             [
              0.7777777777777778,
              "#fb9f3a"
             ],
             [
              0.8888888888888888,
              "#fdca26"
             ],
             [
              1,
              "#f0f921"
             ]
            ],
            "type": "contour"
           }
          ],
          "contourcarpet": [
           {
            "colorbar": {
             "outlinewidth": 0,
             "ticks": ""
            },
            "type": "contourcarpet"
           }
          ],
          "heatmap": [
           {
            "colorbar": {
             "outlinewidth": 0,
             "ticks": ""
            },
            "colorscale": [
             [
              0,
              "#0d0887"
             ],
             [
              0.1111111111111111,
              "#46039f"
             ],
             [
              0.2222222222222222,
              "#7201a8"
             ],
             [
              0.3333333333333333,
              "#9c179e"
             ],
             [
              0.4444444444444444,
              "#bd3786"
             ],
             [
              0.5555555555555556,
              "#d8576b"
             ],
             [
              0.6666666666666666,
              "#ed7953"
             ],
             [
              0.7777777777777778,
              "#fb9f3a"
             ],
             [
              0.8888888888888888,
              "#fdca26"
             ],
             [
              1,
              "#f0f921"
             ]
            ],
            "type": "heatmap"
           }
          ],
          "heatmapgl": [
           {
            "colorbar": {
             "outlinewidth": 0,
             "ticks": ""
            },
            "colorscale": [
             [
              0,
              "#0d0887"
             ],
             [
              0.1111111111111111,
              "#46039f"
             ],
             [
              0.2222222222222222,
              "#7201a8"
             ],
             [
              0.3333333333333333,
              "#9c179e"
             ],
             [
              0.4444444444444444,
              "#bd3786"
             ],
             [
              0.5555555555555556,
              "#d8576b"
             ],
             [
              0.6666666666666666,
              "#ed7953"
             ],
             [
              0.7777777777777778,
              "#fb9f3a"
             ],
             [
              0.8888888888888888,
              "#fdca26"
             ],
             [
              1,
              "#f0f921"
             ]
            ],
            "type": "heatmapgl"
           }
          ],
          "histogram": [
           {
            "marker": {
             "colorbar": {
              "outlinewidth": 0,
              "ticks": ""
             }
            },
            "type": "histogram"
           }
          ],
          "histogram2d": [
           {
            "colorbar": {
             "outlinewidth": 0,
             "ticks": ""
            },
            "colorscale": [
             [
              0,
              "#0d0887"
             ],
             [
              0.1111111111111111,
              "#46039f"
             ],
             [
              0.2222222222222222,
              "#7201a8"
             ],
             [
              0.3333333333333333,
              "#9c179e"
             ],
             [
              0.4444444444444444,
              "#bd3786"
             ],
             [
              0.5555555555555556,
              "#d8576b"
             ],
             [
              0.6666666666666666,
              "#ed7953"
             ],
             [
              0.7777777777777778,
              "#fb9f3a"
             ],
             [
              0.8888888888888888,
              "#fdca26"
             ],
             [
              1,
              "#f0f921"
             ]
            ],
            "type": "histogram2d"
           }
          ],
          "histogram2dcontour": [
           {
            "colorbar": {
             "outlinewidth": 0,
             "ticks": ""
            },
            "colorscale": [
             [
              0,
              "#0d0887"
             ],
             [
              0.1111111111111111,
              "#46039f"
             ],
             [
              0.2222222222222222,
              "#7201a8"
             ],
             [
              0.3333333333333333,
              "#9c179e"
             ],
             [
              0.4444444444444444,
              "#bd3786"
             ],
             [
              0.5555555555555556,
              "#d8576b"
             ],
             [
              0.6666666666666666,
              "#ed7953"
             ],
             [
              0.7777777777777778,
              "#fb9f3a"
             ],
             [
              0.8888888888888888,
              "#fdca26"
             ],
             [
              1,
              "#f0f921"
             ]
            ],
            "type": "histogram2dcontour"
           }
          ],
          "mesh3d": [
           {
            "colorbar": {
             "outlinewidth": 0,
             "ticks": ""
            },
            "type": "mesh3d"
           }
          ],
          "parcoords": [
           {
            "line": {
             "colorbar": {
              "outlinewidth": 0,
              "ticks": ""
             }
            },
            "type": "parcoords"
           }
          ],
          "pie": [
           {
            "automargin": true,
            "type": "pie"
           }
          ],
          "scatter": [
           {
            "marker": {
             "colorbar": {
              "outlinewidth": 0,
              "ticks": ""
             }
            },
            "type": "scatter"
           }
          ],
          "scatter3d": [
           {
            "line": {
             "colorbar": {
              "outlinewidth": 0,
              "ticks": ""
             }
            },
            "marker": {
             "colorbar": {
              "outlinewidth": 0,
              "ticks": ""
             }
            },
            "type": "scatter3d"
           }
          ],
          "scattercarpet": [
           {
            "marker": {
             "colorbar": {
              "outlinewidth": 0,
              "ticks": ""
             }
            },
            "type": "scattercarpet"
           }
          ],
          "scattergeo": [
           {
            "marker": {
             "colorbar": {
              "outlinewidth": 0,
              "ticks": ""
             }
            },
            "type": "scattergeo"
           }
          ],
          "scattergl": [
           {
            "marker": {
             "colorbar": {
              "outlinewidth": 0,
              "ticks": ""
             }
            },
            "type": "scattergl"
           }
          ],
          "scattermapbox": [
           {
            "marker": {
             "colorbar": {
              "outlinewidth": 0,
              "ticks": ""
             }
            },
            "type": "scattermapbox"
           }
          ],
          "scatterpolar": [
           {
            "marker": {
             "colorbar": {
              "outlinewidth": 0,
              "ticks": ""
             }
            },
            "type": "scatterpolar"
           }
          ],
          "scatterpolargl": [
           {
            "marker": {
             "colorbar": {
              "outlinewidth": 0,
              "ticks": ""
             }
            },
            "type": "scatterpolargl"
           }
          ],
          "scatterternary": [
           {
            "marker": {
             "colorbar": {
              "outlinewidth": 0,
              "ticks": ""
             }
            },
            "type": "scatterternary"
           }
          ],
          "surface": [
           {
            "colorbar": {
             "outlinewidth": 0,
             "ticks": ""
            },
            "colorscale": [
             [
              0,
              "#0d0887"
             ],
             [
              0.1111111111111111,
              "#46039f"
             ],
             [
              0.2222222222222222,
              "#7201a8"
             ],
             [
              0.3333333333333333,
              "#9c179e"
             ],
             [
              0.4444444444444444,
              "#bd3786"
             ],
             [
              0.5555555555555556,
              "#d8576b"
             ],
             [
              0.6666666666666666,
              "#ed7953"
             ],
             [
              0.7777777777777778,
              "#fb9f3a"
             ],
             [
              0.8888888888888888,
              "#fdca26"
             ],
             [
              1,
              "#f0f921"
             ]
            ],
            "type": "surface"
           }
          ],
          "table": [
           {
            "cells": {
             "fill": {
              "color": "#EBF0F8"
             },
             "line": {
              "color": "white"
             }
            },
            "header": {
             "fill": {
              "color": "#C8D4E3"
             },
             "line": {
              "color": "white"
             }
            },
            "type": "table"
           }
          ]
         },
         "layout": {
          "annotationdefaults": {
           "arrowcolor": "#2a3f5f",
           "arrowhead": 0,
           "arrowwidth": 1
          },
          "coloraxis": {
           "colorbar": {
            "outlinewidth": 0,
            "ticks": ""
           }
          },
          "colorscale": {
           "diverging": [
            [
             0,
             "#8e0152"
            ],
            [
             0.1,
             "#c51b7d"
            ],
            [
             0.2,
             "#de77ae"
            ],
            [
             0.3,
             "#f1b6da"
            ],
            [
             0.4,
             "#fde0ef"
            ],
            [
             0.5,
             "#f7f7f7"
            ],
            [
             0.6,
             "#e6f5d0"
            ],
            [
             0.7,
             "#b8e186"
            ],
            [
             0.8,
             "#7fbc41"
            ],
            [
             0.9,
             "#4d9221"
            ],
            [
             1,
             "#276419"
            ]
           ],
           "sequential": [
            [
             0,
             "#0d0887"
            ],
            [
             0.1111111111111111,
             "#46039f"
            ],
            [
             0.2222222222222222,
             "#7201a8"
            ],
            [
             0.3333333333333333,
             "#9c179e"
            ],
            [
             0.4444444444444444,
             "#bd3786"
            ],
            [
             0.5555555555555556,
             "#d8576b"
            ],
            [
             0.6666666666666666,
             "#ed7953"
            ],
            [
             0.7777777777777778,
             "#fb9f3a"
            ],
            [
             0.8888888888888888,
             "#fdca26"
            ],
            [
             1,
             "#f0f921"
            ]
           ],
           "sequentialminus": [
            [
             0,
             "#0d0887"
            ],
            [
             0.1111111111111111,
             "#46039f"
            ],
            [
             0.2222222222222222,
             "#7201a8"
            ],
            [
             0.3333333333333333,
             "#9c179e"
            ],
            [
             0.4444444444444444,
             "#bd3786"
            ],
            [
             0.5555555555555556,
             "#d8576b"
            ],
            [
             0.6666666666666666,
             "#ed7953"
            ],
            [
             0.7777777777777778,
             "#fb9f3a"
            ],
            [
             0.8888888888888888,
             "#fdca26"
            ],
            [
             1,
             "#f0f921"
            ]
           ]
          },
          "colorway": [
           "#636efa",
           "#EF553B",
           "#00cc96",
           "#ab63fa",
           "#FFA15A",
           "#19d3f3",
           "#FF6692",
           "#B6E880",
           "#FF97FF",
           "#FECB52"
          ],
          "font": {
           "color": "#2a3f5f"
          },
          "geo": {
           "bgcolor": "white",
           "lakecolor": "white",
           "landcolor": "#E5ECF6",
           "showlakes": true,
           "showland": true,
           "subunitcolor": "white"
          },
          "hoverlabel": {
           "align": "left"
          },
          "hovermode": "closest",
          "mapbox": {
           "style": "light"
          },
          "paper_bgcolor": "white",
          "plot_bgcolor": "#E5ECF6",
          "polar": {
           "angularaxis": {
            "gridcolor": "white",
            "linecolor": "white",
            "ticks": ""
           },
           "bgcolor": "#E5ECF6",
           "radialaxis": {
            "gridcolor": "white",
            "linecolor": "white",
            "ticks": ""
           }
          },
          "scene": {
           "xaxis": {
            "backgroundcolor": "#E5ECF6",
            "gridcolor": "white",
            "gridwidth": 2,
            "linecolor": "white",
            "showbackground": true,
            "ticks": "",
            "zerolinecolor": "white"
           },
           "yaxis": {
            "backgroundcolor": "#E5ECF6",
            "gridcolor": "white",
            "gridwidth": 2,
            "linecolor": "white",
            "showbackground": true,
            "ticks": "",
            "zerolinecolor": "white"
           },
           "zaxis": {
            "backgroundcolor": "#E5ECF6",
            "gridcolor": "white",
            "gridwidth": 2,
            "linecolor": "white",
            "showbackground": true,
            "ticks": "",
            "zerolinecolor": "white"
           }
          },
          "shapedefaults": {
           "line": {
            "color": "#2a3f5f"
           }
          },
          "ternary": {
           "aaxis": {
            "gridcolor": "white",
            "linecolor": "white",
            "ticks": ""
           },
           "baxis": {
            "gridcolor": "white",
            "linecolor": "white",
            "ticks": ""
           },
           "bgcolor": "#E5ECF6",
           "caxis": {
            "gridcolor": "white",
            "linecolor": "white",
            "ticks": ""
           }
          },
          "title": {
           "x": 0.05
          },
          "xaxis": {
           "automargin": true,
           "gridcolor": "white",
           "linecolor": "white",
           "ticks": "",
           "title": {
            "standoff": 15
           },
           "zerolinecolor": "white",
           "zerolinewidth": 2
          },
          "yaxis": {
           "automargin": true,
           "gridcolor": "white",
           "linecolor": "white",
           "ticks": "",
           "title": {
            "standoff": 15
           },
           "zerolinecolor": "white",
           "zerolinewidth": 2
          }
         }
        },
        "title": {
         "font": {
          "color": "#4D5663"
         }
        },
        "xaxis": {
         "gridcolor": "#E1E5ED",
         "showgrid": true,
         "tickfont": {
          "color": "#4D5663"
         },
         "title": {
          "font": {
           "color": "#4D5663"
          },
          "text": ""
         },
         "zerolinecolor": "#E1E5ED"
        },
        "yaxis": {
         "gridcolor": "#E1E5ED",
         "showgrid": true,
         "tickfont": {
          "color": "#4D5663"
         },
         "title": {
          "font": {
           "color": "#4D5663"
          },
          "text": ""
         },
         "zerolinecolor": "#E1E5ED"
        }
       }
      },
      "text/html": [
       "<div>\n",
       "        \n",
       "        \n",
       "            <div id=\"777e0595-1e19-4731-98d9-092f636519fa\" class=\"plotly-graph-div\" style=\"height:525px; width:100%;\"></div>\n",
       "            <script type=\"text/javascript\">\n",
       "                require([\"plotly\"], function(Plotly) {\n",
       "                    window.PLOTLYENV=window.PLOTLYENV || {};\n",
       "                    window.PLOTLYENV.BASE_URL='https://plot.ly';\n",
       "                    \n",
       "                if (document.getElementById(\"777e0595-1e19-4731-98d9-092f636519fa\")) {\n",
       "                    Plotly.newPlot(\n",
       "                        '777e0595-1e19-4731-98d9-092f636519fa',\n",
       "                        [{\"histfunc\": \"count\", \"histnorm\": \"\", \"marker\": {\"color\": \"rgba(255, 153, 51, 1.0)\", \"line\": {\"color\": \"#4D5663\", \"width\": 1.3}}, \"name\": \"A\", \"opacity\": 0.8, \"orientation\": \"v\", \"type\": \"histogram\", \"x\": [0.7384849679917865, -0.4739703576787497, -1.2410850999181424, 0.011239248866355677, -0.3023127905230943, 0.2363230440172158, -0.28402355339350155, 0.9399206409610732, 0.7622389377177152, 0.9498089256425105, -1.6162083558302955, 0.9646435176708447, 0.6614496914739366, -1.716143334033692, -2.5356915148878794, -0.9617606145051862, 0.008293435242292549, 1.4810906706268816, 0.6930911578507049, 0.7517083996567843, 1.6773600899238656, 0.20023565995701395, -0.4862336432496669, 0.6424563113780488, 1.0529264632088229, -0.5194348158769179, 0.5193794476182205, -0.2177636551563566, 0.5730394684480788, 0.8894265882891824, 0.16574773044920646, -0.36556200969439046, -0.6371054172325357, 1.1301373234143273, -0.3552754866053425, -0.7883959295021864, 0.5859129449503426, -1.3343892432421331, -0.21179498740280153, 0.8445155577573598, -1.0158186524593766, 1.046865972107086, 1.35629825666338, 1.2275847492949927, -1.8092078608463722, 0.3104716386755969, 1.9439385481339027, -0.046302866157695736, 0.9939623927497057, -1.5237946534936748, -1.3326917554580766, 2.4142179028316892, 0.04185598515241913, -2.1987326086021013, 0.23139778756142068, 0.9666403300832923, -0.24296102909533798, -0.6476057938239268, -0.16151360123863254, 0.4793347634889624, 0.6347851945989572, 0.8434974936512513, 1.002062963811421, 1.2616989085150399, -0.4796951126108852, -1.0526870741532763, -1.19889718235249, -0.8743996784021727, 0.9033046003458987, -1.514389455518979, -0.9101640903693848, 1.3029787614274848, -0.574457267580267, -1.1532287536452923, -1.9252554195383396, 1.5403188122329121, -0.6187670029735031, 1.7146672083316403, 1.2440564828005858, -0.0009091919227137812, 1.1007579242326673, 0.6006154386851078, -1.1507471833784182, -0.7789990876013348, -0.28419337049955345, 1.0236872992597577, 0.7399035390241175, 0.1545230603764189, -1.2790224177216212, 0.8595009913364225, 0.2626145547074289, 0.553328600134025, 0.2672852048766201, -0.8914354807363999, 0.5002622086866662, 0.3346114667624826, -0.8529924982020634, 1.339333316246086, 0.5939467712682505, -1.3180613570001438]}, {\"histfunc\": \"count\", \"histnorm\": \"\", \"marker\": {\"color\": \"rgba(55, 128, 191, 1.0)\", \"line\": {\"color\": \"#4D5663\", \"width\": 1.3}}, \"name\": \"B\", \"opacity\": 0.8, \"orientation\": \"v\", \"type\": \"histogram\", \"x\": [-0.22246154249852684, -0.011662737015524104, 0.7002550390215904, -0.2088604533672652, 0.2787572766419977, 0.34604688919031246, 0.3289741381728799, -1.4546634160557221, 0.6591005023770535, 1.6307541996396775, 0.3537425977973349, 0.35489662287960494, -1.2552285412285955, 0.7766227724788735, 0.7313851441745576, 0.17409712272179598, -0.558850148283852, -0.18278009610374715, -0.4385690580727113, -1.1979389827605196, 0.21153250433833218, 0.7543561045168725, 0.10568114726276448, 1.4740937158560674, 0.9652011233966097, -0.23486161961194427, -1.389623772561859, 0.30668566443217743, 1.1120348830089202, 0.46831830167324723, -0.5991384580070195, -0.7034819235937314, -0.005756903041385128, -1.1456182321306265, 0.031447866394256334, 1.4440326575276348, -0.1595369128971009, -0.46006264151509857, -1.2419810080488065, 0.4424990438592372, -0.45458918117909897, 0.07040854588577262, 0.535026123128374, -2.7627953832152032, -0.3566709243240767, -0.2779553288515251, -0.5499009597665894, -0.1278460935717795, 1.2186892425013678, -0.1565647499422839, -1.1879500510181082, -0.4304626168115283, 0.4839416813547892, 0.1542255059732776, -1.5231298483752214, 1.5886158111510897, 1.1141356720888698, -0.7321655368474803, -1.8814304721270192, 1.4635612494042156, -1.9827593304106776, 0.36790536391933965, -1.0843989162324759, -0.13268326375570524, -1.6066444790362937, -0.19722633200110679, 0.0003473747000489338, 0.7826322058019856, 0.0046955420792266205, 1.7155986699348522, -0.7952410822232646, 0.4882204326033132, 1.6053990972634442, -0.08503043769723694, 0.6981169497045339, 0.4718828971526396, -1.2029461823427046, 0.052845734585076666, 0.9822259990893973, -0.8590769849077312, -0.04120464990107362, -1.7569650582262712, 1.1397519733719323, -0.6312149218917715, -0.046107887891385216, 0.24742340686524372, 1.5567864402222436, -0.37985498147004226, -0.9037102602281021, 0.49753117291240284, 0.5670835787226005, -0.38057329716763133, 1.3577291622340146, 0.7109426758026244, 0.26514239168730397, -1.2476736047793413, -0.44164479753864827, -0.033615157654650896, 0.5647092086237513, -0.511942159121852]}, {\"histfunc\": \"count\", \"histnorm\": \"\", \"marker\": {\"color\": \"rgba(50, 171, 96, 1.0)\", \"line\": {\"color\": \"#4D5663\", \"width\": 1.3}}, \"name\": \"C\", \"opacity\": 0.8, \"orientation\": \"v\", \"type\": \"histogram\", \"x\": [0.3327097562536328, -1.4989734130569317, 1.5183796176928412, -1.602061657580099, -0.1223028920412938, 1.386107101382463, -0.3415490358671324, -0.601432993832816, -0.7250537936410264, -0.25995473648644335, -1.2422490910298027, 1.1742302850063706, 0.18699966489887976, 1.2662228253927414, -1.251580842922223, -0.7282265939616873, 1.5879017425376987, 0.6091752542674607, 0.532904734654383, 0.9974016167066104, -0.22956798544070212, 1.183297268164457, -1.3935594197207464, 0.4542969291289916, -0.9726084682689599, 2.16182929854646, 0.23301146780323445, -0.1960668029901525, -0.8074931010293909, -0.011076559186416392, 0.6526452912513951, -0.011420869869149506, 0.40729498041940865, -1.4608135825814752, -1.0743052935041677, -1.067976015767999, -1.939351767318399, 0.393969215925592, 0.4943040456489618, 1.941061809173201, -0.3545833883013441, -1.3630645831972743, -0.7808083882051318, 0.14828932191953875, 1.1809111049948051, 0.4120562337432101, 0.15330385255565906, 0.7818987007205416, -0.33260463389752076, -1.063339758890112, -0.2157947274815626, 1.1668965390573576, -1.0062129725618667, 0.8563185855337104, 0.1134259884042055, 0.16124262504863326, 0.8723792648240553, -1.5779154984640098, -1.7194283418339689, -0.7438004534439292, -0.3193951573849327, 0.6608682615796827, 0.09013167999011383, -2.692713245513669, 1.444401329767143, 0.20119976229306244, 0.032921153652011204, -0.9119279263574213, 0.2590428295494773, -0.9967937373445537, -0.7374266907019629, 0.9000772812275898, 0.8388976395866024, 0.3927020144340531, 0.34208830190986056, -1.1218914946391794, -0.054772158324748514, 0.6859401772791511, 0.24968117808815007, 0.48624800196760376, 0.8227827699143407, -0.5065635151644389, -0.35418313928200706, 0.8249811569719638, -1.0825434719372715, 0.28888600126108677, 1.0131678182935049, -2.3299803613355308, 0.3107692820192783, -0.36606223453421693, -0.7307619449006915, -1.8881767667272429, -1.44561951925092, -0.1926918554444059, -0.10295541446747797, -0.5426933739808347, -0.9278063200643781, -0.31714133131824696, -0.5357162118674762, -1.193869715470299]}, {\"histfunc\": \"count\", \"histnorm\": \"\", \"marker\": {\"color\": \"rgba(128, 0, 128, 1.0)\", \"line\": {\"color\": \"#4D5663\", \"width\": 1.3}}, \"name\": \"D\", \"opacity\": 0.8, \"orientation\": \"v\", \"type\": \"histogram\", \"x\": [1.006990415230797, -1.964224009771347, 1.3656734904303878, -0.7193889981597499, -0.8171992346531632, 0.5021579854133826, 0.35360746817993566, 0.5038180043335287, -0.2253065854925412, -1.4462053896103182, 0.3861215592594124, 0.17553505879195624, -0.773045807558028, 0.13715218564236864, 1.5918514617857802, -0.4541260388835454, -0.18374369785544023, -0.8468969582370742, 0.5283326291655621, -0.3174351528315366, -1.0113652796135721, 0.9554437511695475, 0.5317592920635177, -1.1986891128069317, 1.180012584596935, -1.367233734745869, 1.4216979437389021, -0.9536445111054623, 1.2214783934231426, -1.1852333113110671, 0.49595433276191425, -0.45700591898119247, -1.1634992086301335, -0.13614299129424992, 0.02864078911815982, -1.4482685079878088, -1.340073852456306, -0.8775196074063242, -0.5642131429299626, -0.15774696869111168, 1.6033684846714356, -1.352154240820155, -1.948424273992968, -0.10923332834192306, -0.3466984292093084, 1.0532876042637498, 1.3965753639823184, -0.7739337356756031, -0.5389000139848649, -1.7735102893998769, 0.7389552763546952, 1.1560874109408732, -1.5135193096899042, -1.5296404603654188, -0.01811472250897168, -0.23981216790408158, 1.05440571047474, -0.7269334496791185, -0.8487333258876862, -2.1362246634378965, 0.7639994045130143, 1.041339972611782, -0.6445210539291163, 0.941398881539454, 1.172472601402738, 1.157144971904907, -0.0016700911030675986, -0.21367099215600008, 0.544287382614512, -1.013023022204178, 0.6653553768385813, -1.081995803987892, -0.40908139281268663, 0.4469096983868547, -1.3070142630453834, -1.1335484106420068, -2.3398158121759938, 1.4313050099281213, -2.231818743879048, -0.4804009515284093, -1.0390003724195962, -2.4086907714026657, 1.5512854832772243, -1.3352871785495308, 0.21023107076646222, -0.9080772668139966, 1.0746116244508543, 1.352082889036443, -0.1547880916645823, -1.1852507629309106, -1.3196289178696639, 1.5416264834243936, 0.22671561843620253, -2.183184432019304, -0.23289429388985733, 0.3174235728119984, -1.6823920236896401, -0.9468513506631693, -1.6776217112530991, 0.8099531353330475]}],\n",
       "                        {\"barmode\": \"overlay\", \"legend\": {\"bgcolor\": \"#F5F6F9\", \"font\": {\"color\": \"#4D5663\"}}, \"paper_bgcolor\": \"#F5F6F9\", \"plot_bgcolor\": \"#F5F6F9\", \"template\": {\"data\": {\"bar\": [{\"error_x\": {\"color\": \"#2a3f5f\"}, \"error_y\": {\"color\": \"#2a3f5f\"}, \"marker\": {\"line\": {\"color\": \"#E5ECF6\", \"width\": 0.5}}, \"type\": \"bar\"}], \"barpolar\": [{\"marker\": {\"line\": {\"color\": \"#E5ECF6\", \"width\": 0.5}}, \"type\": \"barpolar\"}], \"carpet\": [{\"aaxis\": {\"endlinecolor\": \"#2a3f5f\", \"gridcolor\": \"white\", \"linecolor\": \"white\", \"minorgridcolor\": \"white\", \"startlinecolor\": \"#2a3f5f\"}, \"baxis\": {\"endlinecolor\": \"#2a3f5f\", \"gridcolor\": \"white\", \"linecolor\": \"white\", \"minorgridcolor\": \"white\", \"startlinecolor\": \"#2a3f5f\"}, \"type\": \"carpet\"}], \"choropleth\": [{\"colorbar\": {\"outlinewidth\": 0, \"ticks\": \"\"}, \"type\": \"choropleth\"}], \"contour\": [{\"colorbar\": {\"outlinewidth\": 0, \"ticks\": \"\"}, \"colorscale\": [[0.0, \"#0d0887\"], [0.1111111111111111, \"#46039f\"], [0.2222222222222222, \"#7201a8\"], [0.3333333333333333, \"#9c179e\"], [0.4444444444444444, \"#bd3786\"], [0.5555555555555556, \"#d8576b\"], [0.6666666666666666, \"#ed7953\"], [0.7777777777777778, \"#fb9f3a\"], [0.8888888888888888, \"#fdca26\"], [1.0, \"#f0f921\"]], \"type\": \"contour\"}], \"contourcarpet\": [{\"colorbar\": {\"outlinewidth\": 0, \"ticks\": \"\"}, \"type\": \"contourcarpet\"}], \"heatmap\": [{\"colorbar\": {\"outlinewidth\": 0, \"ticks\": \"\"}, \"colorscale\": [[0.0, \"#0d0887\"], [0.1111111111111111, \"#46039f\"], [0.2222222222222222, \"#7201a8\"], [0.3333333333333333, \"#9c179e\"], [0.4444444444444444, \"#bd3786\"], [0.5555555555555556, \"#d8576b\"], [0.6666666666666666, \"#ed7953\"], [0.7777777777777778, \"#fb9f3a\"], [0.8888888888888888, \"#fdca26\"], [1.0, \"#f0f921\"]], \"type\": \"heatmap\"}], \"heatmapgl\": [{\"colorbar\": {\"outlinewidth\": 0, \"ticks\": \"\"}, \"colorscale\": [[0.0, \"#0d0887\"], [0.1111111111111111, \"#46039f\"], [0.2222222222222222, \"#7201a8\"], [0.3333333333333333, \"#9c179e\"], [0.4444444444444444, \"#bd3786\"], [0.5555555555555556, \"#d8576b\"], [0.6666666666666666, \"#ed7953\"], [0.7777777777777778, \"#fb9f3a\"], [0.8888888888888888, \"#fdca26\"], [1.0, \"#f0f921\"]], \"type\": \"heatmapgl\"}], \"histogram\": [{\"marker\": {\"colorbar\": {\"outlinewidth\": 0, \"ticks\": \"\"}}, \"type\": \"histogram\"}], \"histogram2d\": [{\"colorbar\": {\"outlinewidth\": 0, \"ticks\": \"\"}, \"colorscale\": [[0.0, \"#0d0887\"], [0.1111111111111111, \"#46039f\"], [0.2222222222222222, \"#7201a8\"], [0.3333333333333333, \"#9c179e\"], [0.4444444444444444, \"#bd3786\"], [0.5555555555555556, \"#d8576b\"], [0.6666666666666666, \"#ed7953\"], [0.7777777777777778, \"#fb9f3a\"], [0.8888888888888888, \"#fdca26\"], [1.0, \"#f0f921\"]], \"type\": \"histogram2d\"}], \"histogram2dcontour\": [{\"colorbar\": {\"outlinewidth\": 0, \"ticks\": \"\"}, \"colorscale\": [[0.0, \"#0d0887\"], [0.1111111111111111, \"#46039f\"], [0.2222222222222222, \"#7201a8\"], [0.3333333333333333, \"#9c179e\"], [0.4444444444444444, \"#bd3786\"], [0.5555555555555556, \"#d8576b\"], [0.6666666666666666, \"#ed7953\"], [0.7777777777777778, \"#fb9f3a\"], [0.8888888888888888, \"#fdca26\"], [1.0, \"#f0f921\"]], \"type\": \"histogram2dcontour\"}], \"mesh3d\": [{\"colorbar\": {\"outlinewidth\": 0, \"ticks\": \"\"}, \"type\": \"mesh3d\"}], \"parcoords\": [{\"line\": {\"colorbar\": {\"outlinewidth\": 0, \"ticks\": \"\"}}, \"type\": \"parcoords\"}], \"pie\": [{\"automargin\": true, \"type\": \"pie\"}], \"scatter\": [{\"marker\": {\"colorbar\": {\"outlinewidth\": 0, \"ticks\": \"\"}}, \"type\": \"scatter\"}], \"scatter3d\": [{\"line\": {\"colorbar\": {\"outlinewidth\": 0, \"ticks\": \"\"}}, \"marker\": {\"colorbar\": {\"outlinewidth\": 0, \"ticks\": \"\"}}, \"type\": \"scatter3d\"}], \"scattercarpet\": [{\"marker\": {\"colorbar\": {\"outlinewidth\": 0, \"ticks\": \"\"}}, \"type\": \"scattercarpet\"}], \"scattergeo\": [{\"marker\": {\"colorbar\": {\"outlinewidth\": 0, \"ticks\": \"\"}}, \"type\": \"scattergeo\"}], \"scattergl\": [{\"marker\": {\"colorbar\": {\"outlinewidth\": 0, \"ticks\": \"\"}}, \"type\": \"scattergl\"}], \"scattermapbox\": [{\"marker\": {\"colorbar\": {\"outlinewidth\": 0, \"ticks\": \"\"}}, \"type\": \"scattermapbox\"}], \"scatterpolar\": [{\"marker\": {\"colorbar\": {\"outlinewidth\": 0, \"ticks\": \"\"}}, \"type\": \"scatterpolar\"}], \"scatterpolargl\": [{\"marker\": {\"colorbar\": {\"outlinewidth\": 0, \"ticks\": \"\"}}, \"type\": \"scatterpolargl\"}], \"scatterternary\": [{\"marker\": {\"colorbar\": {\"outlinewidth\": 0, \"ticks\": \"\"}}, \"type\": \"scatterternary\"}], \"surface\": [{\"colorbar\": {\"outlinewidth\": 0, \"ticks\": \"\"}, \"colorscale\": [[0.0, \"#0d0887\"], [0.1111111111111111, \"#46039f\"], [0.2222222222222222, \"#7201a8\"], [0.3333333333333333, \"#9c179e\"], [0.4444444444444444, \"#bd3786\"], [0.5555555555555556, \"#d8576b\"], [0.6666666666666666, \"#ed7953\"], [0.7777777777777778, \"#fb9f3a\"], [0.8888888888888888, \"#fdca26\"], [1.0, \"#f0f921\"]], \"type\": \"surface\"}], \"table\": [{\"cells\": {\"fill\": {\"color\": \"#EBF0F8\"}, \"line\": {\"color\": \"white\"}}, \"header\": {\"fill\": {\"color\": \"#C8D4E3\"}, \"line\": {\"color\": \"white\"}}, \"type\": \"table\"}]}, \"layout\": {\"annotationdefaults\": {\"arrowcolor\": \"#2a3f5f\", \"arrowhead\": 0, \"arrowwidth\": 1}, \"coloraxis\": {\"colorbar\": {\"outlinewidth\": 0, \"ticks\": \"\"}}, \"colorscale\": {\"diverging\": [[0, \"#8e0152\"], [0.1, \"#c51b7d\"], [0.2, \"#de77ae\"], [0.3, \"#f1b6da\"], [0.4, \"#fde0ef\"], [0.5, \"#f7f7f7\"], [0.6, \"#e6f5d0\"], [0.7, \"#b8e186\"], [0.8, \"#7fbc41\"], [0.9, \"#4d9221\"], [1, \"#276419\"]], \"sequential\": [[0.0, \"#0d0887\"], [0.1111111111111111, \"#46039f\"], [0.2222222222222222, \"#7201a8\"], [0.3333333333333333, \"#9c179e\"], [0.4444444444444444, \"#bd3786\"], [0.5555555555555556, \"#d8576b\"], [0.6666666666666666, \"#ed7953\"], [0.7777777777777778, \"#fb9f3a\"], [0.8888888888888888, \"#fdca26\"], [1.0, \"#f0f921\"]], \"sequentialminus\": [[0.0, \"#0d0887\"], [0.1111111111111111, \"#46039f\"], [0.2222222222222222, \"#7201a8\"], [0.3333333333333333, \"#9c179e\"], [0.4444444444444444, \"#bd3786\"], [0.5555555555555556, \"#d8576b\"], [0.6666666666666666, \"#ed7953\"], [0.7777777777777778, \"#fb9f3a\"], [0.8888888888888888, \"#fdca26\"], [1.0, \"#f0f921\"]]}, \"colorway\": [\"#636efa\", \"#EF553B\", \"#00cc96\", \"#ab63fa\", \"#FFA15A\", \"#19d3f3\", \"#FF6692\", \"#B6E880\", \"#FF97FF\", \"#FECB52\"], \"font\": {\"color\": \"#2a3f5f\"}, \"geo\": {\"bgcolor\": \"white\", \"lakecolor\": \"white\", \"landcolor\": \"#E5ECF6\", \"showlakes\": true, \"showland\": true, \"subunitcolor\": \"white\"}, \"hoverlabel\": {\"align\": \"left\"}, \"hovermode\": \"closest\", \"mapbox\": {\"style\": \"light\"}, \"paper_bgcolor\": \"white\", \"plot_bgcolor\": \"#E5ECF6\", \"polar\": {\"angularaxis\": {\"gridcolor\": \"white\", \"linecolor\": \"white\", \"ticks\": \"\"}, \"bgcolor\": \"#E5ECF6\", \"radialaxis\": {\"gridcolor\": \"white\", \"linecolor\": \"white\", \"ticks\": \"\"}}, \"scene\": {\"xaxis\": {\"backgroundcolor\": \"#E5ECF6\", \"gridcolor\": \"white\", \"gridwidth\": 2, \"linecolor\": \"white\", \"showbackground\": true, \"ticks\": \"\", \"zerolinecolor\": \"white\"}, \"yaxis\": {\"backgroundcolor\": \"#E5ECF6\", \"gridcolor\": \"white\", \"gridwidth\": 2, \"linecolor\": \"white\", \"showbackground\": true, \"ticks\": \"\", \"zerolinecolor\": \"white\"}, \"zaxis\": {\"backgroundcolor\": \"#E5ECF6\", \"gridcolor\": \"white\", \"gridwidth\": 2, \"linecolor\": \"white\", \"showbackground\": true, \"ticks\": \"\", \"zerolinecolor\": \"white\"}}, \"shapedefaults\": {\"line\": {\"color\": \"#2a3f5f\"}}, \"ternary\": {\"aaxis\": {\"gridcolor\": \"white\", \"linecolor\": \"white\", \"ticks\": \"\"}, \"baxis\": {\"gridcolor\": \"white\", \"linecolor\": \"white\", \"ticks\": \"\"}, \"bgcolor\": \"#E5ECF6\", \"caxis\": {\"gridcolor\": \"white\", \"linecolor\": \"white\", \"ticks\": \"\"}}, \"title\": {\"x\": 0.05}, \"xaxis\": {\"automargin\": true, \"gridcolor\": \"white\", \"linecolor\": \"white\", \"ticks\": \"\", \"title\": {\"standoff\": 15}, \"zerolinecolor\": \"white\", \"zerolinewidth\": 2}, \"yaxis\": {\"automargin\": true, \"gridcolor\": \"white\", \"linecolor\": \"white\", \"ticks\": \"\", \"title\": {\"standoff\": 15}, \"zerolinecolor\": \"white\", \"zerolinewidth\": 2}}}, \"title\": {\"font\": {\"color\": \"#4D5663\"}}, \"xaxis\": {\"gridcolor\": \"#E1E5ED\", \"showgrid\": true, \"tickfont\": {\"color\": \"#4D5663\"}, \"title\": {\"font\": {\"color\": \"#4D5663\"}, \"text\": \"\"}, \"zerolinecolor\": \"#E1E5ED\"}, \"yaxis\": {\"gridcolor\": \"#E1E5ED\", \"showgrid\": true, \"tickfont\": {\"color\": \"#4D5663\"}, \"title\": {\"font\": {\"color\": \"#4D5663\"}, \"text\": \"\"}, \"zerolinecolor\": \"#E1E5ED\"}},\n",
       "                        {\"showLink\": true, \"linkText\": \"Export to plot.ly\", \"plotlyServerURL\": \"https://plot.ly\", \"responsive\": true}\n",
       "                    ).then(function(){\n",
       "                            \n",
       "var gd = document.getElementById('777e0595-1e19-4731-98d9-092f636519fa');\n",
       "var x = new MutationObserver(function (mutations, observer) {{\n",
       "        var display = window.getComputedStyle(gd).display;\n",
       "        if (!display || display === 'none') {{\n",
       "            console.log([gd, 'removed!']);\n",
       "            Plotly.purge(gd);\n",
       "            observer.disconnect();\n",
       "        }}\n",
       "}});\n",
       "\n",
       "// Listen for the removal of the full notebook cells\n",
       "var notebookContainer = gd.closest('#notebook-container');\n",
       "if (notebookContainer) {{\n",
       "    x.observe(notebookContainer, {childList: true});\n",
       "}}\n",
       "\n",
       "// Listen for the clearing of the current output cell\n",
       "var outputEl = gd.closest('.output');\n",
       "if (outputEl) {{\n",
       "    x.observe(outputEl, {childList: true});\n",
       "}}\n",
       "\n",
       "                        })\n",
       "                };\n",
       "                });\n",
       "            </script>\n",
       "        </div>"
      ]
     },
     "metadata": {},
     "output_type": "display_data"
    }
   ],
   "source": [
    "df.iplot(kind='hist')"
   ]
  },
  {
   "cell_type": "code",
   "execution_count": 24,
   "metadata": {},
   "outputs": [
    {
     "data": {
      "application/vnd.plotly.v1+json": {
       "config": {
        "linkText": "Export to plot.ly",
        "plotlyServerURL": "https://plot.ly",
        "showLink": true
       },
       "data": [
        {
         "line": {
          "color": "rgba(255, 153, 51, 1.0)",
          "dash": "solid",
          "shape": "linear",
          "width": 1.3
         },
         "mode": "lines",
         "name": "A",
         "text": "",
         "type": "scatter",
         "x": [
          0,
          1,
          2,
          3,
          4,
          5,
          6,
          7,
          8,
          9,
          10,
          11,
          12,
          13,
          14,
          15,
          16,
          17,
          18,
          19,
          20,
          21,
          22,
          23,
          24,
          25,
          26,
          27,
          28,
          29,
          30,
          31,
          32,
          33,
          34,
          35,
          36,
          37,
          38,
          39,
          40,
          41,
          42,
          43,
          44,
          45,
          46,
          47,
          48,
          49,
          50,
          51,
          52,
          53,
          54,
          55,
          56,
          57,
          58,
          59,
          60,
          61,
          62,
          63,
          64,
          65,
          66,
          67,
          68,
          69,
          70,
          71,
          72,
          73,
          74,
          75,
          76,
          77,
          78,
          79,
          80,
          81,
          82,
          83,
          84,
          85,
          86,
          87,
          88,
          89,
          90,
          91,
          92,
          93,
          94,
          95,
          96,
          97,
          98,
          99
         ],
         "y": [
          0.7384849679917865,
          -0.4739703576787497,
          -1.2410850999181424,
          0.011239248866355677,
          -0.3023127905230943,
          0.2363230440172158,
          -0.28402355339350155,
          0.9399206409610732,
          0.7622389377177152,
          0.9498089256425105,
          -1.6162083558302955,
          0.9646435176708447,
          0.6614496914739366,
          -1.716143334033692,
          -2.5356915148878794,
          -0.9617606145051862,
          0.008293435242292549,
          1.4810906706268816,
          0.6930911578507049,
          0.7517083996567843,
          1.6773600899238656,
          0.20023565995701395,
          -0.4862336432496669,
          0.6424563113780488,
          1.0529264632088229,
          -0.5194348158769179,
          0.5193794476182205,
          -0.2177636551563566,
          0.5730394684480788,
          0.8894265882891824,
          0.16574773044920646,
          -0.36556200969439046,
          -0.6371054172325357,
          1.1301373234143273,
          -0.3552754866053425,
          -0.7883959295021864,
          0.5859129449503426,
          -1.3343892432421331,
          -0.21179498740280153,
          0.8445155577573598,
          -1.0158186524593766,
          1.046865972107086,
          1.35629825666338,
          1.2275847492949927,
          -1.8092078608463722,
          0.3104716386755969,
          1.9439385481339027,
          -0.046302866157695736,
          0.9939623927497057,
          -1.5237946534936748,
          -1.3326917554580766,
          2.4142179028316892,
          0.04185598515241913,
          -2.1987326086021013,
          0.23139778756142068,
          0.9666403300832923,
          -0.24296102909533798,
          -0.6476057938239268,
          -0.16151360123863254,
          0.4793347634889624,
          0.6347851945989572,
          0.8434974936512513,
          1.002062963811421,
          1.2616989085150399,
          -0.4796951126108852,
          -1.0526870741532763,
          -1.19889718235249,
          -0.8743996784021727,
          0.9033046003458987,
          -1.514389455518979,
          -0.9101640903693848,
          1.3029787614274848,
          -0.574457267580267,
          -1.1532287536452923,
          -1.9252554195383396,
          1.5403188122329121,
          -0.6187670029735031,
          1.7146672083316403,
          1.2440564828005858,
          -0.0009091919227137812,
          1.1007579242326673,
          0.6006154386851078,
          -1.1507471833784182,
          -0.7789990876013348,
          -0.28419337049955345,
          1.0236872992597577,
          0.7399035390241175,
          0.1545230603764189,
          -1.2790224177216212,
          0.8595009913364225,
          0.2626145547074289,
          0.553328600134025,
          0.2672852048766201,
          -0.8914354807363999,
          0.5002622086866662,
          0.3346114667624826,
          -0.8529924982020634,
          1.339333316246086,
          0.5939467712682505,
          -1.3180613570001438
         ]
        },
        {
         "line": {
          "color": "rgba(55, 128, 191, 1.0)",
          "dash": "solid",
          "shape": "linear",
          "width": 1.3
         },
         "mode": "lines",
         "name": "B",
         "text": "",
         "type": "scatter",
         "x": [
          0,
          1,
          2,
          3,
          4,
          5,
          6,
          7,
          8,
          9,
          10,
          11,
          12,
          13,
          14,
          15,
          16,
          17,
          18,
          19,
          20,
          21,
          22,
          23,
          24,
          25,
          26,
          27,
          28,
          29,
          30,
          31,
          32,
          33,
          34,
          35,
          36,
          37,
          38,
          39,
          40,
          41,
          42,
          43,
          44,
          45,
          46,
          47,
          48,
          49,
          50,
          51,
          52,
          53,
          54,
          55,
          56,
          57,
          58,
          59,
          60,
          61,
          62,
          63,
          64,
          65,
          66,
          67,
          68,
          69,
          70,
          71,
          72,
          73,
          74,
          75,
          76,
          77,
          78,
          79,
          80,
          81,
          82,
          83,
          84,
          85,
          86,
          87,
          88,
          89,
          90,
          91,
          92,
          93,
          94,
          95,
          96,
          97,
          98,
          99
         ],
         "y": [
          -0.22246154249852684,
          -0.011662737015524104,
          0.7002550390215904,
          -0.2088604533672652,
          0.2787572766419977,
          0.34604688919031246,
          0.3289741381728799,
          -1.4546634160557221,
          0.6591005023770535,
          1.6307541996396775,
          0.3537425977973349,
          0.35489662287960494,
          -1.2552285412285955,
          0.7766227724788735,
          0.7313851441745576,
          0.17409712272179598,
          -0.558850148283852,
          -0.18278009610374715,
          -0.4385690580727113,
          -1.1979389827605196,
          0.21153250433833218,
          0.7543561045168725,
          0.10568114726276448,
          1.4740937158560674,
          0.9652011233966097,
          -0.23486161961194427,
          -1.389623772561859,
          0.30668566443217743,
          1.1120348830089202,
          0.46831830167324723,
          -0.5991384580070195,
          -0.7034819235937314,
          -0.005756903041385128,
          -1.1456182321306265,
          0.031447866394256334,
          1.4440326575276348,
          -0.1595369128971009,
          -0.46006264151509857,
          -1.2419810080488065,
          0.4424990438592372,
          -0.45458918117909897,
          0.07040854588577262,
          0.535026123128374,
          -2.7627953832152032,
          -0.3566709243240767,
          -0.2779553288515251,
          -0.5499009597665894,
          -0.1278460935717795,
          1.2186892425013678,
          -0.1565647499422839,
          -1.1879500510181082,
          -0.4304626168115283,
          0.4839416813547892,
          0.1542255059732776,
          -1.5231298483752214,
          1.5886158111510897,
          1.1141356720888698,
          -0.7321655368474803,
          -1.8814304721270192,
          1.4635612494042156,
          -1.9827593304106776,
          0.36790536391933965,
          -1.0843989162324759,
          -0.13268326375570524,
          -1.6066444790362937,
          -0.19722633200110679,
          0.0003473747000489338,
          0.7826322058019856,
          0.0046955420792266205,
          1.7155986699348522,
          -0.7952410822232646,
          0.4882204326033132,
          1.6053990972634442,
          -0.08503043769723694,
          0.6981169497045339,
          0.4718828971526396,
          -1.2029461823427046,
          0.052845734585076666,
          0.9822259990893973,
          -0.8590769849077312,
          -0.04120464990107362,
          -1.7569650582262712,
          1.1397519733719323,
          -0.6312149218917715,
          -0.046107887891385216,
          0.24742340686524372,
          1.5567864402222436,
          -0.37985498147004226,
          -0.9037102602281021,
          0.49753117291240284,
          0.5670835787226005,
          -0.38057329716763133,
          1.3577291622340146,
          0.7109426758026244,
          0.26514239168730397,
          -1.2476736047793413,
          -0.44164479753864827,
          -0.033615157654650896,
          0.5647092086237513,
          -0.511942159121852
         ]
        },
        {
         "line": {
          "color": "rgba(50, 171, 96, 1.0)",
          "dash": "solid",
          "shape": "linear",
          "width": 1.3
         },
         "mode": "lines",
         "name": "C",
         "text": "",
         "type": "scatter",
         "x": [
          0,
          1,
          2,
          3,
          4,
          5,
          6,
          7,
          8,
          9,
          10,
          11,
          12,
          13,
          14,
          15,
          16,
          17,
          18,
          19,
          20,
          21,
          22,
          23,
          24,
          25,
          26,
          27,
          28,
          29,
          30,
          31,
          32,
          33,
          34,
          35,
          36,
          37,
          38,
          39,
          40,
          41,
          42,
          43,
          44,
          45,
          46,
          47,
          48,
          49,
          50,
          51,
          52,
          53,
          54,
          55,
          56,
          57,
          58,
          59,
          60,
          61,
          62,
          63,
          64,
          65,
          66,
          67,
          68,
          69,
          70,
          71,
          72,
          73,
          74,
          75,
          76,
          77,
          78,
          79,
          80,
          81,
          82,
          83,
          84,
          85,
          86,
          87,
          88,
          89,
          90,
          91,
          92,
          93,
          94,
          95,
          96,
          97,
          98,
          99
         ],
         "y": [
          0.3327097562536328,
          -1.4989734130569317,
          1.5183796176928412,
          -1.602061657580099,
          -0.1223028920412938,
          1.386107101382463,
          -0.3415490358671324,
          -0.601432993832816,
          -0.7250537936410264,
          -0.25995473648644335,
          -1.2422490910298027,
          1.1742302850063706,
          0.18699966489887976,
          1.2662228253927414,
          -1.251580842922223,
          -0.7282265939616873,
          1.5879017425376987,
          0.6091752542674607,
          0.532904734654383,
          0.9974016167066104,
          -0.22956798544070212,
          1.183297268164457,
          -1.3935594197207464,
          0.4542969291289916,
          -0.9726084682689599,
          2.16182929854646,
          0.23301146780323445,
          -0.1960668029901525,
          -0.8074931010293909,
          -0.011076559186416392,
          0.6526452912513951,
          -0.011420869869149506,
          0.40729498041940865,
          -1.4608135825814752,
          -1.0743052935041677,
          -1.067976015767999,
          -1.939351767318399,
          0.393969215925592,
          0.4943040456489618,
          1.941061809173201,
          -0.3545833883013441,
          -1.3630645831972743,
          -0.7808083882051318,
          0.14828932191953875,
          1.1809111049948051,
          0.4120562337432101,
          0.15330385255565906,
          0.7818987007205416,
          -0.33260463389752076,
          -1.063339758890112,
          -0.2157947274815626,
          1.1668965390573576,
          -1.0062129725618667,
          0.8563185855337104,
          0.1134259884042055,
          0.16124262504863326,
          0.8723792648240553,
          -1.5779154984640098,
          -1.7194283418339689,
          -0.7438004534439292,
          -0.3193951573849327,
          0.6608682615796827,
          0.09013167999011383,
          -2.692713245513669,
          1.444401329767143,
          0.20119976229306244,
          0.032921153652011204,
          -0.9119279263574213,
          0.2590428295494773,
          -0.9967937373445537,
          -0.7374266907019629,
          0.9000772812275898,
          0.8388976395866024,
          0.3927020144340531,
          0.34208830190986056,
          -1.1218914946391794,
          -0.054772158324748514,
          0.6859401772791511,
          0.24968117808815007,
          0.48624800196760376,
          0.8227827699143407,
          -0.5065635151644389,
          -0.35418313928200706,
          0.8249811569719638,
          -1.0825434719372715,
          0.28888600126108677,
          1.0131678182935049,
          -2.3299803613355308,
          0.3107692820192783,
          -0.36606223453421693,
          -0.7307619449006915,
          -1.8881767667272429,
          -1.44561951925092,
          -0.1926918554444059,
          -0.10295541446747797,
          -0.5426933739808347,
          -0.9278063200643781,
          -0.31714133131824696,
          -0.5357162118674762,
          -1.193869715470299
         ]
        },
        {
         "line": {
          "color": "rgba(128, 0, 128, 1.0)",
          "dash": "solid",
          "shape": "linear",
          "width": 1.3
         },
         "mode": "lines",
         "name": "D",
         "text": "",
         "type": "scatter",
         "x": [
          0,
          1,
          2,
          3,
          4,
          5,
          6,
          7,
          8,
          9,
          10,
          11,
          12,
          13,
          14,
          15,
          16,
          17,
          18,
          19,
          20,
          21,
          22,
          23,
          24,
          25,
          26,
          27,
          28,
          29,
          30,
          31,
          32,
          33,
          34,
          35,
          36,
          37,
          38,
          39,
          40,
          41,
          42,
          43,
          44,
          45,
          46,
          47,
          48,
          49,
          50,
          51,
          52,
          53,
          54,
          55,
          56,
          57,
          58,
          59,
          60,
          61,
          62,
          63,
          64,
          65,
          66,
          67,
          68,
          69,
          70,
          71,
          72,
          73,
          74,
          75,
          76,
          77,
          78,
          79,
          80,
          81,
          82,
          83,
          84,
          85,
          86,
          87,
          88,
          89,
          90,
          91,
          92,
          93,
          94,
          95,
          96,
          97,
          98,
          99
         ],
         "y": [
          1.006990415230797,
          -1.964224009771347,
          1.3656734904303878,
          -0.7193889981597499,
          -0.8171992346531632,
          0.5021579854133826,
          0.35360746817993566,
          0.5038180043335287,
          -0.2253065854925412,
          -1.4462053896103182,
          0.3861215592594124,
          0.17553505879195624,
          -0.773045807558028,
          0.13715218564236864,
          1.5918514617857802,
          -0.4541260388835454,
          -0.18374369785544023,
          -0.8468969582370742,
          0.5283326291655621,
          -0.3174351528315366,
          -1.0113652796135721,
          0.9554437511695475,
          0.5317592920635177,
          -1.1986891128069317,
          1.180012584596935,
          -1.367233734745869,
          1.4216979437389021,
          -0.9536445111054623,
          1.2214783934231426,
          -1.1852333113110671,
          0.49595433276191425,
          -0.45700591898119247,
          -1.1634992086301335,
          -0.13614299129424992,
          0.02864078911815982,
          -1.4482685079878088,
          -1.340073852456306,
          -0.8775196074063242,
          -0.5642131429299626,
          -0.15774696869111168,
          1.6033684846714356,
          -1.352154240820155,
          -1.948424273992968,
          -0.10923332834192306,
          -0.3466984292093084,
          1.0532876042637498,
          1.3965753639823184,
          -0.7739337356756031,
          -0.5389000139848649,
          -1.7735102893998769,
          0.7389552763546952,
          1.1560874109408732,
          -1.5135193096899042,
          -1.5296404603654188,
          -0.01811472250897168,
          -0.23981216790408158,
          1.05440571047474,
          -0.7269334496791185,
          -0.8487333258876862,
          -2.1362246634378965,
          0.7639994045130143,
          1.041339972611782,
          -0.6445210539291163,
          0.941398881539454,
          1.172472601402738,
          1.157144971904907,
          -0.0016700911030675986,
          -0.21367099215600008,
          0.544287382614512,
          -1.013023022204178,
          0.6653553768385813,
          -1.081995803987892,
          -0.40908139281268663,
          0.4469096983868547,
          -1.3070142630453834,
          -1.1335484106420068,
          -2.3398158121759938,
          1.4313050099281213,
          -2.231818743879048,
          -0.4804009515284093,
          -1.0390003724195962,
          -2.4086907714026657,
          1.5512854832772243,
          -1.3352871785495308,
          0.21023107076646222,
          -0.9080772668139966,
          1.0746116244508543,
          1.352082889036443,
          -0.1547880916645823,
          -1.1852507629309106,
          -1.3196289178696639,
          1.5416264834243936,
          0.22671561843620253,
          -2.183184432019304,
          -0.23289429388985733,
          0.3174235728119984,
          -1.6823920236896401,
          -0.9468513506631693,
          -1.6776217112530991,
          0.8099531353330475
         ]
        },
        {
         "connectgaps": false,
         "fill": "tozeroy",
         "line": {
          "color": "green",
          "dash": "solid",
          "shape": "linear",
          "width": 0.5
         },
         "mode": "lines",
         "name": "Spread",
         "showlegend": false,
         "type": "scatter",
         "x": [
          0,
          1,
          2,
          3,
          4,
          5,
          6,
          7,
          8,
          9,
          10,
          11,
          12,
          13,
          14,
          15,
          16,
          17,
          18,
          19,
          20,
          21,
          22,
          23,
          24,
          25,
          26,
          27,
          28,
          29,
          30,
          31,
          32,
          33,
          34,
          35,
          36,
          37,
          38,
          39,
          40,
          41,
          42,
          43,
          44,
          45,
          46,
          47,
          48,
          49,
          50,
          51,
          52,
          53,
          54,
          55,
          56,
          57,
          58,
          59,
          60,
          61,
          62,
          63,
          64,
          65,
          66,
          67,
          68,
          69,
          70,
          71,
          72,
          73,
          74,
          75,
          76,
          77,
          78,
          79,
          80,
          81,
          82,
          83,
          84,
          85,
          86,
          87,
          88,
          89,
          90,
          91,
          92,
          93,
          94,
          95,
          96,
          97,
          98,
          99
         ],
         "xaxis": "x2",
         "y": [
          0.9609465104903134,
          "",
          "",
          0.22009970223362088,
          "",
          "",
          "",
          2.3945840570167953,
          0.1031384353406617,
          "",
          "",
          0.6097468947912397,
          1.916678232702532,
          "",
          "",
          "",
          0.5671435835261446,
          1.6638707667306287,
          1.1316602159234161,
          1.9496473824173037,
          1.4658275855855334,
          "",
          "",
          "",
          0.0877253398122132,
          "",
          1.9090032201800795,
          "",
          "",
          0.4211082866159352,
          0.7648861884562259,
          0.33791991389934095,
          "",
          2.275755555544954,
          "",
          "",
          0.7454498578474436,
          "",
          1.030186020646005,
          0.40201651389812254,
          "",
          0.9764574262213135,
          0.821272133535006,
          3.9903801325101957,
          "",
          0.588426967527122,
          2.493839507900492,
          0.08154322741408376,
          "",
          "",
          "",
          2.8446805196432177,
          "",
          "",
          1.754527635936642,
          "",
          "",
          0.08455974302355351,
          1.7199168708883867,
          "",
          2.617544525009635,
          0.4755921297319116,
          2.0864618800438968,
          1.394382172270745,
          1.1269493664254084,
          "",
          "",
          "",
          0.898609058266672,
          "",
          "",
          0.8147583288241715,
          "",
          "",
          "",
          1.0684359150802725,
          0.5841791793692015,
          1.6618214737465637,
          0.26183048371118844,
          0.8581677929850174,
          1.141962574133741,
          2.357580496911379,
          "",
          "",
          "",
          0.776263892394514,
          "",
          0.5343780418464612,
          "",
          0.3619698184240197,
          "",
          0.9339018973016563,
          "",
          "",
          0.23511981699936219,
          1.582285071541824,
          "",
          1.372948473900737,
          0.02923756264449917,
          ""
         ],
         "yaxis": "y2"
        },
        {
         "connectgaps": false,
         "fill": "tozeroy",
         "line": {
          "color": "red",
          "dash": "solid",
          "shape": "linear",
          "width": 0.5
         },
         "mode": "lines",
         "name": "Spread",
         "showlegend": false,
         "type": "scatter",
         "x": [
          0,
          1,
          2,
          3,
          4,
          5,
          6,
          7,
          8,
          9,
          10,
          11,
          12,
          13,
          14,
          15,
          16,
          17,
          18,
          19,
          20,
          21,
          22,
          23,
          24,
          25,
          26,
          27,
          28,
          29,
          30,
          31,
          32,
          33,
          34,
          35,
          36,
          37,
          38,
          39,
          40,
          41,
          42,
          43,
          44,
          45,
          46,
          47,
          48,
          49,
          50,
          51,
          52,
          53,
          54,
          55,
          56,
          57,
          58,
          59,
          60,
          61,
          62,
          63,
          64,
          65,
          66,
          67,
          68,
          69,
          70,
          71,
          72,
          73,
          74,
          75,
          76,
          77,
          78,
          79,
          80,
          81,
          82,
          83,
          84,
          85,
          86,
          87,
          88,
          89,
          90,
          91,
          92,
          93,
          94,
          95,
          96,
          97,
          98,
          99
         ],
         "xaxis": "x2",
         "y": [
          "",
          -0.46230762066322556,
          -1.941340138939733,
          "",
          -0.5810700671650919,
          -0.10972384517309666,
          -0.6129976915663815,
          "",
          "",
          -0.680945273997167,
          -1.9699509536276305,
          "",
          "",
          -2.4927661065125655,
          -3.267076659062437,
          -1.1358577372269822,
          "",
          "",
          "",
          "",
          "",
          -0.5541204445598585,
          -0.5919147905124313,
          -0.8316374044780186,
          "",
          -0.28457319626497357,
          "",
          -0.524449319588534,
          -0.5389954145608413,
          "",
          "",
          "",
          -0.6313485141911506,
          "",
          -0.38672335299959887,
          -2.2324285870298213,
          "",
          -0.8743266017270346,
          "",
          "",
          -0.5612294712802777,
          "",
          "",
          "",
          -1.4525369365222955,
          "",
          "",
          "",
          -0.22472684975166213,
          -1.3672299035513908,
          -0.14474170443996837,
          "",
          -0.4420856962023701,
          -2.352958114575379,
          "",
          -0.6219754810677974,
          -1.3570967011842077,
          "",
          "",
          -0.9842264859152532,
          "",
          "",
          "",
          "",
          "",
          -0.8554607421521696,
          -1.199244557052539,
          -1.6570318842041583,
          "",
          -3.229988125453831,
          -0.11492300814612022,
          "",
          -2.1798563648437113,
          -1.0681983159480555,
          -2.6233723692428734,
          "",
          "",
          "",
          "",
          "",
          "",
          "",
          -2.2904991567503505,
          -0.14778416570956332,
          -0.23808548260816825,
          "",
          -0.816882901198126,
          "",
          -0.3753121574935191,
          "",
          -0.3044690240151716,
          "",
          -1.0904439573573945,
          -1.6023781565390243,
          "",
          "",
          -0.4113477006634151,
          "",
          "",
          -0.8061191978782918
         ],
         "yaxis": "y2"
        }
       ],
       "layout": {
        "hovermode": "x",
        "legend": {
         "bgcolor": "#F5F6F9",
         "font": {
          "color": "#4D5663"
         }
        },
        "paper_bgcolor": "#F5F6F9",
        "plot_bgcolor": "#F5F6F9",
        "template": {
         "data": {
          "bar": [
           {
            "error_x": {
             "color": "#2a3f5f"
            },
            "error_y": {
             "color": "#2a3f5f"
            },
            "marker": {
             "line": {
              "color": "#E5ECF6",
              "width": 0.5
             }
            },
            "type": "bar"
           }
          ],
          "barpolar": [
           {
            "marker": {
             "line": {
              "color": "#E5ECF6",
              "width": 0.5
             }
            },
            "type": "barpolar"
           }
          ],
          "carpet": [
           {
            "aaxis": {
             "endlinecolor": "#2a3f5f",
             "gridcolor": "white",
             "linecolor": "white",
             "minorgridcolor": "white",
             "startlinecolor": "#2a3f5f"
            },
            "baxis": {
             "endlinecolor": "#2a3f5f",
             "gridcolor": "white",
             "linecolor": "white",
             "minorgridcolor": "white",
             "startlinecolor": "#2a3f5f"
            },
            "type": "carpet"
           }
          ],
          "choropleth": [
           {
            "colorbar": {
             "outlinewidth": 0,
             "ticks": ""
            },
            "type": "choropleth"
           }
          ],
          "contour": [
           {
            "colorbar": {
             "outlinewidth": 0,
             "ticks": ""
            },
            "colorscale": [
             [
              0,
              "#0d0887"
             ],
             [
              0.1111111111111111,
              "#46039f"
             ],
             [
              0.2222222222222222,
              "#7201a8"
             ],
             [
              0.3333333333333333,
              "#9c179e"
             ],
             [
              0.4444444444444444,
              "#bd3786"
             ],
             [
              0.5555555555555556,
              "#d8576b"
             ],
             [
              0.6666666666666666,
              "#ed7953"
             ],
             [
              0.7777777777777778,
              "#fb9f3a"
             ],
             [
              0.8888888888888888,
              "#fdca26"
             ],
             [
              1,
              "#f0f921"
             ]
            ],
            "type": "contour"
           }
          ],
          "contourcarpet": [
           {
            "colorbar": {
             "outlinewidth": 0,
             "ticks": ""
            },
            "type": "contourcarpet"
           }
          ],
          "heatmap": [
           {
            "colorbar": {
             "outlinewidth": 0,
             "ticks": ""
            },
            "colorscale": [
             [
              0,
              "#0d0887"
             ],
             [
              0.1111111111111111,
              "#46039f"
             ],
             [
              0.2222222222222222,
              "#7201a8"
             ],
             [
              0.3333333333333333,
              "#9c179e"
             ],
             [
              0.4444444444444444,
              "#bd3786"
             ],
             [
              0.5555555555555556,
              "#d8576b"
             ],
             [
              0.6666666666666666,
              "#ed7953"
             ],
             [
              0.7777777777777778,
              "#fb9f3a"
             ],
             [
              0.8888888888888888,
              "#fdca26"
             ],
             [
              1,
              "#f0f921"
             ]
            ],
            "type": "heatmap"
           }
          ],
          "heatmapgl": [
           {
            "colorbar": {
             "outlinewidth": 0,
             "ticks": ""
            },
            "colorscale": [
             [
              0,
              "#0d0887"
             ],
             [
              0.1111111111111111,
              "#46039f"
             ],
             [
              0.2222222222222222,
              "#7201a8"
             ],
             [
              0.3333333333333333,
              "#9c179e"
             ],
             [
              0.4444444444444444,
              "#bd3786"
             ],
             [
              0.5555555555555556,
              "#d8576b"
             ],
             [
              0.6666666666666666,
              "#ed7953"
             ],
             [
              0.7777777777777778,
              "#fb9f3a"
             ],
             [
              0.8888888888888888,
              "#fdca26"
             ],
             [
              1,
              "#f0f921"
             ]
            ],
            "type": "heatmapgl"
           }
          ],
          "histogram": [
           {
            "marker": {
             "colorbar": {
              "outlinewidth": 0,
              "ticks": ""
             }
            },
            "type": "histogram"
           }
          ],
          "histogram2d": [
           {
            "colorbar": {
             "outlinewidth": 0,
             "ticks": ""
            },
            "colorscale": [
             [
              0,
              "#0d0887"
             ],
             [
              0.1111111111111111,
              "#46039f"
             ],
             [
              0.2222222222222222,
              "#7201a8"
             ],
             [
              0.3333333333333333,
              "#9c179e"
             ],
             [
              0.4444444444444444,
              "#bd3786"
             ],
             [
              0.5555555555555556,
              "#d8576b"
             ],
             [
              0.6666666666666666,
              "#ed7953"
             ],
             [
              0.7777777777777778,
              "#fb9f3a"
             ],
             [
              0.8888888888888888,
              "#fdca26"
             ],
             [
              1,
              "#f0f921"
             ]
            ],
            "type": "histogram2d"
           }
          ],
          "histogram2dcontour": [
           {
            "colorbar": {
             "outlinewidth": 0,
             "ticks": ""
            },
            "colorscale": [
             [
              0,
              "#0d0887"
             ],
             [
              0.1111111111111111,
              "#46039f"
             ],
             [
              0.2222222222222222,
              "#7201a8"
             ],
             [
              0.3333333333333333,
              "#9c179e"
             ],
             [
              0.4444444444444444,
              "#bd3786"
             ],
             [
              0.5555555555555556,
              "#d8576b"
             ],
             [
              0.6666666666666666,
              "#ed7953"
             ],
             [
              0.7777777777777778,
              "#fb9f3a"
             ],
             [
              0.8888888888888888,
              "#fdca26"
             ],
             [
              1,
              "#f0f921"
             ]
            ],
            "type": "histogram2dcontour"
           }
          ],
          "mesh3d": [
           {
            "colorbar": {
             "outlinewidth": 0,
             "ticks": ""
            },
            "type": "mesh3d"
           }
          ],
          "parcoords": [
           {
            "line": {
             "colorbar": {
              "outlinewidth": 0,
              "ticks": ""
             }
            },
            "type": "parcoords"
           }
          ],
          "pie": [
           {
            "automargin": true,
            "type": "pie"
           }
          ],
          "scatter": [
           {
            "marker": {
             "colorbar": {
              "outlinewidth": 0,
              "ticks": ""
             }
            },
            "type": "scatter"
           }
          ],
          "scatter3d": [
           {
            "line": {
             "colorbar": {
              "outlinewidth": 0,
              "ticks": ""
             }
            },
            "marker": {
             "colorbar": {
              "outlinewidth": 0,
              "ticks": ""
             }
            },
            "type": "scatter3d"
           }
          ],
          "scattercarpet": [
           {
            "marker": {
             "colorbar": {
              "outlinewidth": 0,
              "ticks": ""
             }
            },
            "type": "scattercarpet"
           }
          ],
          "scattergeo": [
           {
            "marker": {
             "colorbar": {
              "outlinewidth": 0,
              "ticks": ""
             }
            },
            "type": "scattergeo"
           }
          ],
          "scattergl": [
           {
            "marker": {
             "colorbar": {
              "outlinewidth": 0,
              "ticks": ""
             }
            },
            "type": "scattergl"
           }
          ],
          "scattermapbox": [
           {
            "marker": {
             "colorbar": {
              "outlinewidth": 0,
              "ticks": ""
             }
            },
            "type": "scattermapbox"
           }
          ],
          "scatterpolar": [
           {
            "marker": {
             "colorbar": {
              "outlinewidth": 0,
              "ticks": ""
             }
            },
            "type": "scatterpolar"
           }
          ],
          "scatterpolargl": [
           {
            "marker": {
             "colorbar": {
              "outlinewidth": 0,
              "ticks": ""
             }
            },
            "type": "scatterpolargl"
           }
          ],
          "scatterternary": [
           {
            "marker": {
             "colorbar": {
              "outlinewidth": 0,
              "ticks": ""
             }
            },
            "type": "scatterternary"
           }
          ],
          "surface": [
           {
            "colorbar": {
             "outlinewidth": 0,
             "ticks": ""
            },
            "colorscale": [
             [
              0,
              "#0d0887"
             ],
             [
              0.1111111111111111,
              "#46039f"
             ],
             [
              0.2222222222222222,
              "#7201a8"
             ],
             [
              0.3333333333333333,
              "#9c179e"
             ],
             [
              0.4444444444444444,
              "#bd3786"
             ],
             [
              0.5555555555555556,
              "#d8576b"
             ],
             [
              0.6666666666666666,
              "#ed7953"
             ],
             [
              0.7777777777777778,
              "#fb9f3a"
             ],
             [
              0.8888888888888888,
              "#fdca26"
             ],
             [
              1,
              "#f0f921"
             ]
            ],
            "type": "surface"
           }
          ],
          "table": [
           {
            "cells": {
             "fill": {
              "color": "#EBF0F8"
             },
             "line": {
              "color": "white"
             }
            },
            "header": {
             "fill": {
              "color": "#C8D4E3"
             },
             "line": {
              "color": "white"
             }
            },
            "type": "table"
           }
          ]
         },
         "layout": {
          "annotationdefaults": {
           "arrowcolor": "#2a3f5f",
           "arrowhead": 0,
           "arrowwidth": 1
          },
          "coloraxis": {
           "colorbar": {
            "outlinewidth": 0,
            "ticks": ""
           }
          },
          "colorscale": {
           "diverging": [
            [
             0,
             "#8e0152"
            ],
            [
             0.1,
             "#c51b7d"
            ],
            [
             0.2,
             "#de77ae"
            ],
            [
             0.3,
             "#f1b6da"
            ],
            [
             0.4,
             "#fde0ef"
            ],
            [
             0.5,
             "#f7f7f7"
            ],
            [
             0.6,
             "#e6f5d0"
            ],
            [
             0.7,
             "#b8e186"
            ],
            [
             0.8,
             "#7fbc41"
            ],
            [
             0.9,
             "#4d9221"
            ],
            [
             1,
             "#276419"
            ]
           ],
           "sequential": [
            [
             0,
             "#0d0887"
            ],
            [
             0.1111111111111111,
             "#46039f"
            ],
            [
             0.2222222222222222,
             "#7201a8"
            ],
            [
             0.3333333333333333,
             "#9c179e"
            ],
            [
             0.4444444444444444,
             "#bd3786"
            ],
            [
             0.5555555555555556,
             "#d8576b"
            ],
            [
             0.6666666666666666,
             "#ed7953"
            ],
            [
             0.7777777777777778,
             "#fb9f3a"
            ],
            [
             0.8888888888888888,
             "#fdca26"
            ],
            [
             1,
             "#f0f921"
            ]
           ],
           "sequentialminus": [
            [
             0,
             "#0d0887"
            ],
            [
             0.1111111111111111,
             "#46039f"
            ],
            [
             0.2222222222222222,
             "#7201a8"
            ],
            [
             0.3333333333333333,
             "#9c179e"
            ],
            [
             0.4444444444444444,
             "#bd3786"
            ],
            [
             0.5555555555555556,
             "#d8576b"
            ],
            [
             0.6666666666666666,
             "#ed7953"
            ],
            [
             0.7777777777777778,
             "#fb9f3a"
            ],
            [
             0.8888888888888888,
             "#fdca26"
            ],
            [
             1,
             "#f0f921"
            ]
           ]
          },
          "colorway": [
           "#636efa",
           "#EF553B",
           "#00cc96",
           "#ab63fa",
           "#FFA15A",
           "#19d3f3",
           "#FF6692",
           "#B6E880",
           "#FF97FF",
           "#FECB52"
          ],
          "font": {
           "color": "#2a3f5f"
          },
          "geo": {
           "bgcolor": "white",
           "lakecolor": "white",
           "landcolor": "#E5ECF6",
           "showlakes": true,
           "showland": true,
           "subunitcolor": "white"
          },
          "hoverlabel": {
           "align": "left"
          },
          "hovermode": "closest",
          "mapbox": {
           "style": "light"
          },
          "paper_bgcolor": "white",
          "plot_bgcolor": "#E5ECF6",
          "polar": {
           "angularaxis": {
            "gridcolor": "white",
            "linecolor": "white",
            "ticks": ""
           },
           "bgcolor": "#E5ECF6",
           "radialaxis": {
            "gridcolor": "white",
            "linecolor": "white",
            "ticks": ""
           }
          },
          "scene": {
           "xaxis": {
            "backgroundcolor": "#E5ECF6",
            "gridcolor": "white",
            "gridwidth": 2,
            "linecolor": "white",
            "showbackground": true,
            "ticks": "",
            "zerolinecolor": "white"
           },
           "yaxis": {
            "backgroundcolor": "#E5ECF6",
            "gridcolor": "white",
            "gridwidth": 2,
            "linecolor": "white",
            "showbackground": true,
            "ticks": "",
            "zerolinecolor": "white"
           },
           "zaxis": {
            "backgroundcolor": "#E5ECF6",
            "gridcolor": "white",
            "gridwidth": 2,
            "linecolor": "white",
            "showbackground": true,
            "ticks": "",
            "zerolinecolor": "white"
           }
          },
          "shapedefaults": {
           "line": {
            "color": "#2a3f5f"
           }
          },
          "ternary": {
           "aaxis": {
            "gridcolor": "white",
            "linecolor": "white",
            "ticks": ""
           },
           "baxis": {
            "gridcolor": "white",
            "linecolor": "white",
            "ticks": ""
           },
           "bgcolor": "#E5ECF6",
           "caxis": {
            "gridcolor": "white",
            "linecolor": "white",
            "ticks": ""
           }
          },
          "title": {
           "x": 0.05
          },
          "xaxis": {
           "automargin": true,
           "gridcolor": "white",
           "linecolor": "white",
           "ticks": "",
           "title": {
            "standoff": 15
           },
           "zerolinecolor": "white",
           "zerolinewidth": 2
          },
          "yaxis": {
           "automargin": true,
           "gridcolor": "white",
           "linecolor": "white",
           "ticks": "",
           "title": {
            "standoff": 15
           },
           "zerolinecolor": "white",
           "zerolinewidth": 2
          }
         }
        },
        "title": {
         "font": {
          "color": "#4D5663"
         }
        },
        "xaxis": {
         "gridcolor": "#E1E5ED",
         "showgrid": true,
         "tickfont": {
          "color": "#4D5663"
         },
         "title": {
          "font": {
           "color": "#4D5663"
          },
          "text": ""
         },
         "zerolinecolor": "#E1E5ED"
        },
        "xaxis2": {
         "anchor": "y2",
         "gridcolor": "#E1E5ED",
         "showgrid": true,
         "showticklabels": false,
         "tickfont": {
          "color": "#4D5663"
         },
         "title": {
          "font": {
           "color": "#4D5663"
          },
          "text": ""
         },
         "zerolinecolor": "#E1E5ED"
        },
        "yaxis": {
         "domain": [
          0.3,
          1
         ],
         "gridcolor": "#E1E5ED",
         "showgrid": true,
         "tickfont": {
          "color": "#4D5663"
         },
         "title": {
          "font": {
           "color": "#4D5663"
          },
          "text": ""
         },
         "zerolinecolor": "#E1E5ED"
        },
        "yaxis2": {
         "domain": [
          0,
          0.25
         ],
         "gridcolor": "#E1E5ED",
         "showgrid": true,
         "tickfont": {
          "color": "#4D5663"
         },
         "title": {
          "font": {
           "color": "#4D5663"
          },
          "text": "Spread"
         },
         "zerolinecolor": "#E1E5ED"
        }
       }
      },
      "text/html": [
       "<div>\n",
       "        \n",
       "        \n",
       "            <div id=\"996a198a-4d75-48c8-bfff-3418f8457239\" class=\"plotly-graph-div\" style=\"height:525px; width:100%;\"></div>\n",
       "            <script type=\"text/javascript\">\n",
       "                require([\"plotly\"], function(Plotly) {\n",
       "                    window.PLOTLYENV=window.PLOTLYENV || {};\n",
       "                    window.PLOTLYENV.BASE_URL='https://plot.ly';\n",
       "                    \n",
       "                if (document.getElementById(\"996a198a-4d75-48c8-bfff-3418f8457239\")) {\n",
       "                    Plotly.newPlot(\n",
       "                        '996a198a-4d75-48c8-bfff-3418f8457239',\n",
       "                        [{\"line\": {\"color\": \"rgba(255, 153, 51, 1.0)\", \"dash\": \"solid\", \"shape\": \"linear\", \"width\": 1.3}, \"mode\": \"lines\", \"name\": \"A\", \"text\": \"\", \"type\": \"scatter\", \"x\": [0, 1, 2, 3, 4, 5, 6, 7, 8, 9, 10, 11, 12, 13, 14, 15, 16, 17, 18, 19, 20, 21, 22, 23, 24, 25, 26, 27, 28, 29, 30, 31, 32, 33, 34, 35, 36, 37, 38, 39, 40, 41, 42, 43, 44, 45, 46, 47, 48, 49, 50, 51, 52, 53, 54, 55, 56, 57, 58, 59, 60, 61, 62, 63, 64, 65, 66, 67, 68, 69, 70, 71, 72, 73, 74, 75, 76, 77, 78, 79, 80, 81, 82, 83, 84, 85, 86, 87, 88, 89, 90, 91, 92, 93, 94, 95, 96, 97, 98, 99], \"y\": [0.7384849679917865, -0.4739703576787497, -1.2410850999181424, 0.011239248866355677, -0.3023127905230943, 0.2363230440172158, -0.28402355339350155, 0.9399206409610732, 0.7622389377177152, 0.9498089256425105, -1.6162083558302955, 0.9646435176708447, 0.6614496914739366, -1.716143334033692, -2.5356915148878794, -0.9617606145051862, 0.008293435242292549, 1.4810906706268816, 0.6930911578507049, 0.7517083996567843, 1.6773600899238656, 0.20023565995701395, -0.4862336432496669, 0.6424563113780488, 1.0529264632088229, -0.5194348158769179, 0.5193794476182205, -0.2177636551563566, 0.5730394684480788, 0.8894265882891824, 0.16574773044920646, -0.36556200969439046, -0.6371054172325357, 1.1301373234143273, -0.3552754866053425, -0.7883959295021864, 0.5859129449503426, -1.3343892432421331, -0.21179498740280153, 0.8445155577573598, -1.0158186524593766, 1.046865972107086, 1.35629825666338, 1.2275847492949927, -1.8092078608463722, 0.3104716386755969, 1.9439385481339027, -0.046302866157695736, 0.9939623927497057, -1.5237946534936748, -1.3326917554580766, 2.4142179028316892, 0.04185598515241913, -2.1987326086021013, 0.23139778756142068, 0.9666403300832923, -0.24296102909533798, -0.6476057938239268, -0.16151360123863254, 0.4793347634889624, 0.6347851945989572, 0.8434974936512513, 1.002062963811421, 1.2616989085150399, -0.4796951126108852, -1.0526870741532763, -1.19889718235249, -0.8743996784021727, 0.9033046003458987, -1.514389455518979, -0.9101640903693848, 1.3029787614274848, -0.574457267580267, -1.1532287536452923, -1.9252554195383396, 1.5403188122329121, -0.6187670029735031, 1.7146672083316403, 1.2440564828005858, -0.0009091919227137812, 1.1007579242326673, 0.6006154386851078, -1.1507471833784182, -0.7789990876013348, -0.28419337049955345, 1.0236872992597577, 0.7399035390241175, 0.1545230603764189, -1.2790224177216212, 0.8595009913364225, 0.2626145547074289, 0.553328600134025, 0.2672852048766201, -0.8914354807363999, 0.5002622086866662, 0.3346114667624826, -0.8529924982020634, 1.339333316246086, 0.5939467712682505, -1.3180613570001438]}, {\"line\": {\"color\": \"rgba(55, 128, 191, 1.0)\", \"dash\": \"solid\", \"shape\": \"linear\", \"width\": 1.3}, \"mode\": \"lines\", \"name\": \"B\", \"text\": \"\", \"type\": \"scatter\", \"x\": [0, 1, 2, 3, 4, 5, 6, 7, 8, 9, 10, 11, 12, 13, 14, 15, 16, 17, 18, 19, 20, 21, 22, 23, 24, 25, 26, 27, 28, 29, 30, 31, 32, 33, 34, 35, 36, 37, 38, 39, 40, 41, 42, 43, 44, 45, 46, 47, 48, 49, 50, 51, 52, 53, 54, 55, 56, 57, 58, 59, 60, 61, 62, 63, 64, 65, 66, 67, 68, 69, 70, 71, 72, 73, 74, 75, 76, 77, 78, 79, 80, 81, 82, 83, 84, 85, 86, 87, 88, 89, 90, 91, 92, 93, 94, 95, 96, 97, 98, 99], \"y\": [-0.22246154249852684, -0.011662737015524104, 0.7002550390215904, -0.2088604533672652, 0.2787572766419977, 0.34604688919031246, 0.3289741381728799, -1.4546634160557221, 0.6591005023770535, 1.6307541996396775, 0.3537425977973349, 0.35489662287960494, -1.2552285412285955, 0.7766227724788735, 0.7313851441745576, 0.17409712272179598, -0.558850148283852, -0.18278009610374715, -0.4385690580727113, -1.1979389827605196, 0.21153250433833218, 0.7543561045168725, 0.10568114726276448, 1.4740937158560674, 0.9652011233966097, -0.23486161961194427, -1.389623772561859, 0.30668566443217743, 1.1120348830089202, 0.46831830167324723, -0.5991384580070195, -0.7034819235937314, -0.005756903041385128, -1.1456182321306265, 0.031447866394256334, 1.4440326575276348, -0.1595369128971009, -0.46006264151509857, -1.2419810080488065, 0.4424990438592372, -0.45458918117909897, 0.07040854588577262, 0.535026123128374, -2.7627953832152032, -0.3566709243240767, -0.2779553288515251, -0.5499009597665894, -0.1278460935717795, 1.2186892425013678, -0.1565647499422839, -1.1879500510181082, -0.4304626168115283, 0.4839416813547892, 0.1542255059732776, -1.5231298483752214, 1.5886158111510897, 1.1141356720888698, -0.7321655368474803, -1.8814304721270192, 1.4635612494042156, -1.9827593304106776, 0.36790536391933965, -1.0843989162324759, -0.13268326375570524, -1.6066444790362937, -0.19722633200110679, 0.0003473747000489338, 0.7826322058019856, 0.0046955420792266205, 1.7155986699348522, -0.7952410822232646, 0.4882204326033132, 1.6053990972634442, -0.08503043769723694, 0.6981169497045339, 0.4718828971526396, -1.2029461823427046, 0.052845734585076666, 0.9822259990893973, -0.8590769849077312, -0.04120464990107362, -1.7569650582262712, 1.1397519733719323, -0.6312149218917715, -0.046107887891385216, 0.24742340686524372, 1.5567864402222436, -0.37985498147004226, -0.9037102602281021, 0.49753117291240284, 0.5670835787226005, -0.38057329716763133, 1.3577291622340146, 0.7109426758026244, 0.26514239168730397, -1.2476736047793413, -0.44164479753864827, -0.033615157654650896, 0.5647092086237513, -0.511942159121852]}, {\"line\": {\"color\": \"rgba(50, 171, 96, 1.0)\", \"dash\": \"solid\", \"shape\": \"linear\", \"width\": 1.3}, \"mode\": \"lines\", \"name\": \"C\", \"text\": \"\", \"type\": \"scatter\", \"x\": [0, 1, 2, 3, 4, 5, 6, 7, 8, 9, 10, 11, 12, 13, 14, 15, 16, 17, 18, 19, 20, 21, 22, 23, 24, 25, 26, 27, 28, 29, 30, 31, 32, 33, 34, 35, 36, 37, 38, 39, 40, 41, 42, 43, 44, 45, 46, 47, 48, 49, 50, 51, 52, 53, 54, 55, 56, 57, 58, 59, 60, 61, 62, 63, 64, 65, 66, 67, 68, 69, 70, 71, 72, 73, 74, 75, 76, 77, 78, 79, 80, 81, 82, 83, 84, 85, 86, 87, 88, 89, 90, 91, 92, 93, 94, 95, 96, 97, 98, 99], \"y\": [0.3327097562536328, -1.4989734130569317, 1.5183796176928412, -1.602061657580099, -0.1223028920412938, 1.386107101382463, -0.3415490358671324, -0.601432993832816, -0.7250537936410264, -0.25995473648644335, -1.2422490910298027, 1.1742302850063706, 0.18699966489887976, 1.2662228253927414, -1.251580842922223, -0.7282265939616873, 1.5879017425376987, 0.6091752542674607, 0.532904734654383, 0.9974016167066104, -0.22956798544070212, 1.183297268164457, -1.3935594197207464, 0.4542969291289916, -0.9726084682689599, 2.16182929854646, 0.23301146780323445, -0.1960668029901525, -0.8074931010293909, -0.011076559186416392, 0.6526452912513951, -0.011420869869149506, 0.40729498041940865, -1.4608135825814752, -1.0743052935041677, -1.067976015767999, -1.939351767318399, 0.393969215925592, 0.4943040456489618, 1.941061809173201, -0.3545833883013441, -1.3630645831972743, -0.7808083882051318, 0.14828932191953875, 1.1809111049948051, 0.4120562337432101, 0.15330385255565906, 0.7818987007205416, -0.33260463389752076, -1.063339758890112, -0.2157947274815626, 1.1668965390573576, -1.0062129725618667, 0.8563185855337104, 0.1134259884042055, 0.16124262504863326, 0.8723792648240553, -1.5779154984640098, -1.7194283418339689, -0.7438004534439292, -0.3193951573849327, 0.6608682615796827, 0.09013167999011383, -2.692713245513669, 1.444401329767143, 0.20119976229306244, 0.032921153652011204, -0.9119279263574213, 0.2590428295494773, -0.9967937373445537, -0.7374266907019629, 0.9000772812275898, 0.8388976395866024, 0.3927020144340531, 0.34208830190986056, -1.1218914946391794, -0.054772158324748514, 0.6859401772791511, 0.24968117808815007, 0.48624800196760376, 0.8227827699143407, -0.5065635151644389, -0.35418313928200706, 0.8249811569719638, -1.0825434719372715, 0.28888600126108677, 1.0131678182935049, -2.3299803613355308, 0.3107692820192783, -0.36606223453421693, -0.7307619449006915, -1.8881767667272429, -1.44561951925092, -0.1926918554444059, -0.10295541446747797, -0.5426933739808347, -0.9278063200643781, -0.31714133131824696, -0.5357162118674762, -1.193869715470299]}, {\"line\": {\"color\": \"rgba(128, 0, 128, 1.0)\", \"dash\": \"solid\", \"shape\": \"linear\", \"width\": 1.3}, \"mode\": \"lines\", \"name\": \"D\", \"text\": \"\", \"type\": \"scatter\", \"x\": [0, 1, 2, 3, 4, 5, 6, 7, 8, 9, 10, 11, 12, 13, 14, 15, 16, 17, 18, 19, 20, 21, 22, 23, 24, 25, 26, 27, 28, 29, 30, 31, 32, 33, 34, 35, 36, 37, 38, 39, 40, 41, 42, 43, 44, 45, 46, 47, 48, 49, 50, 51, 52, 53, 54, 55, 56, 57, 58, 59, 60, 61, 62, 63, 64, 65, 66, 67, 68, 69, 70, 71, 72, 73, 74, 75, 76, 77, 78, 79, 80, 81, 82, 83, 84, 85, 86, 87, 88, 89, 90, 91, 92, 93, 94, 95, 96, 97, 98, 99], \"y\": [1.006990415230797, -1.964224009771347, 1.3656734904303878, -0.7193889981597499, -0.8171992346531632, 0.5021579854133826, 0.35360746817993566, 0.5038180043335287, -0.2253065854925412, -1.4462053896103182, 0.3861215592594124, 0.17553505879195624, -0.773045807558028, 0.13715218564236864, 1.5918514617857802, -0.4541260388835454, -0.18374369785544023, -0.8468969582370742, 0.5283326291655621, -0.3174351528315366, -1.0113652796135721, 0.9554437511695475, 0.5317592920635177, -1.1986891128069317, 1.180012584596935, -1.367233734745869, 1.4216979437389021, -0.9536445111054623, 1.2214783934231426, -1.1852333113110671, 0.49595433276191425, -0.45700591898119247, -1.1634992086301335, -0.13614299129424992, 0.02864078911815982, -1.4482685079878088, -1.340073852456306, -0.8775196074063242, -0.5642131429299626, -0.15774696869111168, 1.6033684846714356, -1.352154240820155, -1.948424273992968, -0.10923332834192306, -0.3466984292093084, 1.0532876042637498, 1.3965753639823184, -0.7739337356756031, -0.5389000139848649, -1.7735102893998769, 0.7389552763546952, 1.1560874109408732, -1.5135193096899042, -1.5296404603654188, -0.01811472250897168, -0.23981216790408158, 1.05440571047474, -0.7269334496791185, -0.8487333258876862, -2.1362246634378965, 0.7639994045130143, 1.041339972611782, -0.6445210539291163, 0.941398881539454, 1.172472601402738, 1.157144971904907, -0.0016700911030675986, -0.21367099215600008, 0.544287382614512, -1.013023022204178, 0.6653553768385813, -1.081995803987892, -0.40908139281268663, 0.4469096983868547, -1.3070142630453834, -1.1335484106420068, -2.3398158121759938, 1.4313050099281213, -2.231818743879048, -0.4804009515284093, -1.0390003724195962, -2.4086907714026657, 1.5512854832772243, -1.3352871785495308, 0.21023107076646222, -0.9080772668139966, 1.0746116244508543, 1.352082889036443, -0.1547880916645823, -1.1852507629309106, -1.3196289178696639, 1.5416264834243936, 0.22671561843620253, -2.183184432019304, -0.23289429388985733, 0.3174235728119984, -1.6823920236896401, -0.9468513506631693, -1.6776217112530991, 0.8099531353330475]}, {\"connectgaps\": false, \"fill\": \"tozeroy\", \"line\": {\"color\": \"green\", \"dash\": \"solid\", \"shape\": \"linear\", \"width\": 0.5}, \"mode\": \"lines\", \"name\": \"Spread\", \"showlegend\": false, \"type\": \"scatter\", \"x\": [0, 1, 2, 3, 4, 5, 6, 7, 8, 9, 10, 11, 12, 13, 14, 15, 16, 17, 18, 19, 20, 21, 22, 23, 24, 25, 26, 27, 28, 29, 30, 31, 32, 33, 34, 35, 36, 37, 38, 39, 40, 41, 42, 43, 44, 45, 46, 47, 48, 49, 50, 51, 52, 53, 54, 55, 56, 57, 58, 59, 60, 61, 62, 63, 64, 65, 66, 67, 68, 69, 70, 71, 72, 73, 74, 75, 76, 77, 78, 79, 80, 81, 82, 83, 84, 85, 86, 87, 88, 89, 90, 91, 92, 93, 94, 95, 96, 97, 98, 99], \"xaxis\": \"x2\", \"y\": [0.9609465104903134, \"\", \"\", 0.22009970223362088, \"\", \"\", \"\", 2.3945840570167953, 0.1031384353406617, \"\", \"\", 0.6097468947912397, 1.916678232702532, \"\", \"\", \"\", 0.5671435835261446, 1.6638707667306287, 1.1316602159234161, 1.9496473824173037, 1.4658275855855334, \"\", \"\", \"\", 0.0877253398122132, \"\", 1.9090032201800795, \"\", \"\", 0.4211082866159352, 0.7648861884562259, 0.33791991389934095, \"\", 2.275755555544954, \"\", \"\", 0.7454498578474436, \"\", 1.030186020646005, 0.40201651389812254, \"\", 0.9764574262213135, 0.821272133535006, 3.9903801325101957, \"\", 0.588426967527122, 2.493839507900492, 0.08154322741408376, \"\", \"\", \"\", 2.8446805196432177, \"\", \"\", 1.754527635936642, \"\", \"\", 0.08455974302355351, 1.7199168708883867, \"\", 2.617544525009635, 0.4755921297319116, 2.0864618800438968, 1.394382172270745, 1.1269493664254084, \"\", \"\", \"\", 0.898609058266672, \"\", \"\", 0.8147583288241715, \"\", \"\", \"\", 1.0684359150802725, 0.5841791793692015, 1.6618214737465637, 0.26183048371118844, 0.8581677929850174, 1.141962574133741, 2.357580496911379, \"\", \"\", \"\", 0.776263892394514, \"\", 0.5343780418464612, \"\", 0.3619698184240197, \"\", 0.9339018973016563, \"\", \"\", 0.23511981699936219, 1.582285071541824, \"\", 1.372948473900737, 0.02923756264449917, \"\"], \"yaxis\": \"y2\"}, {\"connectgaps\": false, \"fill\": \"tozeroy\", \"line\": {\"color\": \"red\", \"dash\": \"solid\", \"shape\": \"linear\", \"width\": 0.5}, \"mode\": \"lines\", \"name\": \"Spread\", \"showlegend\": false, \"type\": \"scatter\", \"x\": [0, 1, 2, 3, 4, 5, 6, 7, 8, 9, 10, 11, 12, 13, 14, 15, 16, 17, 18, 19, 20, 21, 22, 23, 24, 25, 26, 27, 28, 29, 30, 31, 32, 33, 34, 35, 36, 37, 38, 39, 40, 41, 42, 43, 44, 45, 46, 47, 48, 49, 50, 51, 52, 53, 54, 55, 56, 57, 58, 59, 60, 61, 62, 63, 64, 65, 66, 67, 68, 69, 70, 71, 72, 73, 74, 75, 76, 77, 78, 79, 80, 81, 82, 83, 84, 85, 86, 87, 88, 89, 90, 91, 92, 93, 94, 95, 96, 97, 98, 99], \"xaxis\": \"x2\", \"y\": [\"\", -0.46230762066322556, -1.941340138939733, \"\", -0.5810700671650919, -0.10972384517309666, -0.6129976915663815, \"\", \"\", -0.680945273997167, -1.9699509536276305, \"\", \"\", -2.4927661065125655, -3.267076659062437, -1.1358577372269822, \"\", \"\", \"\", \"\", \"\", -0.5541204445598585, -0.5919147905124313, -0.8316374044780186, \"\", -0.28457319626497357, \"\", -0.524449319588534, -0.5389954145608413, \"\", \"\", \"\", -0.6313485141911506, \"\", -0.38672335299959887, -2.2324285870298213, \"\", -0.8743266017270346, \"\", \"\", -0.5612294712802777, \"\", \"\", \"\", -1.4525369365222955, \"\", \"\", \"\", -0.22472684975166213, -1.3672299035513908, -0.14474170443996837, \"\", -0.4420856962023701, -2.352958114575379, \"\", -0.6219754810677974, -1.3570967011842077, \"\", \"\", -0.9842264859152532, \"\", \"\", \"\", \"\", \"\", -0.8554607421521696, -1.199244557052539, -1.6570318842041583, \"\", -3.229988125453831, -0.11492300814612022, \"\", -2.1798563648437113, -1.0681983159480555, -2.6233723692428734, \"\", \"\", \"\", \"\", \"\", \"\", \"\", -2.2904991567503505, -0.14778416570956332, -0.23808548260816825, \"\", -0.816882901198126, \"\", -0.3753121574935191, \"\", -0.3044690240151716, \"\", -1.0904439573573945, -1.6023781565390243, \"\", \"\", -0.4113477006634151, \"\", \"\", -0.8061191978782918], \"yaxis\": \"y2\"}],\n",
       "                        {\"hovermode\": \"x\", \"legend\": {\"bgcolor\": \"#F5F6F9\", \"font\": {\"color\": \"#4D5663\"}}, \"paper_bgcolor\": \"#F5F6F9\", \"plot_bgcolor\": \"#F5F6F9\", \"template\": {\"data\": {\"bar\": [{\"error_x\": {\"color\": \"#2a3f5f\"}, \"error_y\": {\"color\": \"#2a3f5f\"}, \"marker\": {\"line\": {\"color\": \"#E5ECF6\", \"width\": 0.5}}, \"type\": \"bar\"}], \"barpolar\": [{\"marker\": {\"line\": {\"color\": \"#E5ECF6\", \"width\": 0.5}}, \"type\": \"barpolar\"}], \"carpet\": [{\"aaxis\": {\"endlinecolor\": \"#2a3f5f\", \"gridcolor\": \"white\", \"linecolor\": \"white\", \"minorgridcolor\": \"white\", \"startlinecolor\": \"#2a3f5f\"}, \"baxis\": {\"endlinecolor\": \"#2a3f5f\", \"gridcolor\": \"white\", \"linecolor\": \"white\", \"minorgridcolor\": \"white\", \"startlinecolor\": \"#2a3f5f\"}, \"type\": \"carpet\"}], \"choropleth\": [{\"colorbar\": {\"outlinewidth\": 0, \"ticks\": \"\"}, \"type\": \"choropleth\"}], \"contour\": [{\"colorbar\": {\"outlinewidth\": 0, \"ticks\": \"\"}, \"colorscale\": [[0.0, \"#0d0887\"], [0.1111111111111111, \"#46039f\"], [0.2222222222222222, \"#7201a8\"], [0.3333333333333333, \"#9c179e\"], [0.4444444444444444, \"#bd3786\"], [0.5555555555555556, \"#d8576b\"], [0.6666666666666666, \"#ed7953\"], [0.7777777777777778, \"#fb9f3a\"], [0.8888888888888888, \"#fdca26\"], [1.0, \"#f0f921\"]], \"type\": \"contour\"}], \"contourcarpet\": [{\"colorbar\": {\"outlinewidth\": 0, \"ticks\": \"\"}, \"type\": \"contourcarpet\"}], \"heatmap\": [{\"colorbar\": {\"outlinewidth\": 0, \"ticks\": \"\"}, \"colorscale\": [[0.0, \"#0d0887\"], [0.1111111111111111, \"#46039f\"], [0.2222222222222222, \"#7201a8\"], [0.3333333333333333, \"#9c179e\"], [0.4444444444444444, \"#bd3786\"], [0.5555555555555556, \"#d8576b\"], [0.6666666666666666, \"#ed7953\"], [0.7777777777777778, \"#fb9f3a\"], [0.8888888888888888, \"#fdca26\"], [1.0, \"#f0f921\"]], \"type\": \"heatmap\"}], \"heatmapgl\": [{\"colorbar\": {\"outlinewidth\": 0, \"ticks\": \"\"}, \"colorscale\": [[0.0, \"#0d0887\"], [0.1111111111111111, \"#46039f\"], [0.2222222222222222, \"#7201a8\"], [0.3333333333333333, \"#9c179e\"], [0.4444444444444444, \"#bd3786\"], [0.5555555555555556, \"#d8576b\"], [0.6666666666666666, \"#ed7953\"], [0.7777777777777778, \"#fb9f3a\"], [0.8888888888888888, \"#fdca26\"], [1.0, \"#f0f921\"]], \"type\": \"heatmapgl\"}], \"histogram\": [{\"marker\": {\"colorbar\": {\"outlinewidth\": 0, \"ticks\": \"\"}}, \"type\": \"histogram\"}], \"histogram2d\": [{\"colorbar\": {\"outlinewidth\": 0, \"ticks\": \"\"}, \"colorscale\": [[0.0, \"#0d0887\"], [0.1111111111111111, \"#46039f\"], [0.2222222222222222, \"#7201a8\"], [0.3333333333333333, \"#9c179e\"], [0.4444444444444444, \"#bd3786\"], [0.5555555555555556, \"#d8576b\"], [0.6666666666666666, \"#ed7953\"], [0.7777777777777778, \"#fb9f3a\"], [0.8888888888888888, \"#fdca26\"], [1.0, \"#f0f921\"]], \"type\": \"histogram2d\"}], \"histogram2dcontour\": [{\"colorbar\": {\"outlinewidth\": 0, \"ticks\": \"\"}, \"colorscale\": [[0.0, \"#0d0887\"], [0.1111111111111111, \"#46039f\"], [0.2222222222222222, \"#7201a8\"], [0.3333333333333333, \"#9c179e\"], [0.4444444444444444, \"#bd3786\"], [0.5555555555555556, \"#d8576b\"], [0.6666666666666666, \"#ed7953\"], [0.7777777777777778, \"#fb9f3a\"], [0.8888888888888888, \"#fdca26\"], [1.0, \"#f0f921\"]], \"type\": \"histogram2dcontour\"}], \"mesh3d\": [{\"colorbar\": {\"outlinewidth\": 0, \"ticks\": \"\"}, \"type\": \"mesh3d\"}], \"parcoords\": [{\"line\": {\"colorbar\": {\"outlinewidth\": 0, \"ticks\": \"\"}}, \"type\": \"parcoords\"}], \"pie\": [{\"automargin\": true, \"type\": \"pie\"}], \"scatter\": [{\"marker\": {\"colorbar\": {\"outlinewidth\": 0, \"ticks\": \"\"}}, \"type\": \"scatter\"}], \"scatter3d\": [{\"line\": {\"colorbar\": {\"outlinewidth\": 0, \"ticks\": \"\"}}, \"marker\": {\"colorbar\": {\"outlinewidth\": 0, \"ticks\": \"\"}}, \"type\": \"scatter3d\"}], \"scattercarpet\": [{\"marker\": {\"colorbar\": {\"outlinewidth\": 0, \"ticks\": \"\"}}, \"type\": \"scattercarpet\"}], \"scattergeo\": [{\"marker\": {\"colorbar\": {\"outlinewidth\": 0, \"ticks\": \"\"}}, \"type\": \"scattergeo\"}], \"scattergl\": [{\"marker\": {\"colorbar\": {\"outlinewidth\": 0, \"ticks\": \"\"}}, \"type\": \"scattergl\"}], \"scattermapbox\": [{\"marker\": {\"colorbar\": {\"outlinewidth\": 0, \"ticks\": \"\"}}, \"type\": \"scattermapbox\"}], \"scatterpolar\": [{\"marker\": {\"colorbar\": {\"outlinewidth\": 0, \"ticks\": \"\"}}, \"type\": \"scatterpolar\"}], \"scatterpolargl\": [{\"marker\": {\"colorbar\": {\"outlinewidth\": 0, \"ticks\": \"\"}}, \"type\": \"scatterpolargl\"}], \"scatterternary\": [{\"marker\": {\"colorbar\": {\"outlinewidth\": 0, \"ticks\": \"\"}}, \"type\": \"scatterternary\"}], \"surface\": [{\"colorbar\": {\"outlinewidth\": 0, \"ticks\": \"\"}, \"colorscale\": [[0.0, \"#0d0887\"], [0.1111111111111111, \"#46039f\"], [0.2222222222222222, \"#7201a8\"], [0.3333333333333333, \"#9c179e\"], [0.4444444444444444, \"#bd3786\"], [0.5555555555555556, \"#d8576b\"], [0.6666666666666666, \"#ed7953\"], [0.7777777777777778, \"#fb9f3a\"], [0.8888888888888888, \"#fdca26\"], [1.0, \"#f0f921\"]], \"type\": \"surface\"}], \"table\": [{\"cells\": {\"fill\": {\"color\": \"#EBF0F8\"}, \"line\": {\"color\": \"white\"}}, \"header\": {\"fill\": {\"color\": \"#C8D4E3\"}, \"line\": {\"color\": \"white\"}}, \"type\": \"table\"}]}, \"layout\": {\"annotationdefaults\": {\"arrowcolor\": \"#2a3f5f\", \"arrowhead\": 0, \"arrowwidth\": 1}, \"coloraxis\": {\"colorbar\": {\"outlinewidth\": 0, \"ticks\": \"\"}}, \"colorscale\": {\"diverging\": [[0, \"#8e0152\"], [0.1, \"#c51b7d\"], [0.2, \"#de77ae\"], [0.3, \"#f1b6da\"], [0.4, \"#fde0ef\"], [0.5, \"#f7f7f7\"], [0.6, \"#e6f5d0\"], [0.7, \"#b8e186\"], [0.8, \"#7fbc41\"], [0.9, \"#4d9221\"], [1, \"#276419\"]], \"sequential\": [[0.0, \"#0d0887\"], [0.1111111111111111, \"#46039f\"], [0.2222222222222222, \"#7201a8\"], [0.3333333333333333, \"#9c179e\"], [0.4444444444444444, \"#bd3786\"], [0.5555555555555556, \"#d8576b\"], [0.6666666666666666, \"#ed7953\"], [0.7777777777777778, \"#fb9f3a\"], [0.8888888888888888, \"#fdca26\"], [1.0, \"#f0f921\"]], \"sequentialminus\": [[0.0, \"#0d0887\"], [0.1111111111111111, \"#46039f\"], [0.2222222222222222, \"#7201a8\"], [0.3333333333333333, \"#9c179e\"], [0.4444444444444444, \"#bd3786\"], [0.5555555555555556, \"#d8576b\"], [0.6666666666666666, \"#ed7953\"], [0.7777777777777778, \"#fb9f3a\"], [0.8888888888888888, \"#fdca26\"], [1.0, \"#f0f921\"]]}, \"colorway\": [\"#636efa\", \"#EF553B\", \"#00cc96\", \"#ab63fa\", \"#FFA15A\", \"#19d3f3\", \"#FF6692\", \"#B6E880\", \"#FF97FF\", \"#FECB52\"], \"font\": {\"color\": \"#2a3f5f\"}, \"geo\": {\"bgcolor\": \"white\", \"lakecolor\": \"white\", \"landcolor\": \"#E5ECF6\", \"showlakes\": true, \"showland\": true, \"subunitcolor\": \"white\"}, \"hoverlabel\": {\"align\": \"left\"}, \"hovermode\": \"closest\", \"mapbox\": {\"style\": \"light\"}, \"paper_bgcolor\": \"white\", \"plot_bgcolor\": \"#E5ECF6\", \"polar\": {\"angularaxis\": {\"gridcolor\": \"white\", \"linecolor\": \"white\", \"ticks\": \"\"}, \"bgcolor\": \"#E5ECF6\", \"radialaxis\": {\"gridcolor\": \"white\", \"linecolor\": \"white\", \"ticks\": \"\"}}, \"scene\": {\"xaxis\": {\"backgroundcolor\": \"#E5ECF6\", \"gridcolor\": \"white\", \"gridwidth\": 2, \"linecolor\": \"white\", \"showbackground\": true, \"ticks\": \"\", \"zerolinecolor\": \"white\"}, \"yaxis\": {\"backgroundcolor\": \"#E5ECF6\", \"gridcolor\": \"white\", \"gridwidth\": 2, \"linecolor\": \"white\", \"showbackground\": true, \"ticks\": \"\", \"zerolinecolor\": \"white\"}, \"zaxis\": {\"backgroundcolor\": \"#E5ECF6\", \"gridcolor\": \"white\", \"gridwidth\": 2, \"linecolor\": \"white\", \"showbackground\": true, \"ticks\": \"\", \"zerolinecolor\": \"white\"}}, \"shapedefaults\": {\"line\": {\"color\": \"#2a3f5f\"}}, \"ternary\": {\"aaxis\": {\"gridcolor\": \"white\", \"linecolor\": \"white\", \"ticks\": \"\"}, \"baxis\": {\"gridcolor\": \"white\", \"linecolor\": \"white\", \"ticks\": \"\"}, \"bgcolor\": \"#E5ECF6\", \"caxis\": {\"gridcolor\": \"white\", \"linecolor\": \"white\", \"ticks\": \"\"}}, \"title\": {\"x\": 0.05}, \"xaxis\": {\"automargin\": true, \"gridcolor\": \"white\", \"linecolor\": \"white\", \"ticks\": \"\", \"title\": {\"standoff\": 15}, \"zerolinecolor\": \"white\", \"zerolinewidth\": 2}, \"yaxis\": {\"automargin\": true, \"gridcolor\": \"white\", \"linecolor\": \"white\", \"ticks\": \"\", \"title\": {\"standoff\": 15}, \"zerolinecolor\": \"white\", \"zerolinewidth\": 2}}}, \"title\": {\"font\": {\"color\": \"#4D5663\"}}, \"xaxis\": {\"gridcolor\": \"#E1E5ED\", \"showgrid\": true, \"tickfont\": {\"color\": \"#4D5663\"}, \"title\": {\"font\": {\"color\": \"#4D5663\"}, \"text\": \"\"}, \"zerolinecolor\": \"#E1E5ED\"}, \"xaxis2\": {\"anchor\": \"y2\", \"gridcolor\": \"#E1E5ED\", \"showgrid\": true, \"showticklabels\": false, \"tickfont\": {\"color\": \"#4D5663\"}, \"title\": {\"font\": {\"color\": \"#4D5663\"}, \"text\": \"\"}, \"zerolinecolor\": \"#E1E5ED\"}, \"yaxis\": {\"domain\": [0.3, 1], \"gridcolor\": \"#E1E5ED\", \"showgrid\": true, \"tickfont\": {\"color\": \"#4D5663\"}, \"title\": {\"font\": {\"color\": \"#4D5663\"}, \"text\": \"\"}, \"zerolinecolor\": \"#E1E5ED\"}, \"yaxis2\": {\"domain\": [0, 0.25], \"gridcolor\": \"#E1E5ED\", \"showgrid\": true, \"tickfont\": {\"color\": \"#4D5663\"}, \"title\": {\"font\": {\"color\": \"#4D5663\"}, \"text\": \"Spread\"}, \"zerolinecolor\": \"#E1E5ED\"}},\n",
       "                        {\"showLink\": true, \"linkText\": \"Export to plot.ly\", \"plotlyServerURL\": \"https://plot.ly\", \"responsive\": true}\n",
       "                    ).then(function(){\n",
       "                            \n",
       "var gd = document.getElementById('996a198a-4d75-48c8-bfff-3418f8457239');\n",
       "var x = new MutationObserver(function (mutations, observer) {{\n",
       "        var display = window.getComputedStyle(gd).display;\n",
       "        if (!display || display === 'none') {{\n",
       "            console.log([gd, 'removed!']);\n",
       "            Plotly.purge(gd);\n",
       "            observer.disconnect();\n",
       "        }}\n",
       "}});\n",
       "\n",
       "// Listen for the removal of the full notebook cells\n",
       "var notebookContainer = gd.closest('#notebook-container');\n",
       "if (notebookContainer) {{\n",
       "    x.observe(notebookContainer, {childList: true});\n",
       "}}\n",
       "\n",
       "// Listen for the clearing of the current output cell\n",
       "var outputEl = gd.closest('.output');\n",
       "if (outputEl) {{\n",
       "    x.observe(outputEl, {childList: true});\n",
       "}}\n",
       "\n",
       "                        })\n",
       "                };\n",
       "                });\n",
       "            </script>\n",
       "        </div>"
      ]
     },
     "metadata": {},
     "output_type": "display_data"
    }
   ],
   "source": [
    "df.iplot(kind='spread')"
   ]
  },
  {
   "cell_type": "code",
   "execution_count": 25,
   "metadata": {},
   "outputs": [
    {
     "data": {
      "application/vnd.plotly.v1+json": {
       "config": {
        "linkText": "Export to plot.ly",
        "plotlyServerURL": "https://plot.ly",
        "showLink": true
       },
       "data": [
        {
         "marker": {
          "color": [
           "rgb(255, 153, 51)",
           "rgb(55, 128, 191)",
           "rgb(50, 171, 96)",
           "rgb(128, 0, 128)",
           "rgb(219, 64, 82)",
           "rgb(0, 128, 128)",
           "rgb(255, 255, 51)",
           "rgb(128, 128, 0)",
           "rgb(251, 128, 114)",
           "rgb(128, 177, 211)"
          ],
          "line": {
           "width": 1.3
          },
          "size": [
           74,
           36,
           98,
           34,
           64,
           96,
           60,
           55,
           52,
           62,
           41,
           91,
           71,
           93,
           41,
           52,
           100,
           80,
           78,
           88,
           62,
           91,
           38,
           76,
           47,
           112,
           72,
           63,
           50,
           67,
           80,
           67,
           75,
           37,
           45,
           45,
           27,
           75,
           77,
           107,
           60,
           39,
           51,
           70,
           91,
           75,
           70,
           83,
           60,
           45,
           63,
           91,
           46,
           85,
           69,
           70,
           85,
           34,
           32,
           52,
           60,
           81,
           69,
           12,
           97,
           71,
           68,
           48,
           72,
           46,
           52,
           86,
           84,
           75,
           74,
           44,
           66,
           81,
           72,
           77,
           84,
           57,
           60,
           84,
           45,
           73,
           88,
           19,
           73,
           59,
           52,
           28,
           37,
           63,
           65,
           56,
           48,
           60,
           56,
           42
          ],
          "symbol": "circle"
         },
         "mode": "markers",
         "text": "",
         "type": "scatter",
         "x": [
          0.7384849679917865,
          -0.4739703576787497,
          -1.2410850999181424,
          0.011239248866355677,
          -0.3023127905230943,
          0.2363230440172158,
          -0.28402355339350155,
          0.9399206409610732,
          0.7622389377177152,
          0.9498089256425105,
          -1.6162083558302955,
          0.9646435176708447,
          0.6614496914739366,
          -1.716143334033692,
          -2.5356915148878794,
          -0.9617606145051862,
          0.008293435242292549,
          1.4810906706268816,
          0.6930911578507049,
          0.7517083996567843,
          1.6773600899238656,
          0.20023565995701395,
          -0.4862336432496669,
          0.6424563113780488,
          1.0529264632088229,
          -0.5194348158769179,
          0.5193794476182205,
          -0.2177636551563566,
          0.5730394684480788,
          0.8894265882891824,
          0.16574773044920646,
          -0.36556200969439046,
          -0.6371054172325357,
          1.1301373234143273,
          -0.3552754866053425,
          -0.7883959295021864,
          0.5859129449503426,
          -1.3343892432421331,
          -0.21179498740280153,
          0.8445155577573598,
          -1.0158186524593766,
          1.046865972107086,
          1.35629825666338,
          1.2275847492949927,
          -1.8092078608463722,
          0.3104716386755969,
          1.9439385481339027,
          -0.046302866157695736,
          0.9939623927497057,
          -1.5237946534936748,
          -1.3326917554580766,
          2.4142179028316892,
          0.04185598515241913,
          -2.1987326086021013,
          0.23139778756142068,
          0.9666403300832923,
          -0.24296102909533798,
          -0.6476057938239268,
          -0.16151360123863254,
          0.4793347634889624,
          0.6347851945989572,
          0.8434974936512513,
          1.002062963811421,
          1.2616989085150399,
          -0.4796951126108852,
          -1.0526870741532763,
          -1.19889718235249,
          -0.8743996784021727,
          0.9033046003458987,
          -1.514389455518979,
          -0.9101640903693848,
          1.3029787614274848,
          -0.574457267580267,
          -1.1532287536452923,
          -1.9252554195383396,
          1.5403188122329121,
          -0.6187670029735031,
          1.7146672083316403,
          1.2440564828005858,
          -0.0009091919227137812,
          1.1007579242326673,
          0.6006154386851078,
          -1.1507471833784182,
          -0.7789990876013348,
          -0.28419337049955345,
          1.0236872992597577,
          0.7399035390241175,
          0.1545230603764189,
          -1.2790224177216212,
          0.8595009913364225,
          0.2626145547074289,
          0.553328600134025,
          0.2672852048766201,
          -0.8914354807363999,
          0.5002622086866662,
          0.3346114667624826,
          -0.8529924982020634,
          1.339333316246086,
          0.5939467712682505,
          -1.3180613570001438
         ],
         "y": [
          -0.22246154249852684,
          -0.011662737015524104,
          0.7002550390215904,
          -0.2088604533672652,
          0.2787572766419977,
          0.34604688919031246,
          0.3289741381728799,
          -1.4546634160557221,
          0.6591005023770535,
          1.6307541996396775,
          0.3537425977973349,
          0.35489662287960494,
          -1.2552285412285955,
          0.7766227724788735,
          0.7313851441745576,
          0.17409712272179598,
          -0.558850148283852,
          -0.18278009610374715,
          -0.4385690580727113,
          -1.1979389827605196,
          0.21153250433833218,
          0.7543561045168725,
          0.10568114726276448,
          1.4740937158560674,
          0.9652011233966097,
          -0.23486161961194427,
          -1.389623772561859,
          0.30668566443217743,
          1.1120348830089202,
          0.46831830167324723,
          -0.5991384580070195,
          -0.7034819235937314,
          -0.005756903041385128,
          -1.1456182321306265,
          0.031447866394256334,
          1.4440326575276348,
          -0.1595369128971009,
          -0.46006264151509857,
          -1.2419810080488065,
          0.4424990438592372,
          -0.45458918117909897,
          0.07040854588577262,
          0.535026123128374,
          -2.7627953832152032,
          -0.3566709243240767,
          -0.2779553288515251,
          -0.5499009597665894,
          -0.1278460935717795,
          1.2186892425013678,
          -0.1565647499422839,
          -1.1879500510181082,
          -0.4304626168115283,
          0.4839416813547892,
          0.1542255059732776,
          -1.5231298483752214,
          1.5886158111510897,
          1.1141356720888698,
          -0.7321655368474803,
          -1.8814304721270192,
          1.4635612494042156,
          -1.9827593304106776,
          0.36790536391933965,
          -1.0843989162324759,
          -0.13268326375570524,
          -1.6066444790362937,
          -0.19722633200110679,
          0.0003473747000489338,
          0.7826322058019856,
          0.0046955420792266205,
          1.7155986699348522,
          -0.7952410822232646,
          0.4882204326033132,
          1.6053990972634442,
          -0.08503043769723694,
          0.6981169497045339,
          0.4718828971526396,
          -1.2029461823427046,
          0.052845734585076666,
          0.9822259990893973,
          -0.8590769849077312,
          -0.04120464990107362,
          -1.7569650582262712,
          1.1397519733719323,
          -0.6312149218917715,
          -0.046107887891385216,
          0.24742340686524372,
          1.5567864402222436,
          -0.37985498147004226,
          -0.9037102602281021,
          0.49753117291240284,
          0.5670835787226005,
          -0.38057329716763133,
          1.3577291622340146,
          0.7109426758026244,
          0.26514239168730397,
          -1.2476736047793413,
          -0.44164479753864827,
          -0.033615157654650896,
          0.5647092086237513,
          -0.511942159121852
         ]
        }
       ],
       "layout": {
        "legend": {
         "bgcolor": "#F5F6F9",
         "font": {
          "color": "#4D5663"
         }
        },
        "paper_bgcolor": "#F5F6F9",
        "plot_bgcolor": "#F5F6F9",
        "template": {
         "data": {
          "bar": [
           {
            "error_x": {
             "color": "#2a3f5f"
            },
            "error_y": {
             "color": "#2a3f5f"
            },
            "marker": {
             "line": {
              "color": "#E5ECF6",
              "width": 0.5
             }
            },
            "type": "bar"
           }
          ],
          "barpolar": [
           {
            "marker": {
             "line": {
              "color": "#E5ECF6",
              "width": 0.5
             }
            },
            "type": "barpolar"
           }
          ],
          "carpet": [
           {
            "aaxis": {
             "endlinecolor": "#2a3f5f",
             "gridcolor": "white",
             "linecolor": "white",
             "minorgridcolor": "white",
             "startlinecolor": "#2a3f5f"
            },
            "baxis": {
             "endlinecolor": "#2a3f5f",
             "gridcolor": "white",
             "linecolor": "white",
             "minorgridcolor": "white",
             "startlinecolor": "#2a3f5f"
            },
            "type": "carpet"
           }
          ],
          "choropleth": [
           {
            "colorbar": {
             "outlinewidth": 0,
             "ticks": ""
            },
            "type": "choropleth"
           }
          ],
          "contour": [
           {
            "colorbar": {
             "outlinewidth": 0,
             "ticks": ""
            },
            "colorscale": [
             [
              0,
              "#0d0887"
             ],
             [
              0.1111111111111111,
              "#46039f"
             ],
             [
              0.2222222222222222,
              "#7201a8"
             ],
             [
              0.3333333333333333,
              "#9c179e"
             ],
             [
              0.4444444444444444,
              "#bd3786"
             ],
             [
              0.5555555555555556,
              "#d8576b"
             ],
             [
              0.6666666666666666,
              "#ed7953"
             ],
             [
              0.7777777777777778,
              "#fb9f3a"
             ],
             [
              0.8888888888888888,
              "#fdca26"
             ],
             [
              1,
              "#f0f921"
             ]
            ],
            "type": "contour"
           }
          ],
          "contourcarpet": [
           {
            "colorbar": {
             "outlinewidth": 0,
             "ticks": ""
            },
            "type": "contourcarpet"
           }
          ],
          "heatmap": [
           {
            "colorbar": {
             "outlinewidth": 0,
             "ticks": ""
            },
            "colorscale": [
             [
              0,
              "#0d0887"
             ],
             [
              0.1111111111111111,
              "#46039f"
             ],
             [
              0.2222222222222222,
              "#7201a8"
             ],
             [
              0.3333333333333333,
              "#9c179e"
             ],
             [
              0.4444444444444444,
              "#bd3786"
             ],
             [
              0.5555555555555556,
              "#d8576b"
             ],
             [
              0.6666666666666666,
              "#ed7953"
             ],
             [
              0.7777777777777778,
              "#fb9f3a"
             ],
             [
              0.8888888888888888,
              "#fdca26"
             ],
             [
              1,
              "#f0f921"
             ]
            ],
            "type": "heatmap"
           }
          ],
          "heatmapgl": [
           {
            "colorbar": {
             "outlinewidth": 0,
             "ticks": ""
            },
            "colorscale": [
             [
              0,
              "#0d0887"
             ],
             [
              0.1111111111111111,
              "#46039f"
             ],
             [
              0.2222222222222222,
              "#7201a8"
             ],
             [
              0.3333333333333333,
              "#9c179e"
             ],
             [
              0.4444444444444444,
              "#bd3786"
             ],
             [
              0.5555555555555556,
              "#d8576b"
             ],
             [
              0.6666666666666666,
              "#ed7953"
             ],
             [
              0.7777777777777778,
              "#fb9f3a"
             ],
             [
              0.8888888888888888,
              "#fdca26"
             ],
             [
              1,
              "#f0f921"
             ]
            ],
            "type": "heatmapgl"
           }
          ],
          "histogram": [
           {
            "marker": {
             "colorbar": {
              "outlinewidth": 0,
              "ticks": ""
             }
            },
            "type": "histogram"
           }
          ],
          "histogram2d": [
           {
            "colorbar": {
             "outlinewidth": 0,
             "ticks": ""
            },
            "colorscale": [
             [
              0,
              "#0d0887"
             ],
             [
              0.1111111111111111,
              "#46039f"
             ],
             [
              0.2222222222222222,
              "#7201a8"
             ],
             [
              0.3333333333333333,
              "#9c179e"
             ],
             [
              0.4444444444444444,
              "#bd3786"
             ],
             [
              0.5555555555555556,
              "#d8576b"
             ],
             [
              0.6666666666666666,
              "#ed7953"
             ],
             [
              0.7777777777777778,
              "#fb9f3a"
             ],
             [
              0.8888888888888888,
              "#fdca26"
             ],
             [
              1,
              "#f0f921"
             ]
            ],
            "type": "histogram2d"
           }
          ],
          "histogram2dcontour": [
           {
            "colorbar": {
             "outlinewidth": 0,
             "ticks": ""
            },
            "colorscale": [
             [
              0,
              "#0d0887"
             ],
             [
              0.1111111111111111,
              "#46039f"
             ],
             [
              0.2222222222222222,
              "#7201a8"
             ],
             [
              0.3333333333333333,
              "#9c179e"
             ],
             [
              0.4444444444444444,
              "#bd3786"
             ],
             [
              0.5555555555555556,
              "#d8576b"
             ],
             [
              0.6666666666666666,
              "#ed7953"
             ],
             [
              0.7777777777777778,
              "#fb9f3a"
             ],
             [
              0.8888888888888888,
              "#fdca26"
             ],
             [
              1,
              "#f0f921"
             ]
            ],
            "type": "histogram2dcontour"
           }
          ],
          "mesh3d": [
           {
            "colorbar": {
             "outlinewidth": 0,
             "ticks": ""
            },
            "type": "mesh3d"
           }
          ],
          "parcoords": [
           {
            "line": {
             "colorbar": {
              "outlinewidth": 0,
              "ticks": ""
             }
            },
            "type": "parcoords"
           }
          ],
          "pie": [
           {
            "automargin": true,
            "type": "pie"
           }
          ],
          "scatter": [
           {
            "marker": {
             "colorbar": {
              "outlinewidth": 0,
              "ticks": ""
             }
            },
            "type": "scatter"
           }
          ],
          "scatter3d": [
           {
            "line": {
             "colorbar": {
              "outlinewidth": 0,
              "ticks": ""
             }
            },
            "marker": {
             "colorbar": {
              "outlinewidth": 0,
              "ticks": ""
             }
            },
            "type": "scatter3d"
           }
          ],
          "scattercarpet": [
           {
            "marker": {
             "colorbar": {
              "outlinewidth": 0,
              "ticks": ""
             }
            },
            "type": "scattercarpet"
           }
          ],
          "scattergeo": [
           {
            "marker": {
             "colorbar": {
              "outlinewidth": 0,
              "ticks": ""
             }
            },
            "type": "scattergeo"
           }
          ],
          "scattergl": [
           {
            "marker": {
             "colorbar": {
              "outlinewidth": 0,
              "ticks": ""
             }
            },
            "type": "scattergl"
           }
          ],
          "scattermapbox": [
           {
            "marker": {
             "colorbar": {
              "outlinewidth": 0,
              "ticks": ""
             }
            },
            "type": "scattermapbox"
           }
          ],
          "scatterpolar": [
           {
            "marker": {
             "colorbar": {
              "outlinewidth": 0,
              "ticks": ""
             }
            },
            "type": "scatterpolar"
           }
          ],
          "scatterpolargl": [
           {
            "marker": {
             "colorbar": {
              "outlinewidth": 0,
              "ticks": ""
             }
            },
            "type": "scatterpolargl"
           }
          ],
          "scatterternary": [
           {
            "marker": {
             "colorbar": {
              "outlinewidth": 0,
              "ticks": ""
             }
            },
            "type": "scatterternary"
           }
          ],
          "surface": [
           {
            "colorbar": {
             "outlinewidth": 0,
             "ticks": ""
            },
            "colorscale": [
             [
              0,
              "#0d0887"
             ],
             [
              0.1111111111111111,
              "#46039f"
             ],
             [
              0.2222222222222222,
              "#7201a8"
             ],
             [
              0.3333333333333333,
              "#9c179e"
             ],
             [
              0.4444444444444444,
              "#bd3786"
             ],
             [
              0.5555555555555556,
              "#d8576b"
             ],
             [
              0.6666666666666666,
              "#ed7953"
             ],
             [
              0.7777777777777778,
              "#fb9f3a"
             ],
             [
              0.8888888888888888,
              "#fdca26"
             ],
             [
              1,
              "#f0f921"
             ]
            ],
            "type": "surface"
           }
          ],
          "table": [
           {
            "cells": {
             "fill": {
              "color": "#EBF0F8"
             },
             "line": {
              "color": "white"
             }
            },
            "header": {
             "fill": {
              "color": "#C8D4E3"
             },
             "line": {
              "color": "white"
             }
            },
            "type": "table"
           }
          ]
         },
         "layout": {
          "annotationdefaults": {
           "arrowcolor": "#2a3f5f",
           "arrowhead": 0,
           "arrowwidth": 1
          },
          "coloraxis": {
           "colorbar": {
            "outlinewidth": 0,
            "ticks": ""
           }
          },
          "colorscale": {
           "diverging": [
            [
             0,
             "#8e0152"
            ],
            [
             0.1,
             "#c51b7d"
            ],
            [
             0.2,
             "#de77ae"
            ],
            [
             0.3,
             "#f1b6da"
            ],
            [
             0.4,
             "#fde0ef"
            ],
            [
             0.5,
             "#f7f7f7"
            ],
            [
             0.6,
             "#e6f5d0"
            ],
            [
             0.7,
             "#b8e186"
            ],
            [
             0.8,
             "#7fbc41"
            ],
            [
             0.9,
             "#4d9221"
            ],
            [
             1,
             "#276419"
            ]
           ],
           "sequential": [
            [
             0,
             "#0d0887"
            ],
            [
             0.1111111111111111,
             "#46039f"
            ],
            [
             0.2222222222222222,
             "#7201a8"
            ],
            [
             0.3333333333333333,
             "#9c179e"
            ],
            [
             0.4444444444444444,
             "#bd3786"
            ],
            [
             0.5555555555555556,
             "#d8576b"
            ],
            [
             0.6666666666666666,
             "#ed7953"
            ],
            [
             0.7777777777777778,
             "#fb9f3a"
            ],
            [
             0.8888888888888888,
             "#fdca26"
            ],
            [
             1,
             "#f0f921"
            ]
           ],
           "sequentialminus": [
            [
             0,
             "#0d0887"
            ],
            [
             0.1111111111111111,
             "#46039f"
            ],
            [
             0.2222222222222222,
             "#7201a8"
            ],
            [
             0.3333333333333333,
             "#9c179e"
            ],
            [
             0.4444444444444444,
             "#bd3786"
            ],
            [
             0.5555555555555556,
             "#d8576b"
            ],
            [
             0.6666666666666666,
             "#ed7953"
            ],
            [
             0.7777777777777778,
             "#fb9f3a"
            ],
            [
             0.8888888888888888,
             "#fdca26"
            ],
            [
             1,
             "#f0f921"
            ]
           ]
          },
          "colorway": [
           "#636efa",
           "#EF553B",
           "#00cc96",
           "#ab63fa",
           "#FFA15A",
           "#19d3f3",
           "#FF6692",
           "#B6E880",
           "#FF97FF",
           "#FECB52"
          ],
          "font": {
           "color": "#2a3f5f"
          },
          "geo": {
           "bgcolor": "white",
           "lakecolor": "white",
           "landcolor": "#E5ECF6",
           "showlakes": true,
           "showland": true,
           "subunitcolor": "white"
          },
          "hoverlabel": {
           "align": "left"
          },
          "hovermode": "closest",
          "mapbox": {
           "style": "light"
          },
          "paper_bgcolor": "white",
          "plot_bgcolor": "#E5ECF6",
          "polar": {
           "angularaxis": {
            "gridcolor": "white",
            "linecolor": "white",
            "ticks": ""
           },
           "bgcolor": "#E5ECF6",
           "radialaxis": {
            "gridcolor": "white",
            "linecolor": "white",
            "ticks": ""
           }
          },
          "scene": {
           "xaxis": {
            "backgroundcolor": "#E5ECF6",
            "gridcolor": "white",
            "gridwidth": 2,
            "linecolor": "white",
            "showbackground": true,
            "ticks": "",
            "zerolinecolor": "white"
           },
           "yaxis": {
            "backgroundcolor": "#E5ECF6",
            "gridcolor": "white",
            "gridwidth": 2,
            "linecolor": "white",
            "showbackground": true,
            "ticks": "",
            "zerolinecolor": "white"
           },
           "zaxis": {
            "backgroundcolor": "#E5ECF6",
            "gridcolor": "white",
            "gridwidth": 2,
            "linecolor": "white",
            "showbackground": true,
            "ticks": "",
            "zerolinecolor": "white"
           }
          },
          "shapedefaults": {
           "line": {
            "color": "#2a3f5f"
           }
          },
          "ternary": {
           "aaxis": {
            "gridcolor": "white",
            "linecolor": "white",
            "ticks": ""
           },
           "baxis": {
            "gridcolor": "white",
            "linecolor": "white",
            "ticks": ""
           },
           "bgcolor": "#E5ECF6",
           "caxis": {
            "gridcolor": "white",
            "linecolor": "white",
            "ticks": ""
           }
          },
          "title": {
           "x": 0.05
          },
          "xaxis": {
           "automargin": true,
           "gridcolor": "white",
           "linecolor": "white",
           "ticks": "",
           "title": {
            "standoff": 15
           },
           "zerolinecolor": "white",
           "zerolinewidth": 2
          },
          "yaxis": {
           "automargin": true,
           "gridcolor": "white",
           "linecolor": "white",
           "ticks": "",
           "title": {
            "standoff": 15
           },
           "zerolinecolor": "white",
           "zerolinewidth": 2
          }
         }
        },
        "title": {
         "font": {
          "color": "#4D5663"
         }
        },
        "xaxis": {
         "gridcolor": "#E1E5ED",
         "showgrid": true,
         "tickfont": {
          "color": "#4D5663"
         },
         "title": {
          "font": {
           "color": "#4D5663"
          },
          "text": ""
         },
         "zerolinecolor": "#E1E5ED"
        },
        "yaxis": {
         "gridcolor": "#E1E5ED",
         "showgrid": true,
         "tickfont": {
          "color": "#4D5663"
         },
         "title": {
          "font": {
           "color": "#4D5663"
          },
          "text": ""
         },
         "zerolinecolor": "#E1E5ED"
        }
       }
      },
      "text/html": [
       "<div>\n",
       "        \n",
       "        \n",
       "            <div id=\"043aaee1-c7f2-4e3f-b4e1-6a73a0eeb458\" class=\"plotly-graph-div\" style=\"height:525px; width:100%;\"></div>\n",
       "            <script type=\"text/javascript\">\n",
       "                require([\"plotly\"], function(Plotly) {\n",
       "                    window.PLOTLYENV=window.PLOTLYENV || {};\n",
       "                    window.PLOTLYENV.BASE_URL='https://plot.ly';\n",
       "                    \n",
       "                if (document.getElementById(\"043aaee1-c7f2-4e3f-b4e1-6a73a0eeb458\")) {\n",
       "                    Plotly.newPlot(\n",
       "                        '043aaee1-c7f2-4e3f-b4e1-6a73a0eeb458',\n",
       "                        [{\"marker\": {\"color\": [\"rgb(255, 153, 51)\", \"rgb(55, 128, 191)\", \"rgb(50, 171, 96)\", \"rgb(128, 0, 128)\", \"rgb(219, 64, 82)\", \"rgb(0, 128, 128)\", \"rgb(255, 255, 51)\", \"rgb(128, 128, 0)\", \"rgb(251, 128, 114)\", \"rgb(128, 177, 211)\"], \"line\": {\"width\": 1.3}, \"size\": [74, 36, 98, 34, 64, 96, 60, 55, 52, 62, 41, 91, 71, 93, 41, 52, 100, 80, 78, 88, 62, 91, 38, 76, 47, 112, 72, 63, 50, 67, 80, 67, 75, 37, 45, 45, 27, 75, 77, 107, 60, 39, 51, 70, 91, 75, 70, 83, 60, 45, 63, 91, 46, 85, 69, 70, 85, 34, 32, 52, 60, 81, 69, 12, 97, 71, 68, 48, 72, 46, 52, 86, 84, 75, 74, 44, 66, 81, 72, 77, 84, 57, 60, 84, 45, 73, 88, 19, 73, 59, 52, 28, 37, 63, 65, 56, 48, 60, 56, 42], \"symbol\": \"circle\"}, \"mode\": \"markers\", \"text\": \"\", \"type\": \"scatter\", \"x\": [0.7384849679917865, -0.4739703576787497, -1.2410850999181424, 0.011239248866355677, -0.3023127905230943, 0.2363230440172158, -0.28402355339350155, 0.9399206409610732, 0.7622389377177152, 0.9498089256425105, -1.6162083558302955, 0.9646435176708447, 0.6614496914739366, -1.716143334033692, -2.5356915148878794, -0.9617606145051862, 0.008293435242292549, 1.4810906706268816, 0.6930911578507049, 0.7517083996567843, 1.6773600899238656, 0.20023565995701395, -0.4862336432496669, 0.6424563113780488, 1.0529264632088229, -0.5194348158769179, 0.5193794476182205, -0.2177636551563566, 0.5730394684480788, 0.8894265882891824, 0.16574773044920646, -0.36556200969439046, -0.6371054172325357, 1.1301373234143273, -0.3552754866053425, -0.7883959295021864, 0.5859129449503426, -1.3343892432421331, -0.21179498740280153, 0.8445155577573598, -1.0158186524593766, 1.046865972107086, 1.35629825666338, 1.2275847492949927, -1.8092078608463722, 0.3104716386755969, 1.9439385481339027, -0.046302866157695736, 0.9939623927497057, -1.5237946534936748, -1.3326917554580766, 2.4142179028316892, 0.04185598515241913, -2.1987326086021013, 0.23139778756142068, 0.9666403300832923, -0.24296102909533798, -0.6476057938239268, -0.16151360123863254, 0.4793347634889624, 0.6347851945989572, 0.8434974936512513, 1.002062963811421, 1.2616989085150399, -0.4796951126108852, -1.0526870741532763, -1.19889718235249, -0.8743996784021727, 0.9033046003458987, -1.514389455518979, -0.9101640903693848, 1.3029787614274848, -0.574457267580267, -1.1532287536452923, -1.9252554195383396, 1.5403188122329121, -0.6187670029735031, 1.7146672083316403, 1.2440564828005858, -0.0009091919227137812, 1.1007579242326673, 0.6006154386851078, -1.1507471833784182, -0.7789990876013348, -0.28419337049955345, 1.0236872992597577, 0.7399035390241175, 0.1545230603764189, -1.2790224177216212, 0.8595009913364225, 0.2626145547074289, 0.553328600134025, 0.2672852048766201, -0.8914354807363999, 0.5002622086866662, 0.3346114667624826, -0.8529924982020634, 1.339333316246086, 0.5939467712682505, -1.3180613570001438], \"y\": [-0.22246154249852684, -0.011662737015524104, 0.7002550390215904, -0.2088604533672652, 0.2787572766419977, 0.34604688919031246, 0.3289741381728799, -1.4546634160557221, 0.6591005023770535, 1.6307541996396775, 0.3537425977973349, 0.35489662287960494, -1.2552285412285955, 0.7766227724788735, 0.7313851441745576, 0.17409712272179598, -0.558850148283852, -0.18278009610374715, -0.4385690580727113, -1.1979389827605196, 0.21153250433833218, 0.7543561045168725, 0.10568114726276448, 1.4740937158560674, 0.9652011233966097, -0.23486161961194427, -1.389623772561859, 0.30668566443217743, 1.1120348830089202, 0.46831830167324723, -0.5991384580070195, -0.7034819235937314, -0.005756903041385128, -1.1456182321306265, 0.031447866394256334, 1.4440326575276348, -0.1595369128971009, -0.46006264151509857, -1.2419810080488065, 0.4424990438592372, -0.45458918117909897, 0.07040854588577262, 0.535026123128374, -2.7627953832152032, -0.3566709243240767, -0.2779553288515251, -0.5499009597665894, -0.1278460935717795, 1.2186892425013678, -0.1565647499422839, -1.1879500510181082, -0.4304626168115283, 0.4839416813547892, 0.1542255059732776, -1.5231298483752214, 1.5886158111510897, 1.1141356720888698, -0.7321655368474803, -1.8814304721270192, 1.4635612494042156, -1.9827593304106776, 0.36790536391933965, -1.0843989162324759, -0.13268326375570524, -1.6066444790362937, -0.19722633200110679, 0.0003473747000489338, 0.7826322058019856, 0.0046955420792266205, 1.7155986699348522, -0.7952410822232646, 0.4882204326033132, 1.6053990972634442, -0.08503043769723694, 0.6981169497045339, 0.4718828971526396, -1.2029461823427046, 0.052845734585076666, 0.9822259990893973, -0.8590769849077312, -0.04120464990107362, -1.7569650582262712, 1.1397519733719323, -0.6312149218917715, -0.046107887891385216, 0.24742340686524372, 1.5567864402222436, -0.37985498147004226, -0.9037102602281021, 0.49753117291240284, 0.5670835787226005, -0.38057329716763133, 1.3577291622340146, 0.7109426758026244, 0.26514239168730397, -1.2476736047793413, -0.44164479753864827, -0.033615157654650896, 0.5647092086237513, -0.511942159121852]}],\n",
       "                        {\"legend\": {\"bgcolor\": \"#F5F6F9\", \"font\": {\"color\": \"#4D5663\"}}, \"paper_bgcolor\": \"#F5F6F9\", \"plot_bgcolor\": \"#F5F6F9\", \"template\": {\"data\": {\"bar\": [{\"error_x\": {\"color\": \"#2a3f5f\"}, \"error_y\": {\"color\": \"#2a3f5f\"}, \"marker\": {\"line\": {\"color\": \"#E5ECF6\", \"width\": 0.5}}, \"type\": \"bar\"}], \"barpolar\": [{\"marker\": {\"line\": {\"color\": \"#E5ECF6\", \"width\": 0.5}}, \"type\": \"barpolar\"}], \"carpet\": [{\"aaxis\": {\"endlinecolor\": \"#2a3f5f\", \"gridcolor\": \"white\", \"linecolor\": \"white\", \"minorgridcolor\": \"white\", \"startlinecolor\": \"#2a3f5f\"}, \"baxis\": {\"endlinecolor\": \"#2a3f5f\", \"gridcolor\": \"white\", \"linecolor\": \"white\", \"minorgridcolor\": \"white\", \"startlinecolor\": \"#2a3f5f\"}, \"type\": \"carpet\"}], \"choropleth\": [{\"colorbar\": {\"outlinewidth\": 0, \"ticks\": \"\"}, \"type\": \"choropleth\"}], \"contour\": [{\"colorbar\": {\"outlinewidth\": 0, \"ticks\": \"\"}, \"colorscale\": [[0.0, \"#0d0887\"], [0.1111111111111111, \"#46039f\"], [0.2222222222222222, \"#7201a8\"], [0.3333333333333333, \"#9c179e\"], [0.4444444444444444, \"#bd3786\"], [0.5555555555555556, \"#d8576b\"], [0.6666666666666666, \"#ed7953\"], [0.7777777777777778, \"#fb9f3a\"], [0.8888888888888888, \"#fdca26\"], [1.0, \"#f0f921\"]], \"type\": \"contour\"}], \"contourcarpet\": [{\"colorbar\": {\"outlinewidth\": 0, \"ticks\": \"\"}, \"type\": \"contourcarpet\"}], \"heatmap\": [{\"colorbar\": {\"outlinewidth\": 0, \"ticks\": \"\"}, \"colorscale\": [[0.0, \"#0d0887\"], [0.1111111111111111, \"#46039f\"], [0.2222222222222222, \"#7201a8\"], [0.3333333333333333, \"#9c179e\"], [0.4444444444444444, \"#bd3786\"], [0.5555555555555556, \"#d8576b\"], [0.6666666666666666, \"#ed7953\"], [0.7777777777777778, \"#fb9f3a\"], [0.8888888888888888, \"#fdca26\"], [1.0, \"#f0f921\"]], \"type\": \"heatmap\"}], \"heatmapgl\": [{\"colorbar\": {\"outlinewidth\": 0, \"ticks\": \"\"}, \"colorscale\": [[0.0, \"#0d0887\"], [0.1111111111111111, \"#46039f\"], [0.2222222222222222, \"#7201a8\"], [0.3333333333333333, \"#9c179e\"], [0.4444444444444444, \"#bd3786\"], [0.5555555555555556, \"#d8576b\"], [0.6666666666666666, \"#ed7953\"], [0.7777777777777778, \"#fb9f3a\"], [0.8888888888888888, \"#fdca26\"], [1.0, \"#f0f921\"]], \"type\": \"heatmapgl\"}], \"histogram\": [{\"marker\": {\"colorbar\": {\"outlinewidth\": 0, \"ticks\": \"\"}}, \"type\": \"histogram\"}], \"histogram2d\": [{\"colorbar\": {\"outlinewidth\": 0, \"ticks\": \"\"}, \"colorscale\": [[0.0, \"#0d0887\"], [0.1111111111111111, \"#46039f\"], [0.2222222222222222, \"#7201a8\"], [0.3333333333333333, \"#9c179e\"], [0.4444444444444444, \"#bd3786\"], [0.5555555555555556, \"#d8576b\"], [0.6666666666666666, \"#ed7953\"], [0.7777777777777778, \"#fb9f3a\"], [0.8888888888888888, \"#fdca26\"], [1.0, \"#f0f921\"]], \"type\": \"histogram2d\"}], \"histogram2dcontour\": [{\"colorbar\": {\"outlinewidth\": 0, \"ticks\": \"\"}, \"colorscale\": [[0.0, \"#0d0887\"], [0.1111111111111111, \"#46039f\"], [0.2222222222222222, \"#7201a8\"], [0.3333333333333333, \"#9c179e\"], [0.4444444444444444, \"#bd3786\"], [0.5555555555555556, \"#d8576b\"], [0.6666666666666666, \"#ed7953\"], [0.7777777777777778, \"#fb9f3a\"], [0.8888888888888888, \"#fdca26\"], [1.0, \"#f0f921\"]], \"type\": \"histogram2dcontour\"}], \"mesh3d\": [{\"colorbar\": {\"outlinewidth\": 0, \"ticks\": \"\"}, \"type\": \"mesh3d\"}], \"parcoords\": [{\"line\": {\"colorbar\": {\"outlinewidth\": 0, \"ticks\": \"\"}}, \"type\": \"parcoords\"}], \"pie\": [{\"automargin\": true, \"type\": \"pie\"}], \"scatter\": [{\"marker\": {\"colorbar\": {\"outlinewidth\": 0, \"ticks\": \"\"}}, \"type\": \"scatter\"}], \"scatter3d\": [{\"line\": {\"colorbar\": {\"outlinewidth\": 0, \"ticks\": \"\"}}, \"marker\": {\"colorbar\": {\"outlinewidth\": 0, \"ticks\": \"\"}}, \"type\": \"scatter3d\"}], \"scattercarpet\": [{\"marker\": {\"colorbar\": {\"outlinewidth\": 0, \"ticks\": \"\"}}, \"type\": \"scattercarpet\"}], \"scattergeo\": [{\"marker\": {\"colorbar\": {\"outlinewidth\": 0, \"ticks\": \"\"}}, \"type\": \"scattergeo\"}], \"scattergl\": [{\"marker\": {\"colorbar\": {\"outlinewidth\": 0, \"ticks\": \"\"}}, \"type\": \"scattergl\"}], \"scattermapbox\": [{\"marker\": {\"colorbar\": {\"outlinewidth\": 0, \"ticks\": \"\"}}, \"type\": \"scattermapbox\"}], \"scatterpolar\": [{\"marker\": {\"colorbar\": {\"outlinewidth\": 0, \"ticks\": \"\"}}, \"type\": \"scatterpolar\"}], \"scatterpolargl\": [{\"marker\": {\"colorbar\": {\"outlinewidth\": 0, \"ticks\": \"\"}}, \"type\": \"scatterpolargl\"}], \"scatterternary\": [{\"marker\": {\"colorbar\": {\"outlinewidth\": 0, \"ticks\": \"\"}}, \"type\": \"scatterternary\"}], \"surface\": [{\"colorbar\": {\"outlinewidth\": 0, \"ticks\": \"\"}, \"colorscale\": [[0.0, \"#0d0887\"], [0.1111111111111111, \"#46039f\"], [0.2222222222222222, \"#7201a8\"], [0.3333333333333333, \"#9c179e\"], [0.4444444444444444, \"#bd3786\"], [0.5555555555555556, \"#d8576b\"], [0.6666666666666666, \"#ed7953\"], [0.7777777777777778, \"#fb9f3a\"], [0.8888888888888888, \"#fdca26\"], [1.0, \"#f0f921\"]], \"type\": \"surface\"}], \"table\": [{\"cells\": {\"fill\": {\"color\": \"#EBF0F8\"}, \"line\": {\"color\": \"white\"}}, \"header\": {\"fill\": {\"color\": \"#C8D4E3\"}, \"line\": {\"color\": \"white\"}}, \"type\": \"table\"}]}, \"layout\": {\"annotationdefaults\": {\"arrowcolor\": \"#2a3f5f\", \"arrowhead\": 0, \"arrowwidth\": 1}, \"coloraxis\": {\"colorbar\": {\"outlinewidth\": 0, \"ticks\": \"\"}}, \"colorscale\": {\"diverging\": [[0, \"#8e0152\"], [0.1, \"#c51b7d\"], [0.2, \"#de77ae\"], [0.3, \"#f1b6da\"], [0.4, \"#fde0ef\"], [0.5, \"#f7f7f7\"], [0.6, \"#e6f5d0\"], [0.7, \"#b8e186\"], [0.8, \"#7fbc41\"], [0.9, \"#4d9221\"], [1, \"#276419\"]], \"sequential\": [[0.0, \"#0d0887\"], [0.1111111111111111, \"#46039f\"], [0.2222222222222222, \"#7201a8\"], [0.3333333333333333, \"#9c179e\"], [0.4444444444444444, \"#bd3786\"], [0.5555555555555556, \"#d8576b\"], [0.6666666666666666, \"#ed7953\"], [0.7777777777777778, \"#fb9f3a\"], [0.8888888888888888, \"#fdca26\"], [1.0, \"#f0f921\"]], \"sequentialminus\": [[0.0, \"#0d0887\"], [0.1111111111111111, \"#46039f\"], [0.2222222222222222, \"#7201a8\"], [0.3333333333333333, \"#9c179e\"], [0.4444444444444444, \"#bd3786\"], [0.5555555555555556, \"#d8576b\"], [0.6666666666666666, \"#ed7953\"], [0.7777777777777778, \"#fb9f3a\"], [0.8888888888888888, \"#fdca26\"], [1.0, \"#f0f921\"]]}, \"colorway\": [\"#636efa\", \"#EF553B\", \"#00cc96\", \"#ab63fa\", \"#FFA15A\", \"#19d3f3\", \"#FF6692\", \"#B6E880\", \"#FF97FF\", \"#FECB52\"], \"font\": {\"color\": \"#2a3f5f\"}, \"geo\": {\"bgcolor\": \"white\", \"lakecolor\": \"white\", \"landcolor\": \"#E5ECF6\", \"showlakes\": true, \"showland\": true, \"subunitcolor\": \"white\"}, \"hoverlabel\": {\"align\": \"left\"}, \"hovermode\": \"closest\", \"mapbox\": {\"style\": \"light\"}, \"paper_bgcolor\": \"white\", \"plot_bgcolor\": \"#E5ECF6\", \"polar\": {\"angularaxis\": {\"gridcolor\": \"white\", \"linecolor\": \"white\", \"ticks\": \"\"}, \"bgcolor\": \"#E5ECF6\", \"radialaxis\": {\"gridcolor\": \"white\", \"linecolor\": \"white\", \"ticks\": \"\"}}, \"scene\": {\"xaxis\": {\"backgroundcolor\": \"#E5ECF6\", \"gridcolor\": \"white\", \"gridwidth\": 2, \"linecolor\": \"white\", \"showbackground\": true, \"ticks\": \"\", \"zerolinecolor\": \"white\"}, \"yaxis\": {\"backgroundcolor\": \"#E5ECF6\", \"gridcolor\": \"white\", \"gridwidth\": 2, \"linecolor\": \"white\", \"showbackground\": true, \"ticks\": \"\", \"zerolinecolor\": \"white\"}, \"zaxis\": {\"backgroundcolor\": \"#E5ECF6\", \"gridcolor\": \"white\", \"gridwidth\": 2, \"linecolor\": \"white\", \"showbackground\": true, \"ticks\": \"\", \"zerolinecolor\": \"white\"}}, \"shapedefaults\": {\"line\": {\"color\": \"#2a3f5f\"}}, \"ternary\": {\"aaxis\": {\"gridcolor\": \"white\", \"linecolor\": \"white\", \"ticks\": \"\"}, \"baxis\": {\"gridcolor\": \"white\", \"linecolor\": \"white\", \"ticks\": \"\"}, \"bgcolor\": \"#E5ECF6\", \"caxis\": {\"gridcolor\": \"white\", \"linecolor\": \"white\", \"ticks\": \"\"}}, \"title\": {\"x\": 0.05}, \"xaxis\": {\"automargin\": true, \"gridcolor\": \"white\", \"linecolor\": \"white\", \"ticks\": \"\", \"title\": {\"standoff\": 15}, \"zerolinecolor\": \"white\", \"zerolinewidth\": 2}, \"yaxis\": {\"automargin\": true, \"gridcolor\": \"white\", \"linecolor\": \"white\", \"ticks\": \"\", \"title\": {\"standoff\": 15}, \"zerolinecolor\": \"white\", \"zerolinewidth\": 2}}}, \"title\": {\"font\": {\"color\": \"#4D5663\"}}, \"xaxis\": {\"gridcolor\": \"#E1E5ED\", \"showgrid\": true, \"tickfont\": {\"color\": \"#4D5663\"}, \"title\": {\"font\": {\"color\": \"#4D5663\"}, \"text\": \"\"}, \"zerolinecolor\": \"#E1E5ED\"}, \"yaxis\": {\"gridcolor\": \"#E1E5ED\", \"showgrid\": true, \"tickfont\": {\"color\": \"#4D5663\"}, \"title\": {\"font\": {\"color\": \"#4D5663\"}, \"text\": \"\"}, \"zerolinecolor\": \"#E1E5ED\"}},\n",
       "                        {\"showLink\": true, \"linkText\": \"Export to plot.ly\", \"plotlyServerURL\": \"https://plot.ly\", \"responsive\": true}\n",
       "                    ).then(function(){\n",
       "                            \n",
       "var gd = document.getElementById('043aaee1-c7f2-4e3f-b4e1-6a73a0eeb458');\n",
       "var x = new MutationObserver(function (mutations, observer) {{\n",
       "        var display = window.getComputedStyle(gd).display;\n",
       "        if (!display || display === 'none') {{\n",
       "            console.log([gd, 'removed!']);\n",
       "            Plotly.purge(gd);\n",
       "            observer.disconnect();\n",
       "        }}\n",
       "}});\n",
       "\n",
       "// Listen for the removal of the full notebook cells\n",
       "var notebookContainer = gd.closest('#notebook-container');\n",
       "if (notebookContainer) {{\n",
       "    x.observe(notebookContainer, {childList: true});\n",
       "}}\n",
       "\n",
       "// Listen for the clearing of the current output cell\n",
       "var outputEl = gd.closest('.output');\n",
       "if (outputEl) {{\n",
       "    x.observe(outputEl, {childList: true});\n",
       "}}\n",
       "\n",
       "                        })\n",
       "                };\n",
       "                });\n",
       "            </script>\n",
       "        </div>"
      ]
     },
     "metadata": {},
     "output_type": "display_data"
    }
   ],
   "source": [
    "df.iplot(kind='bubble',x='A',y='B',size='C')"
   ]
  },
  {
   "cell_type": "code",
   "execution_count": 26,
   "metadata": {},
   "outputs": [
    {
     "data": {
      "application/vnd.plotly.v1+json": {
       "config": {
        "linkText": "Export to plot.ly",
        "plotlyServerURL": "https://plot.ly",
        "showLink": true
       },
       "data": [
        {
         "histfunc": "count",
         "histnorm": "",
         "marker": {
          "color": "rgba(255, 153, 51, 1.0)",
          "line": {
           "color": "#4D5663",
           "width": 1.3
          }
         },
         "name": "A",
         "nbinsx": 10,
         "opacity": 0.8,
         "orientation": "v",
         "type": "histogram",
         "x": [
          0.7384849679917865,
          -0.4739703576787497,
          -1.2410850999181424,
          0.011239248866355677,
          -0.3023127905230943,
          0.2363230440172158,
          -0.28402355339350155,
          0.9399206409610732,
          0.7622389377177152,
          0.9498089256425105,
          -1.6162083558302955,
          0.9646435176708447,
          0.6614496914739366,
          -1.716143334033692,
          -2.5356915148878794,
          -0.9617606145051862,
          0.008293435242292549,
          1.4810906706268816,
          0.6930911578507049,
          0.7517083996567843,
          1.6773600899238656,
          0.20023565995701395,
          -0.4862336432496669,
          0.6424563113780488,
          1.0529264632088229,
          -0.5194348158769179,
          0.5193794476182205,
          -0.2177636551563566,
          0.5730394684480788,
          0.8894265882891824,
          0.16574773044920646,
          -0.36556200969439046,
          -0.6371054172325357,
          1.1301373234143273,
          -0.3552754866053425,
          -0.7883959295021864,
          0.5859129449503426,
          -1.3343892432421331,
          -0.21179498740280153,
          0.8445155577573598,
          -1.0158186524593766,
          1.046865972107086,
          1.35629825666338,
          1.2275847492949927,
          -1.8092078608463722,
          0.3104716386755969,
          1.9439385481339027,
          -0.046302866157695736,
          0.9939623927497057,
          -1.5237946534936748,
          -1.3326917554580766,
          2.4142179028316892,
          0.04185598515241913,
          -2.1987326086021013,
          0.23139778756142068,
          0.9666403300832923,
          -0.24296102909533798,
          -0.6476057938239268,
          -0.16151360123863254,
          0.4793347634889624,
          0.6347851945989572,
          0.8434974936512513,
          1.002062963811421,
          1.2616989085150399,
          -0.4796951126108852,
          -1.0526870741532763,
          -1.19889718235249,
          -0.8743996784021727,
          0.9033046003458987,
          -1.514389455518979,
          -0.9101640903693848,
          1.3029787614274848,
          -0.574457267580267,
          -1.1532287536452923,
          -1.9252554195383396,
          1.5403188122329121,
          -0.6187670029735031,
          1.7146672083316403,
          1.2440564828005858,
          -0.0009091919227137812,
          1.1007579242326673,
          0.6006154386851078,
          -1.1507471833784182,
          -0.7789990876013348,
          -0.28419337049955345,
          1.0236872992597577,
          0.7399035390241175,
          0.1545230603764189,
          -1.2790224177216212,
          0.8595009913364225,
          0.2626145547074289,
          0.553328600134025,
          0.2672852048766201,
          -0.8914354807363999,
          0.5002622086866662,
          0.3346114667624826,
          -0.8529924982020634,
          1.339333316246086,
          0.5939467712682505,
          -1.3180613570001438
         ],
         "xaxis": "x",
         "yaxis": "y"
        },
        {
         "line": {
          "color": "rgba(128, 128, 128, 1.0)",
          "dash": "solid",
          "shape": "linear",
          "width": 1.3
         },
         "marker": {
          "size": 2,
          "symbol": "circle"
         },
         "mode": "markers",
         "name": "A",
         "text": "",
         "type": "scatter",
         "x": [
          -0.22246154249852684,
          -0.011662737015524104,
          0.7002550390215904,
          -0.2088604533672652,
          0.2787572766419977,
          0.34604688919031246,
          0.3289741381728799,
          -1.4546634160557221,
          0.6591005023770535,
          1.6307541996396775,
          0.3537425977973349,
          0.35489662287960494,
          -1.2552285412285955,
          0.7766227724788735,
          0.7313851441745576,
          0.17409712272179598,
          -0.558850148283852,
          -0.18278009610374715,
          -0.4385690580727113,
          -1.1979389827605196,
          0.21153250433833218,
          0.7543561045168725,
          0.10568114726276448,
          1.4740937158560674,
          0.9652011233966097,
          -0.23486161961194427,
          -1.389623772561859,
          0.30668566443217743,
          1.1120348830089202,
          0.46831830167324723,
          -0.5991384580070195,
          -0.7034819235937314,
          -0.005756903041385128,
          -1.1456182321306265,
          0.031447866394256334,
          1.4440326575276348,
          -0.1595369128971009,
          -0.46006264151509857,
          -1.2419810080488065,
          0.4424990438592372,
          -0.45458918117909897,
          0.07040854588577262,
          0.535026123128374,
          -2.7627953832152032,
          -0.3566709243240767,
          -0.2779553288515251,
          -0.5499009597665894,
          -0.1278460935717795,
          1.2186892425013678,
          -0.1565647499422839,
          -1.1879500510181082,
          -0.4304626168115283,
          0.4839416813547892,
          0.1542255059732776,
          -1.5231298483752214,
          1.5886158111510897,
          1.1141356720888698,
          -0.7321655368474803,
          -1.8814304721270192,
          1.4635612494042156,
          -1.9827593304106776,
          0.36790536391933965,
          -1.0843989162324759,
          -0.13268326375570524,
          -1.6066444790362937,
          -0.19722633200110679,
          0.0003473747000489338,
          0.7826322058019856,
          0.0046955420792266205,
          1.7155986699348522,
          -0.7952410822232646,
          0.4882204326033132,
          1.6053990972634442,
          -0.08503043769723694,
          0.6981169497045339,
          0.4718828971526396,
          -1.2029461823427046,
          0.052845734585076666,
          0.9822259990893973,
          -0.8590769849077312,
          -0.04120464990107362,
          -1.7569650582262712,
          1.1397519733719323,
          -0.6312149218917715,
          -0.046107887891385216,
          0.24742340686524372,
          1.5567864402222436,
          -0.37985498147004226,
          -0.9037102602281021,
          0.49753117291240284,
          0.5670835787226005,
          -0.38057329716763133,
          1.3577291622340146,
          0.7109426758026244,
          0.26514239168730397,
          -1.2476736047793413,
          -0.44164479753864827,
          -0.033615157654650896,
          0.5647092086237513,
          -0.511942159121852
         ],
         "xaxis": "x2",
         "y": [
          0.7384849679917865,
          -0.4739703576787497,
          -1.2410850999181424,
          0.011239248866355677,
          -0.3023127905230943,
          0.2363230440172158,
          -0.28402355339350155,
          0.9399206409610732,
          0.7622389377177152,
          0.9498089256425105,
          -1.6162083558302955,
          0.9646435176708447,
          0.6614496914739366,
          -1.716143334033692,
          -2.5356915148878794,
          -0.9617606145051862,
          0.008293435242292549,
          1.4810906706268816,
          0.6930911578507049,
          0.7517083996567843,
          1.6773600899238656,
          0.20023565995701395,
          -0.4862336432496669,
          0.6424563113780488,
          1.0529264632088229,
          -0.5194348158769179,
          0.5193794476182205,
          -0.2177636551563566,
          0.5730394684480788,
          0.8894265882891824,
          0.16574773044920646,
          -0.36556200969439046,
          -0.6371054172325357,
          1.1301373234143273,
          -0.3552754866053425,
          -0.7883959295021864,
          0.5859129449503426,
          -1.3343892432421331,
          -0.21179498740280153,
          0.8445155577573598,
          -1.0158186524593766,
          1.046865972107086,
          1.35629825666338,
          1.2275847492949927,
          -1.8092078608463722,
          0.3104716386755969,
          1.9439385481339027,
          -0.046302866157695736,
          0.9939623927497057,
          -1.5237946534936748,
          -1.3326917554580766,
          2.4142179028316892,
          0.04185598515241913,
          -2.1987326086021013,
          0.23139778756142068,
          0.9666403300832923,
          -0.24296102909533798,
          -0.6476057938239268,
          -0.16151360123863254,
          0.4793347634889624,
          0.6347851945989572,
          0.8434974936512513,
          1.002062963811421,
          1.2616989085150399,
          -0.4796951126108852,
          -1.0526870741532763,
          -1.19889718235249,
          -0.8743996784021727,
          0.9033046003458987,
          -1.514389455518979,
          -0.9101640903693848,
          1.3029787614274848,
          -0.574457267580267,
          -1.1532287536452923,
          -1.9252554195383396,
          1.5403188122329121,
          -0.6187670029735031,
          1.7146672083316403,
          1.2440564828005858,
          -0.0009091919227137812,
          1.1007579242326673,
          0.6006154386851078,
          -1.1507471833784182,
          -0.7789990876013348,
          -0.28419337049955345,
          1.0236872992597577,
          0.7399035390241175,
          0.1545230603764189,
          -1.2790224177216212,
          0.8595009913364225,
          0.2626145547074289,
          0.553328600134025,
          0.2672852048766201,
          -0.8914354807363999,
          0.5002622086866662,
          0.3346114667624826,
          -0.8529924982020634,
          1.339333316246086,
          0.5939467712682505,
          -1.3180613570001438
         ],
         "yaxis": "y2"
        },
        {
         "line": {
          "color": "rgba(128, 128, 128, 1.0)",
          "dash": "solid",
          "shape": "linear",
          "width": 1.3
         },
         "marker": {
          "size": 2,
          "symbol": "circle"
         },
         "mode": "markers",
         "name": "A",
         "text": "",
         "type": "scatter",
         "x": [
          0.3327097562536328,
          -1.4989734130569317,
          1.5183796176928412,
          -1.602061657580099,
          -0.1223028920412938,
          1.386107101382463,
          -0.3415490358671324,
          -0.601432993832816,
          -0.7250537936410264,
          -0.25995473648644335,
          -1.2422490910298027,
          1.1742302850063706,
          0.18699966489887976,
          1.2662228253927414,
          -1.251580842922223,
          -0.7282265939616873,
          1.5879017425376987,
          0.6091752542674607,
          0.532904734654383,
          0.9974016167066104,
          -0.22956798544070212,
          1.183297268164457,
          -1.3935594197207464,
          0.4542969291289916,
          -0.9726084682689599,
          2.16182929854646,
          0.23301146780323445,
          -0.1960668029901525,
          -0.8074931010293909,
          -0.011076559186416392,
          0.6526452912513951,
          -0.011420869869149506,
          0.40729498041940865,
          -1.4608135825814752,
          -1.0743052935041677,
          -1.067976015767999,
          -1.939351767318399,
          0.393969215925592,
          0.4943040456489618,
          1.941061809173201,
          -0.3545833883013441,
          -1.3630645831972743,
          -0.7808083882051318,
          0.14828932191953875,
          1.1809111049948051,
          0.4120562337432101,
          0.15330385255565906,
          0.7818987007205416,
          -0.33260463389752076,
          -1.063339758890112,
          -0.2157947274815626,
          1.1668965390573576,
          -1.0062129725618667,
          0.8563185855337104,
          0.1134259884042055,
          0.16124262504863326,
          0.8723792648240553,
          -1.5779154984640098,
          -1.7194283418339689,
          -0.7438004534439292,
          -0.3193951573849327,
          0.6608682615796827,
          0.09013167999011383,
          -2.692713245513669,
          1.444401329767143,
          0.20119976229306244,
          0.032921153652011204,
          -0.9119279263574213,
          0.2590428295494773,
          -0.9967937373445537,
          -0.7374266907019629,
          0.9000772812275898,
          0.8388976395866024,
          0.3927020144340531,
          0.34208830190986056,
          -1.1218914946391794,
          -0.054772158324748514,
          0.6859401772791511,
          0.24968117808815007,
          0.48624800196760376,
          0.8227827699143407,
          -0.5065635151644389,
          -0.35418313928200706,
          0.8249811569719638,
          -1.0825434719372715,
          0.28888600126108677,
          1.0131678182935049,
          -2.3299803613355308,
          0.3107692820192783,
          -0.36606223453421693,
          -0.7307619449006915,
          -1.8881767667272429,
          -1.44561951925092,
          -0.1926918554444059,
          -0.10295541446747797,
          -0.5426933739808347,
          -0.9278063200643781,
          -0.31714133131824696,
          -0.5357162118674762,
          -1.193869715470299
         ],
         "xaxis": "x3",
         "y": [
          0.7384849679917865,
          -0.4739703576787497,
          -1.2410850999181424,
          0.011239248866355677,
          -0.3023127905230943,
          0.2363230440172158,
          -0.28402355339350155,
          0.9399206409610732,
          0.7622389377177152,
          0.9498089256425105,
          -1.6162083558302955,
          0.9646435176708447,
          0.6614496914739366,
          -1.716143334033692,
          -2.5356915148878794,
          -0.9617606145051862,
          0.008293435242292549,
          1.4810906706268816,
          0.6930911578507049,
          0.7517083996567843,
          1.6773600899238656,
          0.20023565995701395,
          -0.4862336432496669,
          0.6424563113780488,
          1.0529264632088229,
          -0.5194348158769179,
          0.5193794476182205,
          -0.2177636551563566,
          0.5730394684480788,
          0.8894265882891824,
          0.16574773044920646,
          -0.36556200969439046,
          -0.6371054172325357,
          1.1301373234143273,
          -0.3552754866053425,
          -0.7883959295021864,
          0.5859129449503426,
          -1.3343892432421331,
          -0.21179498740280153,
          0.8445155577573598,
          -1.0158186524593766,
          1.046865972107086,
          1.35629825666338,
          1.2275847492949927,
          -1.8092078608463722,
          0.3104716386755969,
          1.9439385481339027,
          -0.046302866157695736,
          0.9939623927497057,
          -1.5237946534936748,
          -1.3326917554580766,
          2.4142179028316892,
          0.04185598515241913,
          -2.1987326086021013,
          0.23139778756142068,
          0.9666403300832923,
          -0.24296102909533798,
          -0.6476057938239268,
          -0.16151360123863254,
          0.4793347634889624,
          0.6347851945989572,
          0.8434974936512513,
          1.002062963811421,
          1.2616989085150399,
          -0.4796951126108852,
          -1.0526870741532763,
          -1.19889718235249,
          -0.8743996784021727,
          0.9033046003458987,
          -1.514389455518979,
          -0.9101640903693848,
          1.3029787614274848,
          -0.574457267580267,
          -1.1532287536452923,
          -1.9252554195383396,
          1.5403188122329121,
          -0.6187670029735031,
          1.7146672083316403,
          1.2440564828005858,
          -0.0009091919227137812,
          1.1007579242326673,
          0.6006154386851078,
          -1.1507471833784182,
          -0.7789990876013348,
          -0.28419337049955345,
          1.0236872992597577,
          0.7399035390241175,
          0.1545230603764189,
          -1.2790224177216212,
          0.8595009913364225,
          0.2626145547074289,
          0.553328600134025,
          0.2672852048766201,
          -0.8914354807363999,
          0.5002622086866662,
          0.3346114667624826,
          -0.8529924982020634,
          1.339333316246086,
          0.5939467712682505,
          -1.3180613570001438
         ],
         "yaxis": "y3"
        },
        {
         "line": {
          "color": "rgba(128, 128, 128, 1.0)",
          "dash": "solid",
          "shape": "linear",
          "width": 1.3
         },
         "marker": {
          "size": 2,
          "symbol": "circle"
         },
         "mode": "markers",
         "name": "A",
         "text": "",
         "type": "scatter",
         "x": [
          1.006990415230797,
          -1.964224009771347,
          1.3656734904303878,
          -0.7193889981597499,
          -0.8171992346531632,
          0.5021579854133826,
          0.35360746817993566,
          0.5038180043335287,
          -0.2253065854925412,
          -1.4462053896103182,
          0.3861215592594124,
          0.17553505879195624,
          -0.773045807558028,
          0.13715218564236864,
          1.5918514617857802,
          -0.4541260388835454,
          -0.18374369785544023,
          -0.8468969582370742,
          0.5283326291655621,
          -0.3174351528315366,
          -1.0113652796135721,
          0.9554437511695475,
          0.5317592920635177,
          -1.1986891128069317,
          1.180012584596935,
          -1.367233734745869,
          1.4216979437389021,
          -0.9536445111054623,
          1.2214783934231426,
          -1.1852333113110671,
          0.49595433276191425,
          -0.45700591898119247,
          -1.1634992086301335,
          -0.13614299129424992,
          0.02864078911815982,
          -1.4482685079878088,
          -1.340073852456306,
          -0.8775196074063242,
          -0.5642131429299626,
          -0.15774696869111168,
          1.6033684846714356,
          -1.352154240820155,
          -1.948424273992968,
          -0.10923332834192306,
          -0.3466984292093084,
          1.0532876042637498,
          1.3965753639823184,
          -0.7739337356756031,
          -0.5389000139848649,
          -1.7735102893998769,
          0.7389552763546952,
          1.1560874109408732,
          -1.5135193096899042,
          -1.5296404603654188,
          -0.01811472250897168,
          -0.23981216790408158,
          1.05440571047474,
          -0.7269334496791185,
          -0.8487333258876862,
          -2.1362246634378965,
          0.7639994045130143,
          1.041339972611782,
          -0.6445210539291163,
          0.941398881539454,
          1.172472601402738,
          1.157144971904907,
          -0.0016700911030675986,
          -0.21367099215600008,
          0.544287382614512,
          -1.013023022204178,
          0.6653553768385813,
          -1.081995803987892,
          -0.40908139281268663,
          0.4469096983868547,
          -1.3070142630453834,
          -1.1335484106420068,
          -2.3398158121759938,
          1.4313050099281213,
          -2.231818743879048,
          -0.4804009515284093,
          -1.0390003724195962,
          -2.4086907714026657,
          1.5512854832772243,
          -1.3352871785495308,
          0.21023107076646222,
          -0.9080772668139966,
          1.0746116244508543,
          1.352082889036443,
          -0.1547880916645823,
          -1.1852507629309106,
          -1.3196289178696639,
          1.5416264834243936,
          0.22671561843620253,
          -2.183184432019304,
          -0.23289429388985733,
          0.3174235728119984,
          -1.6823920236896401,
          -0.9468513506631693,
          -1.6776217112530991,
          0.8099531353330475
         ],
         "xaxis": "x4",
         "y": [
          0.7384849679917865,
          -0.4739703576787497,
          -1.2410850999181424,
          0.011239248866355677,
          -0.3023127905230943,
          0.2363230440172158,
          -0.28402355339350155,
          0.9399206409610732,
          0.7622389377177152,
          0.9498089256425105,
          -1.6162083558302955,
          0.9646435176708447,
          0.6614496914739366,
          -1.716143334033692,
          -2.5356915148878794,
          -0.9617606145051862,
          0.008293435242292549,
          1.4810906706268816,
          0.6930911578507049,
          0.7517083996567843,
          1.6773600899238656,
          0.20023565995701395,
          -0.4862336432496669,
          0.6424563113780488,
          1.0529264632088229,
          -0.5194348158769179,
          0.5193794476182205,
          -0.2177636551563566,
          0.5730394684480788,
          0.8894265882891824,
          0.16574773044920646,
          -0.36556200969439046,
          -0.6371054172325357,
          1.1301373234143273,
          -0.3552754866053425,
          -0.7883959295021864,
          0.5859129449503426,
          -1.3343892432421331,
          -0.21179498740280153,
          0.8445155577573598,
          -1.0158186524593766,
          1.046865972107086,
          1.35629825666338,
          1.2275847492949927,
          -1.8092078608463722,
          0.3104716386755969,
          1.9439385481339027,
          -0.046302866157695736,
          0.9939623927497057,
          -1.5237946534936748,
          -1.3326917554580766,
          2.4142179028316892,
          0.04185598515241913,
          -2.1987326086021013,
          0.23139778756142068,
          0.9666403300832923,
          -0.24296102909533798,
          -0.6476057938239268,
          -0.16151360123863254,
          0.4793347634889624,
          0.6347851945989572,
          0.8434974936512513,
          1.002062963811421,
          1.2616989085150399,
          -0.4796951126108852,
          -1.0526870741532763,
          -1.19889718235249,
          -0.8743996784021727,
          0.9033046003458987,
          -1.514389455518979,
          -0.9101640903693848,
          1.3029787614274848,
          -0.574457267580267,
          -1.1532287536452923,
          -1.9252554195383396,
          1.5403188122329121,
          -0.6187670029735031,
          1.7146672083316403,
          1.2440564828005858,
          -0.0009091919227137812,
          1.1007579242326673,
          0.6006154386851078,
          -1.1507471833784182,
          -0.7789990876013348,
          -0.28419337049955345,
          1.0236872992597577,
          0.7399035390241175,
          0.1545230603764189,
          -1.2790224177216212,
          0.8595009913364225,
          0.2626145547074289,
          0.553328600134025,
          0.2672852048766201,
          -0.8914354807363999,
          0.5002622086866662,
          0.3346114667624826,
          -0.8529924982020634,
          1.339333316246086,
          0.5939467712682505,
          -1.3180613570001438
         ],
         "yaxis": "y4"
        },
        {
         "line": {
          "color": "rgba(128, 128, 128, 1.0)",
          "dash": "solid",
          "shape": "linear",
          "width": 1.3
         },
         "marker": {
          "size": 2,
          "symbol": "circle"
         },
         "mode": "markers",
         "name": "B",
         "text": "",
         "type": "scatter",
         "x": [
          0.7384849679917865,
          -0.4739703576787497,
          -1.2410850999181424,
          0.011239248866355677,
          -0.3023127905230943,
          0.2363230440172158,
          -0.28402355339350155,
          0.9399206409610732,
          0.7622389377177152,
          0.9498089256425105,
          -1.6162083558302955,
          0.9646435176708447,
          0.6614496914739366,
          -1.716143334033692,
          -2.5356915148878794,
          -0.9617606145051862,
          0.008293435242292549,
          1.4810906706268816,
          0.6930911578507049,
          0.7517083996567843,
          1.6773600899238656,
          0.20023565995701395,
          -0.4862336432496669,
          0.6424563113780488,
          1.0529264632088229,
          -0.5194348158769179,
          0.5193794476182205,
          -0.2177636551563566,
          0.5730394684480788,
          0.8894265882891824,
          0.16574773044920646,
          -0.36556200969439046,
          -0.6371054172325357,
          1.1301373234143273,
          -0.3552754866053425,
          -0.7883959295021864,
          0.5859129449503426,
          -1.3343892432421331,
          -0.21179498740280153,
          0.8445155577573598,
          -1.0158186524593766,
          1.046865972107086,
          1.35629825666338,
          1.2275847492949927,
          -1.8092078608463722,
          0.3104716386755969,
          1.9439385481339027,
          -0.046302866157695736,
          0.9939623927497057,
          -1.5237946534936748,
          -1.3326917554580766,
          2.4142179028316892,
          0.04185598515241913,
          -2.1987326086021013,
          0.23139778756142068,
          0.9666403300832923,
          -0.24296102909533798,
          -0.6476057938239268,
          -0.16151360123863254,
          0.4793347634889624,
          0.6347851945989572,
          0.8434974936512513,
          1.002062963811421,
          1.2616989085150399,
          -0.4796951126108852,
          -1.0526870741532763,
          -1.19889718235249,
          -0.8743996784021727,
          0.9033046003458987,
          -1.514389455518979,
          -0.9101640903693848,
          1.3029787614274848,
          -0.574457267580267,
          -1.1532287536452923,
          -1.9252554195383396,
          1.5403188122329121,
          -0.6187670029735031,
          1.7146672083316403,
          1.2440564828005858,
          -0.0009091919227137812,
          1.1007579242326673,
          0.6006154386851078,
          -1.1507471833784182,
          -0.7789990876013348,
          -0.28419337049955345,
          1.0236872992597577,
          0.7399035390241175,
          0.1545230603764189,
          -1.2790224177216212,
          0.8595009913364225,
          0.2626145547074289,
          0.553328600134025,
          0.2672852048766201,
          -0.8914354807363999,
          0.5002622086866662,
          0.3346114667624826,
          -0.8529924982020634,
          1.339333316246086,
          0.5939467712682505,
          -1.3180613570001438
         ],
         "xaxis": "x5",
         "y": [
          -0.22246154249852684,
          -0.011662737015524104,
          0.7002550390215904,
          -0.2088604533672652,
          0.2787572766419977,
          0.34604688919031246,
          0.3289741381728799,
          -1.4546634160557221,
          0.6591005023770535,
          1.6307541996396775,
          0.3537425977973349,
          0.35489662287960494,
          -1.2552285412285955,
          0.7766227724788735,
          0.7313851441745576,
          0.17409712272179598,
          -0.558850148283852,
          -0.18278009610374715,
          -0.4385690580727113,
          -1.1979389827605196,
          0.21153250433833218,
          0.7543561045168725,
          0.10568114726276448,
          1.4740937158560674,
          0.9652011233966097,
          -0.23486161961194427,
          -1.389623772561859,
          0.30668566443217743,
          1.1120348830089202,
          0.46831830167324723,
          -0.5991384580070195,
          -0.7034819235937314,
          -0.005756903041385128,
          -1.1456182321306265,
          0.031447866394256334,
          1.4440326575276348,
          -0.1595369128971009,
          -0.46006264151509857,
          -1.2419810080488065,
          0.4424990438592372,
          -0.45458918117909897,
          0.07040854588577262,
          0.535026123128374,
          -2.7627953832152032,
          -0.3566709243240767,
          -0.2779553288515251,
          -0.5499009597665894,
          -0.1278460935717795,
          1.2186892425013678,
          -0.1565647499422839,
          -1.1879500510181082,
          -0.4304626168115283,
          0.4839416813547892,
          0.1542255059732776,
          -1.5231298483752214,
          1.5886158111510897,
          1.1141356720888698,
          -0.7321655368474803,
          -1.8814304721270192,
          1.4635612494042156,
          -1.9827593304106776,
          0.36790536391933965,
          -1.0843989162324759,
          -0.13268326375570524,
          -1.6066444790362937,
          -0.19722633200110679,
          0.0003473747000489338,
          0.7826322058019856,
          0.0046955420792266205,
          1.7155986699348522,
          -0.7952410822232646,
          0.4882204326033132,
          1.6053990972634442,
          -0.08503043769723694,
          0.6981169497045339,
          0.4718828971526396,
          -1.2029461823427046,
          0.052845734585076666,
          0.9822259990893973,
          -0.8590769849077312,
          -0.04120464990107362,
          -1.7569650582262712,
          1.1397519733719323,
          -0.6312149218917715,
          -0.046107887891385216,
          0.24742340686524372,
          1.5567864402222436,
          -0.37985498147004226,
          -0.9037102602281021,
          0.49753117291240284,
          0.5670835787226005,
          -0.38057329716763133,
          1.3577291622340146,
          0.7109426758026244,
          0.26514239168730397,
          -1.2476736047793413,
          -0.44164479753864827,
          -0.033615157654650896,
          0.5647092086237513,
          -0.511942159121852
         ],
         "yaxis": "y5"
        },
        {
         "histfunc": "count",
         "histnorm": "",
         "marker": {
          "color": "rgba(55, 128, 191, 1.0)",
          "line": {
           "color": "#4D5663",
           "width": 1.3
          }
         },
         "name": "B",
         "nbinsx": 10,
         "opacity": 0.8,
         "orientation": "v",
         "type": "histogram",
         "x": [
          -0.22246154249852684,
          -0.011662737015524104,
          0.7002550390215904,
          -0.2088604533672652,
          0.2787572766419977,
          0.34604688919031246,
          0.3289741381728799,
          -1.4546634160557221,
          0.6591005023770535,
          1.6307541996396775,
          0.3537425977973349,
          0.35489662287960494,
          -1.2552285412285955,
          0.7766227724788735,
          0.7313851441745576,
          0.17409712272179598,
          -0.558850148283852,
          -0.18278009610374715,
          -0.4385690580727113,
          -1.1979389827605196,
          0.21153250433833218,
          0.7543561045168725,
          0.10568114726276448,
          1.4740937158560674,
          0.9652011233966097,
          -0.23486161961194427,
          -1.389623772561859,
          0.30668566443217743,
          1.1120348830089202,
          0.46831830167324723,
          -0.5991384580070195,
          -0.7034819235937314,
          -0.005756903041385128,
          -1.1456182321306265,
          0.031447866394256334,
          1.4440326575276348,
          -0.1595369128971009,
          -0.46006264151509857,
          -1.2419810080488065,
          0.4424990438592372,
          -0.45458918117909897,
          0.07040854588577262,
          0.535026123128374,
          -2.7627953832152032,
          -0.3566709243240767,
          -0.2779553288515251,
          -0.5499009597665894,
          -0.1278460935717795,
          1.2186892425013678,
          -0.1565647499422839,
          -1.1879500510181082,
          -0.4304626168115283,
          0.4839416813547892,
          0.1542255059732776,
          -1.5231298483752214,
          1.5886158111510897,
          1.1141356720888698,
          -0.7321655368474803,
          -1.8814304721270192,
          1.4635612494042156,
          -1.9827593304106776,
          0.36790536391933965,
          -1.0843989162324759,
          -0.13268326375570524,
          -1.6066444790362937,
          -0.19722633200110679,
          0.0003473747000489338,
          0.7826322058019856,
          0.0046955420792266205,
          1.7155986699348522,
          -0.7952410822232646,
          0.4882204326033132,
          1.6053990972634442,
          -0.08503043769723694,
          0.6981169497045339,
          0.4718828971526396,
          -1.2029461823427046,
          0.052845734585076666,
          0.9822259990893973,
          -0.8590769849077312,
          -0.04120464990107362,
          -1.7569650582262712,
          1.1397519733719323,
          -0.6312149218917715,
          -0.046107887891385216,
          0.24742340686524372,
          1.5567864402222436,
          -0.37985498147004226,
          -0.9037102602281021,
          0.49753117291240284,
          0.5670835787226005,
          -0.38057329716763133,
          1.3577291622340146,
          0.7109426758026244,
          0.26514239168730397,
          -1.2476736047793413,
          -0.44164479753864827,
          -0.033615157654650896,
          0.5647092086237513,
          -0.511942159121852
         ],
         "xaxis": "x6",
         "yaxis": "y6"
        },
        {
         "line": {
          "color": "rgba(128, 128, 128, 1.0)",
          "dash": "solid",
          "shape": "linear",
          "width": 1.3
         },
         "marker": {
          "size": 2,
          "symbol": "circle"
         },
         "mode": "markers",
         "name": "B",
         "text": "",
         "type": "scatter",
         "x": [
          0.3327097562536328,
          -1.4989734130569317,
          1.5183796176928412,
          -1.602061657580099,
          -0.1223028920412938,
          1.386107101382463,
          -0.3415490358671324,
          -0.601432993832816,
          -0.7250537936410264,
          -0.25995473648644335,
          -1.2422490910298027,
          1.1742302850063706,
          0.18699966489887976,
          1.2662228253927414,
          -1.251580842922223,
          -0.7282265939616873,
          1.5879017425376987,
          0.6091752542674607,
          0.532904734654383,
          0.9974016167066104,
          -0.22956798544070212,
          1.183297268164457,
          -1.3935594197207464,
          0.4542969291289916,
          -0.9726084682689599,
          2.16182929854646,
          0.23301146780323445,
          -0.1960668029901525,
          -0.8074931010293909,
          -0.011076559186416392,
          0.6526452912513951,
          -0.011420869869149506,
          0.40729498041940865,
          -1.4608135825814752,
          -1.0743052935041677,
          -1.067976015767999,
          -1.939351767318399,
          0.393969215925592,
          0.4943040456489618,
          1.941061809173201,
          -0.3545833883013441,
          -1.3630645831972743,
          -0.7808083882051318,
          0.14828932191953875,
          1.1809111049948051,
          0.4120562337432101,
          0.15330385255565906,
          0.7818987007205416,
          -0.33260463389752076,
          -1.063339758890112,
          -0.2157947274815626,
          1.1668965390573576,
          -1.0062129725618667,
          0.8563185855337104,
          0.1134259884042055,
          0.16124262504863326,
          0.8723792648240553,
          -1.5779154984640098,
          -1.7194283418339689,
          -0.7438004534439292,
          -0.3193951573849327,
          0.6608682615796827,
          0.09013167999011383,
          -2.692713245513669,
          1.444401329767143,
          0.20119976229306244,
          0.032921153652011204,
          -0.9119279263574213,
          0.2590428295494773,
          -0.9967937373445537,
          -0.7374266907019629,
          0.9000772812275898,
          0.8388976395866024,
          0.3927020144340531,
          0.34208830190986056,
          -1.1218914946391794,
          -0.054772158324748514,
          0.6859401772791511,
          0.24968117808815007,
          0.48624800196760376,
          0.8227827699143407,
          -0.5065635151644389,
          -0.35418313928200706,
          0.8249811569719638,
          -1.0825434719372715,
          0.28888600126108677,
          1.0131678182935049,
          -2.3299803613355308,
          0.3107692820192783,
          -0.36606223453421693,
          -0.7307619449006915,
          -1.8881767667272429,
          -1.44561951925092,
          -0.1926918554444059,
          -0.10295541446747797,
          -0.5426933739808347,
          -0.9278063200643781,
          -0.31714133131824696,
          -0.5357162118674762,
          -1.193869715470299
         ],
         "xaxis": "x7",
         "y": [
          -0.22246154249852684,
          -0.011662737015524104,
          0.7002550390215904,
          -0.2088604533672652,
          0.2787572766419977,
          0.34604688919031246,
          0.3289741381728799,
          -1.4546634160557221,
          0.6591005023770535,
          1.6307541996396775,
          0.3537425977973349,
          0.35489662287960494,
          -1.2552285412285955,
          0.7766227724788735,
          0.7313851441745576,
          0.17409712272179598,
          -0.558850148283852,
          -0.18278009610374715,
          -0.4385690580727113,
          -1.1979389827605196,
          0.21153250433833218,
          0.7543561045168725,
          0.10568114726276448,
          1.4740937158560674,
          0.9652011233966097,
          -0.23486161961194427,
          -1.389623772561859,
          0.30668566443217743,
          1.1120348830089202,
          0.46831830167324723,
          -0.5991384580070195,
          -0.7034819235937314,
          -0.005756903041385128,
          -1.1456182321306265,
          0.031447866394256334,
          1.4440326575276348,
          -0.1595369128971009,
          -0.46006264151509857,
          -1.2419810080488065,
          0.4424990438592372,
          -0.45458918117909897,
          0.07040854588577262,
          0.535026123128374,
          -2.7627953832152032,
          -0.3566709243240767,
          -0.2779553288515251,
          -0.5499009597665894,
          -0.1278460935717795,
          1.2186892425013678,
          -0.1565647499422839,
          -1.1879500510181082,
          -0.4304626168115283,
          0.4839416813547892,
          0.1542255059732776,
          -1.5231298483752214,
          1.5886158111510897,
          1.1141356720888698,
          -0.7321655368474803,
          -1.8814304721270192,
          1.4635612494042156,
          -1.9827593304106776,
          0.36790536391933965,
          -1.0843989162324759,
          -0.13268326375570524,
          -1.6066444790362937,
          -0.19722633200110679,
          0.0003473747000489338,
          0.7826322058019856,
          0.0046955420792266205,
          1.7155986699348522,
          -0.7952410822232646,
          0.4882204326033132,
          1.6053990972634442,
          -0.08503043769723694,
          0.6981169497045339,
          0.4718828971526396,
          -1.2029461823427046,
          0.052845734585076666,
          0.9822259990893973,
          -0.8590769849077312,
          -0.04120464990107362,
          -1.7569650582262712,
          1.1397519733719323,
          -0.6312149218917715,
          -0.046107887891385216,
          0.24742340686524372,
          1.5567864402222436,
          -0.37985498147004226,
          -0.9037102602281021,
          0.49753117291240284,
          0.5670835787226005,
          -0.38057329716763133,
          1.3577291622340146,
          0.7109426758026244,
          0.26514239168730397,
          -1.2476736047793413,
          -0.44164479753864827,
          -0.033615157654650896,
          0.5647092086237513,
          -0.511942159121852
         ],
         "yaxis": "y7"
        },
        {
         "line": {
          "color": "rgba(128, 128, 128, 1.0)",
          "dash": "solid",
          "shape": "linear",
          "width": 1.3
         },
         "marker": {
          "size": 2,
          "symbol": "circle"
         },
         "mode": "markers",
         "name": "B",
         "text": "",
         "type": "scatter",
         "x": [
          1.006990415230797,
          -1.964224009771347,
          1.3656734904303878,
          -0.7193889981597499,
          -0.8171992346531632,
          0.5021579854133826,
          0.35360746817993566,
          0.5038180043335287,
          -0.2253065854925412,
          -1.4462053896103182,
          0.3861215592594124,
          0.17553505879195624,
          -0.773045807558028,
          0.13715218564236864,
          1.5918514617857802,
          -0.4541260388835454,
          -0.18374369785544023,
          -0.8468969582370742,
          0.5283326291655621,
          -0.3174351528315366,
          -1.0113652796135721,
          0.9554437511695475,
          0.5317592920635177,
          -1.1986891128069317,
          1.180012584596935,
          -1.367233734745869,
          1.4216979437389021,
          -0.9536445111054623,
          1.2214783934231426,
          -1.1852333113110671,
          0.49595433276191425,
          -0.45700591898119247,
          -1.1634992086301335,
          -0.13614299129424992,
          0.02864078911815982,
          -1.4482685079878088,
          -1.340073852456306,
          -0.8775196074063242,
          -0.5642131429299626,
          -0.15774696869111168,
          1.6033684846714356,
          -1.352154240820155,
          -1.948424273992968,
          -0.10923332834192306,
          -0.3466984292093084,
          1.0532876042637498,
          1.3965753639823184,
          -0.7739337356756031,
          -0.5389000139848649,
          -1.7735102893998769,
          0.7389552763546952,
          1.1560874109408732,
          -1.5135193096899042,
          -1.5296404603654188,
          -0.01811472250897168,
          -0.23981216790408158,
          1.05440571047474,
          -0.7269334496791185,
          -0.8487333258876862,
          -2.1362246634378965,
          0.7639994045130143,
          1.041339972611782,
          -0.6445210539291163,
          0.941398881539454,
          1.172472601402738,
          1.157144971904907,
          -0.0016700911030675986,
          -0.21367099215600008,
          0.544287382614512,
          -1.013023022204178,
          0.6653553768385813,
          -1.081995803987892,
          -0.40908139281268663,
          0.4469096983868547,
          -1.3070142630453834,
          -1.1335484106420068,
          -2.3398158121759938,
          1.4313050099281213,
          -2.231818743879048,
          -0.4804009515284093,
          -1.0390003724195962,
          -2.4086907714026657,
          1.5512854832772243,
          -1.3352871785495308,
          0.21023107076646222,
          -0.9080772668139966,
          1.0746116244508543,
          1.352082889036443,
          -0.1547880916645823,
          -1.1852507629309106,
          -1.3196289178696639,
          1.5416264834243936,
          0.22671561843620253,
          -2.183184432019304,
          -0.23289429388985733,
          0.3174235728119984,
          -1.6823920236896401,
          -0.9468513506631693,
          -1.6776217112530991,
          0.8099531353330475
         ],
         "xaxis": "x8",
         "y": [
          -0.22246154249852684,
          -0.011662737015524104,
          0.7002550390215904,
          -0.2088604533672652,
          0.2787572766419977,
          0.34604688919031246,
          0.3289741381728799,
          -1.4546634160557221,
          0.6591005023770535,
          1.6307541996396775,
          0.3537425977973349,
          0.35489662287960494,
          -1.2552285412285955,
          0.7766227724788735,
          0.7313851441745576,
          0.17409712272179598,
          -0.558850148283852,
          -0.18278009610374715,
          -0.4385690580727113,
          -1.1979389827605196,
          0.21153250433833218,
          0.7543561045168725,
          0.10568114726276448,
          1.4740937158560674,
          0.9652011233966097,
          -0.23486161961194427,
          -1.389623772561859,
          0.30668566443217743,
          1.1120348830089202,
          0.46831830167324723,
          -0.5991384580070195,
          -0.7034819235937314,
          -0.005756903041385128,
          -1.1456182321306265,
          0.031447866394256334,
          1.4440326575276348,
          -0.1595369128971009,
          -0.46006264151509857,
          -1.2419810080488065,
          0.4424990438592372,
          -0.45458918117909897,
          0.07040854588577262,
          0.535026123128374,
          -2.7627953832152032,
          -0.3566709243240767,
          -0.2779553288515251,
          -0.5499009597665894,
          -0.1278460935717795,
          1.2186892425013678,
          -0.1565647499422839,
          -1.1879500510181082,
          -0.4304626168115283,
          0.4839416813547892,
          0.1542255059732776,
          -1.5231298483752214,
          1.5886158111510897,
          1.1141356720888698,
          -0.7321655368474803,
          -1.8814304721270192,
          1.4635612494042156,
          -1.9827593304106776,
          0.36790536391933965,
          -1.0843989162324759,
          -0.13268326375570524,
          -1.6066444790362937,
          -0.19722633200110679,
          0.0003473747000489338,
          0.7826322058019856,
          0.0046955420792266205,
          1.7155986699348522,
          -0.7952410822232646,
          0.4882204326033132,
          1.6053990972634442,
          -0.08503043769723694,
          0.6981169497045339,
          0.4718828971526396,
          -1.2029461823427046,
          0.052845734585076666,
          0.9822259990893973,
          -0.8590769849077312,
          -0.04120464990107362,
          -1.7569650582262712,
          1.1397519733719323,
          -0.6312149218917715,
          -0.046107887891385216,
          0.24742340686524372,
          1.5567864402222436,
          -0.37985498147004226,
          -0.9037102602281021,
          0.49753117291240284,
          0.5670835787226005,
          -0.38057329716763133,
          1.3577291622340146,
          0.7109426758026244,
          0.26514239168730397,
          -1.2476736047793413,
          -0.44164479753864827,
          -0.033615157654650896,
          0.5647092086237513,
          -0.511942159121852
         ],
         "yaxis": "y8"
        },
        {
         "line": {
          "color": "rgba(128, 128, 128, 1.0)",
          "dash": "solid",
          "shape": "linear",
          "width": 1.3
         },
         "marker": {
          "size": 2,
          "symbol": "circle"
         },
         "mode": "markers",
         "name": "C",
         "text": "",
         "type": "scatter",
         "x": [
          0.7384849679917865,
          -0.4739703576787497,
          -1.2410850999181424,
          0.011239248866355677,
          -0.3023127905230943,
          0.2363230440172158,
          -0.28402355339350155,
          0.9399206409610732,
          0.7622389377177152,
          0.9498089256425105,
          -1.6162083558302955,
          0.9646435176708447,
          0.6614496914739366,
          -1.716143334033692,
          -2.5356915148878794,
          -0.9617606145051862,
          0.008293435242292549,
          1.4810906706268816,
          0.6930911578507049,
          0.7517083996567843,
          1.6773600899238656,
          0.20023565995701395,
          -0.4862336432496669,
          0.6424563113780488,
          1.0529264632088229,
          -0.5194348158769179,
          0.5193794476182205,
          -0.2177636551563566,
          0.5730394684480788,
          0.8894265882891824,
          0.16574773044920646,
          -0.36556200969439046,
          -0.6371054172325357,
          1.1301373234143273,
          -0.3552754866053425,
          -0.7883959295021864,
          0.5859129449503426,
          -1.3343892432421331,
          -0.21179498740280153,
          0.8445155577573598,
          -1.0158186524593766,
          1.046865972107086,
          1.35629825666338,
          1.2275847492949927,
          -1.8092078608463722,
          0.3104716386755969,
          1.9439385481339027,
          -0.046302866157695736,
          0.9939623927497057,
          -1.5237946534936748,
          -1.3326917554580766,
          2.4142179028316892,
          0.04185598515241913,
          -2.1987326086021013,
          0.23139778756142068,
          0.9666403300832923,
          -0.24296102909533798,
          -0.6476057938239268,
          -0.16151360123863254,
          0.4793347634889624,
          0.6347851945989572,
          0.8434974936512513,
          1.002062963811421,
          1.2616989085150399,
          -0.4796951126108852,
          -1.0526870741532763,
          -1.19889718235249,
          -0.8743996784021727,
          0.9033046003458987,
          -1.514389455518979,
          -0.9101640903693848,
          1.3029787614274848,
          -0.574457267580267,
          -1.1532287536452923,
          -1.9252554195383396,
          1.5403188122329121,
          -0.6187670029735031,
          1.7146672083316403,
          1.2440564828005858,
          -0.0009091919227137812,
          1.1007579242326673,
          0.6006154386851078,
          -1.1507471833784182,
          -0.7789990876013348,
          -0.28419337049955345,
          1.0236872992597577,
          0.7399035390241175,
          0.1545230603764189,
          -1.2790224177216212,
          0.8595009913364225,
          0.2626145547074289,
          0.553328600134025,
          0.2672852048766201,
          -0.8914354807363999,
          0.5002622086866662,
          0.3346114667624826,
          -0.8529924982020634,
          1.339333316246086,
          0.5939467712682505,
          -1.3180613570001438
         ],
         "xaxis": "x9",
         "y": [
          0.3327097562536328,
          -1.4989734130569317,
          1.5183796176928412,
          -1.602061657580099,
          -0.1223028920412938,
          1.386107101382463,
          -0.3415490358671324,
          -0.601432993832816,
          -0.7250537936410264,
          -0.25995473648644335,
          -1.2422490910298027,
          1.1742302850063706,
          0.18699966489887976,
          1.2662228253927414,
          -1.251580842922223,
          -0.7282265939616873,
          1.5879017425376987,
          0.6091752542674607,
          0.532904734654383,
          0.9974016167066104,
          -0.22956798544070212,
          1.183297268164457,
          -1.3935594197207464,
          0.4542969291289916,
          -0.9726084682689599,
          2.16182929854646,
          0.23301146780323445,
          -0.1960668029901525,
          -0.8074931010293909,
          -0.011076559186416392,
          0.6526452912513951,
          -0.011420869869149506,
          0.40729498041940865,
          -1.4608135825814752,
          -1.0743052935041677,
          -1.067976015767999,
          -1.939351767318399,
          0.393969215925592,
          0.4943040456489618,
          1.941061809173201,
          -0.3545833883013441,
          -1.3630645831972743,
          -0.7808083882051318,
          0.14828932191953875,
          1.1809111049948051,
          0.4120562337432101,
          0.15330385255565906,
          0.7818987007205416,
          -0.33260463389752076,
          -1.063339758890112,
          -0.2157947274815626,
          1.1668965390573576,
          -1.0062129725618667,
          0.8563185855337104,
          0.1134259884042055,
          0.16124262504863326,
          0.8723792648240553,
          -1.5779154984640098,
          -1.7194283418339689,
          -0.7438004534439292,
          -0.3193951573849327,
          0.6608682615796827,
          0.09013167999011383,
          -2.692713245513669,
          1.444401329767143,
          0.20119976229306244,
          0.032921153652011204,
          -0.9119279263574213,
          0.2590428295494773,
          -0.9967937373445537,
          -0.7374266907019629,
          0.9000772812275898,
          0.8388976395866024,
          0.3927020144340531,
          0.34208830190986056,
          -1.1218914946391794,
          -0.054772158324748514,
          0.6859401772791511,
          0.24968117808815007,
          0.48624800196760376,
          0.8227827699143407,
          -0.5065635151644389,
          -0.35418313928200706,
          0.8249811569719638,
          -1.0825434719372715,
          0.28888600126108677,
          1.0131678182935049,
          -2.3299803613355308,
          0.3107692820192783,
          -0.36606223453421693,
          -0.7307619449006915,
          -1.8881767667272429,
          -1.44561951925092,
          -0.1926918554444059,
          -0.10295541446747797,
          -0.5426933739808347,
          -0.9278063200643781,
          -0.31714133131824696,
          -0.5357162118674762,
          -1.193869715470299
         ],
         "yaxis": "y9"
        },
        {
         "line": {
          "color": "rgba(128, 128, 128, 1.0)",
          "dash": "solid",
          "shape": "linear",
          "width": 1.3
         },
         "marker": {
          "size": 2,
          "symbol": "circle"
         },
         "mode": "markers",
         "name": "C",
         "text": "",
         "type": "scatter",
         "x": [
          -0.22246154249852684,
          -0.011662737015524104,
          0.7002550390215904,
          -0.2088604533672652,
          0.2787572766419977,
          0.34604688919031246,
          0.3289741381728799,
          -1.4546634160557221,
          0.6591005023770535,
          1.6307541996396775,
          0.3537425977973349,
          0.35489662287960494,
          -1.2552285412285955,
          0.7766227724788735,
          0.7313851441745576,
          0.17409712272179598,
          -0.558850148283852,
          -0.18278009610374715,
          -0.4385690580727113,
          -1.1979389827605196,
          0.21153250433833218,
          0.7543561045168725,
          0.10568114726276448,
          1.4740937158560674,
          0.9652011233966097,
          -0.23486161961194427,
          -1.389623772561859,
          0.30668566443217743,
          1.1120348830089202,
          0.46831830167324723,
          -0.5991384580070195,
          -0.7034819235937314,
          -0.005756903041385128,
          -1.1456182321306265,
          0.031447866394256334,
          1.4440326575276348,
          -0.1595369128971009,
          -0.46006264151509857,
          -1.2419810080488065,
          0.4424990438592372,
          -0.45458918117909897,
          0.07040854588577262,
          0.535026123128374,
          -2.7627953832152032,
          -0.3566709243240767,
          -0.2779553288515251,
          -0.5499009597665894,
          -0.1278460935717795,
          1.2186892425013678,
          -0.1565647499422839,
          -1.1879500510181082,
          -0.4304626168115283,
          0.4839416813547892,
          0.1542255059732776,
          -1.5231298483752214,
          1.5886158111510897,
          1.1141356720888698,
          -0.7321655368474803,
          -1.8814304721270192,
          1.4635612494042156,
          -1.9827593304106776,
          0.36790536391933965,
          -1.0843989162324759,
          -0.13268326375570524,
          -1.6066444790362937,
          -0.19722633200110679,
          0.0003473747000489338,
          0.7826322058019856,
          0.0046955420792266205,
          1.7155986699348522,
          -0.7952410822232646,
          0.4882204326033132,
          1.6053990972634442,
          -0.08503043769723694,
          0.6981169497045339,
          0.4718828971526396,
          -1.2029461823427046,
          0.052845734585076666,
          0.9822259990893973,
          -0.8590769849077312,
          -0.04120464990107362,
          -1.7569650582262712,
          1.1397519733719323,
          -0.6312149218917715,
          -0.046107887891385216,
          0.24742340686524372,
          1.5567864402222436,
          -0.37985498147004226,
          -0.9037102602281021,
          0.49753117291240284,
          0.5670835787226005,
          -0.38057329716763133,
          1.3577291622340146,
          0.7109426758026244,
          0.26514239168730397,
          -1.2476736047793413,
          -0.44164479753864827,
          -0.033615157654650896,
          0.5647092086237513,
          -0.511942159121852
         ],
         "xaxis": "x10",
         "y": [
          0.3327097562536328,
          -1.4989734130569317,
          1.5183796176928412,
          -1.602061657580099,
          -0.1223028920412938,
          1.386107101382463,
          -0.3415490358671324,
          -0.601432993832816,
          -0.7250537936410264,
          -0.25995473648644335,
          -1.2422490910298027,
          1.1742302850063706,
          0.18699966489887976,
          1.2662228253927414,
          -1.251580842922223,
          -0.7282265939616873,
          1.5879017425376987,
          0.6091752542674607,
          0.532904734654383,
          0.9974016167066104,
          -0.22956798544070212,
          1.183297268164457,
          -1.3935594197207464,
          0.4542969291289916,
          -0.9726084682689599,
          2.16182929854646,
          0.23301146780323445,
          -0.1960668029901525,
          -0.8074931010293909,
          -0.011076559186416392,
          0.6526452912513951,
          -0.011420869869149506,
          0.40729498041940865,
          -1.4608135825814752,
          -1.0743052935041677,
          -1.067976015767999,
          -1.939351767318399,
          0.393969215925592,
          0.4943040456489618,
          1.941061809173201,
          -0.3545833883013441,
          -1.3630645831972743,
          -0.7808083882051318,
          0.14828932191953875,
          1.1809111049948051,
          0.4120562337432101,
          0.15330385255565906,
          0.7818987007205416,
          -0.33260463389752076,
          -1.063339758890112,
          -0.2157947274815626,
          1.1668965390573576,
          -1.0062129725618667,
          0.8563185855337104,
          0.1134259884042055,
          0.16124262504863326,
          0.8723792648240553,
          -1.5779154984640098,
          -1.7194283418339689,
          -0.7438004534439292,
          -0.3193951573849327,
          0.6608682615796827,
          0.09013167999011383,
          -2.692713245513669,
          1.444401329767143,
          0.20119976229306244,
          0.032921153652011204,
          -0.9119279263574213,
          0.2590428295494773,
          -0.9967937373445537,
          -0.7374266907019629,
          0.9000772812275898,
          0.8388976395866024,
          0.3927020144340531,
          0.34208830190986056,
          -1.1218914946391794,
          -0.054772158324748514,
          0.6859401772791511,
          0.24968117808815007,
          0.48624800196760376,
          0.8227827699143407,
          -0.5065635151644389,
          -0.35418313928200706,
          0.8249811569719638,
          -1.0825434719372715,
          0.28888600126108677,
          1.0131678182935049,
          -2.3299803613355308,
          0.3107692820192783,
          -0.36606223453421693,
          -0.7307619449006915,
          -1.8881767667272429,
          -1.44561951925092,
          -0.1926918554444059,
          -0.10295541446747797,
          -0.5426933739808347,
          -0.9278063200643781,
          -0.31714133131824696,
          -0.5357162118674762,
          -1.193869715470299
         ],
         "yaxis": "y10"
        },
        {
         "histfunc": "count",
         "histnorm": "",
         "marker": {
          "color": "rgba(50, 171, 96, 1.0)",
          "line": {
           "color": "#4D5663",
           "width": 1.3
          }
         },
         "name": "C",
         "nbinsx": 10,
         "opacity": 0.8,
         "orientation": "v",
         "type": "histogram",
         "x": [
          0.3327097562536328,
          -1.4989734130569317,
          1.5183796176928412,
          -1.602061657580099,
          -0.1223028920412938,
          1.386107101382463,
          -0.3415490358671324,
          -0.601432993832816,
          -0.7250537936410264,
          -0.25995473648644335,
          -1.2422490910298027,
          1.1742302850063706,
          0.18699966489887976,
          1.2662228253927414,
          -1.251580842922223,
          -0.7282265939616873,
          1.5879017425376987,
          0.6091752542674607,
          0.532904734654383,
          0.9974016167066104,
          -0.22956798544070212,
          1.183297268164457,
          -1.3935594197207464,
          0.4542969291289916,
          -0.9726084682689599,
          2.16182929854646,
          0.23301146780323445,
          -0.1960668029901525,
          -0.8074931010293909,
          -0.011076559186416392,
          0.6526452912513951,
          -0.011420869869149506,
          0.40729498041940865,
          -1.4608135825814752,
          -1.0743052935041677,
          -1.067976015767999,
          -1.939351767318399,
          0.393969215925592,
          0.4943040456489618,
          1.941061809173201,
          -0.3545833883013441,
          -1.3630645831972743,
          -0.7808083882051318,
          0.14828932191953875,
          1.1809111049948051,
          0.4120562337432101,
          0.15330385255565906,
          0.7818987007205416,
          -0.33260463389752076,
          -1.063339758890112,
          -0.2157947274815626,
          1.1668965390573576,
          -1.0062129725618667,
          0.8563185855337104,
          0.1134259884042055,
          0.16124262504863326,
          0.8723792648240553,
          -1.5779154984640098,
          -1.7194283418339689,
          -0.7438004534439292,
          -0.3193951573849327,
          0.6608682615796827,
          0.09013167999011383,
          -2.692713245513669,
          1.444401329767143,
          0.20119976229306244,
          0.032921153652011204,
          -0.9119279263574213,
          0.2590428295494773,
          -0.9967937373445537,
          -0.7374266907019629,
          0.9000772812275898,
          0.8388976395866024,
          0.3927020144340531,
          0.34208830190986056,
          -1.1218914946391794,
          -0.054772158324748514,
          0.6859401772791511,
          0.24968117808815007,
          0.48624800196760376,
          0.8227827699143407,
          -0.5065635151644389,
          -0.35418313928200706,
          0.8249811569719638,
          -1.0825434719372715,
          0.28888600126108677,
          1.0131678182935049,
          -2.3299803613355308,
          0.3107692820192783,
          -0.36606223453421693,
          -0.7307619449006915,
          -1.8881767667272429,
          -1.44561951925092,
          -0.1926918554444059,
          -0.10295541446747797,
          -0.5426933739808347,
          -0.9278063200643781,
          -0.31714133131824696,
          -0.5357162118674762,
          -1.193869715470299
         ],
         "xaxis": "x11",
         "yaxis": "y11"
        },
        {
         "line": {
          "color": "rgba(128, 128, 128, 1.0)",
          "dash": "solid",
          "shape": "linear",
          "width": 1.3
         },
         "marker": {
          "size": 2,
          "symbol": "circle"
         },
         "mode": "markers",
         "name": "C",
         "text": "",
         "type": "scatter",
         "x": [
          1.006990415230797,
          -1.964224009771347,
          1.3656734904303878,
          -0.7193889981597499,
          -0.8171992346531632,
          0.5021579854133826,
          0.35360746817993566,
          0.5038180043335287,
          -0.2253065854925412,
          -1.4462053896103182,
          0.3861215592594124,
          0.17553505879195624,
          -0.773045807558028,
          0.13715218564236864,
          1.5918514617857802,
          -0.4541260388835454,
          -0.18374369785544023,
          -0.8468969582370742,
          0.5283326291655621,
          -0.3174351528315366,
          -1.0113652796135721,
          0.9554437511695475,
          0.5317592920635177,
          -1.1986891128069317,
          1.180012584596935,
          -1.367233734745869,
          1.4216979437389021,
          -0.9536445111054623,
          1.2214783934231426,
          -1.1852333113110671,
          0.49595433276191425,
          -0.45700591898119247,
          -1.1634992086301335,
          -0.13614299129424992,
          0.02864078911815982,
          -1.4482685079878088,
          -1.340073852456306,
          -0.8775196074063242,
          -0.5642131429299626,
          -0.15774696869111168,
          1.6033684846714356,
          -1.352154240820155,
          -1.948424273992968,
          -0.10923332834192306,
          -0.3466984292093084,
          1.0532876042637498,
          1.3965753639823184,
          -0.7739337356756031,
          -0.5389000139848649,
          -1.7735102893998769,
          0.7389552763546952,
          1.1560874109408732,
          -1.5135193096899042,
          -1.5296404603654188,
          -0.01811472250897168,
          -0.23981216790408158,
          1.05440571047474,
          -0.7269334496791185,
          -0.8487333258876862,
          -2.1362246634378965,
          0.7639994045130143,
          1.041339972611782,
          -0.6445210539291163,
          0.941398881539454,
          1.172472601402738,
          1.157144971904907,
          -0.0016700911030675986,
          -0.21367099215600008,
          0.544287382614512,
          -1.013023022204178,
          0.6653553768385813,
          -1.081995803987892,
          -0.40908139281268663,
          0.4469096983868547,
          -1.3070142630453834,
          -1.1335484106420068,
          -2.3398158121759938,
          1.4313050099281213,
          -2.231818743879048,
          -0.4804009515284093,
          -1.0390003724195962,
          -2.4086907714026657,
          1.5512854832772243,
          -1.3352871785495308,
          0.21023107076646222,
          -0.9080772668139966,
          1.0746116244508543,
          1.352082889036443,
          -0.1547880916645823,
          -1.1852507629309106,
          -1.3196289178696639,
          1.5416264834243936,
          0.22671561843620253,
          -2.183184432019304,
          -0.23289429388985733,
          0.3174235728119984,
          -1.6823920236896401,
          -0.9468513506631693,
          -1.6776217112530991,
          0.8099531353330475
         ],
         "xaxis": "x12",
         "y": [
          0.3327097562536328,
          -1.4989734130569317,
          1.5183796176928412,
          -1.602061657580099,
          -0.1223028920412938,
          1.386107101382463,
          -0.3415490358671324,
          -0.601432993832816,
          -0.7250537936410264,
          -0.25995473648644335,
          -1.2422490910298027,
          1.1742302850063706,
          0.18699966489887976,
          1.2662228253927414,
          -1.251580842922223,
          -0.7282265939616873,
          1.5879017425376987,
          0.6091752542674607,
          0.532904734654383,
          0.9974016167066104,
          -0.22956798544070212,
          1.183297268164457,
          -1.3935594197207464,
          0.4542969291289916,
          -0.9726084682689599,
          2.16182929854646,
          0.23301146780323445,
          -0.1960668029901525,
          -0.8074931010293909,
          -0.011076559186416392,
          0.6526452912513951,
          -0.011420869869149506,
          0.40729498041940865,
          -1.4608135825814752,
          -1.0743052935041677,
          -1.067976015767999,
          -1.939351767318399,
          0.393969215925592,
          0.4943040456489618,
          1.941061809173201,
          -0.3545833883013441,
          -1.3630645831972743,
          -0.7808083882051318,
          0.14828932191953875,
          1.1809111049948051,
          0.4120562337432101,
          0.15330385255565906,
          0.7818987007205416,
          -0.33260463389752076,
          -1.063339758890112,
          -0.2157947274815626,
          1.1668965390573576,
          -1.0062129725618667,
          0.8563185855337104,
          0.1134259884042055,
          0.16124262504863326,
          0.8723792648240553,
          -1.5779154984640098,
          -1.7194283418339689,
          -0.7438004534439292,
          -0.3193951573849327,
          0.6608682615796827,
          0.09013167999011383,
          -2.692713245513669,
          1.444401329767143,
          0.20119976229306244,
          0.032921153652011204,
          -0.9119279263574213,
          0.2590428295494773,
          -0.9967937373445537,
          -0.7374266907019629,
          0.9000772812275898,
          0.8388976395866024,
          0.3927020144340531,
          0.34208830190986056,
          -1.1218914946391794,
          -0.054772158324748514,
          0.6859401772791511,
          0.24968117808815007,
          0.48624800196760376,
          0.8227827699143407,
          -0.5065635151644389,
          -0.35418313928200706,
          0.8249811569719638,
          -1.0825434719372715,
          0.28888600126108677,
          1.0131678182935049,
          -2.3299803613355308,
          0.3107692820192783,
          -0.36606223453421693,
          -0.7307619449006915,
          -1.8881767667272429,
          -1.44561951925092,
          -0.1926918554444059,
          -0.10295541446747797,
          -0.5426933739808347,
          -0.9278063200643781,
          -0.31714133131824696,
          -0.5357162118674762,
          -1.193869715470299
         ],
         "yaxis": "y12"
        },
        {
         "line": {
          "color": "rgba(128, 128, 128, 1.0)",
          "dash": "solid",
          "shape": "linear",
          "width": 1.3
         },
         "marker": {
          "size": 2,
          "symbol": "circle"
         },
         "mode": "markers",
         "name": "D",
         "text": "",
         "type": "scatter",
         "x": [
          0.7384849679917865,
          -0.4739703576787497,
          -1.2410850999181424,
          0.011239248866355677,
          -0.3023127905230943,
          0.2363230440172158,
          -0.28402355339350155,
          0.9399206409610732,
          0.7622389377177152,
          0.9498089256425105,
          -1.6162083558302955,
          0.9646435176708447,
          0.6614496914739366,
          -1.716143334033692,
          -2.5356915148878794,
          -0.9617606145051862,
          0.008293435242292549,
          1.4810906706268816,
          0.6930911578507049,
          0.7517083996567843,
          1.6773600899238656,
          0.20023565995701395,
          -0.4862336432496669,
          0.6424563113780488,
          1.0529264632088229,
          -0.5194348158769179,
          0.5193794476182205,
          -0.2177636551563566,
          0.5730394684480788,
          0.8894265882891824,
          0.16574773044920646,
          -0.36556200969439046,
          -0.6371054172325357,
          1.1301373234143273,
          -0.3552754866053425,
          -0.7883959295021864,
          0.5859129449503426,
          -1.3343892432421331,
          -0.21179498740280153,
          0.8445155577573598,
          -1.0158186524593766,
          1.046865972107086,
          1.35629825666338,
          1.2275847492949927,
          -1.8092078608463722,
          0.3104716386755969,
          1.9439385481339027,
          -0.046302866157695736,
          0.9939623927497057,
          -1.5237946534936748,
          -1.3326917554580766,
          2.4142179028316892,
          0.04185598515241913,
          -2.1987326086021013,
          0.23139778756142068,
          0.9666403300832923,
          -0.24296102909533798,
          -0.6476057938239268,
          -0.16151360123863254,
          0.4793347634889624,
          0.6347851945989572,
          0.8434974936512513,
          1.002062963811421,
          1.2616989085150399,
          -0.4796951126108852,
          -1.0526870741532763,
          -1.19889718235249,
          -0.8743996784021727,
          0.9033046003458987,
          -1.514389455518979,
          -0.9101640903693848,
          1.3029787614274848,
          -0.574457267580267,
          -1.1532287536452923,
          -1.9252554195383396,
          1.5403188122329121,
          -0.6187670029735031,
          1.7146672083316403,
          1.2440564828005858,
          -0.0009091919227137812,
          1.1007579242326673,
          0.6006154386851078,
          -1.1507471833784182,
          -0.7789990876013348,
          -0.28419337049955345,
          1.0236872992597577,
          0.7399035390241175,
          0.1545230603764189,
          -1.2790224177216212,
          0.8595009913364225,
          0.2626145547074289,
          0.553328600134025,
          0.2672852048766201,
          -0.8914354807363999,
          0.5002622086866662,
          0.3346114667624826,
          -0.8529924982020634,
          1.339333316246086,
          0.5939467712682505,
          -1.3180613570001438
         ],
         "xaxis": "x13",
         "y": [
          1.006990415230797,
          -1.964224009771347,
          1.3656734904303878,
          -0.7193889981597499,
          -0.8171992346531632,
          0.5021579854133826,
          0.35360746817993566,
          0.5038180043335287,
          -0.2253065854925412,
          -1.4462053896103182,
          0.3861215592594124,
          0.17553505879195624,
          -0.773045807558028,
          0.13715218564236864,
          1.5918514617857802,
          -0.4541260388835454,
          -0.18374369785544023,
          -0.8468969582370742,
          0.5283326291655621,
          -0.3174351528315366,
          -1.0113652796135721,
          0.9554437511695475,
          0.5317592920635177,
          -1.1986891128069317,
          1.180012584596935,
          -1.367233734745869,
          1.4216979437389021,
          -0.9536445111054623,
          1.2214783934231426,
          -1.1852333113110671,
          0.49595433276191425,
          -0.45700591898119247,
          -1.1634992086301335,
          -0.13614299129424992,
          0.02864078911815982,
          -1.4482685079878088,
          -1.340073852456306,
          -0.8775196074063242,
          -0.5642131429299626,
          -0.15774696869111168,
          1.6033684846714356,
          -1.352154240820155,
          -1.948424273992968,
          -0.10923332834192306,
          -0.3466984292093084,
          1.0532876042637498,
          1.3965753639823184,
          -0.7739337356756031,
          -0.5389000139848649,
          -1.7735102893998769,
          0.7389552763546952,
          1.1560874109408732,
          -1.5135193096899042,
          -1.5296404603654188,
          -0.01811472250897168,
          -0.23981216790408158,
          1.05440571047474,
          -0.7269334496791185,
          -0.8487333258876862,
          -2.1362246634378965,
          0.7639994045130143,
          1.041339972611782,
          -0.6445210539291163,
          0.941398881539454,
          1.172472601402738,
          1.157144971904907,
          -0.0016700911030675986,
          -0.21367099215600008,
          0.544287382614512,
          -1.013023022204178,
          0.6653553768385813,
          -1.081995803987892,
          -0.40908139281268663,
          0.4469096983868547,
          -1.3070142630453834,
          -1.1335484106420068,
          -2.3398158121759938,
          1.4313050099281213,
          -2.231818743879048,
          -0.4804009515284093,
          -1.0390003724195962,
          -2.4086907714026657,
          1.5512854832772243,
          -1.3352871785495308,
          0.21023107076646222,
          -0.9080772668139966,
          1.0746116244508543,
          1.352082889036443,
          -0.1547880916645823,
          -1.1852507629309106,
          -1.3196289178696639,
          1.5416264834243936,
          0.22671561843620253,
          -2.183184432019304,
          -0.23289429388985733,
          0.3174235728119984,
          -1.6823920236896401,
          -0.9468513506631693,
          -1.6776217112530991,
          0.8099531353330475
         ],
         "yaxis": "y13"
        },
        {
         "line": {
          "color": "rgba(128, 128, 128, 1.0)",
          "dash": "solid",
          "shape": "linear",
          "width": 1.3
         },
         "marker": {
          "size": 2,
          "symbol": "circle"
         },
         "mode": "markers",
         "name": "D",
         "text": "",
         "type": "scatter",
         "x": [
          -0.22246154249852684,
          -0.011662737015524104,
          0.7002550390215904,
          -0.2088604533672652,
          0.2787572766419977,
          0.34604688919031246,
          0.3289741381728799,
          -1.4546634160557221,
          0.6591005023770535,
          1.6307541996396775,
          0.3537425977973349,
          0.35489662287960494,
          -1.2552285412285955,
          0.7766227724788735,
          0.7313851441745576,
          0.17409712272179598,
          -0.558850148283852,
          -0.18278009610374715,
          -0.4385690580727113,
          -1.1979389827605196,
          0.21153250433833218,
          0.7543561045168725,
          0.10568114726276448,
          1.4740937158560674,
          0.9652011233966097,
          -0.23486161961194427,
          -1.389623772561859,
          0.30668566443217743,
          1.1120348830089202,
          0.46831830167324723,
          -0.5991384580070195,
          -0.7034819235937314,
          -0.005756903041385128,
          -1.1456182321306265,
          0.031447866394256334,
          1.4440326575276348,
          -0.1595369128971009,
          -0.46006264151509857,
          -1.2419810080488065,
          0.4424990438592372,
          -0.45458918117909897,
          0.07040854588577262,
          0.535026123128374,
          -2.7627953832152032,
          -0.3566709243240767,
          -0.2779553288515251,
          -0.5499009597665894,
          -0.1278460935717795,
          1.2186892425013678,
          -0.1565647499422839,
          -1.1879500510181082,
          -0.4304626168115283,
          0.4839416813547892,
          0.1542255059732776,
          -1.5231298483752214,
          1.5886158111510897,
          1.1141356720888698,
          -0.7321655368474803,
          -1.8814304721270192,
          1.4635612494042156,
          -1.9827593304106776,
          0.36790536391933965,
          -1.0843989162324759,
          -0.13268326375570524,
          -1.6066444790362937,
          -0.19722633200110679,
          0.0003473747000489338,
          0.7826322058019856,
          0.0046955420792266205,
          1.7155986699348522,
          -0.7952410822232646,
          0.4882204326033132,
          1.6053990972634442,
          -0.08503043769723694,
          0.6981169497045339,
          0.4718828971526396,
          -1.2029461823427046,
          0.052845734585076666,
          0.9822259990893973,
          -0.8590769849077312,
          -0.04120464990107362,
          -1.7569650582262712,
          1.1397519733719323,
          -0.6312149218917715,
          -0.046107887891385216,
          0.24742340686524372,
          1.5567864402222436,
          -0.37985498147004226,
          -0.9037102602281021,
          0.49753117291240284,
          0.5670835787226005,
          -0.38057329716763133,
          1.3577291622340146,
          0.7109426758026244,
          0.26514239168730397,
          -1.2476736047793413,
          -0.44164479753864827,
          -0.033615157654650896,
          0.5647092086237513,
          -0.511942159121852
         ],
         "xaxis": "x14",
         "y": [
          1.006990415230797,
          -1.964224009771347,
          1.3656734904303878,
          -0.7193889981597499,
          -0.8171992346531632,
          0.5021579854133826,
          0.35360746817993566,
          0.5038180043335287,
          -0.2253065854925412,
          -1.4462053896103182,
          0.3861215592594124,
          0.17553505879195624,
          -0.773045807558028,
          0.13715218564236864,
          1.5918514617857802,
          -0.4541260388835454,
          -0.18374369785544023,
          -0.8468969582370742,
          0.5283326291655621,
          -0.3174351528315366,
          -1.0113652796135721,
          0.9554437511695475,
          0.5317592920635177,
          -1.1986891128069317,
          1.180012584596935,
          -1.367233734745869,
          1.4216979437389021,
          -0.9536445111054623,
          1.2214783934231426,
          -1.1852333113110671,
          0.49595433276191425,
          -0.45700591898119247,
          -1.1634992086301335,
          -0.13614299129424992,
          0.02864078911815982,
          -1.4482685079878088,
          -1.340073852456306,
          -0.8775196074063242,
          -0.5642131429299626,
          -0.15774696869111168,
          1.6033684846714356,
          -1.352154240820155,
          -1.948424273992968,
          -0.10923332834192306,
          -0.3466984292093084,
          1.0532876042637498,
          1.3965753639823184,
          -0.7739337356756031,
          -0.5389000139848649,
          -1.7735102893998769,
          0.7389552763546952,
          1.1560874109408732,
          -1.5135193096899042,
          -1.5296404603654188,
          -0.01811472250897168,
          -0.23981216790408158,
          1.05440571047474,
          -0.7269334496791185,
          -0.8487333258876862,
          -2.1362246634378965,
          0.7639994045130143,
          1.041339972611782,
          -0.6445210539291163,
          0.941398881539454,
          1.172472601402738,
          1.157144971904907,
          -0.0016700911030675986,
          -0.21367099215600008,
          0.544287382614512,
          -1.013023022204178,
          0.6653553768385813,
          -1.081995803987892,
          -0.40908139281268663,
          0.4469096983868547,
          -1.3070142630453834,
          -1.1335484106420068,
          -2.3398158121759938,
          1.4313050099281213,
          -2.231818743879048,
          -0.4804009515284093,
          -1.0390003724195962,
          -2.4086907714026657,
          1.5512854832772243,
          -1.3352871785495308,
          0.21023107076646222,
          -0.9080772668139966,
          1.0746116244508543,
          1.352082889036443,
          -0.1547880916645823,
          -1.1852507629309106,
          -1.3196289178696639,
          1.5416264834243936,
          0.22671561843620253,
          -2.183184432019304,
          -0.23289429388985733,
          0.3174235728119984,
          -1.6823920236896401,
          -0.9468513506631693,
          -1.6776217112530991,
          0.8099531353330475
         ],
         "yaxis": "y14"
        },
        {
         "line": {
          "color": "rgba(128, 128, 128, 1.0)",
          "dash": "solid",
          "shape": "linear",
          "width": 1.3
         },
         "marker": {
          "size": 2,
          "symbol": "circle"
         },
         "mode": "markers",
         "name": "D",
         "text": "",
         "type": "scatter",
         "x": [
          0.3327097562536328,
          -1.4989734130569317,
          1.5183796176928412,
          -1.602061657580099,
          -0.1223028920412938,
          1.386107101382463,
          -0.3415490358671324,
          -0.601432993832816,
          -0.7250537936410264,
          -0.25995473648644335,
          -1.2422490910298027,
          1.1742302850063706,
          0.18699966489887976,
          1.2662228253927414,
          -1.251580842922223,
          -0.7282265939616873,
          1.5879017425376987,
          0.6091752542674607,
          0.532904734654383,
          0.9974016167066104,
          -0.22956798544070212,
          1.183297268164457,
          -1.3935594197207464,
          0.4542969291289916,
          -0.9726084682689599,
          2.16182929854646,
          0.23301146780323445,
          -0.1960668029901525,
          -0.8074931010293909,
          -0.011076559186416392,
          0.6526452912513951,
          -0.011420869869149506,
          0.40729498041940865,
          -1.4608135825814752,
          -1.0743052935041677,
          -1.067976015767999,
          -1.939351767318399,
          0.393969215925592,
          0.4943040456489618,
          1.941061809173201,
          -0.3545833883013441,
          -1.3630645831972743,
          -0.7808083882051318,
          0.14828932191953875,
          1.1809111049948051,
          0.4120562337432101,
          0.15330385255565906,
          0.7818987007205416,
          -0.33260463389752076,
          -1.063339758890112,
          -0.2157947274815626,
          1.1668965390573576,
          -1.0062129725618667,
          0.8563185855337104,
          0.1134259884042055,
          0.16124262504863326,
          0.8723792648240553,
          -1.5779154984640098,
          -1.7194283418339689,
          -0.7438004534439292,
          -0.3193951573849327,
          0.6608682615796827,
          0.09013167999011383,
          -2.692713245513669,
          1.444401329767143,
          0.20119976229306244,
          0.032921153652011204,
          -0.9119279263574213,
          0.2590428295494773,
          -0.9967937373445537,
          -0.7374266907019629,
          0.9000772812275898,
          0.8388976395866024,
          0.3927020144340531,
          0.34208830190986056,
          -1.1218914946391794,
          -0.054772158324748514,
          0.6859401772791511,
          0.24968117808815007,
          0.48624800196760376,
          0.8227827699143407,
          -0.5065635151644389,
          -0.35418313928200706,
          0.8249811569719638,
          -1.0825434719372715,
          0.28888600126108677,
          1.0131678182935049,
          -2.3299803613355308,
          0.3107692820192783,
          -0.36606223453421693,
          -0.7307619449006915,
          -1.8881767667272429,
          -1.44561951925092,
          -0.1926918554444059,
          -0.10295541446747797,
          -0.5426933739808347,
          -0.9278063200643781,
          -0.31714133131824696,
          -0.5357162118674762,
          -1.193869715470299
         ],
         "xaxis": "x15",
         "y": [
          1.006990415230797,
          -1.964224009771347,
          1.3656734904303878,
          -0.7193889981597499,
          -0.8171992346531632,
          0.5021579854133826,
          0.35360746817993566,
          0.5038180043335287,
          -0.2253065854925412,
          -1.4462053896103182,
          0.3861215592594124,
          0.17553505879195624,
          -0.773045807558028,
          0.13715218564236864,
          1.5918514617857802,
          -0.4541260388835454,
          -0.18374369785544023,
          -0.8468969582370742,
          0.5283326291655621,
          -0.3174351528315366,
          -1.0113652796135721,
          0.9554437511695475,
          0.5317592920635177,
          -1.1986891128069317,
          1.180012584596935,
          -1.367233734745869,
          1.4216979437389021,
          -0.9536445111054623,
          1.2214783934231426,
          -1.1852333113110671,
          0.49595433276191425,
          -0.45700591898119247,
          -1.1634992086301335,
          -0.13614299129424992,
          0.02864078911815982,
          -1.4482685079878088,
          -1.340073852456306,
          -0.8775196074063242,
          -0.5642131429299626,
          -0.15774696869111168,
          1.6033684846714356,
          -1.352154240820155,
          -1.948424273992968,
          -0.10923332834192306,
          -0.3466984292093084,
          1.0532876042637498,
          1.3965753639823184,
          -0.7739337356756031,
          -0.5389000139848649,
          -1.7735102893998769,
          0.7389552763546952,
          1.1560874109408732,
          -1.5135193096899042,
          -1.5296404603654188,
          -0.01811472250897168,
          -0.23981216790408158,
          1.05440571047474,
          -0.7269334496791185,
          -0.8487333258876862,
          -2.1362246634378965,
          0.7639994045130143,
          1.041339972611782,
          -0.6445210539291163,
          0.941398881539454,
          1.172472601402738,
          1.157144971904907,
          -0.0016700911030675986,
          -0.21367099215600008,
          0.544287382614512,
          -1.013023022204178,
          0.6653553768385813,
          -1.081995803987892,
          -0.40908139281268663,
          0.4469096983868547,
          -1.3070142630453834,
          -1.1335484106420068,
          -2.3398158121759938,
          1.4313050099281213,
          -2.231818743879048,
          -0.4804009515284093,
          -1.0390003724195962,
          -2.4086907714026657,
          1.5512854832772243,
          -1.3352871785495308,
          0.21023107076646222,
          -0.9080772668139966,
          1.0746116244508543,
          1.352082889036443,
          -0.1547880916645823,
          -1.1852507629309106,
          -1.3196289178696639,
          1.5416264834243936,
          0.22671561843620253,
          -2.183184432019304,
          -0.23289429388985733,
          0.3174235728119984,
          -1.6823920236896401,
          -0.9468513506631693,
          -1.6776217112530991,
          0.8099531353330475
         ],
         "yaxis": "y15"
        },
        {
         "histfunc": "count",
         "histnorm": "",
         "marker": {
          "color": "rgba(128, 0, 128, 1.0)",
          "line": {
           "color": "#4D5663",
           "width": 1.3
          }
         },
         "name": "D",
         "nbinsx": 10,
         "opacity": 0.8,
         "orientation": "v",
         "type": "histogram",
         "x": [
          1.006990415230797,
          -1.964224009771347,
          1.3656734904303878,
          -0.7193889981597499,
          -0.8171992346531632,
          0.5021579854133826,
          0.35360746817993566,
          0.5038180043335287,
          -0.2253065854925412,
          -1.4462053896103182,
          0.3861215592594124,
          0.17553505879195624,
          -0.773045807558028,
          0.13715218564236864,
          1.5918514617857802,
          -0.4541260388835454,
          -0.18374369785544023,
          -0.8468969582370742,
          0.5283326291655621,
          -0.3174351528315366,
          -1.0113652796135721,
          0.9554437511695475,
          0.5317592920635177,
          -1.1986891128069317,
          1.180012584596935,
          -1.367233734745869,
          1.4216979437389021,
          -0.9536445111054623,
          1.2214783934231426,
          -1.1852333113110671,
          0.49595433276191425,
          -0.45700591898119247,
          -1.1634992086301335,
          -0.13614299129424992,
          0.02864078911815982,
          -1.4482685079878088,
          -1.340073852456306,
          -0.8775196074063242,
          -0.5642131429299626,
          -0.15774696869111168,
          1.6033684846714356,
          -1.352154240820155,
          -1.948424273992968,
          -0.10923332834192306,
          -0.3466984292093084,
          1.0532876042637498,
          1.3965753639823184,
          -0.7739337356756031,
          -0.5389000139848649,
          -1.7735102893998769,
          0.7389552763546952,
          1.1560874109408732,
          -1.5135193096899042,
          -1.5296404603654188,
          -0.01811472250897168,
          -0.23981216790408158,
          1.05440571047474,
          -0.7269334496791185,
          -0.8487333258876862,
          -2.1362246634378965,
          0.7639994045130143,
          1.041339972611782,
          -0.6445210539291163,
          0.941398881539454,
          1.172472601402738,
          1.157144971904907,
          -0.0016700911030675986,
          -0.21367099215600008,
          0.544287382614512,
          -1.013023022204178,
          0.6653553768385813,
          -1.081995803987892,
          -0.40908139281268663,
          0.4469096983868547,
          -1.3070142630453834,
          -1.1335484106420068,
          -2.3398158121759938,
          1.4313050099281213,
          -2.231818743879048,
          -0.4804009515284093,
          -1.0390003724195962,
          -2.4086907714026657,
          1.5512854832772243,
          -1.3352871785495308,
          0.21023107076646222,
          -0.9080772668139966,
          1.0746116244508543,
          1.352082889036443,
          -0.1547880916645823,
          -1.1852507629309106,
          -1.3196289178696639,
          1.5416264834243936,
          0.22671561843620253,
          -2.183184432019304,
          -0.23289429388985733,
          0.3174235728119984,
          -1.6823920236896401,
          -0.9468513506631693,
          -1.6776217112530991,
          0.8099531353330475
         ],
         "xaxis": "x16",
         "yaxis": "y16"
        }
       ],
       "layout": {
        "bargap": 0.02,
        "legend": {
         "bgcolor": "#F5F6F9",
         "font": {
          "color": "#4D5663"
         }
        },
        "paper_bgcolor": "#F5F6F9",
        "plot_bgcolor": "#F5F6F9",
        "showlegend": false,
        "template": {
         "data": {
          "bar": [
           {
            "error_x": {
             "color": "#2a3f5f"
            },
            "error_y": {
             "color": "#2a3f5f"
            },
            "marker": {
             "line": {
              "color": "#E5ECF6",
              "width": 0.5
             }
            },
            "type": "bar"
           }
          ],
          "barpolar": [
           {
            "marker": {
             "line": {
              "color": "#E5ECF6",
              "width": 0.5
             }
            },
            "type": "barpolar"
           }
          ],
          "carpet": [
           {
            "aaxis": {
             "endlinecolor": "#2a3f5f",
             "gridcolor": "white",
             "linecolor": "white",
             "minorgridcolor": "white",
             "startlinecolor": "#2a3f5f"
            },
            "baxis": {
             "endlinecolor": "#2a3f5f",
             "gridcolor": "white",
             "linecolor": "white",
             "minorgridcolor": "white",
             "startlinecolor": "#2a3f5f"
            },
            "type": "carpet"
           }
          ],
          "choropleth": [
           {
            "colorbar": {
             "outlinewidth": 0,
             "ticks": ""
            },
            "type": "choropleth"
           }
          ],
          "contour": [
           {
            "colorbar": {
             "outlinewidth": 0,
             "ticks": ""
            },
            "colorscale": [
             [
              0,
              "#0d0887"
             ],
             [
              0.1111111111111111,
              "#46039f"
             ],
             [
              0.2222222222222222,
              "#7201a8"
             ],
             [
              0.3333333333333333,
              "#9c179e"
             ],
             [
              0.4444444444444444,
              "#bd3786"
             ],
             [
              0.5555555555555556,
              "#d8576b"
             ],
             [
              0.6666666666666666,
              "#ed7953"
             ],
             [
              0.7777777777777778,
              "#fb9f3a"
             ],
             [
              0.8888888888888888,
              "#fdca26"
             ],
             [
              1,
              "#f0f921"
             ]
            ],
            "type": "contour"
           }
          ],
          "contourcarpet": [
           {
            "colorbar": {
             "outlinewidth": 0,
             "ticks": ""
            },
            "type": "contourcarpet"
           }
          ],
          "heatmap": [
           {
            "colorbar": {
             "outlinewidth": 0,
             "ticks": ""
            },
            "colorscale": [
             [
              0,
              "#0d0887"
             ],
             [
              0.1111111111111111,
              "#46039f"
             ],
             [
              0.2222222222222222,
              "#7201a8"
             ],
             [
              0.3333333333333333,
              "#9c179e"
             ],
             [
              0.4444444444444444,
              "#bd3786"
             ],
             [
              0.5555555555555556,
              "#d8576b"
             ],
             [
              0.6666666666666666,
              "#ed7953"
             ],
             [
              0.7777777777777778,
              "#fb9f3a"
             ],
             [
              0.8888888888888888,
              "#fdca26"
             ],
             [
              1,
              "#f0f921"
             ]
            ],
            "type": "heatmap"
           }
          ],
          "heatmapgl": [
           {
            "colorbar": {
             "outlinewidth": 0,
             "ticks": ""
            },
            "colorscale": [
             [
              0,
              "#0d0887"
             ],
             [
              0.1111111111111111,
              "#46039f"
             ],
             [
              0.2222222222222222,
              "#7201a8"
             ],
             [
              0.3333333333333333,
              "#9c179e"
             ],
             [
              0.4444444444444444,
              "#bd3786"
             ],
             [
              0.5555555555555556,
              "#d8576b"
             ],
             [
              0.6666666666666666,
              "#ed7953"
             ],
             [
              0.7777777777777778,
              "#fb9f3a"
             ],
             [
              0.8888888888888888,
              "#fdca26"
             ],
             [
              1,
              "#f0f921"
             ]
            ],
            "type": "heatmapgl"
           }
          ],
          "histogram": [
           {
            "marker": {
             "colorbar": {
              "outlinewidth": 0,
              "ticks": ""
             }
            },
            "type": "histogram"
           }
          ],
          "histogram2d": [
           {
            "colorbar": {
             "outlinewidth": 0,
             "ticks": ""
            },
            "colorscale": [
             [
              0,
              "#0d0887"
             ],
             [
              0.1111111111111111,
              "#46039f"
             ],
             [
              0.2222222222222222,
              "#7201a8"
             ],
             [
              0.3333333333333333,
              "#9c179e"
             ],
             [
              0.4444444444444444,
              "#bd3786"
             ],
             [
              0.5555555555555556,
              "#d8576b"
             ],
             [
              0.6666666666666666,
              "#ed7953"
             ],
             [
              0.7777777777777778,
              "#fb9f3a"
             ],
             [
              0.8888888888888888,
              "#fdca26"
             ],
             [
              1,
              "#f0f921"
             ]
            ],
            "type": "histogram2d"
           }
          ],
          "histogram2dcontour": [
           {
            "colorbar": {
             "outlinewidth": 0,
             "ticks": ""
            },
            "colorscale": [
             [
              0,
              "#0d0887"
             ],
             [
              0.1111111111111111,
              "#46039f"
             ],
             [
              0.2222222222222222,
              "#7201a8"
             ],
             [
              0.3333333333333333,
              "#9c179e"
             ],
             [
              0.4444444444444444,
              "#bd3786"
             ],
             [
              0.5555555555555556,
              "#d8576b"
             ],
             [
              0.6666666666666666,
              "#ed7953"
             ],
             [
              0.7777777777777778,
              "#fb9f3a"
             ],
             [
              0.8888888888888888,
              "#fdca26"
             ],
             [
              1,
              "#f0f921"
             ]
            ],
            "type": "histogram2dcontour"
           }
          ],
          "mesh3d": [
           {
            "colorbar": {
             "outlinewidth": 0,
             "ticks": ""
            },
            "type": "mesh3d"
           }
          ],
          "parcoords": [
           {
            "line": {
             "colorbar": {
              "outlinewidth": 0,
              "ticks": ""
             }
            },
            "type": "parcoords"
           }
          ],
          "pie": [
           {
            "automargin": true,
            "type": "pie"
           }
          ],
          "scatter": [
           {
            "marker": {
             "colorbar": {
              "outlinewidth": 0,
              "ticks": ""
             }
            },
            "type": "scatter"
           }
          ],
          "scatter3d": [
           {
            "line": {
             "colorbar": {
              "outlinewidth": 0,
              "ticks": ""
             }
            },
            "marker": {
             "colorbar": {
              "outlinewidth": 0,
              "ticks": ""
             }
            },
            "type": "scatter3d"
           }
          ],
          "scattercarpet": [
           {
            "marker": {
             "colorbar": {
              "outlinewidth": 0,
              "ticks": ""
             }
            },
            "type": "scattercarpet"
           }
          ],
          "scattergeo": [
           {
            "marker": {
             "colorbar": {
              "outlinewidth": 0,
              "ticks": ""
             }
            },
            "type": "scattergeo"
           }
          ],
          "scattergl": [
           {
            "marker": {
             "colorbar": {
              "outlinewidth": 0,
              "ticks": ""
             }
            },
            "type": "scattergl"
           }
          ],
          "scattermapbox": [
           {
            "marker": {
             "colorbar": {
              "outlinewidth": 0,
              "ticks": ""
             }
            },
            "type": "scattermapbox"
           }
          ],
          "scatterpolar": [
           {
            "marker": {
             "colorbar": {
              "outlinewidth": 0,
              "ticks": ""
             }
            },
            "type": "scatterpolar"
           }
          ],
          "scatterpolargl": [
           {
            "marker": {
             "colorbar": {
              "outlinewidth": 0,
              "ticks": ""
             }
            },
            "type": "scatterpolargl"
           }
          ],
          "scatterternary": [
           {
            "marker": {
             "colorbar": {
              "outlinewidth": 0,
              "ticks": ""
             }
            },
            "type": "scatterternary"
           }
          ],
          "surface": [
           {
            "colorbar": {
             "outlinewidth": 0,
             "ticks": ""
            },
            "colorscale": [
             [
              0,
              "#0d0887"
             ],
             [
              0.1111111111111111,
              "#46039f"
             ],
             [
              0.2222222222222222,
              "#7201a8"
             ],
             [
              0.3333333333333333,
              "#9c179e"
             ],
             [
              0.4444444444444444,
              "#bd3786"
             ],
             [
              0.5555555555555556,
              "#d8576b"
             ],
             [
              0.6666666666666666,
              "#ed7953"
             ],
             [
              0.7777777777777778,
              "#fb9f3a"
             ],
             [
              0.8888888888888888,
              "#fdca26"
             ],
             [
              1,
              "#f0f921"
             ]
            ],
            "type": "surface"
           }
          ],
          "table": [
           {
            "cells": {
             "fill": {
              "color": "#EBF0F8"
             },
             "line": {
              "color": "white"
             }
            },
            "header": {
             "fill": {
              "color": "#C8D4E3"
             },
             "line": {
              "color": "white"
             }
            },
            "type": "table"
           }
          ]
         },
         "layout": {
          "annotationdefaults": {
           "arrowcolor": "#2a3f5f",
           "arrowhead": 0,
           "arrowwidth": 1
          },
          "coloraxis": {
           "colorbar": {
            "outlinewidth": 0,
            "ticks": ""
           }
          },
          "colorscale": {
           "diverging": [
            [
             0,
             "#8e0152"
            ],
            [
             0.1,
             "#c51b7d"
            ],
            [
             0.2,
             "#de77ae"
            ],
            [
             0.3,
             "#f1b6da"
            ],
            [
             0.4,
             "#fde0ef"
            ],
            [
             0.5,
             "#f7f7f7"
            ],
            [
             0.6,
             "#e6f5d0"
            ],
            [
             0.7,
             "#b8e186"
            ],
            [
             0.8,
             "#7fbc41"
            ],
            [
             0.9,
             "#4d9221"
            ],
            [
             1,
             "#276419"
            ]
           ],
           "sequential": [
            [
             0,
             "#0d0887"
            ],
            [
             0.1111111111111111,
             "#46039f"
            ],
            [
             0.2222222222222222,
             "#7201a8"
            ],
            [
             0.3333333333333333,
             "#9c179e"
            ],
            [
             0.4444444444444444,
             "#bd3786"
            ],
            [
             0.5555555555555556,
             "#d8576b"
            ],
            [
             0.6666666666666666,
             "#ed7953"
            ],
            [
             0.7777777777777778,
             "#fb9f3a"
            ],
            [
             0.8888888888888888,
             "#fdca26"
            ],
            [
             1,
             "#f0f921"
            ]
           ],
           "sequentialminus": [
            [
             0,
             "#0d0887"
            ],
            [
             0.1111111111111111,
             "#46039f"
            ],
            [
             0.2222222222222222,
             "#7201a8"
            ],
            [
             0.3333333333333333,
             "#9c179e"
            ],
            [
             0.4444444444444444,
             "#bd3786"
            ],
            [
             0.5555555555555556,
             "#d8576b"
            ],
            [
             0.6666666666666666,
             "#ed7953"
            ],
            [
             0.7777777777777778,
             "#fb9f3a"
            ],
            [
             0.8888888888888888,
             "#fdca26"
            ],
            [
             1,
             "#f0f921"
            ]
           ]
          },
          "colorway": [
           "#636efa",
           "#EF553B",
           "#00cc96",
           "#ab63fa",
           "#FFA15A",
           "#19d3f3",
           "#FF6692",
           "#B6E880",
           "#FF97FF",
           "#FECB52"
          ],
          "font": {
           "color": "#2a3f5f"
          },
          "geo": {
           "bgcolor": "white",
           "lakecolor": "white",
           "landcolor": "#E5ECF6",
           "showlakes": true,
           "showland": true,
           "subunitcolor": "white"
          },
          "hoverlabel": {
           "align": "left"
          },
          "hovermode": "closest",
          "mapbox": {
           "style": "light"
          },
          "paper_bgcolor": "white",
          "plot_bgcolor": "#E5ECF6",
          "polar": {
           "angularaxis": {
            "gridcolor": "white",
            "linecolor": "white",
            "ticks": ""
           },
           "bgcolor": "#E5ECF6",
           "radialaxis": {
            "gridcolor": "white",
            "linecolor": "white",
            "ticks": ""
           }
          },
          "scene": {
           "xaxis": {
            "backgroundcolor": "#E5ECF6",
            "gridcolor": "white",
            "gridwidth": 2,
            "linecolor": "white",
            "showbackground": true,
            "ticks": "",
            "zerolinecolor": "white"
           },
           "yaxis": {
            "backgroundcolor": "#E5ECF6",
            "gridcolor": "white",
            "gridwidth": 2,
            "linecolor": "white",
            "showbackground": true,
            "ticks": "",
            "zerolinecolor": "white"
           },
           "zaxis": {
            "backgroundcolor": "#E5ECF6",
            "gridcolor": "white",
            "gridwidth": 2,
            "linecolor": "white",
            "showbackground": true,
            "ticks": "",
            "zerolinecolor": "white"
           }
          },
          "shapedefaults": {
           "line": {
            "color": "#2a3f5f"
           }
          },
          "ternary": {
           "aaxis": {
            "gridcolor": "white",
            "linecolor": "white",
            "ticks": ""
           },
           "baxis": {
            "gridcolor": "white",
            "linecolor": "white",
            "ticks": ""
           },
           "bgcolor": "#E5ECF6",
           "caxis": {
            "gridcolor": "white",
            "linecolor": "white",
            "ticks": ""
           }
          },
          "title": {
           "x": 0.05
          },
          "xaxis": {
           "automargin": true,
           "gridcolor": "white",
           "linecolor": "white",
           "ticks": "",
           "title": {
            "standoff": 15
           },
           "zerolinecolor": "white",
           "zerolinewidth": 2
          },
          "yaxis": {
           "automargin": true,
           "gridcolor": "white",
           "linecolor": "white",
           "ticks": "",
           "title": {
            "standoff": 15
           },
           "zerolinecolor": "white",
           "zerolinewidth": 2
          }
         }
        },
        "title": {
         "font": {
          "color": "#4D5663"
         }
        },
        "xaxis": {
         "anchor": "y",
         "domain": [
          0,
          0.2125
         ],
         "gridcolor": "#E1E5ED",
         "showgrid": false,
         "tickfont": {
          "color": "#4D5663"
         },
         "title": {
          "font": {
           "color": "#4D5663"
          },
          "text": ""
         },
         "zerolinecolor": "#E1E5ED"
        },
        "xaxis10": {
         "anchor": "y10",
         "domain": [
          0.2625,
          0.475
         ],
         "gridcolor": "#E1E5ED",
         "showgrid": false,
         "tickfont": {
          "color": "#4D5663"
         },
         "title": {
          "font": {
           "color": "#4D5663"
          },
          "text": ""
         },
         "zerolinecolor": "#E1E5ED"
        },
        "xaxis11": {
         "anchor": "y11",
         "domain": [
          0.525,
          0.7375
         ],
         "gridcolor": "#E1E5ED",
         "showgrid": false,
         "tickfont": {
          "color": "#4D5663"
         },
         "title": {
          "font": {
           "color": "#4D5663"
          },
          "text": ""
         },
         "zerolinecolor": "#E1E5ED"
        },
        "xaxis12": {
         "anchor": "y12",
         "domain": [
          0.7875,
          1
         ],
         "gridcolor": "#E1E5ED",
         "showgrid": false,
         "tickfont": {
          "color": "#4D5663"
         },
         "title": {
          "font": {
           "color": "#4D5663"
          },
          "text": ""
         },
         "zerolinecolor": "#E1E5ED"
        },
        "xaxis13": {
         "anchor": "y13",
         "domain": [
          0,
          0.2125
         ],
         "gridcolor": "#E1E5ED",
         "showgrid": false,
         "tickfont": {
          "color": "#4D5663"
         },
         "title": {
          "font": {
           "color": "#4D5663"
          },
          "text": ""
         },
         "zerolinecolor": "#E1E5ED"
        },
        "xaxis14": {
         "anchor": "y14",
         "domain": [
          0.2625,
          0.475
         ],
         "gridcolor": "#E1E5ED",
         "showgrid": false,
         "tickfont": {
          "color": "#4D5663"
         },
         "title": {
          "font": {
           "color": "#4D5663"
          },
          "text": ""
         },
         "zerolinecolor": "#E1E5ED"
        },
        "xaxis15": {
         "anchor": "y15",
         "domain": [
          0.525,
          0.7375
         ],
         "gridcolor": "#E1E5ED",
         "showgrid": false,
         "tickfont": {
          "color": "#4D5663"
         },
         "title": {
          "font": {
           "color": "#4D5663"
          },
          "text": ""
         },
         "zerolinecolor": "#E1E5ED"
        },
        "xaxis16": {
         "anchor": "y16",
         "domain": [
          0.7875,
          1
         ],
         "gridcolor": "#E1E5ED",
         "showgrid": false,
         "tickfont": {
          "color": "#4D5663"
         },
         "title": {
          "font": {
           "color": "#4D5663"
          },
          "text": ""
         },
         "zerolinecolor": "#E1E5ED"
        },
        "xaxis2": {
         "anchor": "y2",
         "domain": [
          0.2625,
          0.475
         ],
         "gridcolor": "#E1E5ED",
         "showgrid": false,
         "tickfont": {
          "color": "#4D5663"
         },
         "title": {
          "font": {
           "color": "#4D5663"
          },
          "text": ""
         },
         "zerolinecolor": "#E1E5ED"
        },
        "xaxis3": {
         "anchor": "y3",
         "domain": [
          0.525,
          0.7375
         ],
         "gridcolor": "#E1E5ED",
         "showgrid": false,
         "tickfont": {
          "color": "#4D5663"
         },
         "title": {
          "font": {
           "color": "#4D5663"
          },
          "text": ""
         },
         "zerolinecolor": "#E1E5ED"
        },
        "xaxis4": {
         "anchor": "y4",
         "domain": [
          0.7875,
          1
         ],
         "gridcolor": "#E1E5ED",
         "showgrid": false,
         "tickfont": {
          "color": "#4D5663"
         },
         "title": {
          "font": {
           "color": "#4D5663"
          },
          "text": ""
         },
         "zerolinecolor": "#E1E5ED"
        },
        "xaxis5": {
         "anchor": "y5",
         "domain": [
          0,
          0.2125
         ],
         "gridcolor": "#E1E5ED",
         "showgrid": false,
         "tickfont": {
          "color": "#4D5663"
         },
         "title": {
          "font": {
           "color": "#4D5663"
          },
          "text": ""
         },
         "zerolinecolor": "#E1E5ED"
        },
        "xaxis6": {
         "anchor": "y6",
         "domain": [
          0.2625,
          0.475
         ],
         "gridcolor": "#E1E5ED",
         "showgrid": false,
         "tickfont": {
          "color": "#4D5663"
         },
         "title": {
          "font": {
           "color": "#4D5663"
          },
          "text": ""
         },
         "zerolinecolor": "#E1E5ED"
        },
        "xaxis7": {
         "anchor": "y7",
         "domain": [
          0.525,
          0.7375
         ],
         "gridcolor": "#E1E5ED",
         "showgrid": false,
         "tickfont": {
          "color": "#4D5663"
         },
         "title": {
          "font": {
           "color": "#4D5663"
          },
          "text": ""
         },
         "zerolinecolor": "#E1E5ED"
        },
        "xaxis8": {
         "anchor": "y8",
         "domain": [
          0.7875,
          1
         ],
         "gridcolor": "#E1E5ED",
         "showgrid": false,
         "tickfont": {
          "color": "#4D5663"
         },
         "title": {
          "font": {
           "color": "#4D5663"
          },
          "text": ""
         },
         "zerolinecolor": "#E1E5ED"
        },
        "xaxis9": {
         "anchor": "y9",
         "domain": [
          0,
          0.2125
         ],
         "gridcolor": "#E1E5ED",
         "showgrid": false,
         "tickfont": {
          "color": "#4D5663"
         },
         "title": {
          "font": {
           "color": "#4D5663"
          },
          "text": ""
         },
         "zerolinecolor": "#E1E5ED"
        },
        "yaxis": {
         "anchor": "x",
         "domain": [
          0.8025,
          1
         ],
         "gridcolor": "#E1E5ED",
         "showgrid": false,
         "tickfont": {
          "color": "#4D5663"
         },
         "title": {
          "font": {
           "color": "#4D5663"
          },
          "text": ""
         },
         "zerolinecolor": "#E1E5ED"
        },
        "yaxis10": {
         "anchor": "x10",
         "domain": [
          0.2675,
          0.465
         ],
         "gridcolor": "#E1E5ED",
         "showgrid": false,
         "tickfont": {
          "color": "#4D5663"
         },
         "title": {
          "font": {
           "color": "#4D5663"
          },
          "text": ""
         },
         "zerolinecolor": "#E1E5ED"
        },
        "yaxis11": {
         "anchor": "x11",
         "domain": [
          0.2675,
          0.465
         ],
         "gridcolor": "#E1E5ED",
         "showgrid": false,
         "tickfont": {
          "color": "#4D5663"
         },
         "title": {
          "font": {
           "color": "#4D5663"
          },
          "text": ""
         },
         "zerolinecolor": "#E1E5ED"
        },
        "yaxis12": {
         "anchor": "x12",
         "domain": [
          0.2675,
          0.465
         ],
         "gridcolor": "#E1E5ED",
         "showgrid": false,
         "tickfont": {
          "color": "#4D5663"
         },
         "title": {
          "font": {
           "color": "#4D5663"
          },
          "text": ""
         },
         "zerolinecolor": "#E1E5ED"
        },
        "yaxis13": {
         "anchor": "x13",
         "domain": [
          0,
          0.1975
         ],
         "gridcolor": "#E1E5ED",
         "showgrid": false,
         "tickfont": {
          "color": "#4D5663"
         },
         "title": {
          "font": {
           "color": "#4D5663"
          },
          "text": ""
         },
         "zerolinecolor": "#E1E5ED"
        },
        "yaxis14": {
         "anchor": "x14",
         "domain": [
          0,
          0.1975
         ],
         "gridcolor": "#E1E5ED",
         "showgrid": false,
         "tickfont": {
          "color": "#4D5663"
         },
         "title": {
          "font": {
           "color": "#4D5663"
          },
          "text": ""
         },
         "zerolinecolor": "#E1E5ED"
        },
        "yaxis15": {
         "anchor": "x15",
         "domain": [
          0,
          0.1975
         ],
         "gridcolor": "#E1E5ED",
         "showgrid": false,
         "tickfont": {
          "color": "#4D5663"
         },
         "title": {
          "font": {
           "color": "#4D5663"
          },
          "text": ""
         },
         "zerolinecolor": "#E1E5ED"
        },
        "yaxis16": {
         "anchor": "x16",
         "domain": [
          0,
          0.1975
         ],
         "gridcolor": "#E1E5ED",
         "showgrid": false,
         "tickfont": {
          "color": "#4D5663"
         },
         "title": {
          "font": {
           "color": "#4D5663"
          },
          "text": ""
         },
         "zerolinecolor": "#E1E5ED"
        },
        "yaxis2": {
         "anchor": "x2",
         "domain": [
          0.8025,
          1
         ],
         "gridcolor": "#E1E5ED",
         "showgrid": false,
         "tickfont": {
          "color": "#4D5663"
         },
         "title": {
          "font": {
           "color": "#4D5663"
          },
          "text": ""
         },
         "zerolinecolor": "#E1E5ED"
        },
        "yaxis3": {
         "anchor": "x3",
         "domain": [
          0.8025,
          1
         ],
         "gridcolor": "#E1E5ED",
         "showgrid": false,
         "tickfont": {
          "color": "#4D5663"
         },
         "title": {
          "font": {
           "color": "#4D5663"
          },
          "text": ""
         },
         "zerolinecolor": "#E1E5ED"
        },
        "yaxis4": {
         "anchor": "x4",
         "domain": [
          0.8025,
          1
         ],
         "gridcolor": "#E1E5ED",
         "showgrid": false,
         "tickfont": {
          "color": "#4D5663"
         },
         "title": {
          "font": {
           "color": "#4D5663"
          },
          "text": ""
         },
         "zerolinecolor": "#E1E5ED"
        },
        "yaxis5": {
         "anchor": "x5",
         "domain": [
          0.535,
          0.7325
         ],
         "gridcolor": "#E1E5ED",
         "showgrid": false,
         "tickfont": {
          "color": "#4D5663"
         },
         "title": {
          "font": {
           "color": "#4D5663"
          },
          "text": ""
         },
         "zerolinecolor": "#E1E5ED"
        },
        "yaxis6": {
         "anchor": "x6",
         "domain": [
          0.535,
          0.7325
         ],
         "gridcolor": "#E1E5ED",
         "showgrid": false,
         "tickfont": {
          "color": "#4D5663"
         },
         "title": {
          "font": {
           "color": "#4D5663"
          },
          "text": ""
         },
         "zerolinecolor": "#E1E5ED"
        },
        "yaxis7": {
         "anchor": "x7",
         "domain": [
          0.535,
          0.7325
         ],
         "gridcolor": "#E1E5ED",
         "showgrid": false,
         "tickfont": {
          "color": "#4D5663"
         },
         "title": {
          "font": {
           "color": "#4D5663"
          },
          "text": ""
         },
         "zerolinecolor": "#E1E5ED"
        },
        "yaxis8": {
         "anchor": "x8",
         "domain": [
          0.535,
          0.7325
         ],
         "gridcolor": "#E1E5ED",
         "showgrid": false,
         "tickfont": {
          "color": "#4D5663"
         },
         "title": {
          "font": {
           "color": "#4D5663"
          },
          "text": ""
         },
         "zerolinecolor": "#E1E5ED"
        },
        "yaxis9": {
         "anchor": "x9",
         "domain": [
          0.2675,
          0.465
         ],
         "gridcolor": "#E1E5ED",
         "showgrid": false,
         "tickfont": {
          "color": "#4D5663"
         },
         "title": {
          "font": {
           "color": "#4D5663"
          },
          "text": ""
         },
         "zerolinecolor": "#E1E5ED"
        }
       }
      },
      "text/html": [
       "<div>\n",
       "        \n",
       "        \n",
       "            <div id=\"d0a2343d-2f18-42ca-8494-1bda5770f39a\" class=\"plotly-graph-div\" style=\"height:525px; width:100%;\"></div>\n",
       "            <script type=\"text/javascript\">\n",
       "                require([\"plotly\"], function(Plotly) {\n",
       "                    window.PLOTLYENV=window.PLOTLYENV || {};\n",
       "                    window.PLOTLYENV.BASE_URL='https://plot.ly';\n",
       "                    \n",
       "                if (document.getElementById(\"d0a2343d-2f18-42ca-8494-1bda5770f39a\")) {\n",
       "                    Plotly.newPlot(\n",
       "                        'd0a2343d-2f18-42ca-8494-1bda5770f39a',\n",
       "                        [{\"histfunc\": \"count\", \"histnorm\": \"\", \"marker\": {\"color\": \"rgba(255, 153, 51, 1.0)\", \"line\": {\"color\": \"#4D5663\", \"width\": 1.3}}, \"name\": \"A\", \"nbinsx\": 10, \"opacity\": 0.8, \"orientation\": \"v\", \"type\": \"histogram\", \"x\": [0.7384849679917865, -0.4739703576787497, -1.2410850999181424, 0.011239248866355677, -0.3023127905230943, 0.2363230440172158, -0.28402355339350155, 0.9399206409610732, 0.7622389377177152, 0.9498089256425105, -1.6162083558302955, 0.9646435176708447, 0.6614496914739366, -1.716143334033692, -2.5356915148878794, -0.9617606145051862, 0.008293435242292549, 1.4810906706268816, 0.6930911578507049, 0.7517083996567843, 1.6773600899238656, 0.20023565995701395, -0.4862336432496669, 0.6424563113780488, 1.0529264632088229, -0.5194348158769179, 0.5193794476182205, -0.2177636551563566, 0.5730394684480788, 0.8894265882891824, 0.16574773044920646, -0.36556200969439046, -0.6371054172325357, 1.1301373234143273, -0.3552754866053425, -0.7883959295021864, 0.5859129449503426, -1.3343892432421331, -0.21179498740280153, 0.8445155577573598, -1.0158186524593766, 1.046865972107086, 1.35629825666338, 1.2275847492949927, -1.8092078608463722, 0.3104716386755969, 1.9439385481339027, -0.046302866157695736, 0.9939623927497057, -1.5237946534936748, -1.3326917554580766, 2.4142179028316892, 0.04185598515241913, -2.1987326086021013, 0.23139778756142068, 0.9666403300832923, -0.24296102909533798, -0.6476057938239268, -0.16151360123863254, 0.4793347634889624, 0.6347851945989572, 0.8434974936512513, 1.002062963811421, 1.2616989085150399, -0.4796951126108852, -1.0526870741532763, -1.19889718235249, -0.8743996784021727, 0.9033046003458987, -1.514389455518979, -0.9101640903693848, 1.3029787614274848, -0.574457267580267, -1.1532287536452923, -1.9252554195383396, 1.5403188122329121, -0.6187670029735031, 1.7146672083316403, 1.2440564828005858, -0.0009091919227137812, 1.1007579242326673, 0.6006154386851078, -1.1507471833784182, -0.7789990876013348, -0.28419337049955345, 1.0236872992597577, 0.7399035390241175, 0.1545230603764189, -1.2790224177216212, 0.8595009913364225, 0.2626145547074289, 0.553328600134025, 0.2672852048766201, -0.8914354807363999, 0.5002622086866662, 0.3346114667624826, -0.8529924982020634, 1.339333316246086, 0.5939467712682505, -1.3180613570001438], \"xaxis\": \"x\", \"yaxis\": \"y\"}, {\"line\": {\"color\": \"rgba(128, 128, 128, 1.0)\", \"dash\": \"solid\", \"shape\": \"linear\", \"width\": 1.3}, \"marker\": {\"size\": 2, \"symbol\": \"circle\"}, \"mode\": \"markers\", \"name\": \"A\", \"text\": \"\", \"type\": \"scatter\", \"x\": [-0.22246154249852684, -0.011662737015524104, 0.7002550390215904, -0.2088604533672652, 0.2787572766419977, 0.34604688919031246, 0.3289741381728799, -1.4546634160557221, 0.6591005023770535, 1.6307541996396775, 0.3537425977973349, 0.35489662287960494, -1.2552285412285955, 0.7766227724788735, 0.7313851441745576, 0.17409712272179598, -0.558850148283852, -0.18278009610374715, -0.4385690580727113, -1.1979389827605196, 0.21153250433833218, 0.7543561045168725, 0.10568114726276448, 1.4740937158560674, 0.9652011233966097, -0.23486161961194427, -1.389623772561859, 0.30668566443217743, 1.1120348830089202, 0.46831830167324723, -0.5991384580070195, -0.7034819235937314, -0.005756903041385128, -1.1456182321306265, 0.031447866394256334, 1.4440326575276348, -0.1595369128971009, -0.46006264151509857, -1.2419810080488065, 0.4424990438592372, -0.45458918117909897, 0.07040854588577262, 0.535026123128374, -2.7627953832152032, -0.3566709243240767, -0.2779553288515251, -0.5499009597665894, -0.1278460935717795, 1.2186892425013678, -0.1565647499422839, -1.1879500510181082, -0.4304626168115283, 0.4839416813547892, 0.1542255059732776, -1.5231298483752214, 1.5886158111510897, 1.1141356720888698, -0.7321655368474803, -1.8814304721270192, 1.4635612494042156, -1.9827593304106776, 0.36790536391933965, -1.0843989162324759, -0.13268326375570524, -1.6066444790362937, -0.19722633200110679, 0.0003473747000489338, 0.7826322058019856, 0.0046955420792266205, 1.7155986699348522, -0.7952410822232646, 0.4882204326033132, 1.6053990972634442, -0.08503043769723694, 0.6981169497045339, 0.4718828971526396, -1.2029461823427046, 0.052845734585076666, 0.9822259990893973, -0.8590769849077312, -0.04120464990107362, -1.7569650582262712, 1.1397519733719323, -0.6312149218917715, -0.046107887891385216, 0.24742340686524372, 1.5567864402222436, -0.37985498147004226, -0.9037102602281021, 0.49753117291240284, 0.5670835787226005, -0.38057329716763133, 1.3577291622340146, 0.7109426758026244, 0.26514239168730397, -1.2476736047793413, -0.44164479753864827, -0.033615157654650896, 0.5647092086237513, -0.511942159121852], \"xaxis\": \"x2\", \"y\": [0.7384849679917865, -0.4739703576787497, -1.2410850999181424, 0.011239248866355677, -0.3023127905230943, 0.2363230440172158, -0.28402355339350155, 0.9399206409610732, 0.7622389377177152, 0.9498089256425105, -1.6162083558302955, 0.9646435176708447, 0.6614496914739366, -1.716143334033692, -2.5356915148878794, -0.9617606145051862, 0.008293435242292549, 1.4810906706268816, 0.6930911578507049, 0.7517083996567843, 1.6773600899238656, 0.20023565995701395, -0.4862336432496669, 0.6424563113780488, 1.0529264632088229, -0.5194348158769179, 0.5193794476182205, -0.2177636551563566, 0.5730394684480788, 0.8894265882891824, 0.16574773044920646, -0.36556200969439046, -0.6371054172325357, 1.1301373234143273, -0.3552754866053425, -0.7883959295021864, 0.5859129449503426, -1.3343892432421331, -0.21179498740280153, 0.8445155577573598, -1.0158186524593766, 1.046865972107086, 1.35629825666338, 1.2275847492949927, -1.8092078608463722, 0.3104716386755969, 1.9439385481339027, -0.046302866157695736, 0.9939623927497057, -1.5237946534936748, -1.3326917554580766, 2.4142179028316892, 0.04185598515241913, -2.1987326086021013, 0.23139778756142068, 0.9666403300832923, -0.24296102909533798, -0.6476057938239268, -0.16151360123863254, 0.4793347634889624, 0.6347851945989572, 0.8434974936512513, 1.002062963811421, 1.2616989085150399, -0.4796951126108852, -1.0526870741532763, -1.19889718235249, -0.8743996784021727, 0.9033046003458987, -1.514389455518979, -0.9101640903693848, 1.3029787614274848, -0.574457267580267, -1.1532287536452923, -1.9252554195383396, 1.5403188122329121, -0.6187670029735031, 1.7146672083316403, 1.2440564828005858, -0.0009091919227137812, 1.1007579242326673, 0.6006154386851078, -1.1507471833784182, -0.7789990876013348, -0.28419337049955345, 1.0236872992597577, 0.7399035390241175, 0.1545230603764189, -1.2790224177216212, 0.8595009913364225, 0.2626145547074289, 0.553328600134025, 0.2672852048766201, -0.8914354807363999, 0.5002622086866662, 0.3346114667624826, -0.8529924982020634, 1.339333316246086, 0.5939467712682505, -1.3180613570001438], \"yaxis\": \"y2\"}, {\"line\": {\"color\": \"rgba(128, 128, 128, 1.0)\", \"dash\": \"solid\", \"shape\": \"linear\", \"width\": 1.3}, \"marker\": {\"size\": 2, \"symbol\": \"circle\"}, \"mode\": \"markers\", \"name\": \"A\", \"text\": \"\", \"type\": \"scatter\", \"x\": [0.3327097562536328, -1.4989734130569317, 1.5183796176928412, -1.602061657580099, -0.1223028920412938, 1.386107101382463, -0.3415490358671324, -0.601432993832816, -0.7250537936410264, -0.25995473648644335, -1.2422490910298027, 1.1742302850063706, 0.18699966489887976, 1.2662228253927414, -1.251580842922223, -0.7282265939616873, 1.5879017425376987, 0.6091752542674607, 0.532904734654383, 0.9974016167066104, -0.22956798544070212, 1.183297268164457, -1.3935594197207464, 0.4542969291289916, -0.9726084682689599, 2.16182929854646, 0.23301146780323445, -0.1960668029901525, -0.8074931010293909, -0.011076559186416392, 0.6526452912513951, -0.011420869869149506, 0.40729498041940865, -1.4608135825814752, -1.0743052935041677, -1.067976015767999, -1.939351767318399, 0.393969215925592, 0.4943040456489618, 1.941061809173201, -0.3545833883013441, -1.3630645831972743, -0.7808083882051318, 0.14828932191953875, 1.1809111049948051, 0.4120562337432101, 0.15330385255565906, 0.7818987007205416, -0.33260463389752076, -1.063339758890112, -0.2157947274815626, 1.1668965390573576, -1.0062129725618667, 0.8563185855337104, 0.1134259884042055, 0.16124262504863326, 0.8723792648240553, -1.5779154984640098, -1.7194283418339689, -0.7438004534439292, -0.3193951573849327, 0.6608682615796827, 0.09013167999011383, -2.692713245513669, 1.444401329767143, 0.20119976229306244, 0.032921153652011204, -0.9119279263574213, 0.2590428295494773, -0.9967937373445537, -0.7374266907019629, 0.9000772812275898, 0.8388976395866024, 0.3927020144340531, 0.34208830190986056, -1.1218914946391794, -0.054772158324748514, 0.6859401772791511, 0.24968117808815007, 0.48624800196760376, 0.8227827699143407, -0.5065635151644389, -0.35418313928200706, 0.8249811569719638, -1.0825434719372715, 0.28888600126108677, 1.0131678182935049, -2.3299803613355308, 0.3107692820192783, -0.36606223453421693, -0.7307619449006915, -1.8881767667272429, -1.44561951925092, -0.1926918554444059, -0.10295541446747797, -0.5426933739808347, -0.9278063200643781, -0.31714133131824696, -0.5357162118674762, -1.193869715470299], \"xaxis\": \"x3\", \"y\": [0.7384849679917865, -0.4739703576787497, -1.2410850999181424, 0.011239248866355677, -0.3023127905230943, 0.2363230440172158, -0.28402355339350155, 0.9399206409610732, 0.7622389377177152, 0.9498089256425105, -1.6162083558302955, 0.9646435176708447, 0.6614496914739366, -1.716143334033692, -2.5356915148878794, -0.9617606145051862, 0.008293435242292549, 1.4810906706268816, 0.6930911578507049, 0.7517083996567843, 1.6773600899238656, 0.20023565995701395, -0.4862336432496669, 0.6424563113780488, 1.0529264632088229, -0.5194348158769179, 0.5193794476182205, -0.2177636551563566, 0.5730394684480788, 0.8894265882891824, 0.16574773044920646, -0.36556200969439046, -0.6371054172325357, 1.1301373234143273, -0.3552754866053425, -0.7883959295021864, 0.5859129449503426, -1.3343892432421331, -0.21179498740280153, 0.8445155577573598, -1.0158186524593766, 1.046865972107086, 1.35629825666338, 1.2275847492949927, -1.8092078608463722, 0.3104716386755969, 1.9439385481339027, -0.046302866157695736, 0.9939623927497057, -1.5237946534936748, -1.3326917554580766, 2.4142179028316892, 0.04185598515241913, -2.1987326086021013, 0.23139778756142068, 0.9666403300832923, -0.24296102909533798, -0.6476057938239268, -0.16151360123863254, 0.4793347634889624, 0.6347851945989572, 0.8434974936512513, 1.002062963811421, 1.2616989085150399, -0.4796951126108852, -1.0526870741532763, -1.19889718235249, -0.8743996784021727, 0.9033046003458987, -1.514389455518979, -0.9101640903693848, 1.3029787614274848, -0.574457267580267, -1.1532287536452923, -1.9252554195383396, 1.5403188122329121, -0.6187670029735031, 1.7146672083316403, 1.2440564828005858, -0.0009091919227137812, 1.1007579242326673, 0.6006154386851078, -1.1507471833784182, -0.7789990876013348, -0.28419337049955345, 1.0236872992597577, 0.7399035390241175, 0.1545230603764189, -1.2790224177216212, 0.8595009913364225, 0.2626145547074289, 0.553328600134025, 0.2672852048766201, -0.8914354807363999, 0.5002622086866662, 0.3346114667624826, -0.8529924982020634, 1.339333316246086, 0.5939467712682505, -1.3180613570001438], \"yaxis\": \"y3\"}, {\"line\": {\"color\": \"rgba(128, 128, 128, 1.0)\", \"dash\": \"solid\", \"shape\": \"linear\", \"width\": 1.3}, \"marker\": {\"size\": 2, \"symbol\": \"circle\"}, \"mode\": \"markers\", \"name\": \"A\", \"text\": \"\", \"type\": \"scatter\", \"x\": [1.006990415230797, -1.964224009771347, 1.3656734904303878, -0.7193889981597499, -0.8171992346531632, 0.5021579854133826, 0.35360746817993566, 0.5038180043335287, -0.2253065854925412, -1.4462053896103182, 0.3861215592594124, 0.17553505879195624, -0.773045807558028, 0.13715218564236864, 1.5918514617857802, -0.4541260388835454, -0.18374369785544023, -0.8468969582370742, 0.5283326291655621, -0.3174351528315366, -1.0113652796135721, 0.9554437511695475, 0.5317592920635177, -1.1986891128069317, 1.180012584596935, -1.367233734745869, 1.4216979437389021, -0.9536445111054623, 1.2214783934231426, -1.1852333113110671, 0.49595433276191425, -0.45700591898119247, -1.1634992086301335, -0.13614299129424992, 0.02864078911815982, -1.4482685079878088, -1.340073852456306, -0.8775196074063242, -0.5642131429299626, -0.15774696869111168, 1.6033684846714356, -1.352154240820155, -1.948424273992968, -0.10923332834192306, -0.3466984292093084, 1.0532876042637498, 1.3965753639823184, -0.7739337356756031, -0.5389000139848649, -1.7735102893998769, 0.7389552763546952, 1.1560874109408732, -1.5135193096899042, -1.5296404603654188, -0.01811472250897168, -0.23981216790408158, 1.05440571047474, -0.7269334496791185, -0.8487333258876862, -2.1362246634378965, 0.7639994045130143, 1.041339972611782, -0.6445210539291163, 0.941398881539454, 1.172472601402738, 1.157144971904907, -0.0016700911030675986, -0.21367099215600008, 0.544287382614512, -1.013023022204178, 0.6653553768385813, -1.081995803987892, -0.40908139281268663, 0.4469096983868547, -1.3070142630453834, -1.1335484106420068, -2.3398158121759938, 1.4313050099281213, -2.231818743879048, -0.4804009515284093, -1.0390003724195962, -2.4086907714026657, 1.5512854832772243, -1.3352871785495308, 0.21023107076646222, -0.9080772668139966, 1.0746116244508543, 1.352082889036443, -0.1547880916645823, -1.1852507629309106, -1.3196289178696639, 1.5416264834243936, 0.22671561843620253, -2.183184432019304, -0.23289429388985733, 0.3174235728119984, -1.6823920236896401, -0.9468513506631693, -1.6776217112530991, 0.8099531353330475], \"xaxis\": \"x4\", \"y\": [0.7384849679917865, -0.4739703576787497, -1.2410850999181424, 0.011239248866355677, -0.3023127905230943, 0.2363230440172158, -0.28402355339350155, 0.9399206409610732, 0.7622389377177152, 0.9498089256425105, -1.6162083558302955, 0.9646435176708447, 0.6614496914739366, -1.716143334033692, -2.5356915148878794, -0.9617606145051862, 0.008293435242292549, 1.4810906706268816, 0.6930911578507049, 0.7517083996567843, 1.6773600899238656, 0.20023565995701395, -0.4862336432496669, 0.6424563113780488, 1.0529264632088229, -0.5194348158769179, 0.5193794476182205, -0.2177636551563566, 0.5730394684480788, 0.8894265882891824, 0.16574773044920646, -0.36556200969439046, -0.6371054172325357, 1.1301373234143273, -0.3552754866053425, -0.7883959295021864, 0.5859129449503426, -1.3343892432421331, -0.21179498740280153, 0.8445155577573598, -1.0158186524593766, 1.046865972107086, 1.35629825666338, 1.2275847492949927, -1.8092078608463722, 0.3104716386755969, 1.9439385481339027, -0.046302866157695736, 0.9939623927497057, -1.5237946534936748, -1.3326917554580766, 2.4142179028316892, 0.04185598515241913, -2.1987326086021013, 0.23139778756142068, 0.9666403300832923, -0.24296102909533798, -0.6476057938239268, -0.16151360123863254, 0.4793347634889624, 0.6347851945989572, 0.8434974936512513, 1.002062963811421, 1.2616989085150399, -0.4796951126108852, -1.0526870741532763, -1.19889718235249, -0.8743996784021727, 0.9033046003458987, -1.514389455518979, -0.9101640903693848, 1.3029787614274848, -0.574457267580267, -1.1532287536452923, -1.9252554195383396, 1.5403188122329121, -0.6187670029735031, 1.7146672083316403, 1.2440564828005858, -0.0009091919227137812, 1.1007579242326673, 0.6006154386851078, -1.1507471833784182, -0.7789990876013348, -0.28419337049955345, 1.0236872992597577, 0.7399035390241175, 0.1545230603764189, -1.2790224177216212, 0.8595009913364225, 0.2626145547074289, 0.553328600134025, 0.2672852048766201, -0.8914354807363999, 0.5002622086866662, 0.3346114667624826, -0.8529924982020634, 1.339333316246086, 0.5939467712682505, -1.3180613570001438], \"yaxis\": \"y4\"}, {\"line\": {\"color\": \"rgba(128, 128, 128, 1.0)\", \"dash\": \"solid\", \"shape\": \"linear\", \"width\": 1.3}, \"marker\": {\"size\": 2, \"symbol\": \"circle\"}, \"mode\": \"markers\", \"name\": \"B\", \"text\": \"\", \"type\": \"scatter\", \"x\": [0.7384849679917865, -0.4739703576787497, -1.2410850999181424, 0.011239248866355677, -0.3023127905230943, 0.2363230440172158, -0.28402355339350155, 0.9399206409610732, 0.7622389377177152, 0.9498089256425105, -1.6162083558302955, 0.9646435176708447, 0.6614496914739366, -1.716143334033692, -2.5356915148878794, -0.9617606145051862, 0.008293435242292549, 1.4810906706268816, 0.6930911578507049, 0.7517083996567843, 1.6773600899238656, 0.20023565995701395, -0.4862336432496669, 0.6424563113780488, 1.0529264632088229, -0.5194348158769179, 0.5193794476182205, -0.2177636551563566, 0.5730394684480788, 0.8894265882891824, 0.16574773044920646, -0.36556200969439046, -0.6371054172325357, 1.1301373234143273, -0.3552754866053425, -0.7883959295021864, 0.5859129449503426, -1.3343892432421331, -0.21179498740280153, 0.8445155577573598, -1.0158186524593766, 1.046865972107086, 1.35629825666338, 1.2275847492949927, -1.8092078608463722, 0.3104716386755969, 1.9439385481339027, -0.046302866157695736, 0.9939623927497057, -1.5237946534936748, -1.3326917554580766, 2.4142179028316892, 0.04185598515241913, -2.1987326086021013, 0.23139778756142068, 0.9666403300832923, -0.24296102909533798, -0.6476057938239268, -0.16151360123863254, 0.4793347634889624, 0.6347851945989572, 0.8434974936512513, 1.002062963811421, 1.2616989085150399, -0.4796951126108852, -1.0526870741532763, -1.19889718235249, -0.8743996784021727, 0.9033046003458987, -1.514389455518979, -0.9101640903693848, 1.3029787614274848, -0.574457267580267, -1.1532287536452923, -1.9252554195383396, 1.5403188122329121, -0.6187670029735031, 1.7146672083316403, 1.2440564828005858, -0.0009091919227137812, 1.1007579242326673, 0.6006154386851078, -1.1507471833784182, -0.7789990876013348, -0.28419337049955345, 1.0236872992597577, 0.7399035390241175, 0.1545230603764189, -1.2790224177216212, 0.8595009913364225, 0.2626145547074289, 0.553328600134025, 0.2672852048766201, -0.8914354807363999, 0.5002622086866662, 0.3346114667624826, -0.8529924982020634, 1.339333316246086, 0.5939467712682505, -1.3180613570001438], \"xaxis\": \"x5\", \"y\": [-0.22246154249852684, -0.011662737015524104, 0.7002550390215904, -0.2088604533672652, 0.2787572766419977, 0.34604688919031246, 0.3289741381728799, -1.4546634160557221, 0.6591005023770535, 1.6307541996396775, 0.3537425977973349, 0.35489662287960494, -1.2552285412285955, 0.7766227724788735, 0.7313851441745576, 0.17409712272179598, -0.558850148283852, -0.18278009610374715, -0.4385690580727113, -1.1979389827605196, 0.21153250433833218, 0.7543561045168725, 0.10568114726276448, 1.4740937158560674, 0.9652011233966097, -0.23486161961194427, -1.389623772561859, 0.30668566443217743, 1.1120348830089202, 0.46831830167324723, -0.5991384580070195, -0.7034819235937314, -0.005756903041385128, -1.1456182321306265, 0.031447866394256334, 1.4440326575276348, -0.1595369128971009, -0.46006264151509857, -1.2419810080488065, 0.4424990438592372, -0.45458918117909897, 0.07040854588577262, 0.535026123128374, -2.7627953832152032, -0.3566709243240767, -0.2779553288515251, -0.5499009597665894, -0.1278460935717795, 1.2186892425013678, -0.1565647499422839, -1.1879500510181082, -0.4304626168115283, 0.4839416813547892, 0.1542255059732776, -1.5231298483752214, 1.5886158111510897, 1.1141356720888698, -0.7321655368474803, -1.8814304721270192, 1.4635612494042156, -1.9827593304106776, 0.36790536391933965, -1.0843989162324759, -0.13268326375570524, -1.6066444790362937, -0.19722633200110679, 0.0003473747000489338, 0.7826322058019856, 0.0046955420792266205, 1.7155986699348522, -0.7952410822232646, 0.4882204326033132, 1.6053990972634442, -0.08503043769723694, 0.6981169497045339, 0.4718828971526396, -1.2029461823427046, 0.052845734585076666, 0.9822259990893973, -0.8590769849077312, -0.04120464990107362, -1.7569650582262712, 1.1397519733719323, -0.6312149218917715, -0.046107887891385216, 0.24742340686524372, 1.5567864402222436, -0.37985498147004226, -0.9037102602281021, 0.49753117291240284, 0.5670835787226005, -0.38057329716763133, 1.3577291622340146, 0.7109426758026244, 0.26514239168730397, -1.2476736047793413, -0.44164479753864827, -0.033615157654650896, 0.5647092086237513, -0.511942159121852], \"yaxis\": \"y5\"}, {\"histfunc\": \"count\", \"histnorm\": \"\", \"marker\": {\"color\": \"rgba(55, 128, 191, 1.0)\", \"line\": {\"color\": \"#4D5663\", \"width\": 1.3}}, \"name\": \"B\", \"nbinsx\": 10, \"opacity\": 0.8, \"orientation\": \"v\", \"type\": \"histogram\", \"x\": [-0.22246154249852684, -0.011662737015524104, 0.7002550390215904, -0.2088604533672652, 0.2787572766419977, 0.34604688919031246, 0.3289741381728799, -1.4546634160557221, 0.6591005023770535, 1.6307541996396775, 0.3537425977973349, 0.35489662287960494, -1.2552285412285955, 0.7766227724788735, 0.7313851441745576, 0.17409712272179598, -0.558850148283852, -0.18278009610374715, -0.4385690580727113, -1.1979389827605196, 0.21153250433833218, 0.7543561045168725, 0.10568114726276448, 1.4740937158560674, 0.9652011233966097, -0.23486161961194427, -1.389623772561859, 0.30668566443217743, 1.1120348830089202, 0.46831830167324723, -0.5991384580070195, -0.7034819235937314, -0.005756903041385128, -1.1456182321306265, 0.031447866394256334, 1.4440326575276348, -0.1595369128971009, -0.46006264151509857, -1.2419810080488065, 0.4424990438592372, -0.45458918117909897, 0.07040854588577262, 0.535026123128374, -2.7627953832152032, -0.3566709243240767, -0.2779553288515251, -0.5499009597665894, -0.1278460935717795, 1.2186892425013678, -0.1565647499422839, -1.1879500510181082, -0.4304626168115283, 0.4839416813547892, 0.1542255059732776, -1.5231298483752214, 1.5886158111510897, 1.1141356720888698, -0.7321655368474803, -1.8814304721270192, 1.4635612494042156, -1.9827593304106776, 0.36790536391933965, -1.0843989162324759, -0.13268326375570524, -1.6066444790362937, -0.19722633200110679, 0.0003473747000489338, 0.7826322058019856, 0.0046955420792266205, 1.7155986699348522, -0.7952410822232646, 0.4882204326033132, 1.6053990972634442, -0.08503043769723694, 0.6981169497045339, 0.4718828971526396, -1.2029461823427046, 0.052845734585076666, 0.9822259990893973, -0.8590769849077312, -0.04120464990107362, -1.7569650582262712, 1.1397519733719323, -0.6312149218917715, -0.046107887891385216, 0.24742340686524372, 1.5567864402222436, -0.37985498147004226, -0.9037102602281021, 0.49753117291240284, 0.5670835787226005, -0.38057329716763133, 1.3577291622340146, 0.7109426758026244, 0.26514239168730397, -1.2476736047793413, -0.44164479753864827, -0.033615157654650896, 0.5647092086237513, -0.511942159121852], \"xaxis\": \"x6\", \"yaxis\": \"y6\"}, {\"line\": {\"color\": \"rgba(128, 128, 128, 1.0)\", \"dash\": \"solid\", \"shape\": \"linear\", \"width\": 1.3}, \"marker\": {\"size\": 2, \"symbol\": \"circle\"}, \"mode\": \"markers\", \"name\": \"B\", \"text\": \"\", \"type\": \"scatter\", \"x\": [0.3327097562536328, -1.4989734130569317, 1.5183796176928412, -1.602061657580099, -0.1223028920412938, 1.386107101382463, -0.3415490358671324, -0.601432993832816, -0.7250537936410264, -0.25995473648644335, -1.2422490910298027, 1.1742302850063706, 0.18699966489887976, 1.2662228253927414, -1.251580842922223, -0.7282265939616873, 1.5879017425376987, 0.6091752542674607, 0.532904734654383, 0.9974016167066104, -0.22956798544070212, 1.183297268164457, -1.3935594197207464, 0.4542969291289916, -0.9726084682689599, 2.16182929854646, 0.23301146780323445, -0.1960668029901525, -0.8074931010293909, -0.011076559186416392, 0.6526452912513951, -0.011420869869149506, 0.40729498041940865, -1.4608135825814752, -1.0743052935041677, -1.067976015767999, -1.939351767318399, 0.393969215925592, 0.4943040456489618, 1.941061809173201, -0.3545833883013441, -1.3630645831972743, -0.7808083882051318, 0.14828932191953875, 1.1809111049948051, 0.4120562337432101, 0.15330385255565906, 0.7818987007205416, -0.33260463389752076, -1.063339758890112, -0.2157947274815626, 1.1668965390573576, -1.0062129725618667, 0.8563185855337104, 0.1134259884042055, 0.16124262504863326, 0.8723792648240553, -1.5779154984640098, -1.7194283418339689, -0.7438004534439292, -0.3193951573849327, 0.6608682615796827, 0.09013167999011383, -2.692713245513669, 1.444401329767143, 0.20119976229306244, 0.032921153652011204, -0.9119279263574213, 0.2590428295494773, -0.9967937373445537, -0.7374266907019629, 0.9000772812275898, 0.8388976395866024, 0.3927020144340531, 0.34208830190986056, -1.1218914946391794, -0.054772158324748514, 0.6859401772791511, 0.24968117808815007, 0.48624800196760376, 0.8227827699143407, -0.5065635151644389, -0.35418313928200706, 0.8249811569719638, -1.0825434719372715, 0.28888600126108677, 1.0131678182935049, -2.3299803613355308, 0.3107692820192783, -0.36606223453421693, -0.7307619449006915, -1.8881767667272429, -1.44561951925092, -0.1926918554444059, -0.10295541446747797, -0.5426933739808347, -0.9278063200643781, -0.31714133131824696, -0.5357162118674762, -1.193869715470299], \"xaxis\": \"x7\", \"y\": [-0.22246154249852684, -0.011662737015524104, 0.7002550390215904, -0.2088604533672652, 0.2787572766419977, 0.34604688919031246, 0.3289741381728799, -1.4546634160557221, 0.6591005023770535, 1.6307541996396775, 0.3537425977973349, 0.35489662287960494, -1.2552285412285955, 0.7766227724788735, 0.7313851441745576, 0.17409712272179598, -0.558850148283852, -0.18278009610374715, -0.4385690580727113, -1.1979389827605196, 0.21153250433833218, 0.7543561045168725, 0.10568114726276448, 1.4740937158560674, 0.9652011233966097, -0.23486161961194427, -1.389623772561859, 0.30668566443217743, 1.1120348830089202, 0.46831830167324723, -0.5991384580070195, -0.7034819235937314, -0.005756903041385128, -1.1456182321306265, 0.031447866394256334, 1.4440326575276348, -0.1595369128971009, -0.46006264151509857, -1.2419810080488065, 0.4424990438592372, -0.45458918117909897, 0.07040854588577262, 0.535026123128374, -2.7627953832152032, -0.3566709243240767, -0.2779553288515251, -0.5499009597665894, -0.1278460935717795, 1.2186892425013678, -0.1565647499422839, -1.1879500510181082, -0.4304626168115283, 0.4839416813547892, 0.1542255059732776, -1.5231298483752214, 1.5886158111510897, 1.1141356720888698, -0.7321655368474803, -1.8814304721270192, 1.4635612494042156, -1.9827593304106776, 0.36790536391933965, -1.0843989162324759, -0.13268326375570524, -1.6066444790362937, -0.19722633200110679, 0.0003473747000489338, 0.7826322058019856, 0.0046955420792266205, 1.7155986699348522, -0.7952410822232646, 0.4882204326033132, 1.6053990972634442, -0.08503043769723694, 0.6981169497045339, 0.4718828971526396, -1.2029461823427046, 0.052845734585076666, 0.9822259990893973, -0.8590769849077312, -0.04120464990107362, -1.7569650582262712, 1.1397519733719323, -0.6312149218917715, -0.046107887891385216, 0.24742340686524372, 1.5567864402222436, -0.37985498147004226, -0.9037102602281021, 0.49753117291240284, 0.5670835787226005, -0.38057329716763133, 1.3577291622340146, 0.7109426758026244, 0.26514239168730397, -1.2476736047793413, -0.44164479753864827, -0.033615157654650896, 0.5647092086237513, -0.511942159121852], \"yaxis\": \"y7\"}, {\"line\": {\"color\": \"rgba(128, 128, 128, 1.0)\", \"dash\": \"solid\", \"shape\": \"linear\", \"width\": 1.3}, \"marker\": {\"size\": 2, \"symbol\": \"circle\"}, \"mode\": \"markers\", \"name\": \"B\", \"text\": \"\", \"type\": \"scatter\", \"x\": [1.006990415230797, -1.964224009771347, 1.3656734904303878, -0.7193889981597499, -0.8171992346531632, 0.5021579854133826, 0.35360746817993566, 0.5038180043335287, -0.2253065854925412, -1.4462053896103182, 0.3861215592594124, 0.17553505879195624, -0.773045807558028, 0.13715218564236864, 1.5918514617857802, -0.4541260388835454, -0.18374369785544023, -0.8468969582370742, 0.5283326291655621, -0.3174351528315366, -1.0113652796135721, 0.9554437511695475, 0.5317592920635177, -1.1986891128069317, 1.180012584596935, -1.367233734745869, 1.4216979437389021, -0.9536445111054623, 1.2214783934231426, -1.1852333113110671, 0.49595433276191425, -0.45700591898119247, -1.1634992086301335, -0.13614299129424992, 0.02864078911815982, -1.4482685079878088, -1.340073852456306, -0.8775196074063242, -0.5642131429299626, -0.15774696869111168, 1.6033684846714356, -1.352154240820155, -1.948424273992968, -0.10923332834192306, -0.3466984292093084, 1.0532876042637498, 1.3965753639823184, -0.7739337356756031, -0.5389000139848649, -1.7735102893998769, 0.7389552763546952, 1.1560874109408732, -1.5135193096899042, -1.5296404603654188, -0.01811472250897168, -0.23981216790408158, 1.05440571047474, -0.7269334496791185, -0.8487333258876862, -2.1362246634378965, 0.7639994045130143, 1.041339972611782, -0.6445210539291163, 0.941398881539454, 1.172472601402738, 1.157144971904907, -0.0016700911030675986, -0.21367099215600008, 0.544287382614512, -1.013023022204178, 0.6653553768385813, -1.081995803987892, -0.40908139281268663, 0.4469096983868547, -1.3070142630453834, -1.1335484106420068, -2.3398158121759938, 1.4313050099281213, -2.231818743879048, -0.4804009515284093, -1.0390003724195962, -2.4086907714026657, 1.5512854832772243, -1.3352871785495308, 0.21023107076646222, -0.9080772668139966, 1.0746116244508543, 1.352082889036443, -0.1547880916645823, -1.1852507629309106, -1.3196289178696639, 1.5416264834243936, 0.22671561843620253, -2.183184432019304, -0.23289429388985733, 0.3174235728119984, -1.6823920236896401, -0.9468513506631693, -1.6776217112530991, 0.8099531353330475], \"xaxis\": \"x8\", \"y\": [-0.22246154249852684, -0.011662737015524104, 0.7002550390215904, -0.2088604533672652, 0.2787572766419977, 0.34604688919031246, 0.3289741381728799, -1.4546634160557221, 0.6591005023770535, 1.6307541996396775, 0.3537425977973349, 0.35489662287960494, -1.2552285412285955, 0.7766227724788735, 0.7313851441745576, 0.17409712272179598, -0.558850148283852, -0.18278009610374715, -0.4385690580727113, -1.1979389827605196, 0.21153250433833218, 0.7543561045168725, 0.10568114726276448, 1.4740937158560674, 0.9652011233966097, -0.23486161961194427, -1.389623772561859, 0.30668566443217743, 1.1120348830089202, 0.46831830167324723, -0.5991384580070195, -0.7034819235937314, -0.005756903041385128, -1.1456182321306265, 0.031447866394256334, 1.4440326575276348, -0.1595369128971009, -0.46006264151509857, -1.2419810080488065, 0.4424990438592372, -0.45458918117909897, 0.07040854588577262, 0.535026123128374, -2.7627953832152032, -0.3566709243240767, -0.2779553288515251, -0.5499009597665894, -0.1278460935717795, 1.2186892425013678, -0.1565647499422839, -1.1879500510181082, -0.4304626168115283, 0.4839416813547892, 0.1542255059732776, -1.5231298483752214, 1.5886158111510897, 1.1141356720888698, -0.7321655368474803, -1.8814304721270192, 1.4635612494042156, -1.9827593304106776, 0.36790536391933965, -1.0843989162324759, -0.13268326375570524, -1.6066444790362937, -0.19722633200110679, 0.0003473747000489338, 0.7826322058019856, 0.0046955420792266205, 1.7155986699348522, -0.7952410822232646, 0.4882204326033132, 1.6053990972634442, -0.08503043769723694, 0.6981169497045339, 0.4718828971526396, -1.2029461823427046, 0.052845734585076666, 0.9822259990893973, -0.8590769849077312, -0.04120464990107362, -1.7569650582262712, 1.1397519733719323, -0.6312149218917715, -0.046107887891385216, 0.24742340686524372, 1.5567864402222436, -0.37985498147004226, -0.9037102602281021, 0.49753117291240284, 0.5670835787226005, -0.38057329716763133, 1.3577291622340146, 0.7109426758026244, 0.26514239168730397, -1.2476736047793413, -0.44164479753864827, -0.033615157654650896, 0.5647092086237513, -0.511942159121852], \"yaxis\": \"y8\"}, {\"line\": {\"color\": \"rgba(128, 128, 128, 1.0)\", \"dash\": \"solid\", \"shape\": \"linear\", \"width\": 1.3}, \"marker\": {\"size\": 2, \"symbol\": \"circle\"}, \"mode\": \"markers\", \"name\": \"C\", \"text\": \"\", \"type\": \"scatter\", \"x\": [0.7384849679917865, -0.4739703576787497, -1.2410850999181424, 0.011239248866355677, -0.3023127905230943, 0.2363230440172158, -0.28402355339350155, 0.9399206409610732, 0.7622389377177152, 0.9498089256425105, -1.6162083558302955, 0.9646435176708447, 0.6614496914739366, -1.716143334033692, -2.5356915148878794, -0.9617606145051862, 0.008293435242292549, 1.4810906706268816, 0.6930911578507049, 0.7517083996567843, 1.6773600899238656, 0.20023565995701395, -0.4862336432496669, 0.6424563113780488, 1.0529264632088229, -0.5194348158769179, 0.5193794476182205, -0.2177636551563566, 0.5730394684480788, 0.8894265882891824, 0.16574773044920646, -0.36556200969439046, -0.6371054172325357, 1.1301373234143273, -0.3552754866053425, -0.7883959295021864, 0.5859129449503426, -1.3343892432421331, -0.21179498740280153, 0.8445155577573598, -1.0158186524593766, 1.046865972107086, 1.35629825666338, 1.2275847492949927, -1.8092078608463722, 0.3104716386755969, 1.9439385481339027, -0.046302866157695736, 0.9939623927497057, -1.5237946534936748, -1.3326917554580766, 2.4142179028316892, 0.04185598515241913, -2.1987326086021013, 0.23139778756142068, 0.9666403300832923, -0.24296102909533798, -0.6476057938239268, -0.16151360123863254, 0.4793347634889624, 0.6347851945989572, 0.8434974936512513, 1.002062963811421, 1.2616989085150399, -0.4796951126108852, -1.0526870741532763, -1.19889718235249, -0.8743996784021727, 0.9033046003458987, -1.514389455518979, -0.9101640903693848, 1.3029787614274848, -0.574457267580267, -1.1532287536452923, -1.9252554195383396, 1.5403188122329121, -0.6187670029735031, 1.7146672083316403, 1.2440564828005858, -0.0009091919227137812, 1.1007579242326673, 0.6006154386851078, -1.1507471833784182, -0.7789990876013348, -0.28419337049955345, 1.0236872992597577, 0.7399035390241175, 0.1545230603764189, -1.2790224177216212, 0.8595009913364225, 0.2626145547074289, 0.553328600134025, 0.2672852048766201, -0.8914354807363999, 0.5002622086866662, 0.3346114667624826, -0.8529924982020634, 1.339333316246086, 0.5939467712682505, -1.3180613570001438], \"xaxis\": \"x9\", \"y\": [0.3327097562536328, -1.4989734130569317, 1.5183796176928412, -1.602061657580099, -0.1223028920412938, 1.386107101382463, -0.3415490358671324, -0.601432993832816, -0.7250537936410264, -0.25995473648644335, -1.2422490910298027, 1.1742302850063706, 0.18699966489887976, 1.2662228253927414, -1.251580842922223, -0.7282265939616873, 1.5879017425376987, 0.6091752542674607, 0.532904734654383, 0.9974016167066104, -0.22956798544070212, 1.183297268164457, -1.3935594197207464, 0.4542969291289916, -0.9726084682689599, 2.16182929854646, 0.23301146780323445, -0.1960668029901525, -0.8074931010293909, -0.011076559186416392, 0.6526452912513951, -0.011420869869149506, 0.40729498041940865, -1.4608135825814752, -1.0743052935041677, -1.067976015767999, -1.939351767318399, 0.393969215925592, 0.4943040456489618, 1.941061809173201, -0.3545833883013441, -1.3630645831972743, -0.7808083882051318, 0.14828932191953875, 1.1809111049948051, 0.4120562337432101, 0.15330385255565906, 0.7818987007205416, -0.33260463389752076, -1.063339758890112, -0.2157947274815626, 1.1668965390573576, -1.0062129725618667, 0.8563185855337104, 0.1134259884042055, 0.16124262504863326, 0.8723792648240553, -1.5779154984640098, -1.7194283418339689, -0.7438004534439292, -0.3193951573849327, 0.6608682615796827, 0.09013167999011383, -2.692713245513669, 1.444401329767143, 0.20119976229306244, 0.032921153652011204, -0.9119279263574213, 0.2590428295494773, -0.9967937373445537, -0.7374266907019629, 0.9000772812275898, 0.8388976395866024, 0.3927020144340531, 0.34208830190986056, -1.1218914946391794, -0.054772158324748514, 0.6859401772791511, 0.24968117808815007, 0.48624800196760376, 0.8227827699143407, -0.5065635151644389, -0.35418313928200706, 0.8249811569719638, -1.0825434719372715, 0.28888600126108677, 1.0131678182935049, -2.3299803613355308, 0.3107692820192783, -0.36606223453421693, -0.7307619449006915, -1.8881767667272429, -1.44561951925092, -0.1926918554444059, -0.10295541446747797, -0.5426933739808347, -0.9278063200643781, -0.31714133131824696, -0.5357162118674762, -1.193869715470299], \"yaxis\": \"y9\"}, {\"line\": {\"color\": \"rgba(128, 128, 128, 1.0)\", \"dash\": \"solid\", \"shape\": \"linear\", \"width\": 1.3}, \"marker\": {\"size\": 2, \"symbol\": \"circle\"}, \"mode\": \"markers\", \"name\": \"C\", \"text\": \"\", \"type\": \"scatter\", \"x\": [-0.22246154249852684, -0.011662737015524104, 0.7002550390215904, -0.2088604533672652, 0.2787572766419977, 0.34604688919031246, 0.3289741381728799, -1.4546634160557221, 0.6591005023770535, 1.6307541996396775, 0.3537425977973349, 0.35489662287960494, -1.2552285412285955, 0.7766227724788735, 0.7313851441745576, 0.17409712272179598, -0.558850148283852, -0.18278009610374715, -0.4385690580727113, -1.1979389827605196, 0.21153250433833218, 0.7543561045168725, 0.10568114726276448, 1.4740937158560674, 0.9652011233966097, -0.23486161961194427, -1.389623772561859, 0.30668566443217743, 1.1120348830089202, 0.46831830167324723, -0.5991384580070195, -0.7034819235937314, -0.005756903041385128, -1.1456182321306265, 0.031447866394256334, 1.4440326575276348, -0.1595369128971009, -0.46006264151509857, -1.2419810080488065, 0.4424990438592372, -0.45458918117909897, 0.07040854588577262, 0.535026123128374, -2.7627953832152032, -0.3566709243240767, -0.2779553288515251, -0.5499009597665894, -0.1278460935717795, 1.2186892425013678, -0.1565647499422839, -1.1879500510181082, -0.4304626168115283, 0.4839416813547892, 0.1542255059732776, -1.5231298483752214, 1.5886158111510897, 1.1141356720888698, -0.7321655368474803, -1.8814304721270192, 1.4635612494042156, -1.9827593304106776, 0.36790536391933965, -1.0843989162324759, -0.13268326375570524, -1.6066444790362937, -0.19722633200110679, 0.0003473747000489338, 0.7826322058019856, 0.0046955420792266205, 1.7155986699348522, -0.7952410822232646, 0.4882204326033132, 1.6053990972634442, -0.08503043769723694, 0.6981169497045339, 0.4718828971526396, -1.2029461823427046, 0.052845734585076666, 0.9822259990893973, -0.8590769849077312, -0.04120464990107362, -1.7569650582262712, 1.1397519733719323, -0.6312149218917715, -0.046107887891385216, 0.24742340686524372, 1.5567864402222436, -0.37985498147004226, -0.9037102602281021, 0.49753117291240284, 0.5670835787226005, -0.38057329716763133, 1.3577291622340146, 0.7109426758026244, 0.26514239168730397, -1.2476736047793413, -0.44164479753864827, -0.033615157654650896, 0.5647092086237513, -0.511942159121852], \"xaxis\": \"x10\", \"y\": [0.3327097562536328, -1.4989734130569317, 1.5183796176928412, -1.602061657580099, -0.1223028920412938, 1.386107101382463, -0.3415490358671324, -0.601432993832816, -0.7250537936410264, -0.25995473648644335, -1.2422490910298027, 1.1742302850063706, 0.18699966489887976, 1.2662228253927414, -1.251580842922223, -0.7282265939616873, 1.5879017425376987, 0.6091752542674607, 0.532904734654383, 0.9974016167066104, -0.22956798544070212, 1.183297268164457, -1.3935594197207464, 0.4542969291289916, -0.9726084682689599, 2.16182929854646, 0.23301146780323445, -0.1960668029901525, -0.8074931010293909, -0.011076559186416392, 0.6526452912513951, -0.011420869869149506, 0.40729498041940865, -1.4608135825814752, -1.0743052935041677, -1.067976015767999, -1.939351767318399, 0.393969215925592, 0.4943040456489618, 1.941061809173201, -0.3545833883013441, -1.3630645831972743, -0.7808083882051318, 0.14828932191953875, 1.1809111049948051, 0.4120562337432101, 0.15330385255565906, 0.7818987007205416, -0.33260463389752076, -1.063339758890112, -0.2157947274815626, 1.1668965390573576, -1.0062129725618667, 0.8563185855337104, 0.1134259884042055, 0.16124262504863326, 0.8723792648240553, -1.5779154984640098, -1.7194283418339689, -0.7438004534439292, -0.3193951573849327, 0.6608682615796827, 0.09013167999011383, -2.692713245513669, 1.444401329767143, 0.20119976229306244, 0.032921153652011204, -0.9119279263574213, 0.2590428295494773, -0.9967937373445537, -0.7374266907019629, 0.9000772812275898, 0.8388976395866024, 0.3927020144340531, 0.34208830190986056, -1.1218914946391794, -0.054772158324748514, 0.6859401772791511, 0.24968117808815007, 0.48624800196760376, 0.8227827699143407, -0.5065635151644389, -0.35418313928200706, 0.8249811569719638, -1.0825434719372715, 0.28888600126108677, 1.0131678182935049, -2.3299803613355308, 0.3107692820192783, -0.36606223453421693, -0.7307619449006915, -1.8881767667272429, -1.44561951925092, -0.1926918554444059, -0.10295541446747797, -0.5426933739808347, -0.9278063200643781, -0.31714133131824696, -0.5357162118674762, -1.193869715470299], \"yaxis\": \"y10\"}, {\"histfunc\": \"count\", \"histnorm\": \"\", \"marker\": {\"color\": \"rgba(50, 171, 96, 1.0)\", \"line\": {\"color\": \"#4D5663\", \"width\": 1.3}}, \"name\": \"C\", \"nbinsx\": 10, \"opacity\": 0.8, \"orientation\": \"v\", \"type\": \"histogram\", \"x\": [0.3327097562536328, -1.4989734130569317, 1.5183796176928412, -1.602061657580099, -0.1223028920412938, 1.386107101382463, -0.3415490358671324, -0.601432993832816, -0.7250537936410264, -0.25995473648644335, -1.2422490910298027, 1.1742302850063706, 0.18699966489887976, 1.2662228253927414, -1.251580842922223, -0.7282265939616873, 1.5879017425376987, 0.6091752542674607, 0.532904734654383, 0.9974016167066104, -0.22956798544070212, 1.183297268164457, -1.3935594197207464, 0.4542969291289916, -0.9726084682689599, 2.16182929854646, 0.23301146780323445, -0.1960668029901525, -0.8074931010293909, -0.011076559186416392, 0.6526452912513951, -0.011420869869149506, 0.40729498041940865, -1.4608135825814752, -1.0743052935041677, -1.067976015767999, -1.939351767318399, 0.393969215925592, 0.4943040456489618, 1.941061809173201, -0.3545833883013441, -1.3630645831972743, -0.7808083882051318, 0.14828932191953875, 1.1809111049948051, 0.4120562337432101, 0.15330385255565906, 0.7818987007205416, -0.33260463389752076, -1.063339758890112, -0.2157947274815626, 1.1668965390573576, -1.0062129725618667, 0.8563185855337104, 0.1134259884042055, 0.16124262504863326, 0.8723792648240553, -1.5779154984640098, -1.7194283418339689, -0.7438004534439292, -0.3193951573849327, 0.6608682615796827, 0.09013167999011383, -2.692713245513669, 1.444401329767143, 0.20119976229306244, 0.032921153652011204, -0.9119279263574213, 0.2590428295494773, -0.9967937373445537, -0.7374266907019629, 0.9000772812275898, 0.8388976395866024, 0.3927020144340531, 0.34208830190986056, -1.1218914946391794, -0.054772158324748514, 0.6859401772791511, 0.24968117808815007, 0.48624800196760376, 0.8227827699143407, -0.5065635151644389, -0.35418313928200706, 0.8249811569719638, -1.0825434719372715, 0.28888600126108677, 1.0131678182935049, -2.3299803613355308, 0.3107692820192783, -0.36606223453421693, -0.7307619449006915, -1.8881767667272429, -1.44561951925092, -0.1926918554444059, -0.10295541446747797, -0.5426933739808347, -0.9278063200643781, -0.31714133131824696, -0.5357162118674762, -1.193869715470299], \"xaxis\": \"x11\", \"yaxis\": \"y11\"}, {\"line\": {\"color\": \"rgba(128, 128, 128, 1.0)\", \"dash\": \"solid\", \"shape\": \"linear\", \"width\": 1.3}, \"marker\": {\"size\": 2, \"symbol\": \"circle\"}, \"mode\": \"markers\", \"name\": \"C\", \"text\": \"\", \"type\": \"scatter\", \"x\": [1.006990415230797, -1.964224009771347, 1.3656734904303878, -0.7193889981597499, -0.8171992346531632, 0.5021579854133826, 0.35360746817993566, 0.5038180043335287, -0.2253065854925412, -1.4462053896103182, 0.3861215592594124, 0.17553505879195624, -0.773045807558028, 0.13715218564236864, 1.5918514617857802, -0.4541260388835454, -0.18374369785544023, -0.8468969582370742, 0.5283326291655621, -0.3174351528315366, -1.0113652796135721, 0.9554437511695475, 0.5317592920635177, -1.1986891128069317, 1.180012584596935, -1.367233734745869, 1.4216979437389021, -0.9536445111054623, 1.2214783934231426, -1.1852333113110671, 0.49595433276191425, -0.45700591898119247, -1.1634992086301335, -0.13614299129424992, 0.02864078911815982, -1.4482685079878088, -1.340073852456306, -0.8775196074063242, -0.5642131429299626, -0.15774696869111168, 1.6033684846714356, -1.352154240820155, -1.948424273992968, -0.10923332834192306, -0.3466984292093084, 1.0532876042637498, 1.3965753639823184, -0.7739337356756031, -0.5389000139848649, -1.7735102893998769, 0.7389552763546952, 1.1560874109408732, -1.5135193096899042, -1.5296404603654188, -0.01811472250897168, -0.23981216790408158, 1.05440571047474, -0.7269334496791185, -0.8487333258876862, -2.1362246634378965, 0.7639994045130143, 1.041339972611782, -0.6445210539291163, 0.941398881539454, 1.172472601402738, 1.157144971904907, -0.0016700911030675986, -0.21367099215600008, 0.544287382614512, -1.013023022204178, 0.6653553768385813, -1.081995803987892, -0.40908139281268663, 0.4469096983868547, -1.3070142630453834, -1.1335484106420068, -2.3398158121759938, 1.4313050099281213, -2.231818743879048, -0.4804009515284093, -1.0390003724195962, -2.4086907714026657, 1.5512854832772243, -1.3352871785495308, 0.21023107076646222, -0.9080772668139966, 1.0746116244508543, 1.352082889036443, -0.1547880916645823, -1.1852507629309106, -1.3196289178696639, 1.5416264834243936, 0.22671561843620253, -2.183184432019304, -0.23289429388985733, 0.3174235728119984, -1.6823920236896401, -0.9468513506631693, -1.6776217112530991, 0.8099531353330475], \"xaxis\": \"x12\", \"y\": [0.3327097562536328, -1.4989734130569317, 1.5183796176928412, -1.602061657580099, -0.1223028920412938, 1.386107101382463, -0.3415490358671324, -0.601432993832816, -0.7250537936410264, -0.25995473648644335, -1.2422490910298027, 1.1742302850063706, 0.18699966489887976, 1.2662228253927414, -1.251580842922223, -0.7282265939616873, 1.5879017425376987, 0.6091752542674607, 0.532904734654383, 0.9974016167066104, -0.22956798544070212, 1.183297268164457, -1.3935594197207464, 0.4542969291289916, -0.9726084682689599, 2.16182929854646, 0.23301146780323445, -0.1960668029901525, -0.8074931010293909, -0.011076559186416392, 0.6526452912513951, -0.011420869869149506, 0.40729498041940865, -1.4608135825814752, -1.0743052935041677, -1.067976015767999, -1.939351767318399, 0.393969215925592, 0.4943040456489618, 1.941061809173201, -0.3545833883013441, -1.3630645831972743, -0.7808083882051318, 0.14828932191953875, 1.1809111049948051, 0.4120562337432101, 0.15330385255565906, 0.7818987007205416, -0.33260463389752076, -1.063339758890112, -0.2157947274815626, 1.1668965390573576, -1.0062129725618667, 0.8563185855337104, 0.1134259884042055, 0.16124262504863326, 0.8723792648240553, -1.5779154984640098, -1.7194283418339689, -0.7438004534439292, -0.3193951573849327, 0.6608682615796827, 0.09013167999011383, -2.692713245513669, 1.444401329767143, 0.20119976229306244, 0.032921153652011204, -0.9119279263574213, 0.2590428295494773, -0.9967937373445537, -0.7374266907019629, 0.9000772812275898, 0.8388976395866024, 0.3927020144340531, 0.34208830190986056, -1.1218914946391794, -0.054772158324748514, 0.6859401772791511, 0.24968117808815007, 0.48624800196760376, 0.8227827699143407, -0.5065635151644389, -0.35418313928200706, 0.8249811569719638, -1.0825434719372715, 0.28888600126108677, 1.0131678182935049, -2.3299803613355308, 0.3107692820192783, -0.36606223453421693, -0.7307619449006915, -1.8881767667272429, -1.44561951925092, -0.1926918554444059, -0.10295541446747797, -0.5426933739808347, -0.9278063200643781, -0.31714133131824696, -0.5357162118674762, -1.193869715470299], \"yaxis\": \"y12\"}, {\"line\": {\"color\": \"rgba(128, 128, 128, 1.0)\", \"dash\": \"solid\", \"shape\": \"linear\", \"width\": 1.3}, \"marker\": {\"size\": 2, \"symbol\": \"circle\"}, \"mode\": \"markers\", \"name\": \"D\", \"text\": \"\", \"type\": \"scatter\", \"x\": [0.7384849679917865, -0.4739703576787497, -1.2410850999181424, 0.011239248866355677, -0.3023127905230943, 0.2363230440172158, -0.28402355339350155, 0.9399206409610732, 0.7622389377177152, 0.9498089256425105, -1.6162083558302955, 0.9646435176708447, 0.6614496914739366, -1.716143334033692, -2.5356915148878794, -0.9617606145051862, 0.008293435242292549, 1.4810906706268816, 0.6930911578507049, 0.7517083996567843, 1.6773600899238656, 0.20023565995701395, -0.4862336432496669, 0.6424563113780488, 1.0529264632088229, -0.5194348158769179, 0.5193794476182205, -0.2177636551563566, 0.5730394684480788, 0.8894265882891824, 0.16574773044920646, -0.36556200969439046, -0.6371054172325357, 1.1301373234143273, -0.3552754866053425, -0.7883959295021864, 0.5859129449503426, -1.3343892432421331, -0.21179498740280153, 0.8445155577573598, -1.0158186524593766, 1.046865972107086, 1.35629825666338, 1.2275847492949927, -1.8092078608463722, 0.3104716386755969, 1.9439385481339027, -0.046302866157695736, 0.9939623927497057, -1.5237946534936748, -1.3326917554580766, 2.4142179028316892, 0.04185598515241913, -2.1987326086021013, 0.23139778756142068, 0.9666403300832923, -0.24296102909533798, -0.6476057938239268, -0.16151360123863254, 0.4793347634889624, 0.6347851945989572, 0.8434974936512513, 1.002062963811421, 1.2616989085150399, -0.4796951126108852, -1.0526870741532763, -1.19889718235249, -0.8743996784021727, 0.9033046003458987, -1.514389455518979, -0.9101640903693848, 1.3029787614274848, -0.574457267580267, -1.1532287536452923, -1.9252554195383396, 1.5403188122329121, -0.6187670029735031, 1.7146672083316403, 1.2440564828005858, -0.0009091919227137812, 1.1007579242326673, 0.6006154386851078, -1.1507471833784182, -0.7789990876013348, -0.28419337049955345, 1.0236872992597577, 0.7399035390241175, 0.1545230603764189, -1.2790224177216212, 0.8595009913364225, 0.2626145547074289, 0.553328600134025, 0.2672852048766201, -0.8914354807363999, 0.5002622086866662, 0.3346114667624826, -0.8529924982020634, 1.339333316246086, 0.5939467712682505, -1.3180613570001438], \"xaxis\": \"x13\", \"y\": [1.006990415230797, -1.964224009771347, 1.3656734904303878, -0.7193889981597499, -0.8171992346531632, 0.5021579854133826, 0.35360746817993566, 0.5038180043335287, -0.2253065854925412, -1.4462053896103182, 0.3861215592594124, 0.17553505879195624, -0.773045807558028, 0.13715218564236864, 1.5918514617857802, -0.4541260388835454, -0.18374369785544023, -0.8468969582370742, 0.5283326291655621, -0.3174351528315366, -1.0113652796135721, 0.9554437511695475, 0.5317592920635177, -1.1986891128069317, 1.180012584596935, -1.367233734745869, 1.4216979437389021, -0.9536445111054623, 1.2214783934231426, -1.1852333113110671, 0.49595433276191425, -0.45700591898119247, -1.1634992086301335, -0.13614299129424992, 0.02864078911815982, -1.4482685079878088, -1.340073852456306, -0.8775196074063242, -0.5642131429299626, -0.15774696869111168, 1.6033684846714356, -1.352154240820155, -1.948424273992968, -0.10923332834192306, -0.3466984292093084, 1.0532876042637498, 1.3965753639823184, -0.7739337356756031, -0.5389000139848649, -1.7735102893998769, 0.7389552763546952, 1.1560874109408732, -1.5135193096899042, -1.5296404603654188, -0.01811472250897168, -0.23981216790408158, 1.05440571047474, -0.7269334496791185, -0.8487333258876862, -2.1362246634378965, 0.7639994045130143, 1.041339972611782, -0.6445210539291163, 0.941398881539454, 1.172472601402738, 1.157144971904907, -0.0016700911030675986, -0.21367099215600008, 0.544287382614512, -1.013023022204178, 0.6653553768385813, -1.081995803987892, -0.40908139281268663, 0.4469096983868547, -1.3070142630453834, -1.1335484106420068, -2.3398158121759938, 1.4313050099281213, -2.231818743879048, -0.4804009515284093, -1.0390003724195962, -2.4086907714026657, 1.5512854832772243, -1.3352871785495308, 0.21023107076646222, -0.9080772668139966, 1.0746116244508543, 1.352082889036443, -0.1547880916645823, -1.1852507629309106, -1.3196289178696639, 1.5416264834243936, 0.22671561843620253, -2.183184432019304, -0.23289429388985733, 0.3174235728119984, -1.6823920236896401, -0.9468513506631693, -1.6776217112530991, 0.8099531353330475], \"yaxis\": \"y13\"}, {\"line\": {\"color\": \"rgba(128, 128, 128, 1.0)\", \"dash\": \"solid\", \"shape\": \"linear\", \"width\": 1.3}, \"marker\": {\"size\": 2, \"symbol\": \"circle\"}, \"mode\": \"markers\", \"name\": \"D\", \"text\": \"\", \"type\": \"scatter\", \"x\": [-0.22246154249852684, -0.011662737015524104, 0.7002550390215904, -0.2088604533672652, 0.2787572766419977, 0.34604688919031246, 0.3289741381728799, -1.4546634160557221, 0.6591005023770535, 1.6307541996396775, 0.3537425977973349, 0.35489662287960494, -1.2552285412285955, 0.7766227724788735, 0.7313851441745576, 0.17409712272179598, -0.558850148283852, -0.18278009610374715, -0.4385690580727113, -1.1979389827605196, 0.21153250433833218, 0.7543561045168725, 0.10568114726276448, 1.4740937158560674, 0.9652011233966097, -0.23486161961194427, -1.389623772561859, 0.30668566443217743, 1.1120348830089202, 0.46831830167324723, -0.5991384580070195, -0.7034819235937314, -0.005756903041385128, -1.1456182321306265, 0.031447866394256334, 1.4440326575276348, -0.1595369128971009, -0.46006264151509857, -1.2419810080488065, 0.4424990438592372, -0.45458918117909897, 0.07040854588577262, 0.535026123128374, -2.7627953832152032, -0.3566709243240767, -0.2779553288515251, -0.5499009597665894, -0.1278460935717795, 1.2186892425013678, -0.1565647499422839, -1.1879500510181082, -0.4304626168115283, 0.4839416813547892, 0.1542255059732776, -1.5231298483752214, 1.5886158111510897, 1.1141356720888698, -0.7321655368474803, -1.8814304721270192, 1.4635612494042156, -1.9827593304106776, 0.36790536391933965, -1.0843989162324759, -0.13268326375570524, -1.6066444790362937, -0.19722633200110679, 0.0003473747000489338, 0.7826322058019856, 0.0046955420792266205, 1.7155986699348522, -0.7952410822232646, 0.4882204326033132, 1.6053990972634442, -0.08503043769723694, 0.6981169497045339, 0.4718828971526396, -1.2029461823427046, 0.052845734585076666, 0.9822259990893973, -0.8590769849077312, -0.04120464990107362, -1.7569650582262712, 1.1397519733719323, -0.6312149218917715, -0.046107887891385216, 0.24742340686524372, 1.5567864402222436, -0.37985498147004226, -0.9037102602281021, 0.49753117291240284, 0.5670835787226005, -0.38057329716763133, 1.3577291622340146, 0.7109426758026244, 0.26514239168730397, -1.2476736047793413, -0.44164479753864827, -0.033615157654650896, 0.5647092086237513, -0.511942159121852], \"xaxis\": \"x14\", \"y\": [1.006990415230797, -1.964224009771347, 1.3656734904303878, -0.7193889981597499, -0.8171992346531632, 0.5021579854133826, 0.35360746817993566, 0.5038180043335287, -0.2253065854925412, -1.4462053896103182, 0.3861215592594124, 0.17553505879195624, -0.773045807558028, 0.13715218564236864, 1.5918514617857802, -0.4541260388835454, -0.18374369785544023, -0.8468969582370742, 0.5283326291655621, -0.3174351528315366, -1.0113652796135721, 0.9554437511695475, 0.5317592920635177, -1.1986891128069317, 1.180012584596935, -1.367233734745869, 1.4216979437389021, -0.9536445111054623, 1.2214783934231426, -1.1852333113110671, 0.49595433276191425, -0.45700591898119247, -1.1634992086301335, -0.13614299129424992, 0.02864078911815982, -1.4482685079878088, -1.340073852456306, -0.8775196074063242, -0.5642131429299626, -0.15774696869111168, 1.6033684846714356, -1.352154240820155, -1.948424273992968, -0.10923332834192306, -0.3466984292093084, 1.0532876042637498, 1.3965753639823184, -0.7739337356756031, -0.5389000139848649, -1.7735102893998769, 0.7389552763546952, 1.1560874109408732, -1.5135193096899042, -1.5296404603654188, -0.01811472250897168, -0.23981216790408158, 1.05440571047474, -0.7269334496791185, -0.8487333258876862, -2.1362246634378965, 0.7639994045130143, 1.041339972611782, -0.6445210539291163, 0.941398881539454, 1.172472601402738, 1.157144971904907, -0.0016700911030675986, -0.21367099215600008, 0.544287382614512, -1.013023022204178, 0.6653553768385813, -1.081995803987892, -0.40908139281268663, 0.4469096983868547, -1.3070142630453834, -1.1335484106420068, -2.3398158121759938, 1.4313050099281213, -2.231818743879048, -0.4804009515284093, -1.0390003724195962, -2.4086907714026657, 1.5512854832772243, -1.3352871785495308, 0.21023107076646222, -0.9080772668139966, 1.0746116244508543, 1.352082889036443, -0.1547880916645823, -1.1852507629309106, -1.3196289178696639, 1.5416264834243936, 0.22671561843620253, -2.183184432019304, -0.23289429388985733, 0.3174235728119984, -1.6823920236896401, -0.9468513506631693, -1.6776217112530991, 0.8099531353330475], \"yaxis\": \"y14\"}, {\"line\": {\"color\": \"rgba(128, 128, 128, 1.0)\", \"dash\": \"solid\", \"shape\": \"linear\", \"width\": 1.3}, \"marker\": {\"size\": 2, \"symbol\": \"circle\"}, \"mode\": \"markers\", \"name\": \"D\", \"text\": \"\", \"type\": \"scatter\", \"x\": [0.3327097562536328, -1.4989734130569317, 1.5183796176928412, -1.602061657580099, -0.1223028920412938, 1.386107101382463, -0.3415490358671324, -0.601432993832816, -0.7250537936410264, -0.25995473648644335, -1.2422490910298027, 1.1742302850063706, 0.18699966489887976, 1.2662228253927414, -1.251580842922223, -0.7282265939616873, 1.5879017425376987, 0.6091752542674607, 0.532904734654383, 0.9974016167066104, -0.22956798544070212, 1.183297268164457, -1.3935594197207464, 0.4542969291289916, -0.9726084682689599, 2.16182929854646, 0.23301146780323445, -0.1960668029901525, -0.8074931010293909, -0.011076559186416392, 0.6526452912513951, -0.011420869869149506, 0.40729498041940865, -1.4608135825814752, -1.0743052935041677, -1.067976015767999, -1.939351767318399, 0.393969215925592, 0.4943040456489618, 1.941061809173201, -0.3545833883013441, -1.3630645831972743, -0.7808083882051318, 0.14828932191953875, 1.1809111049948051, 0.4120562337432101, 0.15330385255565906, 0.7818987007205416, -0.33260463389752076, -1.063339758890112, -0.2157947274815626, 1.1668965390573576, -1.0062129725618667, 0.8563185855337104, 0.1134259884042055, 0.16124262504863326, 0.8723792648240553, -1.5779154984640098, -1.7194283418339689, -0.7438004534439292, -0.3193951573849327, 0.6608682615796827, 0.09013167999011383, -2.692713245513669, 1.444401329767143, 0.20119976229306244, 0.032921153652011204, -0.9119279263574213, 0.2590428295494773, -0.9967937373445537, -0.7374266907019629, 0.9000772812275898, 0.8388976395866024, 0.3927020144340531, 0.34208830190986056, -1.1218914946391794, -0.054772158324748514, 0.6859401772791511, 0.24968117808815007, 0.48624800196760376, 0.8227827699143407, -0.5065635151644389, -0.35418313928200706, 0.8249811569719638, -1.0825434719372715, 0.28888600126108677, 1.0131678182935049, -2.3299803613355308, 0.3107692820192783, -0.36606223453421693, -0.7307619449006915, -1.8881767667272429, -1.44561951925092, -0.1926918554444059, -0.10295541446747797, -0.5426933739808347, -0.9278063200643781, -0.31714133131824696, -0.5357162118674762, -1.193869715470299], \"xaxis\": \"x15\", \"y\": [1.006990415230797, -1.964224009771347, 1.3656734904303878, -0.7193889981597499, -0.8171992346531632, 0.5021579854133826, 0.35360746817993566, 0.5038180043335287, -0.2253065854925412, -1.4462053896103182, 0.3861215592594124, 0.17553505879195624, -0.773045807558028, 0.13715218564236864, 1.5918514617857802, -0.4541260388835454, -0.18374369785544023, -0.8468969582370742, 0.5283326291655621, -0.3174351528315366, -1.0113652796135721, 0.9554437511695475, 0.5317592920635177, -1.1986891128069317, 1.180012584596935, -1.367233734745869, 1.4216979437389021, -0.9536445111054623, 1.2214783934231426, -1.1852333113110671, 0.49595433276191425, -0.45700591898119247, -1.1634992086301335, -0.13614299129424992, 0.02864078911815982, -1.4482685079878088, -1.340073852456306, -0.8775196074063242, -0.5642131429299626, -0.15774696869111168, 1.6033684846714356, -1.352154240820155, -1.948424273992968, -0.10923332834192306, -0.3466984292093084, 1.0532876042637498, 1.3965753639823184, -0.7739337356756031, -0.5389000139848649, -1.7735102893998769, 0.7389552763546952, 1.1560874109408732, -1.5135193096899042, -1.5296404603654188, -0.01811472250897168, -0.23981216790408158, 1.05440571047474, -0.7269334496791185, -0.8487333258876862, -2.1362246634378965, 0.7639994045130143, 1.041339972611782, -0.6445210539291163, 0.941398881539454, 1.172472601402738, 1.157144971904907, -0.0016700911030675986, -0.21367099215600008, 0.544287382614512, -1.013023022204178, 0.6653553768385813, -1.081995803987892, -0.40908139281268663, 0.4469096983868547, -1.3070142630453834, -1.1335484106420068, -2.3398158121759938, 1.4313050099281213, -2.231818743879048, -0.4804009515284093, -1.0390003724195962, -2.4086907714026657, 1.5512854832772243, -1.3352871785495308, 0.21023107076646222, -0.9080772668139966, 1.0746116244508543, 1.352082889036443, -0.1547880916645823, -1.1852507629309106, -1.3196289178696639, 1.5416264834243936, 0.22671561843620253, -2.183184432019304, -0.23289429388985733, 0.3174235728119984, -1.6823920236896401, -0.9468513506631693, -1.6776217112530991, 0.8099531353330475], \"yaxis\": \"y15\"}, {\"histfunc\": \"count\", \"histnorm\": \"\", \"marker\": {\"color\": \"rgba(128, 0, 128, 1.0)\", \"line\": {\"color\": \"#4D5663\", \"width\": 1.3}}, \"name\": \"D\", \"nbinsx\": 10, \"opacity\": 0.8, \"orientation\": \"v\", \"type\": \"histogram\", \"x\": [1.006990415230797, -1.964224009771347, 1.3656734904303878, -0.7193889981597499, -0.8171992346531632, 0.5021579854133826, 0.35360746817993566, 0.5038180043335287, -0.2253065854925412, -1.4462053896103182, 0.3861215592594124, 0.17553505879195624, -0.773045807558028, 0.13715218564236864, 1.5918514617857802, -0.4541260388835454, -0.18374369785544023, -0.8468969582370742, 0.5283326291655621, -0.3174351528315366, -1.0113652796135721, 0.9554437511695475, 0.5317592920635177, -1.1986891128069317, 1.180012584596935, -1.367233734745869, 1.4216979437389021, -0.9536445111054623, 1.2214783934231426, -1.1852333113110671, 0.49595433276191425, -0.45700591898119247, -1.1634992086301335, -0.13614299129424992, 0.02864078911815982, -1.4482685079878088, -1.340073852456306, -0.8775196074063242, -0.5642131429299626, -0.15774696869111168, 1.6033684846714356, -1.352154240820155, -1.948424273992968, -0.10923332834192306, -0.3466984292093084, 1.0532876042637498, 1.3965753639823184, -0.7739337356756031, -0.5389000139848649, -1.7735102893998769, 0.7389552763546952, 1.1560874109408732, -1.5135193096899042, -1.5296404603654188, -0.01811472250897168, -0.23981216790408158, 1.05440571047474, -0.7269334496791185, -0.8487333258876862, -2.1362246634378965, 0.7639994045130143, 1.041339972611782, -0.6445210539291163, 0.941398881539454, 1.172472601402738, 1.157144971904907, -0.0016700911030675986, -0.21367099215600008, 0.544287382614512, -1.013023022204178, 0.6653553768385813, -1.081995803987892, -0.40908139281268663, 0.4469096983868547, -1.3070142630453834, -1.1335484106420068, -2.3398158121759938, 1.4313050099281213, -2.231818743879048, -0.4804009515284093, -1.0390003724195962, -2.4086907714026657, 1.5512854832772243, -1.3352871785495308, 0.21023107076646222, -0.9080772668139966, 1.0746116244508543, 1.352082889036443, -0.1547880916645823, -1.1852507629309106, -1.3196289178696639, 1.5416264834243936, 0.22671561843620253, -2.183184432019304, -0.23289429388985733, 0.3174235728119984, -1.6823920236896401, -0.9468513506631693, -1.6776217112530991, 0.8099531353330475], \"xaxis\": \"x16\", \"yaxis\": \"y16\"}],\n",
       "                        {\"bargap\": 0.02, \"legend\": {\"bgcolor\": \"#F5F6F9\", \"font\": {\"color\": \"#4D5663\"}}, \"paper_bgcolor\": \"#F5F6F9\", \"plot_bgcolor\": \"#F5F6F9\", \"showlegend\": false, \"template\": {\"data\": {\"bar\": [{\"error_x\": {\"color\": \"#2a3f5f\"}, \"error_y\": {\"color\": \"#2a3f5f\"}, \"marker\": {\"line\": {\"color\": \"#E5ECF6\", \"width\": 0.5}}, \"type\": \"bar\"}], \"barpolar\": [{\"marker\": {\"line\": {\"color\": \"#E5ECF6\", \"width\": 0.5}}, \"type\": \"barpolar\"}], \"carpet\": [{\"aaxis\": {\"endlinecolor\": \"#2a3f5f\", \"gridcolor\": \"white\", \"linecolor\": \"white\", \"minorgridcolor\": \"white\", \"startlinecolor\": \"#2a3f5f\"}, \"baxis\": {\"endlinecolor\": \"#2a3f5f\", \"gridcolor\": \"white\", \"linecolor\": \"white\", \"minorgridcolor\": \"white\", \"startlinecolor\": \"#2a3f5f\"}, \"type\": \"carpet\"}], \"choropleth\": [{\"colorbar\": {\"outlinewidth\": 0, \"ticks\": \"\"}, \"type\": \"choropleth\"}], \"contour\": [{\"colorbar\": {\"outlinewidth\": 0, \"ticks\": \"\"}, \"colorscale\": [[0.0, \"#0d0887\"], [0.1111111111111111, \"#46039f\"], [0.2222222222222222, \"#7201a8\"], [0.3333333333333333, \"#9c179e\"], [0.4444444444444444, \"#bd3786\"], [0.5555555555555556, \"#d8576b\"], [0.6666666666666666, \"#ed7953\"], [0.7777777777777778, \"#fb9f3a\"], [0.8888888888888888, \"#fdca26\"], [1.0, \"#f0f921\"]], \"type\": \"contour\"}], \"contourcarpet\": [{\"colorbar\": {\"outlinewidth\": 0, \"ticks\": \"\"}, \"type\": \"contourcarpet\"}], \"heatmap\": [{\"colorbar\": {\"outlinewidth\": 0, \"ticks\": \"\"}, \"colorscale\": [[0.0, \"#0d0887\"], [0.1111111111111111, \"#46039f\"], [0.2222222222222222, \"#7201a8\"], [0.3333333333333333, \"#9c179e\"], [0.4444444444444444, \"#bd3786\"], [0.5555555555555556, \"#d8576b\"], [0.6666666666666666, \"#ed7953\"], [0.7777777777777778, \"#fb9f3a\"], [0.8888888888888888, \"#fdca26\"], [1.0, \"#f0f921\"]], \"type\": \"heatmap\"}], \"heatmapgl\": [{\"colorbar\": {\"outlinewidth\": 0, \"ticks\": \"\"}, \"colorscale\": [[0.0, \"#0d0887\"], [0.1111111111111111, \"#46039f\"], [0.2222222222222222, \"#7201a8\"], [0.3333333333333333, \"#9c179e\"], [0.4444444444444444, \"#bd3786\"], [0.5555555555555556, \"#d8576b\"], [0.6666666666666666, \"#ed7953\"], [0.7777777777777778, \"#fb9f3a\"], [0.8888888888888888, \"#fdca26\"], [1.0, \"#f0f921\"]], \"type\": \"heatmapgl\"}], \"histogram\": [{\"marker\": {\"colorbar\": {\"outlinewidth\": 0, \"ticks\": \"\"}}, \"type\": \"histogram\"}], \"histogram2d\": [{\"colorbar\": {\"outlinewidth\": 0, \"ticks\": \"\"}, \"colorscale\": [[0.0, \"#0d0887\"], [0.1111111111111111, \"#46039f\"], [0.2222222222222222, \"#7201a8\"], [0.3333333333333333, \"#9c179e\"], [0.4444444444444444, \"#bd3786\"], [0.5555555555555556, \"#d8576b\"], [0.6666666666666666, \"#ed7953\"], [0.7777777777777778, \"#fb9f3a\"], [0.8888888888888888, \"#fdca26\"], [1.0, \"#f0f921\"]], \"type\": \"histogram2d\"}], \"histogram2dcontour\": [{\"colorbar\": {\"outlinewidth\": 0, \"ticks\": \"\"}, \"colorscale\": [[0.0, \"#0d0887\"], [0.1111111111111111, \"#46039f\"], [0.2222222222222222, \"#7201a8\"], [0.3333333333333333, \"#9c179e\"], [0.4444444444444444, \"#bd3786\"], [0.5555555555555556, \"#d8576b\"], [0.6666666666666666, \"#ed7953\"], [0.7777777777777778, \"#fb9f3a\"], [0.8888888888888888, \"#fdca26\"], [1.0, \"#f0f921\"]], \"type\": \"histogram2dcontour\"}], \"mesh3d\": [{\"colorbar\": {\"outlinewidth\": 0, \"ticks\": \"\"}, \"type\": \"mesh3d\"}], \"parcoords\": [{\"line\": {\"colorbar\": {\"outlinewidth\": 0, \"ticks\": \"\"}}, \"type\": \"parcoords\"}], \"pie\": [{\"automargin\": true, \"type\": \"pie\"}], \"scatter\": [{\"marker\": {\"colorbar\": {\"outlinewidth\": 0, \"ticks\": \"\"}}, \"type\": \"scatter\"}], \"scatter3d\": [{\"line\": {\"colorbar\": {\"outlinewidth\": 0, \"ticks\": \"\"}}, \"marker\": {\"colorbar\": {\"outlinewidth\": 0, \"ticks\": \"\"}}, \"type\": \"scatter3d\"}], \"scattercarpet\": [{\"marker\": {\"colorbar\": {\"outlinewidth\": 0, \"ticks\": \"\"}}, \"type\": \"scattercarpet\"}], \"scattergeo\": [{\"marker\": {\"colorbar\": {\"outlinewidth\": 0, \"ticks\": \"\"}}, \"type\": \"scattergeo\"}], \"scattergl\": [{\"marker\": {\"colorbar\": {\"outlinewidth\": 0, \"ticks\": \"\"}}, \"type\": \"scattergl\"}], \"scattermapbox\": [{\"marker\": {\"colorbar\": {\"outlinewidth\": 0, \"ticks\": \"\"}}, \"type\": \"scattermapbox\"}], \"scatterpolar\": [{\"marker\": {\"colorbar\": {\"outlinewidth\": 0, \"ticks\": \"\"}}, \"type\": \"scatterpolar\"}], \"scatterpolargl\": [{\"marker\": {\"colorbar\": {\"outlinewidth\": 0, \"ticks\": \"\"}}, \"type\": \"scatterpolargl\"}], \"scatterternary\": [{\"marker\": {\"colorbar\": {\"outlinewidth\": 0, \"ticks\": \"\"}}, \"type\": \"scatterternary\"}], \"surface\": [{\"colorbar\": {\"outlinewidth\": 0, \"ticks\": \"\"}, \"colorscale\": [[0.0, \"#0d0887\"], [0.1111111111111111, \"#46039f\"], [0.2222222222222222, \"#7201a8\"], [0.3333333333333333, \"#9c179e\"], [0.4444444444444444, \"#bd3786\"], [0.5555555555555556, \"#d8576b\"], [0.6666666666666666, \"#ed7953\"], [0.7777777777777778, \"#fb9f3a\"], [0.8888888888888888, \"#fdca26\"], [1.0, \"#f0f921\"]], \"type\": \"surface\"}], \"table\": [{\"cells\": {\"fill\": {\"color\": \"#EBF0F8\"}, \"line\": {\"color\": \"white\"}}, \"header\": {\"fill\": {\"color\": \"#C8D4E3\"}, \"line\": {\"color\": \"white\"}}, \"type\": \"table\"}]}, \"layout\": {\"annotationdefaults\": {\"arrowcolor\": \"#2a3f5f\", \"arrowhead\": 0, \"arrowwidth\": 1}, \"coloraxis\": {\"colorbar\": {\"outlinewidth\": 0, \"ticks\": \"\"}}, \"colorscale\": {\"diverging\": [[0, \"#8e0152\"], [0.1, \"#c51b7d\"], [0.2, \"#de77ae\"], [0.3, \"#f1b6da\"], [0.4, \"#fde0ef\"], [0.5, \"#f7f7f7\"], [0.6, \"#e6f5d0\"], [0.7, \"#b8e186\"], [0.8, \"#7fbc41\"], [0.9, \"#4d9221\"], [1, \"#276419\"]], \"sequential\": [[0.0, \"#0d0887\"], [0.1111111111111111, \"#46039f\"], [0.2222222222222222, \"#7201a8\"], [0.3333333333333333, \"#9c179e\"], [0.4444444444444444, \"#bd3786\"], [0.5555555555555556, \"#d8576b\"], [0.6666666666666666, \"#ed7953\"], [0.7777777777777778, \"#fb9f3a\"], [0.8888888888888888, \"#fdca26\"], [1.0, \"#f0f921\"]], \"sequentialminus\": [[0.0, \"#0d0887\"], [0.1111111111111111, \"#46039f\"], [0.2222222222222222, \"#7201a8\"], [0.3333333333333333, \"#9c179e\"], [0.4444444444444444, \"#bd3786\"], [0.5555555555555556, \"#d8576b\"], [0.6666666666666666, \"#ed7953\"], [0.7777777777777778, \"#fb9f3a\"], [0.8888888888888888, \"#fdca26\"], [1.0, \"#f0f921\"]]}, \"colorway\": [\"#636efa\", \"#EF553B\", \"#00cc96\", \"#ab63fa\", \"#FFA15A\", \"#19d3f3\", \"#FF6692\", \"#B6E880\", \"#FF97FF\", \"#FECB52\"], \"font\": {\"color\": \"#2a3f5f\"}, \"geo\": {\"bgcolor\": \"white\", \"lakecolor\": \"white\", \"landcolor\": \"#E5ECF6\", \"showlakes\": true, \"showland\": true, \"subunitcolor\": \"white\"}, \"hoverlabel\": {\"align\": \"left\"}, \"hovermode\": \"closest\", \"mapbox\": {\"style\": \"light\"}, \"paper_bgcolor\": \"white\", \"plot_bgcolor\": \"#E5ECF6\", \"polar\": {\"angularaxis\": {\"gridcolor\": \"white\", \"linecolor\": \"white\", \"ticks\": \"\"}, \"bgcolor\": \"#E5ECF6\", \"radialaxis\": {\"gridcolor\": \"white\", \"linecolor\": \"white\", \"ticks\": \"\"}}, \"scene\": {\"xaxis\": {\"backgroundcolor\": \"#E5ECF6\", \"gridcolor\": \"white\", \"gridwidth\": 2, \"linecolor\": \"white\", \"showbackground\": true, \"ticks\": \"\", \"zerolinecolor\": \"white\"}, \"yaxis\": {\"backgroundcolor\": \"#E5ECF6\", \"gridcolor\": \"white\", \"gridwidth\": 2, \"linecolor\": \"white\", \"showbackground\": true, \"ticks\": \"\", \"zerolinecolor\": \"white\"}, \"zaxis\": {\"backgroundcolor\": \"#E5ECF6\", \"gridcolor\": \"white\", \"gridwidth\": 2, \"linecolor\": \"white\", \"showbackground\": true, \"ticks\": \"\", \"zerolinecolor\": \"white\"}}, \"shapedefaults\": {\"line\": {\"color\": \"#2a3f5f\"}}, \"ternary\": {\"aaxis\": {\"gridcolor\": \"white\", \"linecolor\": \"white\", \"ticks\": \"\"}, \"baxis\": {\"gridcolor\": \"white\", \"linecolor\": \"white\", \"ticks\": \"\"}, \"bgcolor\": \"#E5ECF6\", \"caxis\": {\"gridcolor\": \"white\", \"linecolor\": \"white\", \"ticks\": \"\"}}, \"title\": {\"x\": 0.05}, \"xaxis\": {\"automargin\": true, \"gridcolor\": \"white\", \"linecolor\": \"white\", \"ticks\": \"\", \"title\": {\"standoff\": 15}, \"zerolinecolor\": \"white\", \"zerolinewidth\": 2}, \"yaxis\": {\"automargin\": true, \"gridcolor\": \"white\", \"linecolor\": \"white\", \"ticks\": \"\", \"title\": {\"standoff\": 15}, \"zerolinecolor\": \"white\", \"zerolinewidth\": 2}}}, \"title\": {\"font\": {\"color\": \"#4D5663\"}}, \"xaxis\": {\"anchor\": \"y\", \"domain\": [0.0, 0.2125], \"gridcolor\": \"#E1E5ED\", \"showgrid\": false, \"tickfont\": {\"color\": \"#4D5663\"}, \"title\": {\"font\": {\"color\": \"#4D5663\"}, \"text\": \"\"}, \"zerolinecolor\": \"#E1E5ED\"}, \"xaxis10\": {\"anchor\": \"y10\", \"domain\": [0.2625, 0.475], \"gridcolor\": \"#E1E5ED\", \"showgrid\": false, \"tickfont\": {\"color\": \"#4D5663\"}, \"title\": {\"font\": {\"color\": \"#4D5663\"}, \"text\": \"\"}, \"zerolinecolor\": \"#E1E5ED\"}, \"xaxis11\": {\"anchor\": \"y11\", \"domain\": [0.525, 0.7375], \"gridcolor\": \"#E1E5ED\", \"showgrid\": false, \"tickfont\": {\"color\": \"#4D5663\"}, \"title\": {\"font\": {\"color\": \"#4D5663\"}, \"text\": \"\"}, \"zerolinecolor\": \"#E1E5ED\"}, \"xaxis12\": {\"anchor\": \"y12\", \"domain\": [0.7875, 1.0], \"gridcolor\": \"#E1E5ED\", \"showgrid\": false, \"tickfont\": {\"color\": \"#4D5663\"}, \"title\": {\"font\": {\"color\": \"#4D5663\"}, \"text\": \"\"}, \"zerolinecolor\": \"#E1E5ED\"}, \"xaxis13\": {\"anchor\": \"y13\", \"domain\": [0.0, 0.2125], \"gridcolor\": \"#E1E5ED\", \"showgrid\": false, \"tickfont\": {\"color\": \"#4D5663\"}, \"title\": {\"font\": {\"color\": \"#4D5663\"}, \"text\": \"\"}, \"zerolinecolor\": \"#E1E5ED\"}, \"xaxis14\": {\"anchor\": \"y14\", \"domain\": [0.2625, 0.475], \"gridcolor\": \"#E1E5ED\", \"showgrid\": false, \"tickfont\": {\"color\": \"#4D5663\"}, \"title\": {\"font\": {\"color\": \"#4D5663\"}, \"text\": \"\"}, \"zerolinecolor\": \"#E1E5ED\"}, \"xaxis15\": {\"anchor\": \"y15\", \"domain\": [0.525, 0.7375], \"gridcolor\": \"#E1E5ED\", \"showgrid\": false, \"tickfont\": {\"color\": \"#4D5663\"}, \"title\": {\"font\": {\"color\": \"#4D5663\"}, \"text\": \"\"}, \"zerolinecolor\": \"#E1E5ED\"}, \"xaxis16\": {\"anchor\": \"y16\", \"domain\": [0.7875, 1.0], \"gridcolor\": \"#E1E5ED\", \"showgrid\": false, \"tickfont\": {\"color\": \"#4D5663\"}, \"title\": {\"font\": {\"color\": \"#4D5663\"}, \"text\": \"\"}, \"zerolinecolor\": \"#E1E5ED\"}, \"xaxis2\": {\"anchor\": \"y2\", \"domain\": [0.2625, 0.475], \"gridcolor\": \"#E1E5ED\", \"showgrid\": false, \"tickfont\": {\"color\": \"#4D5663\"}, \"title\": {\"font\": {\"color\": \"#4D5663\"}, \"text\": \"\"}, \"zerolinecolor\": \"#E1E5ED\"}, \"xaxis3\": {\"anchor\": \"y3\", \"domain\": [0.525, 0.7375], \"gridcolor\": \"#E1E5ED\", \"showgrid\": false, \"tickfont\": {\"color\": \"#4D5663\"}, \"title\": {\"font\": {\"color\": \"#4D5663\"}, \"text\": \"\"}, \"zerolinecolor\": \"#E1E5ED\"}, \"xaxis4\": {\"anchor\": \"y4\", \"domain\": [0.7875, 1.0], \"gridcolor\": \"#E1E5ED\", \"showgrid\": false, \"tickfont\": {\"color\": \"#4D5663\"}, \"title\": {\"font\": {\"color\": \"#4D5663\"}, \"text\": \"\"}, \"zerolinecolor\": \"#E1E5ED\"}, \"xaxis5\": {\"anchor\": \"y5\", \"domain\": [0.0, 0.2125], \"gridcolor\": \"#E1E5ED\", \"showgrid\": false, \"tickfont\": {\"color\": \"#4D5663\"}, \"title\": {\"font\": {\"color\": \"#4D5663\"}, \"text\": \"\"}, \"zerolinecolor\": \"#E1E5ED\"}, \"xaxis6\": {\"anchor\": \"y6\", \"domain\": [0.2625, 0.475], \"gridcolor\": \"#E1E5ED\", \"showgrid\": false, \"tickfont\": {\"color\": \"#4D5663\"}, \"title\": {\"font\": {\"color\": \"#4D5663\"}, \"text\": \"\"}, \"zerolinecolor\": \"#E1E5ED\"}, \"xaxis7\": {\"anchor\": \"y7\", \"domain\": [0.525, 0.7375], \"gridcolor\": \"#E1E5ED\", \"showgrid\": false, \"tickfont\": {\"color\": \"#4D5663\"}, \"title\": {\"font\": {\"color\": \"#4D5663\"}, \"text\": \"\"}, \"zerolinecolor\": \"#E1E5ED\"}, \"xaxis8\": {\"anchor\": \"y8\", \"domain\": [0.7875, 1.0], \"gridcolor\": \"#E1E5ED\", \"showgrid\": false, \"tickfont\": {\"color\": \"#4D5663\"}, \"title\": {\"font\": {\"color\": \"#4D5663\"}, \"text\": \"\"}, \"zerolinecolor\": \"#E1E5ED\"}, \"xaxis9\": {\"anchor\": \"y9\", \"domain\": [0.0, 0.2125], \"gridcolor\": \"#E1E5ED\", \"showgrid\": false, \"tickfont\": {\"color\": \"#4D5663\"}, \"title\": {\"font\": {\"color\": \"#4D5663\"}, \"text\": \"\"}, \"zerolinecolor\": \"#E1E5ED\"}, \"yaxis\": {\"anchor\": \"x\", \"domain\": [0.8025, 1.0], \"gridcolor\": \"#E1E5ED\", \"showgrid\": false, \"tickfont\": {\"color\": \"#4D5663\"}, \"title\": {\"font\": {\"color\": \"#4D5663\"}, \"text\": \"\"}, \"zerolinecolor\": \"#E1E5ED\"}, \"yaxis10\": {\"anchor\": \"x10\", \"domain\": [0.2675, 0.465], \"gridcolor\": \"#E1E5ED\", \"showgrid\": false, \"tickfont\": {\"color\": \"#4D5663\"}, \"title\": {\"font\": {\"color\": \"#4D5663\"}, \"text\": \"\"}, \"zerolinecolor\": \"#E1E5ED\"}, \"yaxis11\": {\"anchor\": \"x11\", \"domain\": [0.2675, 0.465], \"gridcolor\": \"#E1E5ED\", \"showgrid\": false, \"tickfont\": {\"color\": \"#4D5663\"}, \"title\": {\"font\": {\"color\": \"#4D5663\"}, \"text\": \"\"}, \"zerolinecolor\": \"#E1E5ED\"}, \"yaxis12\": {\"anchor\": \"x12\", \"domain\": [0.2675, 0.465], \"gridcolor\": \"#E1E5ED\", \"showgrid\": false, \"tickfont\": {\"color\": \"#4D5663\"}, \"title\": {\"font\": {\"color\": \"#4D5663\"}, \"text\": \"\"}, \"zerolinecolor\": \"#E1E5ED\"}, \"yaxis13\": {\"anchor\": \"x13\", \"domain\": [0.0, 0.1975], \"gridcolor\": \"#E1E5ED\", \"showgrid\": false, \"tickfont\": {\"color\": \"#4D5663\"}, \"title\": {\"font\": {\"color\": \"#4D5663\"}, \"text\": \"\"}, \"zerolinecolor\": \"#E1E5ED\"}, \"yaxis14\": {\"anchor\": \"x14\", \"domain\": [0.0, 0.1975], \"gridcolor\": \"#E1E5ED\", \"showgrid\": false, \"tickfont\": {\"color\": \"#4D5663\"}, \"title\": {\"font\": {\"color\": \"#4D5663\"}, \"text\": \"\"}, \"zerolinecolor\": \"#E1E5ED\"}, \"yaxis15\": {\"anchor\": \"x15\", \"domain\": [0.0, 0.1975], \"gridcolor\": \"#E1E5ED\", \"showgrid\": false, \"tickfont\": {\"color\": \"#4D5663\"}, \"title\": {\"font\": {\"color\": \"#4D5663\"}, \"text\": \"\"}, \"zerolinecolor\": \"#E1E5ED\"}, \"yaxis16\": {\"anchor\": \"x16\", \"domain\": [0.0, 0.1975], \"gridcolor\": \"#E1E5ED\", \"showgrid\": false, \"tickfont\": {\"color\": \"#4D5663\"}, \"title\": {\"font\": {\"color\": \"#4D5663\"}, \"text\": \"\"}, \"zerolinecolor\": \"#E1E5ED\"}, \"yaxis2\": {\"anchor\": \"x2\", \"domain\": [0.8025, 1.0], \"gridcolor\": \"#E1E5ED\", \"showgrid\": false, \"tickfont\": {\"color\": \"#4D5663\"}, \"title\": {\"font\": {\"color\": \"#4D5663\"}, \"text\": \"\"}, \"zerolinecolor\": \"#E1E5ED\"}, \"yaxis3\": {\"anchor\": \"x3\", \"domain\": [0.8025, 1.0], \"gridcolor\": \"#E1E5ED\", \"showgrid\": false, \"tickfont\": {\"color\": \"#4D5663\"}, \"title\": {\"font\": {\"color\": \"#4D5663\"}, \"text\": \"\"}, \"zerolinecolor\": \"#E1E5ED\"}, \"yaxis4\": {\"anchor\": \"x4\", \"domain\": [0.8025, 1.0], \"gridcolor\": \"#E1E5ED\", \"showgrid\": false, \"tickfont\": {\"color\": \"#4D5663\"}, \"title\": {\"font\": {\"color\": \"#4D5663\"}, \"text\": \"\"}, \"zerolinecolor\": \"#E1E5ED\"}, \"yaxis5\": {\"anchor\": \"x5\", \"domain\": [0.535, 0.7325], \"gridcolor\": \"#E1E5ED\", \"showgrid\": false, \"tickfont\": {\"color\": \"#4D5663\"}, \"title\": {\"font\": {\"color\": \"#4D5663\"}, \"text\": \"\"}, \"zerolinecolor\": \"#E1E5ED\"}, \"yaxis6\": {\"anchor\": \"x6\", \"domain\": [0.535, 0.7325], \"gridcolor\": \"#E1E5ED\", \"showgrid\": false, \"tickfont\": {\"color\": \"#4D5663\"}, \"title\": {\"font\": {\"color\": \"#4D5663\"}, \"text\": \"\"}, \"zerolinecolor\": \"#E1E5ED\"}, \"yaxis7\": {\"anchor\": \"x7\", \"domain\": [0.535, 0.7325], \"gridcolor\": \"#E1E5ED\", \"showgrid\": false, \"tickfont\": {\"color\": \"#4D5663\"}, \"title\": {\"font\": {\"color\": \"#4D5663\"}, \"text\": \"\"}, \"zerolinecolor\": \"#E1E5ED\"}, \"yaxis8\": {\"anchor\": \"x8\", \"domain\": [0.535, 0.7325], \"gridcolor\": \"#E1E5ED\", \"showgrid\": false, \"tickfont\": {\"color\": \"#4D5663\"}, \"title\": {\"font\": {\"color\": \"#4D5663\"}, \"text\": \"\"}, \"zerolinecolor\": \"#E1E5ED\"}, \"yaxis9\": {\"anchor\": \"x9\", \"domain\": [0.2675, 0.465], \"gridcolor\": \"#E1E5ED\", \"showgrid\": false, \"tickfont\": {\"color\": \"#4D5663\"}, \"title\": {\"font\": {\"color\": \"#4D5663\"}, \"text\": \"\"}, \"zerolinecolor\": \"#E1E5ED\"}},\n",
       "                        {\"showLink\": true, \"linkText\": \"Export to plot.ly\", \"plotlyServerURL\": \"https://plot.ly\", \"responsive\": true}\n",
       "                    ).then(function(){\n",
       "                            \n",
       "var gd = document.getElementById('d0a2343d-2f18-42ca-8494-1bda5770f39a');\n",
       "var x = new MutationObserver(function (mutations, observer) {{\n",
       "        var display = window.getComputedStyle(gd).display;\n",
       "        if (!display || display === 'none') {{\n",
       "            console.log([gd, 'removed!']);\n",
       "            Plotly.purge(gd);\n",
       "            observer.disconnect();\n",
       "        }}\n",
       "}});\n",
       "\n",
       "// Listen for the removal of the full notebook cells\n",
       "var notebookContainer = gd.closest('#notebook-container');\n",
       "if (notebookContainer) {{\n",
       "    x.observe(notebookContainer, {childList: true});\n",
       "}}\n",
       "\n",
       "// Listen for the clearing of the current output cell\n",
       "var outputEl = gd.closest('.output');\n",
       "if (outputEl) {{\n",
       "    x.observe(outputEl, {childList: true});\n",
       "}}\n",
       "\n",
       "                        })\n",
       "                };\n",
       "                });\n",
       "            </script>\n",
       "        </div>"
      ]
     },
     "metadata": {},
     "output_type": "display_data"
    }
   ],
   "source": [
    "df.scatter_matrix()"
   ]
  }
 ],
 "metadata": {
  "kernelspec": {
   "display_name": "Python 3",
   "language": "python",
   "name": "python3"
  },
  "language_info": {
   "codemirror_mode": {
    "name": "ipython",
    "version": 3
   },
   "file_extension": ".py",
   "mimetype": "text/x-python",
   "name": "python",
   "nbconvert_exporter": "python",
   "pygments_lexer": "ipython3",
   "version": "3.7.4"
  }
 },
 "nbformat": 4,
 "nbformat_minor": 2
}
