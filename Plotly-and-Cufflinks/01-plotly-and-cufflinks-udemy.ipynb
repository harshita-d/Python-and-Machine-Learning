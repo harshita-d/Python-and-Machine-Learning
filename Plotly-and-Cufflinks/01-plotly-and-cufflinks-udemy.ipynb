{
 "cells": [
  {
   "cell_type": "markdown",
   "metadata": {},
   "source": [
    "## Plotly"
   ]
  },
  {
   "cell_type": "markdown",
   "metadata": {},
   "source": [
    "It is interactive visiualisation library"
   ]
  },
  {
   "cell_type": "markdown",
   "metadata": {},
   "source": [
    "## Cufflinks"
   ]
  },
  {
   "cell_type": "markdown",
   "metadata": {},
   "source": [
    "It connects plotly with pandas"
   ]
  },
  {
   "cell_type": "code",
   "execution_count": 1,
   "metadata": {},
   "outputs": [],
   "source": [
    "import pandas as pd"
   ]
  },
  {
   "cell_type": "code",
   "execution_count": 13,
   "metadata": {},
   "outputs": [],
   "source": [
    "import numpy as np\n",
    "%matplotlib inline"
   ]
  },
  {
   "cell_type": "code",
   "execution_count": 3,
   "metadata": {},
   "outputs": [],
   "source": [
    "from plotly import __version__"
   ]
  },
  {
   "cell_type": "code",
   "execution_count": 4,
   "metadata": {},
   "outputs": [
    {
     "name": "stdout",
     "output_type": "stream",
     "text": [
      "4.6.0\n"
     ]
    }
   ],
   "source": [
    "print(__version__)"
   ]
  },
  {
   "cell_type": "code",
   "execution_count": 5,
   "metadata": {},
   "outputs": [],
   "source": [
    "import cufflinks as cf"
   ]
  },
  {
   "cell_type": "code",
   "execution_count": 6,
   "metadata": {},
   "outputs": [],
   "source": [
    "from plotly.offline import download_plotlyjs,init_notebook_mode,plot,iplot"
   ]
  },
  {
   "cell_type": "code",
   "execution_count": 7,
   "metadata": {},
   "outputs": [
    {
     "data": {
      "text/html": [
       "        <script type=\"text/javascript\">\n",
       "        window.PlotlyConfig = {MathJaxConfig: 'local'};\n",
       "        if (window.MathJax) {MathJax.Hub.Config({SVG: {font: \"STIX-Web\"}});}\n",
       "        if (typeof require !== 'undefined') {\n",
       "        require.undef(\"plotly\");\n",
       "        requirejs.config({\n",
       "            paths: {\n",
       "                'plotly': ['https://cdn.plot.ly/plotly-latest.min']\n",
       "            }\n",
       "        });\n",
       "        require(['plotly'], function(Plotly) {\n",
       "            window._Plotly = Plotly;\n",
       "        });\n",
       "        }\n",
       "        </script>\n",
       "        "
      ]
     },
     "metadata": {},
     "output_type": "display_data"
    }
   ],
   "source": [
    "init_notebook_mode(connected=True)\n",
    "#it connects pandas to interactive javascript lib"
   ]
  },
  {
   "cell_type": "code",
   "execution_count": 8,
   "metadata": {},
   "outputs": [
    {
     "data": {
      "text/html": [
       "        <script type=\"text/javascript\">\n",
       "        window.PlotlyConfig = {MathJaxConfig: 'local'};\n",
       "        if (window.MathJax) {MathJax.Hub.Config({SVG: {font: \"STIX-Web\"}});}\n",
       "        if (typeof require !== 'undefined') {\n",
       "        require.undef(\"plotly\");\n",
       "        requirejs.config({\n",
       "            paths: {\n",
       "                'plotly': ['https://cdn.plot.ly/plotly-latest.min']\n",
       "            }\n",
       "        });\n",
       "        require(['plotly'], function(Plotly) {\n",
       "            window._Plotly = Plotly;\n",
       "        });\n",
       "        }\n",
       "        </script>\n",
       "        "
      ]
     },
     "metadata": {},
     "output_type": "display_data"
    }
   ],
   "source": [
    "cf.go_offline()"
   ]
  },
  {
   "cell_type": "code",
   "execution_count": 9,
   "metadata": {},
   "outputs": [],
   "source": [
    "df=pd.DataFrame(np.random.randn(100,4),columns='A B C D'.split())"
   ]
  },
  {
   "cell_type": "code",
   "execution_count": 10,
   "metadata": {},
   "outputs": [
    {
     "data": {
      "text/html": [
       "<div>\n",
       "<style scoped>\n",
       "    .dataframe tbody tr th:only-of-type {\n",
       "        vertical-align: middle;\n",
       "    }\n",
       "\n",
       "    .dataframe tbody tr th {\n",
       "        vertical-align: top;\n",
       "    }\n",
       "\n",
       "    .dataframe thead th {\n",
       "        text-align: right;\n",
       "    }\n",
       "</style>\n",
       "<table border=\"1\" class=\"dataframe\">\n",
       "  <thead>\n",
       "    <tr style=\"text-align: right;\">\n",
       "      <th></th>\n",
       "      <th>A</th>\n",
       "      <th>B</th>\n",
       "      <th>C</th>\n",
       "      <th>D</th>\n",
       "    </tr>\n",
       "  </thead>\n",
       "  <tbody>\n",
       "    <tr>\n",
       "      <th>0</th>\n",
       "      <td>-0.045221</td>\n",
       "      <td>-0.013296</td>\n",
       "      <td>0.138738</td>\n",
       "      <td>-0.433788</td>\n",
       "    </tr>\n",
       "    <tr>\n",
       "      <th>1</th>\n",
       "      <td>0.678043</td>\n",
       "      <td>-0.270745</td>\n",
       "      <td>0.004189</td>\n",
       "      <td>0.797601</td>\n",
       "    </tr>\n",
       "    <tr>\n",
       "      <th>2</th>\n",
       "      <td>1.005707</td>\n",
       "      <td>-0.480415</td>\n",
       "      <td>0.096823</td>\n",
       "      <td>0.046794</td>\n",
       "    </tr>\n",
       "    <tr>\n",
       "      <th>3</th>\n",
       "      <td>-0.972887</td>\n",
       "      <td>-0.157479</td>\n",
       "      <td>-1.944174</td>\n",
       "      <td>0.821051</td>\n",
       "    </tr>\n",
       "    <tr>\n",
       "      <th>4</th>\n",
       "      <td>-0.142923</td>\n",
       "      <td>0.255852</td>\n",
       "      <td>-1.509648</td>\n",
       "      <td>-0.477376</td>\n",
       "    </tr>\n",
       "  </tbody>\n",
       "</table>\n",
       "</div>"
      ],
      "text/plain": [
       "          A         B         C         D\n",
       "0 -0.045221 -0.013296  0.138738 -0.433788\n",
       "1  0.678043 -0.270745  0.004189  0.797601\n",
       "2  1.005707 -0.480415  0.096823  0.046794\n",
       "3 -0.972887 -0.157479 -1.944174  0.821051\n",
       "4 -0.142923  0.255852 -1.509648 -0.477376"
      ]
     },
     "execution_count": 10,
     "metadata": {},
     "output_type": "execute_result"
    }
   ],
   "source": [
    "df.head()"
   ]
  },
  {
   "cell_type": "code",
   "execution_count": 11,
   "metadata": {},
   "outputs": [],
   "source": [
    "df2=pd.DataFrame({'Category':['A','B','C'],'Values':[32,43,50]})"
   ]
  },
  {
   "cell_type": "code",
   "execution_count": 12,
   "metadata": {},
   "outputs": [
    {
     "data": {
      "text/html": [
       "<div>\n",
       "<style scoped>\n",
       "    .dataframe tbody tr th:only-of-type {\n",
       "        vertical-align: middle;\n",
       "    }\n",
       "\n",
       "    .dataframe tbody tr th {\n",
       "        vertical-align: top;\n",
       "    }\n",
       "\n",
       "    .dataframe thead th {\n",
       "        text-align: right;\n",
       "    }\n",
       "</style>\n",
       "<table border=\"1\" class=\"dataframe\">\n",
       "  <thead>\n",
       "    <tr style=\"text-align: right;\">\n",
       "      <th></th>\n",
       "      <th>Category</th>\n",
       "      <th>Values</th>\n",
       "    </tr>\n",
       "  </thead>\n",
       "  <tbody>\n",
       "    <tr>\n",
       "      <th>0</th>\n",
       "      <td>A</td>\n",
       "      <td>32</td>\n",
       "    </tr>\n",
       "    <tr>\n",
       "      <th>1</th>\n",
       "      <td>B</td>\n",
       "      <td>43</td>\n",
       "    </tr>\n",
       "    <tr>\n",
       "      <th>2</th>\n",
       "      <td>C</td>\n",
       "      <td>50</td>\n",
       "    </tr>\n",
       "  </tbody>\n",
       "</table>\n",
       "</div>"
      ],
      "text/plain": [
       "  Category  Values\n",
       "0        A      32\n",
       "1        B      43\n",
       "2        C      50"
      ]
     },
     "execution_count": 12,
     "metadata": {},
     "output_type": "execute_result"
    }
   ],
   "source": [
    "df2"
   ]
  },
  {
   "cell_type": "code",
   "execution_count": 14,
   "metadata": {},
   "outputs": [
    {
     "data": {
      "text/plain": [
       "<matplotlib.axes._subplots.AxesSubplot at 0x7f5281287ed0>"
      ]
     },
     "execution_count": 14,
     "metadata": {},
     "output_type": "execute_result"
    },
    {
     "data": {
      "image/png": "[encoded data removed]",
      "text/plain": [
       "<Figure size 432x288 with 1 Axes>"
      ]
     },
     "metadata": {
      "needs_background": "light"
     },
     "output_type": "display_data"
    }
   ],
   "source": [
    "df.plot()"
   ]
  },
  {
   "cell_type": "code",
   "execution_count": 15,
   "metadata": {},
   "outputs": [
    {
     "data": {
      "application/vnd.plotly.v1+json": {
       "config": {
        "linkText": "Export to plot.ly",
        "plotlyServerURL": "https://plot.ly",
        "showLink": true
       },
       "data": [
        {
         "line": {
          "color": "rgba(255, 153, 51, 1.0)",
          "dash": "solid",
          "shape": "linear",
          "width": 1.3
         },
         "mode": "lines",
         "name": "A",
         "text": "",
         "type": "scatter",
         "x": [
          0,
          1,
          2,
          3,
          4,
          5,
          6,
          7,
          8,
          9,
          10,
          11,
          12,
          13,
          14,
          15,
          16,
          17,
          18,
          19,
          20,
          21,
          22,
          23,
          24,
          25,
          26,
          27,
          28,
          29,
          30,
          31,
          32,
          33,
          34,
          35,
          36,
          37,
          38,
          39,
          40,
          41,
          42,
          43,
          44,
          45,
          46,
          47,
          48,
          49,
          50,
          51,
          52,
          53,
          54,
          55,
          56,
          57,
          58,
          59,
          60,
          61,
          62,
          63,
          64,
          65,
          66,
          67,
          68,
          69,
          70,
          71,
          72,
          73,
          74,
          75,
          76,
          77,
          78,
          79,
          80,
          81,
          82,
          83,
          84,
          85,
          86,
          87,
          88,
          89,
          90,
          91,
          92,
          93,
          94,
          95,
          96,
          97,
          98,
          99
         ],
         "y": [
          -0.045220991541672514,
          0.6780430845497113,
          1.0057065998631551,
          -0.9728874120987261,
          -0.1429232842760107,
          1.2921833308681698,
          0.16399911560590277,
          0.5864133066083158,
          0.005048291501591372,
          0.18320948521328073,
          -2.49509747225579,
          1.3256859636637544,
          -1.6793176056440045,
          1.2723860638991833,
          1.578103990878968,
          1.6643859249494612,
          -0.7935622243303689,
          1.4753187604179476,
          -0.5171412718010686,
          1.2361846435347696,
          1.704522844836798,
          0.8695553230428329,
          0.04824931042202152,
          -0.5596124096097523,
          -1.1327010356287375,
          -1.406914574214415,
          -0.2760296743683121,
          0.8499750408369918,
          0.2733027589733112,
          -0.9270609774179835,
          -0.11937096459563867,
          -1.6341734716797336,
          -0.41805224566733007,
          0.050751069046720734,
          -0.20458127481769103,
          -2.014914541732928,
          1.1293271143962424,
          -0.535345544707788,
          0.7205565368377175,
          0.4434882575852396,
          2.287900075088307,
          0.8593080673185117,
          -0.8474654655180363,
          0.5740891945961737,
          0.866934071277127,
          1.6599286334175802,
          1.1413585505968555,
          -0.12489284454263366,
          1.0077112317489567,
          -0.8015057558969182,
          0.06322142018660247,
          0.02030583905367841,
          1.310214444831818,
          0.3220132314938279,
          -1.7460855703860538,
          1.4814702223140728,
          -0.8035722883805491,
          -0.8977913265652391,
          0.4834089731976079,
          1.4171127102051564,
          1.4755906750430359,
          2.0461501156802657,
          1.8315708147771137,
          -0.7776544535304498,
          0.9212441621689802,
          -1.070857782437202,
          0.2665485378678139,
          -0.2375412783190445,
          0.12928115685388808,
          -1.5094640119124836,
          0.36096311670622444,
          0.3449732335562818,
          0.9268319900465413,
          -0.8784088858281468,
          0.35568448009216114,
          -0.08607414252524906,
          1.213447359424447,
          1.220582787720631,
          -1.5714006178028541,
          0.3772038547775565,
          0.1836811429063996,
          0.23643055367021165,
          -0.14944956474447565,
          1.2660528101080524,
          -0.5669141209856902,
          -0.061203227869747794,
          -1.0152345093451074,
          -0.06490705351212794,
          -0.0967940059628407,
          0.4630555535765282,
          -1.5499008045555307,
          0.3662054810766103,
          1.3967190454514729,
          -1.2459338585587063,
          -0.4192847012410866,
          -0.9966152679852247,
          -0.8929790395801137,
          -0.375225580512482,
          1.11697358465709,
          0.22825455583325077
         ]
        },
        {
         "line": {
          "color": "rgba(55, 128, 191, 1.0)",
          "dash": "solid",
          "shape": "linear",
          "width": 1.3
         },
         "mode": "lines",
         "name": "B",
         "text": "",
         "type": "scatter",
         "x": [
          0,
          1,
          2,
          3,
          4,
          5,
          6,
          7,
          8,
          9,
          10,
          11,
          12,
          13,
          14,
          15,
          16,
          17,
          18,
          19,
          20,
          21,
          22,
          23,
          24,
          25,
          26,
          27,
          28,
          29,
          30,
          31,
          32,
          33,
          34,
          35,
          36,
          37,
          38,
          39,
          40,
          41,
          42,
          43,
          44,
          45,
          46,
          47,
          48,
          49,
          50,
          51,
          52,
          53,
          54,
          55,
          56,
          57,
          58,
          59,
          60,
          61,
          62,
          63,
          64,
          65,
          66,
          67,
          68,
          69,
          70,
          71,
          72,
          73,
          74,
          75,
          76,
          77,
          78,
          79,
          80,
          81,
          82,
          83,
          84,
          85,
          86,
          87,
          88,
          89,
          90,
          91,
          92,
          93,
          94,
          95,
          96,
          97,
          98,
          99
         ],
         "y": [
          -0.013295768492124153,
          -0.27074517491106564,
          -0.48041519701937146,
          -0.15747940179591474,
          0.2558515658031597,
          -0.15662119891997725,
          0.3479723140894033,
          -0.15084375498932429,
          0.06228336036949375,
          0.9736025112157594,
          0.5402519563550914,
          0.8682305950906869,
          -0.65170589410664,
          0.678613203133178,
          -0.057432097459745896,
          0.6932633553636146,
          -1.9939719746754565,
          -2.002802721971022,
          0.25746993202325685,
          0.4889548095852013,
          -0.7168527223620486,
          -1.2923706473113479,
          -0.6753735457834736,
          0.9202025865444132,
          1.4670937547148066,
          0.18474639375151114,
          1.5237228427501046,
          0.6555734068239183,
          -1.6536292861970667,
          0.04987606236109394,
          0.7564239173991238,
          -1.215415085919389,
          -0.6904670180577785,
          0.8332193013800037,
          0.062395229603287104,
          3.115989368570276,
          -1.0011794943455687,
          0.29053598685344056,
          -0.029260709986795252,
          -0.37251804313432424,
          0.48538385105860427,
          -0.833960660422719,
          0.12828209855485537,
          -0.36647237774781805,
          -0.2562272216832282,
          0.2689613943245282,
          0.039384657809476246,
          0.9003688284552946,
          -0.03498553399708273,
          0.03852162330557176,
          1.4029672622615341,
          0.4722881623952208,
          -0.655692389374444,
          0.35094145422495787,
          2.025198109041344,
          0.6214822754704921,
          0.6995612430798638,
          0.3730785899429117,
          0.602967469726209,
          0.04571784171804009,
          0.3266369638556332,
          -0.31846827964026114,
          0.15383690822073517,
          -0.338144285317204,
          1.884543871930759,
          0.40335856103092854,
          0.4150036654412097,
          1.487026005753503,
          0.12374285847035515,
          0.8366685261562422,
          0.5795360711488374,
          1.614778779962535,
          -1.5065686107987333,
          1.5592396986044814,
          -0.32329791999507934,
          -0.9318225839805766,
          -1.1578286591490894,
          -0.041709953393487105,
          2.337128989736377,
          -0.5557500637748092,
          -0.801289268411741,
          -0.9626995069095104,
          -0.4290769015529991,
          1.6348652562575745,
          0.7716484917337753,
          -1.505387304121753,
          -0.15247950644685498,
          2.0875013582731077,
          0.8138442069099916,
          -0.5980676063757108,
          -1.0733335543265496,
          -0.5453515556217455,
          0.27422936109205454,
          0.40974088231107303,
          0.5706700018492756,
          -1.9690048686611612,
          0.3942186062027898,
          1.0710514434878289,
          -0.5441656857116004,
          -0.26082261070316265
         ]
        },
        {
         "line": {
          "color": "rgba(50, 171, 96, 1.0)",
          "dash": "solid",
          "shape": "linear",
          "width": 1.3
         },
         "mode": "lines",
         "name": "C",
         "text": "",
         "type": "scatter",
         "x": [
          0,
          1,
          2,
          3,
          4,
          5,
          6,
          7,
          8,
          9,
          10,
          11,
          12,
          13,
          14,
          15,
          16,
          17,
          18,
          19,
          20,
          21,
          22,
          23,
          24,
          25,
          26,
          27,
          28,
          29,
          30,
          31,
          32,
          33,
          34,
          35,
          36,
          37,
          38,
          39,
          40,
          41,
          42,
          43,
          44,
          45,
          46,
          47,
          48,
          49,
          50,
          51,
          52,
          53,
          54,
          55,
          56,
          57,
          58,
          59,
          60,
          61,
          62,
          63,
          64,
          65,
          66,
          67,
          68,
          69,
          70,
          71,
          72,
          73,
          74,
          75,
          76,
          77,
          78,
          79,
          80,
          81,
          82,
          83,
          84,
          85,
          86,
          87,
          88,
          89,
          90,
          91,
          92,
          93,
          94,
          95,
          96,
          97,
          98,
          99
         ],
         "y": [
          0.13873828079658243,
          0.004189153867128753,
          0.09682297277796335,
          -1.944173718156881,
          -1.509648123220136,
          -0.2562642772096215,
          1.1425384061525947,
          1.8381697029094315,
          -0.89523389287459,
          -0.11167869593903061,
          1.868391686565969,
          0.926008375873174,
          -0.5375160643538771,
          -2.21354100606647,
          0.13758441049616993,
          -1.6127200438386537,
          0.836629941326483,
          0.982639029672047,
          -1.4267965171737238,
          -0.7340729325482471,
          0.33979196381839,
          -0.0975870854132879,
          -0.6148688825087985,
          0.5147673433285442,
          -0.9481706485625584,
          -0.04271544928766234,
          1.3243642261933142,
          -0.8546463501044619,
          -0.599297728305147,
          0.04548785985911168,
          -0.4811079491622432,
          -1.774406825632185,
          -0.7702693340792561,
          -0.4748276882281734,
          0.9768466741741556,
          0.6901701186316009,
          -0.3163663233169675,
          0.21287078406361903,
          1.136115798865693,
          0.33720867240916724,
          1.033480878886706,
          -0.185564645796627,
          -0.10859162252684647,
          0.0011082298498769818,
          -1.1007152668847089,
          0.590790643787503,
          0.7924839944953712,
          1.1310755853681902,
          0.20678821376316955,
          0.24112123763139306,
          1.2357128959168289,
          -0.49945309036356245,
          -0.3438373786786498,
          -1.974197190227374,
          -0.17757562574931995,
          -1.477475520667104,
          -1.3876057638569905,
          0.7462505236735426,
          -0.8287043340198685,
          -0.3133316893236558,
          0.055715575088475404,
          -1.9505041054363514,
          -0.7276070321344944,
          -0.34043567190802565,
          0.606938441762185,
          1.3179143702571974,
          -0.7809922643385032,
          -0.32097787481639667,
          0.4256234210720113,
          -0.07335408475851667,
          0.3671507620785513,
          0.02747103411586101,
          -0.03694446480914026,
          1.3688673794512007,
          1.0148027798988821,
          -0.39597774323778956,
          0.5455817623527611,
          -1.1833906968924781,
          0.5047148544381632,
          -0.9086647103866449,
          -0.5041775256575728,
          -3.2175858667536223,
          -1.4626369755166713,
          -0.8760406447373471,
          -1.5329422094336318,
          -0.07856244032320203,
          0.7258509590435329,
          -0.7169536298739123,
          0.47821301919925535,
          -1.6070953362840454,
          0.18492608791772172,
          0.4831953421913388,
          -0.46527559209292835,
          -0.057744579710930236,
          2.0151435673920908,
          -1.202496502277343,
          1.1154447255484976,
          -1.8995728472275581,
          -0.07759942120844565,
          0.5096943059187304
         ]
        },
        {
         "line": {
          "color": "rgba(128, 0, 128, 1.0)",
          "dash": "solid",
          "shape": "linear",
          "width": 1.3
         },
         "mode": "lines",
         "name": "D",
         "text": "",
         "type": "scatter",
         "x": [
          0,
          1,
          2,
          3,
          4,
          5,
          6,
          7,
          8,
          9,
          10,
          11,
          12,
          13,
          14,
          15,
          16,
          17,
          18,
          19,
          20,
          21,
          22,
          23,
          24,
          25,
          26,
          27,
          28,
          29,
          30,
          31,
          32,
          33,
          34,
          35,
          36,
          37,
          38,
          39,
          40,
          41,
          42,
          43,
          44,
          45,
          46,
          47,
          48,
          49,
          50,
          51,
          52,
          53,
          54,
          55,
          56,
          57,
          58,
          59,
          60,
          61,
          62,
          63,
          64,
          65,
          66,
          67,
          68,
          69,
          70,
          71,
          72,
          73,
          74,
          75,
          76,
          77,
          78,
          79,
          80,
          81,
          82,
          83,
          84,
          85,
          86,
          87,
          88,
          89,
          90,
          91,
          92,
          93,
          94,
          95,
          96,
          97,
          98,
          99
         ],
         "y": [
          -0.4337879491334362,
          0.7976012586008668,
          0.04679388847070139,
          0.8210509017025851,
          -0.47737624449913807,
          -2.7113749177309034,
          -0.3467805670259546,
          -0.9656770508426309,
          0.26838356597477203,
          1.111511291342199,
          -0.3724119499893848,
          -0.6879024860078657,
          0.12543381105475546,
          1.5141660057493092,
          0.0031518850461970446,
          -1.8862220831122953,
          -0.8366577378678488,
          0.24412695824901426,
          -0.29940606815106224,
          -1.108196501494843,
          -1.3682950024746594,
          -2.3631574734573317,
          -3.0855407392711185,
          -0.8490098793244223,
          -0.27307010329833803,
          -0.2364030920459769,
          0.6643850678309491,
          -0.3928846608662631,
          -1.1134663891849492,
          0.5259166824485958,
          1.2767655084421516,
          0.0354705094250525,
          -0.22469254344204675,
          1.6272211270560817,
          -0.414669543582508,
          0.7139322291458065,
          -2.470709743384897,
          1.5386164967793026,
          0.7160072919906816,
          0.1417813834395697,
          -0.4043862753593802,
          -1.8071493515932677,
          -1.3723541348893524,
          1.0948479544848693,
          0.9989596265551828,
          -0.6478008481453175,
          1.4124754326601883,
          0.4346882253946431,
          -0.7348738360323315,
          0.870683905831478,
          0.6579668551742296,
          -1.9940535889544115,
          -0.005078270571319728,
          1.3365837181328428,
          0.10899587834151302,
          0.9165248381194471,
          -0.6368591137339633,
          0.7119659996376386,
          0.986580694631742,
          0.416081849948451,
          0.5352805242252674,
          0.5208318750173206,
          0.9571424944340965,
          -0.3901599757044315,
          -1.1401073992251733,
          0.3340180184206363,
          0.7406991050707952,
          0.4647617310146391,
          1.2959649906828112,
          -0.47230962246013475,
          0.1567297692468287,
          -0.37393093428584573,
          1.2767768262192751,
          0.3461111052548227,
          -1.022476851684093,
          0.6349317486094176,
          -0.15101842538131852,
          0.033728646201024046,
          0.2667964330454267,
          1.0629785526860123,
          -1.0917878409952968,
          -0.3582307526329137,
          0.5524824823445418,
          -1.0013894542109176,
          -1.9607511780597788,
          -2.7722741185384954,
          0.01864704728907342,
          0.6571359736547979,
          1.7367344460001817,
          0.32949603949899275,
          0.42953810085154065,
          -0.6237116485501133,
          0.20610138838812966,
          1.1257106532373393,
          0.07309187136866693,
          0.1825421452130804,
          -1.410613394522949,
          0.32020366902474606,
          -0.1891096779802458,
          1.1968104396498749
         ]
        }
       ],
       "layout": {
        "legend": {
         "bgcolor": "#F5F6F9",
         "font": {
          "color": "#4D5663"
         }
        },
        "paper_bgcolor": "#F5F6F9",
        "plot_bgcolor": "#F5F6F9",
        "template": {
         "data": {
          "bar": [
           {
            "error_x": {
             "color": "#2a3f5f"
            },
            "error_y": {
             "color": "#2a3f5f"
            },
            "marker": {
             "line": {
              "color": "#E5ECF6",
              "width": 0.5
             }
            },
            "type": "bar"
           }
          ],
          "barpolar": [
           {
            "marker": {
             "line": {
              "color": "#E5ECF6",
              "width": 0.5
             }
            },
            "type": "barpolar"
           }
          ],
          "carpet": [
           {
            "aaxis": {
             "endlinecolor": "#2a3f5f",
             "gridcolor": "white",
             "linecolor": "white",
             "minorgridcolor": "white",
             "startlinecolor": "#2a3f5f"
            },
            "baxis": {
             "endlinecolor": "#2a3f5f",
             "gridcolor": "white",
             "linecolor": "white",
             "minorgridcolor": "white",
             "startlinecolor": "#2a3f5f"
            },
            "type": "carpet"
           }
          ],
          "choropleth": [
           {
            "colorbar": {
             "outlinewidth": 0,
             "ticks": ""
            },
            "type": "choropleth"
           }
          ],
          "contour": [
           {
            "colorbar": {
             "outlinewidth": 0,
             "ticks": ""
            },
            "colorscale": [
             [
              0,
              "#0d0887"
             ],
             [
              0.1111111111111111,
              "#46039f"
             ],
             [
              0.2222222222222222,
              "#7201a8"
             ],
             [
              0.3333333333333333,
              "#9c179e"
             ],
             [
              0.4444444444444444,
              "#bd3786"
             ],
             [
              0.5555555555555556,
              "#d8576b"
             ],
             [
              0.6666666666666666,
              "#ed7953"
             ],
             [
              0.7777777777777778,
              "#fb9f3a"
             ],
             [
              0.8888888888888888,
              "#fdca26"
             ],
             [
              1,
              "#f0f921"
             ]
            ],
            "type": "contour"
           }
          ],
          "contourcarpet": [
           {
            "colorbar": {
             "outlinewidth": 0,
             "ticks": ""
            },
            "type": "contourcarpet"
           }
          ],
          "heatmap": [
           {
            "colorbar": {
             "outlinewidth": 0,
             "ticks": ""
            },
            "colorscale": [
             [
              0,
              "#0d0887"
             ],
             [
              0.1111111111111111,
              "#46039f"
             ],
             [
              0.2222222222222222,
              "#7201a8"
             ],
             [
              0.3333333333333333,
              "#9c179e"
             ],
             [
              0.4444444444444444,
              "#bd3786"
             ],
             [
              0.5555555555555556,
              "#d8576b"
             ],
             [
              0.6666666666666666,
              "#ed7953"
             ],
             [
              0.7777777777777778,
              "#fb9f3a"
             ],
             [
              0.8888888888888888,
              "#fdca26"
             ],
             [
              1,
              "#f0f921"
             ]
            ],
            "type": "heatmap"
           }
          ],
          "heatmapgl": [
           {
            "colorbar": {
             "outlinewidth": 0,
             "ticks": ""
            },
            "colorscale": [
             [
              0,
              "#0d0887"
             ],
             [
              0.1111111111111111,
              "#46039f"
             ],
             [
              0.2222222222222222,
              "#7201a8"
             ],
             [
              0.3333333333333333,
              "#9c179e"
             ],
             [
              0.4444444444444444,
              "#bd3786"
             ],
             [
              0.5555555555555556,
              "#d8576b"
             ],
             [
              0.6666666666666666,
              "#ed7953"
             ],
             [
              0.7777777777777778,
              "#fb9f3a"
             ],
             [
              0.8888888888888888,
              "#fdca26"
             ],
             [
              1,
              "#f0f921"
             ]
            ],
            "type": "heatmapgl"
           }
          ],
          "histogram": [
           {
            "marker": {
             "colorbar": {
              "outlinewidth": 0,
              "ticks": ""
             }
            },
            "type": "histogram"
           }
          ],
          "histogram2d": [
           {
            "colorbar": {
             "outlinewidth": 0,
             "ticks": ""
            },
            "colorscale": [
             [
              0,
              "#0d0887"
             ],
             [
              0.1111111111111111,
              "#46039f"
             ],
             [
              0.2222222222222222,
              "#7201a8"
             ],
             [
              0.3333333333333333,
              "#9c179e"
             ],
             [
              0.4444444444444444,
              "#bd3786"
             ],
             [
              0.5555555555555556,
              "#d8576b"
             ],
             [
              0.6666666666666666,
              "#ed7953"
             ],
             [
              0.7777777777777778,
              "#fb9f3a"
             ],
             [
              0.8888888888888888,
              "#fdca26"
             ],
             [
              1,
              "#f0f921"
             ]
            ],
            "type": "histogram2d"
           }
          ],
          "histogram2dcontour": [
           {
            "colorbar": {
             "outlinewidth": 0,
             "ticks": ""
            },
            "colorscale": [
             [
              0,
              "#0d0887"
             ],
             [
              0.1111111111111111,
              "#46039f"
             ],
             [
              0.2222222222222222,
              "#7201a8"
             ],
             [
              0.3333333333333333,
              "#9c179e"
             ],
             [
              0.4444444444444444,
              "#bd3786"
             ],
             [
              0.5555555555555556,
              "#d8576b"
             ],
             [
              0.6666666666666666,
              "#ed7953"
             ],
             [
              0.7777777777777778,
              "#fb9f3a"
             ],
             [
              0.8888888888888888,
              "#fdca26"
             ],
             [
              1,
              "#f0f921"
             ]
            ],
            "type": "histogram2dcontour"
           }
          ],
          "mesh3d": [
           {
            "colorbar": {
             "outlinewidth": 0,
             "ticks": ""
            },
            "type": "mesh3d"
           }
          ],
          "parcoords": [
           {
            "line": {
             "colorbar": {
              "outlinewidth": 0,
              "ticks": ""
             }
            },
            "type": "parcoords"
           }
          ],
          "pie": [
           {
            "automargin": true,
            "type": "pie"
           }
          ],
          "scatter": [
           {
            "marker": {
             "colorbar": {
              "outlinewidth": 0,
              "ticks": ""
             }
            },
            "type": "scatter"
           }
          ],
          "scatter3d": [
           {
            "line": {
             "colorbar": {
              "outlinewidth": 0,
              "ticks": ""
             }
            },
            "marker": {
             "colorbar": {
              "outlinewidth": 0,
              "ticks": ""
             }
            },
            "type": "scatter3d"
           }
          ],
          "scattercarpet": [
           {
            "marker": {
             "colorbar": {
              "outlinewidth": 0,
              "ticks": ""
             }
            },
            "type": "scattercarpet"
           }
          ],
          "scattergeo": [
           {
            "marker": {
             "colorbar": {
              "outlinewidth": 0,
              "ticks": ""
             }
            },
            "type": "scattergeo"
           }
          ],
          "scattergl": [
           {
            "marker": {
             "colorbar": {
              "outlinewidth": 0,
              "ticks": ""
             }
            },
            "type": "scattergl"
           }
          ],
          "scattermapbox": [
           {
            "marker": {
             "colorbar": {
              "outlinewidth": 0,
              "ticks": ""
             }
            },
            "type": "scattermapbox"
           }
          ],
          "scatterpolar": [
           {
            "marker": {
             "colorbar": {
              "outlinewidth": 0,
              "ticks": ""
             }
            },
            "type": "scatterpolar"
           }
          ],
          "scatterpolargl": [
           {
            "marker": {
             "colorbar": {
              "outlinewidth": 0,
              "ticks": ""
             }
            },
            "type": "scatterpolargl"
           }
          ],
          "scatterternary": [
           {
            "marker": {
             "colorbar": {
              "outlinewidth": 0,
              "ticks": ""
             }
            },
            "type": "scatterternary"
           }
          ],
          "surface": [
           {
            "colorbar": {
             "outlinewidth": 0,
             "ticks": ""
            },
            "colorscale": [
             [
              0,
              "#0d0887"
             ],
             [
              0.1111111111111111,
              "#46039f"
             ],
             [
              0.2222222222222222,
              "#7201a8"
             ],
             [
              0.3333333333333333,
              "#9c179e"
             ],
             [
              0.4444444444444444,
              "#bd3786"
             ],
             [
              0.5555555555555556,
              "#d8576b"
             ],
             [
              0.6666666666666666,
              "#ed7953"
             ],
             [
              0.7777777777777778,
              "#fb9f3a"
             ],
             [
              0.8888888888888888,
              "#fdca26"
             ],
             [
              1,
              "#f0f921"
             ]
            ],
            "type": "surface"
           }
          ],
          "table": [
           {
            "cells": {
             "fill": {
              "color": "#EBF0F8"
             },
             "line": {
              "color": "white"
             }
            },
            "header": {
             "fill": {
              "color": "#C8D4E3"
             },
             "line": {
              "color": "white"
             }
            },
            "type": "table"
           }
          ]
         },
         "layout": {
          "annotationdefaults": {
           "arrowcolor": "#2a3f5f",
           "arrowhead": 0,
           "arrowwidth": 1
          },
          "coloraxis": {
           "colorbar": {
            "outlinewidth": 0,
            "ticks": ""
           }
          },
          "colorscale": {
           "diverging": [
            [
             0,
             "#8e0152"
            ],
            [
             0.1,
             "#c51b7d"
            ],
            [
             0.2,
             "#de77ae"
            ],
            [
             0.3,
             "#f1b6da"
            ],
            [
             0.4,
             "#fde0ef"
            ],
            [
             0.5,
             "#f7f7f7"
            ],
            [
             0.6,
             "#e6f5d0"
            ],
            [
             0.7,
             "#b8e186"
            ],
            [
             0.8,
             "#7fbc41"
            ],
            [
             0.9,
             "#4d9221"
            ],
            [
             1,
             "#276419"
            ]
           ],
           "sequential": [
            [
             0,
             "#0d0887"
            ],
            [
             0.1111111111111111,
             "#46039f"
            ],
            [
             0.2222222222222222,
             "#7201a8"
            ],
            [
             0.3333333333333333,
             "#9c179e"
            ],
            [
             0.4444444444444444,
             "#bd3786"
            ],
            [
             0.5555555555555556,
             "#d8576b"
            ],
            [
             0.6666666666666666,
             "#ed7953"
            ],
            [
             0.7777777777777778,
             "#fb9f3a"
            ],
            [
             0.8888888888888888,
             "#fdca26"
            ],
            [
             1,
             "#f0f921"
            ]
           ],
           "sequentialminus": [
            [
             0,
             "#0d0887"
            ],
            [
             0.1111111111111111,
             "#46039f"
            ],
            [
             0.2222222222222222,
             "#7201a8"
            ],
            [
             0.3333333333333333,
             "#9c179e"
            ],
            [
             0.4444444444444444,
             "#bd3786"
            ],
            [
             0.5555555555555556,
             "#d8576b"
            ],
            [
             0.6666666666666666,
             "#ed7953"
            ],
            [
             0.7777777777777778,
             "#fb9f3a"
            ],
            [
             0.8888888888888888,
             "#fdca26"
            ],
            [
             1,
             "#f0f921"
            ]
           ]
          },
          "colorway": [
           "#636efa",
           "#EF553B",
           "#00cc96",
           "#ab63fa",
           "#FFA15A",
           "#19d3f3",
           "#FF6692",
           "#B6E880",
           "#FF97FF",
           "#FECB52"
          ],
          "font": {
           "color": "#2a3f5f"
          },
          "geo": {
           "bgcolor": "white",
           "lakecolor": "white",
           "landcolor": "#E5ECF6",
           "showlakes": true,
           "showland": true,
           "subunitcolor": "white"
          },
          "hoverlabel": {
           "align": "left"
          },
          "hovermode": "closest",
          "mapbox": {
           "style": "light"
          },
          "paper_bgcolor": "white",
          "plot_bgcolor": "#E5ECF6",
          "polar": {
           "angularaxis": {
            "gridcolor": "white",
            "linecolor": "white",
            "ticks": ""
           },
           "bgcolor": "#E5ECF6",
           "radialaxis": {
            "gridcolor": "white",
            "linecolor": "white",
            "ticks": ""
           }
          },
          "scene": {
           "xaxis": {
            "backgroundcolor": "#E5ECF6",
            "gridcolor": "white",
            "gridwidth": 2,
            "linecolor": "white",
            "showbackground": true,
            "ticks": "",
            "zerolinecolor": "white"
           },
           "yaxis": {
            "backgroundcolor": "#E5ECF6",
            "gridcolor": "white",
            "gridwidth": 2,
            "linecolor": "white",
            "showbackground": true,
            "ticks": "",
            "zerolinecolor": "white"
           },
           "zaxis": {
            "backgroundcolor": "#E5ECF6",
            "gridcolor": "white",
            "gridwidth": 2,
            "linecolor": "white",
            "showbackground": true,
            "ticks": "",
            "zerolinecolor": "white"
           }
          },
          "shapedefaults": {
           "line": {
            "color": "#2a3f5f"
           }
          },
          "ternary": {
           "aaxis": {
            "gridcolor": "white",
            "linecolor": "white",
            "ticks": ""
           },
           "baxis": {
            "gridcolor": "white",
            "linecolor": "white",
            "ticks": ""
           },
           "bgcolor": "#E5ECF6",
           "caxis": {
            "gridcolor": "white",
            "linecolor": "white",
            "ticks": ""
           }
          },
          "title": {
           "x": 0.05
          },
          "xaxis": {
           "automargin": true,
           "gridcolor": "white",
           "linecolor": "white",
           "ticks": "",
           "title": {
            "standoff": 15
           },
           "zerolinecolor": "white",
           "zerolinewidth": 2
          },
          "yaxis": {
           "automargin": true,
           "gridcolor": "white",
           "linecolor": "white",
           "ticks": "",
           "title": {
            "standoff": 15
           },
           "zerolinecolor": "white",
           "zerolinewidth": 2
          }
         }
        },
        "title": {
         "font": {
          "color": "#4D5663"
         }
        },
        "xaxis": {
         "gridcolor": "#E1E5ED",
         "showgrid": true,
         "tickfont": {
          "color": "#4D5663"
         },
         "title": {
          "font": {
           "color": "#4D5663"
          },
          "text": ""
         },
         "zerolinecolor": "#E1E5ED"
        },
        "yaxis": {
         "gridcolor": "#E1E5ED",
         "showgrid": true,
         "tickfont": {
          "color": "#4D5663"
         },
         "title": {
          "font": {
           "color": "#4D5663"
          },
          "text": ""
         },
         "zerolinecolor": "#E1E5ED"
        }
       }
      },
      "text/html": [
       "<div>\n",
       "        \n",
       "        \n",
       "            <div id=\"ec032241-c9c9-4de2-965d-270daa1f61fb\" class=\"plotly-graph-div\" style=\"height:525px; width:100%;\"></div>\n",
       "            <script type=\"text/javascript\">\n",
       "                require([\"plotly\"], function(Plotly) {\n",
       "                    window.PLOTLYENV=window.PLOTLYENV || {};\n",
       "                    window.PLOTLYENV.BASE_URL='https://plot.ly';\n",
       "                    \n",
       "                if (document.getElementById(\"ec032241-c9c9-4de2-965d-270daa1f61fb\")) {\n",
       "                    Plotly.newPlot(\n",
       "                        'ec032241-c9c9-4de2-965d-270daa1f61fb',\n",
       "                        [{\"line\": {\"color\": \"rgba(255, 153, 51, 1.0)\", \"dash\": \"solid\", \"shape\": \"linear\", \"width\": 1.3}, \"mode\": \"lines\", \"name\": \"A\", \"text\": \"\", \"type\": \"scatter\", \"x\": [0, 1, 2, 3, 4, 5, 6, 7, 8, 9, 10, 11, 12, 13, 14, 15, 16, 17, 18, 19, 20, 21, 22, 23, 24, 25, 26, 27, 28, 29, 30, 31, 32, 33, 34, 35, 36, 37, 38, 39, 40, 41, 42, 43, 44, 45, 46, 47, 48, 49, 50, 51, 52, 53, 54, 55, 56, 57, 58, 59, 60, 61, 62, 63, 64, 65, 66, 67, 68, 69, 70, 71, 72, 73, 74, 75, 76, 77, 78, 79, 80, 81, 82, 83, 84, 85, 86, 87, 88, 89, 90, 91, 92, 93, 94, 95, 96, 97, 98, 99], \"y\": [-0.045220991541672514, 0.6780430845497113, 1.0057065998631551, -0.9728874120987261, -0.1429232842760107, 1.2921833308681698, 0.16399911560590277, 0.5864133066083158, 0.005048291501591372, 0.18320948521328073, -2.49509747225579, 1.3256859636637544, -1.6793176056440045, 1.2723860638991833, 1.578103990878968, 1.6643859249494612, -0.7935622243303689, 1.4753187604179476, -0.5171412718010686, 1.2361846435347696, 1.704522844836798, 0.8695553230428329, 0.04824931042202152, -0.5596124096097523, -1.1327010356287375, -1.406914574214415, -0.2760296743683121, 0.8499750408369918, 0.2733027589733112, -0.9270609774179835, -0.11937096459563867, -1.6341734716797336, -0.41805224566733007, 0.050751069046720734, -0.20458127481769103, -2.014914541732928, 1.1293271143962424, -0.535345544707788, 0.7205565368377175, 0.4434882575852396, 2.287900075088307, 0.8593080673185117, -0.8474654655180363, 0.5740891945961737, 0.866934071277127, 1.6599286334175802, 1.1413585505968555, -0.12489284454263366, 1.0077112317489567, -0.8015057558969182, 0.06322142018660247, 0.02030583905367841, 1.310214444831818, 0.3220132314938279, -1.7460855703860538, 1.4814702223140728, -0.8035722883805491, -0.8977913265652391, 0.4834089731976079, 1.4171127102051564, 1.4755906750430359, 2.0461501156802657, 1.8315708147771137, -0.7776544535304498, 0.9212441621689802, -1.070857782437202, 0.2665485378678139, -0.2375412783190445, 0.12928115685388808, -1.5094640119124836, 0.36096311670622444, 0.3449732335562818, 0.9268319900465413, -0.8784088858281468, 0.35568448009216114, -0.08607414252524906, 1.213447359424447, 1.220582787720631, -1.5714006178028541, 0.3772038547775565, 0.1836811429063996, 0.23643055367021165, -0.14944956474447565, 1.2660528101080524, -0.5669141209856902, -0.061203227869747794, -1.0152345093451074, -0.06490705351212794, -0.0967940059628407, 0.4630555535765282, -1.5499008045555307, 0.3662054810766103, 1.3967190454514729, -1.2459338585587063, -0.4192847012410866, -0.9966152679852247, -0.8929790395801137, -0.375225580512482, 1.11697358465709, 0.22825455583325077]}, {\"line\": {\"color\": \"rgba(55, 128, 191, 1.0)\", \"dash\": \"solid\", \"shape\": \"linear\", \"width\": 1.3}, \"mode\": \"lines\", \"name\": \"B\", \"text\": \"\", \"type\": \"scatter\", \"x\": [0, 1, 2, 3, 4, 5, 6, 7, 8, 9, 10, 11, 12, 13, 14, 15, 16, 17, 18, 19, 20, 21, 22, 23, 24, 25, 26, 27, 28, 29, 30, 31, 32, 33, 34, 35, 36, 37, 38, 39, 40, 41, 42, 43, 44, 45, 46, 47, 48, 49, 50, 51, 52, 53, 54, 55, 56, 57, 58, 59, 60, 61, 62, 63, 64, 65, 66, 67, 68, 69, 70, 71, 72, 73, 74, 75, 76, 77, 78, 79, 80, 81, 82, 83, 84, 85, 86, 87, 88, 89, 90, 91, 92, 93, 94, 95, 96, 97, 98, 99], \"y\": [-0.013295768492124153, -0.27074517491106564, -0.48041519701937146, -0.15747940179591474, 0.2558515658031597, -0.15662119891997725, 0.3479723140894033, -0.15084375498932429, 0.06228336036949375, 0.9736025112157594, 0.5402519563550914, 0.8682305950906869, -0.65170589410664, 0.678613203133178, -0.057432097459745896, 0.6932633553636146, -1.9939719746754565, -2.002802721971022, 0.25746993202325685, 0.4889548095852013, -0.7168527223620486, -1.2923706473113479, -0.6753735457834736, 0.9202025865444132, 1.4670937547148066, 0.18474639375151114, 1.5237228427501046, 0.6555734068239183, -1.6536292861970667, 0.04987606236109394, 0.7564239173991238, -1.215415085919389, -0.6904670180577785, 0.8332193013800037, 0.062395229603287104, 3.115989368570276, -1.0011794943455687, 0.29053598685344056, -0.029260709986795252, -0.37251804313432424, 0.48538385105860427, -0.833960660422719, 0.12828209855485537, -0.36647237774781805, -0.2562272216832282, 0.2689613943245282, 0.039384657809476246, 0.9003688284552946, -0.03498553399708273, 0.03852162330557176, 1.4029672622615341, 0.4722881623952208, -0.655692389374444, 0.35094145422495787, 2.025198109041344, 0.6214822754704921, 0.6995612430798638, 0.3730785899429117, 0.602967469726209, 0.04571784171804009, 0.3266369638556332, -0.31846827964026114, 0.15383690822073517, -0.338144285317204, 1.884543871930759, 0.40335856103092854, 0.4150036654412097, 1.487026005753503, 0.12374285847035515, 0.8366685261562422, 0.5795360711488374, 1.614778779962535, -1.5065686107987333, 1.5592396986044814, -0.32329791999507934, -0.9318225839805766, -1.1578286591490894, -0.041709953393487105, 2.337128989736377, -0.5557500637748092, -0.801289268411741, -0.9626995069095104, -0.4290769015529991, 1.6348652562575745, 0.7716484917337753, -1.505387304121753, -0.15247950644685498, 2.0875013582731077, 0.8138442069099916, -0.5980676063757108, -1.0733335543265496, -0.5453515556217455, 0.27422936109205454, 0.40974088231107303, 0.5706700018492756, -1.9690048686611612, 0.3942186062027898, 1.0710514434878289, -0.5441656857116004, -0.26082261070316265]}, {\"line\": {\"color\": \"rgba(50, 171, 96, 1.0)\", \"dash\": \"solid\", \"shape\": \"linear\", \"width\": 1.3}, \"mode\": \"lines\", \"name\": \"C\", \"text\": \"\", \"type\": \"scatter\", \"x\": [0, 1, 2, 3, 4, 5, 6, 7, 8, 9, 10, 11, 12, 13, 14, 15, 16, 17, 18, 19, 20, 21, 22, 23, 24, 25, 26, 27, 28, 29, 30, 31, 32, 33, 34, 35, 36, 37, 38, 39, 40, 41, 42, 43, 44, 45, 46, 47, 48, 49, 50, 51, 52, 53, 54, 55, 56, 57, 58, 59, 60, 61, 62, 63, 64, 65, 66, 67, 68, 69, 70, 71, 72, 73, 74, 75, 76, 77, 78, 79, 80, 81, 82, 83, 84, 85, 86, 87, 88, 89, 90, 91, 92, 93, 94, 95, 96, 97, 98, 99], \"y\": [0.13873828079658243, 0.004189153867128753, 0.09682297277796335, -1.944173718156881, -1.509648123220136, -0.2562642772096215, 1.1425384061525947, 1.8381697029094315, -0.89523389287459, -0.11167869593903061, 1.868391686565969, 0.926008375873174, -0.5375160643538771, -2.21354100606647, 0.13758441049616993, -1.6127200438386537, 0.836629941326483, 0.982639029672047, -1.4267965171737238, -0.7340729325482471, 0.33979196381839, -0.0975870854132879, -0.6148688825087985, 0.5147673433285442, -0.9481706485625584, -0.04271544928766234, 1.3243642261933142, -0.8546463501044619, -0.599297728305147, 0.04548785985911168, -0.4811079491622432, -1.774406825632185, -0.7702693340792561, -0.4748276882281734, 0.9768466741741556, 0.6901701186316009, -0.3163663233169675, 0.21287078406361903, 1.136115798865693, 0.33720867240916724, 1.033480878886706, -0.185564645796627, -0.10859162252684647, 0.0011082298498769818, -1.1007152668847089, 0.590790643787503, 0.7924839944953712, 1.1310755853681902, 0.20678821376316955, 0.24112123763139306, 1.2357128959168289, -0.49945309036356245, -0.3438373786786498, -1.974197190227374, -0.17757562574931995, -1.477475520667104, -1.3876057638569905, 0.7462505236735426, -0.8287043340198685, -0.3133316893236558, 0.055715575088475404, -1.9505041054363514, -0.7276070321344944, -0.34043567190802565, 0.606938441762185, 1.3179143702571974, -0.7809922643385032, -0.32097787481639667, 0.4256234210720113, -0.07335408475851667, 0.3671507620785513, 0.02747103411586101, -0.03694446480914026, 1.3688673794512007, 1.0148027798988821, -0.39597774323778956, 0.5455817623527611, -1.1833906968924781, 0.5047148544381632, -0.9086647103866449, -0.5041775256575728, -3.2175858667536223, -1.4626369755166713, -0.8760406447373471, -1.5329422094336318, -0.07856244032320203, 0.7258509590435329, -0.7169536298739123, 0.47821301919925535, -1.6070953362840454, 0.18492608791772172, 0.4831953421913388, -0.46527559209292835, -0.057744579710930236, 2.0151435673920908, -1.202496502277343, 1.1154447255484976, -1.8995728472275581, -0.07759942120844565, 0.5096943059187304]}, {\"line\": {\"color\": \"rgba(128, 0, 128, 1.0)\", \"dash\": \"solid\", \"shape\": \"linear\", \"width\": 1.3}, \"mode\": \"lines\", \"name\": \"D\", \"text\": \"\", \"type\": \"scatter\", \"x\": [0, 1, 2, 3, 4, 5, 6, 7, 8, 9, 10, 11, 12, 13, 14, 15, 16, 17, 18, 19, 20, 21, 22, 23, 24, 25, 26, 27, 28, 29, 30, 31, 32, 33, 34, 35, 36, 37, 38, 39, 40, 41, 42, 43, 44, 45, 46, 47, 48, 49, 50, 51, 52, 53, 54, 55, 56, 57, 58, 59, 60, 61, 62, 63, 64, 65, 66, 67, 68, 69, 70, 71, 72, 73, 74, 75, 76, 77, 78, 79, 80, 81, 82, 83, 84, 85, 86, 87, 88, 89, 90, 91, 92, 93, 94, 95, 96, 97, 98, 99], \"y\": [-0.4337879491334362, 0.7976012586008668, 0.04679388847070139, 0.8210509017025851, -0.47737624449913807, -2.7113749177309034, -0.3467805670259546, -0.9656770508426309, 0.26838356597477203, 1.111511291342199, -0.3724119499893848, -0.6879024860078657, 0.12543381105475546, 1.5141660057493092, 0.0031518850461970446, -1.8862220831122953, -0.8366577378678488, 0.24412695824901426, -0.29940606815106224, -1.108196501494843, -1.3682950024746594, -2.3631574734573317, -3.0855407392711185, -0.8490098793244223, -0.27307010329833803, -0.2364030920459769, 0.6643850678309491, -0.3928846608662631, -1.1134663891849492, 0.5259166824485958, 1.2767655084421516, 0.0354705094250525, -0.22469254344204675, 1.6272211270560817, -0.414669543582508, 0.7139322291458065, -2.470709743384897, 1.5386164967793026, 0.7160072919906816, 0.1417813834395697, -0.4043862753593802, -1.8071493515932677, -1.3723541348893524, 1.0948479544848693, 0.9989596265551828, -0.6478008481453175, 1.4124754326601883, 0.4346882253946431, -0.7348738360323315, 0.870683905831478, 0.6579668551742296, -1.9940535889544115, -0.005078270571319728, 1.3365837181328428, 0.10899587834151302, 0.9165248381194471, -0.6368591137339633, 0.7119659996376386, 0.986580694631742, 0.416081849948451, 0.5352805242252674, 0.5208318750173206, 0.9571424944340965, -0.3901599757044315, -1.1401073992251733, 0.3340180184206363, 0.7406991050707952, 0.4647617310146391, 1.2959649906828112, -0.47230962246013475, 0.1567297692468287, -0.37393093428584573, 1.2767768262192751, 0.3461111052548227, -1.022476851684093, 0.6349317486094176, -0.15101842538131852, 0.033728646201024046, 0.2667964330454267, 1.0629785526860123, -1.0917878409952968, -0.3582307526329137, 0.5524824823445418, -1.0013894542109176, -1.9607511780597788, -2.7722741185384954, 0.01864704728907342, 0.6571359736547979, 1.7367344460001817, 0.32949603949899275, 0.42953810085154065, -0.6237116485501133, 0.20610138838812966, 1.1257106532373393, 0.07309187136866693, 0.1825421452130804, -1.410613394522949, 0.32020366902474606, -0.1891096779802458, 1.1968104396498749]}],\n",
       "                        {\"legend\": {\"bgcolor\": \"#F5F6F9\", \"font\": {\"color\": \"#4D5663\"}}, \"paper_bgcolor\": \"#F5F6F9\", \"plot_bgcolor\": \"#F5F6F9\", \"template\": {\"data\": {\"bar\": [{\"error_x\": {\"color\": \"#2a3f5f\"}, \"error_y\": {\"color\": \"#2a3f5f\"}, \"marker\": {\"line\": {\"color\": \"#E5ECF6\", \"width\": 0.5}}, \"type\": \"bar\"}], \"barpolar\": [{\"marker\": {\"line\": {\"color\": \"#E5ECF6\", \"width\": 0.5}}, \"type\": \"barpolar\"}], \"carpet\": [{\"aaxis\": {\"endlinecolor\": \"#2a3f5f\", \"gridcolor\": \"white\", \"linecolor\": \"white\", \"minorgridcolor\": \"white\", \"startlinecolor\": \"#2a3f5f\"}, \"baxis\": {\"endlinecolor\": \"#2a3f5f\", \"gridcolor\": \"white\", \"linecolor\": \"white\", \"minorgridcolor\": \"white\", \"startlinecolor\": \"#2a3f5f\"}, \"type\": \"carpet\"}], \"choropleth\": [{\"colorbar\": {\"outlinewidth\": 0, \"ticks\": \"\"}, \"type\": \"choropleth\"}], \"contour\": [{\"colorbar\": {\"outlinewidth\": 0, \"ticks\": \"\"}, \"colorscale\": [[0.0, \"#0d0887\"], [0.1111111111111111, \"#46039f\"], [0.2222222222222222, \"#7201a8\"], [0.3333333333333333, \"#9c179e\"], [0.4444444444444444, \"#bd3786\"], [0.5555555555555556, \"#d8576b\"], [0.6666666666666666, \"#ed7953\"], [0.7777777777777778, \"#fb9f3a\"], [0.8888888888888888, \"#fdca26\"], [1.0, \"#f0f921\"]], \"type\": \"contour\"}], \"contourcarpet\": [{\"colorbar\": {\"outlinewidth\": 0, \"ticks\": \"\"}, \"type\": \"contourcarpet\"}], \"heatmap\": [{\"colorbar\": {\"outlinewidth\": 0, \"ticks\": \"\"}, \"colorscale\": [[0.0, \"#0d0887\"], [0.1111111111111111, \"#46039f\"], [0.2222222222222222, \"#7201a8\"], [0.3333333333333333, \"#9c179e\"], [0.4444444444444444, \"#bd3786\"], [0.5555555555555556, \"#d8576b\"], [0.6666666666666666, \"#ed7953\"], [0.7777777777777778, \"#fb9f3a\"], [0.8888888888888888, \"#fdca26\"], [1.0, \"#f0f921\"]], \"type\": \"heatmap\"}], \"heatmapgl\": [{\"colorbar\": {\"outlinewidth\": 0, \"ticks\": \"\"}, \"colorscale\": [[0.0, \"#0d0887\"], [0.1111111111111111, \"#46039f\"], [0.2222222222222222, \"#7201a8\"], [0.3333333333333333, \"#9c179e\"], [0.4444444444444444, \"#bd3786\"], [0.5555555555555556, \"#d8576b\"], [0.6666666666666666, \"#ed7953\"], [0.7777777777777778, \"#fb9f3a\"], [0.8888888888888888, \"#fdca26\"], [1.0, \"#f0f921\"]], \"type\": \"heatmapgl\"}], \"histogram\": [{\"marker\": {\"colorbar\": {\"outlinewidth\": 0, \"ticks\": \"\"}}, \"type\": \"histogram\"}], \"histogram2d\": [{\"colorbar\": {\"outlinewidth\": 0, \"ticks\": \"\"}, \"colorscale\": [[0.0, \"#0d0887\"], [0.1111111111111111, \"#46039f\"], [0.2222222222222222, \"#7201a8\"], [0.3333333333333333, \"#9c179e\"], [0.4444444444444444, \"#bd3786\"], [0.5555555555555556, \"#d8576b\"], [0.6666666666666666, \"#ed7953\"], [0.7777777777777778, \"#fb9f3a\"], [0.8888888888888888, \"#fdca26\"], [1.0, \"#f0f921\"]], \"type\": \"histogram2d\"}], \"histogram2dcontour\": [{\"colorbar\": {\"outlinewidth\": 0, \"ticks\": \"\"}, \"colorscale\": [[0.0, \"#0d0887\"], [0.1111111111111111, \"#46039f\"], [0.2222222222222222, \"#7201a8\"], [0.3333333333333333, \"#9c179e\"], [0.4444444444444444, \"#bd3786\"], [0.5555555555555556, \"#d8576b\"], [0.6666666666666666, \"#ed7953\"], [0.7777777777777778, \"#fb9f3a\"], [0.8888888888888888, \"#fdca26\"], [1.0, \"#f0f921\"]], \"type\": \"histogram2dcontour\"}], \"mesh3d\": [{\"colorbar\": {\"outlinewidth\": 0, \"ticks\": \"\"}, \"type\": \"mesh3d\"}], \"parcoords\": [{\"line\": {\"colorbar\": {\"outlinewidth\": 0, \"ticks\": \"\"}}, \"type\": \"parcoords\"}], \"pie\": [{\"automargin\": true, \"type\": \"pie\"}], \"scatter\": [{\"marker\": {\"colorbar\": {\"outlinewidth\": 0, \"ticks\": \"\"}}, \"type\": \"scatter\"}], \"scatter3d\": [{\"line\": {\"colorbar\": {\"outlinewidth\": 0, \"ticks\": \"\"}}, \"marker\": {\"colorbar\": {\"outlinewidth\": 0, \"ticks\": \"\"}}, \"type\": \"scatter3d\"}], \"scattercarpet\": [{\"marker\": {\"colorbar\": {\"outlinewidth\": 0, \"ticks\": \"\"}}, \"type\": \"scattercarpet\"}], \"scattergeo\": [{\"marker\": {\"colorbar\": {\"outlinewidth\": 0, \"ticks\": \"\"}}, \"type\": \"scattergeo\"}], \"scattergl\": [{\"marker\": {\"colorbar\": {\"outlinewidth\": 0, \"ticks\": \"\"}}, \"type\": \"scattergl\"}], \"scattermapbox\": [{\"marker\": {\"colorbar\": {\"outlinewidth\": 0, \"ticks\": \"\"}}, \"type\": \"scattermapbox\"}], \"scatterpolar\": [{\"marker\": {\"colorbar\": {\"outlinewidth\": 0, \"ticks\": \"\"}}, \"type\": \"scatterpolar\"}], \"scatterpolargl\": [{\"marker\": {\"colorbar\": {\"outlinewidth\": 0, \"ticks\": \"\"}}, \"type\": \"scatterpolargl\"}], \"scatterternary\": [{\"marker\": {\"colorbar\": {\"outlinewidth\": 0, \"ticks\": \"\"}}, \"type\": \"scatterternary\"}], \"surface\": [{\"colorbar\": {\"outlinewidth\": 0, \"ticks\": \"\"}, \"colorscale\": [[0.0, \"#0d0887\"], [0.1111111111111111, \"#46039f\"], [0.2222222222222222, \"#7201a8\"], [0.3333333333333333, \"#9c179e\"], [0.4444444444444444, \"#bd3786\"], [0.5555555555555556, \"#d8576b\"], [0.6666666666666666, \"#ed7953\"], [0.7777777777777778, \"#fb9f3a\"], [0.8888888888888888, \"#fdca26\"], [1.0, \"#f0f921\"]], \"type\": \"surface\"}], \"table\": [{\"cells\": {\"fill\": {\"color\": \"#EBF0F8\"}, \"line\": {\"color\": \"white\"}}, \"header\": {\"fill\": {\"color\": \"#C8D4E3\"}, \"line\": {\"color\": \"white\"}}, \"type\": \"table\"}]}, \"layout\": {\"annotationdefaults\": {\"arrowcolor\": \"#2a3f5f\", \"arrowhead\": 0, \"arrowwidth\": 1}, \"coloraxis\": {\"colorbar\": {\"outlinewidth\": 0, \"ticks\": \"\"}}, \"colorscale\": {\"diverging\": [[0, \"#8e0152\"], [0.1, \"#c51b7d\"], [0.2, \"#de77ae\"], [0.3, \"#f1b6da\"], [0.4, \"#fde0ef\"], [0.5, \"#f7f7f7\"], [0.6, \"#e6f5d0\"], [0.7, \"#b8e186\"], [0.8, \"#7fbc41\"], [0.9, \"#4d9221\"], [1, \"#276419\"]], \"sequential\": [[0.0, \"#0d0887\"], [0.1111111111111111, \"#46039f\"], [0.2222222222222222, \"#7201a8\"], [0.3333333333333333, \"#9c179e\"], [0.4444444444444444, \"#bd3786\"], [0.5555555555555556, \"#d8576b\"], [0.6666666666666666, \"#ed7953\"], [0.7777777777777778, \"#fb9f3a\"], [0.8888888888888888, \"#fdca26\"], [1.0, \"#f0f921\"]], \"sequentialminus\": [[0.0, \"#0d0887\"], [0.1111111111111111, \"#46039f\"], [0.2222222222222222, \"#7201a8\"], [0.3333333333333333, \"#9c179e\"], [0.4444444444444444, \"#bd3786\"], [0.5555555555555556, \"#d8576b\"], [0.6666666666666666, \"#ed7953\"], [0.7777777777777778, \"#fb9f3a\"], [0.8888888888888888, \"#fdca26\"], [1.0, \"#f0f921\"]]}, \"colorway\": [\"#636efa\", \"#EF553B\", \"#00cc96\", \"#ab63fa\", \"#FFA15A\", \"#19d3f3\", \"#FF6692\", \"#B6E880\", \"#FF97FF\", \"#FECB52\"], \"font\": {\"color\": \"#2a3f5f\"}, \"geo\": {\"bgcolor\": \"white\", \"lakecolor\": \"white\", \"landcolor\": \"#E5ECF6\", \"showlakes\": true, \"showland\": true, \"subunitcolor\": \"white\"}, \"hoverlabel\": {\"align\": \"left\"}, \"hovermode\": \"closest\", \"mapbox\": {\"style\": \"light\"}, \"paper_bgcolor\": \"white\", \"plot_bgcolor\": \"#E5ECF6\", \"polar\": {\"angularaxis\": {\"gridcolor\": \"white\", \"linecolor\": \"white\", \"ticks\": \"\"}, \"bgcolor\": \"#E5ECF6\", \"radialaxis\": {\"gridcolor\": \"white\", \"linecolor\": \"white\", \"ticks\": \"\"}}, \"scene\": {\"xaxis\": {\"backgroundcolor\": \"#E5ECF6\", \"gridcolor\": \"white\", \"gridwidth\": 2, \"linecolor\": \"white\", \"showbackground\": true, \"ticks\": \"\", \"zerolinecolor\": \"white\"}, \"yaxis\": {\"backgroundcolor\": \"#E5ECF6\", \"gridcolor\": \"white\", \"gridwidth\": 2, \"linecolor\": \"white\", \"showbackground\": true, \"ticks\": \"\", \"zerolinecolor\": \"white\"}, \"zaxis\": {\"backgroundcolor\": \"#E5ECF6\", \"gridcolor\": \"white\", \"gridwidth\": 2, \"linecolor\": \"white\", \"showbackground\": true, \"ticks\": \"\", \"zerolinecolor\": \"white\"}}, \"shapedefaults\": {\"line\": {\"color\": \"#2a3f5f\"}}, \"ternary\": {\"aaxis\": {\"gridcolor\": \"white\", \"linecolor\": \"white\", \"ticks\": \"\"}, \"baxis\": {\"gridcolor\": \"white\", \"linecolor\": \"white\", \"ticks\": \"\"}, \"bgcolor\": \"#E5ECF6\", \"caxis\": {\"gridcolor\": \"white\", \"linecolor\": \"white\", \"ticks\": \"\"}}, \"title\": {\"x\": 0.05}, \"xaxis\": {\"automargin\": true, \"gridcolor\": \"white\", \"linecolor\": \"white\", \"ticks\": \"\", \"title\": {\"standoff\": 15}, \"zerolinecolor\": \"white\", \"zerolinewidth\": 2}, \"yaxis\": {\"automargin\": true, \"gridcolor\": \"white\", \"linecolor\": \"white\", \"ticks\": \"\", \"title\": {\"standoff\": 15}, \"zerolinecolor\": \"white\", \"zerolinewidth\": 2}}}, \"title\": {\"font\": {\"color\": \"#4D5663\"}}, \"xaxis\": {\"gridcolor\": \"#E1E5ED\", \"showgrid\": true, \"tickfont\": {\"color\": \"#4D5663\"}, \"title\": {\"font\": {\"color\": \"#4D5663\"}, \"text\": \"\"}, \"zerolinecolor\": \"#E1E5ED\"}, \"yaxis\": {\"gridcolor\": \"#E1E5ED\", \"showgrid\": true, \"tickfont\": {\"color\": \"#4D5663\"}, \"title\": {\"font\": {\"color\": \"#4D5663\"}, \"text\": \"\"}, \"zerolinecolor\": \"#E1E5ED\"}},\n",
       "                        {\"showLink\": true, \"linkText\": \"Export to plot.ly\", \"plotlyServerURL\": \"https://plot.ly\", \"responsive\": true}\n",
       "                    ).then(function(){\n",
       "                            \n",
       "var gd = document.getElementById('ec032241-c9c9-4de2-965d-270daa1f61fb');\n",
       "var x = new MutationObserver(function (mutations, observer) {{\n",
       "        var display = window.getComputedStyle(gd).display;\n",
       "        if (!display || display === 'none') {{\n",
       "            console.log([gd, 'removed!']);\n",
       "            Plotly.purge(gd);\n",
       "            observer.disconnect();\n",
       "        }}\n",
       "}});\n",
       "\n",
       "// Listen for the removal of the full notebook cells\n",
       "var notebookContainer = gd.closest('#notebook-container');\n",
       "if (notebookContainer) {{\n",
       "    x.observe(notebookContainer, {childList: true});\n",
       "}}\n",
       "\n",
       "// Listen for the clearing of the current output cell\n",
       "var outputEl = gd.closest('.output');\n",
       "if (outputEl) {{\n",
       "    x.observe(outputEl, {childList: true});\n",
       "}}\n",
       "\n",
       "                        })\n",
       "                };\n",
       "                });\n",
       "            </script>\n",
       "        </div>"
      ]
     },
     "metadata": {},
     "output_type": "display_data"
    }
   ],
   "source": [
    "df.iplot()"
   ]
  },
  {
   "cell_type": "code",
   "execution_count": 17,
   "metadata": {},
   "outputs": [
    {
     "data": {
      "application/vnd.plotly.v1+json": {
       "config": {
        "linkText": "Export to plot.ly",
        "plotlyServerURL": "https://plot.ly",
        "showLink": true
       },
       "data": [
        {
         "line": {
          "color": "rgba(255, 153, 51, 1.0)",
          "dash": "solid",
          "shape": "linear",
          "width": 1.3
         },
         "marker": {
          "size": 12,
          "symbol": "circle"
         },
         "mode": "markers",
         "name": "B",
         "text": "",
         "type": "scatter",
         "x": [
          -0.045220991541672514,
          0.6780430845497113,
          1.0057065998631551,
          -0.9728874120987261,
          -0.1429232842760107,
          1.2921833308681698,
          0.16399911560590277,
          0.5864133066083158,
          0.005048291501591372,
          0.18320948521328073,
          -2.49509747225579,
          1.3256859636637544,
          -1.6793176056440045,
          1.2723860638991833,
          1.578103990878968,
          1.6643859249494612,
          -0.7935622243303689,
          1.4753187604179476,
          -0.5171412718010686,
          1.2361846435347696,
          1.704522844836798,
          0.8695553230428329,
          0.04824931042202152,
          -0.5596124096097523,
          -1.1327010356287375,
          -1.406914574214415,
          -0.2760296743683121,
          0.8499750408369918,
          0.2733027589733112,
          -0.9270609774179835,
          -0.11937096459563867,
          -1.6341734716797336,
          -0.41805224566733007,
          0.050751069046720734,
          -0.20458127481769103,
          -2.014914541732928,
          1.1293271143962424,
          -0.535345544707788,
          0.7205565368377175,
          0.4434882575852396,
          2.287900075088307,
          0.8593080673185117,
          -0.8474654655180363,
          0.5740891945961737,
          0.866934071277127,
          1.6599286334175802,
          1.1413585505968555,
          -0.12489284454263366,
          1.0077112317489567,
          -0.8015057558969182,
          0.06322142018660247,
          0.02030583905367841,
          1.310214444831818,
          0.3220132314938279,
          -1.7460855703860538,
          1.4814702223140728,
          -0.8035722883805491,
          -0.8977913265652391,
          0.4834089731976079,
          1.4171127102051564,
          1.4755906750430359,
          2.0461501156802657,
          1.8315708147771137,
          -0.7776544535304498,
          0.9212441621689802,
          -1.070857782437202,
          0.2665485378678139,
          -0.2375412783190445,
          0.12928115685388808,
          -1.5094640119124836,
          0.36096311670622444,
          0.3449732335562818,
          0.9268319900465413,
          -0.8784088858281468,
          0.35568448009216114,
          -0.08607414252524906,
          1.213447359424447,
          1.220582787720631,
          -1.5714006178028541,
          0.3772038547775565,
          0.1836811429063996,
          0.23643055367021165,
          -0.14944956474447565,
          1.2660528101080524,
          -0.5669141209856902,
          -0.061203227869747794,
          -1.0152345093451074,
          -0.06490705351212794,
          -0.0967940059628407,
          0.4630555535765282,
          -1.5499008045555307,
          0.3662054810766103,
          1.3967190454514729,
          -1.2459338585587063,
          -0.4192847012410866,
          -0.9966152679852247,
          -0.8929790395801137,
          -0.375225580512482,
          1.11697358465709,
          0.22825455583325077
         ],
         "y": [
          -0.013295768492124153,
          -0.27074517491106564,
          -0.48041519701937146,
          -0.15747940179591474,
          0.2558515658031597,
          -0.15662119891997725,
          0.3479723140894033,
          -0.15084375498932429,
          0.06228336036949375,
          0.9736025112157594,
          0.5402519563550914,
          0.8682305950906869,
          -0.65170589410664,
          0.678613203133178,
          -0.057432097459745896,
          0.6932633553636146,
          -1.9939719746754565,
          -2.002802721971022,
          0.25746993202325685,
          0.4889548095852013,
          -0.7168527223620486,
          -1.2923706473113479,
          -0.6753735457834736,
          0.9202025865444132,
          1.4670937547148066,
          0.18474639375151114,
          1.5237228427501046,
          0.6555734068239183,
          -1.6536292861970667,
          0.04987606236109394,
          0.7564239173991238,
          -1.215415085919389,
          -0.6904670180577785,
          0.8332193013800037,
          0.062395229603287104,
          3.115989368570276,
          -1.0011794943455687,
          0.29053598685344056,
          -0.029260709986795252,
          -0.37251804313432424,
          0.48538385105860427,
          -0.833960660422719,
          0.12828209855485537,
          -0.36647237774781805,
          -0.2562272216832282,
          0.2689613943245282,
          0.039384657809476246,
          0.9003688284552946,
          -0.03498553399708273,
          0.03852162330557176,
          1.4029672622615341,
          0.4722881623952208,
          -0.655692389374444,
          0.35094145422495787,
          2.025198109041344,
          0.6214822754704921,
          0.6995612430798638,
          0.3730785899429117,
          0.602967469726209,
          0.04571784171804009,
          0.3266369638556332,
          -0.31846827964026114,
          0.15383690822073517,
          -0.338144285317204,
          1.884543871930759,
          0.40335856103092854,
          0.4150036654412097,
          1.487026005753503,
          0.12374285847035515,
          0.8366685261562422,
          0.5795360711488374,
          1.614778779962535,
          -1.5065686107987333,
          1.5592396986044814,
          -0.32329791999507934,
          -0.9318225839805766,
          -1.1578286591490894,
          -0.041709953393487105,
          2.337128989736377,
          -0.5557500637748092,
          -0.801289268411741,
          -0.9626995069095104,
          -0.4290769015529991,
          1.6348652562575745,
          0.7716484917337753,
          -1.505387304121753,
          -0.15247950644685498,
          2.0875013582731077,
          0.8138442069099916,
          -0.5980676063757108,
          -1.0733335543265496,
          -0.5453515556217455,
          0.27422936109205454,
          0.40974088231107303,
          0.5706700018492756,
          -1.9690048686611612,
          0.3942186062027898,
          1.0710514434878289,
          -0.5441656857116004,
          -0.26082261070316265
         ]
        }
       ],
       "layout": {
        "legend": {
         "bgcolor": "#F5F6F9",
         "font": {
          "color": "#4D5663"
         }
        },
        "paper_bgcolor": "#F5F6F9",
        "plot_bgcolor": "#F5F6F9",
        "template": {
         "data": {
          "bar": [
           {
            "error_x": {
             "color": "#2a3f5f"
            },
            "error_y": {
             "color": "#2a3f5f"
            },
            "marker": {
             "line": {
              "color": "#E5ECF6",
              "width": 0.5
             }
            },
            "type": "bar"
           }
          ],
          "barpolar": [
           {
            "marker": {
             "line": {
              "color": "#E5ECF6",
              "width": 0.5
             }
            },
            "type": "barpolar"
           }
          ],
          "carpet": [
           {
            "aaxis": {
             "endlinecolor": "#2a3f5f",
             "gridcolor": "white",
             "linecolor": "white",
             "minorgridcolor": "white",
             "startlinecolor": "#2a3f5f"
            },
            "baxis": {
             "endlinecolor": "#2a3f5f",
             "gridcolor": "white",
             "linecolor": "white",
             "minorgridcolor": "white",
             "startlinecolor": "#2a3f5f"
            },
            "type": "carpet"
           }
          ],
          "choropleth": [
           {
            "colorbar": {
             "outlinewidth": 0,
             "ticks": ""
            },
            "type": "choropleth"
           }
          ],
          "contour": [
           {
            "colorbar": {
             "outlinewidth": 0,
             "ticks": ""
            },
            "colorscale": [
             [
              0,
              "#0d0887"
             ],
             [
              0.1111111111111111,
              "#46039f"
             ],
             [
              0.2222222222222222,
              "#7201a8"
             ],
             [
              0.3333333333333333,
              "#9c179e"
             ],
             [
              0.4444444444444444,
              "#bd3786"
             ],
             [
              0.5555555555555556,
              "#d8576b"
             ],
             [
              0.6666666666666666,
              "#ed7953"
             ],
             [
              0.7777777777777778,
              "#fb9f3a"
             ],
             [
              0.8888888888888888,
              "#fdca26"
             ],
             [
              1,
              "#f0f921"
             ]
            ],
            "type": "contour"
           }
          ],
          "contourcarpet": [
           {
            "colorbar": {
             "outlinewidth": 0,
             "ticks": ""
            },
            "type": "contourcarpet"
           }
          ],
          "heatmap": [
           {
            "colorbar": {
             "outlinewidth": 0,
             "ticks": ""
            },
            "colorscale": [
             [
              0,
              "#0d0887"
             ],
             [
              0.1111111111111111,
              "#46039f"
             ],
             [
              0.2222222222222222,
              "#7201a8"
             ],
             [
              0.3333333333333333,
              "#9c179e"
             ],
             [
              0.4444444444444444,
              "#bd3786"
             ],
             [
              0.5555555555555556,
              "#d8576b"
             ],
             [
              0.6666666666666666,
              "#ed7953"
             ],
             [
              0.7777777777777778,
              "#fb9f3a"
             ],
             [
              0.8888888888888888,
              "#fdca26"
             ],
             [
              1,
              "#f0f921"
             ]
            ],
            "type": "heatmap"
           }
          ],
          "heatmapgl": [
           {
            "colorbar": {
             "outlinewidth": 0,
             "ticks": ""
            },
            "colorscale": [
             [
              0,
              "#0d0887"
             ],
             [
              0.1111111111111111,
              "#46039f"
             ],
             [
              0.2222222222222222,
              "#7201a8"
             ],
             [
              0.3333333333333333,
              "#9c179e"
             ],
             [
              0.4444444444444444,
              "#bd3786"
             ],
             [
              0.5555555555555556,
              "#d8576b"
             ],
             [
              0.6666666666666666,
              "#ed7953"
             ],
             [
              0.7777777777777778,
              "#fb9f3a"
             ],
             [
              0.8888888888888888,
              "#fdca26"
             ],
             [
              1,
              "#f0f921"
             ]
            ],
            "type": "heatmapgl"
           }
          ],
          "histogram": [
           {
            "marker": {
             "colorbar": {
              "outlinewidth": 0,
              "ticks": ""
             }
            },
            "type": "histogram"
           }
          ],
          "histogram2d": [
           {
            "colorbar": {
             "outlinewidth": 0,
             "ticks": ""
            },
            "colorscale": [
             [
              0,
              "#0d0887"
             ],
             [
              0.1111111111111111,
              "#46039f"
             ],
             [
              0.2222222222222222,
              "#7201a8"
             ],
             [
              0.3333333333333333,
              "#9c179e"
             ],
             [
              0.4444444444444444,
              "#bd3786"
             ],
             [
              0.5555555555555556,
              "#d8576b"
             ],
             [
              0.6666666666666666,
              "#ed7953"
             ],
             [
              0.7777777777777778,
              "#fb9f3a"
             ],
             [
              0.8888888888888888,
              "#fdca26"
             ],
             [
              1,
              "#f0f921"
             ]
            ],
            "type": "histogram2d"
           }
          ],
          "histogram2dcontour": [
           {
            "colorbar": {
             "outlinewidth": 0,
             "ticks": ""
            },
            "colorscale": [
             [
              0,
              "#0d0887"
             ],
             [
              0.1111111111111111,
              "#46039f"
             ],
             [
              0.2222222222222222,
              "#7201a8"
             ],
             [
              0.3333333333333333,
              "#9c179e"
             ],
             [
              0.4444444444444444,
              "#bd3786"
             ],
             [
              0.5555555555555556,
              "#d8576b"
             ],
             [
              0.6666666666666666,
              "#ed7953"
             ],
             [
              0.7777777777777778,
              "#fb9f3a"
             ],
             [
              0.8888888888888888,
              "#fdca26"
             ],
             [
              1,
              "#f0f921"
             ]
            ],
            "type": "histogram2dcontour"
           }
          ],
          "mesh3d": [
           {
            "colorbar": {
             "outlinewidth": 0,
             "ticks": ""
            },
            "type": "mesh3d"
           }
          ],
          "parcoords": [
           {
            "line": {
             "colorbar": {
              "outlinewidth": 0,
              "ticks": ""
             }
            },
            "type": "parcoords"
           }
          ],
          "pie": [
           {
            "automargin": true,
            "type": "pie"
           }
          ],
          "scatter": [
           {
            "marker": {
             "colorbar": {
              "outlinewidth": 0,
              "ticks": ""
             }
            },
            "type": "scatter"
           }
          ],
          "scatter3d": [
           {
            "line": {
             "colorbar": {
              "outlinewidth": 0,
              "ticks": ""
             }
            },
            "marker": {
             "colorbar": {
              "outlinewidth": 0,
              "ticks": ""
             }
            },
            "type": "scatter3d"
           }
          ],
          "scattercarpet": [
           {
            "marker": {
             "colorbar": {
              "outlinewidth": 0,
              "ticks": ""
             }
            },
            "type": "scattercarpet"
           }
          ],
          "scattergeo": [
           {
            "marker": {
             "colorbar": {
              "outlinewidth": 0,
              "ticks": ""
             }
            },
            "type": "scattergeo"
           }
          ],
          "scattergl": [
           {
            "marker": {
             "colorbar": {
              "outlinewidth": 0,
              "ticks": ""
             }
            },
            "type": "scattergl"
           }
          ],
          "scattermapbox": [
           {
            "marker": {
             "colorbar": {
              "outlinewidth": 0,
              "ticks": ""
             }
            },
            "type": "scattermapbox"
           }
          ],
          "scatterpolar": [
           {
            "marker": {
             "colorbar": {
              "outlinewidth": 0,
              "ticks": ""
             }
            },
            "type": "scatterpolar"
           }
          ],
          "scatterpolargl": [
           {
            "marker": {
             "colorbar": {
              "outlinewidth": 0,
              "ticks": ""
             }
            },
            "type": "scatterpolargl"
           }
          ],
          "scatterternary": [
           {
            "marker": {
             "colorbar": {
              "outlinewidth": 0,
              "ticks": ""
             }
            },
            "type": "scatterternary"
           }
          ],
          "surface": [
           {
            "colorbar": {
             "outlinewidth": 0,
             "ticks": ""
            },
            "colorscale": [
             [
              0,
              "#0d0887"
             ],
             [
              0.1111111111111111,
              "#46039f"
             ],
             [
              0.2222222222222222,
              "#7201a8"
             ],
             [
              0.3333333333333333,
              "#9c179e"
             ],
             [
              0.4444444444444444,
              "#bd3786"
             ],
             [
              0.5555555555555556,
              "#d8576b"
             ],
             [
              0.6666666666666666,
              "#ed7953"
             ],
             [
              0.7777777777777778,
              "#fb9f3a"
             ],
             [
              0.8888888888888888,
              "#fdca26"
             ],
             [
              1,
              "#f0f921"
             ]
            ],
            "type": "surface"
           }
          ],
          "table": [
           {
            "cells": {
             "fill": {
              "color": "#EBF0F8"
             },
             "line": {
              "color": "white"
             }
            },
            "header": {
             "fill": {
              "color": "#C8D4E3"
             },
             "line": {
              "color": "white"
             }
            },
            "type": "table"
           }
          ]
         },
         "layout": {
          "annotationdefaults": {
           "arrowcolor": "#2a3f5f",
           "arrowhead": 0,
           "arrowwidth": 1
          },
          "coloraxis": {
           "colorbar": {
            "outlinewidth": 0,
            "ticks": ""
           }
          },
          "colorscale": {
           "diverging": [
            [
             0,
             "#8e0152"
            ],
            [
             0.1,
             "#c51b7d"
            ],
            [
             0.2,
             "#de77ae"
            ],
            [
             0.3,
             "#f1b6da"
            ],
            [
             0.4,
             "#fde0ef"
            ],
            [
             0.5,
             "#f7f7f7"
            ],
            [
             0.6,
             "#e6f5d0"
            ],
            [
             0.7,
             "#b8e186"
            ],
            [
             0.8,
             "#7fbc41"
            ],
            [
             0.9,
             "#4d9221"
            ],
            [
             1,
             "#276419"
            ]
           ],
           "sequential": [
            [
             0,
             "#0d0887"
            ],
            [
             0.1111111111111111,
             "#46039f"
            ],
            [
             0.2222222222222222,
             "#7201a8"
            ],
            [
             0.3333333333333333,
             "#9c179e"
            ],
            [
             0.4444444444444444,
             "#bd3786"
            ],
            [
             0.5555555555555556,
             "#d8576b"
            ],
            [
             0.6666666666666666,
             "#ed7953"
            ],
            [
             0.7777777777777778,
             "#fb9f3a"
            ],
            [
             0.8888888888888888,
             "#fdca26"
            ],
            [
             1,
             "#f0f921"
            ]
           ],
           "sequentialminus": [
            [
             0,
             "#0d0887"
            ],
            [
             0.1111111111111111,
             "#46039f"
            ],
            [
             0.2222222222222222,
             "#7201a8"
            ],
            [
             0.3333333333333333,
             "#9c179e"
            ],
            [
             0.4444444444444444,
             "#bd3786"
            ],
            [
             0.5555555555555556,
             "#d8576b"
            ],
            [
             0.6666666666666666,
             "#ed7953"
            ],
            [
             0.7777777777777778,
             "#fb9f3a"
            ],
            [
             0.8888888888888888,
             "#fdca26"
            ],
            [
             1,
             "#f0f921"
            ]
           ]
          },
          "colorway": [
           "#636efa",
           "#EF553B",
           "#00cc96",
           "#ab63fa",
           "#FFA15A",
           "#19d3f3",
           "#FF6692",
           "#B6E880",
           "#FF97FF",
           "#FECB52"
          ],
          "font": {
           "color": "#2a3f5f"
          },
          "geo": {
           "bgcolor": "white",
           "lakecolor": "white",
           "landcolor": "#E5ECF6",
           "showlakes": true,
           "showland": true,
           "subunitcolor": "white"
          },
          "hoverlabel": {
           "align": "left"
          },
          "hovermode": "closest",
          "mapbox": {
           "style": "light"
          },
          "paper_bgcolor": "white",
          "plot_bgcolor": "#E5ECF6",
          "polar": {
           "angularaxis": {
            "gridcolor": "white",
            "linecolor": "white",
            "ticks": ""
           },
           "bgcolor": "#E5ECF6",
           "radialaxis": {
            "gridcolor": "white",
            "linecolor": "white",
            "ticks": ""
           }
          },
          "scene": {
           "xaxis": {
            "backgroundcolor": "#E5ECF6",
            "gridcolor": "white",
            "gridwidth": 2,
            "linecolor": "white",
            "showbackground": true,
            "ticks": "",
            "zerolinecolor": "white"
           },
           "yaxis": {
            "backgroundcolor": "#E5ECF6",
            "gridcolor": "white",
            "gridwidth": 2,
            "linecolor": "white",
            "showbackground": true,
            "ticks": "",
            "zerolinecolor": "white"
           },
           "zaxis": {
            "backgroundcolor": "#E5ECF6",
            "gridcolor": "white",
            "gridwidth": 2,
            "linecolor": "white",
            "showbackground": true,
            "ticks": "",
            "zerolinecolor": "white"
           }
          },
          "shapedefaults": {
           "line": {
            "color": "#2a3f5f"
           }
          },
          "ternary": {
           "aaxis": {
            "gridcolor": "white",
            "linecolor": "white",
            "ticks": ""
           },
           "baxis": {
            "gridcolor": "white",
            "linecolor": "white",
            "ticks": ""
           },
           "bgcolor": "#E5ECF6",
           "caxis": {
            "gridcolor": "white",
            "linecolor": "white",
            "ticks": ""
           }
          },
          "title": {
           "x": 0.05
          },
          "xaxis": {
           "automargin": true,
           "gridcolor": "white",
           "linecolor": "white",
           "ticks": "",
           "title": {
            "standoff": 15
           },
           "zerolinecolor": "white",
           "zerolinewidth": 2
          },
          "yaxis": {
           "automargin": true,
           "gridcolor": "white",
           "linecolor": "white",
           "ticks": "",
           "title": {
            "standoff": 15
           },
           "zerolinecolor": "white",
           "zerolinewidth": 2
          }
         }
        },
        "title": {
         "font": {
          "color": "#4D5663"
         }
        },
        "xaxis": {
         "gridcolor": "#E1E5ED",
         "showgrid": true,
         "tickfont": {
          "color": "#4D5663"
         },
         "title": {
          "font": {
           "color": "#4D5663"
          },
          "text": ""
         },
         "zerolinecolor": "#E1E5ED"
        },
        "yaxis": {
         "gridcolor": "#E1E5ED",
         "showgrid": true,
         "tickfont": {
          "color": "#4D5663"
         },
         "title": {
          "font": {
           "color": "#4D5663"
          },
          "text": ""
         },
         "zerolinecolor": "#E1E5ED"
        }
       }
      },
      "text/html": [
       "<div>\n",
       "        \n",
       "        \n",
       "            <div id=\"015e4551-36eb-4d08-8802-31e8257fa3ec\" class=\"plotly-graph-div\" style=\"height:525px; width:100%;\"></div>\n",
       "            <script type=\"text/javascript\">\n",
       "                require([\"plotly\"], function(Plotly) {\n",
       "                    window.PLOTLYENV=window.PLOTLYENV || {};\n",
       "                    window.PLOTLYENV.BASE_URL='https://plot.ly';\n",
       "                    \n",
       "                if (document.getElementById(\"015e4551-36eb-4d08-8802-31e8257fa3ec\")) {\n",
       "                    Plotly.newPlot(\n",
       "                        '015e4551-36eb-4d08-8802-31e8257fa3ec',\n",
       "                        [{\"line\": {\"color\": \"rgba(255, 153, 51, 1.0)\", \"dash\": \"solid\", \"shape\": \"linear\", \"width\": 1.3}, \"marker\": {\"size\": 12, \"symbol\": \"circle\"}, \"mode\": \"markers\", \"name\": \"B\", \"text\": \"\", \"type\": \"scatter\", \"x\": [-0.045220991541672514, 0.6780430845497113, 1.0057065998631551, -0.9728874120987261, -0.1429232842760107, 1.2921833308681698, 0.16399911560590277, 0.5864133066083158, 0.005048291501591372, 0.18320948521328073, -2.49509747225579, 1.3256859636637544, -1.6793176056440045, 1.2723860638991833, 1.578103990878968, 1.6643859249494612, -0.7935622243303689, 1.4753187604179476, -0.5171412718010686, 1.2361846435347696, 1.704522844836798, 0.8695553230428329, 0.04824931042202152, -0.5596124096097523, -1.1327010356287375, -1.406914574214415, -0.2760296743683121, 0.8499750408369918, 0.2733027589733112, -0.9270609774179835, -0.11937096459563867, -1.6341734716797336, -0.41805224566733007, 0.050751069046720734, -0.20458127481769103, -2.014914541732928, 1.1293271143962424, -0.535345544707788, 0.7205565368377175, 0.4434882575852396, 2.287900075088307, 0.8593080673185117, -0.8474654655180363, 0.5740891945961737, 0.866934071277127, 1.6599286334175802, 1.1413585505968555, -0.12489284454263366, 1.0077112317489567, -0.8015057558969182, 0.06322142018660247, 0.02030583905367841, 1.310214444831818, 0.3220132314938279, -1.7460855703860538, 1.4814702223140728, -0.8035722883805491, -0.8977913265652391, 0.4834089731976079, 1.4171127102051564, 1.4755906750430359, 2.0461501156802657, 1.8315708147771137, -0.7776544535304498, 0.9212441621689802, -1.070857782437202, 0.2665485378678139, -0.2375412783190445, 0.12928115685388808, -1.5094640119124836, 0.36096311670622444, 0.3449732335562818, 0.9268319900465413, -0.8784088858281468, 0.35568448009216114, -0.08607414252524906, 1.213447359424447, 1.220582787720631, -1.5714006178028541, 0.3772038547775565, 0.1836811429063996, 0.23643055367021165, -0.14944956474447565, 1.2660528101080524, -0.5669141209856902, -0.061203227869747794, -1.0152345093451074, -0.06490705351212794, -0.0967940059628407, 0.4630555535765282, -1.5499008045555307, 0.3662054810766103, 1.3967190454514729, -1.2459338585587063, -0.4192847012410866, -0.9966152679852247, -0.8929790395801137, -0.375225580512482, 1.11697358465709, 0.22825455583325077], \"y\": [-0.013295768492124153, -0.27074517491106564, -0.48041519701937146, -0.15747940179591474, 0.2558515658031597, -0.15662119891997725, 0.3479723140894033, -0.15084375498932429, 0.06228336036949375, 0.9736025112157594, 0.5402519563550914, 0.8682305950906869, -0.65170589410664, 0.678613203133178, -0.057432097459745896, 0.6932633553636146, -1.9939719746754565, -2.002802721971022, 0.25746993202325685, 0.4889548095852013, -0.7168527223620486, -1.2923706473113479, -0.6753735457834736, 0.9202025865444132, 1.4670937547148066, 0.18474639375151114, 1.5237228427501046, 0.6555734068239183, -1.6536292861970667, 0.04987606236109394, 0.7564239173991238, -1.215415085919389, -0.6904670180577785, 0.8332193013800037, 0.062395229603287104, 3.115989368570276, -1.0011794943455687, 0.29053598685344056, -0.029260709986795252, -0.37251804313432424, 0.48538385105860427, -0.833960660422719, 0.12828209855485537, -0.36647237774781805, -0.2562272216832282, 0.2689613943245282, 0.039384657809476246, 0.9003688284552946, -0.03498553399708273, 0.03852162330557176, 1.4029672622615341, 0.4722881623952208, -0.655692389374444, 0.35094145422495787, 2.025198109041344, 0.6214822754704921, 0.6995612430798638, 0.3730785899429117, 0.602967469726209, 0.04571784171804009, 0.3266369638556332, -0.31846827964026114, 0.15383690822073517, -0.338144285317204, 1.884543871930759, 0.40335856103092854, 0.4150036654412097, 1.487026005753503, 0.12374285847035515, 0.8366685261562422, 0.5795360711488374, 1.614778779962535, -1.5065686107987333, 1.5592396986044814, -0.32329791999507934, -0.9318225839805766, -1.1578286591490894, -0.041709953393487105, 2.337128989736377, -0.5557500637748092, -0.801289268411741, -0.9626995069095104, -0.4290769015529991, 1.6348652562575745, 0.7716484917337753, -1.505387304121753, -0.15247950644685498, 2.0875013582731077, 0.8138442069099916, -0.5980676063757108, -1.0733335543265496, -0.5453515556217455, 0.27422936109205454, 0.40974088231107303, 0.5706700018492756, -1.9690048686611612, 0.3942186062027898, 1.0710514434878289, -0.5441656857116004, -0.26082261070316265]}],\n",
       "                        {\"legend\": {\"bgcolor\": \"#F5F6F9\", \"font\": {\"color\": \"#4D5663\"}}, \"paper_bgcolor\": \"#F5F6F9\", \"plot_bgcolor\": \"#F5F6F9\", \"template\": {\"data\": {\"bar\": [{\"error_x\": {\"color\": \"#2a3f5f\"}, \"error_y\": {\"color\": \"#2a3f5f\"}, \"marker\": {\"line\": {\"color\": \"#E5ECF6\", \"width\": 0.5}}, \"type\": \"bar\"}], \"barpolar\": [{\"marker\": {\"line\": {\"color\": \"#E5ECF6\", \"width\": 0.5}}, \"type\": \"barpolar\"}], \"carpet\": [{\"aaxis\": {\"endlinecolor\": \"#2a3f5f\", \"gridcolor\": \"white\", \"linecolor\": \"white\", \"minorgridcolor\": \"white\", \"startlinecolor\": \"#2a3f5f\"}, \"baxis\": {\"endlinecolor\": \"#2a3f5f\", \"gridcolor\": \"white\", \"linecolor\": \"white\", \"minorgridcolor\": \"white\", \"startlinecolor\": \"#2a3f5f\"}, \"type\": \"carpet\"}], \"choropleth\": [{\"colorbar\": {\"outlinewidth\": 0, \"ticks\": \"\"}, \"type\": \"choropleth\"}], \"contour\": [{\"colorbar\": {\"outlinewidth\": 0, \"ticks\": \"\"}, \"colorscale\": [[0.0, \"#0d0887\"], [0.1111111111111111, \"#46039f\"], [0.2222222222222222, \"#7201a8\"], [0.3333333333333333, \"#9c179e\"], [0.4444444444444444, \"#bd3786\"], [0.5555555555555556, \"#d8576b\"], [0.6666666666666666, \"#ed7953\"], [0.7777777777777778, \"#fb9f3a\"], [0.8888888888888888, \"#fdca26\"], [1.0, \"#f0f921\"]], \"type\": \"contour\"}], \"contourcarpet\": [{\"colorbar\": {\"outlinewidth\": 0, \"ticks\": \"\"}, \"type\": \"contourcarpet\"}], \"heatmap\": [{\"colorbar\": {\"outlinewidth\": 0, \"ticks\": \"\"}, \"colorscale\": [[0.0, \"#0d0887\"], [0.1111111111111111, \"#46039f\"], [0.2222222222222222, \"#7201a8\"], [0.3333333333333333, \"#9c179e\"], [0.4444444444444444, \"#bd3786\"], [0.5555555555555556, \"#d8576b\"], [0.6666666666666666, \"#ed7953\"], [0.7777777777777778, \"#fb9f3a\"], [0.8888888888888888, \"#fdca26\"], [1.0, \"#f0f921\"]], \"type\": \"heatmap\"}], \"heatmapgl\": [{\"colorbar\": {\"outlinewidth\": 0, \"ticks\": \"\"}, \"colorscale\": [[0.0, \"#0d0887\"], [0.1111111111111111, \"#46039f\"], [0.2222222222222222, \"#7201a8\"], [0.3333333333333333, \"#9c179e\"], [0.4444444444444444, \"#bd3786\"], [0.5555555555555556, \"#d8576b\"], [0.6666666666666666, \"#ed7953\"], [0.7777777777777778, \"#fb9f3a\"], [0.8888888888888888, \"#fdca26\"], [1.0, \"#f0f921\"]], \"type\": \"heatmapgl\"}], \"histogram\": [{\"marker\": {\"colorbar\": {\"outlinewidth\": 0, \"ticks\": \"\"}}, \"type\": \"histogram\"}], \"histogram2d\": [{\"colorbar\": {\"outlinewidth\": 0, \"ticks\": \"\"}, \"colorscale\": [[0.0, \"#0d0887\"], [0.1111111111111111, \"#46039f\"], [0.2222222222222222, \"#7201a8\"], [0.3333333333333333, \"#9c179e\"], [0.4444444444444444, \"#bd3786\"], [0.5555555555555556, \"#d8576b\"], [0.6666666666666666, \"#ed7953\"], [0.7777777777777778, \"#fb9f3a\"], [0.8888888888888888, \"#fdca26\"], [1.0, \"#f0f921\"]], \"type\": \"histogram2d\"}], \"histogram2dcontour\": [{\"colorbar\": {\"outlinewidth\": 0, \"ticks\": \"\"}, \"colorscale\": [[0.0, \"#0d0887\"], [0.1111111111111111, \"#46039f\"], [0.2222222222222222, \"#7201a8\"], [0.3333333333333333, \"#9c179e\"], [0.4444444444444444, \"#bd3786\"], [0.5555555555555556, \"#d8576b\"], [0.6666666666666666, \"#ed7953\"], [0.7777777777777778, \"#fb9f3a\"], [0.8888888888888888, \"#fdca26\"], [1.0, \"#f0f921\"]], \"type\": \"histogram2dcontour\"}], \"mesh3d\": [{\"colorbar\": {\"outlinewidth\": 0, \"ticks\": \"\"}, \"type\": \"mesh3d\"}], \"parcoords\": [{\"line\": {\"colorbar\": {\"outlinewidth\": 0, \"ticks\": \"\"}}, \"type\": \"parcoords\"}], \"pie\": [{\"automargin\": true, \"type\": \"pie\"}], \"scatter\": [{\"marker\": {\"colorbar\": {\"outlinewidth\": 0, \"ticks\": \"\"}}, \"type\": \"scatter\"}], \"scatter3d\": [{\"line\": {\"colorbar\": {\"outlinewidth\": 0, \"ticks\": \"\"}}, \"marker\": {\"colorbar\": {\"outlinewidth\": 0, \"ticks\": \"\"}}, \"type\": \"scatter3d\"}], \"scattercarpet\": [{\"marker\": {\"colorbar\": {\"outlinewidth\": 0, \"ticks\": \"\"}}, \"type\": \"scattercarpet\"}], \"scattergeo\": [{\"marker\": {\"colorbar\": {\"outlinewidth\": 0, \"ticks\": \"\"}}, \"type\": \"scattergeo\"}], \"scattergl\": [{\"marker\": {\"colorbar\": {\"outlinewidth\": 0, \"ticks\": \"\"}}, \"type\": \"scattergl\"}], \"scattermapbox\": [{\"marker\": {\"colorbar\": {\"outlinewidth\": 0, \"ticks\": \"\"}}, \"type\": \"scattermapbox\"}], \"scatterpolar\": [{\"marker\": {\"colorbar\": {\"outlinewidth\": 0, \"ticks\": \"\"}}, \"type\": \"scatterpolar\"}], \"scatterpolargl\": [{\"marker\": {\"colorbar\": {\"outlinewidth\": 0, \"ticks\": \"\"}}, \"type\": \"scatterpolargl\"}], \"scatterternary\": [{\"marker\": {\"colorbar\": {\"outlinewidth\": 0, \"ticks\": \"\"}}, \"type\": \"scatterternary\"}], \"surface\": [{\"colorbar\": {\"outlinewidth\": 0, \"ticks\": \"\"}, \"colorscale\": [[0.0, \"#0d0887\"], [0.1111111111111111, \"#46039f\"], [0.2222222222222222, \"#7201a8\"], [0.3333333333333333, \"#9c179e\"], [0.4444444444444444, \"#bd3786\"], [0.5555555555555556, \"#d8576b\"], [0.6666666666666666, \"#ed7953\"], [0.7777777777777778, \"#fb9f3a\"], [0.8888888888888888, \"#fdca26\"], [1.0, \"#f0f921\"]], \"type\": \"surface\"}], \"table\": [{\"cells\": {\"fill\": {\"color\": \"#EBF0F8\"}, \"line\": {\"color\": \"white\"}}, \"header\": {\"fill\": {\"color\": \"#C8D4E3\"}, \"line\": {\"color\": \"white\"}}, \"type\": \"table\"}]}, \"layout\": {\"annotationdefaults\": {\"arrowcolor\": \"#2a3f5f\", \"arrowhead\": 0, \"arrowwidth\": 1}, \"coloraxis\": {\"colorbar\": {\"outlinewidth\": 0, \"ticks\": \"\"}}, \"colorscale\": {\"diverging\": [[0, \"#8e0152\"], [0.1, \"#c51b7d\"], [0.2, \"#de77ae\"], [0.3, \"#f1b6da\"], [0.4, \"#fde0ef\"], [0.5, \"#f7f7f7\"], [0.6, \"#e6f5d0\"], [0.7, \"#b8e186\"], [0.8, \"#7fbc41\"], [0.9, \"#4d9221\"], [1, \"#276419\"]], \"sequential\": [[0.0, \"#0d0887\"], [0.1111111111111111, \"#46039f\"], [0.2222222222222222, \"#7201a8\"], [0.3333333333333333, \"#9c179e\"], [0.4444444444444444, \"#bd3786\"], [0.5555555555555556, \"#d8576b\"], [0.6666666666666666, \"#ed7953\"], [0.7777777777777778, \"#fb9f3a\"], [0.8888888888888888, \"#fdca26\"], [1.0, \"#f0f921\"]], \"sequentialminus\": [[0.0, \"#0d0887\"], [0.1111111111111111, \"#46039f\"], [0.2222222222222222, \"#7201a8\"], [0.3333333333333333, \"#9c179e\"], [0.4444444444444444, \"#bd3786\"], [0.5555555555555556, \"#d8576b\"], [0.6666666666666666, \"#ed7953\"], [0.7777777777777778, \"#fb9f3a\"], [0.8888888888888888, \"#fdca26\"], [1.0, \"#f0f921\"]]}, \"colorway\": [\"#636efa\", \"#EF553B\", \"#00cc96\", \"#ab63fa\", \"#FFA15A\", \"#19d3f3\", \"#FF6692\", \"#B6E880\", \"#FF97FF\", \"#FECB52\"], \"font\": {\"color\": \"#2a3f5f\"}, \"geo\": {\"bgcolor\": \"white\", \"lakecolor\": \"white\", \"landcolor\": \"#E5ECF6\", \"showlakes\": true, \"showland\": true, \"subunitcolor\": \"white\"}, \"hoverlabel\": {\"align\": \"left\"}, \"hovermode\": \"closest\", \"mapbox\": {\"style\": \"light\"}, \"paper_bgcolor\": \"white\", \"plot_bgcolor\": \"#E5ECF6\", \"polar\": {\"angularaxis\": {\"gridcolor\": \"white\", \"linecolor\": \"white\", \"ticks\": \"\"}, \"bgcolor\": \"#E5ECF6\", \"radialaxis\": {\"gridcolor\": \"white\", \"linecolor\": \"white\", \"ticks\": \"\"}}, \"scene\": {\"xaxis\": {\"backgroundcolor\": \"#E5ECF6\", \"gridcolor\": \"white\", \"gridwidth\": 2, \"linecolor\": \"white\", \"showbackground\": true, \"ticks\": \"\", \"zerolinecolor\": \"white\"}, \"yaxis\": {\"backgroundcolor\": \"#E5ECF6\", \"gridcolor\": \"white\", \"gridwidth\": 2, \"linecolor\": \"white\", \"showbackground\": true, \"ticks\": \"\", \"zerolinecolor\": \"white\"}, \"zaxis\": {\"backgroundcolor\": \"#E5ECF6\", \"gridcolor\": \"white\", \"gridwidth\": 2, \"linecolor\": \"white\", \"showbackground\": true, \"ticks\": \"\", \"zerolinecolor\": \"white\"}}, \"shapedefaults\": {\"line\": {\"color\": \"#2a3f5f\"}}, \"ternary\": {\"aaxis\": {\"gridcolor\": \"white\", \"linecolor\": \"white\", \"ticks\": \"\"}, \"baxis\": {\"gridcolor\": \"white\", \"linecolor\": \"white\", \"ticks\": \"\"}, \"bgcolor\": \"#E5ECF6\", \"caxis\": {\"gridcolor\": \"white\", \"linecolor\": \"white\", \"ticks\": \"\"}}, \"title\": {\"x\": 0.05}, \"xaxis\": {\"automargin\": true, \"gridcolor\": \"white\", \"linecolor\": \"white\", \"ticks\": \"\", \"title\": {\"standoff\": 15}, \"zerolinecolor\": \"white\", \"zerolinewidth\": 2}, \"yaxis\": {\"automargin\": true, \"gridcolor\": \"white\", \"linecolor\": \"white\", \"ticks\": \"\", \"title\": {\"standoff\": 15}, \"zerolinecolor\": \"white\", \"zerolinewidth\": 2}}}, \"title\": {\"font\": {\"color\": \"#4D5663\"}}, \"xaxis\": {\"gridcolor\": \"#E1E5ED\", \"showgrid\": true, \"tickfont\": {\"color\": \"#4D5663\"}, \"title\": {\"font\": {\"color\": \"#4D5663\"}, \"text\": \"\"}, \"zerolinecolor\": \"#E1E5ED\"}, \"yaxis\": {\"gridcolor\": \"#E1E5ED\", \"showgrid\": true, \"tickfont\": {\"color\": \"#4D5663\"}, \"title\": {\"font\": {\"color\": \"#4D5663\"}, \"text\": \"\"}, \"zerolinecolor\": \"#E1E5ED\"}},\n",
       "                        {\"showLink\": true, \"linkText\": \"Export to plot.ly\", \"plotlyServerURL\": \"https://plot.ly\", \"responsive\": true}\n",
       "                    ).then(function(){\n",
       "                            \n",
       "var gd = document.getElementById('015e4551-36eb-4d08-8802-31e8257fa3ec');\n",
       "var x = new MutationObserver(function (mutations, observer) {{\n",
       "        var display = window.getComputedStyle(gd).display;\n",
       "        if (!display || display === 'none') {{\n",
       "            console.log([gd, 'removed!']);\n",
       "            Plotly.purge(gd);\n",
       "            observer.disconnect();\n",
       "        }}\n",
       "}});\n",
       "\n",
       "// Listen for the removal of the full notebook cells\n",
       "var notebookContainer = gd.closest('#notebook-container');\n",
       "if (notebookContainer) {{\n",
       "    x.observe(notebookContainer, {childList: true});\n",
       "}}\n",
       "\n",
       "// Listen for the clearing of the current output cell\n",
       "var outputEl = gd.closest('.output');\n",
       "if (outputEl) {{\n",
       "    x.observe(outputEl, {childList: true});\n",
       "}}\n",
       "\n",
       "                        })\n",
       "                };\n",
       "                });\n",
       "            </script>\n",
       "        </div>"
      ]
     },
     "metadata": {},
     "output_type": "display_data"
    }
   ],
   "source": [
    "df.iplot(kind='scatter',x='A',y='B',mode='markers')"
   ]
  },
  {
   "cell_type": "code",
   "execution_count": 18,
   "metadata": {},
   "outputs": [
    {
     "data": {
      "application/vnd.plotly.v1+json": {
       "config": {
        "linkText": "Export to plot.ly",
        "plotlyServerURL": "https://plot.ly",
        "showLink": true
       },
       "data": [
        {
         "marker": {
          "color": "rgba(255, 153, 51, 0.6)",
          "line": {
           "color": "rgba(255, 153, 51, 1.0)",
           "width": 1
          }
         },
         "name": "Values",
         "orientation": "v",
         "text": "",
         "type": "bar",
         "x": [
          "A",
          "B",
          "C"
         ],
         "y": [
          32,
          43,
          50
         ]
        }
       ],
       "layout": {
        "legend": {
         "bgcolor": "#F5F6F9",
         "font": {
          "color": "#4D5663"
         }
        },
        "paper_bgcolor": "#F5F6F9",
        "plot_bgcolor": "#F5F6F9",
        "template": {
         "data": {
          "bar": [
           {
            "error_x": {
             "color": "#2a3f5f"
            },
            "error_y": {
             "color": "#2a3f5f"
            },
            "marker": {
             "line": {
              "color": "#E5ECF6",
              "width": 0.5
             }
            },
            "type": "bar"
           }
          ],
          "barpolar": [
           {
            "marker": {
             "line": {
              "color": "#E5ECF6",
              "width": 0.5
             }
            },
            "type": "barpolar"
           }
          ],
          "carpet": [
           {
            "aaxis": {
             "endlinecolor": "#2a3f5f",
             "gridcolor": "white",
             "linecolor": "white",
             "minorgridcolor": "white",
             "startlinecolor": "#2a3f5f"
            },
            "baxis": {
             "endlinecolor": "#2a3f5f",
             "gridcolor": "white",
             "linecolor": "white",
             "minorgridcolor": "white",
             "startlinecolor": "#2a3f5f"
            },
            "type": "carpet"
           }
          ],
          "choropleth": [
           {
            "colorbar": {
             "outlinewidth": 0,
             "ticks": ""
            },
            "type": "choropleth"
           }
          ],
          "contour": [
           {
            "colorbar": {
             "outlinewidth": 0,
             "ticks": ""
            },
            "colorscale": [
             [
              0,
              "#0d0887"
             ],
             [
              0.1111111111111111,
              "#46039f"
             ],
             [
              0.2222222222222222,
              "#7201a8"
             ],
             [
              0.3333333333333333,
              "#9c179e"
             ],
             [
              0.4444444444444444,
              "#bd3786"
             ],
             [
              0.5555555555555556,
              "#d8576b"
             ],
             [
              0.6666666666666666,
              "#ed7953"
             ],
             [
              0.7777777777777778,
              "#fb9f3a"
             ],
             [
              0.8888888888888888,
              "#fdca26"
             ],
             [
              1,
              "#f0f921"
             ]
            ],
            "type": "contour"
           }
          ],
          "contourcarpet": [
           {
            "colorbar": {
             "outlinewidth": 0,
             "ticks": ""
            },
            "type": "contourcarpet"
           }
          ],
          "heatmap": [
           {
            "colorbar": {
             "outlinewidth": 0,
             "ticks": ""
            },
            "colorscale": [
             [
              0,
              "#0d0887"
             ],
             [
              0.1111111111111111,
              "#46039f"
             ],
             [
              0.2222222222222222,
              "#7201a8"
             ],
             [
              0.3333333333333333,
              "#9c179e"
             ],
             [
              0.4444444444444444,
              "#bd3786"
             ],
             [
              0.5555555555555556,
              "#d8576b"
             ],
             [
              0.6666666666666666,
              "#ed7953"
             ],
             [
              0.7777777777777778,
              "#fb9f3a"
             ],
             [
              0.8888888888888888,
              "#fdca26"
             ],
             [
              1,
              "#f0f921"
             ]
            ],
            "type": "heatmap"
           }
          ],
          "heatmapgl": [
           {
            "colorbar": {
             "outlinewidth": 0,
             "ticks": ""
            },
            "colorscale": [
             [
              0,
              "#0d0887"
             ],
             [
              0.1111111111111111,
              "#46039f"
             ],
             [
              0.2222222222222222,
              "#7201a8"
             ],
             [
              0.3333333333333333,
              "#9c179e"
             ],
             [
              0.4444444444444444,
              "#bd3786"
             ],
             [
              0.5555555555555556,
              "#d8576b"
             ],
             [
              0.6666666666666666,
              "#ed7953"
             ],
             [
              0.7777777777777778,
              "#fb9f3a"
             ],
             [
              0.8888888888888888,
              "#fdca26"
             ],
             [
              1,
              "#f0f921"
             ]
            ],
            "type": "heatmapgl"
           }
          ],
          "histogram": [
           {
            "marker": {
             "colorbar": {
              "outlinewidth": 0,
              "ticks": ""
             }
            },
            "type": "histogram"
           }
          ],
          "histogram2d": [
           {
            "colorbar": {
             "outlinewidth": 0,
             "ticks": ""
            },
            "colorscale": [
             [
              0,
              "#0d0887"
             ],
             [
              0.1111111111111111,
              "#46039f"
             ],
             [
              0.2222222222222222,
              "#7201a8"
             ],
             [
              0.3333333333333333,
              "#9c179e"
             ],
             [
              0.4444444444444444,
              "#bd3786"
             ],
             [
              0.5555555555555556,
              "#d8576b"
             ],
             [
              0.6666666666666666,
              "#ed7953"
             ],
             [
              0.7777777777777778,
              "#fb9f3a"
             ],
             [
              0.8888888888888888,
              "#fdca26"
             ],
             [
              1,
              "#f0f921"
             ]
            ],
            "type": "histogram2d"
           }
          ],
          "histogram2dcontour": [
           {
            "colorbar": {
             "outlinewidth": 0,
             "ticks": ""
            },
            "colorscale": [
             [
              0,
              "#0d0887"
             ],
             [
              0.1111111111111111,
              "#46039f"
             ],
             [
              0.2222222222222222,
              "#7201a8"
             ],
             [
              0.3333333333333333,
              "#9c179e"
             ],
             [
              0.4444444444444444,
              "#bd3786"
             ],
             [
              0.5555555555555556,
              "#d8576b"
             ],
             [
              0.6666666666666666,
              "#ed7953"
             ],
             [
              0.7777777777777778,
              "#fb9f3a"
             ],
             [
              0.8888888888888888,
              "#fdca26"
             ],
             [
              1,
              "#f0f921"
             ]
            ],
            "type": "histogram2dcontour"
           }
          ],
          "mesh3d": [
           {
            "colorbar": {
             "outlinewidth": 0,
             "ticks": ""
            },
            "type": "mesh3d"
           }
          ],
          "parcoords": [
           {
            "line": {
             "colorbar": {
              "outlinewidth": 0,
              "ticks": ""
             }
            },
            "type": "parcoords"
           }
          ],
          "pie": [
           {
            "automargin": true,
            "type": "pie"
           }
          ],
          "scatter": [
           {
            "marker": {
             "colorbar": {
              "outlinewidth": 0,
              "ticks": ""
             }
            },
            "type": "scatter"
           }
          ],
          "scatter3d": [
           {
            "line": {
             "colorbar": {
              "outlinewidth": 0,
              "ticks": ""
             }
            },
            "marker": {
             "colorbar": {
              "outlinewidth": 0,
              "ticks": ""
             }
            },
            "type": "scatter3d"
           }
          ],
          "scattercarpet": [
           {
            "marker": {
             "colorbar": {
              "outlinewidth": 0,
              "ticks": ""
             }
            },
            "type": "scattercarpet"
           }
          ],
          "scattergeo": [
           {
            "marker": {
             "colorbar": {
              "outlinewidth": 0,
              "ticks": ""
             }
            },
            "type": "scattergeo"
           }
          ],
          "scattergl": [
           {
            "marker": {
             "colorbar": {
              "outlinewidth": 0,
              "ticks": ""
             }
            },
            "type": "scattergl"
           }
          ],
          "scattermapbox": [
           {
            "marker": {
             "colorbar": {
              "outlinewidth": 0,
              "ticks": ""
             }
            },
            "type": "scattermapbox"
           }
          ],
          "scatterpolar": [
           {
            "marker": {
             "colorbar": {
              "outlinewidth": 0,
              "ticks": ""
             }
            },
            "type": "scatterpolar"
           }
          ],
          "scatterpolargl": [
           {
            "marker": {
             "colorbar": {
              "outlinewidth": 0,
              "ticks": ""
             }
            },
            "type": "scatterpolargl"
           }
          ],
          "scatterternary": [
           {
            "marker": {
             "colorbar": {
              "outlinewidth": 0,
              "ticks": ""
             }
            },
            "type": "scatterternary"
           }
          ],
          "surface": [
           {
            "colorbar": {
             "outlinewidth": 0,
             "ticks": ""
            },
            "colorscale": [
             [
              0,
              "#0d0887"
             ],
             [
              0.1111111111111111,
              "#46039f"
             ],
             [
              0.2222222222222222,
              "#7201a8"
             ],
             [
              0.3333333333333333,
              "#9c179e"
             ],
             [
              0.4444444444444444,
              "#bd3786"
             ],
             [
              0.5555555555555556,
              "#d8576b"
             ],
             [
              0.6666666666666666,
              "#ed7953"
             ],
             [
              0.7777777777777778,
              "#fb9f3a"
             ],
             [
              0.8888888888888888,
              "#fdca26"
             ],
             [
              1,
              "#f0f921"
             ]
            ],
            "type": "surface"
           }
          ],
          "table": [
           {
            "cells": {
             "fill": {
              "color": "#EBF0F8"
             },
             "line": {
              "color": "white"
             }
            },
            "header": {
             "fill": {
              "color": "#C8D4E3"
             },
             "line": {
              "color": "white"
             }
            },
            "type": "table"
           }
          ]
         },
         "layout": {
          "annotationdefaults": {
           "arrowcolor": "#2a3f5f",
           "arrowhead": 0,
           "arrowwidth": 1
          },
          "coloraxis": {
           "colorbar": {
            "outlinewidth": 0,
            "ticks": ""
           }
          },
          "colorscale": {
           "diverging": [
            [
             0,
             "#8e0152"
            ],
            [
             0.1,
             "#c51b7d"
            ],
            [
             0.2,
             "#de77ae"
            ],
            [
             0.3,
             "#f1b6da"
            ],
            [
             0.4,
             "#fde0ef"
            ],
            [
             0.5,
             "#f7f7f7"
            ],
            [
             0.6,
             "#e6f5d0"
            ],
            [
             0.7,
             "#b8e186"
            ],
            [
             0.8,
             "#7fbc41"
            ],
            [
             0.9,
             "#4d9221"
            ],
            [
             1,
             "#276419"
            ]
           ],
           "sequential": [
            [
             0,
             "#0d0887"
            ],
            [
             0.1111111111111111,
             "#46039f"
            ],
            [
             0.2222222222222222,
             "#7201a8"
            ],
            [
             0.3333333333333333,
             "#9c179e"
            ],
            [
             0.4444444444444444,
             "#bd3786"
            ],
            [
             0.5555555555555556,
             "#d8576b"
            ],
            [
             0.6666666666666666,
             "#ed7953"
            ],
            [
             0.7777777777777778,
             "#fb9f3a"
            ],
            [
             0.8888888888888888,
             "#fdca26"
            ],
            [
             1,
             "#f0f921"
            ]
           ],
           "sequentialminus": [
            [
             0,
             "#0d0887"
            ],
            [
             0.1111111111111111,
             "#46039f"
            ],
            [
             0.2222222222222222,
             "#7201a8"
            ],
            [
             0.3333333333333333,
             "#9c179e"
            ],
            [
             0.4444444444444444,
             "#bd3786"
            ],
            [
             0.5555555555555556,
             "#d8576b"
            ],
            [
             0.6666666666666666,
             "#ed7953"
            ],
            [
             0.7777777777777778,
             "#fb9f3a"
            ],
            [
             0.8888888888888888,
             "#fdca26"
            ],
            [
             1,
             "#f0f921"
            ]
           ]
          },
          "colorway": [
           "#636efa",
           "#EF553B",
           "#00cc96",
           "#ab63fa",
           "#FFA15A",
           "#19d3f3",
           "#FF6692",
           "#B6E880",
           "#FF97FF",
           "#FECB52"
          ],
          "font": {
           "color": "#2a3f5f"
          },
          "geo": {
           "bgcolor": "white",
           "lakecolor": "white",
           "landcolor": "#E5ECF6",
           "showlakes": true,
           "showland": true,
           "subunitcolor": "white"
          },
          "hoverlabel": {
           "align": "left"
          },
          "hovermode": "closest",
          "mapbox": {
           "style": "light"
          },
          "paper_bgcolor": "white",
          "plot_bgcolor": "#E5ECF6",
          "polar": {
           "angularaxis": {
            "gridcolor": "white",
            "linecolor": "white",
            "ticks": ""
           },
           "bgcolor": "#E5ECF6",
           "radialaxis": {
            "gridcolor": "white",
            "linecolor": "white",
            "ticks": ""
           }
          },
          "scene": {
           "xaxis": {
            "backgroundcolor": "#E5ECF6",
            "gridcolor": "white",
            "gridwidth": 2,
            "linecolor": "white",
            "showbackground": true,
            "ticks": "",
            "zerolinecolor": "white"
           },
           "yaxis": {
            "backgroundcolor": "#E5ECF6",
            "gridcolor": "white",
            "gridwidth": 2,
            "linecolor": "white",
            "showbackground": true,
            "ticks": "",
            "zerolinecolor": "white"
           },
           "zaxis": {
            "backgroundcolor": "#E5ECF6",
            "gridcolor": "white",
            "gridwidth": 2,
            "linecolor": "white",
            "showbackground": true,
            "ticks": "",
            "zerolinecolor": "white"
           }
          },
          "shapedefaults": {
           "line": {
            "color": "#2a3f5f"
           }
          },
          "ternary": {
           "aaxis": {
            "gridcolor": "white",
            "linecolor": "white",
            "ticks": ""
           },
           "baxis": {
            "gridcolor": "white",
            "linecolor": "white",
            "ticks": ""
           },
           "bgcolor": "#E5ECF6",
           "caxis": {
            "gridcolor": "white",
            "linecolor": "white",
            "ticks": ""
           }
          },
          "title": {
           "x": 0.05
          },
          "xaxis": {
           "automargin": true,
           "gridcolor": "white",
           "linecolor": "white",
           "ticks": "",
           "title": {
            "standoff": 15
           },
           "zerolinecolor": "white",
           "zerolinewidth": 2
          },
          "yaxis": {
           "automargin": true,
           "gridcolor": "white",
           "linecolor": "white",
           "ticks": "",
           "title": {
            "standoff": 15
           },
           "zerolinecolor": "white",
           "zerolinewidth": 2
          }
         }
        },
        "title": {
         "font": {
          "color": "#4D5663"
         }
        },
        "xaxis": {
         "gridcolor": "#E1E5ED",
         "showgrid": true,
         "tickfont": {
          "color": "#4D5663"
         },
         "title": {
          "font": {
           "color": "#4D5663"
          },
          "text": ""
         },
         "zerolinecolor": "#E1E5ED"
        },
        "yaxis": {
         "gridcolor": "#E1E5ED",
         "showgrid": true,
         "tickfont": {
          "color": "#4D5663"
         },
         "title": {
          "font": {
           "color": "#4D5663"
          },
          "text": ""
         },
         "zerolinecolor": "#E1E5ED"
        }
       }
      },
      "text/html": [
       "<div>\n",
       "        \n",
       "        \n",
       "            <div id=\"3d22fe0d-30ac-4446-9abd-9e375d4e7e8b\" class=\"plotly-graph-div\" style=\"height:525px; width:100%;\"></div>\n",
       "            <script type=\"text/javascript\">\n",
       "                require([\"plotly\"], function(Plotly) {\n",
       "                    window.PLOTLYENV=window.PLOTLYENV || {};\n",
       "                    window.PLOTLYENV.BASE_URL='https://plot.ly';\n",
       "                    \n",
       "                if (document.getElementById(\"3d22fe0d-30ac-4446-9abd-9e375d4e7e8b\")) {\n",
       "                    Plotly.newPlot(\n",
       "                        '3d22fe0d-30ac-4446-9abd-9e375d4e7e8b',\n",
       "                        [{\"marker\": {\"color\": \"rgba(255, 153, 51, 0.6)\", \"line\": {\"color\": \"rgba(255, 153, 51, 1.0)\", \"width\": 1}}, \"name\": \"Values\", \"orientation\": \"v\", \"text\": \"\", \"type\": \"bar\", \"x\": [\"A\", \"B\", \"C\"], \"y\": [32, 43, 50]}],\n",
       "                        {\"legend\": {\"bgcolor\": \"#F5F6F9\", \"font\": {\"color\": \"#4D5663\"}}, \"paper_bgcolor\": \"#F5F6F9\", \"plot_bgcolor\": \"#F5F6F9\", \"template\": {\"data\": {\"bar\": [{\"error_x\": {\"color\": \"#2a3f5f\"}, \"error_y\": {\"color\": \"#2a3f5f\"}, \"marker\": {\"line\": {\"color\": \"#E5ECF6\", \"width\": 0.5}}, \"type\": \"bar\"}], \"barpolar\": [{\"marker\": {\"line\": {\"color\": \"#E5ECF6\", \"width\": 0.5}}, \"type\": \"barpolar\"}], \"carpet\": [{\"aaxis\": {\"endlinecolor\": \"#2a3f5f\", \"gridcolor\": \"white\", \"linecolor\": \"white\", \"minorgridcolor\": \"white\", \"startlinecolor\": \"#2a3f5f\"}, \"baxis\": {\"endlinecolor\": \"#2a3f5f\", \"gridcolor\": \"white\", \"linecolor\": \"white\", \"minorgridcolor\": \"white\", \"startlinecolor\": \"#2a3f5f\"}, \"type\": \"carpet\"}], \"choropleth\": [{\"colorbar\": {\"outlinewidth\": 0, \"ticks\": \"\"}, \"type\": \"choropleth\"}], \"contour\": [{\"colorbar\": {\"outlinewidth\": 0, \"ticks\": \"\"}, \"colorscale\": [[0.0, \"#0d0887\"], [0.1111111111111111, \"#46039f\"], [0.2222222222222222, \"#7201a8\"], [0.3333333333333333, \"#9c179e\"], [0.4444444444444444, \"#bd3786\"], [0.5555555555555556, \"#d8576b\"], [0.6666666666666666, \"#ed7953\"], [0.7777777777777778, \"#fb9f3a\"], [0.8888888888888888, \"#fdca26\"], [1.0, \"#f0f921\"]], \"type\": \"contour\"}], \"contourcarpet\": [{\"colorbar\": {\"outlinewidth\": 0, \"ticks\": \"\"}, \"type\": \"contourcarpet\"}], \"heatmap\": [{\"colorbar\": {\"outlinewidth\": 0, \"ticks\": \"\"}, \"colorscale\": [[0.0, \"#0d0887\"], [0.1111111111111111, \"#46039f\"], [0.2222222222222222, \"#7201a8\"], [0.3333333333333333, \"#9c179e\"], [0.4444444444444444, \"#bd3786\"], [0.5555555555555556, \"#d8576b\"], [0.6666666666666666, \"#ed7953\"], [0.7777777777777778, \"#fb9f3a\"], [0.8888888888888888, \"#fdca26\"], [1.0, \"#f0f921\"]], \"type\": \"heatmap\"}], \"heatmapgl\": [{\"colorbar\": {\"outlinewidth\": 0, \"ticks\": \"\"}, \"colorscale\": [[0.0, \"#0d0887\"], [0.1111111111111111, \"#46039f\"], [0.2222222222222222, \"#7201a8\"], [0.3333333333333333, \"#9c179e\"], [0.4444444444444444, \"#bd3786\"], [0.5555555555555556, \"#d8576b\"], [0.6666666666666666, \"#ed7953\"], [0.7777777777777778, \"#fb9f3a\"], [0.8888888888888888, \"#fdca26\"], [1.0, \"#f0f921\"]], \"type\": \"heatmapgl\"}], \"histogram\": [{\"marker\": {\"colorbar\": {\"outlinewidth\": 0, \"ticks\": \"\"}}, \"type\": \"histogram\"}], \"histogram2d\": [{\"colorbar\": {\"outlinewidth\": 0, \"ticks\": \"\"}, \"colorscale\": [[0.0, \"#0d0887\"], [0.1111111111111111, \"#46039f\"], [0.2222222222222222, \"#7201a8\"], [0.3333333333333333, \"#9c179e\"], [0.4444444444444444, \"#bd3786\"], [0.5555555555555556, \"#d8576b\"], [0.6666666666666666, \"#ed7953\"], [0.7777777777777778, \"#fb9f3a\"], [0.8888888888888888, \"#fdca26\"], [1.0, \"#f0f921\"]], \"type\": \"histogram2d\"}], \"histogram2dcontour\": [{\"colorbar\": {\"outlinewidth\": 0, \"ticks\": \"\"}, \"colorscale\": [[0.0, \"#0d0887\"], [0.1111111111111111, \"#46039f\"], [0.2222222222222222, \"#7201a8\"], [0.3333333333333333, \"#9c179e\"], [0.4444444444444444, \"#bd3786\"], [0.5555555555555556, \"#d8576b\"], [0.6666666666666666, \"#ed7953\"], [0.7777777777777778, \"#fb9f3a\"], [0.8888888888888888, \"#fdca26\"], [1.0, \"#f0f921\"]], \"type\": \"histogram2dcontour\"}], \"mesh3d\": [{\"colorbar\": {\"outlinewidth\": 0, \"ticks\": \"\"}, \"type\": \"mesh3d\"}], \"parcoords\": [{\"line\": {\"colorbar\": {\"outlinewidth\": 0, \"ticks\": \"\"}}, \"type\": \"parcoords\"}], \"pie\": [{\"automargin\": true, \"type\": \"pie\"}], \"scatter\": [{\"marker\": {\"colorbar\": {\"outlinewidth\": 0, \"ticks\": \"\"}}, \"type\": \"scatter\"}], \"scatter3d\": [{\"line\": {\"colorbar\": {\"outlinewidth\": 0, \"ticks\": \"\"}}, \"marker\": {\"colorbar\": {\"outlinewidth\": 0, \"ticks\": \"\"}}, \"type\": \"scatter3d\"}], \"scattercarpet\": [{\"marker\": {\"colorbar\": {\"outlinewidth\": 0, \"ticks\": \"\"}}, \"type\": \"scattercarpet\"}], \"scattergeo\": [{\"marker\": {\"colorbar\": {\"outlinewidth\": 0, \"ticks\": \"\"}}, \"type\": \"scattergeo\"}], \"scattergl\": [{\"marker\": {\"colorbar\": {\"outlinewidth\": 0, \"ticks\": \"\"}}, \"type\": \"scattergl\"}], \"scattermapbox\": [{\"marker\": {\"colorbar\": {\"outlinewidth\": 0, \"ticks\": \"\"}}, \"type\": \"scattermapbox\"}], \"scatterpolar\": [{\"marker\": {\"colorbar\": {\"outlinewidth\": 0, \"ticks\": \"\"}}, \"type\": \"scatterpolar\"}], \"scatterpolargl\": [{\"marker\": {\"colorbar\": {\"outlinewidth\": 0, \"ticks\": \"\"}}, \"type\": \"scatterpolargl\"}], \"scatterternary\": [{\"marker\": {\"colorbar\": {\"outlinewidth\": 0, \"ticks\": \"\"}}, \"type\": \"scatterternary\"}], \"surface\": [{\"colorbar\": {\"outlinewidth\": 0, \"ticks\": \"\"}, \"colorscale\": [[0.0, \"#0d0887\"], [0.1111111111111111, \"#46039f\"], [0.2222222222222222, \"#7201a8\"], [0.3333333333333333, \"#9c179e\"], [0.4444444444444444, \"#bd3786\"], [0.5555555555555556, \"#d8576b\"], [0.6666666666666666, \"#ed7953\"], [0.7777777777777778, \"#fb9f3a\"], [0.8888888888888888, \"#fdca26\"], [1.0, \"#f0f921\"]], \"type\": \"surface\"}], \"table\": [{\"cells\": {\"fill\": {\"color\": \"#EBF0F8\"}, \"line\": {\"color\": \"white\"}}, \"header\": {\"fill\": {\"color\": \"#C8D4E3\"}, \"line\": {\"color\": \"white\"}}, \"type\": \"table\"}]}, \"layout\": {\"annotationdefaults\": {\"arrowcolor\": \"#2a3f5f\", \"arrowhead\": 0, \"arrowwidth\": 1}, \"coloraxis\": {\"colorbar\": {\"outlinewidth\": 0, \"ticks\": \"\"}}, \"colorscale\": {\"diverging\": [[0, \"#8e0152\"], [0.1, \"#c51b7d\"], [0.2, \"#de77ae\"], [0.3, \"#f1b6da\"], [0.4, \"#fde0ef\"], [0.5, \"#f7f7f7\"], [0.6, \"#e6f5d0\"], [0.7, \"#b8e186\"], [0.8, \"#7fbc41\"], [0.9, \"#4d9221\"], [1, \"#276419\"]], \"sequential\": [[0.0, \"#0d0887\"], [0.1111111111111111, \"#46039f\"], [0.2222222222222222, \"#7201a8\"], [0.3333333333333333, \"#9c179e\"], [0.4444444444444444, \"#bd3786\"], [0.5555555555555556, \"#d8576b\"], [0.6666666666666666, \"#ed7953\"], [0.7777777777777778, \"#fb9f3a\"], [0.8888888888888888, \"#fdca26\"], [1.0, \"#f0f921\"]], \"sequentialminus\": [[0.0, \"#0d0887\"], [0.1111111111111111, \"#46039f\"], [0.2222222222222222, \"#7201a8\"], [0.3333333333333333, \"#9c179e\"], [0.4444444444444444, \"#bd3786\"], [0.5555555555555556, \"#d8576b\"], [0.6666666666666666, \"#ed7953\"], [0.7777777777777778, \"#fb9f3a\"], [0.8888888888888888, \"#fdca26\"], [1.0, \"#f0f921\"]]}, \"colorway\": [\"#636efa\", \"#EF553B\", \"#00cc96\", \"#ab63fa\", \"#FFA15A\", \"#19d3f3\", \"#FF6692\", \"#B6E880\", \"#FF97FF\", \"#FECB52\"], \"font\": {\"color\": \"#2a3f5f\"}, \"geo\": {\"bgcolor\": \"white\", \"lakecolor\": \"white\", \"landcolor\": \"#E5ECF6\", \"showlakes\": true, \"showland\": true, \"subunitcolor\": \"white\"}, \"hoverlabel\": {\"align\": \"left\"}, \"hovermode\": \"closest\", \"mapbox\": {\"style\": \"light\"}, \"paper_bgcolor\": \"white\", \"plot_bgcolor\": \"#E5ECF6\", \"polar\": {\"angularaxis\": {\"gridcolor\": \"white\", \"linecolor\": \"white\", \"ticks\": \"\"}, \"bgcolor\": \"#E5ECF6\", \"radialaxis\": {\"gridcolor\": \"white\", \"linecolor\": \"white\", \"ticks\": \"\"}}, \"scene\": {\"xaxis\": {\"backgroundcolor\": \"#E5ECF6\", \"gridcolor\": \"white\", \"gridwidth\": 2, \"linecolor\": \"white\", \"showbackground\": true, \"ticks\": \"\", \"zerolinecolor\": \"white\"}, \"yaxis\": {\"backgroundcolor\": \"#E5ECF6\", \"gridcolor\": \"white\", \"gridwidth\": 2, \"linecolor\": \"white\", \"showbackground\": true, \"ticks\": \"\", \"zerolinecolor\": \"white\"}, \"zaxis\": {\"backgroundcolor\": \"#E5ECF6\", \"gridcolor\": \"white\", \"gridwidth\": 2, \"linecolor\": \"white\", \"showbackground\": true, \"ticks\": \"\", \"zerolinecolor\": \"white\"}}, \"shapedefaults\": {\"line\": {\"color\": \"#2a3f5f\"}}, \"ternary\": {\"aaxis\": {\"gridcolor\": \"white\", \"linecolor\": \"white\", \"ticks\": \"\"}, \"baxis\": {\"gridcolor\": \"white\", \"linecolor\": \"white\", \"ticks\": \"\"}, \"bgcolor\": \"#E5ECF6\", \"caxis\": {\"gridcolor\": \"white\", \"linecolor\": \"white\", \"ticks\": \"\"}}, \"title\": {\"x\": 0.05}, \"xaxis\": {\"automargin\": true, \"gridcolor\": \"white\", \"linecolor\": \"white\", \"ticks\": \"\", \"title\": {\"standoff\": 15}, \"zerolinecolor\": \"white\", \"zerolinewidth\": 2}, \"yaxis\": {\"automargin\": true, \"gridcolor\": \"white\", \"linecolor\": \"white\", \"ticks\": \"\", \"title\": {\"standoff\": 15}, \"zerolinecolor\": \"white\", \"zerolinewidth\": 2}}}, \"title\": {\"font\": {\"color\": \"#4D5663\"}}, \"xaxis\": {\"gridcolor\": \"#E1E5ED\", \"showgrid\": true, \"tickfont\": {\"color\": \"#4D5663\"}, \"title\": {\"font\": {\"color\": \"#4D5663\"}, \"text\": \"\"}, \"zerolinecolor\": \"#E1E5ED\"}, \"yaxis\": {\"gridcolor\": \"#E1E5ED\", \"showgrid\": true, \"tickfont\": {\"color\": \"#4D5663\"}, \"title\": {\"font\": {\"color\": \"#4D5663\"}, \"text\": \"\"}, \"zerolinecolor\": \"#E1E5ED\"}},\n",
       "                        {\"showLink\": true, \"linkText\": \"Export to plot.ly\", \"plotlyServerURL\": \"https://plot.ly\", \"responsive\": true}\n",
       "                    ).then(function(){\n",
       "                            \n",
       "var gd = document.getElementById('3d22fe0d-30ac-4446-9abd-9e375d4e7e8b');\n",
       "var x = new MutationObserver(function (mutations, observer) {{\n",
       "        var display = window.getComputedStyle(gd).display;\n",
       "        if (!display || display === 'none') {{\n",
       "            console.log([gd, 'removed!']);\n",
       "            Plotly.purge(gd);\n",
       "            observer.disconnect();\n",
       "        }}\n",
       "}});\n",
       "\n",
       "// Listen for the removal of the full notebook cells\n",
       "var notebookContainer = gd.closest('#notebook-container');\n",
       "if (notebookContainer) {{\n",
       "    x.observe(notebookContainer, {childList: true});\n",
       "}}\n",
       "\n",
       "// Listen for the clearing of the current output cell\n",
       "var outputEl = gd.closest('.output');\n",
       "if (outputEl) {{\n",
       "    x.observe(outputEl, {childList: true});\n",
       "}}\n",
       "\n",
       "                        })\n",
       "                };\n",
       "                });\n",
       "            </script>\n",
       "        </div>"
      ]
     },
     "metadata": {},
     "output_type": "display_data"
    }
   ],
   "source": [
    "df2.iplot(kind='bar',x='Category',y='Values')"
   ]
  },
  {
   "cell_type": "code",
   "execution_count": 19,
   "metadata": {},
   "outputs": [
    {
     "data": {
      "application/vnd.plotly.v1+json": {
       "config": {
        "linkText": "Export to plot.ly",
        "plotlyServerURL": "https://plot.ly",
        "showLink": true
       },
       "data": [
        {
         "marker": {
          "color": "rgba(255, 153, 51, 0.6)",
          "line": {
           "color": "rgba(255, 153, 51, 1.0)",
           "width": 1
          }
         },
         "name": "None",
         "orientation": "v",
         "text": "",
         "type": "bar",
         "x": [
          "A",
          "B",
          "C",
          "D"
         ],
         "y": [
          100,
          100,
          100,
          100
         ]
        }
       ],
       "layout": {
        "legend": {
         "bgcolor": "#F5F6F9",
         "font": {
          "color": "#4D5663"
         }
        },
        "paper_bgcolor": "#F5F6F9",
        "plot_bgcolor": "#F5F6F9",
        "template": {
         "data": {
          "bar": [
           {
            "error_x": {
             "color": "#2a3f5f"
            },
            "error_y": {
             "color": "#2a3f5f"
            },
            "marker": {
             "line": {
              "color": "#E5ECF6",
              "width": 0.5
             }
            },
            "type": "bar"
           }
          ],
          "barpolar": [
           {
            "marker": {
             "line": {
              "color": "#E5ECF6",
              "width": 0.5
             }
            },
            "type": "barpolar"
           }
          ],
          "carpet": [
           {
            "aaxis": {
             "endlinecolor": "#2a3f5f",
             "gridcolor": "white",
             "linecolor": "white",
             "minorgridcolor": "white",
             "startlinecolor": "#2a3f5f"
            },
            "baxis": {
             "endlinecolor": "#2a3f5f",
             "gridcolor": "white",
             "linecolor": "white",
             "minorgridcolor": "white",
             "startlinecolor": "#2a3f5f"
            },
            "type": "carpet"
           }
          ],
          "choropleth": [
           {
            "colorbar": {
             "outlinewidth": 0,
             "ticks": ""
            },
            "type": "choropleth"
           }
          ],
          "contour": [
           {
            "colorbar": {
             "outlinewidth": 0,
             "ticks": ""
            },
            "colorscale": [
             [
              0,
              "#0d0887"
             ],
             [
              0.1111111111111111,
              "#46039f"
             ],
             [
              0.2222222222222222,
              "#7201a8"
             ],
             [
              0.3333333333333333,
              "#9c179e"
             ],
             [
              0.4444444444444444,
              "#bd3786"
             ],
             [
              0.5555555555555556,
              "#d8576b"
             ],
             [
              0.6666666666666666,
              "#ed7953"
             ],
             [
              0.7777777777777778,
              "#fb9f3a"
             ],
             [
              0.8888888888888888,
              "#fdca26"
             ],
             [
              1,
              "#f0f921"
             ]
            ],
            "type": "contour"
           }
          ],
          "contourcarpet": [
           {
            "colorbar": {
             "outlinewidth": 0,
             "ticks": ""
            },
            "type": "contourcarpet"
           }
          ],
          "heatmap": [
           {
            "colorbar": {
             "outlinewidth": 0,
             "ticks": ""
            },
            "colorscale": [
             [
              0,
              "#0d0887"
             ],
             [
              0.1111111111111111,
              "#46039f"
             ],
             [
              0.2222222222222222,
              "#7201a8"
             ],
             [
              0.3333333333333333,
              "#9c179e"
             ],
             [
              0.4444444444444444,
              "#bd3786"
             ],
             [
              0.5555555555555556,
              "#d8576b"
             ],
             [
              0.6666666666666666,
              "#ed7953"
             ],
             [
              0.7777777777777778,
              "#fb9f3a"
             ],
             [
              0.8888888888888888,
              "#fdca26"
             ],
             [
              1,
              "#f0f921"
             ]
            ],
            "type": "heatmap"
           }
          ],
          "heatmapgl": [
           {
            "colorbar": {
             "outlinewidth": 0,
             "ticks": ""
            },
            "colorscale": [
             [
              0,
              "#0d0887"
             ],
             [
              0.1111111111111111,
              "#46039f"
             ],
             [
              0.2222222222222222,
              "#7201a8"
             ],
             [
              0.3333333333333333,
              "#9c179e"
             ],
             [
              0.4444444444444444,
              "#bd3786"
             ],
             [
              0.5555555555555556,
              "#d8576b"
             ],
             [
              0.6666666666666666,
              "#ed7953"
             ],
             [
              0.7777777777777778,
              "#fb9f3a"
             ],
             [
              0.8888888888888888,
              "#fdca26"
             ],
             [
              1,
              "#f0f921"
             ]
            ],
            "type": "heatmapgl"
           }
          ],
          "histogram": [
           {
            "marker": {
             "colorbar": {
              "outlinewidth": 0,
              "ticks": ""
             }
            },
            "type": "histogram"
           }
          ],
          "histogram2d": [
           {
            "colorbar": {
             "outlinewidth": 0,
             "ticks": ""
            },
            "colorscale": [
             [
              0,
              "#0d0887"
             ],
             [
              0.1111111111111111,
              "#46039f"
             ],
             [
              0.2222222222222222,
              "#7201a8"
             ],
             [
              0.3333333333333333,
              "#9c179e"
             ],
             [
              0.4444444444444444,
              "#bd3786"
             ],
             [
              0.5555555555555556,
              "#d8576b"
             ],
             [
              0.6666666666666666,
              "#ed7953"
             ],
             [
              0.7777777777777778,
              "#fb9f3a"
             ],
             [
              0.8888888888888888,
              "#fdca26"
             ],
             [
              1,
              "#f0f921"
             ]
            ],
            "type": "histogram2d"
           }
          ],
          "histogram2dcontour": [
           {
            "colorbar": {
             "outlinewidth": 0,
             "ticks": ""
            },
            "colorscale": [
             [
              0,
              "#0d0887"
             ],
             [
              0.1111111111111111,
              "#46039f"
             ],
             [
              0.2222222222222222,
              "#7201a8"
             ],
             [
              0.3333333333333333,
              "#9c179e"
             ],
             [
              0.4444444444444444,
              "#bd3786"
             ],
             [
              0.5555555555555556,
              "#d8576b"
             ],
             [
              0.6666666666666666,
              "#ed7953"
             ],
             [
              0.7777777777777778,
              "#fb9f3a"
             ],
             [
              0.8888888888888888,
              "#fdca26"
             ],
             [
              1,
              "#f0f921"
             ]
            ],
            "type": "histogram2dcontour"
           }
          ],
          "mesh3d": [
           {
            "colorbar": {
             "outlinewidth": 0,
             "ticks": ""
            },
            "type": "mesh3d"
           }
          ],
          "parcoords": [
           {
            "line": {
             "colorbar": {
              "outlinewidth": 0,
              "ticks": ""
             }
            },
            "type": "parcoords"
           }
          ],
          "pie": [
           {
            "automargin": true,
            "type": "pie"
           }
          ],
          "scatter": [
           {
            "marker": {
             "colorbar": {
              "outlinewidth": 0,
              "ticks": ""
             }
            },
            "type": "scatter"
           }
          ],
          "scatter3d": [
           {
            "line": {
             "colorbar": {
              "outlinewidth": 0,
              "ticks": ""
             }
            },
            "marker": {
             "colorbar": {
              "outlinewidth": 0,
              "ticks": ""
             }
            },
            "type": "scatter3d"
           }
          ],
          "scattercarpet": [
           {
            "marker": {
             "colorbar": {
              "outlinewidth": 0,
              "ticks": ""
             }
            },
            "type": "scattercarpet"
           }
          ],
          "scattergeo": [
           {
            "marker": {
             "colorbar": {
              "outlinewidth": 0,
              "ticks": ""
             }
            },
            "type": "scattergeo"
           }
          ],
          "scattergl": [
           {
            "marker": {
             "colorbar": {
              "outlinewidth": 0,
              "ticks": ""
             }
            },
            "type": "scattergl"
           }
          ],
          "scattermapbox": [
           {
            "marker": {
             "colorbar": {
              "outlinewidth": 0,
              "ticks": ""
             }
            },
            "type": "scattermapbox"
           }
          ],
          "scatterpolar": [
           {
            "marker": {
             "colorbar": {
              "outlinewidth": 0,
              "ticks": ""
             }
            },
            "type": "scatterpolar"
           }
          ],
          "scatterpolargl": [
           {
            "marker": {
             "colorbar": {
              "outlinewidth": 0,
              "ticks": ""
             }
            },
            "type": "scatterpolargl"
           }
          ],
          "scatterternary": [
           {
            "marker": {
             "colorbar": {
              "outlinewidth": 0,
              "ticks": ""
             }
            },
            "type": "scatterternary"
           }
          ],
          "surface": [
           {
            "colorbar": {
             "outlinewidth": 0,
             "ticks": ""
            },
            "colorscale": [
             [
              0,
              "#0d0887"
             ],
             [
              0.1111111111111111,
              "#46039f"
             ],
             [
              0.2222222222222222,
              "#7201a8"
             ],
             [
              0.3333333333333333,
              "#9c179e"
             ],
             [
              0.4444444444444444,
              "#bd3786"
             ],
             [
              0.5555555555555556,
              "#d8576b"
             ],
             [
              0.6666666666666666,
              "#ed7953"
             ],
             [
              0.7777777777777778,
              "#fb9f3a"
             ],
             [
              0.8888888888888888,
              "#fdca26"
             ],
             [
              1,
              "#f0f921"
             ]
            ],
            "type": "surface"
           }
          ],
          "table": [
           {
            "cells": {
             "fill": {
              "color": "#EBF0F8"
             },
             "line": {
              "color": "white"
             }
            },
            "header": {
             "fill": {
              "color": "#C8D4E3"
             },
             "line": {
              "color": "white"
             }
            },
            "type": "table"
           }
          ]
         },
         "layout": {
          "annotationdefaults": {
           "arrowcolor": "#2a3f5f",
           "arrowhead": 0,
           "arrowwidth": 1
          },
          "coloraxis": {
           "colorbar": {
            "outlinewidth": 0,
            "ticks": ""
           }
          },
          "colorscale": {
           "diverging": [
            [
             0,
             "#8e0152"
            ],
            [
             0.1,
             "#c51b7d"
            ],
            [
             0.2,
             "#de77ae"
            ],
            [
             0.3,
             "#f1b6da"
            ],
            [
             0.4,
             "#fde0ef"
            ],
            [
             0.5,
             "#f7f7f7"
            ],
            [
             0.6,
             "#e6f5d0"
            ],
            [
             0.7,
             "#b8e186"
            ],
            [
             0.8,
             "#7fbc41"
            ],
            [
             0.9,
             "#4d9221"
            ],
            [
             1,
             "#276419"
            ]
           ],
           "sequential": [
            [
             0,
             "#0d0887"
            ],
            [
             0.1111111111111111,
             "#46039f"
            ],
            [
             0.2222222222222222,
             "#7201a8"
            ],
            [
             0.3333333333333333,
             "#9c179e"
            ],
            [
             0.4444444444444444,
             "#bd3786"
            ],
            [
             0.5555555555555556,
             "#d8576b"
            ],
            [
             0.6666666666666666,
             "#ed7953"
            ],
            [
             0.7777777777777778,
             "#fb9f3a"
            ],
            [
             0.8888888888888888,
             "#fdca26"
            ],
            [
             1,
             "#f0f921"
            ]
           ],
           "sequentialminus": [
            [
             0,
             "#0d0887"
            ],
            [
             0.1111111111111111,
             "#46039f"
            ],
            [
             0.2222222222222222,
             "#7201a8"
            ],
            [
             0.3333333333333333,
             "#9c179e"
            ],
            [
             0.4444444444444444,
             "#bd3786"
            ],
            [
             0.5555555555555556,
             "#d8576b"
            ],
            [
             0.6666666666666666,
             "#ed7953"
            ],
            [
             0.7777777777777778,
             "#fb9f3a"
            ],
            [
             0.8888888888888888,
             "#fdca26"
            ],
            [
             1,
             "#f0f921"
            ]
           ]
          },
          "colorway": [
           "#636efa",
           "#EF553B",
           "#00cc96",
           "#ab63fa",
           "#FFA15A",
           "#19d3f3",
           "#FF6692",
           "#B6E880",
           "#FF97FF",
           "#FECB52"
          ],
          "font": {
           "color": "#2a3f5f"
          },
          "geo": {
           "bgcolor": "white",
           "lakecolor": "white",
           "landcolor": "#E5ECF6",
           "showlakes": true,
           "showland": true,
           "subunitcolor": "white"
          },
          "hoverlabel": {
           "align": "left"
          },
          "hovermode": "closest",
          "mapbox": {
           "style": "light"
          },
          "paper_bgcolor": "white",
          "plot_bgcolor": "#E5ECF6",
          "polar": {
           "angularaxis": {
            "gridcolor": "white",
            "linecolor": "white",
            "ticks": ""
           },
           "bgcolor": "#E5ECF6",
           "radialaxis": {
            "gridcolor": "white",
            "linecolor": "white",
            "ticks": ""
           }
          },
          "scene": {
           "xaxis": {
            "backgroundcolor": "#E5ECF6",
            "gridcolor": "white",
            "gridwidth": 2,
            "linecolor": "white",
            "showbackground": true,
            "ticks": "",
            "zerolinecolor": "white"
           },
           "yaxis": {
            "backgroundcolor": "#E5ECF6",
            "gridcolor": "white",
            "gridwidth": 2,
            "linecolor": "white",
            "showbackground": true,
            "ticks": "",
            "zerolinecolor": "white"
           },
           "zaxis": {
            "backgroundcolor": "#E5ECF6",
            "gridcolor": "white",
            "gridwidth": 2,
            "linecolor": "white",
            "showbackground": true,
            "ticks": "",
            "zerolinecolor": "white"
           }
          },
          "shapedefaults": {
           "line": {
            "color": "#2a3f5f"
           }
          },
          "ternary": {
           "aaxis": {
            "gridcolor": "white",
            "linecolor": "white",
            "ticks": ""
           },
           "baxis": {
            "gridcolor": "white",
            "linecolor": "white",
            "ticks": ""
           },
           "bgcolor": "#E5ECF6",
           "caxis": {
            "gridcolor": "white",
            "linecolor": "white",
            "ticks": ""
           }
          },
          "title": {
           "x": 0.05
          },
          "xaxis": {
           "automargin": true,
           "gridcolor": "white",
           "linecolor": "white",
           "ticks": "",
           "title": {
            "standoff": 15
           },
           "zerolinecolor": "white",
           "zerolinewidth": 2
          },
          "yaxis": {
           "automargin": true,
           "gridcolor": "white",
           "linecolor": "white",
           "ticks": "",
           "title": {
            "standoff": 15
           },
           "zerolinecolor": "white",
           "zerolinewidth": 2
          }
         }
        },
        "title": {
         "font": {
          "color": "#4D5663"
         }
        },
        "xaxis": {
         "gridcolor": "#E1E5ED",
         "showgrid": true,
         "tickfont": {
          "color": "#4D5663"
         },
         "title": {
          "font": {
           "color": "#4D5663"
          },
          "text": ""
         },
         "zerolinecolor": "#E1E5ED"
        },
        "yaxis": {
         "gridcolor": "#E1E5ED",
         "showgrid": true,
         "tickfont": {
          "color": "#4D5663"
         },
         "title": {
          "font": {
           "color": "#4D5663"
          },
          "text": ""
         },
         "zerolinecolor": "#E1E5ED"
        }
       }
      },
      "text/html": [
       "<div>\n",
       "        \n",
       "        \n",
       "            <div id=\"ab7cfbcd-ca1a-4701-a495-fb9bb81bfb9a\" class=\"plotly-graph-div\" style=\"height:525px; width:100%;\"></div>\n",
       "            <script type=\"text/javascript\">\n",
       "                require([\"plotly\"], function(Plotly) {\n",
       "                    window.PLOTLYENV=window.PLOTLYENV || {};\n",
       "                    window.PLOTLYENV.BASE_URL='https://plot.ly';\n",
       "                    \n",
       "                if (document.getElementById(\"ab7cfbcd-ca1a-4701-a495-fb9bb81bfb9a\")) {\n",
       "                    Plotly.newPlot(\n",
       "                        'ab7cfbcd-ca1a-4701-a495-fb9bb81bfb9a',\n",
       "                        [{\"marker\": {\"color\": \"rgba(255, 153, 51, 0.6)\", \"line\": {\"color\": \"rgba(255, 153, 51, 1.0)\", \"width\": 1}}, \"name\": \"None\", \"orientation\": \"v\", \"text\": \"\", \"type\": \"bar\", \"x\": [\"A\", \"B\", \"C\", \"D\"], \"y\": [100, 100, 100, 100]}],\n",
       "                        {\"legend\": {\"bgcolor\": \"#F5F6F9\", \"font\": {\"color\": \"#4D5663\"}}, \"paper_bgcolor\": \"#F5F6F9\", \"plot_bgcolor\": \"#F5F6F9\", \"template\": {\"data\": {\"bar\": [{\"error_x\": {\"color\": \"#2a3f5f\"}, \"error_y\": {\"color\": \"#2a3f5f\"}, \"marker\": {\"line\": {\"color\": \"#E5ECF6\", \"width\": 0.5}}, \"type\": \"bar\"}], \"barpolar\": [{\"marker\": {\"line\": {\"color\": \"#E5ECF6\", \"width\": 0.5}}, \"type\": \"barpolar\"}], \"carpet\": [{\"aaxis\": {\"endlinecolor\": \"#2a3f5f\", \"gridcolor\": \"white\", \"linecolor\": \"white\", \"minorgridcolor\": \"white\", \"startlinecolor\": \"#2a3f5f\"}, \"baxis\": {\"endlinecolor\": \"#2a3f5f\", \"gridcolor\": \"white\", \"linecolor\": \"white\", \"minorgridcolor\": \"white\", \"startlinecolor\": \"#2a3f5f\"}, \"type\": \"carpet\"}], \"choropleth\": [{\"colorbar\": {\"outlinewidth\": 0, \"ticks\": \"\"}, \"type\": \"choropleth\"}], \"contour\": [{\"colorbar\": {\"outlinewidth\": 0, \"ticks\": \"\"}, \"colorscale\": [[0.0, \"#0d0887\"], [0.1111111111111111, \"#46039f\"], [0.2222222222222222, \"#7201a8\"], [0.3333333333333333, \"#9c179e\"], [0.4444444444444444, \"#bd3786\"], [0.5555555555555556, \"#d8576b\"], [0.6666666666666666, \"#ed7953\"], [0.7777777777777778, \"#fb9f3a\"], [0.8888888888888888, \"#fdca26\"], [1.0, \"#f0f921\"]], \"type\": \"contour\"}], \"contourcarpet\": [{\"colorbar\": {\"outlinewidth\": 0, \"ticks\": \"\"}, \"type\": \"contourcarpet\"}], \"heatmap\": [{\"colorbar\": {\"outlinewidth\": 0, \"ticks\": \"\"}, \"colorscale\": [[0.0, \"#0d0887\"], [0.1111111111111111, \"#46039f\"], [0.2222222222222222, \"#7201a8\"], [0.3333333333333333, \"#9c179e\"], [0.4444444444444444, \"#bd3786\"], [0.5555555555555556, \"#d8576b\"], [0.6666666666666666, \"#ed7953\"], [0.7777777777777778, \"#fb9f3a\"], [0.8888888888888888, \"#fdca26\"], [1.0, \"#f0f921\"]], \"type\": \"heatmap\"}], \"heatmapgl\": [{\"colorbar\": {\"outlinewidth\": 0, \"ticks\": \"\"}, \"colorscale\": [[0.0, \"#0d0887\"], [0.1111111111111111, \"#46039f\"], [0.2222222222222222, \"#7201a8\"], [0.3333333333333333, \"#9c179e\"], [0.4444444444444444, \"#bd3786\"], [0.5555555555555556, \"#d8576b\"], [0.6666666666666666, \"#ed7953\"], [0.7777777777777778, \"#fb9f3a\"], [0.8888888888888888, \"#fdca26\"], [1.0, \"#f0f921\"]], \"type\": \"heatmapgl\"}], \"histogram\": [{\"marker\": {\"colorbar\": {\"outlinewidth\": 0, \"ticks\": \"\"}}, \"type\": \"histogram\"}], \"histogram2d\": [{\"colorbar\": {\"outlinewidth\": 0, \"ticks\": \"\"}, \"colorscale\": [[0.0, \"#0d0887\"], [0.1111111111111111, \"#46039f\"], [0.2222222222222222, \"#7201a8\"], [0.3333333333333333, \"#9c179e\"], [0.4444444444444444, \"#bd3786\"], [0.5555555555555556, \"#d8576b\"], [0.6666666666666666, \"#ed7953\"], [0.7777777777777778, \"#fb9f3a\"], [0.8888888888888888, \"#fdca26\"], [1.0, \"#f0f921\"]], \"type\": \"histogram2d\"}], \"histogram2dcontour\": [{\"colorbar\": {\"outlinewidth\": 0, \"ticks\": \"\"}, \"colorscale\": [[0.0, \"#0d0887\"], [0.1111111111111111, \"#46039f\"], [0.2222222222222222, \"#7201a8\"], [0.3333333333333333, \"#9c179e\"], [0.4444444444444444, \"#bd3786\"], [0.5555555555555556, \"#d8576b\"], [0.6666666666666666, \"#ed7953\"], [0.7777777777777778, \"#fb9f3a\"], [0.8888888888888888, \"#fdca26\"], [1.0, \"#f0f921\"]], \"type\": \"histogram2dcontour\"}], \"mesh3d\": [{\"colorbar\": {\"outlinewidth\": 0, \"ticks\": \"\"}, \"type\": \"mesh3d\"}], \"parcoords\": [{\"line\": {\"colorbar\": {\"outlinewidth\": 0, \"ticks\": \"\"}}, \"type\": \"parcoords\"}], \"pie\": [{\"automargin\": true, \"type\": \"pie\"}], \"scatter\": [{\"marker\": {\"colorbar\": {\"outlinewidth\": 0, \"ticks\": \"\"}}, \"type\": \"scatter\"}], \"scatter3d\": [{\"line\": {\"colorbar\": {\"outlinewidth\": 0, \"ticks\": \"\"}}, \"marker\": {\"colorbar\": {\"outlinewidth\": 0, \"ticks\": \"\"}}, \"type\": \"scatter3d\"}], \"scattercarpet\": [{\"marker\": {\"colorbar\": {\"outlinewidth\": 0, \"ticks\": \"\"}}, \"type\": \"scattercarpet\"}], \"scattergeo\": [{\"marker\": {\"colorbar\": {\"outlinewidth\": 0, \"ticks\": \"\"}}, \"type\": \"scattergeo\"}], \"scattergl\": [{\"marker\": {\"colorbar\": {\"outlinewidth\": 0, \"ticks\": \"\"}}, \"type\": \"scattergl\"}], \"scattermapbox\": [{\"marker\": {\"colorbar\": {\"outlinewidth\": 0, \"ticks\": \"\"}}, \"type\": \"scattermapbox\"}], \"scatterpolar\": [{\"marker\": {\"colorbar\": {\"outlinewidth\": 0, \"ticks\": \"\"}}, \"type\": \"scatterpolar\"}], \"scatterpolargl\": [{\"marker\": {\"colorbar\": {\"outlinewidth\": 0, \"ticks\": \"\"}}, \"type\": \"scatterpolargl\"}], \"scatterternary\": [{\"marker\": {\"colorbar\": {\"outlinewidth\": 0, \"ticks\": \"\"}}, \"type\": \"scatterternary\"}], \"surface\": [{\"colorbar\": {\"outlinewidth\": 0, \"ticks\": \"\"}, \"colorscale\": [[0.0, \"#0d0887\"], [0.1111111111111111, \"#46039f\"], [0.2222222222222222, \"#7201a8\"], [0.3333333333333333, \"#9c179e\"], [0.4444444444444444, \"#bd3786\"], [0.5555555555555556, \"#d8576b\"], [0.6666666666666666, \"#ed7953\"], [0.7777777777777778, \"#fb9f3a\"], [0.8888888888888888, \"#fdca26\"], [1.0, \"#f0f921\"]], \"type\": \"surface\"}], \"table\": [{\"cells\": {\"fill\": {\"color\": \"#EBF0F8\"}, \"line\": {\"color\": \"white\"}}, \"header\": {\"fill\": {\"color\": \"#C8D4E3\"}, \"line\": {\"color\": \"white\"}}, \"type\": \"table\"}]}, \"layout\": {\"annotationdefaults\": {\"arrowcolor\": \"#2a3f5f\", \"arrowhead\": 0, \"arrowwidth\": 1}, \"coloraxis\": {\"colorbar\": {\"outlinewidth\": 0, \"ticks\": \"\"}}, \"colorscale\": {\"diverging\": [[0, \"#8e0152\"], [0.1, \"#c51b7d\"], [0.2, \"#de77ae\"], [0.3, \"#f1b6da\"], [0.4, \"#fde0ef\"], [0.5, \"#f7f7f7\"], [0.6, \"#e6f5d0\"], [0.7, \"#b8e186\"], [0.8, \"#7fbc41\"], [0.9, \"#4d9221\"], [1, \"#276419\"]], \"sequential\": [[0.0, \"#0d0887\"], [0.1111111111111111, \"#46039f\"], [0.2222222222222222, \"#7201a8\"], [0.3333333333333333, \"#9c179e\"], [0.4444444444444444, \"#bd3786\"], [0.5555555555555556, \"#d8576b\"], [0.6666666666666666, \"#ed7953\"], [0.7777777777777778, \"#fb9f3a\"], [0.8888888888888888, \"#fdca26\"], [1.0, \"#f0f921\"]], \"sequentialminus\": [[0.0, \"#0d0887\"], [0.1111111111111111, \"#46039f\"], [0.2222222222222222, \"#7201a8\"], [0.3333333333333333, \"#9c179e\"], [0.4444444444444444, \"#bd3786\"], [0.5555555555555556, \"#d8576b\"], [0.6666666666666666, \"#ed7953\"], [0.7777777777777778, \"#fb9f3a\"], [0.8888888888888888, \"#fdca26\"], [1.0, \"#f0f921\"]]}, \"colorway\": [\"#636efa\", \"#EF553B\", \"#00cc96\", \"#ab63fa\", \"#FFA15A\", \"#19d3f3\", \"#FF6692\", \"#B6E880\", \"#FF97FF\", \"#FECB52\"], \"font\": {\"color\": \"#2a3f5f\"}, \"geo\": {\"bgcolor\": \"white\", \"lakecolor\": \"white\", \"landcolor\": \"#E5ECF6\", \"showlakes\": true, \"showland\": true, \"subunitcolor\": \"white\"}, \"hoverlabel\": {\"align\": \"left\"}, \"hovermode\": \"closest\", \"mapbox\": {\"style\": \"light\"}, \"paper_bgcolor\": \"white\", \"plot_bgcolor\": \"#E5ECF6\", \"polar\": {\"angularaxis\": {\"gridcolor\": \"white\", \"linecolor\": \"white\", \"ticks\": \"\"}, \"bgcolor\": \"#E5ECF6\", \"radialaxis\": {\"gridcolor\": \"white\", \"linecolor\": \"white\", \"ticks\": \"\"}}, \"scene\": {\"xaxis\": {\"backgroundcolor\": \"#E5ECF6\", \"gridcolor\": \"white\", \"gridwidth\": 2, \"linecolor\": \"white\", \"showbackground\": true, \"ticks\": \"\", \"zerolinecolor\": \"white\"}, \"yaxis\": {\"backgroundcolor\": \"#E5ECF6\", \"gridcolor\": \"white\", \"gridwidth\": 2, \"linecolor\": \"white\", \"showbackground\": true, \"ticks\": \"\", \"zerolinecolor\": \"white\"}, \"zaxis\": {\"backgroundcolor\": \"#E5ECF6\", \"gridcolor\": \"white\", \"gridwidth\": 2, \"linecolor\": \"white\", \"showbackground\": true, \"ticks\": \"\", \"zerolinecolor\": \"white\"}}, \"shapedefaults\": {\"line\": {\"color\": \"#2a3f5f\"}}, \"ternary\": {\"aaxis\": {\"gridcolor\": \"white\", \"linecolor\": \"white\", \"ticks\": \"\"}, \"baxis\": {\"gridcolor\": \"white\", \"linecolor\": \"white\", \"ticks\": \"\"}, \"bgcolor\": \"#E5ECF6\", \"caxis\": {\"gridcolor\": \"white\", \"linecolor\": \"white\", \"ticks\": \"\"}}, \"title\": {\"x\": 0.05}, \"xaxis\": {\"automargin\": true, \"gridcolor\": \"white\", \"linecolor\": \"white\", \"ticks\": \"\", \"title\": {\"standoff\": 15}, \"zerolinecolor\": \"white\", \"zerolinewidth\": 2}, \"yaxis\": {\"automargin\": true, \"gridcolor\": \"white\", \"linecolor\": \"white\", \"ticks\": \"\", \"title\": {\"standoff\": 15}, \"zerolinecolor\": \"white\", \"zerolinewidth\": 2}}}, \"title\": {\"font\": {\"color\": \"#4D5663\"}}, \"xaxis\": {\"gridcolor\": \"#E1E5ED\", \"showgrid\": true, \"tickfont\": {\"color\": \"#4D5663\"}, \"title\": {\"font\": {\"color\": \"#4D5663\"}, \"text\": \"\"}, \"zerolinecolor\": \"#E1E5ED\"}, \"yaxis\": {\"gridcolor\": \"#E1E5ED\", \"showgrid\": true, \"tickfont\": {\"color\": \"#4D5663\"}, \"title\": {\"font\": {\"color\": \"#4D5663\"}, \"text\": \"\"}, \"zerolinecolor\": \"#E1E5ED\"}},\n",
       "                        {\"showLink\": true, \"linkText\": \"Export to plot.ly\", \"plotlyServerURL\": \"https://plot.ly\", \"responsive\": true}\n",
       "                    ).then(function(){\n",
       "                            \n",
       "var gd = document.getElementById('ab7cfbcd-ca1a-4701-a495-fb9bb81bfb9a');\n",
       "var x = new MutationObserver(function (mutations, observer) {{\n",
       "        var display = window.getComputedStyle(gd).display;\n",
       "        if (!display || display === 'none') {{\n",
       "            console.log([gd, 'removed!']);\n",
       "            Plotly.purge(gd);\n",
       "            observer.disconnect();\n",
       "        }}\n",
       "}});\n",
       "\n",
       "// Listen for the removal of the full notebook cells\n",
       "var notebookContainer = gd.closest('#notebook-container');\n",
       "if (notebookContainer) {{\n",
       "    x.observe(notebookContainer, {childList: true});\n",
       "}}\n",
       "\n",
       "// Listen for the clearing of the current output cell\n",
       "var outputEl = gd.closest('.output');\n",
       "if (outputEl) {{\n",
       "    x.observe(outputEl, {childList: true});\n",
       "}}\n",
       "\n",
       "                        })\n",
       "                };\n",
       "                });\n",
       "            </script>\n",
       "        </div>"
      ]
     },
     "metadata": {},
     "output_type": "display_data"
    }
   ],
   "source": [
    "df.count().iplot(kind='bar')"
   ]
  },
  {
   "cell_type": "code",
   "execution_count": 25,
   "metadata": {},
   "outputs": [
    {
     "data": {
      "application/vnd.plotly.v1+json": {
       "config": {
        "linkText": "Export to plot.ly",
        "plotlyServerURL": "https://plot.ly",
        "showLink": true
       },
       "data": [
        {
         "boxpoints": false,
         "line": {
          "width": 1.3
         },
         "marker": {
          "color": "rgba(255, 153, 51, 1.0)"
         },
         "name": "A",
         "orientation": "v",
         "type": "box",
         "y": [
          -0.045220991541672514,
          0.6780430845497113,
          1.0057065998631551,
          -0.9728874120987261,
          -0.1429232842760107,
          1.2921833308681698,
          0.16399911560590277,
          0.5864133066083158,
          0.005048291501591372,
          0.18320948521328073,
          -2.49509747225579,
          1.3256859636637544,
          -1.6793176056440045,
          1.2723860638991833,
          1.578103990878968,
          1.6643859249494612,
          -0.7935622243303689,
          1.4753187604179476,
          -0.5171412718010686,
          1.2361846435347696,
          1.704522844836798,
          0.8695553230428329,
          0.04824931042202152,
          -0.5596124096097523,
          -1.1327010356287375,
          -1.406914574214415,
          -0.2760296743683121,
          0.8499750408369918,
          0.2733027589733112,
          -0.9270609774179835,
          -0.11937096459563867,
          -1.6341734716797336,
          -0.41805224566733007,
          0.050751069046720734,
          -0.20458127481769103,
          -2.014914541732928,
          1.1293271143962424,
          -0.535345544707788,
          0.7205565368377175,
          0.4434882575852396,
          2.287900075088307,
          0.8593080673185117,
          -0.8474654655180363,
          0.5740891945961737,
          0.866934071277127,
          1.6599286334175802,
          1.1413585505968555,
          -0.12489284454263366,
          1.0077112317489567,
          -0.8015057558969182,
          0.06322142018660247,
          0.02030583905367841,
          1.310214444831818,
          0.3220132314938279,
          -1.7460855703860538,
          1.4814702223140728,
          -0.8035722883805491,
          -0.8977913265652391,
          0.4834089731976079,
          1.4171127102051564,
          1.4755906750430359,
          2.0461501156802657,
          1.8315708147771137,
          -0.7776544535304498,
          0.9212441621689802,
          -1.070857782437202,
          0.2665485378678139,
          -0.2375412783190445,
          0.12928115685388808,
          -1.5094640119124836,
          0.36096311670622444,
          0.3449732335562818,
          0.9268319900465413,
          -0.8784088858281468,
          0.35568448009216114,
          -0.08607414252524906,
          1.213447359424447,
          1.220582787720631,
          -1.5714006178028541,
          0.3772038547775565,
          0.1836811429063996,
          0.23643055367021165,
          -0.14944956474447565,
          1.2660528101080524,
          -0.5669141209856902,
          -0.061203227869747794,
          -1.0152345093451074,
          -0.06490705351212794,
          -0.0967940059628407,
          0.4630555535765282,
          -1.5499008045555307,
          0.3662054810766103,
          1.3967190454514729,
          -1.2459338585587063,
          -0.4192847012410866,
          -0.9966152679852247,
          -0.8929790395801137,
          -0.375225580512482,
          1.11697358465709,
          0.22825455583325077
         ]
        },
        {
         "boxpoints": false,
         "line": {
          "width": 1.3
         },
         "marker": {
          "color": "rgba(55, 128, 191, 1.0)"
         },
         "name": "B",
         "orientation": "v",
         "type": "box",
         "y": [
          -0.013295768492124153,
          -0.27074517491106564,
          -0.48041519701937146,
          -0.15747940179591474,
          0.2558515658031597,
          -0.15662119891997725,
          0.3479723140894033,
          -0.15084375498932429,
          0.06228336036949375,
          0.9736025112157594,
          0.5402519563550914,
          0.8682305950906869,
          -0.65170589410664,
          0.678613203133178,
          -0.057432097459745896,
          0.6932633553636146,
          -1.9939719746754565,
          -2.002802721971022,
          0.25746993202325685,
          0.4889548095852013,
          -0.7168527223620486,
          -1.2923706473113479,
          -0.6753735457834736,
          0.9202025865444132,
          1.4670937547148066,
          0.18474639375151114,
          1.5237228427501046,
          0.6555734068239183,
          -1.6536292861970667,
          0.04987606236109394,
          0.7564239173991238,
          -1.215415085919389,
          -0.6904670180577785,
          0.8332193013800037,
          0.062395229603287104,
          3.115989368570276,
          -1.0011794943455687,
          0.29053598685344056,
          -0.029260709986795252,
          -0.37251804313432424,
          0.48538385105860427,
          -0.833960660422719,
          0.12828209855485537,
          -0.36647237774781805,
          -0.2562272216832282,
          0.2689613943245282,
          0.039384657809476246,
          0.9003688284552946,
          -0.03498553399708273,
          0.03852162330557176,
          1.4029672622615341,
          0.4722881623952208,
          -0.655692389374444,
          0.35094145422495787,
          2.025198109041344,
          0.6214822754704921,
          0.6995612430798638,
          0.3730785899429117,
          0.602967469726209,
          0.04571784171804009,
          0.3266369638556332,
          -0.31846827964026114,
          0.15383690822073517,
          -0.338144285317204,
          1.884543871930759,
          0.40335856103092854,
          0.4150036654412097,
          1.487026005753503,
          0.12374285847035515,
          0.8366685261562422,
          0.5795360711488374,
          1.614778779962535,
          -1.5065686107987333,
          1.5592396986044814,
          -0.32329791999507934,
          -0.9318225839805766,
          -1.1578286591490894,
          -0.041709953393487105,
          2.337128989736377,
          -0.5557500637748092,
          -0.801289268411741,
          -0.9626995069095104,
          -0.4290769015529991,
          1.6348652562575745,
          0.7716484917337753,
          -1.505387304121753,
          -0.15247950644685498,
          2.0875013582731077,
          0.8138442069099916,
          -0.5980676063757108,
          -1.0733335543265496,
          -0.5453515556217455,
          0.27422936109205454,
          0.40974088231107303,
          0.5706700018492756,
          -1.9690048686611612,
          0.3942186062027898,
          1.0710514434878289,
          -0.5441656857116004,
          -0.26082261070316265
         ]
        },
        {
         "boxpoints": false,
         "line": {
          "width": 1.3
         },
         "marker": {
          "color": "rgba(50, 171, 96, 1.0)"
         },
         "name": "C",
         "orientation": "v",
         "type": "box",
         "y": [
          0.13873828079658243,
          0.004189153867128753,
          0.09682297277796335,
          -1.944173718156881,
          -1.509648123220136,
          -0.2562642772096215,
          1.1425384061525947,
          1.8381697029094315,
          -0.89523389287459,
          -0.11167869593903061,
          1.868391686565969,
          0.926008375873174,
          -0.5375160643538771,
          -2.21354100606647,
          0.13758441049616993,
          -1.6127200438386537,
          0.836629941326483,
          0.982639029672047,
          -1.4267965171737238,
          -0.7340729325482471,
          0.33979196381839,
          -0.0975870854132879,
          -0.6148688825087985,
          0.5147673433285442,
          -0.9481706485625584,
          -0.04271544928766234,
          1.3243642261933142,
          -0.8546463501044619,
          -0.599297728305147,
          0.04548785985911168,
          -0.4811079491622432,
          -1.774406825632185,
          -0.7702693340792561,
          -0.4748276882281734,
          0.9768466741741556,
          0.6901701186316009,
          -0.3163663233169675,
          0.21287078406361903,
          1.136115798865693,
          0.33720867240916724,
          1.033480878886706,
          -0.185564645796627,
          -0.10859162252684647,
          0.0011082298498769818,
          -1.1007152668847089,
          0.590790643787503,
          0.7924839944953712,
          1.1310755853681902,
          0.20678821376316955,
          0.24112123763139306,
          1.2357128959168289,
          -0.49945309036356245,
          -0.3438373786786498,
          -1.974197190227374,
          -0.17757562574931995,
          -1.477475520667104,
          -1.3876057638569905,
          0.7462505236735426,
          -0.8287043340198685,
          -0.3133316893236558,
          0.055715575088475404,
          -1.9505041054363514,
          -0.7276070321344944,
          -0.34043567190802565,
          0.606938441762185,
          1.3179143702571974,
          -0.7809922643385032,
          -0.32097787481639667,
          0.4256234210720113,
          -0.07335408475851667,
          0.3671507620785513,
          0.02747103411586101,
          -0.03694446480914026,
          1.3688673794512007,
          1.0148027798988821,
          -0.39597774323778956,
          0.5455817623527611,
          -1.1833906968924781,
          0.5047148544381632,
          -0.9086647103866449,
          -0.5041775256575728,
          -3.2175858667536223,
          -1.4626369755166713,
          -0.8760406447373471,
          -1.5329422094336318,
          -0.07856244032320203,
          0.7258509590435329,
          -0.7169536298739123,
          0.47821301919925535,
          -1.6070953362840454,
          0.18492608791772172,
          0.4831953421913388,
          -0.46527559209292835,
          -0.057744579710930236,
          2.0151435673920908,
          -1.202496502277343,
          1.1154447255484976,
          -1.8995728472275581,
          -0.07759942120844565,
          0.5096943059187304
         ]
        },
        {
         "boxpoints": false,
         "line": {
          "width": 1.3
         },
         "marker": {
          "color": "rgba(128, 0, 128, 1.0)"
         },
         "name": "D",
         "orientation": "v",
         "type": "box",
         "y": [
          -0.4337879491334362,
          0.7976012586008668,
          0.04679388847070139,
          0.8210509017025851,
          -0.47737624449913807,
          -2.7113749177309034,
          -0.3467805670259546,
          -0.9656770508426309,
          0.26838356597477203,
          1.111511291342199,
          -0.3724119499893848,
          -0.6879024860078657,
          0.12543381105475546,
          1.5141660057493092,
          0.0031518850461970446,
          -1.8862220831122953,
          -0.8366577378678488,
          0.24412695824901426,
          -0.29940606815106224,
          -1.108196501494843,
          -1.3682950024746594,
          -2.3631574734573317,
          -3.0855407392711185,
          -0.8490098793244223,
          -0.27307010329833803,
          -0.2364030920459769,
          0.6643850678309491,
          -0.3928846608662631,
          -1.1134663891849492,
          0.5259166824485958,
          1.2767655084421516,
          0.0354705094250525,
          -0.22469254344204675,
          1.6272211270560817,
          -0.414669543582508,
          0.7139322291458065,
          -2.470709743384897,
          1.5386164967793026,
          0.7160072919906816,
          0.1417813834395697,
          -0.4043862753593802,
          -1.8071493515932677,
          -1.3723541348893524,
          1.0948479544848693,
          0.9989596265551828,
          -0.6478008481453175,
          1.4124754326601883,
          0.4346882253946431,
          -0.7348738360323315,
          0.870683905831478,
          0.6579668551742296,
          -1.9940535889544115,
          -0.005078270571319728,
          1.3365837181328428,
          0.10899587834151302,
          0.9165248381194471,
          -0.6368591137339633,
          0.7119659996376386,
          0.986580694631742,
          0.416081849948451,
          0.5352805242252674,
          0.5208318750173206,
          0.9571424944340965,
          -0.3901599757044315,
          -1.1401073992251733,
          0.3340180184206363,
          0.7406991050707952,
          0.4647617310146391,
          1.2959649906828112,
          -0.47230962246013475,
          0.1567297692468287,
          -0.37393093428584573,
          1.2767768262192751,
          0.3461111052548227,
          -1.022476851684093,
          0.6349317486094176,
          -0.15101842538131852,
          0.033728646201024046,
          0.2667964330454267,
          1.0629785526860123,
          -1.0917878409952968,
          -0.3582307526329137,
          0.5524824823445418,
          -1.0013894542109176,
          -1.9607511780597788,
          -2.7722741185384954,
          0.01864704728907342,
          0.6571359736547979,
          1.7367344460001817,
          0.32949603949899275,
          0.42953810085154065,
          -0.6237116485501133,
          0.20610138838812966,
          1.1257106532373393,
          0.07309187136866693,
          0.1825421452130804,
          -1.410613394522949,
          0.32020366902474606,
          -0.1891096779802458,
          1.1968104396498749
         ]
        }
       ],
       "layout": {
        "legend": {
         "bgcolor": "#F5F6F9",
         "font": {
          "color": "#4D5663"
         }
        },
        "paper_bgcolor": "#F5F6F9",
        "plot_bgcolor": "#F5F6F9",
        "template": {
         "data": {
          "bar": [
           {
            "error_x": {
             "color": "#2a3f5f"
            },
            "error_y": {
             "color": "#2a3f5f"
            },
            "marker": {
             "line": {
              "color": "#E5ECF6",
              "width": 0.5
             }
            },
            "type": "bar"
           }
          ],
          "barpolar": [
           {
            "marker": {
             "line": {
              "color": "#E5ECF6",
              "width": 0.5
             }
            },
            "type": "barpolar"
           }
          ],
          "carpet": [
           {
            "aaxis": {
             "endlinecolor": "#2a3f5f",
             "gridcolor": "white",
             "linecolor": "white",
             "minorgridcolor": "white",
             "startlinecolor": "#2a3f5f"
            },
            "baxis": {
             "endlinecolor": "#2a3f5f",
             "gridcolor": "white",
             "linecolor": "white",
             "minorgridcolor": "white",
             "startlinecolor": "#2a3f5f"
            },
            "type": "carpet"
           }
          ],
          "choropleth": [
           {
            "colorbar": {
             "outlinewidth": 0,
             "ticks": ""
            },
            "type": "choropleth"
           }
          ],
          "contour": [
           {
            "colorbar": {
             "outlinewidth": 0,
             "ticks": ""
            },
            "colorscale": [
             [
              0,
              "#0d0887"
             ],
             [
              0.1111111111111111,
              "#46039f"
             ],
             [
              0.2222222222222222,
              "#7201a8"
             ],
             [
              0.3333333333333333,
              "#9c179e"
             ],
             [
              0.4444444444444444,
              "#bd3786"
             ],
             [
              0.5555555555555556,
              "#d8576b"
             ],
             [
              0.6666666666666666,
              "#ed7953"
             ],
             [
              0.7777777777777778,
              "#fb9f3a"
             ],
             [
              0.8888888888888888,
              "#fdca26"
             ],
             [
              1,
              "#f0f921"
             ]
            ],
            "type": "contour"
           }
          ],
          "contourcarpet": [
           {
            "colorbar": {
             "outlinewidth": 0,
             "ticks": ""
            },
            "type": "contourcarpet"
           }
          ],
          "heatmap": [
           {
            "colorbar": {
             "outlinewidth": 0,
             "ticks": ""
            },
            "colorscale": [
             [
              0,
              "#0d0887"
             ],
             [
              0.1111111111111111,
              "#46039f"
             ],
             [
              0.2222222222222222,
              "#7201a8"
             ],
             [
              0.3333333333333333,
              "#9c179e"
             ],
             [
              0.4444444444444444,
              "#bd3786"
             ],
             [
              0.5555555555555556,
              "#d8576b"
             ],
             [
              0.6666666666666666,
              "#ed7953"
             ],
             [
              0.7777777777777778,
              "#fb9f3a"
             ],
             [
              0.8888888888888888,
              "#fdca26"
             ],
             [
              1,
              "#f0f921"
             ]
            ],
            "type": "heatmap"
           }
          ],
          "heatmapgl": [
           {
            "colorbar": {
             "outlinewidth": 0,
             "ticks": ""
            },
            "colorscale": [
             [
              0,
              "#0d0887"
             ],
             [
              0.1111111111111111,
              "#46039f"
             ],
             [
              0.2222222222222222,
              "#7201a8"
             ],
             [
              0.3333333333333333,
              "#9c179e"
             ],
             [
              0.4444444444444444,
              "#bd3786"
             ],
             [
              0.5555555555555556,
              "#d8576b"
             ],
             [
              0.6666666666666666,
              "#ed7953"
             ],
             [
              0.7777777777777778,
              "#fb9f3a"
             ],
             [
              0.8888888888888888,
              "#fdca26"
             ],
             [
              1,
              "#f0f921"
             ]
            ],
            "type": "heatmapgl"
           }
          ],
          "histogram": [
           {
            "marker": {
             "colorbar": {
              "outlinewidth": 0,
              "ticks": ""
             }
            },
            "type": "histogram"
           }
          ],
          "histogram2d": [
           {
            "colorbar": {
             "outlinewidth": 0,
             "ticks": ""
            },
            "colorscale": [
             [
              0,
              "#0d0887"
             ],
             [
              0.1111111111111111,
              "#46039f"
             ],
             [
              0.2222222222222222,
              "#7201a8"
             ],
             [
              0.3333333333333333,
              "#9c179e"
             ],
             [
              0.4444444444444444,
              "#bd3786"
             ],
             [
              0.5555555555555556,
              "#d8576b"
             ],
             [
              0.6666666666666666,
              "#ed7953"
             ],
             [
              0.7777777777777778,
              "#fb9f3a"
             ],
             [
              0.8888888888888888,
              "#fdca26"
             ],
             [
              1,
              "#f0f921"
             ]
            ],
            "type": "histogram2d"
           }
          ],
          "histogram2dcontour": [
           {
            "colorbar": {
             "outlinewidth": 0,
             "ticks": ""
            },
            "colorscale": [
             [
              0,
              "#0d0887"
             ],
             [
              0.1111111111111111,
              "#46039f"
             ],
             [
              0.2222222222222222,
              "#7201a8"
             ],
             [
              0.3333333333333333,
              "#9c179e"
             ],
             [
              0.4444444444444444,
              "#bd3786"
             ],
             [
              0.5555555555555556,
              "#d8576b"
             ],
             [
              0.6666666666666666,
              "#ed7953"
             ],
             [
              0.7777777777777778,
              "#fb9f3a"
             ],
             [
              0.8888888888888888,
              "#fdca26"
             ],
             [
              1,
              "#f0f921"
             ]
            ],
            "type": "histogram2dcontour"
           }
          ],
          "mesh3d": [
           {
            "colorbar": {
             "outlinewidth": 0,
             "ticks": ""
            },
            "type": "mesh3d"
           }
          ],
          "parcoords": [
           {
            "line": {
             "colorbar": {
              "outlinewidth": 0,
              "ticks": ""
             }
            },
            "type": "parcoords"
           }
          ],
          "pie": [
           {
            "automargin": true,
            "type": "pie"
           }
          ],
          "scatter": [
           {
            "marker": {
             "colorbar": {
              "outlinewidth": 0,
              "ticks": ""
             }
            },
            "type": "scatter"
           }
          ],
          "scatter3d": [
           {
            "line": {
             "colorbar": {
              "outlinewidth": 0,
              "ticks": ""
             }
            },
            "marker": {
             "colorbar": {
              "outlinewidth": 0,
              "ticks": ""
             }
            },
            "type": "scatter3d"
           }
          ],
          "scattercarpet": [
           {
            "marker": {
             "colorbar": {
              "outlinewidth": 0,
              "ticks": ""
             }
            },
            "type": "scattercarpet"
           }
          ],
          "scattergeo": [
           {
            "marker": {
             "colorbar": {
              "outlinewidth": 0,
              "ticks": ""
             }
            },
            "type": "scattergeo"
           }
          ],
          "scattergl": [
           {
            "marker": {
             "colorbar": {
              "outlinewidth": 0,
              "ticks": ""
             }
            },
            "type": "scattergl"
           }
          ],
          "scattermapbox": [
           {
            "marker": {
             "colorbar": {
              "outlinewidth": 0,
              "ticks": ""
             }
            },
            "type": "scattermapbox"
           }
          ],
          "scatterpolar": [
           {
            "marker": {
             "colorbar": {
              "outlinewidth": 0,
              "ticks": ""
             }
            },
            "type": "scatterpolar"
           }
          ],
          "scatterpolargl": [
           {
            "marker": {
             "colorbar": {
              "outlinewidth": 0,
              "ticks": ""
             }
            },
            "type": "scatterpolargl"
           }
          ],
          "scatterternary": [
           {
            "marker": {
             "colorbar": {
              "outlinewidth": 0,
              "ticks": ""
             }
            },
            "type": "scatterternary"
           }
          ],
          "surface": [
           {
            "colorbar": {
             "outlinewidth": 0,
             "ticks": ""
            },
            "colorscale": [
             [
              0,
              "#0d0887"
             ],
             [
              0.1111111111111111,
              "#46039f"
             ],
             [
              0.2222222222222222,
              "#7201a8"
             ],
             [
              0.3333333333333333,
              "#9c179e"
             ],
             [
              0.4444444444444444,
              "#bd3786"
             ],
             [
              0.5555555555555556,
              "#d8576b"
             ],
             [
              0.6666666666666666,
              "#ed7953"
             ],
             [
              0.7777777777777778,
              "#fb9f3a"
             ],
             [
              0.8888888888888888,
              "#fdca26"
             ],
             [
              1,
              "#f0f921"
             ]
            ],
            "type": "surface"
           }
          ],
          "table": [
           {
            "cells": {
             "fill": {
              "color": "#EBF0F8"
             },
             "line": {
              "color": "white"
             }
            },
            "header": {
             "fill": {
              "color": "#C8D4E3"
             },
             "line": {
              "color": "white"
             }
            },
            "type": "table"
           }
          ]
         },
         "layout": {
          "annotationdefaults": {
           "arrowcolor": "#2a3f5f",
           "arrowhead": 0,
           "arrowwidth": 1
          },
          "coloraxis": {
           "colorbar": {
            "outlinewidth": 0,
            "ticks": ""
           }
          },
          "colorscale": {
           "diverging": [
            [
             0,
             "#8e0152"
            ],
            [
             0.1,
             "#c51b7d"
            ],
            [
             0.2,
             "#de77ae"
            ],
            [
             0.3,
             "#f1b6da"
            ],
            [
             0.4,
             "#fde0ef"
            ],
            [
             0.5,
             "#f7f7f7"
            ],
            [
             0.6,
             "#e6f5d0"
            ],
            [
             0.7,
             "#b8e186"
            ],
            [
             0.8,
             "#7fbc41"
            ],
            [
             0.9,
             "#4d9221"
            ],
            [
             1,
             "#276419"
            ]
           ],
           "sequential": [
            [
             0,
             "#0d0887"
            ],
            [
             0.1111111111111111,
             "#46039f"
            ],
            [
             0.2222222222222222,
             "#7201a8"
            ],
            [
             0.3333333333333333,
             "#9c179e"
            ],
            [
             0.4444444444444444,
             "#bd3786"
            ],
            [
             0.5555555555555556,
             "#d8576b"
            ],
            [
             0.6666666666666666,
             "#ed7953"
            ],
            [
             0.7777777777777778,
             "#fb9f3a"
            ],
            [
             0.8888888888888888,
             "#fdca26"
            ],
            [
             1,
             "#f0f921"
            ]
           ],
           "sequentialminus": [
            [
             0,
             "#0d0887"
            ],
            [
             0.1111111111111111,
             "#46039f"
            ],
            [
             0.2222222222222222,
             "#7201a8"
            ],
            [
             0.3333333333333333,
             "#9c179e"
            ],
            [
             0.4444444444444444,
             "#bd3786"
            ],
            [
             0.5555555555555556,
             "#d8576b"
            ],
            [
             0.6666666666666666,
             "#ed7953"
            ],
            [
             0.7777777777777778,
             "#fb9f3a"
            ],
            [
             0.8888888888888888,
             "#fdca26"
            ],
            [
             1,
             "#f0f921"
            ]
           ]
          },
          "colorway": [
           "#636efa",
           "#EF553B",
           "#00cc96",
           "#ab63fa",
           "#FFA15A",
           "#19d3f3",
           "#FF6692",
           "#B6E880",
           "#FF97FF",
           "#FECB52"
          ],
          "font": {
           "color": "#2a3f5f"
          },
          "geo": {
           "bgcolor": "white",
           "lakecolor": "white",
           "landcolor": "#E5ECF6",
           "showlakes": true,
           "showland": true,
           "subunitcolor": "white"
          },
          "hoverlabel": {
           "align": "left"
          },
          "hovermode": "closest",
          "mapbox": {
           "style": "light"
          },
          "paper_bgcolor": "white",
          "plot_bgcolor": "#E5ECF6",
          "polar": {
           "angularaxis": {
            "gridcolor": "white",
            "linecolor": "white",
            "ticks": ""
           },
           "bgcolor": "#E5ECF6",
           "radialaxis": {
            "gridcolor": "white",
            "linecolor": "white",
            "ticks": ""
           }
          },
          "scene": {
           "xaxis": {
            "backgroundcolor": "#E5ECF6",
            "gridcolor": "white",
            "gridwidth": 2,
            "linecolor": "white",
            "showbackground": true,
            "ticks": "",
            "zerolinecolor": "white"
           },
           "yaxis": {
            "backgroundcolor": "#E5ECF6",
            "gridcolor": "white",
            "gridwidth": 2,
            "linecolor": "white",
            "showbackground": true,
            "ticks": "",
            "zerolinecolor": "white"
           },
           "zaxis": {
            "backgroundcolor": "#E5ECF6",
            "gridcolor": "white",
            "gridwidth": 2,
            "linecolor": "white",
            "showbackground": true,
            "ticks": "",
            "zerolinecolor": "white"
           }
          },
          "shapedefaults": {
           "line": {
            "color": "#2a3f5f"
           }
          },
          "ternary": {
           "aaxis": {
            "gridcolor": "white",
            "linecolor": "white",
            "ticks": ""
           },
           "baxis": {
            "gridcolor": "white",
            "linecolor": "white",
            "ticks": ""
           },
           "bgcolor": "#E5ECF6",
           "caxis": {
            "gridcolor": "white",
            "linecolor": "white",
            "ticks": ""
           }
          },
          "title": {
           "x": 0.05
          },
          "xaxis": {
           "automargin": true,
           "gridcolor": "white",
           "linecolor": "white",
           "ticks": "",
           "title": {
            "standoff": 15
           },
           "zerolinecolor": "white",
           "zerolinewidth": 2
          },
          "yaxis": {
           "automargin": true,
           "gridcolor": "white",
           "linecolor": "white",
           "ticks": "",
           "title": {
            "standoff": 15
           },
           "zerolinecolor": "white",
           "zerolinewidth": 2
          }
         }
        },
        "title": {
         "font": {
          "color": "#4D5663"
         }
        },
        "xaxis": {
         "gridcolor": "#E1E5ED",
         "showgrid": true,
         "tickfont": {
          "color": "#4D5663"
         },
         "title": {
          "font": {
           "color": "#4D5663"
          },
          "text": ""
         },
         "zerolinecolor": "#E1E5ED"
        },
        "yaxis": {
         "gridcolor": "#E1E5ED",
         "showgrid": true,
         "tickfont": {
          "color": "#4D5663"
         },
         "title": {
          "font": {
           "color": "#4D5663"
          },
          "text": ""
         },
         "zerolinecolor": "#E1E5ED"
        }
       }
      },
      "text/html": [
       "<div>\n",
       "        \n",
       "        \n",
       "            <div id=\"d0cce046-d7a1-4fb6-8bf1-2ca24dafebf1\" class=\"plotly-graph-div\" style=\"height:525px; width:100%;\"></div>\n",
       "            <script type=\"text/javascript\">\n",
       "                require([\"plotly\"], function(Plotly) {\n",
       "                    window.PLOTLYENV=window.PLOTLYENV || {};\n",
       "                    window.PLOTLYENV.BASE_URL='https://plot.ly';\n",
       "                    \n",
       "                if (document.getElementById(\"d0cce046-d7a1-4fb6-8bf1-2ca24dafebf1\")) {\n",
       "                    Plotly.newPlot(\n",
       "                        'd0cce046-d7a1-4fb6-8bf1-2ca24dafebf1',\n",
       "                        [{\"boxpoints\": false, \"line\": {\"width\": 1.3}, \"marker\": {\"color\": \"rgba(255, 153, 51, 1.0)\"}, \"name\": \"A\", \"orientation\": \"v\", \"type\": \"box\", \"y\": [-0.045220991541672514, 0.6780430845497113, 1.0057065998631551, -0.9728874120987261, -0.1429232842760107, 1.2921833308681698, 0.16399911560590277, 0.5864133066083158, 0.005048291501591372, 0.18320948521328073, -2.49509747225579, 1.3256859636637544, -1.6793176056440045, 1.2723860638991833, 1.578103990878968, 1.6643859249494612, -0.7935622243303689, 1.4753187604179476, -0.5171412718010686, 1.2361846435347696, 1.704522844836798, 0.8695553230428329, 0.04824931042202152, -0.5596124096097523, -1.1327010356287375, -1.406914574214415, -0.2760296743683121, 0.8499750408369918, 0.2733027589733112, -0.9270609774179835, -0.11937096459563867, -1.6341734716797336, -0.41805224566733007, 0.050751069046720734, -0.20458127481769103, -2.014914541732928, 1.1293271143962424, -0.535345544707788, 0.7205565368377175, 0.4434882575852396, 2.287900075088307, 0.8593080673185117, -0.8474654655180363, 0.5740891945961737, 0.866934071277127, 1.6599286334175802, 1.1413585505968555, -0.12489284454263366, 1.0077112317489567, -0.8015057558969182, 0.06322142018660247, 0.02030583905367841, 1.310214444831818, 0.3220132314938279, -1.7460855703860538, 1.4814702223140728, -0.8035722883805491, -0.8977913265652391, 0.4834089731976079, 1.4171127102051564, 1.4755906750430359, 2.0461501156802657, 1.8315708147771137, -0.7776544535304498, 0.9212441621689802, -1.070857782437202, 0.2665485378678139, -0.2375412783190445, 0.12928115685388808, -1.5094640119124836, 0.36096311670622444, 0.3449732335562818, 0.9268319900465413, -0.8784088858281468, 0.35568448009216114, -0.08607414252524906, 1.213447359424447, 1.220582787720631, -1.5714006178028541, 0.3772038547775565, 0.1836811429063996, 0.23643055367021165, -0.14944956474447565, 1.2660528101080524, -0.5669141209856902, -0.061203227869747794, -1.0152345093451074, -0.06490705351212794, -0.0967940059628407, 0.4630555535765282, -1.5499008045555307, 0.3662054810766103, 1.3967190454514729, -1.2459338585587063, -0.4192847012410866, -0.9966152679852247, -0.8929790395801137, -0.375225580512482, 1.11697358465709, 0.22825455583325077]}, {\"boxpoints\": false, \"line\": {\"width\": 1.3}, \"marker\": {\"color\": \"rgba(55, 128, 191, 1.0)\"}, \"name\": \"B\", \"orientation\": \"v\", \"type\": \"box\", \"y\": [-0.013295768492124153, -0.27074517491106564, -0.48041519701937146, -0.15747940179591474, 0.2558515658031597, -0.15662119891997725, 0.3479723140894033, -0.15084375498932429, 0.06228336036949375, 0.9736025112157594, 0.5402519563550914, 0.8682305950906869, -0.65170589410664, 0.678613203133178, -0.057432097459745896, 0.6932633553636146, -1.9939719746754565, -2.002802721971022, 0.25746993202325685, 0.4889548095852013, -0.7168527223620486, -1.2923706473113479, -0.6753735457834736, 0.9202025865444132, 1.4670937547148066, 0.18474639375151114, 1.5237228427501046, 0.6555734068239183, -1.6536292861970667, 0.04987606236109394, 0.7564239173991238, -1.215415085919389, -0.6904670180577785, 0.8332193013800037, 0.062395229603287104, 3.115989368570276, -1.0011794943455687, 0.29053598685344056, -0.029260709986795252, -0.37251804313432424, 0.48538385105860427, -0.833960660422719, 0.12828209855485537, -0.36647237774781805, -0.2562272216832282, 0.2689613943245282, 0.039384657809476246, 0.9003688284552946, -0.03498553399708273, 0.03852162330557176, 1.4029672622615341, 0.4722881623952208, -0.655692389374444, 0.35094145422495787, 2.025198109041344, 0.6214822754704921, 0.6995612430798638, 0.3730785899429117, 0.602967469726209, 0.04571784171804009, 0.3266369638556332, -0.31846827964026114, 0.15383690822073517, -0.338144285317204, 1.884543871930759, 0.40335856103092854, 0.4150036654412097, 1.487026005753503, 0.12374285847035515, 0.8366685261562422, 0.5795360711488374, 1.614778779962535, -1.5065686107987333, 1.5592396986044814, -0.32329791999507934, -0.9318225839805766, -1.1578286591490894, -0.041709953393487105, 2.337128989736377, -0.5557500637748092, -0.801289268411741, -0.9626995069095104, -0.4290769015529991, 1.6348652562575745, 0.7716484917337753, -1.505387304121753, -0.15247950644685498, 2.0875013582731077, 0.8138442069099916, -0.5980676063757108, -1.0733335543265496, -0.5453515556217455, 0.27422936109205454, 0.40974088231107303, 0.5706700018492756, -1.9690048686611612, 0.3942186062027898, 1.0710514434878289, -0.5441656857116004, -0.26082261070316265]}, {\"boxpoints\": false, \"line\": {\"width\": 1.3}, \"marker\": {\"color\": \"rgba(50, 171, 96, 1.0)\"}, \"name\": \"C\", \"orientation\": \"v\", \"type\": \"box\", \"y\": [0.13873828079658243, 0.004189153867128753, 0.09682297277796335, -1.944173718156881, -1.509648123220136, -0.2562642772096215, 1.1425384061525947, 1.8381697029094315, -0.89523389287459, -0.11167869593903061, 1.868391686565969, 0.926008375873174, -0.5375160643538771, -2.21354100606647, 0.13758441049616993, -1.6127200438386537, 0.836629941326483, 0.982639029672047, -1.4267965171737238, -0.7340729325482471, 0.33979196381839, -0.0975870854132879, -0.6148688825087985, 0.5147673433285442, -0.9481706485625584, -0.04271544928766234, 1.3243642261933142, -0.8546463501044619, -0.599297728305147, 0.04548785985911168, -0.4811079491622432, -1.774406825632185, -0.7702693340792561, -0.4748276882281734, 0.9768466741741556, 0.6901701186316009, -0.3163663233169675, 0.21287078406361903, 1.136115798865693, 0.33720867240916724, 1.033480878886706, -0.185564645796627, -0.10859162252684647, 0.0011082298498769818, -1.1007152668847089, 0.590790643787503, 0.7924839944953712, 1.1310755853681902, 0.20678821376316955, 0.24112123763139306, 1.2357128959168289, -0.49945309036356245, -0.3438373786786498, -1.974197190227374, -0.17757562574931995, -1.477475520667104, -1.3876057638569905, 0.7462505236735426, -0.8287043340198685, -0.3133316893236558, 0.055715575088475404, -1.9505041054363514, -0.7276070321344944, -0.34043567190802565, 0.606938441762185, 1.3179143702571974, -0.7809922643385032, -0.32097787481639667, 0.4256234210720113, -0.07335408475851667, 0.3671507620785513, 0.02747103411586101, -0.03694446480914026, 1.3688673794512007, 1.0148027798988821, -0.39597774323778956, 0.5455817623527611, -1.1833906968924781, 0.5047148544381632, -0.9086647103866449, -0.5041775256575728, -3.2175858667536223, -1.4626369755166713, -0.8760406447373471, -1.5329422094336318, -0.07856244032320203, 0.7258509590435329, -0.7169536298739123, 0.47821301919925535, -1.6070953362840454, 0.18492608791772172, 0.4831953421913388, -0.46527559209292835, -0.057744579710930236, 2.0151435673920908, -1.202496502277343, 1.1154447255484976, -1.8995728472275581, -0.07759942120844565, 0.5096943059187304]}, {\"boxpoints\": false, \"line\": {\"width\": 1.3}, \"marker\": {\"color\": \"rgba(128, 0, 128, 1.0)\"}, \"name\": \"D\", \"orientation\": \"v\", \"type\": \"box\", \"y\": [-0.4337879491334362, 0.7976012586008668, 0.04679388847070139, 0.8210509017025851, -0.47737624449913807, -2.7113749177309034, -0.3467805670259546, -0.9656770508426309, 0.26838356597477203, 1.111511291342199, -0.3724119499893848, -0.6879024860078657, 0.12543381105475546, 1.5141660057493092, 0.0031518850461970446, -1.8862220831122953, -0.8366577378678488, 0.24412695824901426, -0.29940606815106224, -1.108196501494843, -1.3682950024746594, -2.3631574734573317, -3.0855407392711185, -0.8490098793244223, -0.27307010329833803, -0.2364030920459769, 0.6643850678309491, -0.3928846608662631, -1.1134663891849492, 0.5259166824485958, 1.2767655084421516, 0.0354705094250525, -0.22469254344204675, 1.6272211270560817, -0.414669543582508, 0.7139322291458065, -2.470709743384897, 1.5386164967793026, 0.7160072919906816, 0.1417813834395697, -0.4043862753593802, -1.8071493515932677, -1.3723541348893524, 1.0948479544848693, 0.9989596265551828, -0.6478008481453175, 1.4124754326601883, 0.4346882253946431, -0.7348738360323315, 0.870683905831478, 0.6579668551742296, -1.9940535889544115, -0.005078270571319728, 1.3365837181328428, 0.10899587834151302, 0.9165248381194471, -0.6368591137339633, 0.7119659996376386, 0.986580694631742, 0.416081849948451, 0.5352805242252674, 0.5208318750173206, 0.9571424944340965, -0.3901599757044315, -1.1401073992251733, 0.3340180184206363, 0.7406991050707952, 0.4647617310146391, 1.2959649906828112, -0.47230962246013475, 0.1567297692468287, -0.37393093428584573, 1.2767768262192751, 0.3461111052548227, -1.022476851684093, 0.6349317486094176, -0.15101842538131852, 0.033728646201024046, 0.2667964330454267, 1.0629785526860123, -1.0917878409952968, -0.3582307526329137, 0.5524824823445418, -1.0013894542109176, -1.9607511780597788, -2.7722741185384954, 0.01864704728907342, 0.6571359736547979, 1.7367344460001817, 0.32949603949899275, 0.42953810085154065, -0.6237116485501133, 0.20610138838812966, 1.1257106532373393, 0.07309187136866693, 0.1825421452130804, -1.410613394522949, 0.32020366902474606, -0.1891096779802458, 1.1968104396498749]}],\n",
       "                        {\"legend\": {\"bgcolor\": \"#F5F6F9\", \"font\": {\"color\": \"#4D5663\"}}, \"paper_bgcolor\": \"#F5F6F9\", \"plot_bgcolor\": \"#F5F6F9\", \"template\": {\"data\": {\"bar\": [{\"error_x\": {\"color\": \"#2a3f5f\"}, \"error_y\": {\"color\": \"#2a3f5f\"}, \"marker\": {\"line\": {\"color\": \"#E5ECF6\", \"width\": 0.5}}, \"type\": \"bar\"}], \"barpolar\": [{\"marker\": {\"line\": {\"color\": \"#E5ECF6\", \"width\": 0.5}}, \"type\": \"barpolar\"}], \"carpet\": [{\"aaxis\": {\"endlinecolor\": \"#2a3f5f\", \"gridcolor\": \"white\", \"linecolor\": \"white\", \"minorgridcolor\": \"white\", \"startlinecolor\": \"#2a3f5f\"}, \"baxis\": {\"endlinecolor\": \"#2a3f5f\", \"gridcolor\": \"white\", \"linecolor\": \"white\", \"minorgridcolor\": \"white\", \"startlinecolor\": \"#2a3f5f\"}, \"type\": \"carpet\"}], \"choropleth\": [{\"colorbar\": {\"outlinewidth\": 0, \"ticks\": \"\"}, \"type\": \"choropleth\"}], \"contour\": [{\"colorbar\": {\"outlinewidth\": 0, \"ticks\": \"\"}, \"colorscale\": [[0.0, \"#0d0887\"], [0.1111111111111111, \"#46039f\"], [0.2222222222222222, \"#7201a8\"], [0.3333333333333333, \"#9c179e\"], [0.4444444444444444, \"#bd3786\"], [0.5555555555555556, \"#d8576b\"], [0.6666666666666666, \"#ed7953\"], [0.7777777777777778, \"#fb9f3a\"], [0.8888888888888888, \"#fdca26\"], [1.0, \"#f0f921\"]], \"type\": \"contour\"}], \"contourcarpet\": [{\"colorbar\": {\"outlinewidth\": 0, \"ticks\": \"\"}, \"type\": \"contourcarpet\"}], \"heatmap\": [{\"colorbar\": {\"outlinewidth\": 0, \"ticks\": \"\"}, \"colorscale\": [[0.0, \"#0d0887\"], [0.1111111111111111, \"#46039f\"], [0.2222222222222222, \"#7201a8\"], [0.3333333333333333, \"#9c179e\"], [0.4444444444444444, \"#bd3786\"], [0.5555555555555556, \"#d8576b\"], [0.6666666666666666, \"#ed7953\"], [0.7777777777777778, \"#fb9f3a\"], [0.8888888888888888, \"#fdca26\"], [1.0, \"#f0f921\"]], \"type\": \"heatmap\"}], \"heatmapgl\": [{\"colorbar\": {\"outlinewidth\": 0, \"ticks\": \"\"}, \"colorscale\": [[0.0, \"#0d0887\"], [0.1111111111111111, \"#46039f\"], [0.2222222222222222, \"#7201a8\"], [0.3333333333333333, \"#9c179e\"], [0.4444444444444444, \"#bd3786\"], [0.5555555555555556, \"#d8576b\"], [0.6666666666666666, \"#ed7953\"], [0.7777777777777778, \"#fb9f3a\"], [0.8888888888888888, \"#fdca26\"], [1.0, \"#f0f921\"]], \"type\": \"heatmapgl\"}], \"histogram\": [{\"marker\": {\"colorbar\": {\"outlinewidth\": 0, \"ticks\": \"\"}}, \"type\": \"histogram\"}], \"histogram2d\": [{\"colorbar\": {\"outlinewidth\": 0, \"ticks\": \"\"}, \"colorscale\": [[0.0, \"#0d0887\"], [0.1111111111111111, \"#46039f\"], [0.2222222222222222, \"#7201a8\"], [0.3333333333333333, \"#9c179e\"], [0.4444444444444444, \"#bd3786\"], [0.5555555555555556, \"#d8576b\"], [0.6666666666666666, \"#ed7953\"], [0.7777777777777778, \"#fb9f3a\"], [0.8888888888888888, \"#fdca26\"], [1.0, \"#f0f921\"]], \"type\": \"histogram2d\"}], \"histogram2dcontour\": [{\"colorbar\": {\"outlinewidth\": 0, \"ticks\": \"\"}, \"colorscale\": [[0.0, \"#0d0887\"], [0.1111111111111111, \"#46039f\"], [0.2222222222222222, \"#7201a8\"], [0.3333333333333333, \"#9c179e\"], [0.4444444444444444, \"#bd3786\"], [0.5555555555555556, \"#d8576b\"], [0.6666666666666666, \"#ed7953\"], [0.7777777777777778, \"#fb9f3a\"], [0.8888888888888888, \"#fdca26\"], [1.0, \"#f0f921\"]], \"type\": \"histogram2dcontour\"}], \"mesh3d\": [{\"colorbar\": {\"outlinewidth\": 0, \"ticks\": \"\"}, \"type\": \"mesh3d\"}], \"parcoords\": [{\"line\": {\"colorbar\": {\"outlinewidth\": 0, \"ticks\": \"\"}}, \"type\": \"parcoords\"}], \"pie\": [{\"automargin\": true, \"type\": \"pie\"}], \"scatter\": [{\"marker\": {\"colorbar\": {\"outlinewidth\": 0, \"ticks\": \"\"}}, \"type\": \"scatter\"}], \"scatter3d\": [{\"line\": {\"colorbar\": {\"outlinewidth\": 0, \"ticks\": \"\"}}, \"marker\": {\"colorbar\": {\"outlinewidth\": 0, \"ticks\": \"\"}}, \"type\": \"scatter3d\"}], \"scattercarpet\": [{\"marker\": {\"colorbar\": {\"outlinewidth\": 0, \"ticks\": \"\"}}, \"type\": \"scattercarpet\"}], \"scattergeo\": [{\"marker\": {\"colorbar\": {\"outlinewidth\": 0, \"ticks\": \"\"}}, \"type\": \"scattergeo\"}], \"scattergl\": [{\"marker\": {\"colorbar\": {\"outlinewidth\": 0, \"ticks\": \"\"}}, \"type\": \"scattergl\"}], \"scattermapbox\": [{\"marker\": {\"colorbar\": {\"outlinewidth\": 0, \"ticks\": \"\"}}, \"type\": \"scattermapbox\"}], \"scatterpolar\": [{\"marker\": {\"colorbar\": {\"outlinewidth\": 0, \"ticks\": \"\"}}, \"type\": \"scatterpolar\"}], \"scatterpolargl\": [{\"marker\": {\"colorbar\": {\"outlinewidth\": 0, \"ticks\": \"\"}}, \"type\": \"scatterpolargl\"}], \"scatterternary\": [{\"marker\": {\"colorbar\": {\"outlinewidth\": 0, \"ticks\": \"\"}}, \"type\": \"scatterternary\"}], \"surface\": [{\"colorbar\": {\"outlinewidth\": 0, \"ticks\": \"\"}, \"colorscale\": [[0.0, \"#0d0887\"], [0.1111111111111111, \"#46039f\"], [0.2222222222222222, \"#7201a8\"], [0.3333333333333333, \"#9c179e\"], [0.4444444444444444, \"#bd3786\"], [0.5555555555555556, \"#d8576b\"], [0.6666666666666666, \"#ed7953\"], [0.7777777777777778, \"#fb9f3a\"], [0.8888888888888888, \"#fdca26\"], [1.0, \"#f0f921\"]], \"type\": \"surface\"}], \"table\": [{\"cells\": {\"fill\": {\"color\": \"#EBF0F8\"}, \"line\": {\"color\": \"white\"}}, \"header\": {\"fill\": {\"color\": \"#C8D4E3\"}, \"line\": {\"color\": \"white\"}}, \"type\": \"table\"}]}, \"layout\": {\"annotationdefaults\": {\"arrowcolor\": \"#2a3f5f\", \"arrowhead\": 0, \"arrowwidth\": 1}, \"coloraxis\": {\"colorbar\": {\"outlinewidth\": 0, \"ticks\": \"\"}}, \"colorscale\": {\"diverging\": [[0, \"#8e0152\"], [0.1, \"#c51b7d\"], [0.2, \"#de77ae\"], [0.3, \"#f1b6da\"], [0.4, \"#fde0ef\"], [0.5, \"#f7f7f7\"], [0.6, \"#e6f5d0\"], [0.7, \"#b8e186\"], [0.8, \"#7fbc41\"], [0.9, \"#4d9221\"], [1, \"#276419\"]], \"sequential\": [[0.0, \"#0d0887\"], [0.1111111111111111, \"#46039f\"], [0.2222222222222222, \"#7201a8\"], [0.3333333333333333, \"#9c179e\"], [0.4444444444444444, \"#bd3786\"], [0.5555555555555556, \"#d8576b\"], [0.6666666666666666, \"#ed7953\"], [0.7777777777777778, \"#fb9f3a\"], [0.8888888888888888, \"#fdca26\"], [1.0, \"#f0f921\"]], \"sequentialminus\": [[0.0, \"#0d0887\"], [0.1111111111111111, \"#46039f\"], [0.2222222222222222, \"#7201a8\"], [0.3333333333333333, \"#9c179e\"], [0.4444444444444444, \"#bd3786\"], [0.5555555555555556, \"#d8576b\"], [0.6666666666666666, \"#ed7953\"], [0.7777777777777778, \"#fb9f3a\"], [0.8888888888888888, \"#fdca26\"], [1.0, \"#f0f921\"]]}, \"colorway\": [\"#636efa\", \"#EF553B\", \"#00cc96\", \"#ab63fa\", \"#FFA15A\", \"#19d3f3\", \"#FF6692\", \"#B6E880\", \"#FF97FF\", \"#FECB52\"], \"font\": {\"color\": \"#2a3f5f\"}, \"geo\": {\"bgcolor\": \"white\", \"lakecolor\": \"white\", \"landcolor\": \"#E5ECF6\", \"showlakes\": true, \"showland\": true, \"subunitcolor\": \"white\"}, \"hoverlabel\": {\"align\": \"left\"}, \"hovermode\": \"closest\", \"mapbox\": {\"style\": \"light\"}, \"paper_bgcolor\": \"white\", \"plot_bgcolor\": \"#E5ECF6\", \"polar\": {\"angularaxis\": {\"gridcolor\": \"white\", \"linecolor\": \"white\", \"ticks\": \"\"}, \"bgcolor\": \"#E5ECF6\", \"radialaxis\": {\"gridcolor\": \"white\", \"linecolor\": \"white\", \"ticks\": \"\"}}, \"scene\": {\"xaxis\": {\"backgroundcolor\": \"#E5ECF6\", \"gridcolor\": \"white\", \"gridwidth\": 2, \"linecolor\": \"white\", \"showbackground\": true, \"ticks\": \"\", \"zerolinecolor\": \"white\"}, \"yaxis\": {\"backgroundcolor\": \"#E5ECF6\", \"gridcolor\": \"white\", \"gridwidth\": 2, \"linecolor\": \"white\", \"showbackground\": true, \"ticks\": \"\", \"zerolinecolor\": \"white\"}, \"zaxis\": {\"backgroundcolor\": \"#E5ECF6\", \"gridcolor\": \"white\", \"gridwidth\": 2, \"linecolor\": \"white\", \"showbackground\": true, \"ticks\": \"\", \"zerolinecolor\": \"white\"}}, \"shapedefaults\": {\"line\": {\"color\": \"#2a3f5f\"}}, \"ternary\": {\"aaxis\": {\"gridcolor\": \"white\", \"linecolor\": \"white\", \"ticks\": \"\"}, \"baxis\": {\"gridcolor\": \"white\", \"linecolor\": \"white\", \"ticks\": \"\"}, \"bgcolor\": \"#E5ECF6\", \"caxis\": {\"gridcolor\": \"white\", \"linecolor\": \"white\", \"ticks\": \"\"}}, \"title\": {\"x\": 0.05}, \"xaxis\": {\"automargin\": true, \"gridcolor\": \"white\", \"linecolor\": \"white\", \"ticks\": \"\", \"title\": {\"standoff\": 15}, \"zerolinecolor\": \"white\", \"zerolinewidth\": 2}, \"yaxis\": {\"automargin\": true, \"gridcolor\": \"white\", \"linecolor\": \"white\", \"ticks\": \"\", \"title\": {\"standoff\": 15}, \"zerolinecolor\": \"white\", \"zerolinewidth\": 2}}}, \"title\": {\"font\": {\"color\": \"#4D5663\"}}, \"xaxis\": {\"gridcolor\": \"#E1E5ED\", \"showgrid\": true, \"tickfont\": {\"color\": \"#4D5663\"}, \"title\": {\"font\": {\"color\": \"#4D5663\"}, \"text\": \"\"}, \"zerolinecolor\": \"#E1E5ED\"}, \"yaxis\": {\"gridcolor\": \"#E1E5ED\", \"showgrid\": true, \"tickfont\": {\"color\": \"#4D5663\"}, \"title\": {\"font\": {\"color\": \"#4D5663\"}, \"text\": \"\"}, \"zerolinecolor\": \"#E1E5ED\"}},\n",
       "                        {\"showLink\": true, \"linkText\": \"Export to plot.ly\", \"plotlyServerURL\": \"https://plot.ly\", \"responsive\": true}\n",
       "                    ).then(function(){\n",
       "                            \n",
       "var gd = document.getElementById('d0cce046-d7a1-4fb6-8bf1-2ca24dafebf1');\n",
       "var x = new MutationObserver(function (mutations, observer) {{\n",
       "        var display = window.getComputedStyle(gd).display;\n",
       "        if (!display || display === 'none') {{\n",
       "            console.log([gd, 'removed!']);\n",
       "            Plotly.purge(gd);\n",
       "            observer.disconnect();\n",
       "        }}\n",
       "}});\n",
       "\n",
       "// Listen for the removal of the full notebook cells\n",
       "var notebookContainer = gd.closest('#notebook-container');\n",
       "if (notebookContainer) {{\n",
       "    x.observe(notebookContainer, {childList: true});\n",
       "}}\n",
       "\n",
       "// Listen for the clearing of the current output cell\n",
       "var outputEl = gd.closest('.output');\n",
       "if (outputEl) {{\n",
       "    x.observe(outputEl, {childList: true});\n",
       "}}\n",
       "\n",
       "                        })\n",
       "                };\n",
       "                });\n",
       "            </script>\n",
       "        </div>"
      ]
     },
     "metadata": {},
     "output_type": "display_data"
    }
   ],
   "source": [
    "df.iplot(kind='box')"
   ]
  },
  {
   "cell_type": "code",
   "execution_count": 31,
   "metadata": {},
   "outputs": [],
   "source": [
    "df3=pd.DataFrame({'x':[1,2,3,4,5],'y':[10,20,30,20,10],'z':[5,4,3,2,1]})"
   ]
  },
  {
   "cell_type": "code",
   "execution_count": 32,
   "metadata": {},
   "outputs": [
    {
     "data": {
      "text/html": [
       "<div>\n",
       "<style scoped>\n",
       "    .dataframe tbody tr th:only-of-type {\n",
       "        vertical-align: middle;\n",
       "    }\n",
       "\n",
       "    .dataframe tbody tr th {\n",
       "        vertical-align: top;\n",
       "    }\n",
       "\n",
       "    .dataframe thead th {\n",
       "        text-align: right;\n",
       "    }\n",
       "</style>\n",
       "<table border=\"1\" class=\"dataframe\">\n",
       "  <thead>\n",
       "    <tr style=\"text-align: right;\">\n",
       "      <th></th>\n",
       "      <th>x</th>\n",
       "      <th>y</th>\n",
       "      <th>z</th>\n",
       "    </tr>\n",
       "  </thead>\n",
       "  <tbody>\n",
       "    <tr>\n",
       "      <th>0</th>\n",
       "      <td>1</td>\n",
       "      <td>10</td>\n",
       "      <td>5</td>\n",
       "    </tr>\n",
       "    <tr>\n",
       "      <th>1</th>\n",
       "      <td>2</td>\n",
       "      <td>20</td>\n",
       "      <td>4</td>\n",
       "    </tr>\n",
       "    <tr>\n",
       "      <th>2</th>\n",
       "      <td>3</td>\n",
       "      <td>30</td>\n",
       "      <td>3</td>\n",
       "    </tr>\n",
       "    <tr>\n",
       "      <th>3</th>\n",
       "      <td>4</td>\n",
       "      <td>20</td>\n",
       "      <td>2</td>\n",
       "    </tr>\n",
       "    <tr>\n",
       "      <th>4</th>\n",
       "      <td>5</td>\n",
       "      <td>10</td>\n",
       "      <td>1</td>\n",
       "    </tr>\n",
       "  </tbody>\n",
       "</table>\n",
       "</div>"
      ],
      "text/plain": [
       "   x   y  z\n",
       "0  1  10  5\n",
       "1  2  20  4\n",
       "2  3  30  3\n",
       "3  4  20  2\n",
       "4  5  10  1"
      ]
     },
     "execution_count": 32,
     "metadata": {},
     "output_type": "execute_result"
    }
   ],
   "source": [
    "df3"
   ]
  },
  {
   "cell_type": "code",
   "execution_count": 34,
   "metadata": {},
   "outputs": [
    {
     "data": {
      "application/vnd.plotly.v1+json": {
       "config": {
        "linkText": "Export to plot.ly",
        "plotlyServerURL": "https://plot.ly",
        "showLink": true
       },
       "data": [
        {
         "colorscale": [
          [
           0,
           "rgb(165,0,38)"
          ],
          [
           0.1,
           "rgb(215,48,39)"
          ],
          [
           0.2,
           "rgb(244,109,67)"
          ],
          [
           0.3,
           "rgb(253,174,97)"
          ],
          [
           0.4,
           "rgb(254,224,144)"
          ],
          [
           0.5,
           "rgb(255,255,191)"
          ],
          [
           0.6,
           "rgb(224,243,248)"
          ],
          [
           0.7,
           "rgb(171,217,233)"
          ],
          [
           0.8,
           "rgb(116,173,209)"
          ],
          [
           0.9,
           "rgb(69,117,180)"
          ],
          [
           1,
           "rgb(49,54,149)"
          ]
         ],
         "type": "surface",
         "x": [
          0,
          1,
          2,
          3,
          4
         ],
         "y": [
          "x",
          "y",
          "z"
         ],
         "z": [
          [
           1,
           2,
           3,
           4,
           5
          ],
          [
           10,
           20,
           30,
           20,
           10
          ],
          [
           5,
           4,
           3,
           2,
           1
          ]
         ]
        }
       ],
       "layout": {
        "legend": {
         "bgcolor": "#F5F6F9",
         "font": {
          "color": "#4D5663"
         }
        },
        "paper_bgcolor": "#F5F6F9",
        "plot_bgcolor": "#F5F6F9",
        "template": {
         "data": {
          "bar": [
           {
            "error_x": {
             "color": "#2a3f5f"
            },
            "error_y": {
             "color": "#2a3f5f"
            },
            "marker": {
             "line": {
              "color": "#E5ECF6",
              "width": 0.5
             }
            },
            "type": "bar"
           }
          ],
          "barpolar": [
           {
            "marker": {
             "line": {
              "color": "#E5ECF6",
              "width": 0.5
             }
            },
            "type": "barpolar"
           }
          ],
          "carpet": [
           {
            "aaxis": {
             "endlinecolor": "#2a3f5f",
             "gridcolor": "white",
             "linecolor": "white",
             "minorgridcolor": "white",
             "startlinecolor": "#2a3f5f"
            },
            "baxis": {
             "endlinecolor": "#2a3f5f",
             "gridcolor": "white",
             "linecolor": "white",
             "minorgridcolor": "white",
             "startlinecolor": "#2a3f5f"
            },
            "type": "carpet"
           }
          ],
          "choropleth": [
           {
            "colorbar": {
             "outlinewidth": 0,
             "ticks": ""
            },
            "type": "choropleth"
           }
          ],
          "contour": [
           {
            "colorbar": {
             "outlinewidth": 0,
             "ticks": ""
            },
            "colorscale": [
             [
              0,
              "#0d0887"
             ],
             [
              0.1111111111111111,
              "#46039f"
             ],
             [
              0.2222222222222222,
              "#7201a8"
             ],
             [
              0.3333333333333333,
              "#9c179e"
             ],
             [
              0.4444444444444444,
              "#bd3786"
             ],
             [
              0.5555555555555556,
              "#d8576b"
             ],
             [
              0.6666666666666666,
              "#ed7953"
             ],
             [
              0.7777777777777778,
              "#fb9f3a"
             ],
             [
              0.8888888888888888,
              "#fdca26"
             ],
             [
              1,
              "#f0f921"
             ]
            ],
            "type": "contour"
           }
          ],
          "contourcarpet": [
           {
            "colorbar": {
             "outlinewidth": 0,
             "ticks": ""
            },
            "type": "contourcarpet"
           }
          ],
          "heatmap": [
           {
            "colorbar": {
             "outlinewidth": 0,
             "ticks": ""
            },
            "colorscale": [
             [
              0,
              "#0d0887"
             ],
             [
              0.1111111111111111,
              "#46039f"
             ],
             [
              0.2222222222222222,
              "#7201a8"
             ],
             [
              0.3333333333333333,
              "#9c179e"
             ],
             [
              0.4444444444444444,
              "#bd3786"
             ],
             [
              0.5555555555555556,
              "#d8576b"
             ],
             [
              0.6666666666666666,
              "#ed7953"
             ],
             [
              0.7777777777777778,
              "#fb9f3a"
             ],
             [
              0.8888888888888888,
              "#fdca26"
             ],
             [
              1,
              "#f0f921"
             ]
            ],
            "type": "heatmap"
           }
          ],
          "heatmapgl": [
           {
            "colorbar": {
             "outlinewidth": 0,
             "ticks": ""
            },
            "colorscale": [
             [
              0,
              "#0d0887"
             ],
             [
              0.1111111111111111,
              "#46039f"
             ],
             [
              0.2222222222222222,
              "#7201a8"
             ],
             [
              0.3333333333333333,
              "#9c179e"
             ],
             [
              0.4444444444444444,
              "#bd3786"
             ],
             [
              0.5555555555555556,
              "#d8576b"
             ],
             [
              0.6666666666666666,
              "#ed7953"
             ],
             [
              0.7777777777777778,
              "#fb9f3a"
             ],
             [
              0.8888888888888888,
              "#fdca26"
             ],
             [
              1,
              "#f0f921"
             ]
            ],
            "type": "heatmapgl"
           }
          ],
          "histogram": [
           {
            "marker": {
             "colorbar": {
              "outlinewidth": 0,
              "ticks": ""
             }
            },
            "type": "histogram"
           }
          ],
          "histogram2d": [
           {
            "colorbar": {
             "outlinewidth": 0,
             "ticks": ""
            },
            "colorscale": [
             [
              0,
              "#0d0887"
             ],
             [
              0.1111111111111111,
              "#46039f"
             ],
             [
              0.2222222222222222,
              "#7201a8"
             ],
             [
              0.3333333333333333,
              "#9c179e"
             ],
             [
              0.4444444444444444,
              "#bd3786"
             ],
             [
              0.5555555555555556,
              "#d8576b"
             ],
             [
              0.6666666666666666,
              "#ed7953"
             ],
             [
              0.7777777777777778,
              "#fb9f3a"
             ],
             [
              0.8888888888888888,
              "#fdca26"
             ],
             [
              1,
              "#f0f921"
             ]
            ],
            "type": "histogram2d"
           }
          ],
          "histogram2dcontour": [
           {
            "colorbar": {
             "outlinewidth": 0,
             "ticks": ""
            },
            "colorscale": [
             [
              0,
              "#0d0887"
             ],
             [
              0.1111111111111111,
              "#46039f"
             ],
             [
              0.2222222222222222,
              "#7201a8"
             ],
             [
              0.3333333333333333,
              "#9c179e"
             ],
             [
              0.4444444444444444,
              "#bd3786"
             ],
             [
              0.5555555555555556,
              "#d8576b"
             ],
             [
              0.6666666666666666,
              "#ed7953"
             ],
             [
              0.7777777777777778,
              "#fb9f3a"
             ],
             [
              0.8888888888888888,
              "#fdca26"
             ],
             [
              1,
              "#f0f921"
             ]
            ],
            "type": "histogram2dcontour"
           }
          ],
          "mesh3d": [
           {
            "colorbar": {
             "outlinewidth": 0,
             "ticks": ""
            },
            "type": "mesh3d"
           }
          ],
          "parcoords": [
           {
            "line": {
             "colorbar": {
              "outlinewidth": 0,
              "ticks": ""
             }
            },
            "type": "parcoords"
           }
          ],
          "pie": [
           {
            "automargin": true,
            "type": "pie"
           }
          ],
          "scatter": [
           {
            "marker": {
             "colorbar": {
              "outlinewidth": 0,
              "ticks": ""
             }
            },
            "type": "scatter"
           }
          ],
          "scatter3d": [
           {
            "line": {
             "colorbar": {
              "outlinewidth": 0,
              "ticks": ""
             }
            },
            "marker": {
             "colorbar": {
              "outlinewidth": 0,
              "ticks": ""
             }
            },
            "type": "scatter3d"
           }
          ],
          "scattercarpet": [
           {
            "marker": {
             "colorbar": {
              "outlinewidth": 0,
              "ticks": ""
             }
            },
            "type": "scattercarpet"
           }
          ],
          "scattergeo": [
           {
            "marker": {
             "colorbar": {
              "outlinewidth": 0,
              "ticks": ""
             }
            },
            "type": "scattergeo"
           }
          ],
          "scattergl": [
           {
            "marker": {
             "colorbar": {
              "outlinewidth": 0,
              "ticks": ""
             }
            },
            "type": "scattergl"
           }
          ],
          "scattermapbox": [
           {
            "marker": {
             "colorbar": {
              "outlinewidth": 0,
              "ticks": ""
             }
            },
            "type": "scattermapbox"
           }
          ],
          "scatterpolar": [
           {
            "marker": {
             "colorbar": {
              "outlinewidth": 0,
              "ticks": ""
             }
            },
            "type": "scatterpolar"
           }
          ],
          "scatterpolargl": [
           {
            "marker": {
             "colorbar": {
              "outlinewidth": 0,
              "ticks": ""
             }
            },
            "type": "scatterpolargl"
           }
          ],
          "scatterternary": [
           {
            "marker": {
             "colorbar": {
              "outlinewidth": 0,
              "ticks": ""
             }
            },
            "type": "scatterternary"
           }
          ],
          "surface": [
           {
            "colorbar": {
             "outlinewidth": 0,
             "ticks": ""
            },
            "colorscale": [
             [
              0,
              "#0d0887"
             ],
             [
              0.1111111111111111,
              "#46039f"
             ],
             [
              0.2222222222222222,
              "#7201a8"
             ],
             [
              0.3333333333333333,
              "#9c179e"
             ],
             [
              0.4444444444444444,
              "#bd3786"
             ],
             [
              0.5555555555555556,
              "#d8576b"
             ],
             [
              0.6666666666666666,
              "#ed7953"
             ],
             [
              0.7777777777777778,
              "#fb9f3a"
             ],
             [
              0.8888888888888888,
              "#fdca26"
             ],
             [
              1,
              "#f0f921"
             ]
            ],
            "type": "surface"
           }
          ],
          "table": [
           {
            "cells": {
             "fill": {
              "color": "#EBF0F8"
             },
             "line": {
              "color": "white"
             }
            },
            "header": {
             "fill": {
              "color": "#C8D4E3"
             },
             "line": {
              "color": "white"
             }
            },
            "type": "table"
           }
          ]
         },
         "layout": {
          "annotationdefaults": {
           "arrowcolor": "#2a3f5f",
           "arrowhead": 0,
           "arrowwidth": 1
          },
          "coloraxis": {
           "colorbar": {
            "outlinewidth": 0,
            "ticks": ""
           }
          },
          "colorscale": {
           "diverging": [
            [
             0,
             "#8e0152"
            ],
            [
             0.1,
             "#c51b7d"
            ],
            [
             0.2,
             "#de77ae"
            ],
            [
             0.3,
             "#f1b6da"
            ],
            [
             0.4,
             "#fde0ef"
            ],
            [
             0.5,
             "#f7f7f7"
            ],
            [
             0.6,
             "#e6f5d0"
            ],
            [
             0.7,
             "#b8e186"
            ],
            [
             0.8,
             "#7fbc41"
            ],
            [
             0.9,
             "#4d9221"
            ],
            [
             1,
             "#276419"
            ]
           ],
           "sequential": [
            [
             0,
             "#0d0887"
            ],
            [
             0.1111111111111111,
             "#46039f"
            ],
            [
             0.2222222222222222,
             "#7201a8"
            ],
            [
             0.3333333333333333,
             "#9c179e"
            ],
            [
             0.4444444444444444,
             "#bd3786"
            ],
            [
             0.5555555555555556,
             "#d8576b"
            ],
            [
             0.6666666666666666,
             "#ed7953"
            ],
            [
             0.7777777777777778,
             "#fb9f3a"
            ],
            [
             0.8888888888888888,
             "#fdca26"
            ],
            [
             1,
             "#f0f921"
            ]
           ],
           "sequentialminus": [
            [
             0,
             "#0d0887"
            ],
            [
             0.1111111111111111,
             "#46039f"
            ],
            [
             0.2222222222222222,
             "#7201a8"
            ],
            [
             0.3333333333333333,
             "#9c179e"
            ],
            [
             0.4444444444444444,
             "#bd3786"
            ],
            [
             0.5555555555555556,
             "#d8576b"
            ],
            [
             0.6666666666666666,
             "#ed7953"
            ],
            [
             0.7777777777777778,
             "#fb9f3a"
            ],
            [
             0.8888888888888888,
             "#fdca26"
            ],
            [
             1,
             "#f0f921"
            ]
           ]
          },
          "colorway": [
           "#636efa",
           "#EF553B",
           "#00cc96",
           "#ab63fa",
           "#FFA15A",
           "#19d3f3",
           "#FF6692",
           "#B6E880",
           "#FF97FF",
           "#FECB52"
          ],
          "font": {
           "color": "#2a3f5f"
          },
          "geo": {
           "bgcolor": "white",
           "lakecolor": "white",
           "landcolor": "#E5ECF6",
           "showlakes": true,
           "showland": true,
           "subunitcolor": "white"
          },
          "hoverlabel": {
           "align": "left"
          },
          "hovermode": "closest",
          "mapbox": {
           "style": "light"
          },
          "paper_bgcolor": "white",
          "plot_bgcolor": "#E5ECF6",
          "polar": {
           "angularaxis": {
            "gridcolor": "white",
            "linecolor": "white",
            "ticks": ""
           },
           "bgcolor": "#E5ECF6",
           "radialaxis": {
            "gridcolor": "white",
            "linecolor": "white",
            "ticks": ""
           }
          },
          "scene": {
           "xaxis": {
            "backgroundcolor": "#E5ECF6",
            "gridcolor": "white",
            "gridwidth": 2,
            "linecolor": "white",
            "showbackground": true,
            "ticks": "",
            "zerolinecolor": "white"
           },
           "yaxis": {
            "backgroundcolor": "#E5ECF6",
            "gridcolor": "white",
            "gridwidth": 2,
            "linecolor": "white",
            "showbackground": true,
            "ticks": "",
            "zerolinecolor": "white"
           },
           "zaxis": {
            "backgroundcolor": "#E5ECF6",
            "gridcolor": "white",
            "gridwidth": 2,
            "linecolor": "white",
            "showbackground": true,
            "ticks": "",
            "zerolinecolor": "white"
           }
          },
          "shapedefaults": {
           "line": {
            "color": "#2a3f5f"
           }
          },
          "ternary": {
           "aaxis": {
            "gridcolor": "white",
            "linecolor": "white",
            "ticks": ""
           },
           "baxis": {
            "gridcolor": "white",
            "linecolor": "white",
            "ticks": ""
           },
           "bgcolor": "#E5ECF6",
           "caxis": {
            "gridcolor": "white",
            "linecolor": "white",
            "ticks": ""
           }
          },
          "title": {
           "x": 0.05
          },
          "xaxis": {
           "automargin": true,
           "gridcolor": "white",
           "linecolor": "white",
           "ticks": "",
           "title": {
            "standoff": 15
           },
           "zerolinecolor": "white",
           "zerolinewidth": 2
          },
          "yaxis": {
           "automargin": true,
           "gridcolor": "white",
           "linecolor": "white",
           "ticks": "",
           "title": {
            "standoff": 15
           },
           "zerolinecolor": "white",
           "zerolinewidth": 2
          }
         }
        },
        "title": {
         "font": {
          "color": "#4D5663"
         }
        },
        "xaxis": {
         "gridcolor": "#E1E5ED",
         "showgrid": true,
         "tickfont": {
          "color": "#4D5663"
         },
         "title": {
          "font": {
           "color": "#4D5663"
          },
          "text": ""
         },
         "zerolinecolor": "#E1E5ED"
        },
        "yaxis": {
         "gridcolor": "#E1E5ED",
         "showgrid": true,
         "tickfont": {
          "color": "#4D5663"
         },
         "title": {
          "font": {
           "color": "#4D5663"
          },
          "text": ""
         },
         "zerolinecolor": "#E1E5ED"
        }
       }
      },
      "text/html": [
       "<div>\n",
       "        \n",
       "        \n",
       "            <div id=\"45e2a5a2-2d1b-490b-863e-0668d32cd0da\" class=\"plotly-graph-div\" style=\"height:525px; width:100%;\"></div>\n",
       "            <script type=\"text/javascript\">\n",
       "                require([\"plotly\"], function(Plotly) {\n",
       "                    window.PLOTLYENV=window.PLOTLYENV || {};\n",
       "                    window.PLOTLYENV.BASE_URL='https://plot.ly';\n",
       "                    \n",
       "                if (document.getElementById(\"45e2a5a2-2d1b-490b-863e-0668d32cd0da\")) {\n",
       "                    Plotly.newPlot(\n",
       "                        '45e2a5a2-2d1b-490b-863e-0668d32cd0da',\n",
       "                        [{\"colorscale\": [[0.0, \"rgb(165,0,38)\"], [0.1, \"rgb(215,48,39)\"], [0.2, \"rgb(244,109,67)\"], [0.3, \"rgb(253,174,97)\"], [0.4, \"rgb(254,224,144)\"], [0.5, \"rgb(255,255,191)\"], [0.6, \"rgb(224,243,248)\"], [0.7, \"rgb(171,217,233)\"], [0.8, \"rgb(116,173,209)\"], [0.9, \"rgb(69,117,180)\"], [1.0, \"rgb(49,54,149)\"]], \"type\": \"surface\", \"x\": [0, 1, 2, 3, 4], \"y\": [\"x\", \"y\", \"z\"], \"z\": [[1, 2, 3, 4, 5], [10, 20, 30, 20, 10], [5, 4, 3, 2, 1]]}],\n",
       "                        {\"legend\": {\"bgcolor\": \"#F5F6F9\", \"font\": {\"color\": \"#4D5663\"}}, \"paper_bgcolor\": \"#F5F6F9\", \"plot_bgcolor\": \"#F5F6F9\", \"template\": {\"data\": {\"bar\": [{\"error_x\": {\"color\": \"#2a3f5f\"}, \"error_y\": {\"color\": \"#2a3f5f\"}, \"marker\": {\"line\": {\"color\": \"#E5ECF6\", \"width\": 0.5}}, \"type\": \"bar\"}], \"barpolar\": [{\"marker\": {\"line\": {\"color\": \"#E5ECF6\", \"width\": 0.5}}, \"type\": \"barpolar\"}], \"carpet\": [{\"aaxis\": {\"endlinecolor\": \"#2a3f5f\", \"gridcolor\": \"white\", \"linecolor\": \"white\", \"minorgridcolor\": \"white\", \"startlinecolor\": \"#2a3f5f\"}, \"baxis\": {\"endlinecolor\": \"#2a3f5f\", \"gridcolor\": \"white\", \"linecolor\": \"white\", \"minorgridcolor\": \"white\", \"startlinecolor\": \"#2a3f5f\"}, \"type\": \"carpet\"}], \"choropleth\": [{\"colorbar\": {\"outlinewidth\": 0, \"ticks\": \"\"}, \"type\": \"choropleth\"}], \"contour\": [{\"colorbar\": {\"outlinewidth\": 0, \"ticks\": \"\"}, \"colorscale\": [[0.0, \"#0d0887\"], [0.1111111111111111, \"#46039f\"], [0.2222222222222222, \"#7201a8\"], [0.3333333333333333, \"#9c179e\"], [0.4444444444444444, \"#bd3786\"], [0.5555555555555556, \"#d8576b\"], [0.6666666666666666, \"#ed7953\"], [0.7777777777777778, \"#fb9f3a\"], [0.8888888888888888, \"#fdca26\"], [1.0, \"#f0f921\"]], \"type\": \"contour\"}], \"contourcarpet\": [{\"colorbar\": {\"outlinewidth\": 0, \"ticks\": \"\"}, \"type\": \"contourcarpet\"}], \"heatmap\": [{\"colorbar\": {\"outlinewidth\": 0, \"ticks\": \"\"}, \"colorscale\": [[0.0, \"#0d0887\"], [0.1111111111111111, \"#46039f\"], [0.2222222222222222, \"#7201a8\"], [0.3333333333333333, \"#9c179e\"], [0.4444444444444444, \"#bd3786\"], [0.5555555555555556, \"#d8576b\"], [0.6666666666666666, \"#ed7953\"], [0.7777777777777778, \"#fb9f3a\"], [0.8888888888888888, \"#fdca26\"], [1.0, \"#f0f921\"]], \"type\": \"heatmap\"}], \"heatmapgl\": [{\"colorbar\": {\"outlinewidth\": 0, \"ticks\": \"\"}, \"colorscale\": [[0.0, \"#0d0887\"], [0.1111111111111111, \"#46039f\"], [0.2222222222222222, \"#7201a8\"], [0.3333333333333333, \"#9c179e\"], [0.4444444444444444, \"#bd3786\"], [0.5555555555555556, \"#d8576b\"], [0.6666666666666666, \"#ed7953\"], [0.7777777777777778, \"#fb9f3a\"], [0.8888888888888888, \"#fdca26\"], [1.0, \"#f0f921\"]], \"type\": \"heatmapgl\"}], \"histogram\": [{\"marker\": {\"colorbar\": {\"outlinewidth\": 0, \"ticks\": \"\"}}, \"type\": \"histogram\"}], \"histogram2d\": [{\"colorbar\": {\"outlinewidth\": 0, \"ticks\": \"\"}, \"colorscale\": [[0.0, \"#0d0887\"], [0.1111111111111111, \"#46039f\"], [0.2222222222222222, \"#7201a8\"], [0.3333333333333333, \"#9c179e\"], [0.4444444444444444, \"#bd3786\"], [0.5555555555555556, \"#d8576b\"], [0.6666666666666666, \"#ed7953\"], [0.7777777777777778, \"#fb9f3a\"], [0.8888888888888888, \"#fdca26\"], [1.0, \"#f0f921\"]], \"type\": \"histogram2d\"}], \"histogram2dcontour\": [{\"colorbar\": {\"outlinewidth\": 0, \"ticks\": \"\"}, \"colorscale\": [[0.0, \"#0d0887\"], [0.1111111111111111, \"#46039f\"], [0.2222222222222222, \"#7201a8\"], [0.3333333333333333, \"#9c179e\"], [0.4444444444444444, \"#bd3786\"], [0.5555555555555556, \"#d8576b\"], [0.6666666666666666, \"#ed7953\"], [0.7777777777777778, \"#fb9f3a\"], [0.8888888888888888, \"#fdca26\"], [1.0, \"#f0f921\"]], \"type\": \"histogram2dcontour\"}], \"mesh3d\": [{\"colorbar\": {\"outlinewidth\": 0, \"ticks\": \"\"}, \"type\": \"mesh3d\"}], \"parcoords\": [{\"line\": {\"colorbar\": {\"outlinewidth\": 0, \"ticks\": \"\"}}, \"type\": \"parcoords\"}], \"pie\": [{\"automargin\": true, \"type\": \"pie\"}], \"scatter\": [{\"marker\": {\"colorbar\": {\"outlinewidth\": 0, \"ticks\": \"\"}}, \"type\": \"scatter\"}], \"scatter3d\": [{\"line\": {\"colorbar\": {\"outlinewidth\": 0, \"ticks\": \"\"}}, \"marker\": {\"colorbar\": {\"outlinewidth\": 0, \"ticks\": \"\"}}, \"type\": \"scatter3d\"}], \"scattercarpet\": [{\"marker\": {\"colorbar\": {\"outlinewidth\": 0, \"ticks\": \"\"}}, \"type\": \"scattercarpet\"}], \"scattergeo\": [{\"marker\": {\"colorbar\": {\"outlinewidth\": 0, \"ticks\": \"\"}}, \"type\": \"scattergeo\"}], \"scattergl\": [{\"marker\": {\"colorbar\": {\"outlinewidth\": 0, \"ticks\": \"\"}}, \"type\": \"scattergl\"}], \"scattermapbox\": [{\"marker\": {\"colorbar\": {\"outlinewidth\": 0, \"ticks\": \"\"}}, \"type\": \"scattermapbox\"}], \"scatterpolar\": [{\"marker\": {\"colorbar\": {\"outlinewidth\": 0, \"ticks\": \"\"}}, \"type\": \"scatterpolar\"}], \"scatterpolargl\": [{\"marker\": {\"colorbar\": {\"outlinewidth\": 0, \"ticks\": \"\"}}, \"type\": \"scatterpolargl\"}], \"scatterternary\": [{\"marker\": {\"colorbar\": {\"outlinewidth\": 0, \"ticks\": \"\"}}, \"type\": \"scatterternary\"}], \"surface\": [{\"colorbar\": {\"outlinewidth\": 0, \"ticks\": \"\"}, \"colorscale\": [[0.0, \"#0d0887\"], [0.1111111111111111, \"#46039f\"], [0.2222222222222222, \"#7201a8\"], [0.3333333333333333, \"#9c179e\"], [0.4444444444444444, \"#bd3786\"], [0.5555555555555556, \"#d8576b\"], [0.6666666666666666, \"#ed7953\"], [0.7777777777777778, \"#fb9f3a\"], [0.8888888888888888, \"#fdca26\"], [1.0, \"#f0f921\"]], \"type\": \"surface\"}], \"table\": [{\"cells\": {\"fill\": {\"color\": \"#EBF0F8\"}, \"line\": {\"color\": \"white\"}}, \"header\": {\"fill\": {\"color\": \"#C8D4E3\"}, \"line\": {\"color\": \"white\"}}, \"type\": \"table\"}]}, \"layout\": {\"annotationdefaults\": {\"arrowcolor\": \"#2a3f5f\", \"arrowhead\": 0, \"arrowwidth\": 1}, \"coloraxis\": {\"colorbar\": {\"outlinewidth\": 0, \"ticks\": \"\"}}, \"colorscale\": {\"diverging\": [[0, \"#8e0152\"], [0.1, \"#c51b7d\"], [0.2, \"#de77ae\"], [0.3, \"#f1b6da\"], [0.4, \"#fde0ef\"], [0.5, \"#f7f7f7\"], [0.6, \"#e6f5d0\"], [0.7, \"#b8e186\"], [0.8, \"#7fbc41\"], [0.9, \"#4d9221\"], [1, \"#276419\"]], \"sequential\": [[0.0, \"#0d0887\"], [0.1111111111111111, \"#46039f\"], [0.2222222222222222, \"#7201a8\"], [0.3333333333333333, \"#9c179e\"], [0.4444444444444444, \"#bd3786\"], [0.5555555555555556, \"#d8576b\"], [0.6666666666666666, \"#ed7953\"], [0.7777777777777778, \"#fb9f3a\"], [0.8888888888888888, \"#fdca26\"], [1.0, \"#f0f921\"]], \"sequentialminus\": [[0.0, \"#0d0887\"], [0.1111111111111111, \"#46039f\"], [0.2222222222222222, \"#7201a8\"], [0.3333333333333333, \"#9c179e\"], [0.4444444444444444, \"#bd3786\"], [0.5555555555555556, \"#d8576b\"], [0.6666666666666666, \"#ed7953\"], [0.7777777777777778, \"#fb9f3a\"], [0.8888888888888888, \"#fdca26\"], [1.0, \"#f0f921\"]]}, \"colorway\": [\"#636efa\", \"#EF553B\", \"#00cc96\", \"#ab63fa\", \"#FFA15A\", \"#19d3f3\", \"#FF6692\", \"#B6E880\", \"#FF97FF\", \"#FECB52\"], \"font\": {\"color\": \"#2a3f5f\"}, \"geo\": {\"bgcolor\": \"white\", \"lakecolor\": \"white\", \"landcolor\": \"#E5ECF6\", \"showlakes\": true, \"showland\": true, \"subunitcolor\": \"white\"}, \"hoverlabel\": {\"align\": \"left\"}, \"hovermode\": \"closest\", \"mapbox\": {\"style\": \"light\"}, \"paper_bgcolor\": \"white\", \"plot_bgcolor\": \"#E5ECF6\", \"polar\": {\"angularaxis\": {\"gridcolor\": \"white\", \"linecolor\": \"white\", \"ticks\": \"\"}, \"bgcolor\": \"#E5ECF6\", \"radialaxis\": {\"gridcolor\": \"white\", \"linecolor\": \"white\", \"ticks\": \"\"}}, \"scene\": {\"xaxis\": {\"backgroundcolor\": \"#E5ECF6\", \"gridcolor\": \"white\", \"gridwidth\": 2, \"linecolor\": \"white\", \"showbackground\": true, \"ticks\": \"\", \"zerolinecolor\": \"white\"}, \"yaxis\": {\"backgroundcolor\": \"#E5ECF6\", \"gridcolor\": \"white\", \"gridwidth\": 2, \"linecolor\": \"white\", \"showbackground\": true, \"ticks\": \"\", \"zerolinecolor\": \"white\"}, \"zaxis\": {\"backgroundcolor\": \"#E5ECF6\", \"gridcolor\": \"white\", \"gridwidth\": 2, \"linecolor\": \"white\", \"showbackground\": true, \"ticks\": \"\", \"zerolinecolor\": \"white\"}}, \"shapedefaults\": {\"line\": {\"color\": \"#2a3f5f\"}}, \"ternary\": {\"aaxis\": {\"gridcolor\": \"white\", \"linecolor\": \"white\", \"ticks\": \"\"}, \"baxis\": {\"gridcolor\": \"white\", \"linecolor\": \"white\", \"ticks\": \"\"}, \"bgcolor\": \"#E5ECF6\", \"caxis\": {\"gridcolor\": \"white\", \"linecolor\": \"white\", \"ticks\": \"\"}}, \"title\": {\"x\": 0.05}, \"xaxis\": {\"automargin\": true, \"gridcolor\": \"white\", \"linecolor\": \"white\", \"ticks\": \"\", \"title\": {\"standoff\": 15}, \"zerolinecolor\": \"white\", \"zerolinewidth\": 2}, \"yaxis\": {\"automargin\": true, \"gridcolor\": \"white\", \"linecolor\": \"white\", \"ticks\": \"\", \"title\": {\"standoff\": 15}, \"zerolinecolor\": \"white\", \"zerolinewidth\": 2}}}, \"title\": {\"font\": {\"color\": \"#4D5663\"}}, \"xaxis\": {\"gridcolor\": \"#E1E5ED\", \"showgrid\": true, \"tickfont\": {\"color\": \"#4D5663\"}, \"title\": {\"font\": {\"color\": \"#4D5663\"}, \"text\": \"\"}, \"zerolinecolor\": \"#E1E5ED\"}, \"yaxis\": {\"gridcolor\": \"#E1E5ED\", \"showgrid\": true, \"tickfont\": {\"color\": \"#4D5663\"}, \"title\": {\"font\": {\"color\": \"#4D5663\"}, \"text\": \"\"}, \"zerolinecolor\": \"#E1E5ED\"}},\n",
       "                        {\"showLink\": true, \"linkText\": \"Export to plot.ly\", \"plotlyServerURL\": \"https://plot.ly\", \"responsive\": true}\n",
       "                    ).then(function(){\n",
       "                            \n",
       "var gd = document.getElementById('45e2a5a2-2d1b-490b-863e-0668d32cd0da');\n",
       "var x = new MutationObserver(function (mutations, observer) {{\n",
       "        var display = window.getComputedStyle(gd).display;\n",
       "        if (!display || display === 'none') {{\n",
       "            console.log([gd, 'removed!']);\n",
       "            Plotly.purge(gd);\n",
       "            observer.disconnect();\n",
       "        }}\n",
       "}});\n",
       "\n",
       "// Listen for the removal of the full notebook cells\n",
       "var notebookContainer = gd.closest('#notebook-container');\n",
       "if (notebookContainer) {{\n",
       "    x.observe(notebookContainer, {childList: true});\n",
       "}}\n",
       "\n",
       "// Listen for the clearing of the current output cell\n",
       "var outputEl = gd.closest('.output');\n",
       "if (outputEl) {{\n",
       "    x.observe(outputEl, {childList: true});\n",
       "}}\n",
       "\n",
       "                        })\n",
       "                };\n",
       "                });\n",
       "            </script>\n",
       "        </div>"
      ]
     },
     "metadata": {},
     "output_type": "display_data"
    }
   ],
   "source": [
    "df3.iplot(kind='surface',colorscale='rdylbu')"
   ]
  },
  {
   "cell_type": "code",
   "execution_count": 36,
   "metadata": {},
   "outputs": [
    {
     "data": {
      "application/vnd.plotly.v1+json": {
       "config": {
        "linkText": "Export to plot.ly",
        "plotlyServerURL": "https://plot.ly",
        "showLink": true
       },
       "data": [
        {
         "histfunc": "count",
         "histnorm": "",
         "marker": {
          "color": "rgba(255, 153, 51, 1.0)",
          "line": {
           "color": "#4D5663",
           "width": 1.3
          }
         },
         "name": "A",
         "nbinsx": 25,
         "opacity": 0.8,
         "orientation": "v",
         "type": "histogram",
         "x": [
          -0.045220991541672514,
          0.6780430845497113,
          1.0057065998631551,
          -0.9728874120987261,
          -0.1429232842760107,
          1.2921833308681698,
          0.16399911560590277,
          0.5864133066083158,
          0.005048291501591372,
          0.18320948521328073,
          -2.49509747225579,
          1.3256859636637544,
          -1.6793176056440045,
          1.2723860638991833,
          1.578103990878968,
          1.6643859249494612,
          -0.7935622243303689,
          1.4753187604179476,
          -0.5171412718010686,
          1.2361846435347696,
          1.704522844836798,
          0.8695553230428329,
          0.04824931042202152,
          -0.5596124096097523,
          -1.1327010356287375,
          -1.406914574214415,
          -0.2760296743683121,
          0.8499750408369918,
          0.2733027589733112,
          -0.9270609774179835,
          -0.11937096459563867,
          -1.6341734716797336,
          -0.41805224566733007,
          0.050751069046720734,
          -0.20458127481769103,
          -2.014914541732928,
          1.1293271143962424,
          -0.535345544707788,
          0.7205565368377175,
          0.4434882575852396,
          2.287900075088307,
          0.8593080673185117,
          -0.8474654655180363,
          0.5740891945961737,
          0.866934071277127,
          1.6599286334175802,
          1.1413585505968555,
          -0.12489284454263366,
          1.0077112317489567,
          -0.8015057558969182,
          0.06322142018660247,
          0.02030583905367841,
          1.310214444831818,
          0.3220132314938279,
          -1.7460855703860538,
          1.4814702223140728,
          -0.8035722883805491,
          -0.8977913265652391,
          0.4834089731976079,
          1.4171127102051564,
          1.4755906750430359,
          2.0461501156802657,
          1.8315708147771137,
          -0.7776544535304498,
          0.9212441621689802,
          -1.070857782437202,
          0.2665485378678139,
          -0.2375412783190445,
          0.12928115685388808,
          -1.5094640119124836,
          0.36096311670622444,
          0.3449732335562818,
          0.9268319900465413,
          -0.8784088858281468,
          0.35568448009216114,
          -0.08607414252524906,
          1.213447359424447,
          1.220582787720631,
          -1.5714006178028541,
          0.3772038547775565,
          0.1836811429063996,
          0.23643055367021165,
          -0.14944956474447565,
          1.2660528101080524,
          -0.5669141209856902,
          -0.061203227869747794,
          -1.0152345093451074,
          -0.06490705351212794,
          -0.0967940059628407,
          0.4630555535765282,
          -1.5499008045555307,
          0.3662054810766103,
          1.3967190454514729,
          -1.2459338585587063,
          -0.4192847012410866,
          -0.9966152679852247,
          -0.8929790395801137,
          -0.375225580512482,
          1.11697358465709,
          0.22825455583325077
         ]
        }
       ],
       "layout": {
        "barmode": "overlay",
        "legend": {
         "bgcolor": "#F5F6F9",
         "font": {
          "color": "#4D5663"
         }
        },
        "paper_bgcolor": "#F5F6F9",
        "plot_bgcolor": "#F5F6F9",
        "template": {
         "data": {
          "bar": [
           {
            "error_x": {
             "color": "#2a3f5f"
            },
            "error_y": {
             "color": "#2a3f5f"
            },
            "marker": {
             "line": {
              "color": "#E5ECF6",
              "width": 0.5
             }
            },
            "type": "bar"
           }
          ],
          "barpolar": [
           {
            "marker": {
             "line": {
              "color": "#E5ECF6",
              "width": 0.5
             }
            },
            "type": "barpolar"
           }
          ],
          "carpet": [
           {
            "aaxis": {
             "endlinecolor": "#2a3f5f",
             "gridcolor": "white",
             "linecolor": "white",
             "minorgridcolor": "white",
             "startlinecolor": "#2a3f5f"
            },
            "baxis": {
             "endlinecolor": "#2a3f5f",
             "gridcolor": "white",
             "linecolor": "white",
             "minorgridcolor": "white",
             "startlinecolor": "#2a3f5f"
            },
            "type": "carpet"
           }
          ],
          "choropleth": [
           {
            "colorbar": {
             "outlinewidth": 0,
             "ticks": ""
            },
            "type": "choropleth"
           }
          ],
          "contour": [
           {
            "colorbar": {
             "outlinewidth": 0,
             "ticks": ""
            },
            "colorscale": [
             [
              0,
              "#0d0887"
             ],
             [
              0.1111111111111111,
              "#46039f"
             ],
             [
              0.2222222222222222,
              "#7201a8"
             ],
             [
              0.3333333333333333,
              "#9c179e"
             ],
             [
              0.4444444444444444,
              "#bd3786"
             ],
             [
              0.5555555555555556,
              "#d8576b"
             ],
             [
              0.6666666666666666,
              "#ed7953"
             ],
             [
              0.7777777777777778,
              "#fb9f3a"
             ],
             [
              0.8888888888888888,
              "#fdca26"
             ],
             [
              1,
              "#f0f921"
             ]
            ],
            "type": "contour"
           }
          ],
          "contourcarpet": [
           {
            "colorbar": {
             "outlinewidth": 0,
             "ticks": ""
            },
            "type": "contourcarpet"
           }
          ],
          "heatmap": [
           {
            "colorbar": {
             "outlinewidth": 0,
             "ticks": ""
            },
            "colorscale": [
             [
              0,
              "#0d0887"
             ],
             [
              0.1111111111111111,
              "#46039f"
             ],
             [
              0.2222222222222222,
              "#7201a8"
             ],
             [
              0.3333333333333333,
              "#9c179e"
             ],
             [
              0.4444444444444444,
              "#bd3786"
             ],
             [
              0.5555555555555556,
              "#d8576b"
             ],
             [
              0.6666666666666666,
              "#ed7953"
             ],
             [
              0.7777777777777778,
              "#fb9f3a"
             ],
             [
              0.8888888888888888,
              "#fdca26"
             ],
             [
              1,
              "#f0f921"
             ]
            ],
            "type": "heatmap"
           }
          ],
          "heatmapgl": [
           {
            "colorbar": {
             "outlinewidth": 0,
             "ticks": ""
            },
            "colorscale": [
             [
              0,
              "#0d0887"
             ],
             [
              0.1111111111111111,
              "#46039f"
             ],
             [
              0.2222222222222222,
              "#7201a8"
             ],
             [
              0.3333333333333333,
              "#9c179e"
             ],
             [
              0.4444444444444444,
              "#bd3786"
             ],
             [
              0.5555555555555556,
              "#d8576b"
             ],
             [
              0.6666666666666666,
              "#ed7953"
             ],
             [
              0.7777777777777778,
              "#fb9f3a"
             ],
             [
              0.8888888888888888,
              "#fdca26"
             ],
             [
              1,
              "#f0f921"
             ]
            ],
            "type": "heatmapgl"
           }
          ],
          "histogram": [
           {
            "marker": {
             "colorbar": {
              "outlinewidth": 0,
              "ticks": ""
             }
            },
            "type": "histogram"
           }
          ],
          "histogram2d": [
           {
            "colorbar": {
             "outlinewidth": 0,
             "ticks": ""
            },
            "colorscale": [
             [
              0,
              "#0d0887"
             ],
             [
              0.1111111111111111,
              "#46039f"
             ],
             [
              0.2222222222222222,
              "#7201a8"
             ],
             [
              0.3333333333333333,
              "#9c179e"
             ],
             [
              0.4444444444444444,
              "#bd3786"
             ],
             [
              0.5555555555555556,
              "#d8576b"
             ],
             [
              0.6666666666666666,
              "#ed7953"
             ],
             [
              0.7777777777777778,
              "#fb9f3a"
             ],
             [
              0.8888888888888888,
              "#fdca26"
             ],
             [
              1,
              "#f0f921"
             ]
            ],
            "type": "histogram2d"
           }
          ],
          "histogram2dcontour": [
           {
            "colorbar": {
             "outlinewidth": 0,
             "ticks": ""
            },
            "colorscale": [
             [
              0,
              "#0d0887"
             ],
             [
              0.1111111111111111,
              "#46039f"
             ],
             [
              0.2222222222222222,
              "#7201a8"
             ],
             [
              0.3333333333333333,
              "#9c179e"
             ],
             [
              0.4444444444444444,
              "#bd3786"
             ],
             [
              0.5555555555555556,
              "#d8576b"
             ],
             [
              0.6666666666666666,
              "#ed7953"
             ],
             [
              0.7777777777777778,
              "#fb9f3a"
             ],
             [
              0.8888888888888888,
              "#fdca26"
             ],
             [
              1,
              "#f0f921"
             ]
            ],
            "type": "histogram2dcontour"
           }
          ],
          "mesh3d": [
           {
            "colorbar": {
             "outlinewidth": 0,
             "ticks": ""
            },
            "type": "mesh3d"
           }
          ],
          "parcoords": [
           {
            "line": {
             "colorbar": {
              "outlinewidth": 0,
              "ticks": ""
             }
            },
            "type": "parcoords"
           }
          ],
          "pie": [
           {
            "automargin": true,
            "type": "pie"
           }
          ],
          "scatter": [
           {
            "marker": {
             "colorbar": {
              "outlinewidth": 0,
              "ticks": ""
             }
            },
            "type": "scatter"
           }
          ],
          "scatter3d": [
           {
            "line": {
             "colorbar": {
              "outlinewidth": 0,
              "ticks": ""
             }
            },
            "marker": {
             "colorbar": {
              "outlinewidth": 0,
              "ticks": ""
             }
            },
            "type": "scatter3d"
           }
          ],
          "scattercarpet": [
           {
            "marker": {
             "colorbar": {
              "outlinewidth": 0,
              "ticks": ""
             }
            },
            "type": "scattercarpet"
           }
          ],
          "scattergeo": [
           {
            "marker": {
             "colorbar": {
              "outlinewidth": 0,
              "ticks": ""
             }
            },
            "type": "scattergeo"
           }
          ],
          "scattergl": [
           {
            "marker": {
             "colorbar": {
              "outlinewidth": 0,
              "ticks": ""
             }
            },
            "type": "scattergl"
           }
          ],
          "scattermapbox": [
           {
            "marker": {
             "colorbar": {
              "outlinewidth": 0,
              "ticks": ""
             }
            },
            "type": "scattermapbox"
           }
          ],
          "scatterpolar": [
           {
            "marker": {
             "colorbar": {
              "outlinewidth": 0,
              "ticks": ""
             }
            },
            "type": "scatterpolar"
           }
          ],
          "scatterpolargl": [
           {
            "marker": {
             "colorbar": {
              "outlinewidth": 0,
              "ticks": ""
             }
            },
            "type": "scatterpolargl"
           }
          ],
          "scatterternary": [
           {
            "marker": {
             "colorbar": {
              "outlinewidth": 0,
              "ticks": ""
             }
            },
            "type": "scatterternary"
           }
          ],
          "surface": [
           {
            "colorbar": {
             "outlinewidth": 0,
             "ticks": ""
            },
            "colorscale": [
             [
              0,
              "#0d0887"
             ],
             [
              0.1111111111111111,
              "#46039f"
             ],
             [
              0.2222222222222222,
              "#7201a8"
             ],
             [
              0.3333333333333333,
              "#9c179e"
             ],
             [
              0.4444444444444444,
              "#bd3786"
             ],
             [
              0.5555555555555556,
              "#d8576b"
             ],
             [
              0.6666666666666666,
              "#ed7953"
             ],
             [
              0.7777777777777778,
              "#fb9f3a"
             ],
             [
              0.8888888888888888,
              "#fdca26"
             ],
             [
              1,
              "#f0f921"
             ]
            ],
            "type": "surface"
           }
          ],
          "table": [
           {
            "cells": {
             "fill": {
              "color": "#EBF0F8"
             },
             "line": {
              "color": "white"
             }
            },
            "header": {
             "fill": {
              "color": "#C8D4E3"
             },
             "line": {
              "color": "white"
             }
            },
            "type": "table"
           }
          ]
         },
         "layout": {
          "annotationdefaults": {
           "arrowcolor": "#2a3f5f",
           "arrowhead": 0,
           "arrowwidth": 1
          },
          "coloraxis": {
           "colorbar": {
            "outlinewidth": 0,
            "ticks": ""
           }
          },
          "colorscale": {
           "diverging": [
            [
             0,
             "#8e0152"
            ],
            [
             0.1,
             "#c51b7d"
            ],
            [
             0.2,
             "#de77ae"
            ],
            [
             0.3,
             "#f1b6da"
            ],
            [
             0.4,
             "#fde0ef"
            ],
            [
             0.5,
             "#f7f7f7"
            ],
            [
             0.6,
             "#e6f5d0"
            ],
            [
             0.7,
             "#b8e186"
            ],
            [
             0.8,
             "#7fbc41"
            ],
            [
             0.9,
             "#4d9221"
            ],
            [
             1,
             "#276419"
            ]
           ],
           "sequential": [
            [
             0,
             "#0d0887"
            ],
            [
             0.1111111111111111,
             "#46039f"
            ],
            [
             0.2222222222222222,
             "#7201a8"
            ],
            [
             0.3333333333333333,
             "#9c179e"
            ],
            [
             0.4444444444444444,
             "#bd3786"
            ],
            [
             0.5555555555555556,
             "#d8576b"
            ],
            [
             0.6666666666666666,
             "#ed7953"
            ],
            [
             0.7777777777777778,
             "#fb9f3a"
            ],
            [
             0.8888888888888888,
             "#fdca26"
            ],
            [
             1,
             "#f0f921"
            ]
           ],
           "sequentialminus": [
            [
             0,
             "#0d0887"
            ],
            [
             0.1111111111111111,
             "#46039f"
            ],
            [
             0.2222222222222222,
             "#7201a8"
            ],
            [
             0.3333333333333333,
             "#9c179e"
            ],
            [
             0.4444444444444444,
             "#bd3786"
            ],
            [
             0.5555555555555556,
             "#d8576b"
            ],
            [
             0.6666666666666666,
             "#ed7953"
            ],
            [
             0.7777777777777778,
             "#fb9f3a"
            ],
            [
             0.8888888888888888,
             "#fdca26"
            ],
            [
             1,
             "#f0f921"
            ]
           ]
          },
          "colorway": [
           "#636efa",
           "#EF553B",
           "#00cc96",
           "#ab63fa",
           "#FFA15A",
           "#19d3f3",
           "#FF6692",
           "#B6E880",
           "#FF97FF",
           "#FECB52"
          ],
          "font": {
           "color": "#2a3f5f"
          },
          "geo": {
           "bgcolor": "white",
           "lakecolor": "white",
           "landcolor": "#E5ECF6",
           "showlakes": true,
           "showland": true,
           "subunitcolor": "white"
          },
          "hoverlabel": {
           "align": "left"
          },
          "hovermode": "closest",
          "mapbox": {
           "style": "light"
          },
          "paper_bgcolor": "white",
          "plot_bgcolor": "#E5ECF6",
          "polar": {
           "angularaxis": {
            "gridcolor": "white",
            "linecolor": "white",
            "ticks": ""
           },
           "bgcolor": "#E5ECF6",
           "radialaxis": {
            "gridcolor": "white",
            "linecolor": "white",
            "ticks": ""
           }
          },
          "scene": {
           "xaxis": {
            "backgroundcolor": "#E5ECF6",
            "gridcolor": "white",
            "gridwidth": 2,
            "linecolor": "white",
            "showbackground": true,
            "ticks": "",
            "zerolinecolor": "white"
           },
           "yaxis": {
            "backgroundcolor": "#E5ECF6",
            "gridcolor": "white",
            "gridwidth": 2,
            "linecolor": "white",
            "showbackground": true,
            "ticks": "",
            "zerolinecolor": "white"
           },
           "zaxis": {
            "backgroundcolor": "#E5ECF6",
            "gridcolor": "white",
            "gridwidth": 2,
            "linecolor": "white",
            "showbackground": true,
            "ticks": "",
            "zerolinecolor": "white"
           }
          },
          "shapedefaults": {
           "line": {
            "color": "#2a3f5f"
           }
          },
          "ternary": {
           "aaxis": {
            "gridcolor": "white",
            "linecolor": "white",
            "ticks": ""
           },
           "baxis": {
            "gridcolor": "white",
            "linecolor": "white",
            "ticks": ""
           },
           "bgcolor": "#E5ECF6",
           "caxis": {
            "gridcolor": "white",
            "linecolor": "white",
            "ticks": ""
           }
          },
          "title": {
           "x": 0.05
          },
          "xaxis": {
           "automargin": true,
           "gridcolor": "white",
           "linecolor": "white",
           "ticks": "",
           "title": {
            "standoff": 15
           },
           "zerolinecolor": "white",
           "zerolinewidth": 2
          },
          "yaxis": {
           "automargin": true,
           "gridcolor": "white",
           "linecolor": "white",
           "ticks": "",
           "title": {
            "standoff": 15
           },
           "zerolinecolor": "white",
           "zerolinewidth": 2
          }
         }
        },
        "title": {
         "font": {
          "color": "#4D5663"
         }
        },
        "xaxis": {
         "gridcolor": "#E1E5ED",
         "showgrid": true,
         "tickfont": {
          "color": "#4D5663"
         },
         "title": {
          "font": {
           "color": "#4D5663"
          },
          "text": ""
         },
         "zerolinecolor": "#E1E5ED"
        },
        "yaxis": {
         "gridcolor": "#E1E5ED",
         "showgrid": true,
         "tickfont": {
          "color": "#4D5663"
         },
         "title": {
          "font": {
           "color": "#4D5663"
          },
          "text": ""
         },
         "zerolinecolor": "#E1E5ED"
        }
       }
      },
      "text/html": [
       "<div>\n",
       "        \n",
       "        \n",
       "            <div id=\"b478b663-3faf-47b1-8333-d6a5423bc891\" class=\"plotly-graph-div\" style=\"height:525px; width:100%;\"></div>\n",
       "            <script type=\"text/javascript\">\n",
       "                require([\"plotly\"], function(Plotly) {\n",
       "                    window.PLOTLYENV=window.PLOTLYENV || {};\n",
       "                    window.PLOTLYENV.BASE_URL='https://plot.ly';\n",
       "                    \n",
       "                if (document.getElementById(\"b478b663-3faf-47b1-8333-d6a5423bc891\")) {\n",
       "                    Plotly.newPlot(\n",
       "                        'b478b663-3faf-47b1-8333-d6a5423bc891',\n",
       "                        [{\"histfunc\": \"count\", \"histnorm\": \"\", \"marker\": {\"color\": \"rgba(255, 153, 51, 1.0)\", \"line\": {\"color\": \"#4D5663\", \"width\": 1.3}}, \"name\": \"A\", \"nbinsx\": 25, \"opacity\": 0.8, \"orientation\": \"v\", \"type\": \"histogram\", \"x\": [-0.045220991541672514, 0.6780430845497113, 1.0057065998631551, -0.9728874120987261, -0.1429232842760107, 1.2921833308681698, 0.16399911560590277, 0.5864133066083158, 0.005048291501591372, 0.18320948521328073, -2.49509747225579, 1.3256859636637544, -1.6793176056440045, 1.2723860638991833, 1.578103990878968, 1.6643859249494612, -0.7935622243303689, 1.4753187604179476, -0.5171412718010686, 1.2361846435347696, 1.704522844836798, 0.8695553230428329, 0.04824931042202152, -0.5596124096097523, -1.1327010356287375, -1.406914574214415, -0.2760296743683121, 0.8499750408369918, 0.2733027589733112, -0.9270609774179835, -0.11937096459563867, -1.6341734716797336, -0.41805224566733007, 0.050751069046720734, -0.20458127481769103, -2.014914541732928, 1.1293271143962424, -0.535345544707788, 0.7205565368377175, 0.4434882575852396, 2.287900075088307, 0.8593080673185117, -0.8474654655180363, 0.5740891945961737, 0.866934071277127, 1.6599286334175802, 1.1413585505968555, -0.12489284454263366, 1.0077112317489567, -0.8015057558969182, 0.06322142018660247, 0.02030583905367841, 1.310214444831818, 0.3220132314938279, -1.7460855703860538, 1.4814702223140728, -0.8035722883805491, -0.8977913265652391, 0.4834089731976079, 1.4171127102051564, 1.4755906750430359, 2.0461501156802657, 1.8315708147771137, -0.7776544535304498, 0.9212441621689802, -1.070857782437202, 0.2665485378678139, -0.2375412783190445, 0.12928115685388808, -1.5094640119124836, 0.36096311670622444, 0.3449732335562818, 0.9268319900465413, -0.8784088858281468, 0.35568448009216114, -0.08607414252524906, 1.213447359424447, 1.220582787720631, -1.5714006178028541, 0.3772038547775565, 0.1836811429063996, 0.23643055367021165, -0.14944956474447565, 1.2660528101080524, -0.5669141209856902, -0.061203227869747794, -1.0152345093451074, -0.06490705351212794, -0.0967940059628407, 0.4630555535765282, -1.5499008045555307, 0.3662054810766103, 1.3967190454514729, -1.2459338585587063, -0.4192847012410866, -0.9966152679852247, -0.8929790395801137, -0.375225580512482, 1.11697358465709, 0.22825455583325077]}],\n",
       "                        {\"barmode\": \"overlay\", \"legend\": {\"bgcolor\": \"#F5F6F9\", \"font\": {\"color\": \"#4D5663\"}}, \"paper_bgcolor\": \"#F5F6F9\", \"plot_bgcolor\": \"#F5F6F9\", \"template\": {\"data\": {\"bar\": [{\"error_x\": {\"color\": \"#2a3f5f\"}, \"error_y\": {\"color\": \"#2a3f5f\"}, \"marker\": {\"line\": {\"color\": \"#E5ECF6\", \"width\": 0.5}}, \"type\": \"bar\"}], \"barpolar\": [{\"marker\": {\"line\": {\"color\": \"#E5ECF6\", \"width\": 0.5}}, \"type\": \"barpolar\"}], \"carpet\": [{\"aaxis\": {\"endlinecolor\": \"#2a3f5f\", \"gridcolor\": \"white\", \"linecolor\": \"white\", \"minorgridcolor\": \"white\", \"startlinecolor\": \"#2a3f5f\"}, \"baxis\": {\"endlinecolor\": \"#2a3f5f\", \"gridcolor\": \"white\", \"linecolor\": \"white\", \"minorgridcolor\": \"white\", \"startlinecolor\": \"#2a3f5f\"}, \"type\": \"carpet\"}], \"choropleth\": [{\"colorbar\": {\"outlinewidth\": 0, \"ticks\": \"\"}, \"type\": \"choropleth\"}], \"contour\": [{\"colorbar\": {\"outlinewidth\": 0, \"ticks\": \"\"}, \"colorscale\": [[0.0, \"#0d0887\"], [0.1111111111111111, \"#46039f\"], [0.2222222222222222, \"#7201a8\"], [0.3333333333333333, \"#9c179e\"], [0.4444444444444444, \"#bd3786\"], [0.5555555555555556, \"#d8576b\"], [0.6666666666666666, \"#ed7953\"], [0.7777777777777778, \"#fb9f3a\"], [0.8888888888888888, \"#fdca26\"], [1.0, \"#f0f921\"]], \"type\": \"contour\"}], \"contourcarpet\": [{\"colorbar\": {\"outlinewidth\": 0, \"ticks\": \"\"}, \"type\": \"contourcarpet\"}], \"heatmap\": [{\"colorbar\": {\"outlinewidth\": 0, \"ticks\": \"\"}, \"colorscale\": [[0.0, \"#0d0887\"], [0.1111111111111111, \"#46039f\"], [0.2222222222222222, \"#7201a8\"], [0.3333333333333333, \"#9c179e\"], [0.4444444444444444, \"#bd3786\"], [0.5555555555555556, \"#d8576b\"], [0.6666666666666666, \"#ed7953\"], [0.7777777777777778, \"#fb9f3a\"], [0.8888888888888888, \"#fdca26\"], [1.0, \"#f0f921\"]], \"type\": \"heatmap\"}], \"heatmapgl\": [{\"colorbar\": {\"outlinewidth\": 0, \"ticks\": \"\"}, \"colorscale\": [[0.0, \"#0d0887\"], [0.1111111111111111, \"#46039f\"], [0.2222222222222222, \"#7201a8\"], [0.3333333333333333, \"#9c179e\"], [0.4444444444444444, \"#bd3786\"], [0.5555555555555556, \"#d8576b\"], [0.6666666666666666, \"#ed7953\"], [0.7777777777777778, \"#fb9f3a\"], [0.8888888888888888, \"#fdca26\"], [1.0, \"#f0f921\"]], \"type\": \"heatmapgl\"}], \"histogram\": [{\"marker\": {\"colorbar\": {\"outlinewidth\": 0, \"ticks\": \"\"}}, \"type\": \"histogram\"}], \"histogram2d\": [{\"colorbar\": {\"outlinewidth\": 0, \"ticks\": \"\"}, \"colorscale\": [[0.0, \"#0d0887\"], [0.1111111111111111, \"#46039f\"], [0.2222222222222222, \"#7201a8\"], [0.3333333333333333, \"#9c179e\"], [0.4444444444444444, \"#bd3786\"], [0.5555555555555556, \"#d8576b\"], [0.6666666666666666, \"#ed7953\"], [0.7777777777777778, \"#fb9f3a\"], [0.8888888888888888, \"#fdca26\"], [1.0, \"#f0f921\"]], \"type\": \"histogram2d\"}], \"histogram2dcontour\": [{\"colorbar\": {\"outlinewidth\": 0, \"ticks\": \"\"}, \"colorscale\": [[0.0, \"#0d0887\"], [0.1111111111111111, \"#46039f\"], [0.2222222222222222, \"#7201a8\"], [0.3333333333333333, \"#9c179e\"], [0.4444444444444444, \"#bd3786\"], [0.5555555555555556, \"#d8576b\"], [0.6666666666666666, \"#ed7953\"], [0.7777777777777778, \"#fb9f3a\"], [0.8888888888888888, \"#fdca26\"], [1.0, \"#f0f921\"]], \"type\": \"histogram2dcontour\"}], \"mesh3d\": [{\"colorbar\": {\"outlinewidth\": 0, \"ticks\": \"\"}, \"type\": \"mesh3d\"}], \"parcoords\": [{\"line\": {\"colorbar\": {\"outlinewidth\": 0, \"ticks\": \"\"}}, \"type\": \"parcoords\"}], \"pie\": [{\"automargin\": true, \"type\": \"pie\"}], \"scatter\": [{\"marker\": {\"colorbar\": {\"outlinewidth\": 0, \"ticks\": \"\"}}, \"type\": \"scatter\"}], \"scatter3d\": [{\"line\": {\"colorbar\": {\"outlinewidth\": 0, \"ticks\": \"\"}}, \"marker\": {\"colorbar\": {\"outlinewidth\": 0, \"ticks\": \"\"}}, \"type\": \"scatter3d\"}], \"scattercarpet\": [{\"marker\": {\"colorbar\": {\"outlinewidth\": 0, \"ticks\": \"\"}}, \"type\": \"scattercarpet\"}], \"scattergeo\": [{\"marker\": {\"colorbar\": {\"outlinewidth\": 0, \"ticks\": \"\"}}, \"type\": \"scattergeo\"}], \"scattergl\": [{\"marker\": {\"colorbar\": {\"outlinewidth\": 0, \"ticks\": \"\"}}, \"type\": \"scattergl\"}], \"scattermapbox\": [{\"marker\": {\"colorbar\": {\"outlinewidth\": 0, \"ticks\": \"\"}}, \"type\": \"scattermapbox\"}], \"scatterpolar\": [{\"marker\": {\"colorbar\": {\"outlinewidth\": 0, \"ticks\": \"\"}}, \"type\": \"scatterpolar\"}], \"scatterpolargl\": [{\"marker\": {\"colorbar\": {\"outlinewidth\": 0, \"ticks\": \"\"}}, \"type\": \"scatterpolargl\"}], \"scatterternary\": [{\"marker\": {\"colorbar\": {\"outlinewidth\": 0, \"ticks\": \"\"}}, \"type\": \"scatterternary\"}], \"surface\": [{\"colorbar\": {\"outlinewidth\": 0, \"ticks\": \"\"}, \"colorscale\": [[0.0, \"#0d0887\"], [0.1111111111111111, \"#46039f\"], [0.2222222222222222, \"#7201a8\"], [0.3333333333333333, \"#9c179e\"], [0.4444444444444444, \"#bd3786\"], [0.5555555555555556, \"#d8576b\"], [0.6666666666666666, \"#ed7953\"], [0.7777777777777778, \"#fb9f3a\"], [0.8888888888888888, \"#fdca26\"], [1.0, \"#f0f921\"]], \"type\": \"surface\"}], \"table\": [{\"cells\": {\"fill\": {\"color\": \"#EBF0F8\"}, \"line\": {\"color\": \"white\"}}, \"header\": {\"fill\": {\"color\": \"#C8D4E3\"}, \"line\": {\"color\": \"white\"}}, \"type\": \"table\"}]}, \"layout\": {\"annotationdefaults\": {\"arrowcolor\": \"#2a3f5f\", \"arrowhead\": 0, \"arrowwidth\": 1}, \"coloraxis\": {\"colorbar\": {\"outlinewidth\": 0, \"ticks\": \"\"}}, \"colorscale\": {\"diverging\": [[0, \"#8e0152\"], [0.1, \"#c51b7d\"], [0.2, \"#de77ae\"], [0.3, \"#f1b6da\"], [0.4, \"#fde0ef\"], [0.5, \"#f7f7f7\"], [0.6, \"#e6f5d0\"], [0.7, \"#b8e186\"], [0.8, \"#7fbc41\"], [0.9, \"#4d9221\"], [1, \"#276419\"]], \"sequential\": [[0.0, \"#0d0887\"], [0.1111111111111111, \"#46039f\"], [0.2222222222222222, \"#7201a8\"], [0.3333333333333333, \"#9c179e\"], [0.4444444444444444, \"#bd3786\"], [0.5555555555555556, \"#d8576b\"], [0.6666666666666666, \"#ed7953\"], [0.7777777777777778, \"#fb9f3a\"], [0.8888888888888888, \"#fdca26\"], [1.0, \"#f0f921\"]], \"sequentialminus\": [[0.0, \"#0d0887\"], [0.1111111111111111, \"#46039f\"], [0.2222222222222222, \"#7201a8\"], [0.3333333333333333, \"#9c179e\"], [0.4444444444444444, \"#bd3786\"], [0.5555555555555556, \"#d8576b\"], [0.6666666666666666, \"#ed7953\"], [0.7777777777777778, \"#fb9f3a\"], [0.8888888888888888, \"#fdca26\"], [1.0, \"#f0f921\"]]}, \"colorway\": [\"#636efa\", \"#EF553B\", \"#00cc96\", \"#ab63fa\", \"#FFA15A\", \"#19d3f3\", \"#FF6692\", \"#B6E880\", \"#FF97FF\", \"#FECB52\"], \"font\": {\"color\": \"#2a3f5f\"}, \"geo\": {\"bgcolor\": \"white\", \"lakecolor\": \"white\", \"landcolor\": \"#E5ECF6\", \"showlakes\": true, \"showland\": true, \"subunitcolor\": \"white\"}, \"hoverlabel\": {\"align\": \"left\"}, \"hovermode\": \"closest\", \"mapbox\": {\"style\": \"light\"}, \"paper_bgcolor\": \"white\", \"plot_bgcolor\": \"#E5ECF6\", \"polar\": {\"angularaxis\": {\"gridcolor\": \"white\", \"linecolor\": \"white\", \"ticks\": \"\"}, \"bgcolor\": \"#E5ECF6\", \"radialaxis\": {\"gridcolor\": \"white\", \"linecolor\": \"white\", \"ticks\": \"\"}}, \"scene\": {\"xaxis\": {\"backgroundcolor\": \"#E5ECF6\", \"gridcolor\": \"white\", \"gridwidth\": 2, \"linecolor\": \"white\", \"showbackground\": true, \"ticks\": \"\", \"zerolinecolor\": \"white\"}, \"yaxis\": {\"backgroundcolor\": \"#E5ECF6\", \"gridcolor\": \"white\", \"gridwidth\": 2, \"linecolor\": \"white\", \"showbackground\": true, \"ticks\": \"\", \"zerolinecolor\": \"white\"}, \"zaxis\": {\"backgroundcolor\": \"#E5ECF6\", \"gridcolor\": \"white\", \"gridwidth\": 2, \"linecolor\": \"white\", \"showbackground\": true, \"ticks\": \"\", \"zerolinecolor\": \"white\"}}, \"shapedefaults\": {\"line\": {\"color\": \"#2a3f5f\"}}, \"ternary\": {\"aaxis\": {\"gridcolor\": \"white\", \"linecolor\": \"white\", \"ticks\": \"\"}, \"baxis\": {\"gridcolor\": \"white\", \"linecolor\": \"white\", \"ticks\": \"\"}, \"bgcolor\": \"#E5ECF6\", \"caxis\": {\"gridcolor\": \"white\", \"linecolor\": \"white\", \"ticks\": \"\"}}, \"title\": {\"x\": 0.05}, \"xaxis\": {\"automargin\": true, \"gridcolor\": \"white\", \"linecolor\": \"white\", \"ticks\": \"\", \"title\": {\"standoff\": 15}, \"zerolinecolor\": \"white\", \"zerolinewidth\": 2}, \"yaxis\": {\"automargin\": true, \"gridcolor\": \"white\", \"linecolor\": \"white\", \"ticks\": \"\", \"title\": {\"standoff\": 15}, \"zerolinecolor\": \"white\", \"zerolinewidth\": 2}}}, \"title\": {\"font\": {\"color\": \"#4D5663\"}}, \"xaxis\": {\"gridcolor\": \"#E1E5ED\", \"showgrid\": true, \"tickfont\": {\"color\": \"#4D5663\"}, \"title\": {\"font\": {\"color\": \"#4D5663\"}, \"text\": \"\"}, \"zerolinecolor\": \"#E1E5ED\"}, \"yaxis\": {\"gridcolor\": \"#E1E5ED\", \"showgrid\": true, \"tickfont\": {\"color\": \"#4D5663\"}, \"title\": {\"font\": {\"color\": \"#4D5663\"}, \"text\": \"\"}, \"zerolinecolor\": \"#E1E5ED\"}},\n",
       "                        {\"showLink\": true, \"linkText\": \"Export to plot.ly\", \"plotlyServerURL\": \"https://plot.ly\", \"responsive\": true}\n",
       "                    ).then(function(){\n",
       "                            \n",
       "var gd = document.getElementById('b478b663-3faf-47b1-8333-d6a5423bc891');\n",
       "var x = new MutationObserver(function (mutations, observer) {{\n",
       "        var display = window.getComputedStyle(gd).display;\n",
       "        if (!display || display === 'none') {{\n",
       "            console.log([gd, 'removed!']);\n",
       "            Plotly.purge(gd);\n",
       "            observer.disconnect();\n",
       "        }}\n",
       "}});\n",
       "\n",
       "// Listen for the removal of the full notebook cells\n",
       "var notebookContainer = gd.closest('#notebook-container');\n",
       "if (notebookContainer) {{\n",
       "    x.observe(notebookContainer, {childList: true});\n",
       "}}\n",
       "\n",
       "// Listen for the clearing of the current output cell\n",
       "var outputEl = gd.closest('.output');\n",
       "if (outputEl) {{\n",
       "    x.observe(outputEl, {childList: true});\n",
       "}}\n",
       "\n",
       "                        })\n",
       "                };\n",
       "                });\n",
       "            </script>\n",
       "        </div>"
      ]
     },
     "metadata": {},
     "output_type": "display_data"
    }
   ],
   "source": [
    "df['A'].iplot(kind='hist',bins=25)"
   ]
  },
  {
   "cell_type": "code",
   "execution_count": 37,
   "metadata": {},
   "outputs": [
    {
     "data": {
      "application/vnd.plotly.v1+json": {
       "config": {
        "linkText": "Export to plot.ly",
        "plotlyServerURL": "https://plot.ly",
        "showLink": true
       },
       "data": [
        {
         "histfunc": "count",
         "histnorm": "",
         "marker": {
          "color": "rgba(255, 153, 51, 1.0)",
          "line": {
           "color": "#4D5663",
           "width": 1.3
          }
         },
         "name": "A",
         "opacity": 0.8,
         "orientation": "v",
         "type": "histogram",
         "x": [
          -0.045220991541672514,
          0.6780430845497113,
          1.0057065998631551,
          -0.9728874120987261,
          -0.1429232842760107,
          1.2921833308681698,
          0.16399911560590277,
          0.5864133066083158,
          0.005048291501591372,
          0.18320948521328073,
          -2.49509747225579,
          1.3256859636637544,
          -1.6793176056440045,
          1.2723860638991833,
          1.578103990878968,
          1.6643859249494612,
          -0.7935622243303689,
          1.4753187604179476,
          -0.5171412718010686,
          1.2361846435347696,
          1.704522844836798,
          0.8695553230428329,
          0.04824931042202152,
          -0.5596124096097523,
          -1.1327010356287375,
          -1.406914574214415,
          -0.2760296743683121,
          0.8499750408369918,
          0.2733027589733112,
          -0.9270609774179835,
          -0.11937096459563867,
          -1.6341734716797336,
          -0.41805224566733007,
          0.050751069046720734,
          -0.20458127481769103,
          -2.014914541732928,
          1.1293271143962424,
          -0.535345544707788,
          0.7205565368377175,
          0.4434882575852396,
          2.287900075088307,
          0.8593080673185117,
          -0.8474654655180363,
          0.5740891945961737,
          0.866934071277127,
          1.6599286334175802,
          1.1413585505968555,
          -0.12489284454263366,
          1.0077112317489567,
          -0.8015057558969182,
          0.06322142018660247,
          0.02030583905367841,
          1.310214444831818,
          0.3220132314938279,
          -1.7460855703860538,
          1.4814702223140728,
          -0.8035722883805491,
          -0.8977913265652391,
          0.4834089731976079,
          1.4171127102051564,
          1.4755906750430359,
          2.0461501156802657,
          1.8315708147771137,
          -0.7776544535304498,
          0.9212441621689802,
          -1.070857782437202,
          0.2665485378678139,
          -0.2375412783190445,
          0.12928115685388808,
          -1.5094640119124836,
          0.36096311670622444,
          0.3449732335562818,
          0.9268319900465413,
          -0.8784088858281468,
          0.35568448009216114,
          -0.08607414252524906,
          1.213447359424447,
          1.220582787720631,
          -1.5714006178028541,
          0.3772038547775565,
          0.1836811429063996,
          0.23643055367021165,
          -0.14944956474447565,
          1.2660528101080524,
          -0.5669141209856902,
          -0.061203227869747794,
          -1.0152345093451074,
          -0.06490705351212794,
          -0.0967940059628407,
          0.4630555535765282,
          -1.5499008045555307,
          0.3662054810766103,
          1.3967190454514729,
          -1.2459338585587063,
          -0.4192847012410866,
          -0.9966152679852247,
          -0.8929790395801137,
          -0.375225580512482,
          1.11697358465709,
          0.22825455583325077
         ]
        },
        {
         "histfunc": "count",
         "histnorm": "",
         "marker": {
          "color": "rgba(55, 128, 191, 1.0)",
          "line": {
           "color": "#4D5663",
           "width": 1.3
          }
         },
         "name": "B",
         "opacity": 0.8,
         "orientation": "v",
         "type": "histogram",
         "x": [
          -0.013295768492124153,
          -0.27074517491106564,
          -0.48041519701937146,
          -0.15747940179591474,
          0.2558515658031597,
          -0.15662119891997725,
          0.3479723140894033,
          -0.15084375498932429,
          0.06228336036949375,
          0.9736025112157594,
          0.5402519563550914,
          0.8682305950906869,
          -0.65170589410664,
          0.678613203133178,
          -0.057432097459745896,
          0.6932633553636146,
          -1.9939719746754565,
          -2.002802721971022,
          0.25746993202325685,
          0.4889548095852013,
          -0.7168527223620486,
          -1.2923706473113479,
          -0.6753735457834736,
          0.9202025865444132,
          1.4670937547148066,
          0.18474639375151114,
          1.5237228427501046,
          0.6555734068239183,
          -1.6536292861970667,
          0.04987606236109394,
          0.7564239173991238,
          -1.215415085919389,
          -0.6904670180577785,
          0.8332193013800037,
          0.062395229603287104,
          3.115989368570276,
          -1.0011794943455687,
          0.29053598685344056,
          -0.029260709986795252,
          -0.37251804313432424,
          0.48538385105860427,
          -0.833960660422719,
          0.12828209855485537,
          -0.36647237774781805,
          -0.2562272216832282,
          0.2689613943245282,
          0.039384657809476246,
          0.9003688284552946,
          -0.03498553399708273,
          0.03852162330557176,
          1.4029672622615341,
          0.4722881623952208,
          -0.655692389374444,
          0.35094145422495787,
          2.025198109041344,
          0.6214822754704921,
          0.6995612430798638,
          0.3730785899429117,
          0.602967469726209,
          0.04571784171804009,
          0.3266369638556332,
          -0.31846827964026114,
          0.15383690822073517,
          -0.338144285317204,
          1.884543871930759,
          0.40335856103092854,
          0.4150036654412097,
          1.487026005753503,
          0.12374285847035515,
          0.8366685261562422,
          0.5795360711488374,
          1.614778779962535,
          -1.5065686107987333,
          1.5592396986044814,
          -0.32329791999507934,
          -0.9318225839805766,
          -1.1578286591490894,
          -0.041709953393487105,
          2.337128989736377,
          -0.5557500637748092,
          -0.801289268411741,
          -0.9626995069095104,
          -0.4290769015529991,
          1.6348652562575745,
          0.7716484917337753,
          -1.505387304121753,
          -0.15247950644685498,
          2.0875013582731077,
          0.8138442069099916,
          -0.5980676063757108,
          -1.0733335543265496,
          -0.5453515556217455,
          0.27422936109205454,
          0.40974088231107303,
          0.5706700018492756,
          -1.9690048686611612,
          0.3942186062027898,
          1.0710514434878289,
          -0.5441656857116004,
          -0.26082261070316265
         ]
        },
        {
         "histfunc": "count",
         "histnorm": "",
         "marker": {
          "color": "rgba(50, 171, 96, 1.0)",
          "line": {
           "color": "#4D5663",
           "width": 1.3
          }
         },
         "name": "C",
         "opacity": 0.8,
         "orientation": "v",
         "type": "histogram",
         "x": [
          0.13873828079658243,
          0.004189153867128753,
          0.09682297277796335,
          -1.944173718156881,
          -1.509648123220136,
          -0.2562642772096215,
          1.1425384061525947,
          1.8381697029094315,
          -0.89523389287459,
          -0.11167869593903061,
          1.868391686565969,
          0.926008375873174,
          -0.5375160643538771,
          -2.21354100606647,
          0.13758441049616993,
          -1.6127200438386537,
          0.836629941326483,
          0.982639029672047,
          -1.4267965171737238,
          -0.7340729325482471,
          0.33979196381839,
          -0.0975870854132879,
          -0.6148688825087985,
          0.5147673433285442,
          -0.9481706485625584,
          -0.04271544928766234,
          1.3243642261933142,
          -0.8546463501044619,
          -0.599297728305147,
          0.04548785985911168,
          -0.4811079491622432,
          -1.774406825632185,
          -0.7702693340792561,
          -0.4748276882281734,
          0.9768466741741556,
          0.6901701186316009,
          -0.3163663233169675,
          0.21287078406361903,
          1.136115798865693,
          0.33720867240916724,
          1.033480878886706,
          -0.185564645796627,
          -0.10859162252684647,
          0.0011082298498769818,
          -1.1007152668847089,
          0.590790643787503,
          0.7924839944953712,
          1.1310755853681902,
          0.20678821376316955,
          0.24112123763139306,
          1.2357128959168289,
          -0.49945309036356245,
          -0.3438373786786498,
          -1.974197190227374,
          -0.17757562574931995,
          -1.477475520667104,
          -1.3876057638569905,
          0.7462505236735426,
          -0.8287043340198685,
          -0.3133316893236558,
          0.055715575088475404,
          -1.9505041054363514,
          -0.7276070321344944,
          -0.34043567190802565,
          0.606938441762185,
          1.3179143702571974,
          -0.7809922643385032,
          -0.32097787481639667,
          0.4256234210720113,
          -0.07335408475851667,
          0.3671507620785513,
          0.02747103411586101,
          -0.03694446480914026,
          1.3688673794512007,
          1.0148027798988821,
          -0.39597774323778956,
          0.5455817623527611,
          -1.1833906968924781,
          0.5047148544381632,
          -0.9086647103866449,
          -0.5041775256575728,
          -3.2175858667536223,
          -1.4626369755166713,
          -0.8760406447373471,
          -1.5329422094336318,
          -0.07856244032320203,
          0.7258509590435329,
          -0.7169536298739123,
          0.47821301919925535,
          -1.6070953362840454,
          0.18492608791772172,
          0.4831953421913388,
          -0.46527559209292835,
          -0.057744579710930236,
          2.0151435673920908,
          -1.202496502277343,
          1.1154447255484976,
          -1.8995728472275581,
          -0.07759942120844565,
          0.5096943059187304
         ]
        },
        {
         "histfunc": "count",
         "histnorm": "",
         "marker": {
          "color": "rgba(128, 0, 128, 1.0)",
          "line": {
           "color": "#4D5663",
           "width": 1.3
          }
         },
         "name": "D",
         "opacity": 0.8,
         "orientation": "v",
         "type": "histogram",
         "x": [
          -0.4337879491334362,
          0.7976012586008668,
          0.04679388847070139,
          0.8210509017025851,
          -0.47737624449913807,
          -2.7113749177309034,
          -0.3467805670259546,
          -0.9656770508426309,
          0.26838356597477203,
          1.111511291342199,
          -0.3724119499893848,
          -0.6879024860078657,
          0.12543381105475546,
          1.5141660057493092,
          0.0031518850461970446,
          -1.8862220831122953,
          -0.8366577378678488,
          0.24412695824901426,
          -0.29940606815106224,
          -1.108196501494843,
          -1.3682950024746594,
          -2.3631574734573317,
          -3.0855407392711185,
          -0.8490098793244223,
          -0.27307010329833803,
          -0.2364030920459769,
          0.6643850678309491,
          -0.3928846608662631,
          -1.1134663891849492,
          0.5259166824485958,
          1.2767655084421516,
          0.0354705094250525,
          -0.22469254344204675,
          1.6272211270560817,
          -0.414669543582508,
          0.7139322291458065,
          -2.470709743384897,
          1.5386164967793026,
          0.7160072919906816,
          0.1417813834395697,
          -0.4043862753593802,
          -1.8071493515932677,
          -1.3723541348893524,
          1.0948479544848693,
          0.9989596265551828,
          -0.6478008481453175,
          1.4124754326601883,
          0.4346882253946431,
          -0.7348738360323315,
          0.870683905831478,
          0.6579668551742296,
          -1.9940535889544115,
          -0.005078270571319728,
          1.3365837181328428,
          0.10899587834151302,
          0.9165248381194471,
          -0.6368591137339633,
          0.7119659996376386,
          0.986580694631742,
          0.416081849948451,
          0.5352805242252674,
          0.5208318750173206,
          0.9571424944340965,
          -0.3901599757044315,
          -1.1401073992251733,
          0.3340180184206363,
          0.7406991050707952,
          0.4647617310146391,
          1.2959649906828112,
          -0.47230962246013475,
          0.1567297692468287,
          -0.37393093428584573,
          1.2767768262192751,
          0.3461111052548227,
          -1.022476851684093,
          0.6349317486094176,
          -0.15101842538131852,
          0.033728646201024046,
          0.2667964330454267,
          1.0629785526860123,
          -1.0917878409952968,
          -0.3582307526329137,
          0.5524824823445418,
          -1.0013894542109176,
          -1.9607511780597788,
          -2.7722741185384954,
          0.01864704728907342,
          0.6571359736547979,
          1.7367344460001817,
          0.32949603949899275,
          0.42953810085154065,
          -0.6237116485501133,
          0.20610138838812966,
          1.1257106532373393,
          0.07309187136866693,
          0.1825421452130804,
          -1.410613394522949,
          0.32020366902474606,
          -0.1891096779802458,
          1.1968104396498749
         ]
        }
       ],
       "layout": {
        "barmode": "overlay",
        "legend": {
         "bgcolor": "#F5F6F9",
         "font": {
          "color": "#4D5663"
         }
        },
        "paper_bgcolor": "#F5F6F9",
        "plot_bgcolor": "#F5F6F9",
        "template": {
         "data": {
          "bar": [
           {
            "error_x": {
             "color": "#2a3f5f"
            },
            "error_y": {
             "color": "#2a3f5f"
            },
            "marker": {
             "line": {
              "color": "#E5ECF6",
              "width": 0.5
             }
            },
            "type": "bar"
           }
          ],
          "barpolar": [
           {
            "marker": {
             "line": {
              "color": "#E5ECF6",
              "width": 0.5
             }
            },
            "type": "barpolar"
           }
          ],
          "carpet": [
           {
            "aaxis": {
             "endlinecolor": "#2a3f5f",
             "gridcolor": "white",
             "linecolor": "white",
             "minorgridcolor": "white",
             "startlinecolor": "#2a3f5f"
            },
            "baxis": {
             "endlinecolor": "#2a3f5f",
             "gridcolor": "white",
             "linecolor": "white",
             "minorgridcolor": "white",
             "startlinecolor": "#2a3f5f"
            },
            "type": "carpet"
           }
          ],
          "choropleth": [
           {
            "colorbar": {
             "outlinewidth": 0,
             "ticks": ""
            },
            "type": "choropleth"
           }
          ],
          "contour": [
           {
            "colorbar": {
             "outlinewidth": 0,
             "ticks": ""
            },
            "colorscale": [
             [
              0,
              "#0d0887"
             ],
             [
              0.1111111111111111,
              "#46039f"
             ],
             [
              0.2222222222222222,
              "#7201a8"
             ],
             [
              0.3333333333333333,
              "#9c179e"
             ],
             [
              0.4444444444444444,
              "#bd3786"
             ],
             [
              0.5555555555555556,
              "#d8576b"
             ],
             [
              0.6666666666666666,
              "#ed7953"
             ],
             [
              0.7777777777777778,
              "#fb9f3a"
             ],
             [
              0.8888888888888888,
              "#fdca26"
             ],
             [
              1,
              "#f0f921"
             ]
            ],
            "type": "contour"
           }
          ],
          "contourcarpet": [
           {
            "colorbar": {
             "outlinewidth": 0,
             "ticks": ""
            },
            "type": "contourcarpet"
           }
          ],
          "heatmap": [
           {
            "colorbar": {
             "outlinewidth": 0,
             "ticks": ""
            },
            "colorscale": [
             [
              0,
              "#0d0887"
             ],
             [
              0.1111111111111111,
              "#46039f"
             ],
             [
              0.2222222222222222,
              "#7201a8"
             ],
             [
              0.3333333333333333,
              "#9c179e"
             ],
             [
              0.4444444444444444,
              "#bd3786"
             ],
             [
              0.5555555555555556,
              "#d8576b"
             ],
             [
              0.6666666666666666,
              "#ed7953"
             ],
             [
              0.7777777777777778,
              "#fb9f3a"
             ],
             [
              0.8888888888888888,
              "#fdca26"
             ],
             [
              1,
              "#f0f921"
             ]
            ],
            "type": "heatmap"
           }
          ],
          "heatmapgl": [
           {
            "colorbar": {
             "outlinewidth": 0,
             "ticks": ""
            },
            "colorscale": [
             [
              0,
              "#0d0887"
             ],
             [
              0.1111111111111111,
              "#46039f"
             ],
             [
              0.2222222222222222,
              "#7201a8"
             ],
             [
              0.3333333333333333,
              "#9c179e"
             ],
             [
              0.4444444444444444,
              "#bd3786"
             ],
             [
              0.5555555555555556,
              "#d8576b"
             ],
             [
              0.6666666666666666,
              "#ed7953"
             ],
             [
              0.7777777777777778,
              "#fb9f3a"
             ],
             [
              0.8888888888888888,
              "#fdca26"
             ],
             [
              1,
              "#f0f921"
             ]
            ],
            "type": "heatmapgl"
           }
          ],
          "histogram": [
           {
            "marker": {
             "colorbar": {
              "outlinewidth": 0,
              "ticks": ""
             }
            },
            "type": "histogram"
           }
          ],
          "histogram2d": [
           {
            "colorbar": {
             "outlinewidth": 0,
             "ticks": ""
            },
            "colorscale": [
             [
              0,
              "#0d0887"
             ],
             [
              0.1111111111111111,
              "#46039f"
             ],
             [
              0.2222222222222222,
              "#7201a8"
             ],
             [
              0.3333333333333333,
              "#9c179e"
             ],
             [
              0.4444444444444444,
              "#bd3786"
             ],
             [
              0.5555555555555556,
              "#d8576b"
             ],
             [
              0.6666666666666666,
              "#ed7953"
             ],
             [
              0.7777777777777778,
              "#fb9f3a"
             ],
             [
              0.8888888888888888,
              "#fdca26"
             ],
             [
              1,
              "#f0f921"
             ]
            ],
            "type": "histogram2d"
           }
          ],
          "histogram2dcontour": [
           {
            "colorbar": {
             "outlinewidth": 0,
             "ticks": ""
            },
            "colorscale": [
             [
              0,
              "#0d0887"
             ],
             [
              0.1111111111111111,
              "#46039f"
             ],
             [
              0.2222222222222222,
              "#7201a8"
             ],
             [
              0.3333333333333333,
              "#9c179e"
             ],
             [
              0.4444444444444444,
              "#bd3786"
             ],
             [
              0.5555555555555556,
              "#d8576b"
             ],
             [
              0.6666666666666666,
              "#ed7953"
             ],
             [
              0.7777777777777778,
              "#fb9f3a"
             ],
             [
              0.8888888888888888,
              "#fdca26"
             ],
             [
              1,
              "#f0f921"
             ]
            ],
            "type": "histogram2dcontour"
           }
          ],
          "mesh3d": [
           {
            "colorbar": {
             "outlinewidth": 0,
             "ticks": ""
            },
            "type": "mesh3d"
           }
          ],
          "parcoords": [
           {
            "line": {
             "colorbar": {
              "outlinewidth": 0,
              "ticks": ""
             }
            },
            "type": "parcoords"
           }
          ],
          "pie": [
           {
            "automargin": true,
            "type": "pie"
           }
          ],
          "scatter": [
           {
            "marker": {
             "colorbar": {
              "outlinewidth": 0,
              "ticks": ""
             }
            },
            "type": "scatter"
           }
          ],
          "scatter3d": [
           {
            "line": {
             "colorbar": {
              "outlinewidth": 0,
              "ticks": ""
             }
            },
            "marker": {
             "colorbar": {
              "outlinewidth": 0,
              "ticks": ""
             }
            },
            "type": "scatter3d"
           }
          ],
          "scattercarpet": [
           {
            "marker": {
             "colorbar": {
              "outlinewidth": 0,
              "ticks": ""
             }
            },
            "type": "scattercarpet"
           }
          ],
          "scattergeo": [
           {
            "marker": {
             "colorbar": {
              "outlinewidth": 0,
              "ticks": ""
             }
            },
            "type": "scattergeo"
           }
          ],
          "scattergl": [
           {
            "marker": {
             "colorbar": {
              "outlinewidth": 0,
              "ticks": ""
             }
            },
            "type": "scattergl"
           }
          ],
          "scattermapbox": [
           {
            "marker": {
             "colorbar": {
              "outlinewidth": 0,
              "ticks": ""
             }
            },
            "type": "scattermapbox"
           }
          ],
          "scatterpolar": [
           {
            "marker": {
             "colorbar": {
              "outlinewidth": 0,
              "ticks": ""
             }
            },
            "type": "scatterpolar"
           }
          ],
          "scatterpolargl": [
           {
            "marker": {
             "colorbar": {
              "outlinewidth": 0,
              "ticks": ""
             }
            },
            "type": "scatterpolargl"
           }
          ],
          "scatterternary": [
           {
            "marker": {
             "colorbar": {
              "outlinewidth": 0,
              "ticks": ""
             }
            },
            "type": "scatterternary"
           }
          ],
          "surface": [
           {
            "colorbar": {
             "outlinewidth": 0,
             "ticks": ""
            },
            "colorscale": [
             [
              0,
              "#0d0887"
             ],
             [
              0.1111111111111111,
              "#46039f"
             ],
             [
              0.2222222222222222,
              "#7201a8"
             ],
             [
              0.3333333333333333,
              "#9c179e"
             ],
             [
              0.4444444444444444,
              "#bd3786"
             ],
             [
              0.5555555555555556,
              "#d8576b"
             ],
             [
              0.6666666666666666,
              "#ed7953"
             ],
             [
              0.7777777777777778,
              "#fb9f3a"
             ],
             [
              0.8888888888888888,
              "#fdca26"
             ],
             [
              1,
              "#f0f921"
             ]
            ],
            "type": "surface"
           }
          ],
          "table": [
           {
            "cells": {
             "fill": {
              "color": "#EBF0F8"
             },
             "line": {
              "color": "white"
             }
            },
            "header": {
             "fill": {
              "color": "#C8D4E3"
             },
             "line": {
              "color": "white"
             }
            },
            "type": "table"
           }
          ]
         },
         "layout": {
          "annotationdefaults": {
           "arrowcolor": "#2a3f5f",
           "arrowhead": 0,
           "arrowwidth": 1
          },
          "coloraxis": {
           "colorbar": {
            "outlinewidth": 0,
            "ticks": ""
           }
          },
          "colorscale": {
           "diverging": [
            [
             0,
             "#8e0152"
            ],
            [
             0.1,
             "#c51b7d"
            ],
            [
             0.2,
             "#de77ae"
            ],
            [
             0.3,
             "#f1b6da"
            ],
            [
             0.4,
             "#fde0ef"
            ],
            [
             0.5,
             "#f7f7f7"
            ],
            [
             0.6,
             "#e6f5d0"
            ],
            [
             0.7,
             "#b8e186"
            ],
            [
             0.8,
             "#7fbc41"
            ],
            [
             0.9,
             "#4d9221"
            ],
            [
             1,
             "#276419"
            ]
           ],
           "sequential": [
            [
             0,
             "#0d0887"
            ],
            [
             0.1111111111111111,
             "#46039f"
            ],
            [
             0.2222222222222222,
             "#7201a8"
            ],
            [
             0.3333333333333333,
             "#9c179e"
            ],
            [
             0.4444444444444444,
             "#bd3786"
            ],
            [
             0.5555555555555556,
             "#d8576b"
            ],
            [
             0.6666666666666666,
             "#ed7953"
            ],
            [
             0.7777777777777778,
             "#fb9f3a"
            ],
            [
             0.8888888888888888,
             "#fdca26"
            ],
            [
             1,
             "#f0f921"
            ]
           ],
           "sequentialminus": [
            [
             0,
             "#0d0887"
            ],
            [
             0.1111111111111111,
             "#46039f"
            ],
            [
             0.2222222222222222,
             "#7201a8"
            ],
            [
             0.3333333333333333,
             "#9c179e"
            ],
            [
             0.4444444444444444,
             "#bd3786"
            ],
            [
             0.5555555555555556,
             "#d8576b"
            ],
            [
             0.6666666666666666,
             "#ed7953"
            ],
            [
             0.7777777777777778,
             "#fb9f3a"
            ],
            [
             0.8888888888888888,
             "#fdca26"
            ],
            [
             1,
             "#f0f921"
            ]
           ]
          },
          "colorway": [
           "#636efa",
           "#EF553B",
           "#00cc96",
           "#ab63fa",
           "#FFA15A",
           "#19d3f3",
           "#FF6692",
           "#B6E880",
           "#FF97FF",
           "#FECB52"
          ],
          "font": {
           "color": "#2a3f5f"
          },
          "geo": {
           "bgcolor": "white",
           "lakecolor": "white",
           "landcolor": "#E5ECF6",
           "showlakes": true,
           "showland": true,
           "subunitcolor": "white"
          },
          "hoverlabel": {
           "align": "left"
          },
          "hovermode": "closest",
          "mapbox": {
           "style": "light"
          },
          "paper_bgcolor": "white",
          "plot_bgcolor": "#E5ECF6",
          "polar": {
           "angularaxis": {
            "gridcolor": "white",
            "linecolor": "white",
            "ticks": ""
           },
           "bgcolor": "#E5ECF6",
           "radialaxis": {
            "gridcolor": "white",
            "linecolor": "white",
            "ticks": ""
           }
          },
          "scene": {
           "xaxis": {
            "backgroundcolor": "#E5ECF6",
            "gridcolor": "white",
            "gridwidth": 2,
            "linecolor": "white",
            "showbackground": true,
            "ticks": "",
            "zerolinecolor": "white"
           },
           "yaxis": {
            "backgroundcolor": "#E5ECF6",
            "gridcolor": "white",
            "gridwidth": 2,
            "linecolor": "white",
            "showbackground": true,
            "ticks": "",
            "zerolinecolor": "white"
           },
           "zaxis": {
            "backgroundcolor": "#E5ECF6",
            "gridcolor": "white",
            "gridwidth": 2,
            "linecolor": "white",
            "showbackground": true,
            "ticks": "",
            "zerolinecolor": "white"
           }
          },
          "shapedefaults": {
           "line": {
            "color": "#2a3f5f"
           }
          },
          "ternary": {
           "aaxis": {
            "gridcolor": "white",
            "linecolor": "white",
            "ticks": ""
           },
           "baxis": {
            "gridcolor": "white",
            "linecolor": "white",
            "ticks": ""
           },
           "bgcolor": "#E5ECF6",
           "caxis": {
            "gridcolor": "white",
            "linecolor": "white",
            "ticks": ""
           }
          },
          "title": {
           "x": 0.05
          },
          "xaxis": {
           "automargin": true,
           "gridcolor": "white",
           "linecolor": "white",
           "ticks": "",
           "title": {
            "standoff": 15
           },
           "zerolinecolor": "white",
           "zerolinewidth": 2
          },
          "yaxis": {
           "automargin": true,
           "gridcolor": "white",
           "linecolor": "white",
           "ticks": "",
           "title": {
            "standoff": 15
           },
           "zerolinecolor": "white",
           "zerolinewidth": 2
          }
         }
        },
        "title": {
         "font": {
          "color": "#4D5663"
         }
        },
        "xaxis": {
         "gridcolor": "#E1E5ED",
         "showgrid": true,
         "tickfont": {
          "color": "#4D5663"
         },
         "title": {
          "font": {
           "color": "#4D5663"
          },
          "text": ""
         },
         "zerolinecolor": "#E1E5ED"
        },
        "yaxis": {
         "gridcolor": "#E1E5ED",
         "showgrid": true,
         "tickfont": {
          "color": "#4D5663"
         },
         "title": {
          "font": {
           "color": "#4D5663"
          },
          "text": ""
         },
         "zerolinecolor": "#E1E5ED"
        }
       }
      },
      "text/html": [
       "<div>\n",
       "        \n",
       "        \n",
       "            <div id=\"9e859457-b7fb-461e-8443-9ad3c1d8806d\" class=\"plotly-graph-div\" style=\"height:525px; width:100%;\"></div>\n",
       "            <script type=\"text/javascript\">\n",
       "                require([\"plotly\"], function(Plotly) {\n",
       "                    window.PLOTLYENV=window.PLOTLYENV || {};\n",
       "                    window.PLOTLYENV.BASE_URL='https://plot.ly';\n",
       "                    \n",
       "                if (document.getElementById(\"9e859457-b7fb-461e-8443-9ad3c1d8806d\")) {\n",
       "                    Plotly.newPlot(\n",
       "                        '9e859457-b7fb-461e-8443-9ad3c1d8806d',\n",
       "                        [{\"histfunc\": \"count\", \"histnorm\": \"\", \"marker\": {\"color\": \"rgba(255, 153, 51, 1.0)\", \"line\": {\"color\": \"#4D5663\", \"width\": 1.3}}, \"name\": \"A\", \"opacity\": 0.8, \"orientation\": \"v\", \"type\": \"histogram\", \"x\": [-0.045220991541672514, 0.6780430845497113, 1.0057065998631551, -0.9728874120987261, -0.1429232842760107, 1.2921833308681698, 0.16399911560590277, 0.5864133066083158, 0.005048291501591372, 0.18320948521328073, -2.49509747225579, 1.3256859636637544, -1.6793176056440045, 1.2723860638991833, 1.578103990878968, 1.6643859249494612, -0.7935622243303689, 1.4753187604179476, -0.5171412718010686, 1.2361846435347696, 1.704522844836798, 0.8695553230428329, 0.04824931042202152, -0.5596124096097523, -1.1327010356287375, -1.406914574214415, -0.2760296743683121, 0.8499750408369918, 0.2733027589733112, -0.9270609774179835, -0.11937096459563867, -1.6341734716797336, -0.41805224566733007, 0.050751069046720734, -0.20458127481769103, -2.014914541732928, 1.1293271143962424, -0.535345544707788, 0.7205565368377175, 0.4434882575852396, 2.287900075088307, 0.8593080673185117, -0.8474654655180363, 0.5740891945961737, 0.866934071277127, 1.6599286334175802, 1.1413585505968555, -0.12489284454263366, 1.0077112317489567, -0.8015057558969182, 0.06322142018660247, 0.02030583905367841, 1.310214444831818, 0.3220132314938279, -1.7460855703860538, 1.4814702223140728, -0.8035722883805491, -0.8977913265652391, 0.4834089731976079, 1.4171127102051564, 1.4755906750430359, 2.0461501156802657, 1.8315708147771137, -0.7776544535304498, 0.9212441621689802, -1.070857782437202, 0.2665485378678139, -0.2375412783190445, 0.12928115685388808, -1.5094640119124836, 0.36096311670622444, 0.3449732335562818, 0.9268319900465413, -0.8784088858281468, 0.35568448009216114, -0.08607414252524906, 1.213447359424447, 1.220582787720631, -1.5714006178028541, 0.3772038547775565, 0.1836811429063996, 0.23643055367021165, -0.14944956474447565, 1.2660528101080524, -0.5669141209856902, -0.061203227869747794, -1.0152345093451074, -0.06490705351212794, -0.0967940059628407, 0.4630555535765282, -1.5499008045555307, 0.3662054810766103, 1.3967190454514729, -1.2459338585587063, -0.4192847012410866, -0.9966152679852247, -0.8929790395801137, -0.375225580512482, 1.11697358465709, 0.22825455583325077]}, {\"histfunc\": \"count\", \"histnorm\": \"\", \"marker\": {\"color\": \"rgba(55, 128, 191, 1.0)\", \"line\": {\"color\": \"#4D5663\", \"width\": 1.3}}, \"name\": \"B\", \"opacity\": 0.8, \"orientation\": \"v\", \"type\": \"histogram\", \"x\": [-0.013295768492124153, -0.27074517491106564, -0.48041519701937146, -0.15747940179591474, 0.2558515658031597, -0.15662119891997725, 0.3479723140894033, -0.15084375498932429, 0.06228336036949375, 0.9736025112157594, 0.5402519563550914, 0.8682305950906869, -0.65170589410664, 0.678613203133178, -0.057432097459745896, 0.6932633553636146, -1.9939719746754565, -2.002802721971022, 0.25746993202325685, 0.4889548095852013, -0.7168527223620486, -1.2923706473113479, -0.6753735457834736, 0.9202025865444132, 1.4670937547148066, 0.18474639375151114, 1.5237228427501046, 0.6555734068239183, -1.6536292861970667, 0.04987606236109394, 0.7564239173991238, -1.215415085919389, -0.6904670180577785, 0.8332193013800037, 0.062395229603287104, 3.115989368570276, -1.0011794943455687, 0.29053598685344056, -0.029260709986795252, -0.37251804313432424, 0.48538385105860427, -0.833960660422719, 0.12828209855485537, -0.36647237774781805, -0.2562272216832282, 0.2689613943245282, 0.039384657809476246, 0.9003688284552946, -0.03498553399708273, 0.03852162330557176, 1.4029672622615341, 0.4722881623952208, -0.655692389374444, 0.35094145422495787, 2.025198109041344, 0.6214822754704921, 0.6995612430798638, 0.3730785899429117, 0.602967469726209, 0.04571784171804009, 0.3266369638556332, -0.31846827964026114, 0.15383690822073517, -0.338144285317204, 1.884543871930759, 0.40335856103092854, 0.4150036654412097, 1.487026005753503, 0.12374285847035515, 0.8366685261562422, 0.5795360711488374, 1.614778779962535, -1.5065686107987333, 1.5592396986044814, -0.32329791999507934, -0.9318225839805766, -1.1578286591490894, -0.041709953393487105, 2.337128989736377, -0.5557500637748092, -0.801289268411741, -0.9626995069095104, -0.4290769015529991, 1.6348652562575745, 0.7716484917337753, -1.505387304121753, -0.15247950644685498, 2.0875013582731077, 0.8138442069099916, -0.5980676063757108, -1.0733335543265496, -0.5453515556217455, 0.27422936109205454, 0.40974088231107303, 0.5706700018492756, -1.9690048686611612, 0.3942186062027898, 1.0710514434878289, -0.5441656857116004, -0.26082261070316265]}, {\"histfunc\": \"count\", \"histnorm\": \"\", \"marker\": {\"color\": \"rgba(50, 171, 96, 1.0)\", \"line\": {\"color\": \"#4D5663\", \"width\": 1.3}}, \"name\": \"C\", \"opacity\": 0.8, \"orientation\": \"v\", \"type\": \"histogram\", \"x\": [0.13873828079658243, 0.004189153867128753, 0.09682297277796335, -1.944173718156881, -1.509648123220136, -0.2562642772096215, 1.1425384061525947, 1.8381697029094315, -0.89523389287459, -0.11167869593903061, 1.868391686565969, 0.926008375873174, -0.5375160643538771, -2.21354100606647, 0.13758441049616993, -1.6127200438386537, 0.836629941326483, 0.982639029672047, -1.4267965171737238, -0.7340729325482471, 0.33979196381839, -0.0975870854132879, -0.6148688825087985, 0.5147673433285442, -0.9481706485625584, -0.04271544928766234, 1.3243642261933142, -0.8546463501044619, -0.599297728305147, 0.04548785985911168, -0.4811079491622432, -1.774406825632185, -0.7702693340792561, -0.4748276882281734, 0.9768466741741556, 0.6901701186316009, -0.3163663233169675, 0.21287078406361903, 1.136115798865693, 0.33720867240916724, 1.033480878886706, -0.185564645796627, -0.10859162252684647, 0.0011082298498769818, -1.1007152668847089, 0.590790643787503, 0.7924839944953712, 1.1310755853681902, 0.20678821376316955, 0.24112123763139306, 1.2357128959168289, -0.49945309036356245, -0.3438373786786498, -1.974197190227374, -0.17757562574931995, -1.477475520667104, -1.3876057638569905, 0.7462505236735426, -0.8287043340198685, -0.3133316893236558, 0.055715575088475404, -1.9505041054363514, -0.7276070321344944, -0.34043567190802565, 0.606938441762185, 1.3179143702571974, -0.7809922643385032, -0.32097787481639667, 0.4256234210720113, -0.07335408475851667, 0.3671507620785513, 0.02747103411586101, -0.03694446480914026, 1.3688673794512007, 1.0148027798988821, -0.39597774323778956, 0.5455817623527611, -1.1833906968924781, 0.5047148544381632, -0.9086647103866449, -0.5041775256575728, -3.2175858667536223, -1.4626369755166713, -0.8760406447373471, -1.5329422094336318, -0.07856244032320203, 0.7258509590435329, -0.7169536298739123, 0.47821301919925535, -1.6070953362840454, 0.18492608791772172, 0.4831953421913388, -0.46527559209292835, -0.057744579710930236, 2.0151435673920908, -1.202496502277343, 1.1154447255484976, -1.8995728472275581, -0.07759942120844565, 0.5096943059187304]}, {\"histfunc\": \"count\", \"histnorm\": \"\", \"marker\": {\"color\": \"rgba(128, 0, 128, 1.0)\", \"line\": {\"color\": \"#4D5663\", \"width\": 1.3}}, \"name\": \"D\", \"opacity\": 0.8, \"orientation\": \"v\", \"type\": \"histogram\", \"x\": [-0.4337879491334362, 0.7976012586008668, 0.04679388847070139, 0.8210509017025851, -0.47737624449913807, -2.7113749177309034, -0.3467805670259546, -0.9656770508426309, 0.26838356597477203, 1.111511291342199, -0.3724119499893848, -0.6879024860078657, 0.12543381105475546, 1.5141660057493092, 0.0031518850461970446, -1.8862220831122953, -0.8366577378678488, 0.24412695824901426, -0.29940606815106224, -1.108196501494843, -1.3682950024746594, -2.3631574734573317, -3.0855407392711185, -0.8490098793244223, -0.27307010329833803, -0.2364030920459769, 0.6643850678309491, -0.3928846608662631, -1.1134663891849492, 0.5259166824485958, 1.2767655084421516, 0.0354705094250525, -0.22469254344204675, 1.6272211270560817, -0.414669543582508, 0.7139322291458065, -2.470709743384897, 1.5386164967793026, 0.7160072919906816, 0.1417813834395697, -0.4043862753593802, -1.8071493515932677, -1.3723541348893524, 1.0948479544848693, 0.9989596265551828, -0.6478008481453175, 1.4124754326601883, 0.4346882253946431, -0.7348738360323315, 0.870683905831478, 0.6579668551742296, -1.9940535889544115, -0.005078270571319728, 1.3365837181328428, 0.10899587834151302, 0.9165248381194471, -0.6368591137339633, 0.7119659996376386, 0.986580694631742, 0.416081849948451, 0.5352805242252674, 0.5208318750173206, 0.9571424944340965, -0.3901599757044315, -1.1401073992251733, 0.3340180184206363, 0.7406991050707952, 0.4647617310146391, 1.2959649906828112, -0.47230962246013475, 0.1567297692468287, -0.37393093428584573, 1.2767768262192751, 0.3461111052548227, -1.022476851684093, 0.6349317486094176, -0.15101842538131852, 0.033728646201024046, 0.2667964330454267, 1.0629785526860123, -1.0917878409952968, -0.3582307526329137, 0.5524824823445418, -1.0013894542109176, -1.9607511780597788, -2.7722741185384954, 0.01864704728907342, 0.6571359736547979, 1.7367344460001817, 0.32949603949899275, 0.42953810085154065, -0.6237116485501133, 0.20610138838812966, 1.1257106532373393, 0.07309187136866693, 0.1825421452130804, -1.410613394522949, 0.32020366902474606, -0.1891096779802458, 1.1968104396498749]}],\n",
       "                        {\"barmode\": \"overlay\", \"legend\": {\"bgcolor\": \"#F5F6F9\", \"font\": {\"color\": \"#4D5663\"}}, \"paper_bgcolor\": \"#F5F6F9\", \"plot_bgcolor\": \"#F5F6F9\", \"template\": {\"data\": {\"bar\": [{\"error_x\": {\"color\": \"#2a3f5f\"}, \"error_y\": {\"color\": \"#2a3f5f\"}, \"marker\": {\"line\": {\"color\": \"#E5ECF6\", \"width\": 0.5}}, \"type\": \"bar\"}], \"barpolar\": [{\"marker\": {\"line\": {\"color\": \"#E5ECF6\", \"width\": 0.5}}, \"type\": \"barpolar\"}], \"carpet\": [{\"aaxis\": {\"endlinecolor\": \"#2a3f5f\", \"gridcolor\": \"white\", \"linecolor\": \"white\", \"minorgridcolor\": \"white\", \"startlinecolor\": \"#2a3f5f\"}, \"baxis\": {\"endlinecolor\": \"#2a3f5f\", \"gridcolor\": \"white\", \"linecolor\": \"white\", \"minorgridcolor\": \"white\", \"startlinecolor\": \"#2a3f5f\"}, \"type\": \"carpet\"}], \"choropleth\": [{\"colorbar\": {\"outlinewidth\": 0, \"ticks\": \"\"}, \"type\": \"choropleth\"}], \"contour\": [{\"colorbar\": {\"outlinewidth\": 0, \"ticks\": \"\"}, \"colorscale\": [[0.0, \"#0d0887\"], [0.1111111111111111, \"#46039f\"], [0.2222222222222222, \"#7201a8\"], [0.3333333333333333, \"#9c179e\"], [0.4444444444444444, \"#bd3786\"], [0.5555555555555556, \"#d8576b\"], [0.6666666666666666, \"#ed7953\"], [0.7777777777777778, \"#fb9f3a\"], [0.8888888888888888, \"#fdca26\"], [1.0, \"#f0f921\"]], \"type\": \"contour\"}], \"contourcarpet\": [{\"colorbar\": {\"outlinewidth\": 0, \"ticks\": \"\"}, \"type\": \"contourcarpet\"}], \"heatmap\": [{\"colorbar\": {\"outlinewidth\": 0, \"ticks\": \"\"}, \"colorscale\": [[0.0, \"#0d0887\"], [0.1111111111111111, \"#46039f\"], [0.2222222222222222, \"#7201a8\"], [0.3333333333333333, \"#9c179e\"], [0.4444444444444444, \"#bd3786\"], [0.5555555555555556, \"#d8576b\"], [0.6666666666666666, \"#ed7953\"], [0.7777777777777778, \"#fb9f3a\"], [0.8888888888888888, \"#fdca26\"], [1.0, \"#f0f921\"]], \"type\": \"heatmap\"}], \"heatmapgl\": [{\"colorbar\": {\"outlinewidth\": 0, \"ticks\": \"\"}, \"colorscale\": [[0.0, \"#0d0887\"], [0.1111111111111111, \"#46039f\"], [0.2222222222222222, \"#7201a8\"], [0.3333333333333333, \"#9c179e\"], [0.4444444444444444, \"#bd3786\"], [0.5555555555555556, \"#d8576b\"], [0.6666666666666666, \"#ed7953\"], [0.7777777777777778, \"#fb9f3a\"], [0.8888888888888888, \"#fdca26\"], [1.0, \"#f0f921\"]], \"type\": \"heatmapgl\"}], \"histogram\": [{\"marker\": {\"colorbar\": {\"outlinewidth\": 0, \"ticks\": \"\"}}, \"type\": \"histogram\"}], \"histogram2d\": [{\"colorbar\": {\"outlinewidth\": 0, \"ticks\": \"\"}, \"colorscale\": [[0.0, \"#0d0887\"], [0.1111111111111111, \"#46039f\"], [0.2222222222222222, \"#7201a8\"], [0.3333333333333333, \"#9c179e\"], [0.4444444444444444, \"#bd3786\"], [0.5555555555555556, \"#d8576b\"], [0.6666666666666666, \"#ed7953\"], [0.7777777777777778, \"#fb9f3a\"], [0.8888888888888888, \"#fdca26\"], [1.0, \"#f0f921\"]], \"type\": \"histogram2d\"}], \"histogram2dcontour\": [{\"colorbar\": {\"outlinewidth\": 0, \"ticks\": \"\"}, \"colorscale\": [[0.0, \"#0d0887\"], [0.1111111111111111, \"#46039f\"], [0.2222222222222222, \"#7201a8\"], [0.3333333333333333, \"#9c179e\"], [0.4444444444444444, \"#bd3786\"], [0.5555555555555556, \"#d8576b\"], [0.6666666666666666, \"#ed7953\"], [0.7777777777777778, \"#fb9f3a\"], [0.8888888888888888, \"#fdca26\"], [1.0, \"#f0f921\"]], \"type\": \"histogram2dcontour\"}], \"mesh3d\": [{\"colorbar\": {\"outlinewidth\": 0, \"ticks\": \"\"}, \"type\": \"mesh3d\"}], \"parcoords\": [{\"line\": {\"colorbar\": {\"outlinewidth\": 0, \"ticks\": \"\"}}, \"type\": \"parcoords\"}], \"pie\": [{\"automargin\": true, \"type\": \"pie\"}], \"scatter\": [{\"marker\": {\"colorbar\": {\"outlinewidth\": 0, \"ticks\": \"\"}}, \"type\": \"scatter\"}], \"scatter3d\": [{\"line\": {\"colorbar\": {\"outlinewidth\": 0, \"ticks\": \"\"}}, \"marker\": {\"colorbar\": {\"outlinewidth\": 0, \"ticks\": \"\"}}, \"type\": \"scatter3d\"}], \"scattercarpet\": [{\"marker\": {\"colorbar\": {\"outlinewidth\": 0, \"ticks\": \"\"}}, \"type\": \"scattercarpet\"}], \"scattergeo\": [{\"marker\": {\"colorbar\": {\"outlinewidth\": 0, \"ticks\": \"\"}}, \"type\": \"scattergeo\"}], \"scattergl\": [{\"marker\": {\"colorbar\": {\"outlinewidth\": 0, \"ticks\": \"\"}}, \"type\": \"scattergl\"}], \"scattermapbox\": [{\"marker\": {\"colorbar\": {\"outlinewidth\": 0, \"ticks\": \"\"}}, \"type\": \"scattermapbox\"}], \"scatterpolar\": [{\"marker\": {\"colorbar\": {\"outlinewidth\": 0, \"ticks\": \"\"}}, \"type\": \"scatterpolar\"}], \"scatterpolargl\": [{\"marker\": {\"colorbar\": {\"outlinewidth\": 0, \"ticks\": \"\"}}, \"type\": \"scatterpolargl\"}], \"scatterternary\": [{\"marker\": {\"colorbar\": {\"outlinewidth\": 0, \"ticks\": \"\"}}, \"type\": \"scatterternary\"}], \"surface\": [{\"colorbar\": {\"outlinewidth\": 0, \"ticks\": \"\"}, \"colorscale\": [[0.0, \"#0d0887\"], [0.1111111111111111, \"#46039f\"], [0.2222222222222222, \"#7201a8\"], [0.3333333333333333, \"#9c179e\"], [0.4444444444444444, \"#bd3786\"], [0.5555555555555556, \"#d8576b\"], [0.6666666666666666, \"#ed7953\"], [0.7777777777777778, \"#fb9f3a\"], [0.8888888888888888, \"#fdca26\"], [1.0, \"#f0f921\"]], \"type\": \"surface\"}], \"table\": [{\"cells\": {\"fill\": {\"color\": \"#EBF0F8\"}, \"line\": {\"color\": \"white\"}}, \"header\": {\"fill\": {\"color\": \"#C8D4E3\"}, \"line\": {\"color\": \"white\"}}, \"type\": \"table\"}]}, \"layout\": {\"annotationdefaults\": {\"arrowcolor\": \"#2a3f5f\", \"arrowhead\": 0, \"arrowwidth\": 1}, \"coloraxis\": {\"colorbar\": {\"outlinewidth\": 0, \"ticks\": \"\"}}, \"colorscale\": {\"diverging\": [[0, \"#8e0152\"], [0.1, \"#c51b7d\"], [0.2, \"#de77ae\"], [0.3, \"#f1b6da\"], [0.4, \"#fde0ef\"], [0.5, \"#f7f7f7\"], [0.6, \"#e6f5d0\"], [0.7, \"#b8e186\"], [0.8, \"#7fbc41\"], [0.9, \"#4d9221\"], [1, \"#276419\"]], \"sequential\": [[0.0, \"#0d0887\"], [0.1111111111111111, \"#46039f\"], [0.2222222222222222, \"#7201a8\"], [0.3333333333333333, \"#9c179e\"], [0.4444444444444444, \"#bd3786\"], [0.5555555555555556, \"#d8576b\"], [0.6666666666666666, \"#ed7953\"], [0.7777777777777778, \"#fb9f3a\"], [0.8888888888888888, \"#fdca26\"], [1.0, \"#f0f921\"]], \"sequentialminus\": [[0.0, \"#0d0887\"], [0.1111111111111111, \"#46039f\"], [0.2222222222222222, \"#7201a8\"], [0.3333333333333333, \"#9c179e\"], [0.4444444444444444, \"#bd3786\"], [0.5555555555555556, \"#d8576b\"], [0.6666666666666666, \"#ed7953\"], [0.7777777777777778, \"#fb9f3a\"], [0.8888888888888888, \"#fdca26\"], [1.0, \"#f0f921\"]]}, \"colorway\": [\"#636efa\", \"#EF553B\", \"#00cc96\", \"#ab63fa\", \"#FFA15A\", \"#19d3f3\", \"#FF6692\", \"#B6E880\", \"#FF97FF\", \"#FECB52\"], \"font\": {\"color\": \"#2a3f5f\"}, \"geo\": {\"bgcolor\": \"white\", \"lakecolor\": \"white\", \"landcolor\": \"#E5ECF6\", \"showlakes\": true, \"showland\": true, \"subunitcolor\": \"white\"}, \"hoverlabel\": {\"align\": \"left\"}, \"hovermode\": \"closest\", \"mapbox\": {\"style\": \"light\"}, \"paper_bgcolor\": \"white\", \"plot_bgcolor\": \"#E5ECF6\", \"polar\": {\"angularaxis\": {\"gridcolor\": \"white\", \"linecolor\": \"white\", \"ticks\": \"\"}, \"bgcolor\": \"#E5ECF6\", \"radialaxis\": {\"gridcolor\": \"white\", \"linecolor\": \"white\", \"ticks\": \"\"}}, \"scene\": {\"xaxis\": {\"backgroundcolor\": \"#E5ECF6\", \"gridcolor\": \"white\", \"gridwidth\": 2, \"linecolor\": \"white\", \"showbackground\": true, \"ticks\": \"\", \"zerolinecolor\": \"white\"}, \"yaxis\": {\"backgroundcolor\": \"#E5ECF6\", \"gridcolor\": \"white\", \"gridwidth\": 2, \"linecolor\": \"white\", \"showbackground\": true, \"ticks\": \"\", \"zerolinecolor\": \"white\"}, \"zaxis\": {\"backgroundcolor\": \"#E5ECF6\", \"gridcolor\": \"white\", \"gridwidth\": 2, \"linecolor\": \"white\", \"showbackground\": true, \"ticks\": \"\", \"zerolinecolor\": \"white\"}}, \"shapedefaults\": {\"line\": {\"color\": \"#2a3f5f\"}}, \"ternary\": {\"aaxis\": {\"gridcolor\": \"white\", \"linecolor\": \"white\", \"ticks\": \"\"}, \"baxis\": {\"gridcolor\": \"white\", \"linecolor\": \"white\", \"ticks\": \"\"}, \"bgcolor\": \"#E5ECF6\", \"caxis\": {\"gridcolor\": \"white\", \"linecolor\": \"white\", \"ticks\": \"\"}}, \"title\": {\"x\": 0.05}, \"xaxis\": {\"automargin\": true, \"gridcolor\": \"white\", \"linecolor\": \"white\", \"ticks\": \"\", \"title\": {\"standoff\": 15}, \"zerolinecolor\": \"white\", \"zerolinewidth\": 2}, \"yaxis\": {\"automargin\": true, \"gridcolor\": \"white\", \"linecolor\": \"white\", \"ticks\": \"\", \"title\": {\"standoff\": 15}, \"zerolinecolor\": \"white\", \"zerolinewidth\": 2}}}, \"title\": {\"font\": {\"color\": \"#4D5663\"}}, \"xaxis\": {\"gridcolor\": \"#E1E5ED\", \"showgrid\": true, \"tickfont\": {\"color\": \"#4D5663\"}, \"title\": {\"font\": {\"color\": \"#4D5663\"}, \"text\": \"\"}, \"zerolinecolor\": \"#E1E5ED\"}, \"yaxis\": {\"gridcolor\": \"#E1E5ED\", \"showgrid\": true, \"tickfont\": {\"color\": \"#4D5663\"}, \"title\": {\"font\": {\"color\": \"#4D5663\"}, \"text\": \"\"}, \"zerolinecolor\": \"#E1E5ED\"}},\n",
       "                        {\"showLink\": true, \"linkText\": \"Export to plot.ly\", \"plotlyServerURL\": \"https://plot.ly\", \"responsive\": true}\n",
       "                    ).then(function(){\n",
       "                            \n",
       "var gd = document.getElementById('9e859457-b7fb-461e-8443-9ad3c1d8806d');\n",
       "var x = new MutationObserver(function (mutations, observer) {{\n",
       "        var display = window.getComputedStyle(gd).display;\n",
       "        if (!display || display === 'none') {{\n",
       "            console.log([gd, 'removed!']);\n",
       "            Plotly.purge(gd);\n",
       "            observer.disconnect();\n",
       "        }}\n",
       "}});\n",
       "\n",
       "// Listen for the removal of the full notebook cells\n",
       "var notebookContainer = gd.closest('#notebook-container');\n",
       "if (notebookContainer) {{\n",
       "    x.observe(notebookContainer, {childList: true});\n",
       "}}\n",
       "\n",
       "// Listen for the clearing of the current output cell\n",
       "var outputEl = gd.closest('.output');\n",
       "if (outputEl) {{\n",
       "    x.observe(outputEl, {childList: true});\n",
       "}}\n",
       "\n",
       "                        })\n",
       "                };\n",
       "                });\n",
       "            </script>\n",
       "        </div>"
      ]
     },
     "metadata": {},
     "output_type": "display_data"
    }
   ],
   "source": [
    "df.iplot(kind='hist')"
   ]
  },
  {
   "cell_type": "code",
   "execution_count": 39,
   "metadata": {},
   "outputs": [
    {
     "data": {
      "application/vnd.plotly.v1+json": {
       "config": {
        "linkText": "Export to plot.ly",
        "plotlyServerURL": "https://plot.ly",
        "showLink": true
       },
       "data": [
        {
         "line": {
          "color": "rgba(255, 153, 51, 1.0)",
          "dash": "solid",
          "shape": "linear",
          "width": 1.3
         },
         "mode": "lines",
         "name": "A",
         "text": "",
         "type": "scatter",
         "x": [
          0,
          1,
          2,
          3,
          4,
          5,
          6,
          7,
          8,
          9,
          10,
          11,
          12,
          13,
          14,
          15,
          16,
          17,
          18,
          19,
          20,
          21,
          22,
          23,
          24,
          25,
          26,
          27,
          28,
          29,
          30,
          31,
          32,
          33,
          34,
          35,
          36,
          37,
          38,
          39,
          40,
          41,
          42,
          43,
          44,
          45,
          46,
          47,
          48,
          49,
          50,
          51,
          52,
          53,
          54,
          55,
          56,
          57,
          58,
          59,
          60,
          61,
          62,
          63,
          64,
          65,
          66,
          67,
          68,
          69,
          70,
          71,
          72,
          73,
          74,
          75,
          76,
          77,
          78,
          79,
          80,
          81,
          82,
          83,
          84,
          85,
          86,
          87,
          88,
          89,
          90,
          91,
          92,
          93,
          94,
          95,
          96,
          97,
          98,
          99
         ],
         "y": [
          -0.045220991541672514,
          0.6780430845497113,
          1.0057065998631551,
          -0.9728874120987261,
          -0.1429232842760107,
          1.2921833308681698,
          0.16399911560590277,
          0.5864133066083158,
          0.005048291501591372,
          0.18320948521328073,
          -2.49509747225579,
          1.3256859636637544,
          -1.6793176056440045,
          1.2723860638991833,
          1.578103990878968,
          1.6643859249494612,
          -0.7935622243303689,
          1.4753187604179476,
          -0.5171412718010686,
          1.2361846435347696,
          1.704522844836798,
          0.8695553230428329,
          0.04824931042202152,
          -0.5596124096097523,
          -1.1327010356287375,
          -1.406914574214415,
          -0.2760296743683121,
          0.8499750408369918,
          0.2733027589733112,
          -0.9270609774179835,
          -0.11937096459563867,
          -1.6341734716797336,
          -0.41805224566733007,
          0.050751069046720734,
          -0.20458127481769103,
          -2.014914541732928,
          1.1293271143962424,
          -0.535345544707788,
          0.7205565368377175,
          0.4434882575852396,
          2.287900075088307,
          0.8593080673185117,
          -0.8474654655180363,
          0.5740891945961737,
          0.866934071277127,
          1.6599286334175802,
          1.1413585505968555,
          -0.12489284454263366,
          1.0077112317489567,
          -0.8015057558969182,
          0.06322142018660247,
          0.02030583905367841,
          1.310214444831818,
          0.3220132314938279,
          -1.7460855703860538,
          1.4814702223140728,
          -0.8035722883805491,
          -0.8977913265652391,
          0.4834089731976079,
          1.4171127102051564,
          1.4755906750430359,
          2.0461501156802657,
          1.8315708147771137,
          -0.7776544535304498,
          0.9212441621689802,
          -1.070857782437202,
          0.2665485378678139,
          -0.2375412783190445,
          0.12928115685388808,
          -1.5094640119124836,
          0.36096311670622444,
          0.3449732335562818,
          0.9268319900465413,
          -0.8784088858281468,
          0.35568448009216114,
          -0.08607414252524906,
          1.213447359424447,
          1.220582787720631,
          -1.5714006178028541,
          0.3772038547775565,
          0.1836811429063996,
          0.23643055367021165,
          -0.14944956474447565,
          1.2660528101080524,
          -0.5669141209856902,
          -0.061203227869747794,
          -1.0152345093451074,
          -0.06490705351212794,
          -0.0967940059628407,
          0.4630555535765282,
          -1.5499008045555307,
          0.3662054810766103,
          1.3967190454514729,
          -1.2459338585587063,
          -0.4192847012410866,
          -0.9966152679852247,
          -0.8929790395801137,
          -0.375225580512482,
          1.11697358465709,
          0.22825455583325077
         ]
        },
        {
         "line": {
          "color": "rgba(55, 128, 191, 1.0)",
          "dash": "solid",
          "shape": "linear",
          "width": 1.3
         },
         "mode": "lines",
         "name": "B",
         "text": "",
         "type": "scatter",
         "x": [
          0,
          1,
          2,
          3,
          4,
          5,
          6,
          7,
          8,
          9,
          10,
          11,
          12,
          13,
          14,
          15,
          16,
          17,
          18,
          19,
          20,
          21,
          22,
          23,
          24,
          25,
          26,
          27,
          28,
          29,
          30,
          31,
          32,
          33,
          34,
          35,
          36,
          37,
          38,
          39,
          40,
          41,
          42,
          43,
          44,
          45,
          46,
          47,
          48,
          49,
          50,
          51,
          52,
          53,
          54,
          55,
          56,
          57,
          58,
          59,
          60,
          61,
          62,
          63,
          64,
          65,
          66,
          67,
          68,
          69,
          70,
          71,
          72,
          73,
          74,
          75,
          76,
          77,
          78,
          79,
          80,
          81,
          82,
          83,
          84,
          85,
          86,
          87,
          88,
          89,
          90,
          91,
          92,
          93,
          94,
          95,
          96,
          97,
          98,
          99
         ],
         "y": [
          -0.013295768492124153,
          -0.27074517491106564,
          -0.48041519701937146,
          -0.15747940179591474,
          0.2558515658031597,
          -0.15662119891997725,
          0.3479723140894033,
          -0.15084375498932429,
          0.06228336036949375,
          0.9736025112157594,
          0.5402519563550914,
          0.8682305950906869,
          -0.65170589410664,
          0.678613203133178,
          -0.057432097459745896,
          0.6932633553636146,
          -1.9939719746754565,
          -2.002802721971022,
          0.25746993202325685,
          0.4889548095852013,
          -0.7168527223620486,
          -1.2923706473113479,
          -0.6753735457834736,
          0.9202025865444132,
          1.4670937547148066,
          0.18474639375151114,
          1.5237228427501046,
          0.6555734068239183,
          -1.6536292861970667,
          0.04987606236109394,
          0.7564239173991238,
          -1.215415085919389,
          -0.6904670180577785,
          0.8332193013800037,
          0.062395229603287104,
          3.115989368570276,
          -1.0011794943455687,
          0.29053598685344056,
          -0.029260709986795252,
          -0.37251804313432424,
          0.48538385105860427,
          -0.833960660422719,
          0.12828209855485537,
          -0.36647237774781805,
          -0.2562272216832282,
          0.2689613943245282,
          0.039384657809476246,
          0.9003688284552946,
          -0.03498553399708273,
          0.03852162330557176,
          1.4029672622615341,
          0.4722881623952208,
          -0.655692389374444,
          0.35094145422495787,
          2.025198109041344,
          0.6214822754704921,
          0.6995612430798638,
          0.3730785899429117,
          0.602967469726209,
          0.04571784171804009,
          0.3266369638556332,
          -0.31846827964026114,
          0.15383690822073517,
          -0.338144285317204,
          1.884543871930759,
          0.40335856103092854,
          0.4150036654412097,
          1.487026005753503,
          0.12374285847035515,
          0.8366685261562422,
          0.5795360711488374,
          1.614778779962535,
          -1.5065686107987333,
          1.5592396986044814,
          -0.32329791999507934,
          -0.9318225839805766,
          -1.1578286591490894,
          -0.041709953393487105,
          2.337128989736377,
          -0.5557500637748092,
          -0.801289268411741,
          -0.9626995069095104,
          -0.4290769015529991,
          1.6348652562575745,
          0.7716484917337753,
          -1.505387304121753,
          -0.15247950644685498,
          2.0875013582731077,
          0.8138442069099916,
          -0.5980676063757108,
          -1.0733335543265496,
          -0.5453515556217455,
          0.27422936109205454,
          0.40974088231107303,
          0.5706700018492756,
          -1.9690048686611612,
          0.3942186062027898,
          1.0710514434878289,
          -0.5441656857116004,
          -0.26082261070316265
         ]
        },
        {
         "line": {
          "color": "rgba(50, 171, 96, 1.0)",
          "dash": "solid",
          "shape": "linear",
          "width": 1.3
         },
         "mode": "lines",
         "name": "C",
         "text": "",
         "type": "scatter",
         "x": [
          0,
          1,
          2,
          3,
          4,
          5,
          6,
          7,
          8,
          9,
          10,
          11,
          12,
          13,
          14,
          15,
          16,
          17,
          18,
          19,
          20,
          21,
          22,
          23,
          24,
          25,
          26,
          27,
          28,
          29,
          30,
          31,
          32,
          33,
          34,
          35,
          36,
          37,
          38,
          39,
          40,
          41,
          42,
          43,
          44,
          45,
          46,
          47,
          48,
          49,
          50,
          51,
          52,
          53,
          54,
          55,
          56,
          57,
          58,
          59,
          60,
          61,
          62,
          63,
          64,
          65,
          66,
          67,
          68,
          69,
          70,
          71,
          72,
          73,
          74,
          75,
          76,
          77,
          78,
          79,
          80,
          81,
          82,
          83,
          84,
          85,
          86,
          87,
          88,
          89,
          90,
          91,
          92,
          93,
          94,
          95,
          96,
          97,
          98,
          99
         ],
         "y": [
          0.13873828079658243,
          0.004189153867128753,
          0.09682297277796335,
          -1.944173718156881,
          -1.509648123220136,
          -0.2562642772096215,
          1.1425384061525947,
          1.8381697029094315,
          -0.89523389287459,
          -0.11167869593903061,
          1.868391686565969,
          0.926008375873174,
          -0.5375160643538771,
          -2.21354100606647,
          0.13758441049616993,
          -1.6127200438386537,
          0.836629941326483,
          0.982639029672047,
          -1.4267965171737238,
          -0.7340729325482471,
          0.33979196381839,
          -0.0975870854132879,
          -0.6148688825087985,
          0.5147673433285442,
          -0.9481706485625584,
          -0.04271544928766234,
          1.3243642261933142,
          -0.8546463501044619,
          -0.599297728305147,
          0.04548785985911168,
          -0.4811079491622432,
          -1.774406825632185,
          -0.7702693340792561,
          -0.4748276882281734,
          0.9768466741741556,
          0.6901701186316009,
          -0.3163663233169675,
          0.21287078406361903,
          1.136115798865693,
          0.33720867240916724,
          1.033480878886706,
          -0.185564645796627,
          -0.10859162252684647,
          0.0011082298498769818,
          -1.1007152668847089,
          0.590790643787503,
          0.7924839944953712,
          1.1310755853681902,
          0.20678821376316955,
          0.24112123763139306,
          1.2357128959168289,
          -0.49945309036356245,
          -0.3438373786786498,
          -1.974197190227374,
          -0.17757562574931995,
          -1.477475520667104,
          -1.3876057638569905,
          0.7462505236735426,
          -0.8287043340198685,
          -0.3133316893236558,
          0.055715575088475404,
          -1.9505041054363514,
          -0.7276070321344944,
          -0.34043567190802565,
          0.606938441762185,
          1.3179143702571974,
          -0.7809922643385032,
          -0.32097787481639667,
          0.4256234210720113,
          -0.07335408475851667,
          0.3671507620785513,
          0.02747103411586101,
          -0.03694446480914026,
          1.3688673794512007,
          1.0148027798988821,
          -0.39597774323778956,
          0.5455817623527611,
          -1.1833906968924781,
          0.5047148544381632,
          -0.9086647103866449,
          -0.5041775256575728,
          -3.2175858667536223,
          -1.4626369755166713,
          -0.8760406447373471,
          -1.5329422094336318,
          -0.07856244032320203,
          0.7258509590435329,
          -0.7169536298739123,
          0.47821301919925535,
          -1.6070953362840454,
          0.18492608791772172,
          0.4831953421913388,
          -0.46527559209292835,
          -0.057744579710930236,
          2.0151435673920908,
          -1.202496502277343,
          1.1154447255484976,
          -1.8995728472275581,
          -0.07759942120844565,
          0.5096943059187304
         ]
        },
        {
         "line": {
          "color": "rgba(128, 0, 128, 1.0)",
          "dash": "solid",
          "shape": "linear",
          "width": 1.3
         },
         "mode": "lines",
         "name": "D",
         "text": "",
         "type": "scatter",
         "x": [
          0,
          1,
          2,
          3,
          4,
          5,
          6,
          7,
          8,
          9,
          10,
          11,
          12,
          13,
          14,
          15,
          16,
          17,
          18,
          19,
          20,
          21,
          22,
          23,
          24,
          25,
          26,
          27,
          28,
          29,
          30,
          31,
          32,
          33,
          34,
          35,
          36,
          37,
          38,
          39,
          40,
          41,
          42,
          43,
          44,
          45,
          46,
          47,
          48,
          49,
          50,
          51,
          52,
          53,
          54,
          55,
          56,
          57,
          58,
          59,
          60,
          61,
          62,
          63,
          64,
          65,
          66,
          67,
          68,
          69,
          70,
          71,
          72,
          73,
          74,
          75,
          76,
          77,
          78,
          79,
          80,
          81,
          82,
          83,
          84,
          85,
          86,
          87,
          88,
          89,
          90,
          91,
          92,
          93,
          94,
          95,
          96,
          97,
          98,
          99
         ],
         "y": [
          -0.4337879491334362,
          0.7976012586008668,
          0.04679388847070139,
          0.8210509017025851,
          -0.47737624449913807,
          -2.7113749177309034,
          -0.3467805670259546,
          -0.9656770508426309,
          0.26838356597477203,
          1.111511291342199,
          -0.3724119499893848,
          -0.6879024860078657,
          0.12543381105475546,
          1.5141660057493092,
          0.0031518850461970446,
          -1.8862220831122953,
          -0.8366577378678488,
          0.24412695824901426,
          -0.29940606815106224,
          -1.108196501494843,
          -1.3682950024746594,
          -2.3631574734573317,
          -3.0855407392711185,
          -0.8490098793244223,
          -0.27307010329833803,
          -0.2364030920459769,
          0.6643850678309491,
          -0.3928846608662631,
          -1.1134663891849492,
          0.5259166824485958,
          1.2767655084421516,
          0.0354705094250525,
          -0.22469254344204675,
          1.6272211270560817,
          -0.414669543582508,
          0.7139322291458065,
          -2.470709743384897,
          1.5386164967793026,
          0.7160072919906816,
          0.1417813834395697,
          -0.4043862753593802,
          -1.8071493515932677,
          -1.3723541348893524,
          1.0948479544848693,
          0.9989596265551828,
          -0.6478008481453175,
          1.4124754326601883,
          0.4346882253946431,
          -0.7348738360323315,
          0.870683905831478,
          0.6579668551742296,
          -1.9940535889544115,
          -0.005078270571319728,
          1.3365837181328428,
          0.10899587834151302,
          0.9165248381194471,
          -0.6368591137339633,
          0.7119659996376386,
          0.986580694631742,
          0.416081849948451,
          0.5352805242252674,
          0.5208318750173206,
          0.9571424944340965,
          -0.3901599757044315,
          -1.1401073992251733,
          0.3340180184206363,
          0.7406991050707952,
          0.4647617310146391,
          1.2959649906828112,
          -0.47230962246013475,
          0.1567297692468287,
          -0.37393093428584573,
          1.2767768262192751,
          0.3461111052548227,
          -1.022476851684093,
          0.6349317486094176,
          -0.15101842538131852,
          0.033728646201024046,
          0.2667964330454267,
          1.0629785526860123,
          -1.0917878409952968,
          -0.3582307526329137,
          0.5524824823445418,
          -1.0013894542109176,
          -1.9607511780597788,
          -2.7722741185384954,
          0.01864704728907342,
          0.6571359736547979,
          1.7367344460001817,
          0.32949603949899275,
          0.42953810085154065,
          -0.6237116485501133,
          0.20610138838812966,
          1.1257106532373393,
          0.07309187136866693,
          0.1825421452130804,
          -1.410613394522949,
          0.32020366902474606,
          -0.1891096779802458,
          1.1968104396498749
         ]
        },
        {
         "connectgaps": false,
         "fill": "tozeroy",
         "line": {
          "color": "green",
          "dash": "solid",
          "shape": "linear",
          "width": 0.5
         },
         "mode": "lines",
         "name": "Spread",
         "showlegend": false,
         "type": "scatter",
         "x": [
          0,
          1,
          2,
          3,
          4,
          5,
          6,
          7,
          8,
          9,
          10,
          11,
          12,
          13,
          14,
          15,
          16,
          17,
          18,
          19,
          20,
          21,
          22,
          23,
          24,
          25,
          26,
          27,
          28,
          29,
          30,
          31,
          32,
          33,
          34,
          35,
          36,
          37,
          38,
          39,
          40,
          41,
          42,
          43,
          44,
          45,
          46,
          47,
          48,
          49,
          50,
          51,
          52,
          53,
          54,
          55,
          56,
          57,
          58,
          59,
          60,
          61,
          62,
          63,
          64,
          65,
          66,
          67,
          68,
          69,
          70,
          71,
          72,
          73,
          74,
          75,
          76,
          77,
          78,
          79,
          80,
          81,
          82,
          83,
          84,
          85,
          86,
          87,
          88,
          89,
          90,
          91,
          92,
          93,
          94,
          95,
          96,
          97,
          98,
          99
         ],
         "xaxis": "x2",
         "y": [
          "",
          0.9487882594607769,
          1.4861217968825267,
          "",
          "",
          1.448804529788147,
          "",
          0.7372570615976402,
          "",
          "",
          "",
          0.45745536857306746,
          "",
          0.5937728607660053,
          1.635536088338714,
          0.9711225695858466,
          1.2004097503450875,
          3.4781214823889695,
          "",
          0.7472298339495683,
          2.4213755671988464,
          2.1619259703541807,
          0.7236228562054952,
          "",
          "",
          "",
          "",
          0.19440163401307353,
          1.926932045170378,
          "",
          "",
          "",
          0.2724147723904485,
          "",
          "",
          "",
          2.130506608741811,
          "",
          0.7498172468245128,
          0.8160063007195638,
          1.802516224029703,
          1.6932687277412306,
          "",
          0.9405615723439917,
          1.1231612929603552,
          1.390967239093052,
          1.1019738927873792,
          "",
          1.0426967657460395,
          "",
          "",
          "",
          1.965906834206262,
          "",
          "",
          0.8599879468435807,
          "",
          "",
          "",
          1.3713948684871162,
          1.1489537111874026,
          2.3646183953205266,
          1.6777339065563786,
          "",
          "",
          "",
          "",
          "",
          0.005538298383532925,
          "",
          "",
          "",
          2.4334006008452747,
          "",
          0.6789824000872404,
          0.8457484414553276,
          2.3712760185735364,
          1.262292741114118,
          "",
          0.9329539185523656,
          0.9849704113181406,
          1.1991300605797222,
          0.2796273368085235,
          "",
          "",
          1.444184076252005,
          "",
          "",
          "",
          1.061123159952239,
          "",
          0.9115570366983559,
          1.1224896843594183,
          "",
          "",
          0.9723896006759365,
          "",
          "",
          1.6611392703686905,
          0.4890771665364134
         ],
         "yaxis": "y2"
        },
        {
         "connectgaps": false,
         "fill": "tozeroy",
         "line": {
          "color": "red",
          "dash": "solid",
          "shape": "linear",
          "width": 0.5
         },
         "mode": "lines",
         "name": "Spread",
         "showlegend": false,
         "type": "scatter",
         "x": [
          0,
          1,
          2,
          3,
          4,
          5,
          6,
          7,
          8,
          9,
          10,
          11,
          12,
          13,
          14,
          15,
          16,
          17,
          18,
          19,
          20,
          21,
          22,
          23,
          24,
          25,
          26,
          27,
          28,
          29,
          30,
          31,
          32,
          33,
          34,
          35,
          36,
          37,
          38,
          39,
          40,
          41,
          42,
          43,
          44,
          45,
          46,
          47,
          48,
          49,
          50,
          51,
          52,
          53,
          54,
          55,
          56,
          57,
          58,
          59,
          60,
          61,
          62,
          63,
          64,
          65,
          66,
          67,
          68,
          69,
          70,
          71,
          72,
          73,
          74,
          75,
          76,
          77,
          78,
          79,
          80,
          81,
          82,
          83,
          84,
          85,
          86,
          87,
          88,
          89,
          90,
          91,
          92,
          93,
          94,
          95,
          96,
          97,
          98,
          99
         ],
         "xaxis": "x2",
         "y": [
          -0.03192522304954836,
          "",
          "",
          -0.8154080103028114,
          -0.3987748500791704,
          "",
          -0.18397319848350055,
          "",
          -0.05723506886790238,
          -0.7903930260024786,
          -3.035349428610881,
          "",
          -1.0276117115373644,
          "",
          "",
          "",
          "",
          "",
          -0.7746112038243255,
          "",
          "",
          "",
          "",
          -1.4798149961541656,
          -2.599794790343544,
          -1.5916609679659262,
          -1.7997525171184168,
          "",
          "",
          -0.9769370397790775,
          -0.8757948819947625,
          -0.4187583857603445,
          "",
          -0.7824682323332829,
          -0.26697650442097814,
          -5.1309039103032035,
          "",
          -0.8258815315612285,
          "",
          "",
          "",
          "",
          -0.9757475640728916,
          "",
          "",
          "",
          "",
          -1.0252616729979283,
          "",
          -0.8400273792024899,
          -1.3397458420749317,
          -0.4519823233415424,
          "",
          -0.028928222731129993,
          -3.771283679427398,
          "",
          -1.5031335314604128,
          -1.2708699165081507,
          -0.11955849652860107,
          "",
          "",
          "",
          "",
          -0.43951016821324584,
          -0.9632997097617788,
          -1.4742163434681306,
          -0.1484551275733958,
          -1.7245672840725474,
          "",
          -2.346132538068726,
          -0.218572954442613,
          -1.2698055464062532,
          "",
          -2.4376485844326283,
          "",
          "",
          "",
          "",
          -3.908529607539231,
          "",
          "",
          "",
          "",
          -0.36881244614952213,
          -1.3385626127194654,
          "",
          -0.8627550028982525,
          -2.1524084117852356,
          -0.9106382128728323,
          "",
          -0.47656725022898105,
          "",
          "",
          -1.6556747408697794,
          -0.9899547030903622,
          "",
          -1.2871976457829035,
          -1.4462770240003109,
          "",
          ""
         ],
         "yaxis": "y2"
        }
       ],
       "layout": {
        "hovermode": "x",
        "legend": {
         "bgcolor": "#F5F6F9",
         "font": {
          "color": "#4D5663"
         }
        },
        "paper_bgcolor": "#F5F6F9",
        "plot_bgcolor": "#F5F6F9",
        "template": {
         "data": {
          "bar": [
           {
            "error_x": {
             "color": "#2a3f5f"
            },
            "error_y": {
             "color": "#2a3f5f"
            },
            "marker": {
             "line": {
              "color": "#E5ECF6",
              "width": 0.5
             }
            },
            "type": "bar"
           }
          ],
          "barpolar": [
           {
            "marker": {
             "line": {
              "color": "#E5ECF6",
              "width": 0.5
             }
            },
            "type": "barpolar"
           }
          ],
          "carpet": [
           {
            "aaxis": {
             "endlinecolor": "#2a3f5f",
             "gridcolor": "white",
             "linecolor": "white",
             "minorgridcolor": "white",
             "startlinecolor": "#2a3f5f"
            },
            "baxis": {
             "endlinecolor": "#2a3f5f",
             "gridcolor": "white",
             "linecolor": "white",
             "minorgridcolor": "white",
             "startlinecolor": "#2a3f5f"
            },
            "type": "carpet"
           }
          ],
          "choropleth": [
           {
            "colorbar": {
             "outlinewidth": 0,
             "ticks": ""
            },
            "type": "choropleth"
           }
          ],
          "contour": [
           {
            "colorbar": {
             "outlinewidth": 0,
             "ticks": ""
            },
            "colorscale": [
             [
              0,
              "#0d0887"
             ],
             [
              0.1111111111111111,
              "#46039f"
             ],
             [
              0.2222222222222222,
              "#7201a8"
             ],
             [
              0.3333333333333333,
              "#9c179e"
             ],
             [
              0.4444444444444444,
              "#bd3786"
             ],
             [
              0.5555555555555556,
              "#d8576b"
             ],
             [
              0.6666666666666666,
              "#ed7953"
             ],
             [
              0.7777777777777778,
              "#fb9f3a"
             ],
             [
              0.8888888888888888,
              "#fdca26"
             ],
             [
              1,
              "#f0f921"
             ]
            ],
            "type": "contour"
           }
          ],
          "contourcarpet": [
           {
            "colorbar": {
             "outlinewidth": 0,
             "ticks": ""
            },
            "type": "contourcarpet"
           }
          ],
          "heatmap": [
           {
            "colorbar": {
             "outlinewidth": 0,
             "ticks": ""
            },
            "colorscale": [
             [
              0,
              "#0d0887"
             ],
             [
              0.1111111111111111,
              "#46039f"
             ],
             [
              0.2222222222222222,
              "#7201a8"
             ],
             [
              0.3333333333333333,
              "#9c179e"
             ],
             [
              0.4444444444444444,
              "#bd3786"
             ],
             [
              0.5555555555555556,
              "#d8576b"
             ],
             [
              0.6666666666666666,
              "#ed7953"
             ],
             [
              0.7777777777777778,
              "#fb9f3a"
             ],
             [
              0.8888888888888888,
              "#fdca26"
             ],
             [
              1,
              "#f0f921"
             ]
            ],
            "type": "heatmap"
           }
          ],
          "heatmapgl": [
           {
            "colorbar": {
             "outlinewidth": 0,
             "ticks": ""
            },
            "colorscale": [
             [
              0,
              "#0d0887"
             ],
             [
              0.1111111111111111,
              "#46039f"
             ],
             [
              0.2222222222222222,
              "#7201a8"
             ],
             [
              0.3333333333333333,
              "#9c179e"
             ],
             [
              0.4444444444444444,
              "#bd3786"
             ],
             [
              0.5555555555555556,
              "#d8576b"
             ],
             [
              0.6666666666666666,
              "#ed7953"
             ],
             [
              0.7777777777777778,
              "#fb9f3a"
             ],
             [
              0.8888888888888888,
              "#fdca26"
             ],
             [
              1,
              "#f0f921"
             ]
            ],
            "type": "heatmapgl"
           }
          ],
          "histogram": [
           {
            "marker": {
             "colorbar": {
              "outlinewidth": 0,
              "ticks": ""
             }
            },
            "type": "histogram"
           }
          ],
          "histogram2d": [
           {
            "colorbar": {
             "outlinewidth": 0,
             "ticks": ""
            },
            "colorscale": [
             [
              0,
              "#0d0887"
             ],
             [
              0.1111111111111111,
              "#46039f"
             ],
             [
              0.2222222222222222,
              "#7201a8"
             ],
             [
              0.3333333333333333,
              "#9c179e"
             ],
             [
              0.4444444444444444,
              "#bd3786"
             ],
             [
              0.5555555555555556,
              "#d8576b"
             ],
             [
              0.6666666666666666,
              "#ed7953"
             ],
             [
              0.7777777777777778,
              "#fb9f3a"
             ],
             [
              0.8888888888888888,
              "#fdca26"
             ],
             [
              1,
              "#f0f921"
             ]
            ],
            "type": "histogram2d"
           }
          ],
          "histogram2dcontour": [
           {
            "colorbar": {
             "outlinewidth": 0,
             "ticks": ""
            },
            "colorscale": [
             [
              0,
              "#0d0887"
             ],
             [
              0.1111111111111111,
              "#46039f"
             ],
             [
              0.2222222222222222,
              "#7201a8"
             ],
             [
              0.3333333333333333,
              "#9c179e"
             ],
             [
              0.4444444444444444,
              "#bd3786"
             ],
             [
              0.5555555555555556,
              "#d8576b"
             ],
             [
              0.6666666666666666,
              "#ed7953"
             ],
             [
              0.7777777777777778,
              "#fb9f3a"
             ],
             [
              0.8888888888888888,
              "#fdca26"
             ],
             [
              1,
              "#f0f921"
             ]
            ],
            "type": "histogram2dcontour"
           }
          ],
          "mesh3d": [
           {
            "colorbar": {
             "outlinewidth": 0,
             "ticks": ""
            },
            "type": "mesh3d"
           }
          ],
          "parcoords": [
           {
            "line": {
             "colorbar": {
              "outlinewidth": 0,
              "ticks": ""
             }
            },
            "type": "parcoords"
           }
          ],
          "pie": [
           {
            "automargin": true,
            "type": "pie"
           }
          ],
          "scatter": [
           {
            "marker": {
             "colorbar": {
              "outlinewidth": 0,
              "ticks": ""
             }
            },
            "type": "scatter"
           }
          ],
          "scatter3d": [
           {
            "line": {
             "colorbar": {
              "outlinewidth": 0,
              "ticks": ""
             }
            },
            "marker": {
             "colorbar": {
              "outlinewidth": 0,
              "ticks": ""
             }
            },
            "type": "scatter3d"
           }
          ],
          "scattercarpet": [
           {
            "marker": {
             "colorbar": {
              "outlinewidth": 0,
              "ticks": ""
             }
            },
            "type": "scattercarpet"
           }
          ],
          "scattergeo": [
           {
            "marker": {
             "colorbar": {
              "outlinewidth": 0,
              "ticks": ""
             }
            },
            "type": "scattergeo"
           }
          ],
          "scattergl": [
           {
            "marker": {
             "colorbar": {
              "outlinewidth": 0,
              "ticks": ""
             }
            },
            "type": "scattergl"
           }
          ],
          "scattermapbox": [
           {
            "marker": {
             "colorbar": {
              "outlinewidth": 0,
              "ticks": ""
             }
            },
            "type": "scattermapbox"
           }
          ],
          "scatterpolar": [
           {
            "marker": {
             "colorbar": {
              "outlinewidth": 0,
              "ticks": ""
             }
            },
            "type": "scatterpolar"
           }
          ],
          "scatterpolargl": [
           {
            "marker": {
             "colorbar": {
              "outlinewidth": 0,
              "ticks": ""
             }
            },
            "type": "scatterpolargl"
           }
          ],
          "scatterternary": [
           {
            "marker": {
             "colorbar": {
              "outlinewidth": 0,
              "ticks": ""
             }
            },
            "type": "scatterternary"
           }
          ],
          "surface": [
           {
            "colorbar": {
             "outlinewidth": 0,
             "ticks": ""
            },
            "colorscale": [
             [
              0,
              "#0d0887"
             ],
             [
              0.1111111111111111,
              "#46039f"
             ],
             [
              0.2222222222222222,
              "#7201a8"
             ],
             [
              0.3333333333333333,
              "#9c179e"
             ],
             [
              0.4444444444444444,
              "#bd3786"
             ],
             [
              0.5555555555555556,
              "#d8576b"
             ],
             [
              0.6666666666666666,
              "#ed7953"
             ],
             [
              0.7777777777777778,
              "#fb9f3a"
             ],
             [
              0.8888888888888888,
              "#fdca26"
             ],
             [
              1,
              "#f0f921"
             ]
            ],
            "type": "surface"
           }
          ],
          "table": [
           {
            "cells": {
             "fill": {
              "color": "#EBF0F8"
             },
             "line": {
              "color": "white"
             }
            },
            "header": {
             "fill": {
              "color": "#C8D4E3"
             },
             "line": {
              "color": "white"
             }
            },
            "type": "table"
           }
          ]
         },
         "layout": {
          "annotationdefaults": {
           "arrowcolor": "#2a3f5f",
           "arrowhead": 0,
           "arrowwidth": 1
          },
          "coloraxis": {
           "colorbar": {
            "outlinewidth": 0,
            "ticks": ""
           }
          },
          "colorscale": {
           "diverging": [
            [
             0,
             "#8e0152"
            ],
            [
             0.1,
             "#c51b7d"
            ],
            [
             0.2,
             "#de77ae"
            ],
            [
             0.3,
             "#f1b6da"
            ],
            [
             0.4,
             "#fde0ef"
            ],
            [
             0.5,
             "#f7f7f7"
            ],
            [
             0.6,
             "#e6f5d0"
            ],
            [
             0.7,
             "#b8e186"
            ],
            [
             0.8,
             "#7fbc41"
            ],
            [
             0.9,
             "#4d9221"
            ],
            [
             1,
             "#276419"
            ]
           ],
           "sequential": [
            [
             0,
             "#0d0887"
            ],
            [
             0.1111111111111111,
             "#46039f"
            ],
            [
             0.2222222222222222,
             "#7201a8"
            ],
            [
             0.3333333333333333,
             "#9c179e"
            ],
            [
             0.4444444444444444,
             "#bd3786"
            ],
            [
             0.5555555555555556,
             "#d8576b"
            ],
            [
             0.6666666666666666,
             "#ed7953"
            ],
            [
             0.7777777777777778,
             "#fb9f3a"
            ],
            [
             0.8888888888888888,
             "#fdca26"
            ],
            [
             1,
             "#f0f921"
            ]
           ],
           "sequentialminus": [
            [
             0,
             "#0d0887"
            ],
            [
             0.1111111111111111,
             "#46039f"
            ],
            [
             0.2222222222222222,
             "#7201a8"
            ],
            [
             0.3333333333333333,
             "#9c179e"
            ],
            [
             0.4444444444444444,
             "#bd3786"
            ],
            [
             0.5555555555555556,
             "#d8576b"
            ],
            [
             0.6666666666666666,
             "#ed7953"
            ],
            [
             0.7777777777777778,
             "#fb9f3a"
            ],
            [
             0.8888888888888888,
             "#fdca26"
            ],
            [
             1,
             "#f0f921"
            ]
           ]
          },
          "colorway": [
           "#636efa",
           "#EF553B",
           "#00cc96",
           "#ab63fa",
           "#FFA15A",
           "#19d3f3",
           "#FF6692",
           "#B6E880",
           "#FF97FF",
           "#FECB52"
          ],
          "font": {
           "color": "#2a3f5f"
          },
          "geo": {
           "bgcolor": "white",
           "lakecolor": "white",
           "landcolor": "#E5ECF6",
           "showlakes": true,
           "showland": true,
           "subunitcolor": "white"
          },
          "hoverlabel": {
           "align": "left"
          },
          "hovermode": "closest",
          "mapbox": {
           "style": "light"
          },
          "paper_bgcolor": "white",
          "plot_bgcolor": "#E5ECF6",
          "polar": {
           "angularaxis": {
            "gridcolor": "white",
            "linecolor": "white",
            "ticks": ""
           },
           "bgcolor": "#E5ECF6",
           "radialaxis": {
            "gridcolor": "white",
            "linecolor": "white",
            "ticks": ""
           }
          },
          "scene": {
           "xaxis": {
            "backgroundcolor": "#E5ECF6",
            "gridcolor": "white",
            "gridwidth": 2,
            "linecolor": "white",
            "showbackground": true,
            "ticks": "",
            "zerolinecolor": "white"
           },
           "yaxis": {
            "backgroundcolor": "#E5ECF6",
            "gridcolor": "white",
            "gridwidth": 2,
            "linecolor": "white",
            "showbackground": true,
            "ticks": "",
            "zerolinecolor": "white"
           },
           "zaxis": {
            "backgroundcolor": "#E5ECF6",
            "gridcolor": "white",
            "gridwidth": 2,
            "linecolor": "white",
            "showbackground": true,
            "ticks": "",
            "zerolinecolor": "white"
           }
          },
          "shapedefaults": {
           "line": {
            "color": "#2a3f5f"
           }
          },
          "ternary": {
           "aaxis": {
            "gridcolor": "white",
            "linecolor": "white",
            "ticks": ""
           },
           "baxis": {
            "gridcolor": "white",
            "linecolor": "white",
            "ticks": ""
           },
           "bgcolor": "#E5ECF6",
           "caxis": {
            "gridcolor": "white",
            "linecolor": "white",
            "ticks": ""
           }
          },
          "title": {
           "x": 0.05
          },
          "xaxis": {
           "automargin": true,
           "gridcolor": "white",
           "linecolor": "white",
           "ticks": "",
           "title": {
            "standoff": 15
           },
           "zerolinecolor": "white",
           "zerolinewidth": 2
          },
          "yaxis": {
           "automargin": true,
           "gridcolor": "white",
           "linecolor": "white",
           "ticks": "",
           "title": {
            "standoff": 15
           },
           "zerolinecolor": "white",
           "zerolinewidth": 2
          }
         }
        },
        "title": {
         "font": {
          "color": "#4D5663"
         }
        },
        "xaxis": {
         "gridcolor": "#E1E5ED",
         "showgrid": true,
         "tickfont": {
          "color": "#4D5663"
         },
         "title": {
          "font": {
           "color": "#4D5663"
          },
          "text": ""
         },
         "zerolinecolor": "#E1E5ED"
        },
        "xaxis2": {
         "anchor": "y2",
         "gridcolor": "#E1E5ED",
         "showgrid": true,
         "showticklabels": false,
         "tickfont": {
          "color": "#4D5663"
         },
         "title": {
          "font": {
           "color": "#4D5663"
          },
          "text": ""
         },
         "zerolinecolor": "#E1E5ED"
        },
        "yaxis": {
         "domain": [
          0.3,
          1
         ],
         "gridcolor": "#E1E5ED",
         "showgrid": true,
         "tickfont": {
          "color": "#4D5663"
         },
         "title": {
          "font": {
           "color": "#4D5663"
          },
          "text": ""
         },
         "zerolinecolor": "#E1E5ED"
        },
        "yaxis2": {
         "domain": [
          0,
          0.25
         ],
         "gridcolor": "#E1E5ED",
         "showgrid": true,
         "tickfont": {
          "color": "#4D5663"
         },
         "title": {
          "font": {
           "color": "#4D5663"
          },
          "text": "Spread"
         },
         "zerolinecolor": "#E1E5ED"
        }
       }
      },
      "text/html": [
       "<div>\n",
       "        \n",
       "        \n",
       "            <div id=\"5ba4199b-063f-4894-bbaa-afe0a844015e\" class=\"plotly-graph-div\" style=\"height:525px; width:100%;\"></div>\n",
       "            <script type=\"text/javascript\">\n",
       "                require([\"plotly\"], function(Plotly) {\n",
       "                    window.PLOTLYENV=window.PLOTLYENV || {};\n",
       "                    window.PLOTLYENV.BASE_URL='https://plot.ly';\n",
       "                    \n",
       "                if (document.getElementById(\"5ba4199b-063f-4894-bbaa-afe0a844015e\")) {\n",
       "                    Plotly.newPlot(\n",
       "                        '5ba4199b-063f-4894-bbaa-afe0a844015e',\n",
       "                        [{\"line\": {\"color\": \"rgba(255, 153, 51, 1.0)\", \"dash\": \"solid\", \"shape\": \"linear\", \"width\": 1.3}, \"mode\": \"lines\", \"name\": \"A\", \"text\": \"\", \"type\": \"scatter\", \"x\": [0, 1, 2, 3, 4, 5, 6, 7, 8, 9, 10, 11, 12, 13, 14, 15, 16, 17, 18, 19, 20, 21, 22, 23, 24, 25, 26, 27, 28, 29, 30, 31, 32, 33, 34, 35, 36, 37, 38, 39, 40, 41, 42, 43, 44, 45, 46, 47, 48, 49, 50, 51, 52, 53, 54, 55, 56, 57, 58, 59, 60, 61, 62, 63, 64, 65, 66, 67, 68, 69, 70, 71, 72, 73, 74, 75, 76, 77, 78, 79, 80, 81, 82, 83, 84, 85, 86, 87, 88, 89, 90, 91, 92, 93, 94, 95, 96, 97, 98, 99], \"y\": [-0.045220991541672514, 0.6780430845497113, 1.0057065998631551, -0.9728874120987261, -0.1429232842760107, 1.2921833308681698, 0.16399911560590277, 0.5864133066083158, 0.005048291501591372, 0.18320948521328073, -2.49509747225579, 1.3256859636637544, -1.6793176056440045, 1.2723860638991833, 1.578103990878968, 1.6643859249494612, -0.7935622243303689, 1.4753187604179476, -0.5171412718010686, 1.2361846435347696, 1.704522844836798, 0.8695553230428329, 0.04824931042202152, -0.5596124096097523, -1.1327010356287375, -1.406914574214415, -0.2760296743683121, 0.8499750408369918, 0.2733027589733112, -0.9270609774179835, -0.11937096459563867, -1.6341734716797336, -0.41805224566733007, 0.050751069046720734, -0.20458127481769103, -2.014914541732928, 1.1293271143962424, -0.535345544707788, 0.7205565368377175, 0.4434882575852396, 2.287900075088307, 0.8593080673185117, -0.8474654655180363, 0.5740891945961737, 0.866934071277127, 1.6599286334175802, 1.1413585505968555, -0.12489284454263366, 1.0077112317489567, -0.8015057558969182, 0.06322142018660247, 0.02030583905367841, 1.310214444831818, 0.3220132314938279, -1.7460855703860538, 1.4814702223140728, -0.8035722883805491, -0.8977913265652391, 0.4834089731976079, 1.4171127102051564, 1.4755906750430359, 2.0461501156802657, 1.8315708147771137, -0.7776544535304498, 0.9212441621689802, -1.070857782437202, 0.2665485378678139, -0.2375412783190445, 0.12928115685388808, -1.5094640119124836, 0.36096311670622444, 0.3449732335562818, 0.9268319900465413, -0.8784088858281468, 0.35568448009216114, -0.08607414252524906, 1.213447359424447, 1.220582787720631, -1.5714006178028541, 0.3772038547775565, 0.1836811429063996, 0.23643055367021165, -0.14944956474447565, 1.2660528101080524, -0.5669141209856902, -0.061203227869747794, -1.0152345093451074, -0.06490705351212794, -0.0967940059628407, 0.4630555535765282, -1.5499008045555307, 0.3662054810766103, 1.3967190454514729, -1.2459338585587063, -0.4192847012410866, -0.9966152679852247, -0.8929790395801137, -0.375225580512482, 1.11697358465709, 0.22825455583325077]}, {\"line\": {\"color\": \"rgba(55, 128, 191, 1.0)\", \"dash\": \"solid\", \"shape\": \"linear\", \"width\": 1.3}, \"mode\": \"lines\", \"name\": \"B\", \"text\": \"\", \"type\": \"scatter\", \"x\": [0, 1, 2, 3, 4, 5, 6, 7, 8, 9, 10, 11, 12, 13, 14, 15, 16, 17, 18, 19, 20, 21, 22, 23, 24, 25, 26, 27, 28, 29, 30, 31, 32, 33, 34, 35, 36, 37, 38, 39, 40, 41, 42, 43, 44, 45, 46, 47, 48, 49, 50, 51, 52, 53, 54, 55, 56, 57, 58, 59, 60, 61, 62, 63, 64, 65, 66, 67, 68, 69, 70, 71, 72, 73, 74, 75, 76, 77, 78, 79, 80, 81, 82, 83, 84, 85, 86, 87, 88, 89, 90, 91, 92, 93, 94, 95, 96, 97, 98, 99], \"y\": [-0.013295768492124153, -0.27074517491106564, -0.48041519701937146, -0.15747940179591474, 0.2558515658031597, -0.15662119891997725, 0.3479723140894033, -0.15084375498932429, 0.06228336036949375, 0.9736025112157594, 0.5402519563550914, 0.8682305950906869, -0.65170589410664, 0.678613203133178, -0.057432097459745896, 0.6932633553636146, -1.9939719746754565, -2.002802721971022, 0.25746993202325685, 0.4889548095852013, -0.7168527223620486, -1.2923706473113479, -0.6753735457834736, 0.9202025865444132, 1.4670937547148066, 0.18474639375151114, 1.5237228427501046, 0.6555734068239183, -1.6536292861970667, 0.04987606236109394, 0.7564239173991238, -1.215415085919389, -0.6904670180577785, 0.8332193013800037, 0.062395229603287104, 3.115989368570276, -1.0011794943455687, 0.29053598685344056, -0.029260709986795252, -0.37251804313432424, 0.48538385105860427, -0.833960660422719, 0.12828209855485537, -0.36647237774781805, -0.2562272216832282, 0.2689613943245282, 0.039384657809476246, 0.9003688284552946, -0.03498553399708273, 0.03852162330557176, 1.4029672622615341, 0.4722881623952208, -0.655692389374444, 0.35094145422495787, 2.025198109041344, 0.6214822754704921, 0.6995612430798638, 0.3730785899429117, 0.602967469726209, 0.04571784171804009, 0.3266369638556332, -0.31846827964026114, 0.15383690822073517, -0.338144285317204, 1.884543871930759, 0.40335856103092854, 0.4150036654412097, 1.487026005753503, 0.12374285847035515, 0.8366685261562422, 0.5795360711488374, 1.614778779962535, -1.5065686107987333, 1.5592396986044814, -0.32329791999507934, -0.9318225839805766, -1.1578286591490894, -0.041709953393487105, 2.337128989736377, -0.5557500637748092, -0.801289268411741, -0.9626995069095104, -0.4290769015529991, 1.6348652562575745, 0.7716484917337753, -1.505387304121753, -0.15247950644685498, 2.0875013582731077, 0.8138442069099916, -0.5980676063757108, -1.0733335543265496, -0.5453515556217455, 0.27422936109205454, 0.40974088231107303, 0.5706700018492756, -1.9690048686611612, 0.3942186062027898, 1.0710514434878289, -0.5441656857116004, -0.26082261070316265]}, {\"line\": {\"color\": \"rgba(50, 171, 96, 1.0)\", \"dash\": \"solid\", \"shape\": \"linear\", \"width\": 1.3}, \"mode\": \"lines\", \"name\": \"C\", \"text\": \"\", \"type\": \"scatter\", \"x\": [0, 1, 2, 3, 4, 5, 6, 7, 8, 9, 10, 11, 12, 13, 14, 15, 16, 17, 18, 19, 20, 21, 22, 23, 24, 25, 26, 27, 28, 29, 30, 31, 32, 33, 34, 35, 36, 37, 38, 39, 40, 41, 42, 43, 44, 45, 46, 47, 48, 49, 50, 51, 52, 53, 54, 55, 56, 57, 58, 59, 60, 61, 62, 63, 64, 65, 66, 67, 68, 69, 70, 71, 72, 73, 74, 75, 76, 77, 78, 79, 80, 81, 82, 83, 84, 85, 86, 87, 88, 89, 90, 91, 92, 93, 94, 95, 96, 97, 98, 99], \"y\": [0.13873828079658243, 0.004189153867128753, 0.09682297277796335, -1.944173718156881, -1.509648123220136, -0.2562642772096215, 1.1425384061525947, 1.8381697029094315, -0.89523389287459, -0.11167869593903061, 1.868391686565969, 0.926008375873174, -0.5375160643538771, -2.21354100606647, 0.13758441049616993, -1.6127200438386537, 0.836629941326483, 0.982639029672047, -1.4267965171737238, -0.7340729325482471, 0.33979196381839, -0.0975870854132879, -0.6148688825087985, 0.5147673433285442, -0.9481706485625584, -0.04271544928766234, 1.3243642261933142, -0.8546463501044619, -0.599297728305147, 0.04548785985911168, -0.4811079491622432, -1.774406825632185, -0.7702693340792561, -0.4748276882281734, 0.9768466741741556, 0.6901701186316009, -0.3163663233169675, 0.21287078406361903, 1.136115798865693, 0.33720867240916724, 1.033480878886706, -0.185564645796627, -0.10859162252684647, 0.0011082298498769818, -1.1007152668847089, 0.590790643787503, 0.7924839944953712, 1.1310755853681902, 0.20678821376316955, 0.24112123763139306, 1.2357128959168289, -0.49945309036356245, -0.3438373786786498, -1.974197190227374, -0.17757562574931995, -1.477475520667104, -1.3876057638569905, 0.7462505236735426, -0.8287043340198685, -0.3133316893236558, 0.055715575088475404, -1.9505041054363514, -0.7276070321344944, -0.34043567190802565, 0.606938441762185, 1.3179143702571974, -0.7809922643385032, -0.32097787481639667, 0.4256234210720113, -0.07335408475851667, 0.3671507620785513, 0.02747103411586101, -0.03694446480914026, 1.3688673794512007, 1.0148027798988821, -0.39597774323778956, 0.5455817623527611, -1.1833906968924781, 0.5047148544381632, -0.9086647103866449, -0.5041775256575728, -3.2175858667536223, -1.4626369755166713, -0.8760406447373471, -1.5329422094336318, -0.07856244032320203, 0.7258509590435329, -0.7169536298739123, 0.47821301919925535, -1.6070953362840454, 0.18492608791772172, 0.4831953421913388, -0.46527559209292835, -0.057744579710930236, 2.0151435673920908, -1.202496502277343, 1.1154447255484976, -1.8995728472275581, -0.07759942120844565, 0.5096943059187304]}, {\"line\": {\"color\": \"rgba(128, 0, 128, 1.0)\", \"dash\": \"solid\", \"shape\": \"linear\", \"width\": 1.3}, \"mode\": \"lines\", \"name\": \"D\", \"text\": \"\", \"type\": \"scatter\", \"x\": [0, 1, 2, 3, 4, 5, 6, 7, 8, 9, 10, 11, 12, 13, 14, 15, 16, 17, 18, 19, 20, 21, 22, 23, 24, 25, 26, 27, 28, 29, 30, 31, 32, 33, 34, 35, 36, 37, 38, 39, 40, 41, 42, 43, 44, 45, 46, 47, 48, 49, 50, 51, 52, 53, 54, 55, 56, 57, 58, 59, 60, 61, 62, 63, 64, 65, 66, 67, 68, 69, 70, 71, 72, 73, 74, 75, 76, 77, 78, 79, 80, 81, 82, 83, 84, 85, 86, 87, 88, 89, 90, 91, 92, 93, 94, 95, 96, 97, 98, 99], \"y\": [-0.4337879491334362, 0.7976012586008668, 0.04679388847070139, 0.8210509017025851, -0.47737624449913807, -2.7113749177309034, -0.3467805670259546, -0.9656770508426309, 0.26838356597477203, 1.111511291342199, -0.3724119499893848, -0.6879024860078657, 0.12543381105475546, 1.5141660057493092, 0.0031518850461970446, -1.8862220831122953, -0.8366577378678488, 0.24412695824901426, -0.29940606815106224, -1.108196501494843, -1.3682950024746594, -2.3631574734573317, -3.0855407392711185, -0.8490098793244223, -0.27307010329833803, -0.2364030920459769, 0.6643850678309491, -0.3928846608662631, -1.1134663891849492, 0.5259166824485958, 1.2767655084421516, 0.0354705094250525, -0.22469254344204675, 1.6272211270560817, -0.414669543582508, 0.7139322291458065, -2.470709743384897, 1.5386164967793026, 0.7160072919906816, 0.1417813834395697, -0.4043862753593802, -1.8071493515932677, -1.3723541348893524, 1.0948479544848693, 0.9989596265551828, -0.6478008481453175, 1.4124754326601883, 0.4346882253946431, -0.7348738360323315, 0.870683905831478, 0.6579668551742296, -1.9940535889544115, -0.005078270571319728, 1.3365837181328428, 0.10899587834151302, 0.9165248381194471, -0.6368591137339633, 0.7119659996376386, 0.986580694631742, 0.416081849948451, 0.5352805242252674, 0.5208318750173206, 0.9571424944340965, -0.3901599757044315, -1.1401073992251733, 0.3340180184206363, 0.7406991050707952, 0.4647617310146391, 1.2959649906828112, -0.47230962246013475, 0.1567297692468287, -0.37393093428584573, 1.2767768262192751, 0.3461111052548227, -1.022476851684093, 0.6349317486094176, -0.15101842538131852, 0.033728646201024046, 0.2667964330454267, 1.0629785526860123, -1.0917878409952968, -0.3582307526329137, 0.5524824823445418, -1.0013894542109176, -1.9607511780597788, -2.7722741185384954, 0.01864704728907342, 0.6571359736547979, 1.7367344460001817, 0.32949603949899275, 0.42953810085154065, -0.6237116485501133, 0.20610138838812966, 1.1257106532373393, 0.07309187136866693, 0.1825421452130804, -1.410613394522949, 0.32020366902474606, -0.1891096779802458, 1.1968104396498749]}, {\"connectgaps\": false, \"fill\": \"tozeroy\", \"line\": {\"color\": \"green\", \"dash\": \"solid\", \"shape\": \"linear\", \"width\": 0.5}, \"mode\": \"lines\", \"name\": \"Spread\", \"showlegend\": false, \"type\": \"scatter\", \"x\": [0, 1, 2, 3, 4, 5, 6, 7, 8, 9, 10, 11, 12, 13, 14, 15, 16, 17, 18, 19, 20, 21, 22, 23, 24, 25, 26, 27, 28, 29, 30, 31, 32, 33, 34, 35, 36, 37, 38, 39, 40, 41, 42, 43, 44, 45, 46, 47, 48, 49, 50, 51, 52, 53, 54, 55, 56, 57, 58, 59, 60, 61, 62, 63, 64, 65, 66, 67, 68, 69, 70, 71, 72, 73, 74, 75, 76, 77, 78, 79, 80, 81, 82, 83, 84, 85, 86, 87, 88, 89, 90, 91, 92, 93, 94, 95, 96, 97, 98, 99], \"xaxis\": \"x2\", \"y\": [\"\", 0.9487882594607769, 1.4861217968825267, \"\", \"\", 1.448804529788147, \"\", 0.7372570615976402, \"\", \"\", \"\", 0.45745536857306746, \"\", 0.5937728607660053, 1.635536088338714, 0.9711225695858466, 1.2004097503450875, 3.4781214823889695, \"\", 0.7472298339495683, 2.4213755671988464, 2.1619259703541807, 0.7236228562054952, \"\", \"\", \"\", \"\", 0.19440163401307353, 1.926932045170378, \"\", \"\", \"\", 0.2724147723904485, \"\", \"\", \"\", 2.130506608741811, \"\", 0.7498172468245128, 0.8160063007195638, 1.802516224029703, 1.6932687277412306, \"\", 0.9405615723439917, 1.1231612929603552, 1.390967239093052, 1.1019738927873792, \"\", 1.0426967657460395, \"\", \"\", \"\", 1.965906834206262, \"\", \"\", 0.8599879468435807, \"\", \"\", \"\", 1.3713948684871162, 1.1489537111874026, 2.3646183953205266, 1.6777339065563786, \"\", \"\", \"\", \"\", \"\", 0.005538298383532925, \"\", \"\", \"\", 2.4334006008452747, \"\", 0.6789824000872404, 0.8457484414553276, 2.3712760185735364, 1.262292741114118, \"\", 0.9329539185523656, 0.9849704113181406, 1.1991300605797222, 0.2796273368085235, \"\", \"\", 1.444184076252005, \"\", \"\", \"\", 1.061123159952239, \"\", 0.9115570366983559, 1.1224896843594183, \"\", \"\", 0.9723896006759365, \"\", \"\", 1.6611392703686905, 0.4890771665364134], \"yaxis\": \"y2\"}, {\"connectgaps\": false, \"fill\": \"tozeroy\", \"line\": {\"color\": \"red\", \"dash\": \"solid\", \"shape\": \"linear\", \"width\": 0.5}, \"mode\": \"lines\", \"name\": \"Spread\", \"showlegend\": false, \"type\": \"scatter\", \"x\": [0, 1, 2, 3, 4, 5, 6, 7, 8, 9, 10, 11, 12, 13, 14, 15, 16, 17, 18, 19, 20, 21, 22, 23, 24, 25, 26, 27, 28, 29, 30, 31, 32, 33, 34, 35, 36, 37, 38, 39, 40, 41, 42, 43, 44, 45, 46, 47, 48, 49, 50, 51, 52, 53, 54, 55, 56, 57, 58, 59, 60, 61, 62, 63, 64, 65, 66, 67, 68, 69, 70, 71, 72, 73, 74, 75, 76, 77, 78, 79, 80, 81, 82, 83, 84, 85, 86, 87, 88, 89, 90, 91, 92, 93, 94, 95, 96, 97, 98, 99], \"xaxis\": \"x2\", \"y\": [-0.03192522304954836, \"\", \"\", -0.8154080103028114, -0.3987748500791704, \"\", -0.18397319848350055, \"\", -0.05723506886790238, -0.7903930260024786, -3.035349428610881, \"\", -1.0276117115373644, \"\", \"\", \"\", \"\", \"\", -0.7746112038243255, \"\", \"\", \"\", \"\", -1.4798149961541656, -2.599794790343544, -1.5916609679659262, -1.7997525171184168, \"\", \"\", -0.9769370397790775, -0.8757948819947625, -0.4187583857603445, \"\", -0.7824682323332829, -0.26697650442097814, -5.1309039103032035, \"\", -0.8258815315612285, \"\", \"\", \"\", \"\", -0.9757475640728916, \"\", \"\", \"\", \"\", -1.0252616729979283, \"\", -0.8400273792024899, -1.3397458420749317, -0.4519823233415424, \"\", -0.028928222731129993, -3.771283679427398, \"\", -1.5031335314604128, -1.2708699165081507, -0.11955849652860107, \"\", \"\", \"\", \"\", -0.43951016821324584, -0.9632997097617788, -1.4742163434681306, -0.1484551275733958, -1.7245672840725474, \"\", -2.346132538068726, -0.218572954442613, -1.2698055464062532, \"\", -2.4376485844326283, \"\", \"\", \"\", \"\", -3.908529607539231, \"\", \"\", \"\", \"\", -0.36881244614952213, -1.3385626127194654, \"\", -0.8627550028982525, -2.1524084117852356, -0.9106382128728323, \"\", -0.47656725022898105, \"\", \"\", -1.6556747408697794, -0.9899547030903622, \"\", -1.2871976457829035, -1.4462770240003109, \"\", \"\"], \"yaxis\": \"y2\"}],\n",
       "                        {\"hovermode\": \"x\", \"legend\": {\"bgcolor\": \"#F5F6F9\", \"font\": {\"color\": \"#4D5663\"}}, \"paper_bgcolor\": \"#F5F6F9\", \"plot_bgcolor\": \"#F5F6F9\", \"template\": {\"data\": {\"bar\": [{\"error_x\": {\"color\": \"#2a3f5f\"}, \"error_y\": {\"color\": \"#2a3f5f\"}, \"marker\": {\"line\": {\"color\": \"#E5ECF6\", \"width\": 0.5}}, \"type\": \"bar\"}], \"barpolar\": [{\"marker\": {\"line\": {\"color\": \"#E5ECF6\", \"width\": 0.5}}, \"type\": \"barpolar\"}], \"carpet\": [{\"aaxis\": {\"endlinecolor\": \"#2a3f5f\", \"gridcolor\": \"white\", \"linecolor\": \"white\", \"minorgridcolor\": \"white\", \"startlinecolor\": \"#2a3f5f\"}, \"baxis\": {\"endlinecolor\": \"#2a3f5f\", \"gridcolor\": \"white\", \"linecolor\": \"white\", \"minorgridcolor\": \"white\", \"startlinecolor\": \"#2a3f5f\"}, \"type\": \"carpet\"}], \"choropleth\": [{\"colorbar\": {\"outlinewidth\": 0, \"ticks\": \"\"}, \"type\": \"choropleth\"}], \"contour\": [{\"colorbar\": {\"outlinewidth\": 0, \"ticks\": \"\"}, \"colorscale\": [[0.0, \"#0d0887\"], [0.1111111111111111, \"#46039f\"], [0.2222222222222222, \"#7201a8\"], [0.3333333333333333, \"#9c179e\"], [0.4444444444444444, \"#bd3786\"], [0.5555555555555556, \"#d8576b\"], [0.6666666666666666, \"#ed7953\"], [0.7777777777777778, \"#fb9f3a\"], [0.8888888888888888, \"#fdca26\"], [1.0, \"#f0f921\"]], \"type\": \"contour\"}], \"contourcarpet\": [{\"colorbar\": {\"outlinewidth\": 0, \"ticks\": \"\"}, \"type\": \"contourcarpet\"}], \"heatmap\": [{\"colorbar\": {\"outlinewidth\": 0, \"ticks\": \"\"}, \"colorscale\": [[0.0, \"#0d0887\"], [0.1111111111111111, \"#46039f\"], [0.2222222222222222, \"#7201a8\"], [0.3333333333333333, \"#9c179e\"], [0.4444444444444444, \"#bd3786\"], [0.5555555555555556, \"#d8576b\"], [0.6666666666666666, \"#ed7953\"], [0.7777777777777778, \"#fb9f3a\"], [0.8888888888888888, \"#fdca26\"], [1.0, \"#f0f921\"]], \"type\": \"heatmap\"}], \"heatmapgl\": [{\"colorbar\": {\"outlinewidth\": 0, \"ticks\": \"\"}, \"colorscale\": [[0.0, \"#0d0887\"], [0.1111111111111111, \"#46039f\"], [0.2222222222222222, \"#7201a8\"], [0.3333333333333333, \"#9c179e\"], [0.4444444444444444, \"#bd3786\"], [0.5555555555555556, \"#d8576b\"], [0.6666666666666666, \"#ed7953\"], [0.7777777777777778, \"#fb9f3a\"], [0.8888888888888888, \"#fdca26\"], [1.0, \"#f0f921\"]], \"type\": \"heatmapgl\"}], \"histogram\": [{\"marker\": {\"colorbar\": {\"outlinewidth\": 0, \"ticks\": \"\"}}, \"type\": \"histogram\"}], \"histogram2d\": [{\"colorbar\": {\"outlinewidth\": 0, \"ticks\": \"\"}, \"colorscale\": [[0.0, \"#0d0887\"], [0.1111111111111111, \"#46039f\"], [0.2222222222222222, \"#7201a8\"], [0.3333333333333333, \"#9c179e\"], [0.4444444444444444, \"#bd3786\"], [0.5555555555555556, \"#d8576b\"], [0.6666666666666666, \"#ed7953\"], [0.7777777777777778, \"#fb9f3a\"], [0.8888888888888888, \"#fdca26\"], [1.0, \"#f0f921\"]], \"type\": \"histogram2d\"}], \"histogram2dcontour\": [{\"colorbar\": {\"outlinewidth\": 0, \"ticks\": \"\"}, \"colorscale\": [[0.0, \"#0d0887\"], [0.1111111111111111, \"#46039f\"], [0.2222222222222222, \"#7201a8\"], [0.3333333333333333, \"#9c179e\"], [0.4444444444444444, \"#bd3786\"], [0.5555555555555556, \"#d8576b\"], [0.6666666666666666, \"#ed7953\"], [0.7777777777777778, \"#fb9f3a\"], [0.8888888888888888, \"#fdca26\"], [1.0, \"#f0f921\"]], \"type\": \"histogram2dcontour\"}], \"mesh3d\": [{\"colorbar\": {\"outlinewidth\": 0, \"ticks\": \"\"}, \"type\": \"mesh3d\"}], \"parcoords\": [{\"line\": {\"colorbar\": {\"outlinewidth\": 0, \"ticks\": \"\"}}, \"type\": \"parcoords\"}], \"pie\": [{\"automargin\": true, \"type\": \"pie\"}], \"scatter\": [{\"marker\": {\"colorbar\": {\"outlinewidth\": 0, \"ticks\": \"\"}}, \"type\": \"scatter\"}], \"scatter3d\": [{\"line\": {\"colorbar\": {\"outlinewidth\": 0, \"ticks\": \"\"}}, \"marker\": {\"colorbar\": {\"outlinewidth\": 0, \"ticks\": \"\"}}, \"type\": \"scatter3d\"}], \"scattercarpet\": [{\"marker\": {\"colorbar\": {\"outlinewidth\": 0, \"ticks\": \"\"}}, \"type\": \"scattercarpet\"}], \"scattergeo\": [{\"marker\": {\"colorbar\": {\"outlinewidth\": 0, \"ticks\": \"\"}}, \"type\": \"scattergeo\"}], \"scattergl\": [{\"marker\": {\"colorbar\": {\"outlinewidth\": 0, \"ticks\": \"\"}}, \"type\": \"scattergl\"}], \"scattermapbox\": [{\"marker\": {\"colorbar\": {\"outlinewidth\": 0, \"ticks\": \"\"}}, \"type\": \"scattermapbox\"}], \"scatterpolar\": [{\"marker\": {\"colorbar\": {\"outlinewidth\": 0, \"ticks\": \"\"}}, \"type\": \"scatterpolar\"}], \"scatterpolargl\": [{\"marker\": {\"colorbar\": {\"outlinewidth\": 0, \"ticks\": \"\"}}, \"type\": \"scatterpolargl\"}], \"scatterternary\": [{\"marker\": {\"colorbar\": {\"outlinewidth\": 0, \"ticks\": \"\"}}, \"type\": \"scatterternary\"}], \"surface\": [{\"colorbar\": {\"outlinewidth\": 0, \"ticks\": \"\"}, \"colorscale\": [[0.0, \"#0d0887\"], [0.1111111111111111, \"#46039f\"], [0.2222222222222222, \"#7201a8\"], [0.3333333333333333, \"#9c179e\"], [0.4444444444444444, \"#bd3786\"], [0.5555555555555556, \"#d8576b\"], [0.6666666666666666, \"#ed7953\"], [0.7777777777777778, \"#fb9f3a\"], [0.8888888888888888, \"#fdca26\"], [1.0, \"#f0f921\"]], \"type\": \"surface\"}], \"table\": [{\"cells\": {\"fill\": {\"color\": \"#EBF0F8\"}, \"line\": {\"color\": \"white\"}}, \"header\": {\"fill\": {\"color\": \"#C8D4E3\"}, \"line\": {\"color\": \"white\"}}, \"type\": \"table\"}]}, \"layout\": {\"annotationdefaults\": {\"arrowcolor\": \"#2a3f5f\", \"arrowhead\": 0, \"arrowwidth\": 1}, \"coloraxis\": {\"colorbar\": {\"outlinewidth\": 0, \"ticks\": \"\"}}, \"colorscale\": {\"diverging\": [[0, \"#8e0152\"], [0.1, \"#c51b7d\"], [0.2, \"#de77ae\"], [0.3, \"#f1b6da\"], [0.4, \"#fde0ef\"], [0.5, \"#f7f7f7\"], [0.6, \"#e6f5d0\"], [0.7, \"#b8e186\"], [0.8, \"#7fbc41\"], [0.9, \"#4d9221\"], [1, \"#276419\"]], \"sequential\": [[0.0, \"#0d0887\"], [0.1111111111111111, \"#46039f\"], [0.2222222222222222, \"#7201a8\"], [0.3333333333333333, \"#9c179e\"], [0.4444444444444444, \"#bd3786\"], [0.5555555555555556, \"#d8576b\"], [0.6666666666666666, \"#ed7953\"], [0.7777777777777778, \"#fb9f3a\"], [0.8888888888888888, \"#fdca26\"], [1.0, \"#f0f921\"]], \"sequentialminus\": [[0.0, \"#0d0887\"], [0.1111111111111111, \"#46039f\"], [0.2222222222222222, \"#7201a8\"], [0.3333333333333333, \"#9c179e\"], [0.4444444444444444, \"#bd3786\"], [0.5555555555555556, \"#d8576b\"], [0.6666666666666666, \"#ed7953\"], [0.7777777777777778, \"#fb9f3a\"], [0.8888888888888888, \"#fdca26\"], [1.0, \"#f0f921\"]]}, \"colorway\": [\"#636efa\", \"#EF553B\", \"#00cc96\", \"#ab63fa\", \"#FFA15A\", \"#19d3f3\", \"#FF6692\", \"#B6E880\", \"#FF97FF\", \"#FECB52\"], \"font\": {\"color\": \"#2a3f5f\"}, \"geo\": {\"bgcolor\": \"white\", \"lakecolor\": \"white\", \"landcolor\": \"#E5ECF6\", \"showlakes\": true, \"showland\": true, \"subunitcolor\": \"white\"}, \"hoverlabel\": {\"align\": \"left\"}, \"hovermode\": \"closest\", \"mapbox\": {\"style\": \"light\"}, \"paper_bgcolor\": \"white\", \"plot_bgcolor\": \"#E5ECF6\", \"polar\": {\"angularaxis\": {\"gridcolor\": \"white\", \"linecolor\": \"white\", \"ticks\": \"\"}, \"bgcolor\": \"#E5ECF6\", \"radialaxis\": {\"gridcolor\": \"white\", \"linecolor\": \"white\", \"ticks\": \"\"}}, \"scene\": {\"xaxis\": {\"backgroundcolor\": \"#E5ECF6\", \"gridcolor\": \"white\", \"gridwidth\": 2, \"linecolor\": \"white\", \"showbackground\": true, \"ticks\": \"\", \"zerolinecolor\": \"white\"}, \"yaxis\": {\"backgroundcolor\": \"#E5ECF6\", \"gridcolor\": \"white\", \"gridwidth\": 2, \"linecolor\": \"white\", \"showbackground\": true, \"ticks\": \"\", \"zerolinecolor\": \"white\"}, \"zaxis\": {\"backgroundcolor\": \"#E5ECF6\", \"gridcolor\": \"white\", \"gridwidth\": 2, \"linecolor\": \"white\", \"showbackground\": true, \"ticks\": \"\", \"zerolinecolor\": \"white\"}}, \"shapedefaults\": {\"line\": {\"color\": \"#2a3f5f\"}}, \"ternary\": {\"aaxis\": {\"gridcolor\": \"white\", \"linecolor\": \"white\", \"ticks\": \"\"}, \"baxis\": {\"gridcolor\": \"white\", \"linecolor\": \"white\", \"ticks\": \"\"}, \"bgcolor\": \"#E5ECF6\", \"caxis\": {\"gridcolor\": \"white\", \"linecolor\": \"white\", \"ticks\": \"\"}}, \"title\": {\"x\": 0.05}, \"xaxis\": {\"automargin\": true, \"gridcolor\": \"white\", \"linecolor\": \"white\", \"ticks\": \"\", \"title\": {\"standoff\": 15}, \"zerolinecolor\": \"white\", \"zerolinewidth\": 2}, \"yaxis\": {\"automargin\": true, \"gridcolor\": \"white\", \"linecolor\": \"white\", \"ticks\": \"\", \"title\": {\"standoff\": 15}, \"zerolinecolor\": \"white\", \"zerolinewidth\": 2}}}, \"title\": {\"font\": {\"color\": \"#4D5663\"}}, \"xaxis\": {\"gridcolor\": \"#E1E5ED\", \"showgrid\": true, \"tickfont\": {\"color\": \"#4D5663\"}, \"title\": {\"font\": {\"color\": \"#4D5663\"}, \"text\": \"\"}, \"zerolinecolor\": \"#E1E5ED\"}, \"xaxis2\": {\"anchor\": \"y2\", \"gridcolor\": \"#E1E5ED\", \"showgrid\": true, \"showticklabels\": false, \"tickfont\": {\"color\": \"#4D5663\"}, \"title\": {\"font\": {\"color\": \"#4D5663\"}, \"text\": \"\"}, \"zerolinecolor\": \"#E1E5ED\"}, \"yaxis\": {\"domain\": [0.3, 1], \"gridcolor\": \"#E1E5ED\", \"showgrid\": true, \"tickfont\": {\"color\": \"#4D5663\"}, \"title\": {\"font\": {\"color\": \"#4D5663\"}, \"text\": \"\"}, \"zerolinecolor\": \"#E1E5ED\"}, \"yaxis2\": {\"domain\": [0, 0.25], \"gridcolor\": \"#E1E5ED\", \"showgrid\": true, \"tickfont\": {\"color\": \"#4D5663\"}, \"title\": {\"font\": {\"color\": \"#4D5663\"}, \"text\": \"Spread\"}, \"zerolinecolor\": \"#E1E5ED\"}},\n",
       "                        {\"showLink\": true, \"linkText\": \"Export to plot.ly\", \"plotlyServerURL\": \"https://plot.ly\", \"responsive\": true}\n",
       "                    ).then(function(){\n",
       "                            \n",
       "var gd = document.getElementById('5ba4199b-063f-4894-bbaa-afe0a844015e');\n",
       "var x = new MutationObserver(function (mutations, observer) {{\n",
       "        var display = window.getComputedStyle(gd).display;\n",
       "        if (!display || display === 'none') {{\n",
       "            console.log([gd, 'removed!']);\n",
       "            Plotly.purge(gd);\n",
       "            observer.disconnect();\n",
       "        }}\n",
       "}});\n",
       "\n",
       "// Listen for the removal of the full notebook cells\n",
       "var notebookContainer = gd.closest('#notebook-container');\n",
       "if (notebookContainer) {{\n",
       "    x.observe(notebookContainer, {childList: true});\n",
       "}}\n",
       "\n",
       "// Listen for the clearing of the current output cell\n",
       "var outputEl = gd.closest('.output');\n",
       "if (outputEl) {{\n",
       "    x.observe(outputEl, {childList: true});\n",
       "}}\n",
       "\n",
       "                        })\n",
       "                };\n",
       "                });\n",
       "            </script>\n",
       "        </div>"
      ]
     },
     "metadata": {},
     "output_type": "display_data"
    }
   ],
   "source": [
    "df.iplot(kind='spread')"
   ]
  },
  {
   "cell_type": "code",
   "execution_count": 40,
   "metadata": {},
   "outputs": [
    {
     "data": {
      "application/vnd.plotly.v1+json": {
       "config": {
        "linkText": "Export to plot.ly",
        "plotlyServerURL": "https://plot.ly",
        "showLink": true
       },
       "data": [
        {
         "marker": {
          "color": [
           "rgb(255, 153, 51)",
           "rgb(55, 128, 191)",
           "rgb(50, 171, 96)",
           "rgb(128, 0, 128)",
           "rgb(219, 64, 82)",
           "rgb(0, 128, 128)",
           "rgb(255, 255, 51)",
           "rgb(128, 128, 0)",
           "rgb(251, 128, 114)",
           "rgb(128, 177, 211)"
          ],
          "line": {
           "width": 1.3
          },
          "size": [
           76,
           73,
           75,
           36,
           44,
           68,
           95,
           108,
           56,
           71,
           109,
           91,
           63,
           31,
           76,
           42,
           89,
           92,
           46,
           59,
           79,
           71,
           61,
           83,
           55,
           72,
           98,
           57,
           62,
           74,
           64,
           39,
           58,
           64,
           92,
           86,
           67,
           77,
           95,
           79,
           93,
           69,
           71,
           73,
           52,
           84,
           88,
           95,
           77,
           78,
           97,
           63,
           66,
           35,
           70,
           45,
           46,
           87,
           57,
           67,
           74,
           36,
           59,
           66,
           85,
           98,
           58,
           67,
           81,
           72,
           80,
           74,
           72,
           99,
           92,
           65,
           83,
           50,
           83,
           56,
           63,
           12,
           45,
           56,
           44,
           71,
           87,
           59,
           82,
           42,
           77,
           82,
           64,
           72,
           111,
           50,
           94,
           37,
           72,
           83
          ],
          "symbol": "circle"
         },
         "mode": "markers",
         "text": "",
         "type": "scatter",
         "x": [
          -0.045220991541672514,
          0.6780430845497113,
          1.0057065998631551,
          -0.9728874120987261,
          -0.1429232842760107,
          1.2921833308681698,
          0.16399911560590277,
          0.5864133066083158,
          0.005048291501591372,
          0.18320948521328073,
          -2.49509747225579,
          1.3256859636637544,
          -1.6793176056440045,
          1.2723860638991833,
          1.578103990878968,
          1.6643859249494612,
          -0.7935622243303689,
          1.4753187604179476,
          -0.5171412718010686,
          1.2361846435347696,
          1.704522844836798,
          0.8695553230428329,
          0.04824931042202152,
          -0.5596124096097523,
          -1.1327010356287375,
          -1.406914574214415,
          -0.2760296743683121,
          0.8499750408369918,
          0.2733027589733112,
          -0.9270609774179835,
          -0.11937096459563867,
          -1.6341734716797336,
          -0.41805224566733007,
          0.050751069046720734,
          -0.20458127481769103,
          -2.014914541732928,
          1.1293271143962424,
          -0.535345544707788,
          0.7205565368377175,
          0.4434882575852396,
          2.287900075088307,
          0.8593080673185117,
          -0.8474654655180363,
          0.5740891945961737,
          0.866934071277127,
          1.6599286334175802,
          1.1413585505968555,
          -0.12489284454263366,
          1.0077112317489567,
          -0.8015057558969182,
          0.06322142018660247,
          0.02030583905367841,
          1.310214444831818,
          0.3220132314938279,
          -1.7460855703860538,
          1.4814702223140728,
          -0.8035722883805491,
          -0.8977913265652391,
          0.4834089731976079,
          1.4171127102051564,
          1.4755906750430359,
          2.0461501156802657,
          1.8315708147771137,
          -0.7776544535304498,
          0.9212441621689802,
          -1.070857782437202,
          0.2665485378678139,
          -0.2375412783190445,
          0.12928115685388808,
          -1.5094640119124836,
          0.36096311670622444,
          0.3449732335562818,
          0.9268319900465413,
          -0.8784088858281468,
          0.35568448009216114,
          -0.08607414252524906,
          1.213447359424447,
          1.220582787720631,
          -1.5714006178028541,
          0.3772038547775565,
          0.1836811429063996,
          0.23643055367021165,
          -0.14944956474447565,
          1.2660528101080524,
          -0.5669141209856902,
          -0.061203227869747794,
          -1.0152345093451074,
          -0.06490705351212794,
          -0.0967940059628407,
          0.4630555535765282,
          -1.5499008045555307,
          0.3662054810766103,
          1.3967190454514729,
          -1.2459338585587063,
          -0.4192847012410866,
          -0.9966152679852247,
          -0.8929790395801137,
          -0.375225580512482,
          1.11697358465709,
          0.22825455583325077
         ],
         "y": [
          -0.013295768492124153,
          -0.27074517491106564,
          -0.48041519701937146,
          -0.15747940179591474,
          0.2558515658031597,
          -0.15662119891997725,
          0.3479723140894033,
          -0.15084375498932429,
          0.06228336036949375,
          0.9736025112157594,
          0.5402519563550914,
          0.8682305950906869,
          -0.65170589410664,
          0.678613203133178,
          -0.057432097459745896,
          0.6932633553636146,
          -1.9939719746754565,
          -2.002802721971022,
          0.25746993202325685,
          0.4889548095852013,
          -0.7168527223620486,
          -1.2923706473113479,
          -0.6753735457834736,
          0.9202025865444132,
          1.4670937547148066,
          0.18474639375151114,
          1.5237228427501046,
          0.6555734068239183,
          -1.6536292861970667,
          0.04987606236109394,
          0.7564239173991238,
          -1.215415085919389,
          -0.6904670180577785,
          0.8332193013800037,
          0.062395229603287104,
          3.115989368570276,
          -1.0011794943455687,
          0.29053598685344056,
          -0.029260709986795252,
          -0.37251804313432424,
          0.48538385105860427,
          -0.833960660422719,
          0.12828209855485537,
          -0.36647237774781805,
          -0.2562272216832282,
          0.2689613943245282,
          0.039384657809476246,
          0.9003688284552946,
          -0.03498553399708273,
          0.03852162330557176,
          1.4029672622615341,
          0.4722881623952208,
          -0.655692389374444,
          0.35094145422495787,
          2.025198109041344,
          0.6214822754704921,
          0.6995612430798638,
          0.3730785899429117,
          0.602967469726209,
          0.04571784171804009,
          0.3266369638556332,
          -0.31846827964026114,
          0.15383690822073517,
          -0.338144285317204,
          1.884543871930759,
          0.40335856103092854,
          0.4150036654412097,
          1.487026005753503,
          0.12374285847035515,
          0.8366685261562422,
          0.5795360711488374,
          1.614778779962535,
          -1.5065686107987333,
          1.5592396986044814,
          -0.32329791999507934,
          -0.9318225839805766,
          -1.1578286591490894,
          -0.041709953393487105,
          2.337128989736377,
          -0.5557500637748092,
          -0.801289268411741,
          -0.9626995069095104,
          -0.4290769015529991,
          1.6348652562575745,
          0.7716484917337753,
          -1.505387304121753,
          -0.15247950644685498,
          2.0875013582731077,
          0.8138442069099916,
          -0.5980676063757108,
          -1.0733335543265496,
          -0.5453515556217455,
          0.27422936109205454,
          0.40974088231107303,
          0.5706700018492756,
          -1.9690048686611612,
          0.3942186062027898,
          1.0710514434878289,
          -0.5441656857116004,
          -0.26082261070316265
         ]
        }
       ],
       "layout": {
        "legend": {
         "bgcolor": "#F5F6F9",
         "font": {
          "color": "#4D5663"
         }
        },
        "paper_bgcolor": "#F5F6F9",
        "plot_bgcolor": "#F5F6F9",
        "template": {
         "data": {
          "bar": [
           {
            "error_x": {
             "color": "#2a3f5f"
            },
            "error_y": {
             "color": "#2a3f5f"
            },
            "marker": {
             "line": {
              "color": "#E5ECF6",
              "width": 0.5
             }
            },
            "type": "bar"
           }
          ],
          "barpolar": [
           {
            "marker": {
             "line": {
              "color": "#E5ECF6",
              "width": 0.5
             }
            },
            "type": "barpolar"
           }
          ],
          "carpet": [
           {
            "aaxis": {
             "endlinecolor": "#2a3f5f",
             "gridcolor": "white",
             "linecolor": "white",
             "minorgridcolor": "white",
             "startlinecolor": "#2a3f5f"
            },
            "baxis": {
             "endlinecolor": "#2a3f5f",
             "gridcolor": "white",
             "linecolor": "white",
             "minorgridcolor": "white",
             "startlinecolor": "#2a3f5f"
            },
            "type": "carpet"
           }
          ],
          "choropleth": [
           {
            "colorbar": {
             "outlinewidth": 0,
             "ticks": ""
            },
            "type": "choropleth"
           }
          ],
          "contour": [
           {
            "colorbar": {
             "outlinewidth": 0,
             "ticks": ""
            },
            "colorscale": [
             [
              0,
              "#0d0887"
             ],
             [
              0.1111111111111111,
              "#46039f"
             ],
             [
              0.2222222222222222,
              "#7201a8"
             ],
             [
              0.3333333333333333,
              "#9c179e"
             ],
             [
              0.4444444444444444,
              "#bd3786"
             ],
             [
              0.5555555555555556,
              "#d8576b"
             ],
             [
              0.6666666666666666,
              "#ed7953"
             ],
             [
              0.7777777777777778,
              "#fb9f3a"
             ],
             [
              0.8888888888888888,
              "#fdca26"
             ],
             [
              1,
              "#f0f921"
             ]
            ],
            "type": "contour"
           }
          ],
          "contourcarpet": [
           {
            "colorbar": {
             "outlinewidth": 0,
             "ticks": ""
            },
            "type": "contourcarpet"
           }
          ],
          "heatmap": [
           {
            "colorbar": {
             "outlinewidth": 0,
             "ticks": ""
            },
            "colorscale": [
             [
              0,
              "#0d0887"
             ],
             [
              0.1111111111111111,
              "#46039f"
             ],
             [
              0.2222222222222222,
              "#7201a8"
             ],
             [
              0.3333333333333333,
              "#9c179e"
             ],
             [
              0.4444444444444444,
              "#bd3786"
             ],
             [
              0.5555555555555556,
              "#d8576b"
             ],
             [
              0.6666666666666666,
              "#ed7953"
             ],
             [
              0.7777777777777778,
              "#fb9f3a"
             ],
             [
              0.8888888888888888,
              "#fdca26"
             ],
             [
              1,
              "#f0f921"
             ]
            ],
            "type": "heatmap"
           }
          ],
          "heatmapgl": [
           {
            "colorbar": {
             "outlinewidth": 0,
             "ticks": ""
            },
            "colorscale": [
             [
              0,
              "#0d0887"
             ],
             [
              0.1111111111111111,
              "#46039f"
             ],
             [
              0.2222222222222222,
              "#7201a8"
             ],
             [
              0.3333333333333333,
              "#9c179e"
             ],
             [
              0.4444444444444444,
              "#bd3786"
             ],
             [
              0.5555555555555556,
              "#d8576b"
             ],
             [
              0.6666666666666666,
              "#ed7953"
             ],
             [
              0.7777777777777778,
              "#fb9f3a"
             ],
             [
              0.8888888888888888,
              "#fdca26"
             ],
             [
              1,
              "#f0f921"
             ]
            ],
            "type": "heatmapgl"
           }
          ],
          "histogram": [
           {
            "marker": {
             "colorbar": {
              "outlinewidth": 0,
              "ticks": ""
             }
            },
            "type": "histogram"
           }
          ],
          "histogram2d": [
           {
            "colorbar": {
             "outlinewidth": 0,
             "ticks": ""
            },
            "colorscale": [
             [
              0,
              "#0d0887"
             ],
             [
              0.1111111111111111,
              "#46039f"
             ],
             [
              0.2222222222222222,
              "#7201a8"
             ],
             [
              0.3333333333333333,
              "#9c179e"
             ],
             [
              0.4444444444444444,
              "#bd3786"
             ],
             [
              0.5555555555555556,
              "#d8576b"
             ],
             [
              0.6666666666666666,
              "#ed7953"
             ],
             [
              0.7777777777777778,
              "#fb9f3a"
             ],
             [
              0.8888888888888888,
              "#fdca26"
             ],
             [
              1,
              "#f0f921"
             ]
            ],
            "type": "histogram2d"
           }
          ],
          "histogram2dcontour": [
           {
            "colorbar": {
             "outlinewidth": 0,
             "ticks": ""
            },
            "colorscale": [
             [
              0,
              "#0d0887"
             ],
             [
              0.1111111111111111,
              "#46039f"
             ],
             [
              0.2222222222222222,
              "#7201a8"
             ],
             [
              0.3333333333333333,
              "#9c179e"
             ],
             [
              0.4444444444444444,
              "#bd3786"
             ],
             [
              0.5555555555555556,
              "#d8576b"
             ],
             [
              0.6666666666666666,
              "#ed7953"
             ],
             [
              0.7777777777777778,
              "#fb9f3a"
             ],
             [
              0.8888888888888888,
              "#fdca26"
             ],
             [
              1,
              "#f0f921"
             ]
            ],
            "type": "histogram2dcontour"
           }
          ],
          "mesh3d": [
           {
            "colorbar": {
             "outlinewidth": 0,
             "ticks": ""
            },
            "type": "mesh3d"
           }
          ],
          "parcoords": [
           {
            "line": {
             "colorbar": {
              "outlinewidth": 0,
              "ticks": ""
             }
            },
            "type": "parcoords"
           }
          ],
          "pie": [
           {
            "automargin": true,
            "type": "pie"
           }
          ],
          "scatter": [
           {
            "marker": {
             "colorbar": {
              "outlinewidth": 0,
              "ticks": ""
             }
            },
            "type": "scatter"
           }
          ],
          "scatter3d": [
           {
            "line": {
             "colorbar": {
              "outlinewidth": 0,
              "ticks": ""
             }
            },
            "marker": {
             "colorbar": {
              "outlinewidth": 0,
              "ticks": ""
             }
            },
            "type": "scatter3d"
           }
          ],
          "scattercarpet": [
           {
            "marker": {
             "colorbar": {
              "outlinewidth": 0,
              "ticks": ""
             }
            },
            "type": "scattercarpet"
           }
          ],
          "scattergeo": [
           {
            "marker": {
             "colorbar": {
              "outlinewidth": 0,
              "ticks": ""
             }
            },
            "type": "scattergeo"
           }
          ],
          "scattergl": [
           {
            "marker": {
             "colorbar": {
              "outlinewidth": 0,
              "ticks": ""
             }
            },
            "type": "scattergl"
           }
          ],
          "scattermapbox": [
           {
            "marker": {
             "colorbar": {
              "outlinewidth": 0,
              "ticks": ""
             }
            },
            "type": "scattermapbox"
           }
          ],
          "scatterpolar": [
           {
            "marker": {
             "colorbar": {
              "outlinewidth": 0,
              "ticks": ""
             }
            },
            "type": "scatterpolar"
           }
          ],
          "scatterpolargl": [
           {
            "marker": {
             "colorbar": {
              "outlinewidth": 0,
              "ticks": ""
             }
            },
            "type": "scatterpolargl"
           }
          ],
          "scatterternary": [
           {
            "marker": {
             "colorbar": {
              "outlinewidth": 0,
              "ticks": ""
             }
            },
            "type": "scatterternary"
           }
          ],
          "surface": [
           {
            "colorbar": {
             "outlinewidth": 0,
             "ticks": ""
            },
            "colorscale": [
             [
              0,
              "#0d0887"
             ],
             [
              0.1111111111111111,
              "#46039f"
             ],
             [
              0.2222222222222222,
              "#7201a8"
             ],
             [
              0.3333333333333333,
              "#9c179e"
             ],
             [
              0.4444444444444444,
              "#bd3786"
             ],
             [
              0.5555555555555556,
              "#d8576b"
             ],
             [
              0.6666666666666666,
              "#ed7953"
             ],
             [
              0.7777777777777778,
              "#fb9f3a"
             ],
             [
              0.8888888888888888,
              "#fdca26"
             ],
             [
              1,
              "#f0f921"
             ]
            ],
            "type": "surface"
           }
          ],
          "table": [
           {
            "cells": {
             "fill": {
              "color": "#EBF0F8"
             },
             "line": {
              "color": "white"
             }
            },
            "header": {
             "fill": {
              "color": "#C8D4E3"
             },
             "line": {
              "color": "white"
             }
            },
            "type": "table"
           }
          ]
         },
         "layout": {
          "annotationdefaults": {
           "arrowcolor": "#2a3f5f",
           "arrowhead": 0,
           "arrowwidth": 1
          },
          "coloraxis": {
           "colorbar": {
            "outlinewidth": 0,
            "ticks": ""
           }
          },
          "colorscale": {
           "diverging": [
            [
             0,
             "#8e0152"
            ],
            [
             0.1,
             "#c51b7d"
            ],
            [
             0.2,
             "#de77ae"
            ],
            [
             0.3,
             "#f1b6da"
            ],
            [
             0.4,
             "#fde0ef"
            ],
            [
             0.5,
             "#f7f7f7"
            ],
            [
             0.6,
             "#e6f5d0"
            ],
            [
             0.7,
             "#b8e186"
            ],
            [
             0.8,
             "#7fbc41"
            ],
            [
             0.9,
             "#4d9221"
            ],
            [
             1,
             "#276419"
            ]
           ],
           "sequential": [
            [
             0,
             "#0d0887"
            ],
            [
             0.1111111111111111,
             "#46039f"
            ],
            [
             0.2222222222222222,
             "#7201a8"
            ],
            [
             0.3333333333333333,
             "#9c179e"
            ],
            [
             0.4444444444444444,
             "#bd3786"
            ],
            [
             0.5555555555555556,
             "#d8576b"
            ],
            [
             0.6666666666666666,
             "#ed7953"
            ],
            [
             0.7777777777777778,
             "#fb9f3a"
            ],
            [
             0.8888888888888888,
             "#fdca26"
            ],
            [
             1,
             "#f0f921"
            ]
           ],
           "sequentialminus": [
            [
             0,
             "#0d0887"
            ],
            [
             0.1111111111111111,
             "#46039f"
            ],
            [
             0.2222222222222222,
             "#7201a8"
            ],
            [
             0.3333333333333333,
             "#9c179e"
            ],
            [
             0.4444444444444444,
             "#bd3786"
            ],
            [
             0.5555555555555556,
             "#d8576b"
            ],
            [
             0.6666666666666666,
             "#ed7953"
            ],
            [
             0.7777777777777778,
             "#fb9f3a"
            ],
            [
             0.8888888888888888,
             "#fdca26"
            ],
            [
             1,
             "#f0f921"
            ]
           ]
          },
          "colorway": [
           "#636efa",
           "#EF553B",
           "#00cc96",
           "#ab63fa",
           "#FFA15A",
           "#19d3f3",
           "#FF6692",
           "#B6E880",
           "#FF97FF",
           "#FECB52"
          ],
          "font": {
           "color": "#2a3f5f"
          },
          "geo": {
           "bgcolor": "white",
           "lakecolor": "white",
           "landcolor": "#E5ECF6",
           "showlakes": true,
           "showland": true,
           "subunitcolor": "white"
          },
          "hoverlabel": {
           "align": "left"
          },
          "hovermode": "closest",
          "mapbox": {
           "style": "light"
          },
          "paper_bgcolor": "white",
          "plot_bgcolor": "#E5ECF6",
          "polar": {
           "angularaxis": {
            "gridcolor": "white",
            "linecolor": "white",
            "ticks": ""
           },
           "bgcolor": "#E5ECF6",
           "radialaxis": {
            "gridcolor": "white",
            "linecolor": "white",
            "ticks": ""
           }
          },
          "scene": {
           "xaxis": {
            "backgroundcolor": "#E5ECF6",
            "gridcolor": "white",
            "gridwidth": 2,
            "linecolor": "white",
            "showbackground": true,
            "ticks": "",
            "zerolinecolor": "white"
           },
           "yaxis": {
            "backgroundcolor": "#E5ECF6",
            "gridcolor": "white",
            "gridwidth": 2,
            "linecolor": "white",
            "showbackground": true,
            "ticks": "",
            "zerolinecolor": "white"
           },
           "zaxis": {
            "backgroundcolor": "#E5ECF6",
            "gridcolor": "white",
            "gridwidth": 2,
            "linecolor": "white",
            "showbackground": true,
            "ticks": "",
            "zerolinecolor": "white"
           }
          },
          "shapedefaults": {
           "line": {
            "color": "#2a3f5f"
           }
          },
          "ternary": {
           "aaxis": {
            "gridcolor": "white",
            "linecolor": "white",
            "ticks": ""
           },
           "baxis": {
            "gridcolor": "white",
            "linecolor": "white",
            "ticks": ""
           },
           "bgcolor": "#E5ECF6",
           "caxis": {
            "gridcolor": "white",
            "linecolor": "white",
            "ticks": ""
           }
          },
          "title": {
           "x": 0.05
          },
          "xaxis": {
           "automargin": true,
           "gridcolor": "white",
           "linecolor": "white",
           "ticks": "",
           "title": {
            "standoff": 15
           },
           "zerolinecolor": "white",
           "zerolinewidth": 2
          },
          "yaxis": {
           "automargin": true,
           "gridcolor": "white",
           "linecolor": "white",
           "ticks": "",
           "title": {
            "standoff": 15
           },
           "zerolinecolor": "white",
           "zerolinewidth": 2
          }
         }
        },
        "title": {
         "font": {
          "color": "#4D5663"
         }
        },
        "xaxis": {
         "gridcolor": "#E1E5ED",
         "showgrid": true,
         "tickfont": {
          "color": "#4D5663"
         },
         "title": {
          "font": {
           "color": "#4D5663"
          },
          "text": ""
         },
         "zerolinecolor": "#E1E5ED"
        },
        "yaxis": {
         "gridcolor": "#E1E5ED",
         "showgrid": true,
         "tickfont": {
          "color": "#4D5663"
         },
         "title": {
          "font": {
           "color": "#4D5663"
          },
          "text": ""
         },
         "zerolinecolor": "#E1E5ED"
        }
       }
      },
      "text/html": [
       "<div>\n",
       "        \n",
       "        \n",
       "            <div id=\"d68769a2-49ef-4dc7-ae1d-8d7603fb712b\" class=\"plotly-graph-div\" style=\"height:525px; width:100%;\"></div>\n",
       "            <script type=\"text/javascript\">\n",
       "                require([\"plotly\"], function(Plotly) {\n",
       "                    window.PLOTLYENV=window.PLOTLYENV || {};\n",
       "                    window.PLOTLYENV.BASE_URL='https://plot.ly';\n",
       "                    \n",
       "                if (document.getElementById(\"d68769a2-49ef-4dc7-ae1d-8d7603fb712b\")) {\n",
       "                    Plotly.newPlot(\n",
       "                        'd68769a2-49ef-4dc7-ae1d-8d7603fb712b',\n",
       "                        [{\"marker\": {\"color\": [\"rgb(255, 153, 51)\", \"rgb(55, 128, 191)\", \"rgb(50, 171, 96)\", \"rgb(128, 0, 128)\", \"rgb(219, 64, 82)\", \"rgb(0, 128, 128)\", \"rgb(255, 255, 51)\", \"rgb(128, 128, 0)\", \"rgb(251, 128, 114)\", \"rgb(128, 177, 211)\"], \"line\": {\"width\": 1.3}, \"size\": [76, 73, 75, 36, 44, 68, 95, 108, 56, 71, 109, 91, 63, 31, 76, 42, 89, 92, 46, 59, 79, 71, 61, 83, 55, 72, 98, 57, 62, 74, 64, 39, 58, 64, 92, 86, 67, 77, 95, 79, 93, 69, 71, 73, 52, 84, 88, 95, 77, 78, 97, 63, 66, 35, 70, 45, 46, 87, 57, 67, 74, 36, 59, 66, 85, 98, 58, 67, 81, 72, 80, 74, 72, 99, 92, 65, 83, 50, 83, 56, 63, 12, 45, 56, 44, 71, 87, 59, 82, 42, 77, 82, 64, 72, 111, 50, 94, 37, 72, 83], \"symbol\": \"circle\"}, \"mode\": \"markers\", \"text\": \"\", \"type\": \"scatter\", \"x\": [-0.045220991541672514, 0.6780430845497113, 1.0057065998631551, -0.9728874120987261, -0.1429232842760107, 1.2921833308681698, 0.16399911560590277, 0.5864133066083158, 0.005048291501591372, 0.18320948521328073, -2.49509747225579, 1.3256859636637544, -1.6793176056440045, 1.2723860638991833, 1.578103990878968, 1.6643859249494612, -0.7935622243303689, 1.4753187604179476, -0.5171412718010686, 1.2361846435347696, 1.704522844836798, 0.8695553230428329, 0.04824931042202152, -0.5596124096097523, -1.1327010356287375, -1.406914574214415, -0.2760296743683121, 0.8499750408369918, 0.2733027589733112, -0.9270609774179835, -0.11937096459563867, -1.6341734716797336, -0.41805224566733007, 0.050751069046720734, -0.20458127481769103, -2.014914541732928, 1.1293271143962424, -0.535345544707788, 0.7205565368377175, 0.4434882575852396, 2.287900075088307, 0.8593080673185117, -0.8474654655180363, 0.5740891945961737, 0.866934071277127, 1.6599286334175802, 1.1413585505968555, -0.12489284454263366, 1.0077112317489567, -0.8015057558969182, 0.06322142018660247, 0.02030583905367841, 1.310214444831818, 0.3220132314938279, -1.7460855703860538, 1.4814702223140728, -0.8035722883805491, -0.8977913265652391, 0.4834089731976079, 1.4171127102051564, 1.4755906750430359, 2.0461501156802657, 1.8315708147771137, -0.7776544535304498, 0.9212441621689802, -1.070857782437202, 0.2665485378678139, -0.2375412783190445, 0.12928115685388808, -1.5094640119124836, 0.36096311670622444, 0.3449732335562818, 0.9268319900465413, -0.8784088858281468, 0.35568448009216114, -0.08607414252524906, 1.213447359424447, 1.220582787720631, -1.5714006178028541, 0.3772038547775565, 0.1836811429063996, 0.23643055367021165, -0.14944956474447565, 1.2660528101080524, -0.5669141209856902, -0.061203227869747794, -1.0152345093451074, -0.06490705351212794, -0.0967940059628407, 0.4630555535765282, -1.5499008045555307, 0.3662054810766103, 1.3967190454514729, -1.2459338585587063, -0.4192847012410866, -0.9966152679852247, -0.8929790395801137, -0.375225580512482, 1.11697358465709, 0.22825455583325077], \"y\": [-0.013295768492124153, -0.27074517491106564, -0.48041519701937146, -0.15747940179591474, 0.2558515658031597, -0.15662119891997725, 0.3479723140894033, -0.15084375498932429, 0.06228336036949375, 0.9736025112157594, 0.5402519563550914, 0.8682305950906869, -0.65170589410664, 0.678613203133178, -0.057432097459745896, 0.6932633553636146, -1.9939719746754565, -2.002802721971022, 0.25746993202325685, 0.4889548095852013, -0.7168527223620486, -1.2923706473113479, -0.6753735457834736, 0.9202025865444132, 1.4670937547148066, 0.18474639375151114, 1.5237228427501046, 0.6555734068239183, -1.6536292861970667, 0.04987606236109394, 0.7564239173991238, -1.215415085919389, -0.6904670180577785, 0.8332193013800037, 0.062395229603287104, 3.115989368570276, -1.0011794943455687, 0.29053598685344056, -0.029260709986795252, -0.37251804313432424, 0.48538385105860427, -0.833960660422719, 0.12828209855485537, -0.36647237774781805, -0.2562272216832282, 0.2689613943245282, 0.039384657809476246, 0.9003688284552946, -0.03498553399708273, 0.03852162330557176, 1.4029672622615341, 0.4722881623952208, -0.655692389374444, 0.35094145422495787, 2.025198109041344, 0.6214822754704921, 0.6995612430798638, 0.3730785899429117, 0.602967469726209, 0.04571784171804009, 0.3266369638556332, -0.31846827964026114, 0.15383690822073517, -0.338144285317204, 1.884543871930759, 0.40335856103092854, 0.4150036654412097, 1.487026005753503, 0.12374285847035515, 0.8366685261562422, 0.5795360711488374, 1.614778779962535, -1.5065686107987333, 1.5592396986044814, -0.32329791999507934, -0.9318225839805766, -1.1578286591490894, -0.041709953393487105, 2.337128989736377, -0.5557500637748092, -0.801289268411741, -0.9626995069095104, -0.4290769015529991, 1.6348652562575745, 0.7716484917337753, -1.505387304121753, -0.15247950644685498, 2.0875013582731077, 0.8138442069099916, -0.5980676063757108, -1.0733335543265496, -0.5453515556217455, 0.27422936109205454, 0.40974088231107303, 0.5706700018492756, -1.9690048686611612, 0.3942186062027898, 1.0710514434878289, -0.5441656857116004, -0.26082261070316265]}],\n",
       "                        {\"legend\": {\"bgcolor\": \"#F5F6F9\", \"font\": {\"color\": \"#4D5663\"}}, \"paper_bgcolor\": \"#F5F6F9\", \"plot_bgcolor\": \"#F5F6F9\", \"template\": {\"data\": {\"bar\": [{\"error_x\": {\"color\": \"#2a3f5f\"}, \"error_y\": {\"color\": \"#2a3f5f\"}, \"marker\": {\"line\": {\"color\": \"#E5ECF6\", \"width\": 0.5}}, \"type\": \"bar\"}], \"barpolar\": [{\"marker\": {\"line\": {\"color\": \"#E5ECF6\", \"width\": 0.5}}, \"type\": \"barpolar\"}], \"carpet\": [{\"aaxis\": {\"endlinecolor\": \"#2a3f5f\", \"gridcolor\": \"white\", \"linecolor\": \"white\", \"minorgridcolor\": \"white\", \"startlinecolor\": \"#2a3f5f\"}, \"baxis\": {\"endlinecolor\": \"#2a3f5f\", \"gridcolor\": \"white\", \"linecolor\": \"white\", \"minorgridcolor\": \"white\", \"startlinecolor\": \"#2a3f5f\"}, \"type\": \"carpet\"}], \"choropleth\": [{\"colorbar\": {\"outlinewidth\": 0, \"ticks\": \"\"}, \"type\": \"choropleth\"}], \"contour\": [{\"colorbar\": {\"outlinewidth\": 0, \"ticks\": \"\"}, \"colorscale\": [[0.0, \"#0d0887\"], [0.1111111111111111, \"#46039f\"], [0.2222222222222222, \"#7201a8\"], [0.3333333333333333, \"#9c179e\"], [0.4444444444444444, \"#bd3786\"], [0.5555555555555556, \"#d8576b\"], [0.6666666666666666, \"#ed7953\"], [0.7777777777777778, \"#fb9f3a\"], [0.8888888888888888, \"#fdca26\"], [1.0, \"#f0f921\"]], \"type\": \"contour\"}], \"contourcarpet\": [{\"colorbar\": {\"outlinewidth\": 0, \"ticks\": \"\"}, \"type\": \"contourcarpet\"}], \"heatmap\": [{\"colorbar\": {\"outlinewidth\": 0, \"ticks\": \"\"}, \"colorscale\": [[0.0, \"#0d0887\"], [0.1111111111111111, \"#46039f\"], [0.2222222222222222, \"#7201a8\"], [0.3333333333333333, \"#9c179e\"], [0.4444444444444444, \"#bd3786\"], [0.5555555555555556, \"#d8576b\"], [0.6666666666666666, \"#ed7953\"], [0.7777777777777778, \"#fb9f3a\"], [0.8888888888888888, \"#fdca26\"], [1.0, \"#f0f921\"]], \"type\": \"heatmap\"}], \"heatmapgl\": [{\"colorbar\": {\"outlinewidth\": 0, \"ticks\": \"\"}, \"colorscale\": [[0.0, \"#0d0887\"], [0.1111111111111111, \"#46039f\"], [0.2222222222222222, \"#7201a8\"], [0.3333333333333333, \"#9c179e\"], [0.4444444444444444, \"#bd3786\"], [0.5555555555555556, \"#d8576b\"], [0.6666666666666666, \"#ed7953\"], [0.7777777777777778, \"#fb9f3a\"], [0.8888888888888888, \"#fdca26\"], [1.0, \"#f0f921\"]], \"type\": \"heatmapgl\"}], \"histogram\": [{\"marker\": {\"colorbar\": {\"outlinewidth\": 0, \"ticks\": \"\"}}, \"type\": \"histogram\"}], \"histogram2d\": [{\"colorbar\": {\"outlinewidth\": 0, \"ticks\": \"\"}, \"colorscale\": [[0.0, \"#0d0887\"], [0.1111111111111111, \"#46039f\"], [0.2222222222222222, \"#7201a8\"], [0.3333333333333333, \"#9c179e\"], [0.4444444444444444, \"#bd3786\"], [0.5555555555555556, \"#d8576b\"], [0.6666666666666666, \"#ed7953\"], [0.7777777777777778, \"#fb9f3a\"], [0.8888888888888888, \"#fdca26\"], [1.0, \"#f0f921\"]], \"type\": \"histogram2d\"}], \"histogram2dcontour\": [{\"colorbar\": {\"outlinewidth\": 0, \"ticks\": \"\"}, \"colorscale\": [[0.0, \"#0d0887\"], [0.1111111111111111, \"#46039f\"], [0.2222222222222222, \"#7201a8\"], [0.3333333333333333, \"#9c179e\"], [0.4444444444444444, \"#bd3786\"], [0.5555555555555556, \"#d8576b\"], [0.6666666666666666, \"#ed7953\"], [0.7777777777777778, \"#fb9f3a\"], [0.8888888888888888, \"#fdca26\"], [1.0, \"#f0f921\"]], \"type\": \"histogram2dcontour\"}], \"mesh3d\": [{\"colorbar\": {\"outlinewidth\": 0, \"ticks\": \"\"}, \"type\": \"mesh3d\"}], \"parcoords\": [{\"line\": {\"colorbar\": {\"outlinewidth\": 0, \"ticks\": \"\"}}, \"type\": \"parcoords\"}], \"pie\": [{\"automargin\": true, \"type\": \"pie\"}], \"scatter\": [{\"marker\": {\"colorbar\": {\"outlinewidth\": 0, \"ticks\": \"\"}}, \"type\": \"scatter\"}], \"scatter3d\": [{\"line\": {\"colorbar\": {\"outlinewidth\": 0, \"ticks\": \"\"}}, \"marker\": {\"colorbar\": {\"outlinewidth\": 0, \"ticks\": \"\"}}, \"type\": \"scatter3d\"}], \"scattercarpet\": [{\"marker\": {\"colorbar\": {\"outlinewidth\": 0, \"ticks\": \"\"}}, \"type\": \"scattercarpet\"}], \"scattergeo\": [{\"marker\": {\"colorbar\": {\"outlinewidth\": 0, \"ticks\": \"\"}}, \"type\": \"scattergeo\"}], \"scattergl\": [{\"marker\": {\"colorbar\": {\"outlinewidth\": 0, \"ticks\": \"\"}}, \"type\": \"scattergl\"}], \"scattermapbox\": [{\"marker\": {\"colorbar\": {\"outlinewidth\": 0, \"ticks\": \"\"}}, \"type\": \"scattermapbox\"}], \"scatterpolar\": [{\"marker\": {\"colorbar\": {\"outlinewidth\": 0, \"ticks\": \"\"}}, \"type\": \"scatterpolar\"}], \"scatterpolargl\": [{\"marker\": {\"colorbar\": {\"outlinewidth\": 0, \"ticks\": \"\"}}, \"type\": \"scatterpolargl\"}], \"scatterternary\": [{\"marker\": {\"colorbar\": {\"outlinewidth\": 0, \"ticks\": \"\"}}, \"type\": \"scatterternary\"}], \"surface\": [{\"colorbar\": {\"outlinewidth\": 0, \"ticks\": \"\"}, \"colorscale\": [[0.0, \"#0d0887\"], [0.1111111111111111, \"#46039f\"], [0.2222222222222222, \"#7201a8\"], [0.3333333333333333, \"#9c179e\"], [0.4444444444444444, \"#bd3786\"], [0.5555555555555556, \"#d8576b\"], [0.6666666666666666, \"#ed7953\"], [0.7777777777777778, \"#fb9f3a\"], [0.8888888888888888, \"#fdca26\"], [1.0, \"#f0f921\"]], \"type\": \"surface\"}], \"table\": [{\"cells\": {\"fill\": {\"color\": \"#EBF0F8\"}, \"line\": {\"color\": \"white\"}}, \"header\": {\"fill\": {\"color\": \"#C8D4E3\"}, \"line\": {\"color\": \"white\"}}, \"type\": \"table\"}]}, \"layout\": {\"annotationdefaults\": {\"arrowcolor\": \"#2a3f5f\", \"arrowhead\": 0, \"arrowwidth\": 1}, \"coloraxis\": {\"colorbar\": {\"outlinewidth\": 0, \"ticks\": \"\"}}, \"colorscale\": {\"diverging\": [[0, \"#8e0152\"], [0.1, \"#c51b7d\"], [0.2, \"#de77ae\"], [0.3, \"#f1b6da\"], [0.4, \"#fde0ef\"], [0.5, \"#f7f7f7\"], [0.6, \"#e6f5d0\"], [0.7, \"#b8e186\"], [0.8, \"#7fbc41\"], [0.9, \"#4d9221\"], [1, \"#276419\"]], \"sequential\": [[0.0, \"#0d0887\"], [0.1111111111111111, \"#46039f\"], [0.2222222222222222, \"#7201a8\"], [0.3333333333333333, \"#9c179e\"], [0.4444444444444444, \"#bd3786\"], [0.5555555555555556, \"#d8576b\"], [0.6666666666666666, \"#ed7953\"], [0.7777777777777778, \"#fb9f3a\"], [0.8888888888888888, \"#fdca26\"], [1.0, \"#f0f921\"]], \"sequentialminus\": [[0.0, \"#0d0887\"], [0.1111111111111111, \"#46039f\"], [0.2222222222222222, \"#7201a8\"], [0.3333333333333333, \"#9c179e\"], [0.4444444444444444, \"#bd3786\"], [0.5555555555555556, \"#d8576b\"], [0.6666666666666666, \"#ed7953\"], [0.7777777777777778, \"#fb9f3a\"], [0.8888888888888888, \"#fdca26\"], [1.0, \"#f0f921\"]]}, \"colorway\": [\"#636efa\", \"#EF553B\", \"#00cc96\", \"#ab63fa\", \"#FFA15A\", \"#19d3f3\", \"#FF6692\", \"#B6E880\", \"#FF97FF\", \"#FECB52\"], \"font\": {\"color\": \"#2a3f5f\"}, \"geo\": {\"bgcolor\": \"white\", \"lakecolor\": \"white\", \"landcolor\": \"#E5ECF6\", \"showlakes\": true, \"showland\": true, \"subunitcolor\": \"white\"}, \"hoverlabel\": {\"align\": \"left\"}, \"hovermode\": \"closest\", \"mapbox\": {\"style\": \"light\"}, \"paper_bgcolor\": \"white\", \"plot_bgcolor\": \"#E5ECF6\", \"polar\": {\"angularaxis\": {\"gridcolor\": \"white\", \"linecolor\": \"white\", \"ticks\": \"\"}, \"bgcolor\": \"#E5ECF6\", \"radialaxis\": {\"gridcolor\": \"white\", \"linecolor\": \"white\", \"ticks\": \"\"}}, \"scene\": {\"xaxis\": {\"backgroundcolor\": \"#E5ECF6\", \"gridcolor\": \"white\", \"gridwidth\": 2, \"linecolor\": \"white\", \"showbackground\": true, \"ticks\": \"\", \"zerolinecolor\": \"white\"}, \"yaxis\": {\"backgroundcolor\": \"#E5ECF6\", \"gridcolor\": \"white\", \"gridwidth\": 2, \"linecolor\": \"white\", \"showbackground\": true, \"ticks\": \"\", \"zerolinecolor\": \"white\"}, \"zaxis\": {\"backgroundcolor\": \"#E5ECF6\", \"gridcolor\": \"white\", \"gridwidth\": 2, \"linecolor\": \"white\", \"showbackground\": true, \"ticks\": \"\", \"zerolinecolor\": \"white\"}}, \"shapedefaults\": {\"line\": {\"color\": \"#2a3f5f\"}}, \"ternary\": {\"aaxis\": {\"gridcolor\": \"white\", \"linecolor\": \"white\", \"ticks\": \"\"}, \"baxis\": {\"gridcolor\": \"white\", \"linecolor\": \"white\", \"ticks\": \"\"}, \"bgcolor\": \"#E5ECF6\", \"caxis\": {\"gridcolor\": \"white\", \"linecolor\": \"white\", \"ticks\": \"\"}}, \"title\": {\"x\": 0.05}, \"xaxis\": {\"automargin\": true, \"gridcolor\": \"white\", \"linecolor\": \"white\", \"ticks\": \"\", \"title\": {\"standoff\": 15}, \"zerolinecolor\": \"white\", \"zerolinewidth\": 2}, \"yaxis\": {\"automargin\": true, \"gridcolor\": \"white\", \"linecolor\": \"white\", \"ticks\": \"\", \"title\": {\"standoff\": 15}, \"zerolinecolor\": \"white\", \"zerolinewidth\": 2}}}, \"title\": {\"font\": {\"color\": \"#4D5663\"}}, \"xaxis\": {\"gridcolor\": \"#E1E5ED\", \"showgrid\": true, \"tickfont\": {\"color\": \"#4D5663\"}, \"title\": {\"font\": {\"color\": \"#4D5663\"}, \"text\": \"\"}, \"zerolinecolor\": \"#E1E5ED\"}, \"yaxis\": {\"gridcolor\": \"#E1E5ED\", \"showgrid\": true, \"tickfont\": {\"color\": \"#4D5663\"}, \"title\": {\"font\": {\"color\": \"#4D5663\"}, \"text\": \"\"}, \"zerolinecolor\": \"#E1E5ED\"}},\n",
       "                        {\"showLink\": true, \"linkText\": \"Export to plot.ly\", \"plotlyServerURL\": \"https://plot.ly\", \"responsive\": true}\n",
       "                    ).then(function(){\n",
       "                            \n",
       "var gd = document.getElementById('d68769a2-49ef-4dc7-ae1d-8d7603fb712b');\n",
       "var x = new MutationObserver(function (mutations, observer) {{\n",
       "        var display = window.getComputedStyle(gd).display;\n",
       "        if (!display || display === 'none') {{\n",
       "            console.log([gd, 'removed!']);\n",
       "            Plotly.purge(gd);\n",
       "            observer.disconnect();\n",
       "        }}\n",
       "}});\n",
       "\n",
       "// Listen for the removal of the full notebook cells\n",
       "var notebookContainer = gd.closest('#notebook-container');\n",
       "if (notebookContainer) {{\n",
       "    x.observe(notebookContainer, {childList: true});\n",
       "}}\n",
       "\n",
       "// Listen for the clearing of the current output cell\n",
       "var outputEl = gd.closest('.output');\n",
       "if (outputEl) {{\n",
       "    x.observe(outputEl, {childList: true});\n",
       "}}\n",
       "\n",
       "                        })\n",
       "                };\n",
       "                });\n",
       "            </script>\n",
       "        </div>"
      ]
     },
     "metadata": {},
     "output_type": "display_data"
    }
   ],
   "source": [
    "df.iplot(kind='bubble',x='A',y='B',size='C')"
   ]
  },
  {
   "cell_type": "code",
   "execution_count": 41,
   "metadata": {},
   "outputs": [
    {
     "data": {
      "application/vnd.plotly.v1+json": {
       "config": {
        "linkText": "Export to plot.ly",
        "plotlyServerURL": "https://plot.ly",
        "showLink": true
       },
       "data": [
        {
         "histfunc": "count",
         "histnorm": "",
         "marker": {
          "color": "rgba(255, 153, 51, 1.0)",
          "line": {
           "color": "#4D5663",
           "width": 1.3
          }
         },
         "name": "A",
         "nbinsx": 10,
         "opacity": 0.8,
         "orientation": "v",
         "type": "histogram",
         "x": [
          -0.045220991541672514,
          0.6780430845497113,
          1.0057065998631551,
          -0.9728874120987261,
          -0.1429232842760107,
          1.2921833308681698,
          0.16399911560590277,
          0.5864133066083158,
          0.005048291501591372,
          0.18320948521328073,
          -2.49509747225579,
          1.3256859636637544,
          -1.6793176056440045,
          1.2723860638991833,
          1.578103990878968,
          1.6643859249494612,
          -0.7935622243303689,
          1.4753187604179476,
          -0.5171412718010686,
          1.2361846435347696,
          1.704522844836798,
          0.8695553230428329,
          0.04824931042202152,
          -0.5596124096097523,
          -1.1327010356287375,
          -1.406914574214415,
          -0.2760296743683121,
          0.8499750408369918,
          0.2733027589733112,
          -0.9270609774179835,
          -0.11937096459563867,
          -1.6341734716797336,
          -0.41805224566733007,
          0.050751069046720734,
          -0.20458127481769103,
          -2.014914541732928,
          1.1293271143962424,
          -0.535345544707788,
          0.7205565368377175,
          0.4434882575852396,
          2.287900075088307,
          0.8593080673185117,
          -0.8474654655180363,
          0.5740891945961737,
          0.866934071277127,
          1.6599286334175802,
          1.1413585505968555,
          -0.12489284454263366,
          1.0077112317489567,
          -0.8015057558969182,
          0.06322142018660247,
          0.02030583905367841,
          1.310214444831818,
          0.3220132314938279,
          -1.7460855703860538,
          1.4814702223140728,
          -0.8035722883805491,
          -0.8977913265652391,
          0.4834089731976079,
          1.4171127102051564,
          1.4755906750430359,
          2.0461501156802657,
          1.8315708147771137,
          -0.7776544535304498,
          0.9212441621689802,
          -1.070857782437202,
          0.2665485378678139,
          -0.2375412783190445,
          0.12928115685388808,
          -1.5094640119124836,
          0.36096311670622444,
          0.3449732335562818,
          0.9268319900465413,
          -0.8784088858281468,
          0.35568448009216114,
          -0.08607414252524906,
          1.213447359424447,
          1.220582787720631,
          -1.5714006178028541,
          0.3772038547775565,
          0.1836811429063996,
          0.23643055367021165,
          -0.14944956474447565,
          1.2660528101080524,
          -0.5669141209856902,
          -0.061203227869747794,
          -1.0152345093451074,
          -0.06490705351212794,
          -0.0967940059628407,
          0.4630555535765282,
          -1.5499008045555307,
          0.3662054810766103,
          1.3967190454514729,
          -1.2459338585587063,
          -0.4192847012410866,
          -0.9966152679852247,
          -0.8929790395801137,
          -0.375225580512482,
          1.11697358465709,
          0.22825455583325077
         ],
         "xaxis": "x",
         "yaxis": "y"
        },
        {
         "line": {
          "color": "rgba(128, 128, 128, 1.0)",
          "dash": "solid",
          "shape": "linear",
          "width": 1.3
         },
         "marker": {
          "size": 2,
          "symbol": "circle"
         },
         "mode": "markers",
         "name": "A",
         "text": "",
         "type": "scatter",
         "x": [
          -0.013295768492124153,
          -0.27074517491106564,
          -0.48041519701937146,
          -0.15747940179591474,
          0.2558515658031597,
          -0.15662119891997725,
          0.3479723140894033,
          -0.15084375498932429,
          0.06228336036949375,
          0.9736025112157594,
          0.5402519563550914,
          0.8682305950906869,
          -0.65170589410664,
          0.678613203133178,
          -0.057432097459745896,
          0.6932633553636146,
          -1.9939719746754565,
          -2.002802721971022,
          0.25746993202325685,
          0.4889548095852013,
          -0.7168527223620486,
          -1.2923706473113479,
          -0.6753735457834736,
          0.9202025865444132,
          1.4670937547148066,
          0.18474639375151114,
          1.5237228427501046,
          0.6555734068239183,
          -1.6536292861970667,
          0.04987606236109394,
          0.7564239173991238,
          -1.215415085919389,
          -0.6904670180577785,
          0.8332193013800037,
          0.062395229603287104,
          3.115989368570276,
          -1.0011794943455687,
          0.29053598685344056,
          -0.029260709986795252,
          -0.37251804313432424,
          0.48538385105860427,
          -0.833960660422719,
          0.12828209855485537,
          -0.36647237774781805,
          -0.2562272216832282,
          0.2689613943245282,
          0.039384657809476246,
          0.9003688284552946,
          -0.03498553399708273,
          0.03852162330557176,
          1.4029672622615341,
          0.4722881623952208,
          -0.655692389374444,
          0.35094145422495787,
          2.025198109041344,
          0.6214822754704921,
          0.6995612430798638,
          0.3730785899429117,
          0.602967469726209,
          0.04571784171804009,
          0.3266369638556332,
          -0.31846827964026114,
          0.15383690822073517,
          -0.338144285317204,
          1.884543871930759,
          0.40335856103092854,
          0.4150036654412097,
          1.487026005753503,
          0.12374285847035515,
          0.8366685261562422,
          0.5795360711488374,
          1.614778779962535,
          -1.5065686107987333,
          1.5592396986044814,
          -0.32329791999507934,
          -0.9318225839805766,
          -1.1578286591490894,
          -0.041709953393487105,
          2.337128989736377,
          -0.5557500637748092,
          -0.801289268411741,
          -0.9626995069095104,
          -0.4290769015529991,
          1.6348652562575745,
          0.7716484917337753,
          -1.505387304121753,
          -0.15247950644685498,
          2.0875013582731077,
          0.8138442069099916,
          -0.5980676063757108,
          -1.0733335543265496,
          -0.5453515556217455,
          0.27422936109205454,
          0.40974088231107303,
          0.5706700018492756,
          -1.9690048686611612,
          0.3942186062027898,
          1.0710514434878289,
          -0.5441656857116004,
          -0.26082261070316265
         ],
         "xaxis": "x2",
         "y": [
          -0.045220991541672514,
          0.6780430845497113,
          1.0057065998631551,
          -0.9728874120987261,
          -0.1429232842760107,
          1.2921833308681698,
          0.16399911560590277,
          0.5864133066083158,
          0.005048291501591372,
          0.18320948521328073,
          -2.49509747225579,
          1.3256859636637544,
          -1.6793176056440045,
          1.2723860638991833,
          1.578103990878968,
          1.6643859249494612,
          -0.7935622243303689,
          1.4753187604179476,
          -0.5171412718010686,
          1.2361846435347696,
          1.704522844836798,
          0.8695553230428329,
          0.04824931042202152,
          -0.5596124096097523,
          -1.1327010356287375,
          -1.406914574214415,
          -0.2760296743683121,
          0.8499750408369918,
          0.2733027589733112,
          -0.9270609774179835,
          -0.11937096459563867,
          -1.6341734716797336,
          -0.41805224566733007,
          0.050751069046720734,
          -0.20458127481769103,
          -2.014914541732928,
          1.1293271143962424,
          -0.535345544707788,
          0.7205565368377175,
          0.4434882575852396,
          2.287900075088307,
          0.8593080673185117,
          -0.8474654655180363,
          0.5740891945961737,
          0.866934071277127,
          1.6599286334175802,
          1.1413585505968555,
          -0.12489284454263366,
          1.0077112317489567,
          -0.8015057558969182,
          0.06322142018660247,
          0.02030583905367841,
          1.310214444831818,
          0.3220132314938279,
          -1.7460855703860538,
          1.4814702223140728,
          -0.8035722883805491,
          -0.8977913265652391,
          0.4834089731976079,
          1.4171127102051564,
          1.4755906750430359,
          2.0461501156802657,
          1.8315708147771137,
          -0.7776544535304498,
          0.9212441621689802,
          -1.070857782437202,
          0.2665485378678139,
          -0.2375412783190445,
          0.12928115685388808,
          -1.5094640119124836,
          0.36096311670622444,
          0.3449732335562818,
          0.9268319900465413,
          -0.8784088858281468,
          0.35568448009216114,
          -0.08607414252524906,
          1.213447359424447,
          1.220582787720631,
          -1.5714006178028541,
          0.3772038547775565,
          0.1836811429063996,
          0.23643055367021165,
          -0.14944956474447565,
          1.2660528101080524,
          -0.5669141209856902,
          -0.061203227869747794,
          -1.0152345093451074,
          -0.06490705351212794,
          -0.0967940059628407,
          0.4630555535765282,
          -1.5499008045555307,
          0.3662054810766103,
          1.3967190454514729,
          -1.2459338585587063,
          -0.4192847012410866,
          -0.9966152679852247,
          -0.8929790395801137,
          -0.375225580512482,
          1.11697358465709,
          0.22825455583325077
         ],
         "yaxis": "y2"
        },
        {
         "line": {
          "color": "rgba(128, 128, 128, 1.0)",
          "dash": "solid",
          "shape": "linear",
          "width": 1.3
         },
         "marker": {
          "size": 2,
          "symbol": "circle"
         },
         "mode": "markers",
         "name": "A",
         "text": "",
         "type": "scatter",
         "x": [
          0.13873828079658243,
          0.004189153867128753,
          0.09682297277796335,
          -1.944173718156881,
          -1.509648123220136,
          -0.2562642772096215,
          1.1425384061525947,
          1.8381697029094315,
          -0.89523389287459,
          -0.11167869593903061,
          1.868391686565969,
          0.926008375873174,
          -0.5375160643538771,
          -2.21354100606647,
          0.13758441049616993,
          -1.6127200438386537,
          0.836629941326483,
          0.982639029672047,
          -1.4267965171737238,
          -0.7340729325482471,
          0.33979196381839,
          -0.0975870854132879,
          -0.6148688825087985,
          0.5147673433285442,
          -0.9481706485625584,
          -0.04271544928766234,
          1.3243642261933142,
          -0.8546463501044619,
          -0.599297728305147,
          0.04548785985911168,
          -0.4811079491622432,
          -1.774406825632185,
          -0.7702693340792561,
          -0.4748276882281734,
          0.9768466741741556,
          0.6901701186316009,
          -0.3163663233169675,
          0.21287078406361903,
          1.136115798865693,
          0.33720867240916724,
          1.033480878886706,
          -0.185564645796627,
          -0.10859162252684647,
          0.0011082298498769818,
          -1.1007152668847089,
          0.590790643787503,
          0.7924839944953712,
          1.1310755853681902,
          0.20678821376316955,
          0.24112123763139306,
          1.2357128959168289,
          -0.49945309036356245,
          -0.3438373786786498,
          -1.974197190227374,
          -0.17757562574931995,
          -1.477475520667104,
          -1.3876057638569905,
          0.7462505236735426,
          -0.8287043340198685,
          -0.3133316893236558,
          0.055715575088475404,
          -1.9505041054363514,
          -0.7276070321344944,
          -0.34043567190802565,
          0.606938441762185,
          1.3179143702571974,
          -0.7809922643385032,
          -0.32097787481639667,
          0.4256234210720113,
          -0.07335408475851667,
          0.3671507620785513,
          0.02747103411586101,
          -0.03694446480914026,
          1.3688673794512007,
          1.0148027798988821,
          -0.39597774323778956,
          0.5455817623527611,
          -1.1833906968924781,
          0.5047148544381632,
          -0.9086647103866449,
          -0.5041775256575728,
          -3.2175858667536223,
          -1.4626369755166713,
          -0.8760406447373471,
          -1.5329422094336318,
          -0.07856244032320203,
          0.7258509590435329,
          -0.7169536298739123,
          0.47821301919925535,
          -1.6070953362840454,
          0.18492608791772172,
          0.4831953421913388,
          -0.46527559209292835,
          -0.057744579710930236,
          2.0151435673920908,
          -1.202496502277343,
          1.1154447255484976,
          -1.8995728472275581,
          -0.07759942120844565,
          0.5096943059187304
         ],
         "xaxis": "x3",
         "y": [
          -0.045220991541672514,
          0.6780430845497113,
          1.0057065998631551,
          -0.9728874120987261,
          -0.1429232842760107,
          1.2921833308681698,
          0.16399911560590277,
          0.5864133066083158,
          0.005048291501591372,
          0.18320948521328073,
          -2.49509747225579,
          1.3256859636637544,
          -1.6793176056440045,
          1.2723860638991833,
          1.578103990878968,
          1.6643859249494612,
          -0.7935622243303689,
          1.4753187604179476,
          -0.5171412718010686,
          1.2361846435347696,
          1.704522844836798,
          0.8695553230428329,
          0.04824931042202152,
          -0.5596124096097523,
          -1.1327010356287375,
          -1.406914574214415,
          -0.2760296743683121,
          0.8499750408369918,
          0.2733027589733112,
          -0.9270609774179835,
          -0.11937096459563867,
          -1.6341734716797336,
          -0.41805224566733007,
          0.050751069046720734,
          -0.20458127481769103,
          -2.014914541732928,
          1.1293271143962424,
          -0.535345544707788,
          0.7205565368377175,
          0.4434882575852396,
          2.287900075088307,
          0.8593080673185117,
          -0.8474654655180363,
          0.5740891945961737,
          0.866934071277127,
          1.6599286334175802,
          1.1413585505968555,
          -0.12489284454263366,
          1.0077112317489567,
          -0.8015057558969182,
          0.06322142018660247,
          0.02030583905367841,
          1.310214444831818,
          0.3220132314938279,
          -1.7460855703860538,
          1.4814702223140728,
          -0.8035722883805491,
          -0.8977913265652391,
          0.4834089731976079,
          1.4171127102051564,
          1.4755906750430359,
          2.0461501156802657,
          1.8315708147771137,
          -0.7776544535304498,
          0.9212441621689802,
          -1.070857782437202,
          0.2665485378678139,
          -0.2375412783190445,
          0.12928115685388808,
          -1.5094640119124836,
          0.36096311670622444,
          0.3449732335562818,
          0.9268319900465413,
          -0.8784088858281468,
          0.35568448009216114,
          -0.08607414252524906,
          1.213447359424447,
          1.220582787720631,
          -1.5714006178028541,
          0.3772038547775565,
          0.1836811429063996,
          0.23643055367021165,
          -0.14944956474447565,
          1.2660528101080524,
          -0.5669141209856902,
          -0.061203227869747794,
          -1.0152345093451074,
          -0.06490705351212794,
          -0.0967940059628407,
          0.4630555535765282,
          -1.5499008045555307,
          0.3662054810766103,
          1.3967190454514729,
          -1.2459338585587063,
          -0.4192847012410866,
          -0.9966152679852247,
          -0.8929790395801137,
          -0.375225580512482,
          1.11697358465709,
          0.22825455583325077
         ],
         "yaxis": "y3"
        },
        {
         "line": {
          "color": "rgba(128, 128, 128, 1.0)",
          "dash": "solid",
          "shape": "linear",
          "width": 1.3
         },
         "marker": {
          "size": 2,
          "symbol": "circle"
         },
         "mode": "markers",
         "name": "A",
         "text": "",
         "type": "scatter",
         "x": [
          -0.4337879491334362,
          0.7976012586008668,
          0.04679388847070139,
          0.8210509017025851,
          -0.47737624449913807,
          -2.7113749177309034,
          -0.3467805670259546,
          -0.9656770508426309,
          0.26838356597477203,
          1.111511291342199,
          -0.3724119499893848,
          -0.6879024860078657,
          0.12543381105475546,
          1.5141660057493092,
          0.0031518850461970446,
          -1.8862220831122953,
          -0.8366577378678488,
          0.24412695824901426,
          -0.29940606815106224,
          -1.108196501494843,
          -1.3682950024746594,
          -2.3631574734573317,
          -3.0855407392711185,
          -0.8490098793244223,
          -0.27307010329833803,
          -0.2364030920459769,
          0.6643850678309491,
          -0.3928846608662631,
          -1.1134663891849492,
          0.5259166824485958,
          1.2767655084421516,
          0.0354705094250525,
          -0.22469254344204675,
          1.6272211270560817,
          -0.414669543582508,
          0.7139322291458065,
          -2.470709743384897,
          1.5386164967793026,
          0.7160072919906816,
          0.1417813834395697,
          -0.4043862753593802,
          -1.8071493515932677,
          -1.3723541348893524,
          1.0948479544848693,
          0.9989596265551828,
          -0.6478008481453175,
          1.4124754326601883,
          0.4346882253946431,
          -0.7348738360323315,
          0.870683905831478,
          0.6579668551742296,
          -1.9940535889544115,
          -0.005078270571319728,
          1.3365837181328428,
          0.10899587834151302,
          0.9165248381194471,
          -0.6368591137339633,
          0.7119659996376386,
          0.986580694631742,
          0.416081849948451,
          0.5352805242252674,
          0.5208318750173206,
          0.9571424944340965,
          -0.3901599757044315,
          -1.1401073992251733,
          0.3340180184206363,
          0.7406991050707952,
          0.4647617310146391,
          1.2959649906828112,
          -0.47230962246013475,
          0.1567297692468287,
          -0.37393093428584573,
          1.2767768262192751,
          0.3461111052548227,
          -1.022476851684093,
          0.6349317486094176,
          -0.15101842538131852,
          0.033728646201024046,
          0.2667964330454267,
          1.0629785526860123,
          -1.0917878409952968,
          -0.3582307526329137,
          0.5524824823445418,
          -1.0013894542109176,
          -1.9607511780597788,
          -2.7722741185384954,
          0.01864704728907342,
          0.6571359736547979,
          1.7367344460001817,
          0.32949603949899275,
          0.42953810085154065,
          -0.6237116485501133,
          0.20610138838812966,
          1.1257106532373393,
          0.07309187136866693,
          0.1825421452130804,
          -1.410613394522949,
          0.32020366902474606,
          -0.1891096779802458,
          1.1968104396498749
         ],
         "xaxis": "x4",
         "y": [
          -0.045220991541672514,
          0.6780430845497113,
          1.0057065998631551,
          -0.9728874120987261,
          -0.1429232842760107,
          1.2921833308681698,
          0.16399911560590277,
          0.5864133066083158,
          0.005048291501591372,
          0.18320948521328073,
          -2.49509747225579,
          1.3256859636637544,
          -1.6793176056440045,
          1.2723860638991833,
          1.578103990878968,
          1.6643859249494612,
          -0.7935622243303689,
          1.4753187604179476,
          -0.5171412718010686,
          1.2361846435347696,
          1.704522844836798,
          0.8695553230428329,
          0.04824931042202152,
          -0.5596124096097523,
          -1.1327010356287375,
          -1.406914574214415,
          -0.2760296743683121,
          0.8499750408369918,
          0.2733027589733112,
          -0.9270609774179835,
          -0.11937096459563867,
          -1.6341734716797336,
          -0.41805224566733007,
          0.050751069046720734,
          -0.20458127481769103,
          -2.014914541732928,
          1.1293271143962424,
          -0.535345544707788,
          0.7205565368377175,
          0.4434882575852396,
          2.287900075088307,
          0.8593080673185117,
          -0.8474654655180363,
          0.5740891945961737,
          0.866934071277127,
          1.6599286334175802,
          1.1413585505968555,
          -0.12489284454263366,
          1.0077112317489567,
          -0.8015057558969182,
          0.06322142018660247,
          0.02030583905367841,
          1.310214444831818,
          0.3220132314938279,
          -1.7460855703860538,
          1.4814702223140728,
          -0.8035722883805491,
          -0.8977913265652391,
          0.4834089731976079,
          1.4171127102051564,
          1.4755906750430359,
          2.0461501156802657,
          1.8315708147771137,
          -0.7776544535304498,
          0.9212441621689802,
          -1.070857782437202,
          0.2665485378678139,
          -0.2375412783190445,
          0.12928115685388808,
          -1.5094640119124836,
          0.36096311670622444,
          0.3449732335562818,
          0.9268319900465413,
          -0.8784088858281468,
          0.35568448009216114,
          -0.08607414252524906,
          1.213447359424447,
          1.220582787720631,
          -1.5714006178028541,
          0.3772038547775565,
          0.1836811429063996,
          0.23643055367021165,
          -0.14944956474447565,
          1.2660528101080524,
          -0.5669141209856902,
          -0.061203227869747794,
          -1.0152345093451074,
          -0.06490705351212794,
          -0.0967940059628407,
          0.4630555535765282,
          -1.5499008045555307,
          0.3662054810766103,
          1.3967190454514729,
          -1.2459338585587063,
          -0.4192847012410866,
          -0.9966152679852247,
          -0.8929790395801137,
          -0.375225580512482,
          1.11697358465709,
          0.22825455583325077
         ],
         "yaxis": "y4"
        },
        {
         "line": {
          "color": "rgba(128, 128, 128, 1.0)",
          "dash": "solid",
          "shape": "linear",
          "width": 1.3
         },
         "marker": {
          "size": 2,
          "symbol": "circle"
         },
         "mode": "markers",
         "name": "B",
         "text": "",
         "type": "scatter",
         "x": [
          -0.045220991541672514,
          0.6780430845497113,
          1.0057065998631551,
          -0.9728874120987261,
          -0.1429232842760107,
          1.2921833308681698,
          0.16399911560590277,
          0.5864133066083158,
          0.005048291501591372,
          0.18320948521328073,
          -2.49509747225579,
          1.3256859636637544,
          -1.6793176056440045,
          1.2723860638991833,
          1.578103990878968,
          1.6643859249494612,
          -0.7935622243303689,
          1.4753187604179476,
          -0.5171412718010686,
          1.2361846435347696,
          1.704522844836798,
          0.8695553230428329,
          0.04824931042202152,
          -0.5596124096097523,
          -1.1327010356287375,
          -1.406914574214415,
          -0.2760296743683121,
          0.8499750408369918,
          0.2733027589733112,
          -0.9270609774179835,
          -0.11937096459563867,
          -1.6341734716797336,
          -0.41805224566733007,
          0.050751069046720734,
          -0.20458127481769103,
          -2.014914541732928,
          1.1293271143962424,
          -0.535345544707788,
          0.7205565368377175,
          0.4434882575852396,
          2.287900075088307,
          0.8593080673185117,
          -0.8474654655180363,
          0.5740891945961737,
          0.866934071277127,
          1.6599286334175802,
          1.1413585505968555,
          -0.12489284454263366,
          1.0077112317489567,
          -0.8015057558969182,
          0.06322142018660247,
          0.02030583905367841,
          1.310214444831818,
          0.3220132314938279,
          -1.7460855703860538,
          1.4814702223140728,
          -0.8035722883805491,
          -0.8977913265652391,
          0.4834089731976079,
          1.4171127102051564,
          1.4755906750430359,
          2.0461501156802657,
          1.8315708147771137,
          -0.7776544535304498,
          0.9212441621689802,
          -1.070857782437202,
          0.2665485378678139,
          -0.2375412783190445,
          0.12928115685388808,
          -1.5094640119124836,
          0.36096311670622444,
          0.3449732335562818,
          0.9268319900465413,
          -0.8784088858281468,
          0.35568448009216114,
          -0.08607414252524906,
          1.213447359424447,
          1.220582787720631,
          -1.5714006178028541,
          0.3772038547775565,
          0.1836811429063996,
          0.23643055367021165,
          -0.14944956474447565,
          1.2660528101080524,
          -0.5669141209856902,
          -0.061203227869747794,
          -1.0152345093451074,
          -0.06490705351212794,
          -0.0967940059628407,
          0.4630555535765282,
          -1.5499008045555307,
          0.3662054810766103,
          1.3967190454514729,
          -1.2459338585587063,
          -0.4192847012410866,
          -0.9966152679852247,
          -0.8929790395801137,
          -0.375225580512482,
          1.11697358465709,
          0.22825455583325077
         ],
         "xaxis": "x5",
         "y": [
          -0.013295768492124153,
          -0.27074517491106564,
          -0.48041519701937146,
          -0.15747940179591474,
          0.2558515658031597,
          -0.15662119891997725,
          0.3479723140894033,
          -0.15084375498932429,
          0.06228336036949375,
          0.9736025112157594,
          0.5402519563550914,
          0.8682305950906869,
          -0.65170589410664,
          0.678613203133178,
          -0.057432097459745896,
          0.6932633553636146,
          -1.9939719746754565,
          -2.002802721971022,
          0.25746993202325685,
          0.4889548095852013,
          -0.7168527223620486,
          -1.2923706473113479,
          -0.6753735457834736,
          0.9202025865444132,
          1.4670937547148066,
          0.18474639375151114,
          1.5237228427501046,
          0.6555734068239183,
          -1.6536292861970667,
          0.04987606236109394,
          0.7564239173991238,
          -1.215415085919389,
          -0.6904670180577785,
          0.8332193013800037,
          0.062395229603287104,
          3.115989368570276,
          -1.0011794943455687,
          0.29053598685344056,
          -0.029260709986795252,
          -0.37251804313432424,
          0.48538385105860427,
          -0.833960660422719,
          0.12828209855485537,
          -0.36647237774781805,
          -0.2562272216832282,
          0.2689613943245282,
          0.039384657809476246,
          0.9003688284552946,
          -0.03498553399708273,
          0.03852162330557176,
          1.4029672622615341,
          0.4722881623952208,
          -0.655692389374444,
          0.35094145422495787,
          2.025198109041344,
          0.6214822754704921,
          0.6995612430798638,
          0.3730785899429117,
          0.602967469726209,
          0.04571784171804009,
          0.3266369638556332,
          -0.31846827964026114,
          0.15383690822073517,
          -0.338144285317204,
          1.884543871930759,
          0.40335856103092854,
          0.4150036654412097,
          1.487026005753503,
          0.12374285847035515,
          0.8366685261562422,
          0.5795360711488374,
          1.614778779962535,
          -1.5065686107987333,
          1.5592396986044814,
          -0.32329791999507934,
          -0.9318225839805766,
          -1.1578286591490894,
          -0.041709953393487105,
          2.337128989736377,
          -0.5557500637748092,
          -0.801289268411741,
          -0.9626995069095104,
          -0.4290769015529991,
          1.6348652562575745,
          0.7716484917337753,
          -1.505387304121753,
          -0.15247950644685498,
          2.0875013582731077,
          0.8138442069099916,
          -0.5980676063757108,
          -1.0733335543265496,
          -0.5453515556217455,
          0.27422936109205454,
          0.40974088231107303,
          0.5706700018492756,
          -1.9690048686611612,
          0.3942186062027898,
          1.0710514434878289,
          -0.5441656857116004,
          -0.26082261070316265
         ],
         "yaxis": "y5"
        },
        {
         "histfunc": "count",
         "histnorm": "",
         "marker": {
          "color": "rgba(55, 128, 191, 1.0)",
          "line": {
           "color": "#4D5663",
           "width": 1.3
          }
         },
         "name": "B",
         "nbinsx": 10,
         "opacity": 0.8,
         "orientation": "v",
         "type": "histogram",
         "x": [
          -0.013295768492124153,
          -0.27074517491106564,
          -0.48041519701937146,
          -0.15747940179591474,
          0.2558515658031597,
          -0.15662119891997725,
          0.3479723140894033,
          -0.15084375498932429,
          0.06228336036949375,
          0.9736025112157594,
          0.5402519563550914,
          0.8682305950906869,
          -0.65170589410664,
          0.678613203133178,
          -0.057432097459745896,
          0.6932633553636146,
          -1.9939719746754565,
          -2.002802721971022,
          0.25746993202325685,
          0.4889548095852013,
          -0.7168527223620486,
          -1.2923706473113479,
          -0.6753735457834736,
          0.9202025865444132,
          1.4670937547148066,
          0.18474639375151114,
          1.5237228427501046,
          0.6555734068239183,
          -1.6536292861970667,
          0.04987606236109394,
          0.7564239173991238,
          -1.215415085919389,
          -0.6904670180577785,
          0.8332193013800037,
          0.062395229603287104,
          3.115989368570276,
          -1.0011794943455687,
          0.29053598685344056,
          -0.029260709986795252,
          -0.37251804313432424,
          0.48538385105860427,
          -0.833960660422719,
          0.12828209855485537,
          -0.36647237774781805,
          -0.2562272216832282,
          0.2689613943245282,
          0.039384657809476246,
          0.9003688284552946,
          -0.03498553399708273,
          0.03852162330557176,
          1.4029672622615341,
          0.4722881623952208,
          -0.655692389374444,
          0.35094145422495787,
          2.025198109041344,
          0.6214822754704921,
          0.6995612430798638,
          0.3730785899429117,
          0.602967469726209,
          0.04571784171804009,
          0.3266369638556332,
          -0.31846827964026114,
          0.15383690822073517,
          -0.338144285317204,
          1.884543871930759,
          0.40335856103092854,
          0.4150036654412097,
          1.487026005753503,
          0.12374285847035515,
          0.8366685261562422,
          0.5795360711488374,
          1.614778779962535,
          -1.5065686107987333,
          1.5592396986044814,
          -0.32329791999507934,
          -0.9318225839805766,
          -1.1578286591490894,
          -0.041709953393487105,
          2.337128989736377,
          -0.5557500637748092,
          -0.801289268411741,
          -0.9626995069095104,
          -0.4290769015529991,
          1.6348652562575745,
          0.7716484917337753,
          -1.505387304121753,
          -0.15247950644685498,
          2.0875013582731077,
          0.8138442069099916,
          -0.5980676063757108,
          -1.0733335543265496,
          -0.5453515556217455,
          0.27422936109205454,
          0.40974088231107303,
          0.5706700018492756,
          -1.9690048686611612,
          0.3942186062027898,
          1.0710514434878289,
          -0.5441656857116004,
          -0.26082261070316265
         ],
         "xaxis": "x6",
         "yaxis": "y6"
        },
        {
         "line": {
          "color": "rgba(128, 128, 128, 1.0)",
          "dash": "solid",
          "shape": "linear",
          "width": 1.3
         },
         "marker": {
          "size": 2,
          "symbol": "circle"
         },
         "mode": "markers",
         "name": "B",
         "text": "",
         "type": "scatter",
         "x": [
          0.13873828079658243,
          0.004189153867128753,
          0.09682297277796335,
          -1.944173718156881,
          -1.509648123220136,
          -0.2562642772096215,
          1.1425384061525947,
          1.8381697029094315,
          -0.89523389287459,
          -0.11167869593903061,
          1.868391686565969,
          0.926008375873174,
          -0.5375160643538771,
          -2.21354100606647,
          0.13758441049616993,
          -1.6127200438386537,
          0.836629941326483,
          0.982639029672047,
          -1.4267965171737238,
          -0.7340729325482471,
          0.33979196381839,
          -0.0975870854132879,
          -0.6148688825087985,
          0.5147673433285442,
          -0.9481706485625584,
          -0.04271544928766234,
          1.3243642261933142,
          -0.8546463501044619,
          -0.599297728305147,
          0.04548785985911168,
          -0.4811079491622432,
          -1.774406825632185,
          -0.7702693340792561,
          -0.4748276882281734,
          0.9768466741741556,
          0.6901701186316009,
          -0.3163663233169675,
          0.21287078406361903,
          1.136115798865693,
          0.33720867240916724,
          1.033480878886706,
          -0.185564645796627,
          -0.10859162252684647,
          0.0011082298498769818,
          -1.1007152668847089,
          0.590790643787503,
          0.7924839944953712,
          1.1310755853681902,
          0.20678821376316955,
          0.24112123763139306,
          1.2357128959168289,
          -0.49945309036356245,
          -0.3438373786786498,
          -1.974197190227374,
          -0.17757562574931995,
          -1.477475520667104,
          -1.3876057638569905,
          0.7462505236735426,
          -0.8287043340198685,
          -0.3133316893236558,
          0.055715575088475404,
          -1.9505041054363514,
          -0.7276070321344944,
          -0.34043567190802565,
          0.606938441762185,
          1.3179143702571974,
          -0.7809922643385032,
          -0.32097787481639667,
          0.4256234210720113,
          -0.07335408475851667,
          0.3671507620785513,
          0.02747103411586101,
          -0.03694446480914026,
          1.3688673794512007,
          1.0148027798988821,
          -0.39597774323778956,
          0.5455817623527611,
          -1.1833906968924781,
          0.5047148544381632,
          -0.9086647103866449,
          -0.5041775256575728,
          -3.2175858667536223,
          -1.4626369755166713,
          -0.8760406447373471,
          -1.5329422094336318,
          -0.07856244032320203,
          0.7258509590435329,
          -0.7169536298739123,
          0.47821301919925535,
          -1.6070953362840454,
          0.18492608791772172,
          0.4831953421913388,
          -0.46527559209292835,
          -0.057744579710930236,
          2.0151435673920908,
          -1.202496502277343,
          1.1154447255484976,
          -1.8995728472275581,
          -0.07759942120844565,
          0.5096943059187304
         ],
         "xaxis": "x7",
         "y": [
          -0.013295768492124153,
          -0.27074517491106564,
          -0.48041519701937146,
          -0.15747940179591474,
          0.2558515658031597,
          -0.15662119891997725,
          0.3479723140894033,
          -0.15084375498932429,
          0.06228336036949375,
          0.9736025112157594,
          0.5402519563550914,
          0.8682305950906869,
          -0.65170589410664,
          0.678613203133178,
          -0.057432097459745896,
          0.6932633553636146,
          -1.9939719746754565,
          -2.002802721971022,
          0.25746993202325685,
          0.4889548095852013,
          -0.7168527223620486,
          -1.2923706473113479,
          -0.6753735457834736,
          0.9202025865444132,
          1.4670937547148066,
          0.18474639375151114,
          1.5237228427501046,
          0.6555734068239183,
          -1.6536292861970667,
          0.04987606236109394,
          0.7564239173991238,
          -1.215415085919389,
          -0.6904670180577785,
          0.8332193013800037,
          0.062395229603287104,
          3.115989368570276,
          -1.0011794943455687,
          0.29053598685344056,
          -0.029260709986795252,
          -0.37251804313432424,
          0.48538385105860427,
          -0.833960660422719,
          0.12828209855485537,
          -0.36647237774781805,
          -0.2562272216832282,
          0.2689613943245282,
          0.039384657809476246,
          0.9003688284552946,
          -0.03498553399708273,
          0.03852162330557176,
          1.4029672622615341,
          0.4722881623952208,
          -0.655692389374444,
          0.35094145422495787,
          2.025198109041344,
          0.6214822754704921,
          0.6995612430798638,
          0.3730785899429117,
          0.602967469726209,
          0.04571784171804009,
          0.3266369638556332,
          -0.31846827964026114,
          0.15383690822073517,
          -0.338144285317204,
          1.884543871930759,
          0.40335856103092854,
          0.4150036654412097,
          1.487026005753503,
          0.12374285847035515,
          0.8366685261562422,
          0.5795360711488374,
          1.614778779962535,
          -1.5065686107987333,
          1.5592396986044814,
          -0.32329791999507934,
          -0.9318225839805766,
          -1.1578286591490894,
          -0.041709953393487105,
          2.337128989736377,
          -0.5557500637748092,
          -0.801289268411741,
          -0.9626995069095104,
          -0.4290769015529991,
          1.6348652562575745,
          0.7716484917337753,
          -1.505387304121753,
          -0.15247950644685498,
          2.0875013582731077,
          0.8138442069099916,
          -0.5980676063757108,
          -1.0733335543265496,
          -0.5453515556217455,
          0.27422936109205454,
          0.40974088231107303,
          0.5706700018492756,
          -1.9690048686611612,
          0.3942186062027898,
          1.0710514434878289,
          -0.5441656857116004,
          -0.26082261070316265
         ],
         "yaxis": "y7"
        },
        {
         "line": {
          "color": "rgba(128, 128, 128, 1.0)",
          "dash": "solid",
          "shape": "linear",
          "width": 1.3
         },
         "marker": {
          "size": 2,
          "symbol": "circle"
         },
         "mode": "markers",
         "name": "B",
         "text": "",
         "type": "scatter",
         "x": [
          -0.4337879491334362,
          0.7976012586008668,
          0.04679388847070139,
          0.8210509017025851,
          -0.47737624449913807,
          -2.7113749177309034,
          -0.3467805670259546,
          -0.9656770508426309,
          0.26838356597477203,
          1.111511291342199,
          -0.3724119499893848,
          -0.6879024860078657,
          0.12543381105475546,
          1.5141660057493092,
          0.0031518850461970446,
          -1.8862220831122953,
          -0.8366577378678488,
          0.24412695824901426,
          -0.29940606815106224,
          -1.108196501494843,
          -1.3682950024746594,
          -2.3631574734573317,
          -3.0855407392711185,
          -0.8490098793244223,
          -0.27307010329833803,
          -0.2364030920459769,
          0.6643850678309491,
          -0.3928846608662631,
          -1.1134663891849492,
          0.5259166824485958,
          1.2767655084421516,
          0.0354705094250525,
          -0.22469254344204675,
          1.6272211270560817,
          -0.414669543582508,
          0.7139322291458065,
          -2.470709743384897,
          1.5386164967793026,
          0.7160072919906816,
          0.1417813834395697,
          -0.4043862753593802,
          -1.8071493515932677,
          -1.3723541348893524,
          1.0948479544848693,
          0.9989596265551828,
          -0.6478008481453175,
          1.4124754326601883,
          0.4346882253946431,
          -0.7348738360323315,
          0.870683905831478,
          0.6579668551742296,
          -1.9940535889544115,
          -0.005078270571319728,
          1.3365837181328428,
          0.10899587834151302,
          0.9165248381194471,
          -0.6368591137339633,
          0.7119659996376386,
          0.986580694631742,
          0.416081849948451,
          0.5352805242252674,
          0.5208318750173206,
          0.9571424944340965,
          -0.3901599757044315,
          -1.1401073992251733,
          0.3340180184206363,
          0.7406991050707952,
          0.4647617310146391,
          1.2959649906828112,
          -0.47230962246013475,
          0.1567297692468287,
          -0.37393093428584573,
          1.2767768262192751,
          0.3461111052548227,
          -1.022476851684093,
          0.6349317486094176,
          -0.15101842538131852,
          0.033728646201024046,
          0.2667964330454267,
          1.0629785526860123,
          -1.0917878409952968,
          -0.3582307526329137,
          0.5524824823445418,
          -1.0013894542109176,
          -1.9607511780597788,
          -2.7722741185384954,
          0.01864704728907342,
          0.6571359736547979,
          1.7367344460001817,
          0.32949603949899275,
          0.42953810085154065,
          -0.6237116485501133,
          0.20610138838812966,
          1.1257106532373393,
          0.07309187136866693,
          0.1825421452130804,
          -1.410613394522949,
          0.32020366902474606,
          -0.1891096779802458,
          1.1968104396498749
         ],
         "xaxis": "x8",
         "y": [
          -0.013295768492124153,
          -0.27074517491106564,
          -0.48041519701937146,
          -0.15747940179591474,
          0.2558515658031597,
          -0.15662119891997725,
          0.3479723140894033,
          -0.15084375498932429,
          0.06228336036949375,
          0.9736025112157594,
          0.5402519563550914,
          0.8682305950906869,
          -0.65170589410664,
          0.678613203133178,
          -0.057432097459745896,
          0.6932633553636146,
          -1.9939719746754565,
          -2.002802721971022,
          0.25746993202325685,
          0.4889548095852013,
          -0.7168527223620486,
          -1.2923706473113479,
          -0.6753735457834736,
          0.9202025865444132,
          1.4670937547148066,
          0.18474639375151114,
          1.5237228427501046,
          0.6555734068239183,
          -1.6536292861970667,
          0.04987606236109394,
          0.7564239173991238,
          -1.215415085919389,
          -0.6904670180577785,
          0.8332193013800037,
          0.062395229603287104,
          3.115989368570276,
          -1.0011794943455687,
          0.29053598685344056,
          -0.029260709986795252,
          -0.37251804313432424,
          0.48538385105860427,
          -0.833960660422719,
          0.12828209855485537,
          -0.36647237774781805,
          -0.2562272216832282,
          0.2689613943245282,
          0.039384657809476246,
          0.9003688284552946,
          -0.03498553399708273,
          0.03852162330557176,
          1.4029672622615341,
          0.4722881623952208,
          -0.655692389374444,
          0.35094145422495787,
          2.025198109041344,
          0.6214822754704921,
          0.6995612430798638,
          0.3730785899429117,
          0.602967469726209,
          0.04571784171804009,
          0.3266369638556332,
          -0.31846827964026114,
          0.15383690822073517,
          -0.338144285317204,
          1.884543871930759,
          0.40335856103092854,
          0.4150036654412097,
          1.487026005753503,
          0.12374285847035515,
          0.8366685261562422,
          0.5795360711488374,
          1.614778779962535,
          -1.5065686107987333,
          1.5592396986044814,
          -0.32329791999507934,
          -0.9318225839805766,
          -1.1578286591490894,
          -0.041709953393487105,
          2.337128989736377,
          -0.5557500637748092,
          -0.801289268411741,
          -0.9626995069095104,
          -0.4290769015529991,
          1.6348652562575745,
          0.7716484917337753,
          -1.505387304121753,
          -0.15247950644685498,
          2.0875013582731077,
          0.8138442069099916,
          -0.5980676063757108,
          -1.0733335543265496,
          -0.5453515556217455,
          0.27422936109205454,
          0.40974088231107303,
          0.5706700018492756,
          -1.9690048686611612,
          0.3942186062027898,
          1.0710514434878289,
          -0.5441656857116004,
          -0.26082261070316265
         ],
         "yaxis": "y8"
        },
        {
         "line": {
          "color": "rgba(128, 128, 128, 1.0)",
          "dash": "solid",
          "shape": "linear",
          "width": 1.3
         },
         "marker": {
          "size": 2,
          "symbol": "circle"
         },
         "mode": "markers",
         "name": "C",
         "text": "",
         "type": "scatter",
         "x": [
          -0.045220991541672514,
          0.6780430845497113,
          1.0057065998631551,
          -0.9728874120987261,
          -0.1429232842760107,
          1.2921833308681698,
          0.16399911560590277,
          0.5864133066083158,
          0.005048291501591372,
          0.18320948521328073,
          -2.49509747225579,
          1.3256859636637544,
          -1.6793176056440045,
          1.2723860638991833,
          1.578103990878968,
          1.6643859249494612,
          -0.7935622243303689,
          1.4753187604179476,
          -0.5171412718010686,
          1.2361846435347696,
          1.704522844836798,
          0.8695553230428329,
          0.04824931042202152,
          -0.5596124096097523,
          -1.1327010356287375,
          -1.406914574214415,
          -0.2760296743683121,
          0.8499750408369918,
          0.2733027589733112,
          -0.9270609774179835,
          -0.11937096459563867,
          -1.6341734716797336,
          -0.41805224566733007,
          0.050751069046720734,
          -0.20458127481769103,
          -2.014914541732928,
          1.1293271143962424,
          -0.535345544707788,
          0.7205565368377175,
          0.4434882575852396,
          2.287900075088307,
          0.8593080673185117,
          -0.8474654655180363,
          0.5740891945961737,
          0.866934071277127,
          1.6599286334175802,
          1.1413585505968555,
          -0.12489284454263366,
          1.0077112317489567,
          -0.8015057558969182,
          0.06322142018660247,
          0.02030583905367841,
          1.310214444831818,
          0.3220132314938279,
          -1.7460855703860538,
          1.4814702223140728,
          -0.8035722883805491,
          -0.8977913265652391,
          0.4834089731976079,
          1.4171127102051564,
          1.4755906750430359,
          2.0461501156802657,
          1.8315708147771137,
          -0.7776544535304498,
          0.9212441621689802,
          -1.070857782437202,
          0.2665485378678139,
          -0.2375412783190445,
          0.12928115685388808,
          -1.5094640119124836,
          0.36096311670622444,
          0.3449732335562818,
          0.9268319900465413,
          -0.8784088858281468,
          0.35568448009216114,
          -0.08607414252524906,
          1.213447359424447,
          1.220582787720631,
          -1.5714006178028541,
          0.3772038547775565,
          0.1836811429063996,
          0.23643055367021165,
          -0.14944956474447565,
          1.2660528101080524,
          -0.5669141209856902,
          -0.061203227869747794,
          -1.0152345093451074,
          -0.06490705351212794,
          -0.0967940059628407,
          0.4630555535765282,
          -1.5499008045555307,
          0.3662054810766103,
          1.3967190454514729,
          -1.2459338585587063,
          -0.4192847012410866,
          -0.9966152679852247,
          -0.8929790395801137,
          -0.375225580512482,
          1.11697358465709,
          0.22825455583325077
         ],
         "xaxis": "x9",
         "y": [
          0.13873828079658243,
          0.004189153867128753,
          0.09682297277796335,
          -1.944173718156881,
          -1.509648123220136,
          -0.2562642772096215,
          1.1425384061525947,
          1.8381697029094315,
          -0.89523389287459,
          -0.11167869593903061,
          1.868391686565969,
          0.926008375873174,
          -0.5375160643538771,
          -2.21354100606647,
          0.13758441049616993,
          -1.6127200438386537,
          0.836629941326483,
          0.982639029672047,
          -1.4267965171737238,
          -0.7340729325482471,
          0.33979196381839,
          -0.0975870854132879,
          -0.6148688825087985,
          0.5147673433285442,
          -0.9481706485625584,
          -0.04271544928766234,
          1.3243642261933142,
          -0.8546463501044619,
          -0.599297728305147,
          0.04548785985911168,
          -0.4811079491622432,
          -1.774406825632185,
          -0.7702693340792561,
          -0.4748276882281734,
          0.9768466741741556,
          0.6901701186316009,
          -0.3163663233169675,
          0.21287078406361903,
          1.136115798865693,
          0.33720867240916724,
          1.033480878886706,
          -0.185564645796627,
          -0.10859162252684647,
          0.0011082298498769818,
          -1.1007152668847089,
          0.590790643787503,
          0.7924839944953712,
          1.1310755853681902,
          0.20678821376316955,
          0.24112123763139306,
          1.2357128959168289,
          -0.49945309036356245,
          -0.3438373786786498,
          -1.974197190227374,
          -0.17757562574931995,
          -1.477475520667104,
          -1.3876057638569905,
          0.7462505236735426,
          -0.8287043340198685,
          -0.3133316893236558,
          0.055715575088475404,
          -1.9505041054363514,
          -0.7276070321344944,
          -0.34043567190802565,
          0.606938441762185,
          1.3179143702571974,
          -0.7809922643385032,
          -0.32097787481639667,
          0.4256234210720113,
          -0.07335408475851667,
          0.3671507620785513,
          0.02747103411586101,
          -0.03694446480914026,
          1.3688673794512007,
          1.0148027798988821,
          -0.39597774323778956,
          0.5455817623527611,
          -1.1833906968924781,
          0.5047148544381632,
          -0.9086647103866449,
          -0.5041775256575728,
          -3.2175858667536223,
          -1.4626369755166713,
          -0.8760406447373471,
          -1.5329422094336318,
          -0.07856244032320203,
          0.7258509590435329,
          -0.7169536298739123,
          0.47821301919925535,
          -1.6070953362840454,
          0.18492608791772172,
          0.4831953421913388,
          -0.46527559209292835,
          -0.057744579710930236,
          2.0151435673920908,
          -1.202496502277343,
          1.1154447255484976,
          -1.8995728472275581,
          -0.07759942120844565,
          0.5096943059187304
         ],
         "yaxis": "y9"
        },
        {
         "line": {
          "color": "rgba(128, 128, 128, 1.0)",
          "dash": "solid",
          "shape": "linear",
          "width": 1.3
         },
         "marker": {
          "size": 2,
          "symbol": "circle"
         },
         "mode": "markers",
         "name": "C",
         "text": "",
         "type": "scatter",
         "x": [
          -0.013295768492124153,
          -0.27074517491106564,
          -0.48041519701937146,
          -0.15747940179591474,
          0.2558515658031597,
          -0.15662119891997725,
          0.3479723140894033,
          -0.15084375498932429,
          0.06228336036949375,
          0.9736025112157594,
          0.5402519563550914,
          0.8682305950906869,
          -0.65170589410664,
          0.678613203133178,
          -0.057432097459745896,
          0.6932633553636146,
          -1.9939719746754565,
          -2.002802721971022,
          0.25746993202325685,
          0.4889548095852013,
          -0.7168527223620486,
          -1.2923706473113479,
          -0.6753735457834736,
          0.9202025865444132,
          1.4670937547148066,
          0.18474639375151114,
          1.5237228427501046,
          0.6555734068239183,
          -1.6536292861970667,
          0.04987606236109394,
          0.7564239173991238,
          -1.215415085919389,
          -0.6904670180577785,
          0.8332193013800037,
          0.062395229603287104,
          3.115989368570276,
          -1.0011794943455687,
          0.29053598685344056,
          -0.029260709986795252,
          -0.37251804313432424,
          0.48538385105860427,
          -0.833960660422719,
          0.12828209855485537,
          -0.36647237774781805,
          -0.2562272216832282,
          0.2689613943245282,
          0.039384657809476246,
          0.9003688284552946,
          -0.03498553399708273,
          0.03852162330557176,
          1.4029672622615341,
          0.4722881623952208,
          -0.655692389374444,
          0.35094145422495787,
          2.025198109041344,
          0.6214822754704921,
          0.6995612430798638,
          0.3730785899429117,
          0.602967469726209,
          0.04571784171804009,
          0.3266369638556332,
          -0.31846827964026114,
          0.15383690822073517,
          -0.338144285317204,
          1.884543871930759,
          0.40335856103092854,
          0.4150036654412097,
          1.487026005753503,
          0.12374285847035515,
          0.8366685261562422,
          0.5795360711488374,
          1.614778779962535,
          -1.5065686107987333,
          1.5592396986044814,
          -0.32329791999507934,
          -0.9318225839805766,
          -1.1578286591490894,
          -0.041709953393487105,
          2.337128989736377,
          -0.5557500637748092,
          -0.801289268411741,
          -0.9626995069095104,
          -0.4290769015529991,
          1.6348652562575745,
          0.7716484917337753,
          -1.505387304121753,
          -0.15247950644685498,
          2.0875013582731077,
          0.8138442069099916,
          -0.5980676063757108,
          -1.0733335543265496,
          -0.5453515556217455,
          0.27422936109205454,
          0.40974088231107303,
          0.5706700018492756,
          -1.9690048686611612,
          0.3942186062027898,
          1.0710514434878289,
          -0.5441656857116004,
          -0.26082261070316265
         ],
         "xaxis": "x10",
         "y": [
          0.13873828079658243,
          0.004189153867128753,
          0.09682297277796335,
          -1.944173718156881,
          -1.509648123220136,
          -0.2562642772096215,
          1.1425384061525947,
          1.8381697029094315,
          -0.89523389287459,
          -0.11167869593903061,
          1.868391686565969,
          0.926008375873174,
          -0.5375160643538771,
          -2.21354100606647,
          0.13758441049616993,
          -1.6127200438386537,
          0.836629941326483,
          0.982639029672047,
          -1.4267965171737238,
          -0.7340729325482471,
          0.33979196381839,
          -0.0975870854132879,
          -0.6148688825087985,
          0.5147673433285442,
          -0.9481706485625584,
          -0.04271544928766234,
          1.3243642261933142,
          -0.8546463501044619,
          -0.599297728305147,
          0.04548785985911168,
          -0.4811079491622432,
          -1.774406825632185,
          -0.7702693340792561,
          -0.4748276882281734,
          0.9768466741741556,
          0.6901701186316009,
          -0.3163663233169675,
          0.21287078406361903,
          1.136115798865693,
          0.33720867240916724,
          1.033480878886706,
          -0.185564645796627,
          -0.10859162252684647,
          0.0011082298498769818,
          -1.1007152668847089,
          0.590790643787503,
          0.7924839944953712,
          1.1310755853681902,
          0.20678821376316955,
          0.24112123763139306,
          1.2357128959168289,
          -0.49945309036356245,
          -0.3438373786786498,
          -1.974197190227374,
          -0.17757562574931995,
          -1.477475520667104,
          -1.3876057638569905,
          0.7462505236735426,
          -0.8287043340198685,
          -0.3133316893236558,
          0.055715575088475404,
          -1.9505041054363514,
          -0.7276070321344944,
          -0.34043567190802565,
          0.606938441762185,
          1.3179143702571974,
          -0.7809922643385032,
          -0.32097787481639667,
          0.4256234210720113,
          -0.07335408475851667,
          0.3671507620785513,
          0.02747103411586101,
          -0.03694446480914026,
          1.3688673794512007,
          1.0148027798988821,
          -0.39597774323778956,
          0.5455817623527611,
          -1.1833906968924781,
          0.5047148544381632,
          -0.9086647103866449,
          -0.5041775256575728,
          -3.2175858667536223,
          -1.4626369755166713,
          -0.8760406447373471,
          -1.5329422094336318,
          -0.07856244032320203,
          0.7258509590435329,
          -0.7169536298739123,
          0.47821301919925535,
          -1.6070953362840454,
          0.18492608791772172,
          0.4831953421913388,
          -0.46527559209292835,
          -0.057744579710930236,
          2.0151435673920908,
          -1.202496502277343,
          1.1154447255484976,
          -1.8995728472275581,
          -0.07759942120844565,
          0.5096943059187304
         ],
         "yaxis": "y10"
        },
        {
         "histfunc": "count",
         "histnorm": "",
         "marker": {
          "color": "rgba(50, 171, 96, 1.0)",
          "line": {
           "color": "#4D5663",
           "width": 1.3
          }
         },
         "name": "C",
         "nbinsx": 10,
         "opacity": 0.8,
         "orientation": "v",
         "type": "histogram",
         "x": [
          0.13873828079658243,
          0.004189153867128753,
          0.09682297277796335,
          -1.944173718156881,
          -1.509648123220136,
          -0.2562642772096215,
          1.1425384061525947,
          1.8381697029094315,
          -0.89523389287459,
          -0.11167869593903061,
          1.868391686565969,
          0.926008375873174,
          -0.5375160643538771,
          -2.21354100606647,
          0.13758441049616993,
          -1.6127200438386537,
          0.836629941326483,
          0.982639029672047,
          -1.4267965171737238,
          -0.7340729325482471,
          0.33979196381839,
          -0.0975870854132879,
          -0.6148688825087985,
          0.5147673433285442,
          -0.9481706485625584,
          -0.04271544928766234,
          1.3243642261933142,
          -0.8546463501044619,
          -0.599297728305147,
          0.04548785985911168,
          -0.4811079491622432,
          -1.774406825632185,
          -0.7702693340792561,
          -0.4748276882281734,
          0.9768466741741556,
          0.6901701186316009,
          -0.3163663233169675,
          0.21287078406361903,
          1.136115798865693,
          0.33720867240916724,
          1.033480878886706,
          -0.185564645796627,
          -0.10859162252684647,
          0.0011082298498769818,
          -1.1007152668847089,
          0.590790643787503,
          0.7924839944953712,
          1.1310755853681902,
          0.20678821376316955,
          0.24112123763139306,
          1.2357128959168289,
          -0.49945309036356245,
          -0.3438373786786498,
          -1.974197190227374,
          -0.17757562574931995,
          -1.477475520667104,
          -1.3876057638569905,
          0.7462505236735426,
          -0.8287043340198685,
          -0.3133316893236558,
          0.055715575088475404,
          -1.9505041054363514,
          -0.7276070321344944,
          -0.34043567190802565,
          0.606938441762185,
          1.3179143702571974,
          -0.7809922643385032,
          -0.32097787481639667,
          0.4256234210720113,
          -0.07335408475851667,
          0.3671507620785513,
          0.02747103411586101,
          -0.03694446480914026,
          1.3688673794512007,
          1.0148027798988821,
          -0.39597774323778956,
          0.5455817623527611,
          -1.1833906968924781,
          0.5047148544381632,
          -0.9086647103866449,
          -0.5041775256575728,
          -3.2175858667536223,
          -1.4626369755166713,
          -0.8760406447373471,
          -1.5329422094336318,
          -0.07856244032320203,
          0.7258509590435329,
          -0.7169536298739123,
          0.47821301919925535,
          -1.6070953362840454,
          0.18492608791772172,
          0.4831953421913388,
          -0.46527559209292835,
          -0.057744579710930236,
          2.0151435673920908,
          -1.202496502277343,
          1.1154447255484976,
          -1.8995728472275581,
          -0.07759942120844565,
          0.5096943059187304
         ],
         "xaxis": "x11",
         "yaxis": "y11"
        },
        {
         "line": {
          "color": "rgba(128, 128, 128, 1.0)",
          "dash": "solid",
          "shape": "linear",
          "width": 1.3
         },
         "marker": {
          "size": 2,
          "symbol": "circle"
         },
         "mode": "markers",
         "name": "C",
         "text": "",
         "type": "scatter",
         "x": [
          -0.4337879491334362,
          0.7976012586008668,
          0.04679388847070139,
          0.8210509017025851,
          -0.47737624449913807,
          -2.7113749177309034,
          -0.3467805670259546,
          -0.9656770508426309,
          0.26838356597477203,
          1.111511291342199,
          -0.3724119499893848,
          -0.6879024860078657,
          0.12543381105475546,
          1.5141660057493092,
          0.0031518850461970446,
          -1.8862220831122953,
          -0.8366577378678488,
          0.24412695824901426,
          -0.29940606815106224,
          -1.108196501494843,
          -1.3682950024746594,
          -2.3631574734573317,
          -3.0855407392711185,
          -0.8490098793244223,
          -0.27307010329833803,
          -0.2364030920459769,
          0.6643850678309491,
          -0.3928846608662631,
          -1.1134663891849492,
          0.5259166824485958,
          1.2767655084421516,
          0.0354705094250525,
          -0.22469254344204675,
          1.6272211270560817,
          -0.414669543582508,
          0.7139322291458065,
          -2.470709743384897,
          1.5386164967793026,
          0.7160072919906816,
          0.1417813834395697,
          -0.4043862753593802,
          -1.8071493515932677,
          -1.3723541348893524,
          1.0948479544848693,
          0.9989596265551828,
          -0.6478008481453175,
          1.4124754326601883,
          0.4346882253946431,
          -0.7348738360323315,
          0.870683905831478,
          0.6579668551742296,
          -1.9940535889544115,
          -0.005078270571319728,
          1.3365837181328428,
          0.10899587834151302,
          0.9165248381194471,
          -0.6368591137339633,
          0.7119659996376386,
          0.986580694631742,
          0.416081849948451,
          0.5352805242252674,
          0.5208318750173206,
          0.9571424944340965,
          -0.3901599757044315,
          -1.1401073992251733,
          0.3340180184206363,
          0.7406991050707952,
          0.4647617310146391,
          1.2959649906828112,
          -0.47230962246013475,
          0.1567297692468287,
          -0.37393093428584573,
          1.2767768262192751,
          0.3461111052548227,
          -1.022476851684093,
          0.6349317486094176,
          -0.15101842538131852,
          0.033728646201024046,
          0.2667964330454267,
          1.0629785526860123,
          -1.0917878409952968,
          -0.3582307526329137,
          0.5524824823445418,
          -1.0013894542109176,
          -1.9607511780597788,
          -2.7722741185384954,
          0.01864704728907342,
          0.6571359736547979,
          1.7367344460001817,
          0.32949603949899275,
          0.42953810085154065,
          -0.6237116485501133,
          0.20610138838812966,
          1.1257106532373393,
          0.07309187136866693,
          0.1825421452130804,
          -1.410613394522949,
          0.32020366902474606,
          -0.1891096779802458,
          1.1968104396498749
         ],
         "xaxis": "x12",
         "y": [
          0.13873828079658243,
          0.004189153867128753,
          0.09682297277796335,
          -1.944173718156881,
          -1.509648123220136,
          -0.2562642772096215,
          1.1425384061525947,
          1.8381697029094315,
          -0.89523389287459,
          -0.11167869593903061,
          1.868391686565969,
          0.926008375873174,
          -0.5375160643538771,
          -2.21354100606647,
          0.13758441049616993,
          -1.6127200438386537,
          0.836629941326483,
          0.982639029672047,
          -1.4267965171737238,
          -0.7340729325482471,
          0.33979196381839,
          -0.0975870854132879,
          -0.6148688825087985,
          0.5147673433285442,
          -0.9481706485625584,
          -0.04271544928766234,
          1.3243642261933142,
          -0.8546463501044619,
          -0.599297728305147,
          0.04548785985911168,
          -0.4811079491622432,
          -1.774406825632185,
          -0.7702693340792561,
          -0.4748276882281734,
          0.9768466741741556,
          0.6901701186316009,
          -0.3163663233169675,
          0.21287078406361903,
          1.136115798865693,
          0.33720867240916724,
          1.033480878886706,
          -0.185564645796627,
          -0.10859162252684647,
          0.0011082298498769818,
          -1.1007152668847089,
          0.590790643787503,
          0.7924839944953712,
          1.1310755853681902,
          0.20678821376316955,
          0.24112123763139306,
          1.2357128959168289,
          -0.49945309036356245,
          -0.3438373786786498,
          -1.974197190227374,
          -0.17757562574931995,
          -1.477475520667104,
          -1.3876057638569905,
          0.7462505236735426,
          -0.8287043340198685,
          -0.3133316893236558,
          0.055715575088475404,
          -1.9505041054363514,
          -0.7276070321344944,
          -0.34043567190802565,
          0.606938441762185,
          1.3179143702571974,
          -0.7809922643385032,
          -0.32097787481639667,
          0.4256234210720113,
          -0.07335408475851667,
          0.3671507620785513,
          0.02747103411586101,
          -0.03694446480914026,
          1.3688673794512007,
          1.0148027798988821,
          -0.39597774323778956,
          0.5455817623527611,
          -1.1833906968924781,
          0.5047148544381632,
          -0.9086647103866449,
          -0.5041775256575728,
          -3.2175858667536223,
          -1.4626369755166713,
          -0.8760406447373471,
          -1.5329422094336318,
          -0.07856244032320203,
          0.7258509590435329,
          -0.7169536298739123,
          0.47821301919925535,
          -1.6070953362840454,
          0.18492608791772172,
          0.4831953421913388,
          -0.46527559209292835,
          -0.057744579710930236,
          2.0151435673920908,
          -1.202496502277343,
          1.1154447255484976,
          -1.8995728472275581,
          -0.07759942120844565,
          0.5096943059187304
         ],
         "yaxis": "y12"
        },
        {
         "line": {
          "color": "rgba(128, 128, 128, 1.0)",
          "dash": "solid",
          "shape": "linear",
          "width": 1.3
         },
         "marker": {
          "size": 2,
          "symbol": "circle"
         },
         "mode": "markers",
         "name": "D",
         "text": "",
         "type": "scatter",
         "x": [
          -0.045220991541672514,
          0.6780430845497113,
          1.0057065998631551,
          -0.9728874120987261,
          -0.1429232842760107,
          1.2921833308681698,
          0.16399911560590277,
          0.5864133066083158,
          0.005048291501591372,
          0.18320948521328073,
          -2.49509747225579,
          1.3256859636637544,
          -1.6793176056440045,
          1.2723860638991833,
          1.578103990878968,
          1.6643859249494612,
          -0.7935622243303689,
          1.4753187604179476,
          -0.5171412718010686,
          1.2361846435347696,
          1.704522844836798,
          0.8695553230428329,
          0.04824931042202152,
          -0.5596124096097523,
          -1.1327010356287375,
          -1.406914574214415,
          -0.2760296743683121,
          0.8499750408369918,
          0.2733027589733112,
          -0.9270609774179835,
          -0.11937096459563867,
          -1.6341734716797336,
          -0.41805224566733007,
          0.050751069046720734,
          -0.20458127481769103,
          -2.014914541732928,
          1.1293271143962424,
          -0.535345544707788,
          0.7205565368377175,
          0.4434882575852396,
          2.287900075088307,
          0.8593080673185117,
          -0.8474654655180363,
          0.5740891945961737,
          0.866934071277127,
          1.6599286334175802,
          1.1413585505968555,
          -0.12489284454263366,
          1.0077112317489567,
          -0.8015057558969182,
          0.06322142018660247,
          0.02030583905367841,
          1.310214444831818,
          0.3220132314938279,
          -1.7460855703860538,
          1.4814702223140728,
          -0.8035722883805491,
          -0.8977913265652391,
          0.4834089731976079,
          1.4171127102051564,
          1.4755906750430359,
          2.0461501156802657,
          1.8315708147771137,
          -0.7776544535304498,
          0.9212441621689802,
          -1.070857782437202,
          0.2665485378678139,
          -0.2375412783190445,
          0.12928115685388808,
          -1.5094640119124836,
          0.36096311670622444,
          0.3449732335562818,
          0.9268319900465413,
          -0.8784088858281468,
          0.35568448009216114,
          -0.08607414252524906,
          1.213447359424447,
          1.220582787720631,
          -1.5714006178028541,
          0.3772038547775565,
          0.1836811429063996,
          0.23643055367021165,
          -0.14944956474447565,
          1.2660528101080524,
          -0.5669141209856902,
          -0.061203227869747794,
          -1.0152345093451074,
          -0.06490705351212794,
          -0.0967940059628407,
          0.4630555535765282,
          -1.5499008045555307,
          0.3662054810766103,
          1.3967190454514729,
          -1.2459338585587063,
          -0.4192847012410866,
          -0.9966152679852247,
          -0.8929790395801137,
          -0.375225580512482,
          1.11697358465709,
          0.22825455583325077
         ],
         "xaxis": "x13",
         "y": [
          -0.4337879491334362,
          0.7976012586008668,
          0.04679388847070139,
          0.8210509017025851,
          -0.47737624449913807,
          -2.7113749177309034,
          -0.3467805670259546,
          -0.9656770508426309,
          0.26838356597477203,
          1.111511291342199,
          -0.3724119499893848,
          -0.6879024860078657,
          0.12543381105475546,
          1.5141660057493092,
          0.0031518850461970446,
          -1.8862220831122953,
          -0.8366577378678488,
          0.24412695824901426,
          -0.29940606815106224,
          -1.108196501494843,
          -1.3682950024746594,
          -2.3631574734573317,
          -3.0855407392711185,
          -0.8490098793244223,
          -0.27307010329833803,
          -0.2364030920459769,
          0.6643850678309491,
          -0.3928846608662631,
          -1.1134663891849492,
          0.5259166824485958,
          1.2767655084421516,
          0.0354705094250525,
          -0.22469254344204675,
          1.6272211270560817,
          -0.414669543582508,
          0.7139322291458065,
          -2.470709743384897,
          1.5386164967793026,
          0.7160072919906816,
          0.1417813834395697,
          -0.4043862753593802,
          -1.8071493515932677,
          -1.3723541348893524,
          1.0948479544848693,
          0.9989596265551828,
          -0.6478008481453175,
          1.4124754326601883,
          0.4346882253946431,
          -0.7348738360323315,
          0.870683905831478,
          0.6579668551742296,
          -1.9940535889544115,
          -0.005078270571319728,
          1.3365837181328428,
          0.10899587834151302,
          0.9165248381194471,
          -0.6368591137339633,
          0.7119659996376386,
          0.986580694631742,
          0.416081849948451,
          0.5352805242252674,
          0.5208318750173206,
          0.9571424944340965,
          -0.3901599757044315,
          -1.1401073992251733,
          0.3340180184206363,
          0.7406991050707952,
          0.4647617310146391,
          1.2959649906828112,
          -0.47230962246013475,
          0.1567297692468287,
          -0.37393093428584573,
          1.2767768262192751,
          0.3461111052548227,
          -1.022476851684093,
          0.6349317486094176,
          -0.15101842538131852,
          0.033728646201024046,
          0.2667964330454267,
          1.0629785526860123,
          -1.0917878409952968,
          -0.3582307526329137,
          0.5524824823445418,
          -1.0013894542109176,
          -1.9607511780597788,
          -2.7722741185384954,
          0.01864704728907342,
          0.6571359736547979,
          1.7367344460001817,
          0.32949603949899275,
          0.42953810085154065,
          -0.6237116485501133,
          0.20610138838812966,
          1.1257106532373393,
          0.07309187136866693,
          0.1825421452130804,
          -1.410613394522949,
          0.32020366902474606,
          -0.1891096779802458,
          1.1968104396498749
         ],
         "yaxis": "y13"
        },
        {
         "line": {
          "color": "rgba(128, 128, 128, 1.0)",
          "dash": "solid",
          "shape": "linear",
          "width": 1.3
         },
         "marker": {
          "size": 2,
          "symbol": "circle"
         },
         "mode": "markers",
         "name": "D",
         "text": "",
         "type": "scatter",
         "x": [
          -0.013295768492124153,
          -0.27074517491106564,
          -0.48041519701937146,
          -0.15747940179591474,
          0.2558515658031597,
          -0.15662119891997725,
          0.3479723140894033,
          -0.15084375498932429,
          0.06228336036949375,
          0.9736025112157594,
          0.5402519563550914,
          0.8682305950906869,
          -0.65170589410664,
          0.678613203133178,
          -0.057432097459745896,
          0.6932633553636146,
          -1.9939719746754565,
          -2.002802721971022,
          0.25746993202325685,
          0.4889548095852013,
          -0.7168527223620486,
          -1.2923706473113479,
          -0.6753735457834736,
          0.9202025865444132,
          1.4670937547148066,
          0.18474639375151114,
          1.5237228427501046,
          0.6555734068239183,
          -1.6536292861970667,
          0.04987606236109394,
          0.7564239173991238,
          -1.215415085919389,
          -0.6904670180577785,
          0.8332193013800037,
          0.062395229603287104,
          3.115989368570276,
          -1.0011794943455687,
          0.29053598685344056,
          -0.029260709986795252,
          -0.37251804313432424,
          0.48538385105860427,
          -0.833960660422719,
          0.12828209855485537,
          -0.36647237774781805,
          -0.2562272216832282,
          0.2689613943245282,
          0.039384657809476246,
          0.9003688284552946,
          -0.03498553399708273,
          0.03852162330557176,
          1.4029672622615341,
          0.4722881623952208,
          -0.655692389374444,
          0.35094145422495787,
          2.025198109041344,
          0.6214822754704921,
          0.6995612430798638,
          0.3730785899429117,
          0.602967469726209,
          0.04571784171804009,
          0.3266369638556332,
          -0.31846827964026114,
          0.15383690822073517,
          -0.338144285317204,
          1.884543871930759,
          0.40335856103092854,
          0.4150036654412097,
          1.487026005753503,
          0.12374285847035515,
          0.8366685261562422,
          0.5795360711488374,
          1.614778779962535,
          -1.5065686107987333,
          1.5592396986044814,
          -0.32329791999507934,
          -0.9318225839805766,
          -1.1578286591490894,
          -0.041709953393487105,
          2.337128989736377,
          -0.5557500637748092,
          -0.801289268411741,
          -0.9626995069095104,
          -0.4290769015529991,
          1.6348652562575745,
          0.7716484917337753,
          -1.505387304121753,
          -0.15247950644685498,
          2.0875013582731077,
          0.8138442069099916,
          -0.5980676063757108,
          -1.0733335543265496,
          -0.5453515556217455,
          0.27422936109205454,
          0.40974088231107303,
          0.5706700018492756,
          -1.9690048686611612,
          0.3942186062027898,
          1.0710514434878289,
          -0.5441656857116004,
          -0.26082261070316265
         ],
         "xaxis": "x14",
         "y": [
          -0.4337879491334362,
          0.7976012586008668,
          0.04679388847070139,
          0.8210509017025851,
          -0.47737624449913807,
          -2.7113749177309034,
          -0.3467805670259546,
          -0.9656770508426309,
          0.26838356597477203,
          1.111511291342199,
          -0.3724119499893848,
          -0.6879024860078657,
          0.12543381105475546,
          1.5141660057493092,
          0.0031518850461970446,
          -1.8862220831122953,
          -0.8366577378678488,
          0.24412695824901426,
          -0.29940606815106224,
          -1.108196501494843,
          -1.3682950024746594,
          -2.3631574734573317,
          -3.0855407392711185,
          -0.8490098793244223,
          -0.27307010329833803,
          -0.2364030920459769,
          0.6643850678309491,
          -0.3928846608662631,
          -1.1134663891849492,
          0.5259166824485958,
          1.2767655084421516,
          0.0354705094250525,
          -0.22469254344204675,
          1.6272211270560817,
          -0.414669543582508,
          0.7139322291458065,
          -2.470709743384897,
          1.5386164967793026,
          0.7160072919906816,
          0.1417813834395697,
          -0.4043862753593802,
          -1.8071493515932677,
          -1.3723541348893524,
          1.0948479544848693,
          0.9989596265551828,
          -0.6478008481453175,
          1.4124754326601883,
          0.4346882253946431,
          -0.7348738360323315,
          0.870683905831478,
          0.6579668551742296,
          -1.9940535889544115,
          -0.005078270571319728,
          1.3365837181328428,
          0.10899587834151302,
          0.9165248381194471,
          -0.6368591137339633,
          0.7119659996376386,
          0.986580694631742,
          0.416081849948451,
          0.5352805242252674,
          0.5208318750173206,
          0.9571424944340965,
          -0.3901599757044315,
          -1.1401073992251733,
          0.3340180184206363,
          0.7406991050707952,
          0.4647617310146391,
          1.2959649906828112,
          -0.47230962246013475,
          0.1567297692468287,
          -0.37393093428584573,
          1.2767768262192751,
          0.3461111052548227,
          -1.022476851684093,
          0.6349317486094176,
          -0.15101842538131852,
          0.033728646201024046,
          0.2667964330454267,
          1.0629785526860123,
          -1.0917878409952968,
          -0.3582307526329137,
          0.5524824823445418,
          -1.0013894542109176,
          -1.9607511780597788,
          -2.7722741185384954,
          0.01864704728907342,
          0.6571359736547979,
          1.7367344460001817,
          0.32949603949899275,
          0.42953810085154065,
          -0.6237116485501133,
          0.20610138838812966,
          1.1257106532373393,
          0.07309187136866693,
          0.1825421452130804,
          -1.410613394522949,
          0.32020366902474606,
          -0.1891096779802458,
          1.1968104396498749
         ],
         "yaxis": "y14"
        },
        {
         "line": {
          "color": "rgba(128, 128, 128, 1.0)",
          "dash": "solid",
          "shape": "linear",
          "width": 1.3
         },
         "marker": {
          "size": 2,
          "symbol": "circle"
         },
         "mode": "markers",
         "name": "D",
         "text": "",
         "type": "scatter",
         "x": [
          0.13873828079658243,
          0.004189153867128753,
          0.09682297277796335,
          -1.944173718156881,
          -1.509648123220136,
          -0.2562642772096215,
          1.1425384061525947,
          1.8381697029094315,
          -0.89523389287459,
          -0.11167869593903061,
          1.868391686565969,
          0.926008375873174,
          -0.5375160643538771,
          -2.21354100606647,
          0.13758441049616993,
          -1.6127200438386537,
          0.836629941326483,
          0.982639029672047,
          -1.4267965171737238,
          -0.7340729325482471,
          0.33979196381839,
          -0.0975870854132879,
          -0.6148688825087985,
          0.5147673433285442,
          -0.9481706485625584,
          -0.04271544928766234,
          1.3243642261933142,
          -0.8546463501044619,
          -0.599297728305147,
          0.04548785985911168,
          -0.4811079491622432,
          -1.774406825632185,
          -0.7702693340792561,
          -0.4748276882281734,
          0.9768466741741556,
          0.6901701186316009,
          -0.3163663233169675,
          0.21287078406361903,
          1.136115798865693,
          0.33720867240916724,
          1.033480878886706,
          -0.185564645796627,
          -0.10859162252684647,
          0.0011082298498769818,
          -1.1007152668847089,
          0.590790643787503,
          0.7924839944953712,
          1.1310755853681902,
          0.20678821376316955,
          0.24112123763139306,
          1.2357128959168289,
          -0.49945309036356245,
          -0.3438373786786498,
          -1.974197190227374,
          -0.17757562574931995,
          -1.477475520667104,
          -1.3876057638569905,
          0.7462505236735426,
          -0.8287043340198685,
          -0.3133316893236558,
          0.055715575088475404,
          -1.9505041054363514,
          -0.7276070321344944,
          -0.34043567190802565,
          0.606938441762185,
          1.3179143702571974,
          -0.7809922643385032,
          -0.32097787481639667,
          0.4256234210720113,
          -0.07335408475851667,
          0.3671507620785513,
          0.02747103411586101,
          -0.03694446480914026,
          1.3688673794512007,
          1.0148027798988821,
          -0.39597774323778956,
          0.5455817623527611,
          -1.1833906968924781,
          0.5047148544381632,
          -0.9086647103866449,
          -0.5041775256575728,
          -3.2175858667536223,
          -1.4626369755166713,
          -0.8760406447373471,
          -1.5329422094336318,
          -0.07856244032320203,
          0.7258509590435329,
          -0.7169536298739123,
          0.47821301919925535,
          -1.6070953362840454,
          0.18492608791772172,
          0.4831953421913388,
          -0.46527559209292835,
          -0.057744579710930236,
          2.0151435673920908,
          -1.202496502277343,
          1.1154447255484976,
          -1.8995728472275581,
          -0.07759942120844565,
          0.5096943059187304
         ],
         "xaxis": "x15",
         "y": [
          -0.4337879491334362,
          0.7976012586008668,
          0.04679388847070139,
          0.8210509017025851,
          -0.47737624449913807,
          -2.7113749177309034,
          -0.3467805670259546,
          -0.9656770508426309,
          0.26838356597477203,
          1.111511291342199,
          -0.3724119499893848,
          -0.6879024860078657,
          0.12543381105475546,
          1.5141660057493092,
          0.0031518850461970446,
          -1.8862220831122953,
          -0.8366577378678488,
          0.24412695824901426,
          -0.29940606815106224,
          -1.108196501494843,
          -1.3682950024746594,
          -2.3631574734573317,
          -3.0855407392711185,
          -0.8490098793244223,
          -0.27307010329833803,
          -0.2364030920459769,
          0.6643850678309491,
          -0.3928846608662631,
          -1.1134663891849492,
          0.5259166824485958,
          1.2767655084421516,
          0.0354705094250525,
          -0.22469254344204675,
          1.6272211270560817,
          -0.414669543582508,
          0.7139322291458065,
          -2.470709743384897,
          1.5386164967793026,
          0.7160072919906816,
          0.1417813834395697,
          -0.4043862753593802,
          -1.8071493515932677,
          -1.3723541348893524,
          1.0948479544848693,
          0.9989596265551828,
          -0.6478008481453175,
          1.4124754326601883,
          0.4346882253946431,
          -0.7348738360323315,
          0.870683905831478,
          0.6579668551742296,
          -1.9940535889544115,
          -0.005078270571319728,
          1.3365837181328428,
          0.10899587834151302,
          0.9165248381194471,
          -0.6368591137339633,
          0.7119659996376386,
          0.986580694631742,
          0.416081849948451,
          0.5352805242252674,
          0.5208318750173206,
          0.9571424944340965,
          -0.3901599757044315,
          -1.1401073992251733,
          0.3340180184206363,
          0.7406991050707952,
          0.4647617310146391,
          1.2959649906828112,
          -0.47230962246013475,
          0.1567297692468287,
          -0.37393093428584573,
          1.2767768262192751,
          0.3461111052548227,
          -1.022476851684093,
          0.6349317486094176,
          -0.15101842538131852,
          0.033728646201024046,
          0.2667964330454267,
          1.0629785526860123,
          -1.0917878409952968,
          -0.3582307526329137,
          0.5524824823445418,
          -1.0013894542109176,
          -1.9607511780597788,
          -2.7722741185384954,
          0.01864704728907342,
          0.6571359736547979,
          1.7367344460001817,
          0.32949603949899275,
          0.42953810085154065,
          -0.6237116485501133,
          0.20610138838812966,
          1.1257106532373393,
          0.07309187136866693,
          0.1825421452130804,
          -1.410613394522949,
          0.32020366902474606,
          -0.1891096779802458,
          1.1968104396498749
         ],
         "yaxis": "y15"
        },
        {
         "histfunc": "count",
         "histnorm": "",
         "marker": {
          "color": "rgba(128, 0, 128, 1.0)",
          "line": {
           "color": "#4D5663",
           "width": 1.3
          }
         },
         "name": "D",
         "nbinsx": 10,
         "opacity": 0.8,
         "orientation": "v",
         "type": "histogram",
         "x": [
          -0.4337879491334362,
          0.7976012586008668,
          0.04679388847070139,
          0.8210509017025851,
          -0.47737624449913807,
          -2.7113749177309034,
          -0.3467805670259546,
          -0.9656770508426309,
          0.26838356597477203,
          1.111511291342199,
          -0.3724119499893848,
          -0.6879024860078657,
          0.12543381105475546,
          1.5141660057493092,
          0.0031518850461970446,
          -1.8862220831122953,
          -0.8366577378678488,
          0.24412695824901426,
          -0.29940606815106224,
          -1.108196501494843,
          -1.3682950024746594,
          -2.3631574734573317,
          -3.0855407392711185,
          -0.8490098793244223,
          -0.27307010329833803,
          -0.2364030920459769,
          0.6643850678309491,
          -0.3928846608662631,
          -1.1134663891849492,
          0.5259166824485958,
          1.2767655084421516,
          0.0354705094250525,
          -0.22469254344204675,
          1.6272211270560817,
          -0.414669543582508,
          0.7139322291458065,
          -2.470709743384897,
          1.5386164967793026,
          0.7160072919906816,
          0.1417813834395697,
          -0.4043862753593802,
          -1.8071493515932677,
          -1.3723541348893524,
          1.0948479544848693,
          0.9989596265551828,
          -0.6478008481453175,
          1.4124754326601883,
          0.4346882253946431,
          -0.7348738360323315,
          0.870683905831478,
          0.6579668551742296,
          -1.9940535889544115,
          -0.005078270571319728,
          1.3365837181328428,
          0.10899587834151302,
          0.9165248381194471,
          -0.6368591137339633,
          0.7119659996376386,
          0.986580694631742,
          0.416081849948451,
          0.5352805242252674,
          0.5208318750173206,
          0.9571424944340965,
          -0.3901599757044315,
          -1.1401073992251733,
          0.3340180184206363,
          0.7406991050707952,
          0.4647617310146391,
          1.2959649906828112,
          -0.47230962246013475,
          0.1567297692468287,
          -0.37393093428584573,
          1.2767768262192751,
          0.3461111052548227,
          -1.022476851684093,
          0.6349317486094176,
          -0.15101842538131852,
          0.033728646201024046,
          0.2667964330454267,
          1.0629785526860123,
          -1.0917878409952968,
          -0.3582307526329137,
          0.5524824823445418,
          -1.0013894542109176,
          -1.9607511780597788,
          -2.7722741185384954,
          0.01864704728907342,
          0.6571359736547979,
          1.7367344460001817,
          0.32949603949899275,
          0.42953810085154065,
          -0.6237116485501133,
          0.20610138838812966,
          1.1257106532373393,
          0.07309187136866693,
          0.1825421452130804,
          -1.410613394522949,
          0.32020366902474606,
          -0.1891096779802458,
          1.1968104396498749
         ],
         "xaxis": "x16",
         "yaxis": "y16"
        }
       ],
       "layout": {
        "bargap": 0.02,
        "legend": {
         "bgcolor": "#F5F6F9",
         "font": {
          "color": "#4D5663"
         }
        },
        "paper_bgcolor": "#F5F6F9",
        "plot_bgcolor": "#F5F6F9",
        "showlegend": false,
        "template": {
         "data": {
          "bar": [
           {
            "error_x": {
             "color": "#2a3f5f"
            },
            "error_y": {
             "color": "#2a3f5f"
            },
            "marker": {
             "line": {
              "color": "#E5ECF6",
              "width": 0.5
             }
            },
            "type": "bar"
           }
          ],
          "barpolar": [
           {
            "marker": {
             "line": {
              "color": "#E5ECF6",
              "width": 0.5
             }
            },
            "type": "barpolar"
           }
          ],
          "carpet": [
           {
            "aaxis": {
             "endlinecolor": "#2a3f5f",
             "gridcolor": "white",
             "linecolor": "white",
             "minorgridcolor": "white",
             "startlinecolor": "#2a3f5f"
            },
            "baxis": {
             "endlinecolor": "#2a3f5f",
             "gridcolor": "white",
             "linecolor": "white",
             "minorgridcolor": "white",
             "startlinecolor": "#2a3f5f"
            },
            "type": "carpet"
           }
          ],
          "choropleth": [
           {
            "colorbar": {
             "outlinewidth": 0,
             "ticks": ""
            },
            "type": "choropleth"
           }
          ],
          "contour": [
           {
            "colorbar": {
             "outlinewidth": 0,
             "ticks": ""
            },
            "colorscale": [
             [
              0,
              "#0d0887"
             ],
             [
              0.1111111111111111,
              "#46039f"
             ],
             [
              0.2222222222222222,
              "#7201a8"
             ],
             [
              0.3333333333333333,
              "#9c179e"
             ],
             [
              0.4444444444444444,
              "#bd3786"
             ],
             [
              0.5555555555555556,
              "#d8576b"
             ],
             [
              0.6666666666666666,
              "#ed7953"
             ],
             [
              0.7777777777777778,
              "#fb9f3a"
             ],
             [
              0.8888888888888888,
              "#fdca26"
             ],
             [
              1,
              "#f0f921"
             ]
            ],
            "type": "contour"
           }
          ],
          "contourcarpet": [
           {
            "colorbar": {
             "outlinewidth": 0,
             "ticks": ""
            },
            "type": "contourcarpet"
           }
          ],
          "heatmap": [
           {
            "colorbar": {
             "outlinewidth": 0,
             "ticks": ""
            },
            "colorscale": [
             [
              0,
              "#0d0887"
             ],
             [
              0.1111111111111111,
              "#46039f"
             ],
             [
              0.2222222222222222,
              "#7201a8"
             ],
             [
              0.3333333333333333,
              "#9c179e"
             ],
             [
              0.4444444444444444,
              "#bd3786"
             ],
             [
              0.5555555555555556,
              "#d8576b"
             ],
             [
              0.6666666666666666,
              "#ed7953"
             ],
             [
              0.7777777777777778,
              "#fb9f3a"
             ],
             [
              0.8888888888888888,
              "#fdca26"
             ],
             [
              1,
              "#f0f921"
             ]
            ],
            "type": "heatmap"
           }
          ],
          "heatmapgl": [
           {
            "colorbar": {
             "outlinewidth": 0,
             "ticks": ""
            },
            "colorscale": [
             [
              0,
              "#0d0887"
             ],
             [
              0.1111111111111111,
              "#46039f"
             ],
             [
              0.2222222222222222,
              "#7201a8"
             ],
             [
              0.3333333333333333,
              "#9c179e"
             ],
             [
              0.4444444444444444,
              "#bd3786"
             ],
             [
              0.5555555555555556,
              "#d8576b"
             ],
             [
              0.6666666666666666,
              "#ed7953"
             ],
             [
              0.7777777777777778,
              "#fb9f3a"
             ],
             [
              0.8888888888888888,
              "#fdca26"
             ],
             [
              1,
              "#f0f921"
             ]
            ],
            "type": "heatmapgl"
           }
          ],
          "histogram": [
           {
            "marker": {
             "colorbar": {
              "outlinewidth": 0,
              "ticks": ""
             }
            },
            "type": "histogram"
           }
          ],
          "histogram2d": [
           {
            "colorbar": {
             "outlinewidth": 0,
             "ticks": ""
            },
            "colorscale": [
             [
              0,
              "#0d0887"
             ],
             [
              0.1111111111111111,
              "#46039f"
             ],
             [
              0.2222222222222222,
              "#7201a8"
             ],
             [
              0.3333333333333333,
              "#9c179e"
             ],
             [
              0.4444444444444444,
              "#bd3786"
             ],
             [
              0.5555555555555556,
              "#d8576b"
             ],
             [
              0.6666666666666666,
              "#ed7953"
             ],
             [
              0.7777777777777778,
              "#fb9f3a"
             ],
             [
              0.8888888888888888,
              "#fdca26"
             ],
             [
              1,
              "#f0f921"
             ]
            ],
            "type": "histogram2d"
           }
          ],
          "histogram2dcontour": [
           {
            "colorbar": {
             "outlinewidth": 0,
             "ticks": ""
            },
            "colorscale": [
             [
              0,
              "#0d0887"
             ],
             [
              0.1111111111111111,
              "#46039f"
             ],
             [
              0.2222222222222222,
              "#7201a8"
             ],
             [
              0.3333333333333333,
              "#9c179e"
             ],
             [
              0.4444444444444444,
              "#bd3786"
             ],
             [
              0.5555555555555556,
              "#d8576b"
             ],
             [
              0.6666666666666666,
              "#ed7953"
             ],
             [
              0.7777777777777778,
              "#fb9f3a"
             ],
             [
              0.8888888888888888,
              "#fdca26"
             ],
             [
              1,
              "#f0f921"
             ]
            ],
            "type": "histogram2dcontour"
           }
          ],
          "mesh3d": [
           {
            "colorbar": {
             "outlinewidth": 0,
             "ticks": ""
            },
            "type": "mesh3d"
           }
          ],
          "parcoords": [
           {
            "line": {
             "colorbar": {
              "outlinewidth": 0,
              "ticks": ""
             }
            },
            "type": "parcoords"
           }
          ],
          "pie": [
           {
            "automargin": true,
            "type": "pie"
           }
          ],
          "scatter": [
           {
            "marker": {
             "colorbar": {
              "outlinewidth": 0,
              "ticks": ""
             }
            },
            "type": "scatter"
           }
          ],
          "scatter3d": [
           {
            "line": {
             "colorbar": {
              "outlinewidth": 0,
              "ticks": ""
             }
            },
            "marker": {
             "colorbar": {
              "outlinewidth": 0,
              "ticks": ""
             }
            },
            "type": "scatter3d"
           }
          ],
          "scattercarpet": [
           {
            "marker": {
             "colorbar": {
              "outlinewidth": 0,
              "ticks": ""
             }
            },
            "type": "scattercarpet"
           }
          ],
          "scattergeo": [
           {
            "marker": {
             "colorbar": {
              "outlinewidth": 0,
              "ticks": ""
             }
            },
            "type": "scattergeo"
           }
          ],
          "scattergl": [
           {
            "marker": {
             "colorbar": {
              "outlinewidth": 0,
              "ticks": ""
             }
            },
            "type": "scattergl"
           }
          ],
          "scattermapbox": [
           {
            "marker": {
             "colorbar": {
              "outlinewidth": 0,
              "ticks": ""
             }
            },
            "type": "scattermapbox"
           }
          ],
          "scatterpolar": [
           {
            "marker": {
             "colorbar": {
              "outlinewidth": 0,
              "ticks": ""
             }
            },
            "type": "scatterpolar"
           }
          ],
          "scatterpolargl": [
           {
            "marker": {
             "colorbar": {
              "outlinewidth": 0,
              "ticks": ""
             }
            },
            "type": "scatterpolargl"
           }
          ],
          "scatterternary": [
           {
            "marker": {
             "colorbar": {
              "outlinewidth": 0,
              "ticks": ""
             }
            },
            "type": "scatterternary"
           }
          ],
          "surface": [
           {
            "colorbar": {
             "outlinewidth": 0,
             "ticks": ""
            },
            "colorscale": [
             [
              0,
              "#0d0887"
             ],
             [
              0.1111111111111111,
              "#46039f"
             ],
             [
              0.2222222222222222,
              "#7201a8"
             ],
             [
              0.3333333333333333,
              "#9c179e"
             ],
             [
              0.4444444444444444,
              "#bd3786"
             ],
             [
              0.5555555555555556,
              "#d8576b"
             ],
             [
              0.6666666666666666,
              "#ed7953"
             ],
             [
              0.7777777777777778,
              "#fb9f3a"
             ],
             [
              0.8888888888888888,
              "#fdca26"
             ],
             [
              1,
              "#f0f921"
             ]
            ],
            "type": "surface"
           }
          ],
          "table": [
           {
            "cells": {
             "fill": {
              "color": "#EBF0F8"
             },
             "line": {
              "color": "white"
             }
            },
            "header": {
             "fill": {
              "color": "#C8D4E3"
             },
             "line": {
              "color": "white"
             }
            },
            "type": "table"
           }
          ]
         },
         "layout": {
          "annotationdefaults": {
           "arrowcolor": "#2a3f5f",
           "arrowhead": 0,
           "arrowwidth": 1
          },
          "coloraxis": {
           "colorbar": {
            "outlinewidth": 0,
            "ticks": ""
           }
          },
          "colorscale": {
           "diverging": [
            [
             0,
             "#8e0152"
            ],
            [
             0.1,
             "#c51b7d"
            ],
            [
             0.2,
             "#de77ae"
            ],
            [
             0.3,
             "#f1b6da"
            ],
            [
             0.4,
             "#fde0ef"
            ],
            [
             0.5,
             "#f7f7f7"
            ],
            [
             0.6,
             "#e6f5d0"
            ],
            [
             0.7,
             "#b8e186"
            ],
            [
             0.8,
             "#7fbc41"
            ],
            [
             0.9,
             "#4d9221"
            ],
            [
             1,
             "#276419"
            ]
           ],
           "sequential": [
            [
             0,
             "#0d0887"
            ],
            [
             0.1111111111111111,
             "#46039f"
            ],
            [
             0.2222222222222222,
             "#7201a8"
            ],
            [
             0.3333333333333333,
             "#9c179e"
            ],
            [
             0.4444444444444444,
             "#bd3786"
            ],
            [
             0.5555555555555556,
             "#d8576b"
            ],
            [
             0.6666666666666666,
             "#ed7953"
            ],
            [
             0.7777777777777778,
             "#fb9f3a"
            ],
            [
             0.8888888888888888,
             "#fdca26"
            ],
            [
             1,
             "#f0f921"
            ]
           ],
           "sequentialminus": [
            [
             0,
             "#0d0887"
            ],
            [
             0.1111111111111111,
             "#46039f"
            ],
            [
             0.2222222222222222,
             "#7201a8"
            ],
            [
             0.3333333333333333,
             "#9c179e"
            ],
            [
             0.4444444444444444,
             "#bd3786"
            ],
            [
             0.5555555555555556,
             "#d8576b"
            ],
            [
             0.6666666666666666,
             "#ed7953"
            ],
            [
             0.7777777777777778,
             "#fb9f3a"
            ],
            [
             0.8888888888888888,
             "#fdca26"
            ],
            [
             1,
             "#f0f921"
            ]
           ]
          },
          "colorway": [
           "#636efa",
           "#EF553B",
           "#00cc96",
           "#ab63fa",
           "#FFA15A",
           "#19d3f3",
           "#FF6692",
           "#B6E880",
           "#FF97FF",
           "#FECB52"
          ],
          "font": {
           "color": "#2a3f5f"
          },
          "geo": {
           "bgcolor": "white",
           "lakecolor": "white",
           "landcolor": "#E5ECF6",
           "showlakes": true,
           "showland": true,
           "subunitcolor": "white"
          },
          "hoverlabel": {
           "align": "left"
          },
          "hovermode": "closest",
          "mapbox": {
           "style": "light"
          },
          "paper_bgcolor": "white",
          "plot_bgcolor": "#E5ECF6",
          "polar": {
           "angularaxis": {
            "gridcolor": "white",
            "linecolor": "white",
            "ticks": ""
           },
           "bgcolor": "#E5ECF6",
           "radialaxis": {
            "gridcolor": "white",
            "linecolor": "white",
            "ticks": ""
           }
          },
          "scene": {
           "xaxis": {
            "backgroundcolor": "#E5ECF6",
            "gridcolor": "white",
            "gridwidth": 2,
            "linecolor": "white",
            "showbackground": true,
            "ticks": "",
            "zerolinecolor": "white"
           },
           "yaxis": {
            "backgroundcolor": "#E5ECF6",
            "gridcolor": "white",
            "gridwidth": 2,
            "linecolor": "white",
            "showbackground": true,
            "ticks": "",
            "zerolinecolor": "white"
           },
           "zaxis": {
            "backgroundcolor": "#E5ECF6",
            "gridcolor": "white",
            "gridwidth": 2,
            "linecolor": "white",
            "showbackground": true,
            "ticks": "",
            "zerolinecolor": "white"
           }
          },
          "shapedefaults": {
           "line": {
            "color": "#2a3f5f"
           }
          },
          "ternary": {
           "aaxis": {
            "gridcolor": "white",
            "linecolor": "white",
            "ticks": ""
           },
           "baxis": {
            "gridcolor": "white",
            "linecolor": "white",
            "ticks": ""
           },
           "bgcolor": "#E5ECF6",
           "caxis": {
            "gridcolor": "white",
            "linecolor": "white",
            "ticks": ""
           }
          },
          "title": {
           "x": 0.05
          },
          "xaxis": {
           "automargin": true,
           "gridcolor": "white",
           "linecolor": "white",
           "ticks": "",
           "title": {
            "standoff": 15
           },
           "zerolinecolor": "white",
           "zerolinewidth": 2
          },
          "yaxis": {
           "automargin": true,
           "gridcolor": "white",
           "linecolor": "white",
           "ticks": "",
           "title": {
            "standoff": 15
           },
           "zerolinecolor": "white",
           "zerolinewidth": 2
          }
         }
        },
        "title": {
         "font": {
          "color": "#4D5663"
         }
        },
        "xaxis": {
         "anchor": "y",
         "domain": [
          0,
          0.2125
         ],
         "gridcolor": "#E1E5ED",
         "showgrid": false,
         "tickfont": {
          "color": "#4D5663"
         },
         "title": {
          "font": {
           "color": "#4D5663"
          },
          "text": ""
         },
         "zerolinecolor": "#E1E5ED"
        },
        "xaxis10": {
         "anchor": "y10",
         "domain": [
          0.2625,
          0.475
         ],
         "gridcolor": "#E1E5ED",
         "showgrid": false,
         "tickfont": {
          "color": "#4D5663"
         },
         "title": {
          "font": {
           "color": "#4D5663"
          },
          "text": ""
         },
         "zerolinecolor": "#E1E5ED"
        },
        "xaxis11": {
         "anchor": "y11",
         "domain": [
          0.525,
          0.7375
         ],
         "gridcolor": "#E1E5ED",
         "showgrid": false,
         "tickfont": {
          "color": "#4D5663"
         },
         "title": {
          "font": {
           "color": "#4D5663"
          },
          "text": ""
         },
         "zerolinecolor": "#E1E5ED"
        },
        "xaxis12": {
         "anchor": "y12",
         "domain": [
          0.7875,
          1
         ],
         "gridcolor": "#E1E5ED",
         "showgrid": false,
         "tickfont": {
          "color": "#4D5663"
         },
         "title": {
          "font": {
           "color": "#4D5663"
          },
          "text": ""
         },
         "zerolinecolor": "#E1E5ED"
        },
        "xaxis13": {
         "anchor": "y13",
         "domain": [
          0,
          0.2125
         ],
         "gridcolor": "#E1E5ED",
         "showgrid": false,
         "tickfont": {
          "color": "#4D5663"
         },
         "title": {
          "font": {
           "color": "#4D5663"
          },
          "text": ""
         },
         "zerolinecolor": "#E1E5ED"
        },
        "xaxis14": {
         "anchor": "y14",
         "domain": [
          0.2625,
          0.475
         ],
         "gridcolor": "#E1E5ED",
         "showgrid": false,
         "tickfont": {
          "color": "#4D5663"
         },
         "title": {
          "font": {
           "color": "#4D5663"
          },
          "text": ""
         },
         "zerolinecolor": "#E1E5ED"
        },
        "xaxis15": {
         "anchor": "y15",
         "domain": [
          0.525,
          0.7375
         ],
         "gridcolor": "#E1E5ED",
         "showgrid": false,
         "tickfont": {
          "color": "#4D5663"
         },
         "title": {
          "font": {
           "color": "#4D5663"
          },
          "text": ""
         },
         "zerolinecolor": "#E1E5ED"
        },
        "xaxis16": {
         "anchor": "y16",
         "domain": [
          0.7875,
          1
         ],
         "gridcolor": "#E1E5ED",
         "showgrid": false,
         "tickfont": {
          "color": "#4D5663"
         },
         "title": {
          "font": {
           "color": "#4D5663"
          },
          "text": ""
         },
         "zerolinecolor": "#E1E5ED"
        },
        "xaxis2": {
         "anchor": "y2",
         "domain": [
          0.2625,
          0.475
         ],
         "gridcolor": "#E1E5ED",
         "showgrid": false,
         "tickfont": {
          "color": "#4D5663"
         },
         "title": {
          "font": {
           "color": "#4D5663"
          },
          "text": ""
         },
         "zerolinecolor": "#E1E5ED"
        },
        "xaxis3": {
         "anchor": "y3",
         "domain": [
          0.525,
          0.7375
         ],
         "gridcolor": "#E1E5ED",
         "showgrid": false,
         "tickfont": {
          "color": "#4D5663"
         },
         "title": {
          "font": {
           "color": "#4D5663"
          },
          "text": ""
         },
         "zerolinecolor": "#E1E5ED"
        },
        "xaxis4": {
         "anchor": "y4",
         "domain": [
          0.7875,
          1
         ],
         "gridcolor": "#E1E5ED",
         "showgrid": false,
         "tickfont": {
          "color": "#4D5663"
         },
         "title": {
          "font": {
           "color": "#4D5663"
          },
          "text": ""
         },
         "zerolinecolor": "#E1E5ED"
        },
        "xaxis5": {
         "anchor": "y5",
         "domain": [
          0,
          0.2125
         ],
         "gridcolor": "#E1E5ED",
         "showgrid": false,
         "tickfont": {
          "color": "#4D5663"
         },
         "title": {
          "font": {
           "color": "#4D5663"
          },
          "text": ""
         },
         "zerolinecolor": "#E1E5ED"
        },
        "xaxis6": {
         "anchor": "y6",
         "domain": [
          0.2625,
          0.475
         ],
         "gridcolor": "#E1E5ED",
         "showgrid": false,
         "tickfont": {
          "color": "#4D5663"
         },
         "title": {
          "font": {
           "color": "#4D5663"
          },
          "text": ""
         },
         "zerolinecolor": "#E1E5ED"
        },
        "xaxis7": {
         "anchor": "y7",
         "domain": [
          0.525,
          0.7375
         ],
         "gridcolor": "#E1E5ED",
         "showgrid": false,
         "tickfont": {
          "color": "#4D5663"
         },
         "title": {
          "font": {
           "color": "#4D5663"
          },
          "text": ""
         },
         "zerolinecolor": "#E1E5ED"
        },
        "xaxis8": {
         "anchor": "y8",
         "domain": [
          0.7875,
          1
         ],
         "gridcolor": "#E1E5ED",
         "showgrid": false,
         "tickfont": {
          "color": "#4D5663"
         },
         "title": {
          "font": {
           "color": "#4D5663"
          },
          "text": ""
         },
         "zerolinecolor": "#E1E5ED"
        },
        "xaxis9": {
         "anchor": "y9",
         "domain": [
          0,
          0.2125
         ],
         "gridcolor": "#E1E5ED",
         "showgrid": false,
         "tickfont": {
          "color": "#4D5663"
         },
         "title": {
          "font": {
           "color": "#4D5663"
          },
          "text": ""
         },
         "zerolinecolor": "#E1E5ED"
        },
        "yaxis": {
         "anchor": "x",
         "domain": [
          0.8025,
          1
         ],
         "gridcolor": "#E1E5ED",
         "showgrid": false,
         "tickfont": {
          "color": "#4D5663"
         },
         "title": {
          "font": {
           "color": "#4D5663"
          },
          "text": ""
         },
         "zerolinecolor": "#E1E5ED"
        },
        "yaxis10": {
         "anchor": "x10",
         "domain": [
          0.2675,
          0.465
         ],
         "gridcolor": "#E1E5ED",
         "showgrid": false,
         "tickfont": {
          "color": "#4D5663"
         },
         "title": {
          "font": {
           "color": "#4D5663"
          },
          "text": ""
         },
         "zerolinecolor": "#E1E5ED"
        },
        "yaxis11": {
         "anchor": "x11",
         "domain": [
          0.2675,
          0.465
         ],
         "gridcolor": "#E1E5ED",
         "showgrid": false,
         "tickfont": {
          "color": "#4D5663"
         },
         "title": {
          "font": {
           "color": "#4D5663"
          },
          "text": ""
         },
         "zerolinecolor": "#E1E5ED"
        },
        "yaxis12": {
         "anchor": "x12",
         "domain": [
          0.2675,
          0.465
         ],
         "gridcolor": "#E1E5ED",
         "showgrid": false,
         "tickfont": {
          "color": "#4D5663"
         },
         "title": {
          "font": {
           "color": "#4D5663"
          },
          "text": ""
         },
         "zerolinecolor": "#E1E5ED"
        },
        "yaxis13": {
         "anchor": "x13",
         "domain": [
          0,
          0.1975
         ],
         "gridcolor": "#E1E5ED",
         "showgrid": false,
         "tickfont": {
          "color": "#4D5663"
         },
         "title": {
          "font": {
           "color": "#4D5663"
          },
          "text": ""
         },
         "zerolinecolor": "#E1E5ED"
        },
        "yaxis14": {
         "anchor": "x14",
         "domain": [
          0,
          0.1975
         ],
         "gridcolor": "#E1E5ED",
         "showgrid": false,
         "tickfont": {
          "color": "#4D5663"
         },
         "title": {
          "font": {
           "color": "#4D5663"
          },
          "text": ""
         },
         "zerolinecolor": "#E1E5ED"
        },
        "yaxis15": {
         "anchor": "x15",
         "domain": [
          0,
          0.1975
         ],
         "gridcolor": "#E1E5ED",
         "showgrid": false,
         "tickfont": {
          "color": "#4D5663"
         },
         "title": {
          "font": {
           "color": "#4D5663"
          },
          "text": ""
         },
         "zerolinecolor": "#E1E5ED"
        },
        "yaxis16": {
         "anchor": "x16",
         "domain": [
          0,
          0.1975
         ],
         "gridcolor": "#E1E5ED",
         "showgrid": false,
         "tickfont": {
          "color": "#4D5663"
         },
         "title": {
          "font": {
           "color": "#4D5663"
          },
          "text": ""
         },
         "zerolinecolor": "#E1E5ED"
        },
        "yaxis2": {
         "anchor": "x2",
         "domain": [
          0.8025,
          1
         ],
         "gridcolor": "#E1E5ED",
         "showgrid": false,
         "tickfont": {
          "color": "#4D5663"
         },
         "title": {
          "font": {
           "color": "#4D5663"
          },
          "text": ""
         },
         "zerolinecolor": "#E1E5ED"
        },
        "yaxis3": {
         "anchor": "x3",
         "domain": [
          0.8025,
          1
         ],
         "gridcolor": "#E1E5ED",
         "showgrid": false,
         "tickfont": {
          "color": "#4D5663"
         },
         "title": {
          "font": {
           "color": "#4D5663"
          },
          "text": ""
         },
         "zerolinecolor": "#E1E5ED"
        },
        "yaxis4": {
         "anchor": "x4",
         "domain": [
          0.8025,
          1
         ],
         "gridcolor": "#E1E5ED",
         "showgrid": false,
         "tickfont": {
          "color": "#4D5663"
         },
         "title": {
          "font": {
           "color": "#4D5663"
          },
          "text": ""
         },
         "zerolinecolor": "#E1E5ED"
        },
        "yaxis5": {
         "anchor": "x5",
         "domain": [
          0.535,
          0.7325
         ],
         "gridcolor": "#E1E5ED",
         "showgrid": false,
         "tickfont": {
          "color": "#4D5663"
         },
         "title": {
          "font": {
           "color": "#4D5663"
          },
          "text": ""
         },
         "zerolinecolor": "#E1E5ED"
        },
        "yaxis6": {
         "anchor": "x6",
         "domain": [
          0.535,
          0.7325
         ],
         "gridcolor": "#E1E5ED",
         "showgrid": false,
         "tickfont": {
          "color": "#4D5663"
         },
         "title": {
          "font": {
           "color": "#4D5663"
          },
          "text": ""
         },
         "zerolinecolor": "#E1E5ED"
        },
        "yaxis7": {
         "anchor": "x7",
         "domain": [
          0.535,
          0.7325
         ],
         "gridcolor": "#E1E5ED",
         "showgrid": false,
         "tickfont": {
          "color": "#4D5663"
         },
         "title": {
          "font": {
           "color": "#4D5663"
          },
          "text": ""
         },
         "zerolinecolor": "#E1E5ED"
        },
        "yaxis8": {
         "anchor": "x8",
         "domain": [
          0.535,
          0.7325
         ],
         "gridcolor": "#E1E5ED",
         "showgrid": false,
         "tickfont": {
          "color": "#4D5663"
         },
         "title": {
          "font": {
           "color": "#4D5663"
          },
          "text": ""
         },
         "zerolinecolor": "#E1E5ED"
        },
        "yaxis9": {
         "anchor": "x9",
         "domain": [
          0.2675,
          0.465
         ],
         "gridcolor": "#E1E5ED",
         "showgrid": false,
         "tickfont": {
          "color": "#4D5663"
         },
         "title": {
          "font": {
           "color": "#4D5663"
          },
          "text": ""
         },
         "zerolinecolor": "#E1E5ED"
        }
       }
      },
      "text/html": [
       "<div>\n",
       "        \n",
       "        \n",
       "            <div id=\"6e327cb1-d03b-4bcf-ba62-395e14cda378\" class=\"plotly-graph-div\" style=\"height:525px; width:100%;\"></div>\n",
       "            <script type=\"text/javascript\">\n",
       "                require([\"plotly\"], function(Plotly) {\n",
       "                    window.PLOTLYENV=window.PLOTLYENV || {};\n",
       "                    window.PLOTLYENV.BASE_URL='https://plot.ly';\n",
       "                    \n",
       "                if (document.getElementById(\"6e327cb1-d03b-4bcf-ba62-395e14cda378\")) {\n",
       "                    Plotly.newPlot(\n",
       "                        '6e327cb1-d03b-4bcf-ba62-395e14cda378',\n",
       "                        [{\"histfunc\": \"count\", \"histnorm\": \"\", \"marker\": {\"color\": \"rgba(255, 153, 51, 1.0)\", \"line\": {\"color\": \"#4D5663\", \"width\": 1.3}}, \"name\": \"A\", \"nbinsx\": 10, \"opacity\": 0.8, \"orientation\": \"v\", \"type\": \"histogram\", \"x\": [-0.045220991541672514, 0.6780430845497113, 1.0057065998631551, -0.9728874120987261, -0.1429232842760107, 1.2921833308681698, 0.16399911560590277, 0.5864133066083158, 0.005048291501591372, 0.18320948521328073, -2.49509747225579, 1.3256859636637544, -1.6793176056440045, 1.2723860638991833, 1.578103990878968, 1.6643859249494612, -0.7935622243303689, 1.4753187604179476, -0.5171412718010686, 1.2361846435347696, 1.704522844836798, 0.8695553230428329, 0.04824931042202152, -0.5596124096097523, -1.1327010356287375, -1.406914574214415, -0.2760296743683121, 0.8499750408369918, 0.2733027589733112, -0.9270609774179835, -0.11937096459563867, -1.6341734716797336, -0.41805224566733007, 0.050751069046720734, -0.20458127481769103, -2.014914541732928, 1.1293271143962424, -0.535345544707788, 0.7205565368377175, 0.4434882575852396, 2.287900075088307, 0.8593080673185117, -0.8474654655180363, 0.5740891945961737, 0.866934071277127, 1.6599286334175802, 1.1413585505968555, -0.12489284454263366, 1.0077112317489567, -0.8015057558969182, 0.06322142018660247, 0.02030583905367841, 1.310214444831818, 0.3220132314938279, -1.7460855703860538, 1.4814702223140728, -0.8035722883805491, -0.8977913265652391, 0.4834089731976079, 1.4171127102051564, 1.4755906750430359, 2.0461501156802657, 1.8315708147771137, -0.7776544535304498, 0.9212441621689802, -1.070857782437202, 0.2665485378678139, -0.2375412783190445, 0.12928115685388808, -1.5094640119124836, 0.36096311670622444, 0.3449732335562818, 0.9268319900465413, -0.8784088858281468, 0.35568448009216114, -0.08607414252524906, 1.213447359424447, 1.220582787720631, -1.5714006178028541, 0.3772038547775565, 0.1836811429063996, 0.23643055367021165, -0.14944956474447565, 1.2660528101080524, -0.5669141209856902, -0.061203227869747794, -1.0152345093451074, -0.06490705351212794, -0.0967940059628407, 0.4630555535765282, -1.5499008045555307, 0.3662054810766103, 1.3967190454514729, -1.2459338585587063, -0.4192847012410866, -0.9966152679852247, -0.8929790395801137, -0.375225580512482, 1.11697358465709, 0.22825455583325077], \"xaxis\": \"x\", \"yaxis\": \"y\"}, {\"line\": {\"color\": \"rgba(128, 128, 128, 1.0)\", \"dash\": \"solid\", \"shape\": \"linear\", \"width\": 1.3}, \"marker\": {\"size\": 2, \"symbol\": \"circle\"}, \"mode\": \"markers\", \"name\": \"A\", \"text\": \"\", \"type\": \"scatter\", \"x\": [-0.013295768492124153, -0.27074517491106564, -0.48041519701937146, -0.15747940179591474, 0.2558515658031597, -0.15662119891997725, 0.3479723140894033, -0.15084375498932429, 0.06228336036949375, 0.9736025112157594, 0.5402519563550914, 0.8682305950906869, -0.65170589410664, 0.678613203133178, -0.057432097459745896, 0.6932633553636146, -1.9939719746754565, -2.002802721971022, 0.25746993202325685, 0.4889548095852013, -0.7168527223620486, -1.2923706473113479, -0.6753735457834736, 0.9202025865444132, 1.4670937547148066, 0.18474639375151114, 1.5237228427501046, 0.6555734068239183, -1.6536292861970667, 0.04987606236109394, 0.7564239173991238, -1.215415085919389, -0.6904670180577785, 0.8332193013800037, 0.062395229603287104, 3.115989368570276, -1.0011794943455687, 0.29053598685344056, -0.029260709986795252, -0.37251804313432424, 0.48538385105860427, -0.833960660422719, 0.12828209855485537, -0.36647237774781805, -0.2562272216832282, 0.2689613943245282, 0.039384657809476246, 0.9003688284552946, -0.03498553399708273, 0.03852162330557176, 1.4029672622615341, 0.4722881623952208, -0.655692389374444, 0.35094145422495787, 2.025198109041344, 0.6214822754704921, 0.6995612430798638, 0.3730785899429117, 0.602967469726209, 0.04571784171804009, 0.3266369638556332, -0.31846827964026114, 0.15383690822073517, -0.338144285317204, 1.884543871930759, 0.40335856103092854, 0.4150036654412097, 1.487026005753503, 0.12374285847035515, 0.8366685261562422, 0.5795360711488374, 1.614778779962535, -1.5065686107987333, 1.5592396986044814, -0.32329791999507934, -0.9318225839805766, -1.1578286591490894, -0.041709953393487105, 2.337128989736377, -0.5557500637748092, -0.801289268411741, -0.9626995069095104, -0.4290769015529991, 1.6348652562575745, 0.7716484917337753, -1.505387304121753, -0.15247950644685498, 2.0875013582731077, 0.8138442069099916, -0.5980676063757108, -1.0733335543265496, -0.5453515556217455, 0.27422936109205454, 0.40974088231107303, 0.5706700018492756, -1.9690048686611612, 0.3942186062027898, 1.0710514434878289, -0.5441656857116004, -0.26082261070316265], \"xaxis\": \"x2\", \"y\": [-0.045220991541672514, 0.6780430845497113, 1.0057065998631551, -0.9728874120987261, -0.1429232842760107, 1.2921833308681698, 0.16399911560590277, 0.5864133066083158, 0.005048291501591372, 0.18320948521328073, -2.49509747225579, 1.3256859636637544, -1.6793176056440045, 1.2723860638991833, 1.578103990878968, 1.6643859249494612, -0.7935622243303689, 1.4753187604179476, -0.5171412718010686, 1.2361846435347696, 1.704522844836798, 0.8695553230428329, 0.04824931042202152, -0.5596124096097523, -1.1327010356287375, -1.406914574214415, -0.2760296743683121, 0.8499750408369918, 0.2733027589733112, -0.9270609774179835, -0.11937096459563867, -1.6341734716797336, -0.41805224566733007, 0.050751069046720734, -0.20458127481769103, -2.014914541732928, 1.1293271143962424, -0.535345544707788, 0.7205565368377175, 0.4434882575852396, 2.287900075088307, 0.8593080673185117, -0.8474654655180363, 0.5740891945961737, 0.866934071277127, 1.6599286334175802, 1.1413585505968555, -0.12489284454263366, 1.0077112317489567, -0.8015057558969182, 0.06322142018660247, 0.02030583905367841, 1.310214444831818, 0.3220132314938279, -1.7460855703860538, 1.4814702223140728, -0.8035722883805491, -0.8977913265652391, 0.4834089731976079, 1.4171127102051564, 1.4755906750430359, 2.0461501156802657, 1.8315708147771137, -0.7776544535304498, 0.9212441621689802, -1.070857782437202, 0.2665485378678139, -0.2375412783190445, 0.12928115685388808, -1.5094640119124836, 0.36096311670622444, 0.3449732335562818, 0.9268319900465413, -0.8784088858281468, 0.35568448009216114, -0.08607414252524906, 1.213447359424447, 1.220582787720631, -1.5714006178028541, 0.3772038547775565, 0.1836811429063996, 0.23643055367021165, -0.14944956474447565, 1.2660528101080524, -0.5669141209856902, -0.061203227869747794, -1.0152345093451074, -0.06490705351212794, -0.0967940059628407, 0.4630555535765282, -1.5499008045555307, 0.3662054810766103, 1.3967190454514729, -1.2459338585587063, -0.4192847012410866, -0.9966152679852247, -0.8929790395801137, -0.375225580512482, 1.11697358465709, 0.22825455583325077], \"yaxis\": \"y2\"}, {\"line\": {\"color\": \"rgba(128, 128, 128, 1.0)\", \"dash\": \"solid\", \"shape\": \"linear\", \"width\": 1.3}, \"marker\": {\"size\": 2, \"symbol\": \"circle\"}, \"mode\": \"markers\", \"name\": \"A\", \"text\": \"\", \"type\": \"scatter\", \"x\": [0.13873828079658243, 0.004189153867128753, 0.09682297277796335, -1.944173718156881, -1.509648123220136, -0.2562642772096215, 1.1425384061525947, 1.8381697029094315, -0.89523389287459, -0.11167869593903061, 1.868391686565969, 0.926008375873174, -0.5375160643538771, -2.21354100606647, 0.13758441049616993, -1.6127200438386537, 0.836629941326483, 0.982639029672047, -1.4267965171737238, -0.7340729325482471, 0.33979196381839, -0.0975870854132879, -0.6148688825087985, 0.5147673433285442, -0.9481706485625584, -0.04271544928766234, 1.3243642261933142, -0.8546463501044619, -0.599297728305147, 0.04548785985911168, -0.4811079491622432, -1.774406825632185, -0.7702693340792561, -0.4748276882281734, 0.9768466741741556, 0.6901701186316009, -0.3163663233169675, 0.21287078406361903, 1.136115798865693, 0.33720867240916724, 1.033480878886706, -0.185564645796627, -0.10859162252684647, 0.0011082298498769818, -1.1007152668847089, 0.590790643787503, 0.7924839944953712, 1.1310755853681902, 0.20678821376316955, 0.24112123763139306, 1.2357128959168289, -0.49945309036356245, -0.3438373786786498, -1.974197190227374, -0.17757562574931995, -1.477475520667104, -1.3876057638569905, 0.7462505236735426, -0.8287043340198685, -0.3133316893236558, 0.055715575088475404, -1.9505041054363514, -0.7276070321344944, -0.34043567190802565, 0.606938441762185, 1.3179143702571974, -0.7809922643385032, -0.32097787481639667, 0.4256234210720113, -0.07335408475851667, 0.3671507620785513, 0.02747103411586101, -0.03694446480914026, 1.3688673794512007, 1.0148027798988821, -0.39597774323778956, 0.5455817623527611, -1.1833906968924781, 0.5047148544381632, -0.9086647103866449, -0.5041775256575728, -3.2175858667536223, -1.4626369755166713, -0.8760406447373471, -1.5329422094336318, -0.07856244032320203, 0.7258509590435329, -0.7169536298739123, 0.47821301919925535, -1.6070953362840454, 0.18492608791772172, 0.4831953421913388, -0.46527559209292835, -0.057744579710930236, 2.0151435673920908, -1.202496502277343, 1.1154447255484976, -1.8995728472275581, -0.07759942120844565, 0.5096943059187304], \"xaxis\": \"x3\", \"y\": [-0.045220991541672514, 0.6780430845497113, 1.0057065998631551, -0.9728874120987261, -0.1429232842760107, 1.2921833308681698, 0.16399911560590277, 0.5864133066083158, 0.005048291501591372, 0.18320948521328073, -2.49509747225579, 1.3256859636637544, -1.6793176056440045, 1.2723860638991833, 1.578103990878968, 1.6643859249494612, -0.7935622243303689, 1.4753187604179476, -0.5171412718010686, 1.2361846435347696, 1.704522844836798, 0.8695553230428329, 0.04824931042202152, -0.5596124096097523, -1.1327010356287375, -1.406914574214415, -0.2760296743683121, 0.8499750408369918, 0.2733027589733112, -0.9270609774179835, -0.11937096459563867, -1.6341734716797336, -0.41805224566733007, 0.050751069046720734, -0.20458127481769103, -2.014914541732928, 1.1293271143962424, -0.535345544707788, 0.7205565368377175, 0.4434882575852396, 2.287900075088307, 0.8593080673185117, -0.8474654655180363, 0.5740891945961737, 0.866934071277127, 1.6599286334175802, 1.1413585505968555, -0.12489284454263366, 1.0077112317489567, -0.8015057558969182, 0.06322142018660247, 0.02030583905367841, 1.310214444831818, 0.3220132314938279, -1.7460855703860538, 1.4814702223140728, -0.8035722883805491, -0.8977913265652391, 0.4834089731976079, 1.4171127102051564, 1.4755906750430359, 2.0461501156802657, 1.8315708147771137, -0.7776544535304498, 0.9212441621689802, -1.070857782437202, 0.2665485378678139, -0.2375412783190445, 0.12928115685388808, -1.5094640119124836, 0.36096311670622444, 0.3449732335562818, 0.9268319900465413, -0.8784088858281468, 0.35568448009216114, -0.08607414252524906, 1.213447359424447, 1.220582787720631, -1.5714006178028541, 0.3772038547775565, 0.1836811429063996, 0.23643055367021165, -0.14944956474447565, 1.2660528101080524, -0.5669141209856902, -0.061203227869747794, -1.0152345093451074, -0.06490705351212794, -0.0967940059628407, 0.4630555535765282, -1.5499008045555307, 0.3662054810766103, 1.3967190454514729, -1.2459338585587063, -0.4192847012410866, -0.9966152679852247, -0.8929790395801137, -0.375225580512482, 1.11697358465709, 0.22825455583325077], \"yaxis\": \"y3\"}, {\"line\": {\"color\": \"rgba(128, 128, 128, 1.0)\", \"dash\": \"solid\", \"shape\": \"linear\", \"width\": 1.3}, \"marker\": {\"size\": 2, \"symbol\": \"circle\"}, \"mode\": \"markers\", \"name\": \"A\", \"text\": \"\", \"type\": \"scatter\", \"x\": [-0.4337879491334362, 0.7976012586008668, 0.04679388847070139, 0.8210509017025851, -0.47737624449913807, -2.7113749177309034, -0.3467805670259546, -0.9656770508426309, 0.26838356597477203, 1.111511291342199, -0.3724119499893848, -0.6879024860078657, 0.12543381105475546, 1.5141660057493092, 0.0031518850461970446, -1.8862220831122953, -0.8366577378678488, 0.24412695824901426, -0.29940606815106224, -1.108196501494843, -1.3682950024746594, -2.3631574734573317, -3.0855407392711185, -0.8490098793244223, -0.27307010329833803, -0.2364030920459769, 0.6643850678309491, -0.3928846608662631, -1.1134663891849492, 0.5259166824485958, 1.2767655084421516, 0.0354705094250525, -0.22469254344204675, 1.6272211270560817, -0.414669543582508, 0.7139322291458065, -2.470709743384897, 1.5386164967793026, 0.7160072919906816, 0.1417813834395697, -0.4043862753593802, -1.8071493515932677, -1.3723541348893524, 1.0948479544848693, 0.9989596265551828, -0.6478008481453175, 1.4124754326601883, 0.4346882253946431, -0.7348738360323315, 0.870683905831478, 0.6579668551742296, -1.9940535889544115, -0.005078270571319728, 1.3365837181328428, 0.10899587834151302, 0.9165248381194471, -0.6368591137339633, 0.7119659996376386, 0.986580694631742, 0.416081849948451, 0.5352805242252674, 0.5208318750173206, 0.9571424944340965, -0.3901599757044315, -1.1401073992251733, 0.3340180184206363, 0.7406991050707952, 0.4647617310146391, 1.2959649906828112, -0.47230962246013475, 0.1567297692468287, -0.37393093428584573, 1.2767768262192751, 0.3461111052548227, -1.022476851684093, 0.6349317486094176, -0.15101842538131852, 0.033728646201024046, 0.2667964330454267, 1.0629785526860123, -1.0917878409952968, -0.3582307526329137, 0.5524824823445418, -1.0013894542109176, -1.9607511780597788, -2.7722741185384954, 0.01864704728907342, 0.6571359736547979, 1.7367344460001817, 0.32949603949899275, 0.42953810085154065, -0.6237116485501133, 0.20610138838812966, 1.1257106532373393, 0.07309187136866693, 0.1825421452130804, -1.410613394522949, 0.32020366902474606, -0.1891096779802458, 1.1968104396498749], \"xaxis\": \"x4\", \"y\": [-0.045220991541672514, 0.6780430845497113, 1.0057065998631551, -0.9728874120987261, -0.1429232842760107, 1.2921833308681698, 0.16399911560590277, 0.5864133066083158, 0.005048291501591372, 0.18320948521328073, -2.49509747225579, 1.3256859636637544, -1.6793176056440045, 1.2723860638991833, 1.578103990878968, 1.6643859249494612, -0.7935622243303689, 1.4753187604179476, -0.5171412718010686, 1.2361846435347696, 1.704522844836798, 0.8695553230428329, 0.04824931042202152, -0.5596124096097523, -1.1327010356287375, -1.406914574214415, -0.2760296743683121, 0.8499750408369918, 0.2733027589733112, -0.9270609774179835, -0.11937096459563867, -1.6341734716797336, -0.41805224566733007, 0.050751069046720734, -0.20458127481769103, -2.014914541732928, 1.1293271143962424, -0.535345544707788, 0.7205565368377175, 0.4434882575852396, 2.287900075088307, 0.8593080673185117, -0.8474654655180363, 0.5740891945961737, 0.866934071277127, 1.6599286334175802, 1.1413585505968555, -0.12489284454263366, 1.0077112317489567, -0.8015057558969182, 0.06322142018660247, 0.02030583905367841, 1.310214444831818, 0.3220132314938279, -1.7460855703860538, 1.4814702223140728, -0.8035722883805491, -0.8977913265652391, 0.4834089731976079, 1.4171127102051564, 1.4755906750430359, 2.0461501156802657, 1.8315708147771137, -0.7776544535304498, 0.9212441621689802, -1.070857782437202, 0.2665485378678139, -0.2375412783190445, 0.12928115685388808, -1.5094640119124836, 0.36096311670622444, 0.3449732335562818, 0.9268319900465413, -0.8784088858281468, 0.35568448009216114, -0.08607414252524906, 1.213447359424447, 1.220582787720631, -1.5714006178028541, 0.3772038547775565, 0.1836811429063996, 0.23643055367021165, -0.14944956474447565, 1.2660528101080524, -0.5669141209856902, -0.061203227869747794, -1.0152345093451074, -0.06490705351212794, -0.0967940059628407, 0.4630555535765282, -1.5499008045555307, 0.3662054810766103, 1.3967190454514729, -1.2459338585587063, -0.4192847012410866, -0.9966152679852247, -0.8929790395801137, -0.375225580512482, 1.11697358465709, 0.22825455583325077], \"yaxis\": \"y4\"}, {\"line\": {\"color\": \"rgba(128, 128, 128, 1.0)\", \"dash\": \"solid\", \"shape\": \"linear\", \"width\": 1.3}, \"marker\": {\"size\": 2, \"symbol\": \"circle\"}, \"mode\": \"markers\", \"name\": \"B\", \"text\": \"\", \"type\": \"scatter\", \"x\": [-0.045220991541672514, 0.6780430845497113, 1.0057065998631551, -0.9728874120987261, -0.1429232842760107, 1.2921833308681698, 0.16399911560590277, 0.5864133066083158, 0.005048291501591372, 0.18320948521328073, -2.49509747225579, 1.3256859636637544, -1.6793176056440045, 1.2723860638991833, 1.578103990878968, 1.6643859249494612, -0.7935622243303689, 1.4753187604179476, -0.5171412718010686, 1.2361846435347696, 1.704522844836798, 0.8695553230428329, 0.04824931042202152, -0.5596124096097523, -1.1327010356287375, -1.406914574214415, -0.2760296743683121, 0.8499750408369918, 0.2733027589733112, -0.9270609774179835, -0.11937096459563867, -1.6341734716797336, -0.41805224566733007, 0.050751069046720734, -0.20458127481769103, -2.014914541732928, 1.1293271143962424, -0.535345544707788, 0.7205565368377175, 0.4434882575852396, 2.287900075088307, 0.8593080673185117, -0.8474654655180363, 0.5740891945961737, 0.866934071277127, 1.6599286334175802, 1.1413585505968555, -0.12489284454263366, 1.0077112317489567, -0.8015057558969182, 0.06322142018660247, 0.02030583905367841, 1.310214444831818, 0.3220132314938279, -1.7460855703860538, 1.4814702223140728, -0.8035722883805491, -0.8977913265652391, 0.4834089731976079, 1.4171127102051564, 1.4755906750430359, 2.0461501156802657, 1.8315708147771137, -0.7776544535304498, 0.9212441621689802, -1.070857782437202, 0.2665485378678139, -0.2375412783190445, 0.12928115685388808, -1.5094640119124836, 0.36096311670622444, 0.3449732335562818, 0.9268319900465413, -0.8784088858281468, 0.35568448009216114, -0.08607414252524906, 1.213447359424447, 1.220582787720631, -1.5714006178028541, 0.3772038547775565, 0.1836811429063996, 0.23643055367021165, -0.14944956474447565, 1.2660528101080524, -0.5669141209856902, -0.061203227869747794, -1.0152345093451074, -0.06490705351212794, -0.0967940059628407, 0.4630555535765282, -1.5499008045555307, 0.3662054810766103, 1.3967190454514729, -1.2459338585587063, -0.4192847012410866, -0.9966152679852247, -0.8929790395801137, -0.375225580512482, 1.11697358465709, 0.22825455583325077], \"xaxis\": \"x5\", \"y\": [-0.013295768492124153, -0.27074517491106564, -0.48041519701937146, -0.15747940179591474, 0.2558515658031597, -0.15662119891997725, 0.3479723140894033, -0.15084375498932429, 0.06228336036949375, 0.9736025112157594, 0.5402519563550914, 0.8682305950906869, -0.65170589410664, 0.678613203133178, -0.057432097459745896, 0.6932633553636146, -1.9939719746754565, -2.002802721971022, 0.25746993202325685, 0.4889548095852013, -0.7168527223620486, -1.2923706473113479, -0.6753735457834736, 0.9202025865444132, 1.4670937547148066, 0.18474639375151114, 1.5237228427501046, 0.6555734068239183, -1.6536292861970667, 0.04987606236109394, 0.7564239173991238, -1.215415085919389, -0.6904670180577785, 0.8332193013800037, 0.062395229603287104, 3.115989368570276, -1.0011794943455687, 0.29053598685344056, -0.029260709986795252, -0.37251804313432424, 0.48538385105860427, -0.833960660422719, 0.12828209855485537, -0.36647237774781805, -0.2562272216832282, 0.2689613943245282, 0.039384657809476246, 0.9003688284552946, -0.03498553399708273, 0.03852162330557176, 1.4029672622615341, 0.4722881623952208, -0.655692389374444, 0.35094145422495787, 2.025198109041344, 0.6214822754704921, 0.6995612430798638, 0.3730785899429117, 0.602967469726209, 0.04571784171804009, 0.3266369638556332, -0.31846827964026114, 0.15383690822073517, -0.338144285317204, 1.884543871930759, 0.40335856103092854, 0.4150036654412097, 1.487026005753503, 0.12374285847035515, 0.8366685261562422, 0.5795360711488374, 1.614778779962535, -1.5065686107987333, 1.5592396986044814, -0.32329791999507934, -0.9318225839805766, -1.1578286591490894, -0.041709953393487105, 2.337128989736377, -0.5557500637748092, -0.801289268411741, -0.9626995069095104, -0.4290769015529991, 1.6348652562575745, 0.7716484917337753, -1.505387304121753, -0.15247950644685498, 2.0875013582731077, 0.8138442069099916, -0.5980676063757108, -1.0733335543265496, -0.5453515556217455, 0.27422936109205454, 0.40974088231107303, 0.5706700018492756, -1.9690048686611612, 0.3942186062027898, 1.0710514434878289, -0.5441656857116004, -0.26082261070316265], \"yaxis\": \"y5\"}, {\"histfunc\": \"count\", \"histnorm\": \"\", \"marker\": {\"color\": \"rgba(55, 128, 191, 1.0)\", \"line\": {\"color\": \"#4D5663\", \"width\": 1.3}}, \"name\": \"B\", \"nbinsx\": 10, \"opacity\": 0.8, \"orientation\": \"v\", \"type\": \"histogram\", \"x\": [-0.013295768492124153, -0.27074517491106564, -0.48041519701937146, -0.15747940179591474, 0.2558515658031597, -0.15662119891997725, 0.3479723140894033, -0.15084375498932429, 0.06228336036949375, 0.9736025112157594, 0.5402519563550914, 0.8682305950906869, -0.65170589410664, 0.678613203133178, -0.057432097459745896, 0.6932633553636146, -1.9939719746754565, -2.002802721971022, 0.25746993202325685, 0.4889548095852013, -0.7168527223620486, -1.2923706473113479, -0.6753735457834736, 0.9202025865444132, 1.4670937547148066, 0.18474639375151114, 1.5237228427501046, 0.6555734068239183, -1.6536292861970667, 0.04987606236109394, 0.7564239173991238, -1.215415085919389, -0.6904670180577785, 0.8332193013800037, 0.062395229603287104, 3.115989368570276, -1.0011794943455687, 0.29053598685344056, -0.029260709986795252, -0.37251804313432424, 0.48538385105860427, -0.833960660422719, 0.12828209855485537, -0.36647237774781805, -0.2562272216832282, 0.2689613943245282, 0.039384657809476246, 0.9003688284552946, -0.03498553399708273, 0.03852162330557176, 1.4029672622615341, 0.4722881623952208, -0.655692389374444, 0.35094145422495787, 2.025198109041344, 0.6214822754704921, 0.6995612430798638, 0.3730785899429117, 0.602967469726209, 0.04571784171804009, 0.3266369638556332, -0.31846827964026114, 0.15383690822073517, -0.338144285317204, 1.884543871930759, 0.40335856103092854, 0.4150036654412097, 1.487026005753503, 0.12374285847035515, 0.8366685261562422, 0.5795360711488374, 1.614778779962535, -1.5065686107987333, 1.5592396986044814, -0.32329791999507934, -0.9318225839805766, -1.1578286591490894, -0.041709953393487105, 2.337128989736377, -0.5557500637748092, -0.801289268411741, -0.9626995069095104, -0.4290769015529991, 1.6348652562575745, 0.7716484917337753, -1.505387304121753, -0.15247950644685498, 2.0875013582731077, 0.8138442069099916, -0.5980676063757108, -1.0733335543265496, -0.5453515556217455, 0.27422936109205454, 0.40974088231107303, 0.5706700018492756, -1.9690048686611612, 0.3942186062027898, 1.0710514434878289, -0.5441656857116004, -0.26082261070316265], \"xaxis\": \"x6\", \"yaxis\": \"y6\"}, {\"line\": {\"color\": \"rgba(128, 128, 128, 1.0)\", \"dash\": \"solid\", \"shape\": \"linear\", \"width\": 1.3}, \"marker\": {\"size\": 2, \"symbol\": \"circle\"}, \"mode\": \"markers\", \"name\": \"B\", \"text\": \"\", \"type\": \"scatter\", \"x\": [0.13873828079658243, 0.004189153867128753, 0.09682297277796335, -1.944173718156881, -1.509648123220136, -0.2562642772096215, 1.1425384061525947, 1.8381697029094315, -0.89523389287459, -0.11167869593903061, 1.868391686565969, 0.926008375873174, -0.5375160643538771, -2.21354100606647, 0.13758441049616993, -1.6127200438386537, 0.836629941326483, 0.982639029672047, -1.4267965171737238, -0.7340729325482471, 0.33979196381839, -0.0975870854132879, -0.6148688825087985, 0.5147673433285442, -0.9481706485625584, -0.04271544928766234, 1.3243642261933142, -0.8546463501044619, -0.599297728305147, 0.04548785985911168, -0.4811079491622432, -1.774406825632185, -0.7702693340792561, -0.4748276882281734, 0.9768466741741556, 0.6901701186316009, -0.3163663233169675, 0.21287078406361903, 1.136115798865693, 0.33720867240916724, 1.033480878886706, -0.185564645796627, -0.10859162252684647, 0.0011082298498769818, -1.1007152668847089, 0.590790643787503, 0.7924839944953712, 1.1310755853681902, 0.20678821376316955, 0.24112123763139306, 1.2357128959168289, -0.49945309036356245, -0.3438373786786498, -1.974197190227374, -0.17757562574931995, -1.477475520667104, -1.3876057638569905, 0.7462505236735426, -0.8287043340198685, -0.3133316893236558, 0.055715575088475404, -1.9505041054363514, -0.7276070321344944, -0.34043567190802565, 0.606938441762185, 1.3179143702571974, -0.7809922643385032, -0.32097787481639667, 0.4256234210720113, -0.07335408475851667, 0.3671507620785513, 0.02747103411586101, -0.03694446480914026, 1.3688673794512007, 1.0148027798988821, -0.39597774323778956, 0.5455817623527611, -1.1833906968924781, 0.5047148544381632, -0.9086647103866449, -0.5041775256575728, -3.2175858667536223, -1.4626369755166713, -0.8760406447373471, -1.5329422094336318, -0.07856244032320203, 0.7258509590435329, -0.7169536298739123, 0.47821301919925535, -1.6070953362840454, 0.18492608791772172, 0.4831953421913388, -0.46527559209292835, -0.057744579710930236, 2.0151435673920908, -1.202496502277343, 1.1154447255484976, -1.8995728472275581, -0.07759942120844565, 0.5096943059187304], \"xaxis\": \"x7\", \"y\": [-0.013295768492124153, -0.27074517491106564, -0.48041519701937146, -0.15747940179591474, 0.2558515658031597, -0.15662119891997725, 0.3479723140894033, -0.15084375498932429, 0.06228336036949375, 0.9736025112157594, 0.5402519563550914, 0.8682305950906869, -0.65170589410664, 0.678613203133178, -0.057432097459745896, 0.6932633553636146, -1.9939719746754565, -2.002802721971022, 0.25746993202325685, 0.4889548095852013, -0.7168527223620486, -1.2923706473113479, -0.6753735457834736, 0.9202025865444132, 1.4670937547148066, 0.18474639375151114, 1.5237228427501046, 0.6555734068239183, -1.6536292861970667, 0.04987606236109394, 0.7564239173991238, -1.215415085919389, -0.6904670180577785, 0.8332193013800037, 0.062395229603287104, 3.115989368570276, -1.0011794943455687, 0.29053598685344056, -0.029260709986795252, -0.37251804313432424, 0.48538385105860427, -0.833960660422719, 0.12828209855485537, -0.36647237774781805, -0.2562272216832282, 0.2689613943245282, 0.039384657809476246, 0.9003688284552946, -0.03498553399708273, 0.03852162330557176, 1.4029672622615341, 0.4722881623952208, -0.655692389374444, 0.35094145422495787, 2.025198109041344, 0.6214822754704921, 0.6995612430798638, 0.3730785899429117, 0.602967469726209, 0.04571784171804009, 0.3266369638556332, -0.31846827964026114, 0.15383690822073517, -0.338144285317204, 1.884543871930759, 0.40335856103092854, 0.4150036654412097, 1.487026005753503, 0.12374285847035515, 0.8366685261562422, 0.5795360711488374, 1.614778779962535, -1.5065686107987333, 1.5592396986044814, -0.32329791999507934, -0.9318225839805766, -1.1578286591490894, -0.041709953393487105, 2.337128989736377, -0.5557500637748092, -0.801289268411741, -0.9626995069095104, -0.4290769015529991, 1.6348652562575745, 0.7716484917337753, -1.505387304121753, -0.15247950644685498, 2.0875013582731077, 0.8138442069099916, -0.5980676063757108, -1.0733335543265496, -0.5453515556217455, 0.27422936109205454, 0.40974088231107303, 0.5706700018492756, -1.9690048686611612, 0.3942186062027898, 1.0710514434878289, -0.5441656857116004, -0.26082261070316265], \"yaxis\": \"y7\"}, {\"line\": {\"color\": \"rgba(128, 128, 128, 1.0)\", \"dash\": \"solid\", \"shape\": \"linear\", \"width\": 1.3}, \"marker\": {\"size\": 2, \"symbol\": \"circle\"}, \"mode\": \"markers\", \"name\": \"B\", \"text\": \"\", \"type\": \"scatter\", \"x\": [-0.4337879491334362, 0.7976012586008668, 0.04679388847070139, 0.8210509017025851, -0.47737624449913807, -2.7113749177309034, -0.3467805670259546, -0.9656770508426309, 0.26838356597477203, 1.111511291342199, -0.3724119499893848, -0.6879024860078657, 0.12543381105475546, 1.5141660057493092, 0.0031518850461970446, -1.8862220831122953, -0.8366577378678488, 0.24412695824901426, -0.29940606815106224, -1.108196501494843, -1.3682950024746594, -2.3631574734573317, -3.0855407392711185, -0.8490098793244223, -0.27307010329833803, -0.2364030920459769, 0.6643850678309491, -0.3928846608662631, -1.1134663891849492, 0.5259166824485958, 1.2767655084421516, 0.0354705094250525, -0.22469254344204675, 1.6272211270560817, -0.414669543582508, 0.7139322291458065, -2.470709743384897, 1.5386164967793026, 0.7160072919906816, 0.1417813834395697, -0.4043862753593802, -1.8071493515932677, -1.3723541348893524, 1.0948479544848693, 0.9989596265551828, -0.6478008481453175, 1.4124754326601883, 0.4346882253946431, -0.7348738360323315, 0.870683905831478, 0.6579668551742296, -1.9940535889544115, -0.005078270571319728, 1.3365837181328428, 0.10899587834151302, 0.9165248381194471, -0.6368591137339633, 0.7119659996376386, 0.986580694631742, 0.416081849948451, 0.5352805242252674, 0.5208318750173206, 0.9571424944340965, -0.3901599757044315, -1.1401073992251733, 0.3340180184206363, 0.7406991050707952, 0.4647617310146391, 1.2959649906828112, -0.47230962246013475, 0.1567297692468287, -0.37393093428584573, 1.2767768262192751, 0.3461111052548227, -1.022476851684093, 0.6349317486094176, -0.15101842538131852, 0.033728646201024046, 0.2667964330454267, 1.0629785526860123, -1.0917878409952968, -0.3582307526329137, 0.5524824823445418, -1.0013894542109176, -1.9607511780597788, -2.7722741185384954, 0.01864704728907342, 0.6571359736547979, 1.7367344460001817, 0.32949603949899275, 0.42953810085154065, -0.6237116485501133, 0.20610138838812966, 1.1257106532373393, 0.07309187136866693, 0.1825421452130804, -1.410613394522949, 0.32020366902474606, -0.1891096779802458, 1.1968104396498749], \"xaxis\": \"x8\", \"y\": [-0.013295768492124153, -0.27074517491106564, -0.48041519701937146, -0.15747940179591474, 0.2558515658031597, -0.15662119891997725, 0.3479723140894033, -0.15084375498932429, 0.06228336036949375, 0.9736025112157594, 0.5402519563550914, 0.8682305950906869, -0.65170589410664, 0.678613203133178, -0.057432097459745896, 0.6932633553636146, -1.9939719746754565, -2.002802721971022, 0.25746993202325685, 0.4889548095852013, -0.7168527223620486, -1.2923706473113479, -0.6753735457834736, 0.9202025865444132, 1.4670937547148066, 0.18474639375151114, 1.5237228427501046, 0.6555734068239183, -1.6536292861970667, 0.04987606236109394, 0.7564239173991238, -1.215415085919389, -0.6904670180577785, 0.8332193013800037, 0.062395229603287104, 3.115989368570276, -1.0011794943455687, 0.29053598685344056, -0.029260709986795252, -0.37251804313432424, 0.48538385105860427, -0.833960660422719, 0.12828209855485537, -0.36647237774781805, -0.2562272216832282, 0.2689613943245282, 0.039384657809476246, 0.9003688284552946, -0.03498553399708273, 0.03852162330557176, 1.4029672622615341, 0.4722881623952208, -0.655692389374444, 0.35094145422495787, 2.025198109041344, 0.6214822754704921, 0.6995612430798638, 0.3730785899429117, 0.602967469726209, 0.04571784171804009, 0.3266369638556332, -0.31846827964026114, 0.15383690822073517, -0.338144285317204, 1.884543871930759, 0.40335856103092854, 0.4150036654412097, 1.487026005753503, 0.12374285847035515, 0.8366685261562422, 0.5795360711488374, 1.614778779962535, -1.5065686107987333, 1.5592396986044814, -0.32329791999507934, -0.9318225839805766, -1.1578286591490894, -0.041709953393487105, 2.337128989736377, -0.5557500637748092, -0.801289268411741, -0.9626995069095104, -0.4290769015529991, 1.6348652562575745, 0.7716484917337753, -1.505387304121753, -0.15247950644685498, 2.0875013582731077, 0.8138442069099916, -0.5980676063757108, -1.0733335543265496, -0.5453515556217455, 0.27422936109205454, 0.40974088231107303, 0.5706700018492756, -1.9690048686611612, 0.3942186062027898, 1.0710514434878289, -0.5441656857116004, -0.26082261070316265], \"yaxis\": \"y8\"}, {\"line\": {\"color\": \"rgba(128, 128, 128, 1.0)\", \"dash\": \"solid\", \"shape\": \"linear\", \"width\": 1.3}, \"marker\": {\"size\": 2, \"symbol\": \"circle\"}, \"mode\": \"markers\", \"name\": \"C\", \"text\": \"\", \"type\": \"scatter\", \"x\": [-0.045220991541672514, 0.6780430845497113, 1.0057065998631551, -0.9728874120987261, -0.1429232842760107, 1.2921833308681698, 0.16399911560590277, 0.5864133066083158, 0.005048291501591372, 0.18320948521328073, -2.49509747225579, 1.3256859636637544, -1.6793176056440045, 1.2723860638991833, 1.578103990878968, 1.6643859249494612, -0.7935622243303689, 1.4753187604179476, -0.5171412718010686, 1.2361846435347696, 1.704522844836798, 0.8695553230428329, 0.04824931042202152, -0.5596124096097523, -1.1327010356287375, -1.406914574214415, -0.2760296743683121, 0.8499750408369918, 0.2733027589733112, -0.9270609774179835, -0.11937096459563867, -1.6341734716797336, -0.41805224566733007, 0.050751069046720734, -0.20458127481769103, -2.014914541732928, 1.1293271143962424, -0.535345544707788, 0.7205565368377175, 0.4434882575852396, 2.287900075088307, 0.8593080673185117, -0.8474654655180363, 0.5740891945961737, 0.866934071277127, 1.6599286334175802, 1.1413585505968555, -0.12489284454263366, 1.0077112317489567, -0.8015057558969182, 0.06322142018660247, 0.02030583905367841, 1.310214444831818, 0.3220132314938279, -1.7460855703860538, 1.4814702223140728, -0.8035722883805491, -0.8977913265652391, 0.4834089731976079, 1.4171127102051564, 1.4755906750430359, 2.0461501156802657, 1.8315708147771137, -0.7776544535304498, 0.9212441621689802, -1.070857782437202, 0.2665485378678139, -0.2375412783190445, 0.12928115685388808, -1.5094640119124836, 0.36096311670622444, 0.3449732335562818, 0.9268319900465413, -0.8784088858281468, 0.35568448009216114, -0.08607414252524906, 1.213447359424447, 1.220582787720631, -1.5714006178028541, 0.3772038547775565, 0.1836811429063996, 0.23643055367021165, -0.14944956474447565, 1.2660528101080524, -0.5669141209856902, -0.061203227869747794, -1.0152345093451074, -0.06490705351212794, -0.0967940059628407, 0.4630555535765282, -1.5499008045555307, 0.3662054810766103, 1.3967190454514729, -1.2459338585587063, -0.4192847012410866, -0.9966152679852247, -0.8929790395801137, -0.375225580512482, 1.11697358465709, 0.22825455583325077], \"xaxis\": \"x9\", \"y\": [0.13873828079658243, 0.004189153867128753, 0.09682297277796335, -1.944173718156881, -1.509648123220136, -0.2562642772096215, 1.1425384061525947, 1.8381697029094315, -0.89523389287459, -0.11167869593903061, 1.868391686565969, 0.926008375873174, -0.5375160643538771, -2.21354100606647, 0.13758441049616993, -1.6127200438386537, 0.836629941326483, 0.982639029672047, -1.4267965171737238, -0.7340729325482471, 0.33979196381839, -0.0975870854132879, -0.6148688825087985, 0.5147673433285442, -0.9481706485625584, -0.04271544928766234, 1.3243642261933142, -0.8546463501044619, -0.599297728305147, 0.04548785985911168, -0.4811079491622432, -1.774406825632185, -0.7702693340792561, -0.4748276882281734, 0.9768466741741556, 0.6901701186316009, -0.3163663233169675, 0.21287078406361903, 1.136115798865693, 0.33720867240916724, 1.033480878886706, -0.185564645796627, -0.10859162252684647, 0.0011082298498769818, -1.1007152668847089, 0.590790643787503, 0.7924839944953712, 1.1310755853681902, 0.20678821376316955, 0.24112123763139306, 1.2357128959168289, -0.49945309036356245, -0.3438373786786498, -1.974197190227374, -0.17757562574931995, -1.477475520667104, -1.3876057638569905, 0.7462505236735426, -0.8287043340198685, -0.3133316893236558, 0.055715575088475404, -1.9505041054363514, -0.7276070321344944, -0.34043567190802565, 0.606938441762185, 1.3179143702571974, -0.7809922643385032, -0.32097787481639667, 0.4256234210720113, -0.07335408475851667, 0.3671507620785513, 0.02747103411586101, -0.03694446480914026, 1.3688673794512007, 1.0148027798988821, -0.39597774323778956, 0.5455817623527611, -1.1833906968924781, 0.5047148544381632, -0.9086647103866449, -0.5041775256575728, -3.2175858667536223, -1.4626369755166713, -0.8760406447373471, -1.5329422094336318, -0.07856244032320203, 0.7258509590435329, -0.7169536298739123, 0.47821301919925535, -1.6070953362840454, 0.18492608791772172, 0.4831953421913388, -0.46527559209292835, -0.057744579710930236, 2.0151435673920908, -1.202496502277343, 1.1154447255484976, -1.8995728472275581, -0.07759942120844565, 0.5096943059187304], \"yaxis\": \"y9\"}, {\"line\": {\"color\": \"rgba(128, 128, 128, 1.0)\", \"dash\": \"solid\", \"shape\": \"linear\", \"width\": 1.3}, \"marker\": {\"size\": 2, \"symbol\": \"circle\"}, \"mode\": \"markers\", \"name\": \"C\", \"text\": \"\", \"type\": \"scatter\", \"x\": [-0.013295768492124153, -0.27074517491106564, -0.48041519701937146, -0.15747940179591474, 0.2558515658031597, -0.15662119891997725, 0.3479723140894033, -0.15084375498932429, 0.06228336036949375, 0.9736025112157594, 0.5402519563550914, 0.8682305950906869, -0.65170589410664, 0.678613203133178, -0.057432097459745896, 0.6932633553636146, -1.9939719746754565, -2.002802721971022, 0.25746993202325685, 0.4889548095852013, -0.7168527223620486, -1.2923706473113479, -0.6753735457834736, 0.9202025865444132, 1.4670937547148066, 0.18474639375151114, 1.5237228427501046, 0.6555734068239183, -1.6536292861970667, 0.04987606236109394, 0.7564239173991238, -1.215415085919389, -0.6904670180577785, 0.8332193013800037, 0.062395229603287104, 3.115989368570276, -1.0011794943455687, 0.29053598685344056, -0.029260709986795252, -0.37251804313432424, 0.48538385105860427, -0.833960660422719, 0.12828209855485537, -0.36647237774781805, -0.2562272216832282, 0.2689613943245282, 0.039384657809476246, 0.9003688284552946, -0.03498553399708273, 0.03852162330557176, 1.4029672622615341, 0.4722881623952208, -0.655692389374444, 0.35094145422495787, 2.025198109041344, 0.6214822754704921, 0.6995612430798638, 0.3730785899429117, 0.602967469726209, 0.04571784171804009, 0.3266369638556332, -0.31846827964026114, 0.15383690822073517, -0.338144285317204, 1.884543871930759, 0.40335856103092854, 0.4150036654412097, 1.487026005753503, 0.12374285847035515, 0.8366685261562422, 0.5795360711488374, 1.614778779962535, -1.5065686107987333, 1.5592396986044814, -0.32329791999507934, -0.9318225839805766, -1.1578286591490894, -0.041709953393487105, 2.337128989736377, -0.5557500637748092, -0.801289268411741, -0.9626995069095104, -0.4290769015529991, 1.6348652562575745, 0.7716484917337753, -1.505387304121753, -0.15247950644685498, 2.0875013582731077, 0.8138442069099916, -0.5980676063757108, -1.0733335543265496, -0.5453515556217455, 0.27422936109205454, 0.40974088231107303, 0.5706700018492756, -1.9690048686611612, 0.3942186062027898, 1.0710514434878289, -0.5441656857116004, -0.26082261070316265], \"xaxis\": \"x10\", \"y\": [0.13873828079658243, 0.004189153867128753, 0.09682297277796335, -1.944173718156881, -1.509648123220136, -0.2562642772096215, 1.1425384061525947, 1.8381697029094315, -0.89523389287459, -0.11167869593903061, 1.868391686565969, 0.926008375873174, -0.5375160643538771, -2.21354100606647, 0.13758441049616993, -1.6127200438386537, 0.836629941326483, 0.982639029672047, -1.4267965171737238, -0.7340729325482471, 0.33979196381839, -0.0975870854132879, -0.6148688825087985, 0.5147673433285442, -0.9481706485625584, -0.04271544928766234, 1.3243642261933142, -0.8546463501044619, -0.599297728305147, 0.04548785985911168, -0.4811079491622432, -1.774406825632185, -0.7702693340792561, -0.4748276882281734, 0.9768466741741556, 0.6901701186316009, -0.3163663233169675, 0.21287078406361903, 1.136115798865693, 0.33720867240916724, 1.033480878886706, -0.185564645796627, -0.10859162252684647, 0.0011082298498769818, -1.1007152668847089, 0.590790643787503, 0.7924839944953712, 1.1310755853681902, 0.20678821376316955, 0.24112123763139306, 1.2357128959168289, -0.49945309036356245, -0.3438373786786498, -1.974197190227374, -0.17757562574931995, -1.477475520667104, -1.3876057638569905, 0.7462505236735426, -0.8287043340198685, -0.3133316893236558, 0.055715575088475404, -1.9505041054363514, -0.7276070321344944, -0.34043567190802565, 0.606938441762185, 1.3179143702571974, -0.7809922643385032, -0.32097787481639667, 0.4256234210720113, -0.07335408475851667, 0.3671507620785513, 0.02747103411586101, -0.03694446480914026, 1.3688673794512007, 1.0148027798988821, -0.39597774323778956, 0.5455817623527611, -1.1833906968924781, 0.5047148544381632, -0.9086647103866449, -0.5041775256575728, -3.2175858667536223, -1.4626369755166713, -0.8760406447373471, -1.5329422094336318, -0.07856244032320203, 0.7258509590435329, -0.7169536298739123, 0.47821301919925535, -1.6070953362840454, 0.18492608791772172, 0.4831953421913388, -0.46527559209292835, -0.057744579710930236, 2.0151435673920908, -1.202496502277343, 1.1154447255484976, -1.8995728472275581, -0.07759942120844565, 0.5096943059187304], \"yaxis\": \"y10\"}, {\"histfunc\": \"count\", \"histnorm\": \"\", \"marker\": {\"color\": \"rgba(50, 171, 96, 1.0)\", \"line\": {\"color\": \"#4D5663\", \"width\": 1.3}}, \"name\": \"C\", \"nbinsx\": 10, \"opacity\": 0.8, \"orientation\": \"v\", \"type\": \"histogram\", \"x\": [0.13873828079658243, 0.004189153867128753, 0.09682297277796335, -1.944173718156881, -1.509648123220136, -0.2562642772096215, 1.1425384061525947, 1.8381697029094315, -0.89523389287459, -0.11167869593903061, 1.868391686565969, 0.926008375873174, -0.5375160643538771, -2.21354100606647, 0.13758441049616993, -1.6127200438386537, 0.836629941326483, 0.982639029672047, -1.4267965171737238, -0.7340729325482471, 0.33979196381839, -0.0975870854132879, -0.6148688825087985, 0.5147673433285442, -0.9481706485625584, -0.04271544928766234, 1.3243642261933142, -0.8546463501044619, -0.599297728305147, 0.04548785985911168, -0.4811079491622432, -1.774406825632185, -0.7702693340792561, -0.4748276882281734, 0.9768466741741556, 0.6901701186316009, -0.3163663233169675, 0.21287078406361903, 1.136115798865693, 0.33720867240916724, 1.033480878886706, -0.185564645796627, -0.10859162252684647, 0.0011082298498769818, -1.1007152668847089, 0.590790643787503, 0.7924839944953712, 1.1310755853681902, 0.20678821376316955, 0.24112123763139306, 1.2357128959168289, -0.49945309036356245, -0.3438373786786498, -1.974197190227374, -0.17757562574931995, -1.477475520667104, -1.3876057638569905, 0.7462505236735426, -0.8287043340198685, -0.3133316893236558, 0.055715575088475404, -1.9505041054363514, -0.7276070321344944, -0.34043567190802565, 0.606938441762185, 1.3179143702571974, -0.7809922643385032, -0.32097787481639667, 0.4256234210720113, -0.07335408475851667, 0.3671507620785513, 0.02747103411586101, -0.03694446480914026, 1.3688673794512007, 1.0148027798988821, -0.39597774323778956, 0.5455817623527611, -1.1833906968924781, 0.5047148544381632, -0.9086647103866449, -0.5041775256575728, -3.2175858667536223, -1.4626369755166713, -0.8760406447373471, -1.5329422094336318, -0.07856244032320203, 0.7258509590435329, -0.7169536298739123, 0.47821301919925535, -1.6070953362840454, 0.18492608791772172, 0.4831953421913388, -0.46527559209292835, -0.057744579710930236, 2.0151435673920908, -1.202496502277343, 1.1154447255484976, -1.8995728472275581, -0.07759942120844565, 0.5096943059187304], \"xaxis\": \"x11\", \"yaxis\": \"y11\"}, {\"line\": {\"color\": \"rgba(128, 128, 128, 1.0)\", \"dash\": \"solid\", \"shape\": \"linear\", \"width\": 1.3}, \"marker\": {\"size\": 2, \"symbol\": \"circle\"}, \"mode\": \"markers\", \"name\": \"C\", \"text\": \"\", \"type\": \"scatter\", \"x\": [-0.4337879491334362, 0.7976012586008668, 0.04679388847070139, 0.8210509017025851, -0.47737624449913807, -2.7113749177309034, -0.3467805670259546, -0.9656770508426309, 0.26838356597477203, 1.111511291342199, -0.3724119499893848, -0.6879024860078657, 0.12543381105475546, 1.5141660057493092, 0.0031518850461970446, -1.8862220831122953, -0.8366577378678488, 0.24412695824901426, -0.29940606815106224, -1.108196501494843, -1.3682950024746594, -2.3631574734573317, -3.0855407392711185, -0.8490098793244223, -0.27307010329833803, -0.2364030920459769, 0.6643850678309491, -0.3928846608662631, -1.1134663891849492, 0.5259166824485958, 1.2767655084421516, 0.0354705094250525, -0.22469254344204675, 1.6272211270560817, -0.414669543582508, 0.7139322291458065, -2.470709743384897, 1.5386164967793026, 0.7160072919906816, 0.1417813834395697, -0.4043862753593802, -1.8071493515932677, -1.3723541348893524, 1.0948479544848693, 0.9989596265551828, -0.6478008481453175, 1.4124754326601883, 0.4346882253946431, -0.7348738360323315, 0.870683905831478, 0.6579668551742296, -1.9940535889544115, -0.005078270571319728, 1.3365837181328428, 0.10899587834151302, 0.9165248381194471, -0.6368591137339633, 0.7119659996376386, 0.986580694631742, 0.416081849948451, 0.5352805242252674, 0.5208318750173206, 0.9571424944340965, -0.3901599757044315, -1.1401073992251733, 0.3340180184206363, 0.7406991050707952, 0.4647617310146391, 1.2959649906828112, -0.47230962246013475, 0.1567297692468287, -0.37393093428584573, 1.2767768262192751, 0.3461111052548227, -1.022476851684093, 0.6349317486094176, -0.15101842538131852, 0.033728646201024046, 0.2667964330454267, 1.0629785526860123, -1.0917878409952968, -0.3582307526329137, 0.5524824823445418, -1.0013894542109176, -1.9607511780597788, -2.7722741185384954, 0.01864704728907342, 0.6571359736547979, 1.7367344460001817, 0.32949603949899275, 0.42953810085154065, -0.6237116485501133, 0.20610138838812966, 1.1257106532373393, 0.07309187136866693, 0.1825421452130804, -1.410613394522949, 0.32020366902474606, -0.1891096779802458, 1.1968104396498749], \"xaxis\": \"x12\", \"y\": [0.13873828079658243, 0.004189153867128753, 0.09682297277796335, -1.944173718156881, -1.509648123220136, -0.2562642772096215, 1.1425384061525947, 1.8381697029094315, -0.89523389287459, -0.11167869593903061, 1.868391686565969, 0.926008375873174, -0.5375160643538771, -2.21354100606647, 0.13758441049616993, -1.6127200438386537, 0.836629941326483, 0.982639029672047, -1.4267965171737238, -0.7340729325482471, 0.33979196381839, -0.0975870854132879, -0.6148688825087985, 0.5147673433285442, -0.9481706485625584, -0.04271544928766234, 1.3243642261933142, -0.8546463501044619, -0.599297728305147, 0.04548785985911168, -0.4811079491622432, -1.774406825632185, -0.7702693340792561, -0.4748276882281734, 0.9768466741741556, 0.6901701186316009, -0.3163663233169675, 0.21287078406361903, 1.136115798865693, 0.33720867240916724, 1.033480878886706, -0.185564645796627, -0.10859162252684647, 0.0011082298498769818, -1.1007152668847089, 0.590790643787503, 0.7924839944953712, 1.1310755853681902, 0.20678821376316955, 0.24112123763139306, 1.2357128959168289, -0.49945309036356245, -0.3438373786786498, -1.974197190227374, -0.17757562574931995, -1.477475520667104, -1.3876057638569905, 0.7462505236735426, -0.8287043340198685, -0.3133316893236558, 0.055715575088475404, -1.9505041054363514, -0.7276070321344944, -0.34043567190802565, 0.606938441762185, 1.3179143702571974, -0.7809922643385032, -0.32097787481639667, 0.4256234210720113, -0.07335408475851667, 0.3671507620785513, 0.02747103411586101, -0.03694446480914026, 1.3688673794512007, 1.0148027798988821, -0.39597774323778956, 0.5455817623527611, -1.1833906968924781, 0.5047148544381632, -0.9086647103866449, -0.5041775256575728, -3.2175858667536223, -1.4626369755166713, -0.8760406447373471, -1.5329422094336318, -0.07856244032320203, 0.7258509590435329, -0.7169536298739123, 0.47821301919925535, -1.6070953362840454, 0.18492608791772172, 0.4831953421913388, -0.46527559209292835, -0.057744579710930236, 2.0151435673920908, -1.202496502277343, 1.1154447255484976, -1.8995728472275581, -0.07759942120844565, 0.5096943059187304], \"yaxis\": \"y12\"}, {\"line\": {\"color\": \"rgba(128, 128, 128, 1.0)\", \"dash\": \"solid\", \"shape\": \"linear\", \"width\": 1.3}, \"marker\": {\"size\": 2, \"symbol\": \"circle\"}, \"mode\": \"markers\", \"name\": \"D\", \"text\": \"\", \"type\": \"scatter\", \"x\": [-0.045220991541672514, 0.6780430845497113, 1.0057065998631551, -0.9728874120987261, -0.1429232842760107, 1.2921833308681698, 0.16399911560590277, 0.5864133066083158, 0.005048291501591372, 0.18320948521328073, -2.49509747225579, 1.3256859636637544, -1.6793176056440045, 1.2723860638991833, 1.578103990878968, 1.6643859249494612, -0.7935622243303689, 1.4753187604179476, -0.5171412718010686, 1.2361846435347696, 1.704522844836798, 0.8695553230428329, 0.04824931042202152, -0.5596124096097523, -1.1327010356287375, -1.406914574214415, -0.2760296743683121, 0.8499750408369918, 0.2733027589733112, -0.9270609774179835, -0.11937096459563867, -1.6341734716797336, -0.41805224566733007, 0.050751069046720734, -0.20458127481769103, -2.014914541732928, 1.1293271143962424, -0.535345544707788, 0.7205565368377175, 0.4434882575852396, 2.287900075088307, 0.8593080673185117, -0.8474654655180363, 0.5740891945961737, 0.866934071277127, 1.6599286334175802, 1.1413585505968555, -0.12489284454263366, 1.0077112317489567, -0.8015057558969182, 0.06322142018660247, 0.02030583905367841, 1.310214444831818, 0.3220132314938279, -1.7460855703860538, 1.4814702223140728, -0.8035722883805491, -0.8977913265652391, 0.4834089731976079, 1.4171127102051564, 1.4755906750430359, 2.0461501156802657, 1.8315708147771137, -0.7776544535304498, 0.9212441621689802, -1.070857782437202, 0.2665485378678139, -0.2375412783190445, 0.12928115685388808, -1.5094640119124836, 0.36096311670622444, 0.3449732335562818, 0.9268319900465413, -0.8784088858281468, 0.35568448009216114, -0.08607414252524906, 1.213447359424447, 1.220582787720631, -1.5714006178028541, 0.3772038547775565, 0.1836811429063996, 0.23643055367021165, -0.14944956474447565, 1.2660528101080524, -0.5669141209856902, -0.061203227869747794, -1.0152345093451074, -0.06490705351212794, -0.0967940059628407, 0.4630555535765282, -1.5499008045555307, 0.3662054810766103, 1.3967190454514729, -1.2459338585587063, -0.4192847012410866, -0.9966152679852247, -0.8929790395801137, -0.375225580512482, 1.11697358465709, 0.22825455583325077], \"xaxis\": \"x13\", \"y\": [-0.4337879491334362, 0.7976012586008668, 0.04679388847070139, 0.8210509017025851, -0.47737624449913807, -2.7113749177309034, -0.3467805670259546, -0.9656770508426309, 0.26838356597477203, 1.111511291342199, -0.3724119499893848, -0.6879024860078657, 0.12543381105475546, 1.5141660057493092, 0.0031518850461970446, -1.8862220831122953, -0.8366577378678488, 0.24412695824901426, -0.29940606815106224, -1.108196501494843, -1.3682950024746594, -2.3631574734573317, -3.0855407392711185, -0.8490098793244223, -0.27307010329833803, -0.2364030920459769, 0.6643850678309491, -0.3928846608662631, -1.1134663891849492, 0.5259166824485958, 1.2767655084421516, 0.0354705094250525, -0.22469254344204675, 1.6272211270560817, -0.414669543582508, 0.7139322291458065, -2.470709743384897, 1.5386164967793026, 0.7160072919906816, 0.1417813834395697, -0.4043862753593802, -1.8071493515932677, -1.3723541348893524, 1.0948479544848693, 0.9989596265551828, -0.6478008481453175, 1.4124754326601883, 0.4346882253946431, -0.7348738360323315, 0.870683905831478, 0.6579668551742296, -1.9940535889544115, -0.005078270571319728, 1.3365837181328428, 0.10899587834151302, 0.9165248381194471, -0.6368591137339633, 0.7119659996376386, 0.986580694631742, 0.416081849948451, 0.5352805242252674, 0.5208318750173206, 0.9571424944340965, -0.3901599757044315, -1.1401073992251733, 0.3340180184206363, 0.7406991050707952, 0.4647617310146391, 1.2959649906828112, -0.47230962246013475, 0.1567297692468287, -0.37393093428584573, 1.2767768262192751, 0.3461111052548227, -1.022476851684093, 0.6349317486094176, -0.15101842538131852, 0.033728646201024046, 0.2667964330454267, 1.0629785526860123, -1.0917878409952968, -0.3582307526329137, 0.5524824823445418, -1.0013894542109176, -1.9607511780597788, -2.7722741185384954, 0.01864704728907342, 0.6571359736547979, 1.7367344460001817, 0.32949603949899275, 0.42953810085154065, -0.6237116485501133, 0.20610138838812966, 1.1257106532373393, 0.07309187136866693, 0.1825421452130804, -1.410613394522949, 0.32020366902474606, -0.1891096779802458, 1.1968104396498749], \"yaxis\": \"y13\"}, {\"line\": {\"color\": \"rgba(128, 128, 128, 1.0)\", \"dash\": \"solid\", \"shape\": \"linear\", \"width\": 1.3}, \"marker\": {\"size\": 2, \"symbol\": \"circle\"}, \"mode\": \"markers\", \"name\": \"D\", \"text\": \"\", \"type\": \"scatter\", \"x\": [-0.013295768492124153, -0.27074517491106564, -0.48041519701937146, -0.15747940179591474, 0.2558515658031597, -0.15662119891997725, 0.3479723140894033, -0.15084375498932429, 0.06228336036949375, 0.9736025112157594, 0.5402519563550914, 0.8682305950906869, -0.65170589410664, 0.678613203133178, -0.057432097459745896, 0.6932633553636146, -1.9939719746754565, -2.002802721971022, 0.25746993202325685, 0.4889548095852013, -0.7168527223620486, -1.2923706473113479, -0.6753735457834736, 0.9202025865444132, 1.4670937547148066, 0.18474639375151114, 1.5237228427501046, 0.6555734068239183, -1.6536292861970667, 0.04987606236109394, 0.7564239173991238, -1.215415085919389, -0.6904670180577785, 0.8332193013800037, 0.062395229603287104, 3.115989368570276, -1.0011794943455687, 0.29053598685344056, -0.029260709986795252, -0.37251804313432424, 0.48538385105860427, -0.833960660422719, 0.12828209855485537, -0.36647237774781805, -0.2562272216832282, 0.2689613943245282, 0.039384657809476246, 0.9003688284552946, -0.03498553399708273, 0.03852162330557176, 1.4029672622615341, 0.4722881623952208, -0.655692389374444, 0.35094145422495787, 2.025198109041344, 0.6214822754704921, 0.6995612430798638, 0.3730785899429117, 0.602967469726209, 0.04571784171804009, 0.3266369638556332, -0.31846827964026114, 0.15383690822073517, -0.338144285317204, 1.884543871930759, 0.40335856103092854, 0.4150036654412097, 1.487026005753503, 0.12374285847035515, 0.8366685261562422, 0.5795360711488374, 1.614778779962535, -1.5065686107987333, 1.5592396986044814, -0.32329791999507934, -0.9318225839805766, -1.1578286591490894, -0.041709953393487105, 2.337128989736377, -0.5557500637748092, -0.801289268411741, -0.9626995069095104, -0.4290769015529991, 1.6348652562575745, 0.7716484917337753, -1.505387304121753, -0.15247950644685498, 2.0875013582731077, 0.8138442069099916, -0.5980676063757108, -1.0733335543265496, -0.5453515556217455, 0.27422936109205454, 0.40974088231107303, 0.5706700018492756, -1.9690048686611612, 0.3942186062027898, 1.0710514434878289, -0.5441656857116004, -0.26082261070316265], \"xaxis\": \"x14\", \"y\": [-0.4337879491334362, 0.7976012586008668, 0.04679388847070139, 0.8210509017025851, -0.47737624449913807, -2.7113749177309034, -0.3467805670259546, -0.9656770508426309, 0.26838356597477203, 1.111511291342199, -0.3724119499893848, -0.6879024860078657, 0.12543381105475546, 1.5141660057493092, 0.0031518850461970446, -1.8862220831122953, -0.8366577378678488, 0.24412695824901426, -0.29940606815106224, -1.108196501494843, -1.3682950024746594, -2.3631574734573317, -3.0855407392711185, -0.8490098793244223, -0.27307010329833803, -0.2364030920459769, 0.6643850678309491, -0.3928846608662631, -1.1134663891849492, 0.5259166824485958, 1.2767655084421516, 0.0354705094250525, -0.22469254344204675, 1.6272211270560817, -0.414669543582508, 0.7139322291458065, -2.470709743384897, 1.5386164967793026, 0.7160072919906816, 0.1417813834395697, -0.4043862753593802, -1.8071493515932677, -1.3723541348893524, 1.0948479544848693, 0.9989596265551828, -0.6478008481453175, 1.4124754326601883, 0.4346882253946431, -0.7348738360323315, 0.870683905831478, 0.6579668551742296, -1.9940535889544115, -0.005078270571319728, 1.3365837181328428, 0.10899587834151302, 0.9165248381194471, -0.6368591137339633, 0.7119659996376386, 0.986580694631742, 0.416081849948451, 0.5352805242252674, 0.5208318750173206, 0.9571424944340965, -0.3901599757044315, -1.1401073992251733, 0.3340180184206363, 0.7406991050707952, 0.4647617310146391, 1.2959649906828112, -0.47230962246013475, 0.1567297692468287, -0.37393093428584573, 1.2767768262192751, 0.3461111052548227, -1.022476851684093, 0.6349317486094176, -0.15101842538131852, 0.033728646201024046, 0.2667964330454267, 1.0629785526860123, -1.0917878409952968, -0.3582307526329137, 0.5524824823445418, -1.0013894542109176, -1.9607511780597788, -2.7722741185384954, 0.01864704728907342, 0.6571359736547979, 1.7367344460001817, 0.32949603949899275, 0.42953810085154065, -0.6237116485501133, 0.20610138838812966, 1.1257106532373393, 0.07309187136866693, 0.1825421452130804, -1.410613394522949, 0.32020366902474606, -0.1891096779802458, 1.1968104396498749], \"yaxis\": \"y14\"}, {\"line\": {\"color\": \"rgba(128, 128, 128, 1.0)\", \"dash\": \"solid\", \"shape\": \"linear\", \"width\": 1.3}, \"marker\": {\"size\": 2, \"symbol\": \"circle\"}, \"mode\": \"markers\", \"name\": \"D\", \"text\": \"\", \"type\": \"scatter\", \"x\": [0.13873828079658243, 0.004189153867128753, 0.09682297277796335, -1.944173718156881, -1.509648123220136, -0.2562642772096215, 1.1425384061525947, 1.8381697029094315, -0.89523389287459, -0.11167869593903061, 1.868391686565969, 0.926008375873174, -0.5375160643538771, -2.21354100606647, 0.13758441049616993, -1.6127200438386537, 0.836629941326483, 0.982639029672047, -1.4267965171737238, -0.7340729325482471, 0.33979196381839, -0.0975870854132879, -0.6148688825087985, 0.5147673433285442, -0.9481706485625584, -0.04271544928766234, 1.3243642261933142, -0.8546463501044619, -0.599297728305147, 0.04548785985911168, -0.4811079491622432, -1.774406825632185, -0.7702693340792561, -0.4748276882281734, 0.9768466741741556, 0.6901701186316009, -0.3163663233169675, 0.21287078406361903, 1.136115798865693, 0.33720867240916724, 1.033480878886706, -0.185564645796627, -0.10859162252684647, 0.0011082298498769818, -1.1007152668847089, 0.590790643787503, 0.7924839944953712, 1.1310755853681902, 0.20678821376316955, 0.24112123763139306, 1.2357128959168289, -0.49945309036356245, -0.3438373786786498, -1.974197190227374, -0.17757562574931995, -1.477475520667104, -1.3876057638569905, 0.7462505236735426, -0.8287043340198685, -0.3133316893236558, 0.055715575088475404, -1.9505041054363514, -0.7276070321344944, -0.34043567190802565, 0.606938441762185, 1.3179143702571974, -0.7809922643385032, -0.32097787481639667, 0.4256234210720113, -0.07335408475851667, 0.3671507620785513, 0.02747103411586101, -0.03694446480914026, 1.3688673794512007, 1.0148027798988821, -0.39597774323778956, 0.5455817623527611, -1.1833906968924781, 0.5047148544381632, -0.9086647103866449, -0.5041775256575728, -3.2175858667536223, -1.4626369755166713, -0.8760406447373471, -1.5329422094336318, -0.07856244032320203, 0.7258509590435329, -0.7169536298739123, 0.47821301919925535, -1.6070953362840454, 0.18492608791772172, 0.4831953421913388, -0.46527559209292835, -0.057744579710930236, 2.0151435673920908, -1.202496502277343, 1.1154447255484976, -1.8995728472275581, -0.07759942120844565, 0.5096943059187304], \"xaxis\": \"x15\", \"y\": [-0.4337879491334362, 0.7976012586008668, 0.04679388847070139, 0.8210509017025851, -0.47737624449913807, -2.7113749177309034, -0.3467805670259546, -0.9656770508426309, 0.26838356597477203, 1.111511291342199, -0.3724119499893848, -0.6879024860078657, 0.12543381105475546, 1.5141660057493092, 0.0031518850461970446, -1.8862220831122953, -0.8366577378678488, 0.24412695824901426, -0.29940606815106224, -1.108196501494843, -1.3682950024746594, -2.3631574734573317, -3.0855407392711185, -0.8490098793244223, -0.27307010329833803, -0.2364030920459769, 0.6643850678309491, -0.3928846608662631, -1.1134663891849492, 0.5259166824485958, 1.2767655084421516, 0.0354705094250525, -0.22469254344204675, 1.6272211270560817, -0.414669543582508, 0.7139322291458065, -2.470709743384897, 1.5386164967793026, 0.7160072919906816, 0.1417813834395697, -0.4043862753593802, -1.8071493515932677, -1.3723541348893524, 1.0948479544848693, 0.9989596265551828, -0.6478008481453175, 1.4124754326601883, 0.4346882253946431, -0.7348738360323315, 0.870683905831478, 0.6579668551742296, -1.9940535889544115, -0.005078270571319728, 1.3365837181328428, 0.10899587834151302, 0.9165248381194471, -0.6368591137339633, 0.7119659996376386, 0.986580694631742, 0.416081849948451, 0.5352805242252674, 0.5208318750173206, 0.9571424944340965, -0.3901599757044315, -1.1401073992251733, 0.3340180184206363, 0.7406991050707952, 0.4647617310146391, 1.2959649906828112, -0.47230962246013475, 0.1567297692468287, -0.37393093428584573, 1.2767768262192751, 0.3461111052548227, -1.022476851684093, 0.6349317486094176, -0.15101842538131852, 0.033728646201024046, 0.2667964330454267, 1.0629785526860123, -1.0917878409952968, -0.3582307526329137, 0.5524824823445418, -1.0013894542109176, -1.9607511780597788, -2.7722741185384954, 0.01864704728907342, 0.6571359736547979, 1.7367344460001817, 0.32949603949899275, 0.42953810085154065, -0.6237116485501133, 0.20610138838812966, 1.1257106532373393, 0.07309187136866693, 0.1825421452130804, -1.410613394522949, 0.32020366902474606, -0.1891096779802458, 1.1968104396498749], \"yaxis\": \"y15\"}, {\"histfunc\": \"count\", \"histnorm\": \"\", \"marker\": {\"color\": \"rgba(128, 0, 128, 1.0)\", \"line\": {\"color\": \"#4D5663\", \"width\": 1.3}}, \"name\": \"D\", \"nbinsx\": 10, \"opacity\": 0.8, \"orientation\": \"v\", \"type\": \"histogram\", \"x\": [-0.4337879491334362, 0.7976012586008668, 0.04679388847070139, 0.8210509017025851, -0.47737624449913807, -2.7113749177309034, -0.3467805670259546, -0.9656770508426309, 0.26838356597477203, 1.111511291342199, -0.3724119499893848, -0.6879024860078657, 0.12543381105475546, 1.5141660057493092, 0.0031518850461970446, -1.8862220831122953, -0.8366577378678488, 0.24412695824901426, -0.29940606815106224, -1.108196501494843, -1.3682950024746594, -2.3631574734573317, -3.0855407392711185, -0.8490098793244223, -0.27307010329833803, -0.2364030920459769, 0.6643850678309491, -0.3928846608662631, -1.1134663891849492, 0.5259166824485958, 1.2767655084421516, 0.0354705094250525, -0.22469254344204675, 1.6272211270560817, -0.414669543582508, 0.7139322291458065, -2.470709743384897, 1.5386164967793026, 0.7160072919906816, 0.1417813834395697, -0.4043862753593802, -1.8071493515932677, -1.3723541348893524, 1.0948479544848693, 0.9989596265551828, -0.6478008481453175, 1.4124754326601883, 0.4346882253946431, -0.7348738360323315, 0.870683905831478, 0.6579668551742296, -1.9940535889544115, -0.005078270571319728, 1.3365837181328428, 0.10899587834151302, 0.9165248381194471, -0.6368591137339633, 0.7119659996376386, 0.986580694631742, 0.416081849948451, 0.5352805242252674, 0.5208318750173206, 0.9571424944340965, -0.3901599757044315, -1.1401073992251733, 0.3340180184206363, 0.7406991050707952, 0.4647617310146391, 1.2959649906828112, -0.47230962246013475, 0.1567297692468287, -0.37393093428584573, 1.2767768262192751, 0.3461111052548227, -1.022476851684093, 0.6349317486094176, -0.15101842538131852, 0.033728646201024046, 0.2667964330454267, 1.0629785526860123, -1.0917878409952968, -0.3582307526329137, 0.5524824823445418, -1.0013894542109176, -1.9607511780597788, -2.7722741185384954, 0.01864704728907342, 0.6571359736547979, 1.7367344460001817, 0.32949603949899275, 0.42953810085154065, -0.6237116485501133, 0.20610138838812966, 1.1257106532373393, 0.07309187136866693, 0.1825421452130804, -1.410613394522949, 0.32020366902474606, -0.1891096779802458, 1.1968104396498749], \"xaxis\": \"x16\", \"yaxis\": \"y16\"}],\n",
       "                        {\"bargap\": 0.02, \"legend\": {\"bgcolor\": \"#F5F6F9\", \"font\": {\"color\": \"#4D5663\"}}, \"paper_bgcolor\": \"#F5F6F9\", \"plot_bgcolor\": \"#F5F6F9\", \"showlegend\": false, \"template\": {\"data\": {\"bar\": [{\"error_x\": {\"color\": \"#2a3f5f\"}, \"error_y\": {\"color\": \"#2a3f5f\"}, \"marker\": {\"line\": {\"color\": \"#E5ECF6\", \"width\": 0.5}}, \"type\": \"bar\"}], \"barpolar\": [{\"marker\": {\"line\": {\"color\": \"#E5ECF6\", \"width\": 0.5}}, \"type\": \"barpolar\"}], \"carpet\": [{\"aaxis\": {\"endlinecolor\": \"#2a3f5f\", \"gridcolor\": \"white\", \"linecolor\": \"white\", \"minorgridcolor\": \"white\", \"startlinecolor\": \"#2a3f5f\"}, \"baxis\": {\"endlinecolor\": \"#2a3f5f\", \"gridcolor\": \"white\", \"linecolor\": \"white\", \"minorgridcolor\": \"white\", \"startlinecolor\": \"#2a3f5f\"}, \"type\": \"carpet\"}], \"choropleth\": [{\"colorbar\": {\"outlinewidth\": 0, \"ticks\": \"\"}, \"type\": \"choropleth\"}], \"contour\": [{\"colorbar\": {\"outlinewidth\": 0, \"ticks\": \"\"}, \"colorscale\": [[0.0, \"#0d0887\"], [0.1111111111111111, \"#46039f\"], [0.2222222222222222, \"#7201a8\"], [0.3333333333333333, \"#9c179e\"], [0.4444444444444444, \"#bd3786\"], [0.5555555555555556, \"#d8576b\"], [0.6666666666666666, \"#ed7953\"], [0.7777777777777778, \"#fb9f3a\"], [0.8888888888888888, \"#fdca26\"], [1.0, \"#f0f921\"]], \"type\": \"contour\"}], \"contourcarpet\": [{\"colorbar\": {\"outlinewidth\": 0, \"ticks\": \"\"}, \"type\": \"contourcarpet\"}], \"heatmap\": [{\"colorbar\": {\"outlinewidth\": 0, \"ticks\": \"\"}, \"colorscale\": [[0.0, \"#0d0887\"], [0.1111111111111111, \"#46039f\"], [0.2222222222222222, \"#7201a8\"], [0.3333333333333333, \"#9c179e\"], [0.4444444444444444, \"#bd3786\"], [0.5555555555555556, \"#d8576b\"], [0.6666666666666666, \"#ed7953\"], [0.7777777777777778, \"#fb9f3a\"], [0.8888888888888888, \"#fdca26\"], [1.0, \"#f0f921\"]], \"type\": \"heatmap\"}], \"heatmapgl\": [{\"colorbar\": {\"outlinewidth\": 0, \"ticks\": \"\"}, \"colorscale\": [[0.0, \"#0d0887\"], [0.1111111111111111, \"#46039f\"], [0.2222222222222222, \"#7201a8\"], [0.3333333333333333, \"#9c179e\"], [0.4444444444444444, \"#bd3786\"], [0.5555555555555556, \"#d8576b\"], [0.6666666666666666, \"#ed7953\"], [0.7777777777777778, \"#fb9f3a\"], [0.8888888888888888, \"#fdca26\"], [1.0, \"#f0f921\"]], \"type\": \"heatmapgl\"}], \"histogram\": [{\"marker\": {\"colorbar\": {\"outlinewidth\": 0, \"ticks\": \"\"}}, \"type\": \"histogram\"}], \"histogram2d\": [{\"colorbar\": {\"outlinewidth\": 0, \"ticks\": \"\"}, \"colorscale\": [[0.0, \"#0d0887\"], [0.1111111111111111, \"#46039f\"], [0.2222222222222222, \"#7201a8\"], [0.3333333333333333, \"#9c179e\"], [0.4444444444444444, \"#bd3786\"], [0.5555555555555556, \"#d8576b\"], [0.6666666666666666, \"#ed7953\"], [0.7777777777777778, \"#fb9f3a\"], [0.8888888888888888, \"#fdca26\"], [1.0, \"#f0f921\"]], \"type\": \"histogram2d\"}], \"histogram2dcontour\": [{\"colorbar\": {\"outlinewidth\": 0, \"ticks\": \"\"}, \"colorscale\": [[0.0, \"#0d0887\"], [0.1111111111111111, \"#46039f\"], [0.2222222222222222, \"#7201a8\"], [0.3333333333333333, \"#9c179e\"], [0.4444444444444444, \"#bd3786\"], [0.5555555555555556, \"#d8576b\"], [0.6666666666666666, \"#ed7953\"], [0.7777777777777778, \"#fb9f3a\"], [0.8888888888888888, \"#fdca26\"], [1.0, \"#f0f921\"]], \"type\": \"histogram2dcontour\"}], \"mesh3d\": [{\"colorbar\": {\"outlinewidth\": 0, \"ticks\": \"\"}, \"type\": \"mesh3d\"}], \"parcoords\": [{\"line\": {\"colorbar\": {\"outlinewidth\": 0, \"ticks\": \"\"}}, \"type\": \"parcoords\"}], \"pie\": [{\"automargin\": true, \"type\": \"pie\"}], \"scatter\": [{\"marker\": {\"colorbar\": {\"outlinewidth\": 0, \"ticks\": \"\"}}, \"type\": \"scatter\"}], \"scatter3d\": [{\"line\": {\"colorbar\": {\"outlinewidth\": 0, \"ticks\": \"\"}}, \"marker\": {\"colorbar\": {\"outlinewidth\": 0, \"ticks\": \"\"}}, \"type\": \"scatter3d\"}], \"scattercarpet\": [{\"marker\": {\"colorbar\": {\"outlinewidth\": 0, \"ticks\": \"\"}}, \"type\": \"scattercarpet\"}], \"scattergeo\": [{\"marker\": {\"colorbar\": {\"outlinewidth\": 0, \"ticks\": \"\"}}, \"type\": \"scattergeo\"}], \"scattergl\": [{\"marker\": {\"colorbar\": {\"outlinewidth\": 0, \"ticks\": \"\"}}, \"type\": \"scattergl\"}], \"scattermapbox\": [{\"marker\": {\"colorbar\": {\"outlinewidth\": 0, \"ticks\": \"\"}}, \"type\": \"scattermapbox\"}], \"scatterpolar\": [{\"marker\": {\"colorbar\": {\"outlinewidth\": 0, \"ticks\": \"\"}}, \"type\": \"scatterpolar\"}], \"scatterpolargl\": [{\"marker\": {\"colorbar\": {\"outlinewidth\": 0, \"ticks\": \"\"}}, \"type\": \"scatterpolargl\"}], \"scatterternary\": [{\"marker\": {\"colorbar\": {\"outlinewidth\": 0, \"ticks\": \"\"}}, \"type\": \"scatterternary\"}], \"surface\": [{\"colorbar\": {\"outlinewidth\": 0, \"ticks\": \"\"}, \"colorscale\": [[0.0, \"#0d0887\"], [0.1111111111111111, \"#46039f\"], [0.2222222222222222, \"#7201a8\"], [0.3333333333333333, \"#9c179e\"], [0.4444444444444444, \"#bd3786\"], [0.5555555555555556, \"#d8576b\"], [0.6666666666666666, \"#ed7953\"], [0.7777777777777778, \"#fb9f3a\"], [0.8888888888888888, \"#fdca26\"], [1.0, \"#f0f921\"]], \"type\": \"surface\"}], \"table\": [{\"cells\": {\"fill\": {\"color\": \"#EBF0F8\"}, \"line\": {\"color\": \"white\"}}, \"header\": {\"fill\": {\"color\": \"#C8D4E3\"}, \"line\": {\"color\": \"white\"}}, \"type\": \"table\"}]}, \"layout\": {\"annotationdefaults\": {\"arrowcolor\": \"#2a3f5f\", \"arrowhead\": 0, \"arrowwidth\": 1}, \"coloraxis\": {\"colorbar\": {\"outlinewidth\": 0, \"ticks\": \"\"}}, \"colorscale\": {\"diverging\": [[0, \"#8e0152\"], [0.1, \"#c51b7d\"], [0.2, \"#de77ae\"], [0.3, \"#f1b6da\"], [0.4, \"#fde0ef\"], [0.5, \"#f7f7f7\"], [0.6, \"#e6f5d0\"], [0.7, \"#b8e186\"], [0.8, \"#7fbc41\"], [0.9, \"#4d9221\"], [1, \"#276419\"]], \"sequential\": [[0.0, \"#0d0887\"], [0.1111111111111111, \"#46039f\"], [0.2222222222222222, \"#7201a8\"], [0.3333333333333333, \"#9c179e\"], [0.4444444444444444, \"#bd3786\"], [0.5555555555555556, \"#d8576b\"], [0.6666666666666666, \"#ed7953\"], [0.7777777777777778, \"#fb9f3a\"], [0.8888888888888888, \"#fdca26\"], [1.0, \"#f0f921\"]], \"sequentialminus\": [[0.0, \"#0d0887\"], [0.1111111111111111, \"#46039f\"], [0.2222222222222222, \"#7201a8\"], [0.3333333333333333, \"#9c179e\"], [0.4444444444444444, \"#bd3786\"], [0.5555555555555556, \"#d8576b\"], [0.6666666666666666, \"#ed7953\"], [0.7777777777777778, \"#fb9f3a\"], [0.8888888888888888, \"#fdca26\"], [1.0, \"#f0f921\"]]}, \"colorway\": [\"#636efa\", \"#EF553B\", \"#00cc96\", \"#ab63fa\", \"#FFA15A\", \"#19d3f3\", \"#FF6692\", \"#B6E880\", \"#FF97FF\", \"#FECB52\"], \"font\": {\"color\": \"#2a3f5f\"}, \"geo\": {\"bgcolor\": \"white\", \"lakecolor\": \"white\", \"landcolor\": \"#E5ECF6\", \"showlakes\": true, \"showland\": true, \"subunitcolor\": \"white\"}, \"hoverlabel\": {\"align\": \"left\"}, \"hovermode\": \"closest\", \"mapbox\": {\"style\": \"light\"}, \"paper_bgcolor\": \"white\", \"plot_bgcolor\": \"#E5ECF6\", \"polar\": {\"angularaxis\": {\"gridcolor\": \"white\", \"linecolor\": \"white\", \"ticks\": \"\"}, \"bgcolor\": \"#E5ECF6\", \"radialaxis\": {\"gridcolor\": \"white\", \"linecolor\": \"white\", \"ticks\": \"\"}}, \"scene\": {\"xaxis\": {\"backgroundcolor\": \"#E5ECF6\", \"gridcolor\": \"white\", \"gridwidth\": 2, \"linecolor\": \"white\", \"showbackground\": true, \"ticks\": \"\", \"zerolinecolor\": \"white\"}, \"yaxis\": {\"backgroundcolor\": \"#E5ECF6\", \"gridcolor\": \"white\", \"gridwidth\": 2, \"linecolor\": \"white\", \"showbackground\": true, \"ticks\": \"\", \"zerolinecolor\": \"white\"}, \"zaxis\": {\"backgroundcolor\": \"#E5ECF6\", \"gridcolor\": \"white\", \"gridwidth\": 2, \"linecolor\": \"white\", \"showbackground\": true, \"ticks\": \"\", \"zerolinecolor\": \"white\"}}, \"shapedefaults\": {\"line\": {\"color\": \"#2a3f5f\"}}, \"ternary\": {\"aaxis\": {\"gridcolor\": \"white\", \"linecolor\": \"white\", \"ticks\": \"\"}, \"baxis\": {\"gridcolor\": \"white\", \"linecolor\": \"white\", \"ticks\": \"\"}, \"bgcolor\": \"#E5ECF6\", \"caxis\": {\"gridcolor\": \"white\", \"linecolor\": \"white\", \"ticks\": \"\"}}, \"title\": {\"x\": 0.05}, \"xaxis\": {\"automargin\": true, \"gridcolor\": \"white\", \"linecolor\": \"white\", \"ticks\": \"\", \"title\": {\"standoff\": 15}, \"zerolinecolor\": \"white\", \"zerolinewidth\": 2}, \"yaxis\": {\"automargin\": true, \"gridcolor\": \"white\", \"linecolor\": \"white\", \"ticks\": \"\", \"title\": {\"standoff\": 15}, \"zerolinecolor\": \"white\", \"zerolinewidth\": 2}}}, \"title\": {\"font\": {\"color\": \"#4D5663\"}}, \"xaxis\": {\"anchor\": \"y\", \"domain\": [0.0, 0.2125], \"gridcolor\": \"#E1E5ED\", \"showgrid\": false, \"tickfont\": {\"color\": \"#4D5663\"}, \"title\": {\"font\": {\"color\": \"#4D5663\"}, \"text\": \"\"}, \"zerolinecolor\": \"#E1E5ED\"}, \"xaxis10\": {\"anchor\": \"y10\", \"domain\": [0.2625, 0.475], \"gridcolor\": \"#E1E5ED\", \"showgrid\": false, \"tickfont\": {\"color\": \"#4D5663\"}, \"title\": {\"font\": {\"color\": \"#4D5663\"}, \"text\": \"\"}, \"zerolinecolor\": \"#E1E5ED\"}, \"xaxis11\": {\"anchor\": \"y11\", \"domain\": [0.525, 0.7375], \"gridcolor\": \"#E1E5ED\", \"showgrid\": false, \"tickfont\": {\"color\": \"#4D5663\"}, \"title\": {\"font\": {\"color\": \"#4D5663\"}, \"text\": \"\"}, \"zerolinecolor\": \"#E1E5ED\"}, \"xaxis12\": {\"anchor\": \"y12\", \"domain\": [0.7875, 1.0], \"gridcolor\": \"#E1E5ED\", \"showgrid\": false, \"tickfont\": {\"color\": \"#4D5663\"}, \"title\": {\"font\": {\"color\": \"#4D5663\"}, \"text\": \"\"}, \"zerolinecolor\": \"#E1E5ED\"}, \"xaxis13\": {\"anchor\": \"y13\", \"domain\": [0.0, 0.2125], \"gridcolor\": \"#E1E5ED\", \"showgrid\": false, \"tickfont\": {\"color\": \"#4D5663\"}, \"title\": {\"font\": {\"color\": \"#4D5663\"}, \"text\": \"\"}, \"zerolinecolor\": \"#E1E5ED\"}, \"xaxis14\": {\"anchor\": \"y14\", \"domain\": [0.2625, 0.475], \"gridcolor\": \"#E1E5ED\", \"showgrid\": false, \"tickfont\": {\"color\": \"#4D5663\"}, \"title\": {\"font\": {\"color\": \"#4D5663\"}, \"text\": \"\"}, \"zerolinecolor\": \"#E1E5ED\"}, \"xaxis15\": {\"anchor\": \"y15\", \"domain\": [0.525, 0.7375], \"gridcolor\": \"#E1E5ED\", \"showgrid\": false, \"tickfont\": {\"color\": \"#4D5663\"}, \"title\": {\"font\": {\"color\": \"#4D5663\"}, \"text\": \"\"}, \"zerolinecolor\": \"#E1E5ED\"}, \"xaxis16\": {\"anchor\": \"y16\", \"domain\": [0.7875, 1.0], \"gridcolor\": \"#E1E5ED\", \"showgrid\": false, \"tickfont\": {\"color\": \"#4D5663\"}, \"title\": {\"font\": {\"color\": \"#4D5663\"}, \"text\": \"\"}, \"zerolinecolor\": \"#E1E5ED\"}, \"xaxis2\": {\"anchor\": \"y2\", \"domain\": [0.2625, 0.475], \"gridcolor\": \"#E1E5ED\", \"showgrid\": false, \"tickfont\": {\"color\": \"#4D5663\"}, \"title\": {\"font\": {\"color\": \"#4D5663\"}, \"text\": \"\"}, \"zerolinecolor\": \"#E1E5ED\"}, \"xaxis3\": {\"anchor\": \"y3\", \"domain\": [0.525, 0.7375], \"gridcolor\": \"#E1E5ED\", \"showgrid\": false, \"tickfont\": {\"color\": \"#4D5663\"}, \"title\": {\"font\": {\"color\": \"#4D5663\"}, \"text\": \"\"}, \"zerolinecolor\": \"#E1E5ED\"}, \"xaxis4\": {\"anchor\": \"y4\", \"domain\": [0.7875, 1.0], \"gridcolor\": \"#E1E5ED\", \"showgrid\": false, \"tickfont\": {\"color\": \"#4D5663\"}, \"title\": {\"font\": {\"color\": \"#4D5663\"}, \"text\": \"\"}, \"zerolinecolor\": \"#E1E5ED\"}, \"xaxis5\": {\"anchor\": \"y5\", \"domain\": [0.0, 0.2125], \"gridcolor\": \"#E1E5ED\", \"showgrid\": false, \"tickfont\": {\"color\": \"#4D5663\"}, \"title\": {\"font\": {\"color\": \"#4D5663\"}, \"text\": \"\"}, \"zerolinecolor\": \"#E1E5ED\"}, \"xaxis6\": {\"anchor\": \"y6\", \"domain\": [0.2625, 0.475], \"gridcolor\": \"#E1E5ED\", \"showgrid\": false, \"tickfont\": {\"color\": \"#4D5663\"}, \"title\": {\"font\": {\"color\": \"#4D5663\"}, \"text\": \"\"}, \"zerolinecolor\": \"#E1E5ED\"}, \"xaxis7\": {\"anchor\": \"y7\", \"domain\": [0.525, 0.7375], \"gridcolor\": \"#E1E5ED\", \"showgrid\": false, \"tickfont\": {\"color\": \"#4D5663\"}, \"title\": {\"font\": {\"color\": \"#4D5663\"}, \"text\": \"\"}, \"zerolinecolor\": \"#E1E5ED\"}, \"xaxis8\": {\"anchor\": \"y8\", \"domain\": [0.7875, 1.0], \"gridcolor\": \"#E1E5ED\", \"showgrid\": false, \"tickfont\": {\"color\": \"#4D5663\"}, \"title\": {\"font\": {\"color\": \"#4D5663\"}, \"text\": \"\"}, \"zerolinecolor\": \"#E1E5ED\"}, \"xaxis9\": {\"anchor\": \"y9\", \"domain\": [0.0, 0.2125], \"gridcolor\": \"#E1E5ED\", \"showgrid\": false, \"tickfont\": {\"color\": \"#4D5663\"}, \"title\": {\"font\": {\"color\": \"#4D5663\"}, \"text\": \"\"}, \"zerolinecolor\": \"#E1E5ED\"}, \"yaxis\": {\"anchor\": \"x\", \"domain\": [0.8025, 1.0], \"gridcolor\": \"#E1E5ED\", \"showgrid\": false, \"tickfont\": {\"color\": \"#4D5663\"}, \"title\": {\"font\": {\"color\": \"#4D5663\"}, \"text\": \"\"}, \"zerolinecolor\": \"#E1E5ED\"}, \"yaxis10\": {\"anchor\": \"x10\", \"domain\": [0.2675, 0.465], \"gridcolor\": \"#E1E5ED\", \"showgrid\": false, \"tickfont\": {\"color\": \"#4D5663\"}, \"title\": {\"font\": {\"color\": \"#4D5663\"}, \"text\": \"\"}, \"zerolinecolor\": \"#E1E5ED\"}, \"yaxis11\": {\"anchor\": \"x11\", \"domain\": [0.2675, 0.465], \"gridcolor\": \"#E1E5ED\", \"showgrid\": false, \"tickfont\": {\"color\": \"#4D5663\"}, \"title\": {\"font\": {\"color\": \"#4D5663\"}, \"text\": \"\"}, \"zerolinecolor\": \"#E1E5ED\"}, \"yaxis12\": {\"anchor\": \"x12\", \"domain\": [0.2675, 0.465], \"gridcolor\": \"#E1E5ED\", \"showgrid\": false, \"tickfont\": {\"color\": \"#4D5663\"}, \"title\": {\"font\": {\"color\": \"#4D5663\"}, \"text\": \"\"}, \"zerolinecolor\": \"#E1E5ED\"}, \"yaxis13\": {\"anchor\": \"x13\", \"domain\": [0.0, 0.1975], \"gridcolor\": \"#E1E5ED\", \"showgrid\": false, \"tickfont\": {\"color\": \"#4D5663\"}, \"title\": {\"font\": {\"color\": \"#4D5663\"}, \"text\": \"\"}, \"zerolinecolor\": \"#E1E5ED\"}, \"yaxis14\": {\"anchor\": \"x14\", \"domain\": [0.0, 0.1975], \"gridcolor\": \"#E1E5ED\", \"showgrid\": false, \"tickfont\": {\"color\": \"#4D5663\"}, \"title\": {\"font\": {\"color\": \"#4D5663\"}, \"text\": \"\"}, \"zerolinecolor\": \"#E1E5ED\"}, \"yaxis15\": {\"anchor\": \"x15\", \"domain\": [0.0, 0.1975], \"gridcolor\": \"#E1E5ED\", \"showgrid\": false, \"tickfont\": {\"color\": \"#4D5663\"}, \"title\": {\"font\": {\"color\": \"#4D5663\"}, \"text\": \"\"}, \"zerolinecolor\": \"#E1E5ED\"}, \"yaxis16\": {\"anchor\": \"x16\", \"domain\": [0.0, 0.1975], \"gridcolor\": \"#E1E5ED\", \"showgrid\": false, \"tickfont\": {\"color\": \"#4D5663\"}, \"title\": {\"font\": {\"color\": \"#4D5663\"}, \"text\": \"\"}, \"zerolinecolor\": \"#E1E5ED\"}, \"yaxis2\": {\"anchor\": \"x2\", \"domain\": [0.8025, 1.0], \"gridcolor\": \"#E1E5ED\", \"showgrid\": false, \"tickfont\": {\"color\": \"#4D5663\"}, \"title\": {\"font\": {\"color\": \"#4D5663\"}, \"text\": \"\"}, \"zerolinecolor\": \"#E1E5ED\"}, \"yaxis3\": {\"anchor\": \"x3\", \"domain\": [0.8025, 1.0], \"gridcolor\": \"#E1E5ED\", \"showgrid\": false, \"tickfont\": {\"color\": \"#4D5663\"}, \"title\": {\"font\": {\"color\": \"#4D5663\"}, \"text\": \"\"}, \"zerolinecolor\": \"#E1E5ED\"}, \"yaxis4\": {\"anchor\": \"x4\", \"domain\": [0.8025, 1.0], \"gridcolor\": \"#E1E5ED\", \"showgrid\": false, \"tickfont\": {\"color\": \"#4D5663\"}, \"title\": {\"font\": {\"color\": \"#4D5663\"}, \"text\": \"\"}, \"zerolinecolor\": \"#E1E5ED\"}, \"yaxis5\": {\"anchor\": \"x5\", \"domain\": [0.535, 0.7325], \"gridcolor\": \"#E1E5ED\", \"showgrid\": false, \"tickfont\": {\"color\": \"#4D5663\"}, \"title\": {\"font\": {\"color\": \"#4D5663\"}, \"text\": \"\"}, \"zerolinecolor\": \"#E1E5ED\"}, \"yaxis6\": {\"anchor\": \"x6\", \"domain\": [0.535, 0.7325], \"gridcolor\": \"#E1E5ED\", \"showgrid\": false, \"tickfont\": {\"color\": \"#4D5663\"}, \"title\": {\"font\": {\"color\": \"#4D5663\"}, \"text\": \"\"}, \"zerolinecolor\": \"#E1E5ED\"}, \"yaxis7\": {\"anchor\": \"x7\", \"domain\": [0.535, 0.7325], \"gridcolor\": \"#E1E5ED\", \"showgrid\": false, \"tickfont\": {\"color\": \"#4D5663\"}, \"title\": {\"font\": {\"color\": \"#4D5663\"}, \"text\": \"\"}, \"zerolinecolor\": \"#E1E5ED\"}, \"yaxis8\": {\"anchor\": \"x8\", \"domain\": [0.535, 0.7325], \"gridcolor\": \"#E1E5ED\", \"showgrid\": false, \"tickfont\": {\"color\": \"#4D5663\"}, \"title\": {\"font\": {\"color\": \"#4D5663\"}, \"text\": \"\"}, \"zerolinecolor\": \"#E1E5ED\"}, \"yaxis9\": {\"anchor\": \"x9\", \"domain\": [0.2675, 0.465], \"gridcolor\": \"#E1E5ED\", \"showgrid\": false, \"tickfont\": {\"color\": \"#4D5663\"}, \"title\": {\"font\": {\"color\": \"#4D5663\"}, \"text\": \"\"}, \"zerolinecolor\": \"#E1E5ED\"}},\n",
       "                        {\"showLink\": true, \"linkText\": \"Export to plot.ly\", \"plotlyServerURL\": \"https://plot.ly\", \"responsive\": true}\n",
       "                    ).then(function(){\n",
       "                            \n",
       "var gd = document.getElementById('6e327cb1-d03b-4bcf-ba62-395e14cda378');\n",
       "var x = new MutationObserver(function (mutations, observer) {{\n",
       "        var display = window.getComputedStyle(gd).display;\n",
       "        if (!display || display === 'none') {{\n",
       "            console.log([gd, 'removed!']);\n",
       "            Plotly.purge(gd);\n",
       "            observer.disconnect();\n",
       "        }}\n",
       "}});\n",
       "\n",
       "// Listen for the removal of the full notebook cells\n",
       "var notebookContainer = gd.closest('#notebook-container');\n",
       "if (notebookContainer) {{\n",
       "    x.observe(notebookContainer, {childList: true});\n",
       "}}\n",
       "\n",
       "// Listen for the clearing of the current output cell\n",
       "var outputEl = gd.closest('.output');\n",
       "if (outputEl) {{\n",
       "    x.observe(outputEl, {childList: true});\n",
       "}}\n",
       "\n",
       "                        })\n",
       "                };\n",
       "                });\n",
       "            </script>\n",
       "        </div>"
      ]
     },
     "metadata": {},
     "output_type": "display_data"
    }
   ],
   "source": [
    "df.scatter_matrix()"
   ]
  },
  {
   "cell_type": "code",
   "execution_count": null,
   "metadata": {},
   "outputs": [],
   "source": []
  },
  {
   "cell_type": "code",
   "execution_count": null,
   "metadata": {},
   "outputs": [],
   "source": []
  }
 ],
 "metadata": {
  "kernelspec": {
   "display_name": "Python 3",
   "language": "python",
   "name": "python3"
  },
  "language_info": {
   "codemirror_mode": {
    "name": "ipython",
    "version": 3
   },
   "file_extension": ".py",
   "mimetype": "text/x-python",
   "name": "python",
   "nbconvert_exporter": "python",
   "pygments_lexer": "ipython3",
   "version": "3.7.4"
  }
 },
 "nbformat": 4,
 "nbformat_minor": 2
}
